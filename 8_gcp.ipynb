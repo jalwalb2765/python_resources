{
 "cells": [
  {
   "cell_type": "code",
   "execution_count": 25,
   "id": "f0dc91fa-d213-4883-a63a-4d6535a78d1a",
   "metadata": {},
   "outputs": [],
   "source": [
    "import pandas as pd\n",
    "import pickle"
   ]
  },
  {
   "cell_type": "markdown",
   "id": "1fd5394a-4f65-47a6-afde-1df6273fec0b",
   "metadata": {},
   "source": [
    "# Google Cloud Platform"
   ]
  },
  {
   "cell_type": "markdown",
   "id": "d52d0cc9-a354-45e5-bdf1-64bcd99e50f8",
   "metadata": {},
   "source": [
    "## Enable GCP Services (From LeWagon Bootcamp)"
   ]
  },
  {
   "cell_type": "markdown",
   "id": "bceb856b-2c63-410f-9e9b-4be486b31f9a",
   "metadata": {},
   "source": [
    "### Configure Cloud sdk\n",
    "\n",
    "Authenticate the gcloud CLI with the google account you used for GCP"
   ]
  },
  {
   "cell_type": "code",
   "execution_count": null,
   "id": "86c50bf5-f886-4910-88de-ad754aa0be80",
   "metadata": {},
   "outputs": [],
   "source": [
    "!gcloud auth login"
   ]
  },
  {
   "cell_type": "markdown",
   "id": "e26f90fa-0eed-4f56-a10b-4697b7193769",
   "metadata": {},
   "source": [
    "Login to your Google account on the new tab opened in your web browser\n",
    "\n",
    "List your active account and check your email address you used for GCP is present"
   ]
  },
  {
   "cell_type": "code",
   "execution_count": null,
   "id": "76f0e30b-12fb-408e-901b-fadc6a700ded",
   "metadata": {},
   "outputs": [],
   "source": [
    "!gcloud auth list"
   ]
  },
  {
   "cell_type": "markdown",
   "id": "a25dbb88-fce7-46de-b091-4d9b386e22cf",
   "metadata": {},
   "source": [
    "Set your current project (replace PROJECT_ID with the ID of your project, e.g. wagon-bootcamp-123456)"
   ]
  },
  {
   "cell_type": "code",
   "execution_count": null,
   "id": "a0ff955b-f5de-4ce7-9a07-d5a512af6219",
   "metadata": {},
   "outputs": [],
   "source": [
    "!gcloud config set project PROJECT_ID"
   ]
  },
  {
   "cell_type": "markdown",
   "id": "46cc1209-85e8-4bb1-b336-b8ec8cbb4b7d",
   "metadata": {},
   "source": [
    "List your active account and current project and check your project is present"
   ]
  },
  {
   "cell_type": "code",
   "execution_count": null,
   "id": "bfc70d14-060f-46f5-8105-f338fa4a6ea4",
   "metadata": {},
   "outputs": [],
   "source": [
    "!gcloud config list"
   ]
  },
  {
   "cell_type": "markdown",
   "id": "91d0e00f-88c2-4302-96d4-dd2ef6ba5b2b",
   "metadata": {},
   "source": [
    "### Create a service account key\n",
    "\n",
    "**See the process below on how to create it on GCP console**"
   ]
  },
  {
   "cell_type": "markdown",
   "id": "28bb22c8-d0f7-4293-b550-6d8f28d40a80",
   "metadata": {},
   "source": [
    "The browser has now saved the service account json file 🔑 in your downloads directory (it is named according to your service account name, something like le-wagon-data-123456789abc.json)\n",
    "\n",
    "Store the service account json file somewhere you'll remember, for example:"
   ]
  },
  {
   "cell_type": "code",
   "execution_count": null,
   "id": "4b6be59a-77ee-4b4a-8fd5-8e8ee8e5f98c",
   "metadata": {},
   "outputs": [],
   "source": [
    "/Users/MACOS_USERNAME/code/GITHUB_NICKNAME/gcp/SERVICE_ACCOUNT_JSON_FILE_CONTAINING_YOUR_SECRET_KEY.json"
   ]
  },
  {
   "cell_type": "markdown",
   "id": "5d2284bd-107b-43bf-bf95-64c3be994fb4",
   "metadata": {},
   "source": [
    "You can find the absolute path of a file by drag/dropping it into a terminal window.\n",
    "\n",
    "Store the absolute path to the JSON file as an environment variable:"
   ]
  },
  {
   "cell_type": "code",
   "execution_count": null,
   "id": "9e881894-9734-4727-bcf0-11081ac2c609",
   "metadata": {},
   "outputs": [],
   "source": [
    "!echo 'export GOOGLE_APPLICATION_CREDENTIALS=/path/to/the/SERVICE_ACCOUNT_JSON_FILE_CONTAINING_YOUR_SECRET_KEY.json' >> ~/.zshrc"
   ]
  },
  {
   "cell_type": "markdown",
   "id": "731c7654-a6cb-4d3e-8d18-c96f6d7af703",
   "metadata": {},
   "source": [
    "Note: every time you run this command, it will add this line to your zshrc file regardless of whether you already have it. If you made a mistake and need to fix it, preferably open the file and edit the line!\n",
    "\n",
    "You can do so by running this in the terminal!"
   ]
  },
  {
   "cell_type": "code",
   "execution_count": null,
   "id": "fed62703-2ae1-47eb-b2b1-dc78fd0ee28c",
   "metadata": {},
   "outputs": [],
   "source": [
    "!code ~/.zshrc"
   ]
  },
  {
   "cell_type": "markdown",
   "id": "54c4fb0d-4093-4905-a28b-ce96a2452f46",
   "metadata": {},
   "source": [
    "Restart your terminal and run:"
   ]
  },
  {
   "cell_type": "code",
   "execution_count": null,
   "id": "bd5ef290-faca-4f35-a015-c4ef8913333d",
   "metadata": {},
   "outputs": [],
   "source": [
    "!echo $GOOGLE_APPLICATION_CREDENTIALS"
   ]
  },
  {
   "cell_type": "markdown",
   "id": "4c6dbf57-1c1a-4969-b5b6-3a66e9c9568e",
   "metadata": {},
   "source": [
    "The ouptut should be the following:"
   ]
  },
  {
   "cell_type": "code",
   "execution_count": null,
   "id": "9cb1fe21-8f48-4282-88cd-6da6de2bbfd1",
   "metadata": {},
   "outputs": [],
   "source": [
    "/some/absolute/path/to/your/gcp/SERVICE_ACCOUNT_JSON_FILE_CONTAINING_YOUR_SECRET_KEY.json"
   ]
  },
  {
   "cell_type": "markdown",
   "id": "b233b32d-8856-4663-91d6-518a75c5abbd",
   "metadata": {},
   "source": [
    "Now let's verify that the path to your service account json file is correct:\n",
    "\n",
    "👉 This command should display the content of your service account json file."
   ]
  },
  {
   "cell_type": "code",
   "execution_count": null,
   "id": "0a67dca0-9e28-4582-8e8f-8efee6a6d30d",
   "metadata": {},
   "outputs": [],
   "source": [
    "cat $(echo $GOOGLE_APPLICATION_CREDENTIALS)"
   ]
  },
  {
   "cell_type": "markdown",
   "id": "af9a4ecb-b02a-4d2b-970e-e6ccf9841d18",
   "metadata": {},
   "source": [
    "Your code and utilities are now able to access the resources of your GCP account.\n",
    "\n",
    "Let's proceed with the final steps of configuration...\n",
    "\n",
    "    List the service accounts associated to your active account and current project\n"
   ]
  },
  {
   "cell_type": "code",
   "execution_count": null,
   "id": "38818fee-8a09-48fd-b1af-8ec90c156227",
   "metadata": {},
   "outputs": [],
   "source": [
    "!gcloud iam service-accounts list"
   ]
  },
  {
   "cell_type": "markdown",
   "id": "194c5f14-91ad-4fe0-9548-52b3bb957f10",
   "metadata": {},
   "source": [
    "\n",
    "    Retrieve the service account email address, e.g. SERVICE_ACCOUNT_NAME@PROJECT_ID.iam.gserviceaccount.com\n",
    "    List the roles of the service account from the cli (replace PROJECT_ID and SERVICE_ACCOUNT_EMAIL)\n",
    "    \n",
    "    You should see that your service account has a role of roles/owner\n"
   ]
  },
  {
   "cell_type": "code",
   "execution_count": null,
   "id": "1a25dc51-80b2-4a0d-ab26-545a9968b0ea",
   "metadata": {},
   "outputs": [],
   "source": [
    "gcloud projects get-iam-policy PROJECT_ID \\\n",
    "--flatten=\"bindings[].members\" \\\n",
    "--format='table(bindings.role)' \\\n",
    "--filter=\"bindings.members:SERVICE_ACCOUNT_EMAIL\""
   ]
  },
  {
   "cell_type": "markdown",
   "id": "ff58983c-c27e-4d89-9d8b-719f127a718c",
   "metadata": {},
   "source": [
    "## Set Up Cloud Storage Authorization (From Google Website)"
   ]
  },
  {
   "cell_type": "markdown",
   "id": "6726f029-d5fc-4149-854e-38678af57a93",
   "metadata": {},
   "source": [
    "### Installing the client library"
   ]
  },
  {
   "cell_type": "code",
   "execution_count": null,
   "id": "f3fd01d2-12fe-4bac-92bc-649bb07e592e",
   "metadata": {},
   "outputs": [],
   "source": [
    "!pip install --upgrade google-cloud-storage"
   ]
  },
  {
   "cell_type": "markdown",
   "id": "56cdc9c5-c092-4754-91b9-e2603899ba9e",
   "metadata": {},
   "source": [
    "### Setting up authentication"
   ]
  },
  {
   "cell_type": "markdown",
   "id": "e4a7e5fe-ac9e-4445-bdb2-aa7448445713",
   "metadata": {},
   "source": [
    "Create a service account:\n",
    "\n",
    "    1) In the Google Cloud console, go to the Create service account page. \n",
    "    \n",
    "    https://console.cloud.google.com/projectselector/iam-admin/serviceaccounts/create?supportedpurview=project&_ga=2.1176241.1291299176.1665473547-121098221.1665473547\n",
    "    \n",
    "    2) Select your project.\n",
    "\n",
    "    3) In the Service account name field, enter a name. The Google Cloud console fills in the Service account ID field based on this name.\n",
    "\n",
    "    In the Service account description field, enter a description. For example, Service account for quickstart.\n",
    "\n",
    "    4)Click Create and continue.\n",
    "\n",
    "    5) To provide access to your project, grant the following role(s) to your service account: Cloud Storage > Storage Admin .\n",
    "\n",
    "    In the Select a role list, select a role.\n",
    "\n",
    "    For additional roles, click add Add another role and add each additional role. \n",
    "    \n",
    "    6) Click Continue.\n",
    "\n",
    "    7) Click Done to finish creating the service account.\n",
    "\n",
    "    Do not close your browser window. You will use it in the next step.\n",
    "    \n",
    "Create a service account key: \n",
    "  \n",
    "    1) In the Google Cloud console, click the email address for the service account that you created.\n",
    "    \n",
    "    2) Click Keys.\n",
    "    \n",
    "    3) Click Add key, and then click Create new key.\n",
    "    \n",
    "    4) Click Create. A JSON key file is downloaded to your computer.\n",
    "    \n",
    "    5) Click Close.\n",
    "\n",
    "Provide authentication credentials to your application code by setting the environment variable GOOGLE_APPLICATION_CREDENTIALS. This variable applies only to your current shell session. If you want the variable to apply to future shell sessions, set the variable in your shell startup file, for example in the ~/.bashrc or ~/.profile file. "
   ]
  },
  {
   "cell_type": "code",
   "execution_count": null,
   "id": "21aacacf-a589-42ca-aa0d-11d1499d2a49",
   "metadata": {},
   "outputs": [],
   "source": [
    "!export GOOGLE_APPLICATION_CREDENTIALS=\"KEY_PATH\""
   ]
  },
  {
   "cell_type": "markdown",
   "id": "89c9d466-4d02-4927-9fd8-52c119f2078f",
   "metadata": {},
   "source": [
    "Replace KEY_PATH with the path of the JSON file that contains your service account key."
   ]
  },
  {
   "cell_type": "markdown",
   "id": "42ad3c60-c57a-48bd-af92-7900ac25161d",
   "metadata": {},
   "source": [
    "### Other Authorization Resources"
   ]
  },
  {
   "cell_type": "markdown",
   "id": "c3d76765-bd24-46ea-8052-4414afd710cd",
   "metadata": {},
   "source": [
    "Cloud Storage authentication\n",
    "\n",
    "https://cloud.google.com/storage/docs/authentication\n",
    "\n",
    "Credential Types Supporting Various Use Cases\n",
    "\n",
    "https://cloud.google.com/storage/docs/gsutil/addlhelp/CredentialTypesSupportingVariousUseCases\n",
    "\n",
    "Securely connecting to VM instances\n",
    "\n",
    "https://cloud.google.com/solutions/connecting-securely"
   ]
  },
  {
   "cell_type": "markdown",
   "id": "175ffca5-aa7b-45f7-af8d-37db9bed7113",
   "metadata": {},
   "source": [
    "## Google Cloud Storage"
   ]
  },
  {
   "cell_type": "markdown",
   "id": "1c71ef28-1281-4860-be34-05864b7103e4",
   "metadata": {},
   "source": [
    "### Create a new bucket"
   ]
  },
  {
   "cell_type": "code",
   "execution_count": 11,
   "id": "dac57e57-3c77-467e-ac2a-6f1c960f6466",
   "metadata": {},
   "outputs": [],
   "source": [
    "from google.cloud import storage\n",
    "\n",
    "\n",
    "def create_bucket_class_location(bucket_name: str, \n",
    "                                 bucket_loc='eu', \n",
    "                                 store_class = 'STANDARD'):\n",
    "    \"\"\"\n",
    "    Create a new bucket in the specified region (default EU) with the specified storage\n",
    "    class (default STANDARD)\n",
    "    \"\"\"\n",
    "    # bucket_name = \"your-new-bucket-name\"\n",
    "\n",
    "    storage_client = storage.Client()\n",
    "\n",
    "    bucket = storage_client.bucket(bucket_name)\n",
    "    bucket.storage_class = store_class\n",
    "    new_bucket = storage_client.create_bucket(bucket, location=bucket_loc)\n",
    "\n",
    "    print(\n",
    "        \"Created bucket {} in {} with storage class {}\".format(\n",
    "            new_bucket.name, new_bucket.location, new_bucket.storage_class\n",
    "        )\n",
    "    )\n",
    "    return new_bucket\n",
    "\n"
   ]
  },
  {
   "cell_type": "code",
   "execution_count": 13,
   "id": "93acdf71-9003-4498-8771-faaf15377c07",
   "metadata": {},
   "outputs": [
    {
     "name": "stdout",
     "output_type": "stream",
     "text": [
      "Created bucket test-bucket-24875138 in EU with storage class STANDARD\n"
     ]
    },
    {
     "data": {
      "text/plain": [
       "<Bucket: test-bucket-24875138>"
      ]
     },
     "execution_count": 13,
     "metadata": {},
     "output_type": "execute_result"
    }
   ],
   "source": [
    "# Bucket name must be GLOBALLY unique\n",
    "\n",
    "BUCKET_NAME = 'test-bucket-24875138'\n",
    "\n",
    "create_bucket_class_location(BUCKET_NAME)"
   ]
  },
  {
   "cell_type": "markdown",
   "id": "cb2073ec-986e-46f9-a20b-d75f6426bc10",
   "metadata": {},
   "source": [
    "### List the buckets in a project"
   ]
  },
  {
   "cell_type": "code",
   "execution_count": 14,
   "id": "4da779e8-0f77-4b24-8173-a3c17f4d27ad",
   "metadata": {},
   "outputs": [],
   "source": [
    "from google.cloud import storage\n",
    "\n",
    "\n",
    "def list_buckets():\n",
    "    \"\"\"Lists all buckets.\"\"\"\n",
    "\n",
    "    storage_client = storage.Client()\n",
    "    buckets = storage_client.list_buckets()\n",
    "\n",
    "    for bucket in buckets:\n",
    "        print(bucket.name)\n",
    "\n"
   ]
  },
  {
   "cell_type": "code",
   "execution_count": 15,
   "id": "0752ece3-0906-4fb8-b3bf-0500f0f635f6",
   "metadata": {},
   "outputs": [
    {
     "name": "stdout",
     "output_type": "stream",
     "text": [
      "indo-trading-algo-data\n",
      "test-bucket-24875138\n"
     ]
    }
   ],
   "source": [
    "list_buckets()"
   ]
  },
  {
   "cell_type": "markdown",
   "id": "c104dc19-536b-4466-b735-4142421410a8",
   "metadata": {},
   "source": [
    "### List the objects in a bucket"
   ]
  },
  {
   "cell_type": "markdown",
   "id": "a3d9f2f2-35c9-4168-b7cc-1622dcdf46ec",
   "metadata": {},
   "source": [
    "#### The following sample lists all objects in a bucket:"
   ]
  },
  {
   "cell_type": "code",
   "execution_count": 7,
   "id": "f4af5cfb-59e1-4a0d-8e5a-017468856bf9",
   "metadata": {},
   "outputs": [],
   "source": [
    "from google.cloud import storage\n",
    "\n",
    "\n",
    "def list_blobs(bucket_name):\n",
    "    \"\"\"Lists all the blobs in the bucket.\"\"\"\n",
    "    # bucket_name = \"your-bucket-name\"\n",
    "\n",
    "    storage_client = storage.Client()\n",
    "\n",
    "    # Note: Client.list_blobs requires at least package version 1.17.0.\n",
    "    blobs = storage_client.list_blobs(bucket_name)\n",
    "\n",
    "    # Note: The call returns a response only when the iterator is consumed.\n",
    "    for blob in blobs:\n",
    "        print(blob.name)\n",
    "\n"
   ]
  },
  {
   "cell_type": "code",
   "execution_count": 32,
   "id": "a29051e3-1dbe-4ba9-a021-3d53e9948973",
   "metadata": {},
   "outputs": [
    {
     "name": "stdout",
     "output_type": "stream",
     "text": [
      "df_read_write_data\n",
      "read_write_data.csv\n"
     ]
    }
   ],
   "source": [
    "BUCKET_NAME = 'test-bucket-24875138'\n",
    "\n",
    "list_blobs(BUCKET_NAME)"
   ]
  },
  {
   "cell_type": "markdown",
   "id": "017470e5-eb36-4b2d-917c-480916dbf5ec",
   "metadata": {},
   "source": [
    "#### The following sample lists objects with a given prefix:"
   ]
  },
  {
   "cell_type": "code",
   "execution_count": 6,
   "id": "6e1dcbf7-93e9-4600-bf9e-c5ed4f1f400e",
   "metadata": {},
   "outputs": [],
   "source": [
    "from google.cloud import storage\n",
    "\n",
    "\n",
    "def list_blobs_with_prefix(bucket_name, prefix, delimiter=None):\n",
    "    \"\"\"Lists all the blobs in the bucket that begin with the prefix.\n",
    "\n",
    "    This can be used to list all blobs in a \"folder\", e.g. \"public/\".\n",
    "\n",
    "    The delimiter argument can be used to restrict the results to only the\n",
    "    \"files\" in the given \"folder\". Without the delimiter, the entire tree under\n",
    "    the prefix is returned. For example, given these blobs:\n",
    "\n",
    "        a/1.txt\n",
    "        a/b/2.txt\n",
    "\n",
    "    If you specify prefix ='a/', without a delimiter, you'll get back:\n",
    "\n",
    "        a/1.txt\n",
    "        a/b/2.txt\n",
    "\n",
    "    However, if you specify prefix='a/' and delimiter='/', you'll get back\n",
    "    only the file directly under 'a/':\n",
    "\n",
    "        a/1.txt\n",
    "\n",
    "    As part of the response, you'll also get back a blobs.prefixes entity\n",
    "    that lists the \"subfolders\" under `a/`:\n",
    "\n",
    "        a/b/\n",
    "    \"\"\"\n",
    "\n",
    "    storage_client = storage.Client()\n",
    "\n",
    "    # Note: Client.list_blobs requires at least package version 1.17.0.\n",
    "    blobs = storage_client.list_blobs(bucket_name, prefix=prefix, delimiter=delimiter)\n",
    "\n",
    "    # Note: The call returns a response only when the iterator is consumed.\n",
    "    print(\"Blobs:\")\n",
    "    for blob in blobs:\n",
    "        print(blob.name)\n",
    "\n",
    "    if delimiter:\n",
    "        print(\"Prefixes:\")\n",
    "        for prefix in blobs.prefixes:\n",
    "            print(prefix)\n"
   ]
  },
  {
   "cell_type": "markdown",
   "id": "e0ea9680-5012-4c10-82d0-c2f04016c768",
   "metadata": {},
   "source": [
    "### Upload an object to a bucket"
   ]
  },
  {
   "cell_type": "markdown",
   "id": "9827e46f-2a89-463b-93d8-a7f4173d0458",
   "metadata": {},
   "source": [
    "#### The following sample uploads an object from a file:"
   ]
  },
  {
   "cell_type": "code",
   "execution_count": 16,
   "id": "186bb04f-9c19-4fc3-babc-d762792e1860",
   "metadata": {},
   "outputs": [],
   "source": [
    "from google.cloud import storage\n",
    "\n",
    "\n",
    "def upload_blob(bucket_name, source_file_name, destination_blob_name):\n",
    "    \"\"\"Uploads a file to the bucket.\"\"\"\n",
    "    # The ID of your GCS bucket\n",
    "    # bucket_name = \"your-bucket-name\"\n",
    "    # The path to your file to upload\n",
    "    # source_file_name = \"local/path/to/file\"\n",
    "    # The ID of your GCS object\n",
    "    # destination_blob_name = \"storage-object-name\"\n",
    "\n",
    "    storage_client = storage.Client()\n",
    "    bucket = storage_client.bucket(bucket_name)\n",
    "    blob = bucket.blob(destination_blob_name)\n",
    "\n",
    "    blob.upload_from_filename(source_file_name)\n",
    "\n",
    "    print(\n",
    "        f\"File {source_file_name} uploaded to {destination_blob_name}.\"\n",
    "    )\n",
    "\n"
   ]
  },
  {
   "cell_type": "code",
   "execution_count": 17,
   "id": "b6c3d259-9ad6-4f58-ba5a-3f9dbdd3f5f0",
   "metadata": {},
   "outputs": [
    {
     "name": "stdout",
     "output_type": "stream",
     "text": [
      "File save_files/read_write_data.csv uploaded to read_write_data.csv.\n"
     ]
    }
   ],
   "source": [
    "SOURCE_FILE = 'save_files/read_write_data.csv'\n",
    "DESTINATION = 'read_write_data.csv'\n",
    "\n",
    "upload_blob(BUCKET_NAME, SOURCE_FILE, DESTINATION)"
   ]
  },
  {
   "cell_type": "markdown",
   "id": "4fffa85e-8931-4d1a-ad8c-cdf6abe0a43b",
   "metadata": {},
   "source": [
    "#### The following sample uploads an object from memory:"
   ]
  },
  {
   "cell_type": "code",
   "execution_count": 19,
   "id": "8a5676a5-b7ef-4797-93f1-43c46263f077",
   "metadata": {},
   "outputs": [],
   "source": [
    "from google.cloud import storage\n",
    "\n",
    "\n",
    "def upload_blob_from_memory(bucket_name, contents, destination_blob_name):\n",
    "    \"\"\"Uploads a file to the bucket.\"\"\"\n",
    "\n",
    "    # The ID of your GCS bucket\n",
    "    # bucket_name = \"your-bucket-name\"\n",
    "\n",
    "    # The contents to upload to the file\n",
    "    # contents = \"these are my contents\"\n",
    "\n",
    "    # The ID of your GCS object\n",
    "    # destination_blob_name = \"storage-object-name\"\n",
    "\n",
    "    storage_client = storage.Client()\n",
    "    bucket = storage_client.bucket(bucket_name)\n",
    "    blob = bucket.blob(destination_blob_name)\n",
    "\n",
    "    blob.upload_from_string(contents)\n",
    "\n",
    "    print(\n",
    "        f\"{destination_blob_name} with contents {contents} uploaded to {bucket_name}.\"\n",
    "    )\n"
   ]
  },
  {
   "cell_type": "code",
   "execution_count": 22,
   "id": "1cd910fd-5466-4710-ae13-ee3c4f8ebf52",
   "metadata": {},
   "outputs": [
    {
     "data": {
      "text/html": [
       "<div>\n",
       "<style scoped>\n",
       "    .dataframe tbody tr th:only-of-type {\n",
       "        vertical-align: middle;\n",
       "    }\n",
       "\n",
       "    .dataframe tbody tr th {\n",
       "        vertical-align: top;\n",
       "    }\n",
       "\n",
       "    .dataframe thead th {\n",
       "        text-align: right;\n",
       "    }\n",
       "</style>\n",
       "<table border=\"1\" class=\"dataframe\">\n",
       "  <thead>\n",
       "    <tr style=\"text-align: right;\">\n",
       "      <th></th>\n",
       "      <th>name</th>\n",
       "      <th>subjects</th>\n",
       "      <th>marks</th>\n",
       "    </tr>\n",
       "  </thead>\n",
       "  <tbody>\n",
       "    <tr>\n",
       "      <th>0</th>\n",
       "      <td>sravan</td>\n",
       "      <td>java</td>\n",
       "      <td>98</td>\n",
       "    </tr>\n",
       "    <tr>\n",
       "      <th>1</th>\n",
       "      <td>jyothika</td>\n",
       "      <td>java</td>\n",
       "      <td>79</td>\n",
       "    </tr>\n",
       "    <tr>\n",
       "      <th>2</th>\n",
       "      <td>harsha</td>\n",
       "      <td>java</td>\n",
       "      <td>89</td>\n",
       "    </tr>\n",
       "    <tr>\n",
       "      <th>3</th>\n",
       "      <td>ramya</td>\n",
       "      <td>python</td>\n",
       "      <td>97</td>\n",
       "    </tr>\n",
       "    <tr>\n",
       "      <th>4</th>\n",
       "      <td>sravan</td>\n",
       "      <td>python</td>\n",
       "      <td>82</td>\n",
       "    </tr>\n",
       "    <tr>\n",
       "      <th>5</th>\n",
       "      <td>jyothika</td>\n",
       "      <td>python</td>\n",
       "      <td>98</td>\n",
       "    </tr>\n",
       "    <tr>\n",
       "      <th>6</th>\n",
       "      <td>harsha</td>\n",
       "      <td>html/php</td>\n",
       "      <td>90</td>\n",
       "    </tr>\n",
       "    <tr>\n",
       "      <th>7</th>\n",
       "      <td>ramya</td>\n",
       "      <td>html/php</td>\n",
       "      <td>87</td>\n",
       "    </tr>\n",
       "    <tr>\n",
       "      <th>8</th>\n",
       "      <td>sravan</td>\n",
       "      <td>html/php</td>\n",
       "      <td>78</td>\n",
       "    </tr>\n",
       "    <tr>\n",
       "      <th>9</th>\n",
       "      <td>jyothika</td>\n",
       "      <td>php/js</td>\n",
       "      <td>89</td>\n",
       "    </tr>\n",
       "    <tr>\n",
       "      <th>10</th>\n",
       "      <td>harsha</td>\n",
       "      <td>php/js</td>\n",
       "      <td>93</td>\n",
       "    </tr>\n",
       "    <tr>\n",
       "      <th>11</th>\n",
       "      <td>ramya</td>\n",
       "      <td>php/js</td>\n",
       "      <td>94</td>\n",
       "    </tr>\n",
       "  </tbody>\n",
       "</table>\n",
       "</div>"
      ],
      "text/plain": [
       "        name  subjects  marks\n",
       "0     sravan      java     98\n",
       "1   jyothika      java     79\n",
       "2     harsha      java     89\n",
       "3      ramya    python     97\n",
       "4     sravan    python     82\n",
       "5   jyothika    python     98\n",
       "6     harsha  html/php     90\n",
       "7      ramya  html/php     87\n",
       "8     sravan  html/php     78\n",
       "9   jyothika    php/js     89\n",
       "10    harsha    php/js     93\n",
       "11     ramya    php/js     94"
      ]
     },
     "execution_count": 22,
     "metadata": {},
     "output_type": "execute_result"
    }
   ],
   "source": [
    "df_read_write_data = pd.read_csv('save_files/read_write_data.csv')\n",
    "df_read_write_data"
   ]
  },
  {
   "cell_type": "code",
   "execution_count": 31,
   "id": "a705cc0c-bcaa-49bc-a9b1-8612d5c0aa66",
   "metadata": {},
   "outputs": [
    {
     "name": "stdout",
     "output_type": "stream",
     "text": [
      "b'\\x80\\x04\\x95\\xd8\\x03\\x00\\x00\\x00\\x00\\x00\\x00\\x8c\\x11pandas.core.frame\\x94\\x8c\\tDataFrame\\x94\\x93\\x94)\\x81\\x94}\\x94(\\x8c\\x04_mgr\\x94\\x8c\\x1epandas.core.internals.managers\\x94\\x8c\\x0cBlockManager\\x94\\x93\\x94\\x8c\\tfunctools\\x94\\x8c\\x07partial\\x94\\x93\\x94\\x8c\\x1cpandas.core.internals.blocks\\x94\\x8c\\tnew_block\\x94\\x93\\x94\\x85\\x94R\\x94(h\\x0e)}\\x94\\x8c\\x04ndim\\x94K\\x02sNt\\x94b\\x8c\\x15numpy.core.multiarray\\x94\\x8c\\x0c_reconstruct\\x94\\x93\\x94\\x8c\\x05numpy\\x94\\x8c\\x07ndarray\\x94\\x93\\x94K\\x00\\x85\\x94C\\x01b\\x94\\x87\\x94R\\x94(K\\x01K\\x01K\\x0c\\x86\\x94h\\x17\\x8c\\x05dtype\\x94\\x93\\x94\\x8c\\x02i8\\x94\\x89\\x88\\x87\\x94R\\x94(K\\x03\\x8c\\x01<\\x94NNNJ\\xff\\xff\\xff\\xffJ\\xff\\xff\\xff\\xffK\\x00t\\x94b\\x89C`b\\x00\\x00\\x00\\x00\\x00\\x00\\x00O\\x00\\x00\\x00\\x00\\x00\\x00\\x00Y\\x00\\x00\\x00\\x00\\x00\\x00\\x00a\\x00\\x00\\x00\\x00\\x00\\x00\\x00R\\x00\\x00\\x00\\x00\\x00\\x00\\x00b\\x00\\x00\\x00\\x00\\x00\\x00\\x00Z\\x00\\x00\\x00\\x00\\x00\\x00\\x00W\\x00\\x00\\x00\\x00\\x00\\x00\\x00N\\x00\\x00\\x00\\x00\\x00\\x00\\x00Y\\x00\\x00\\x00\\x00\\x00\\x00\\x00]\\x00\\x00\\x00\\x00\\x00\\x00\\x00^\\x00\\x00\\x00\\x00\\x00\\x00\\x00\\x94t\\x94b\\x8c\\x08builtins\\x94\\x8c\\x05slice\\x94\\x93\\x94K\\x02K\\x03K\\x01\\x87\\x94R\\x94\\x86\\x94R\\x94h\\x0bh\\x0e\\x85\\x94R\\x94(h\\x0e)}\\x94h\\x12K\\x02sNt\\x94bh\\x16h\\x19K\\x00\\x85\\x94h\\x1b\\x87\\x94R\\x94(K\\x01K\\x02K\\x0c\\x86\\x94h \\x8c\\x02O8\\x94\\x89\\x88\\x87\\x94R\\x94(K\\x03\\x8c\\x01|\\x94NNNJ\\xff\\xff\\xff\\xffJ\\xff\\xff\\xff\\xffK?t\\x94b\\x89]\\x94(\\x8c\\x06sravan\\x94\\x8c\\x08jyothika\\x94\\x8c\\x06harsha\\x94\\x8c\\x05ramya\\x94h=h>h?h@h=h>h?h@\\x8c\\x04java\\x94hAhA\\x8c\\x06python\\x94hBhB\\x8c\\x08html/php\\x94hChC\\x8c\\x06php/js\\x94hDhDet\\x94bh*K\\x00K\\x02K\\x01\\x87\\x94R\\x94\\x86\\x94R\\x94\\x86\\x94]\\x94(\\x8c\\x18pandas.core.indexes.base\\x94\\x8c\\n_new_Index\\x94\\x93\\x94hL\\x8c\\x05Index\\x94\\x93\\x94}\\x94(\\x8c\\x04data\\x94h\\x16h\\x19K\\x00\\x85\\x94h\\x1b\\x87\\x94R\\x94(K\\x01K\\x03\\x85\\x94h9\\x89]\\x94(\\x8c\\x04name\\x94\\x8c\\x08subjects\\x94\\x8c\\x05marks\\x94et\\x94b\\x8c\\x04name\\x94Nu\\x86\\x94R\\x94hN\\x8c\\x19pandas.core.indexes.range\\x94\\x8c\\nRangeIndex\\x94\\x93\\x94}\\x94(h\\\\N\\x8c\\x05start\\x94K\\x00\\x8c\\x04stop\\x94K\\x0c\\x8c\\x04step\\x94K\\x01u\\x86\\x94R\\x94e\\x86\\x94R\\x94\\x8c\\x04_typ\\x94\\x8c\\tdataframe\\x94\\x8c\\t_metadata\\x94]\\x94\\x8c\\x05attrs\\x94}\\x94\\x8c\\x06_flags\\x94}\\x94\\x8c\\x17allows_duplicate_labels\\x94\\x88sub.'\n",
      "df_read_write_data with contents b'\\x80\\x04\\x95\\xd8\\x03\\x00\\x00\\x00\\x00\\x00\\x00\\x8c\\x11pandas.core.frame\\x94\\x8c\\tDataFrame\\x94\\x93\\x94)\\x81\\x94}\\x94(\\x8c\\x04_mgr\\x94\\x8c\\x1epandas.core.internals.managers\\x94\\x8c\\x0cBlockManager\\x94\\x93\\x94\\x8c\\tfunctools\\x94\\x8c\\x07partial\\x94\\x93\\x94\\x8c\\x1cpandas.core.internals.blocks\\x94\\x8c\\tnew_block\\x94\\x93\\x94\\x85\\x94R\\x94(h\\x0e)}\\x94\\x8c\\x04ndim\\x94K\\x02sNt\\x94b\\x8c\\x15numpy.core.multiarray\\x94\\x8c\\x0c_reconstruct\\x94\\x93\\x94\\x8c\\x05numpy\\x94\\x8c\\x07ndarray\\x94\\x93\\x94K\\x00\\x85\\x94C\\x01b\\x94\\x87\\x94R\\x94(K\\x01K\\x01K\\x0c\\x86\\x94h\\x17\\x8c\\x05dtype\\x94\\x93\\x94\\x8c\\x02i8\\x94\\x89\\x88\\x87\\x94R\\x94(K\\x03\\x8c\\x01<\\x94NNNJ\\xff\\xff\\xff\\xffJ\\xff\\xff\\xff\\xffK\\x00t\\x94b\\x89C`b\\x00\\x00\\x00\\x00\\x00\\x00\\x00O\\x00\\x00\\x00\\x00\\x00\\x00\\x00Y\\x00\\x00\\x00\\x00\\x00\\x00\\x00a\\x00\\x00\\x00\\x00\\x00\\x00\\x00R\\x00\\x00\\x00\\x00\\x00\\x00\\x00b\\x00\\x00\\x00\\x00\\x00\\x00\\x00Z\\x00\\x00\\x00\\x00\\x00\\x00\\x00W\\x00\\x00\\x00\\x00\\x00\\x00\\x00N\\x00\\x00\\x00\\x00\\x00\\x00\\x00Y\\x00\\x00\\x00\\x00\\x00\\x00\\x00]\\x00\\x00\\x00\\x00\\x00\\x00\\x00^\\x00\\x00\\x00\\x00\\x00\\x00\\x00\\x94t\\x94b\\x8c\\x08builtins\\x94\\x8c\\x05slice\\x94\\x93\\x94K\\x02K\\x03K\\x01\\x87\\x94R\\x94\\x86\\x94R\\x94h\\x0bh\\x0e\\x85\\x94R\\x94(h\\x0e)}\\x94h\\x12K\\x02sNt\\x94bh\\x16h\\x19K\\x00\\x85\\x94h\\x1b\\x87\\x94R\\x94(K\\x01K\\x02K\\x0c\\x86\\x94h \\x8c\\x02O8\\x94\\x89\\x88\\x87\\x94R\\x94(K\\x03\\x8c\\x01|\\x94NNNJ\\xff\\xff\\xff\\xffJ\\xff\\xff\\xff\\xffK?t\\x94b\\x89]\\x94(\\x8c\\x06sravan\\x94\\x8c\\x08jyothika\\x94\\x8c\\x06harsha\\x94\\x8c\\x05ramya\\x94h=h>h?h@h=h>h?h@\\x8c\\x04java\\x94hAhA\\x8c\\x06python\\x94hBhB\\x8c\\x08html/php\\x94hChC\\x8c\\x06php/js\\x94hDhDet\\x94bh*K\\x00K\\x02K\\x01\\x87\\x94R\\x94\\x86\\x94R\\x94\\x86\\x94]\\x94(\\x8c\\x18pandas.core.indexes.base\\x94\\x8c\\n_new_Index\\x94\\x93\\x94hL\\x8c\\x05Index\\x94\\x93\\x94}\\x94(\\x8c\\x04data\\x94h\\x16h\\x19K\\x00\\x85\\x94h\\x1b\\x87\\x94R\\x94(K\\x01K\\x03\\x85\\x94h9\\x89]\\x94(\\x8c\\x04name\\x94\\x8c\\x08subjects\\x94\\x8c\\x05marks\\x94et\\x94b\\x8c\\x04name\\x94Nu\\x86\\x94R\\x94hN\\x8c\\x19pandas.core.indexes.range\\x94\\x8c\\nRangeIndex\\x94\\x93\\x94}\\x94(h\\\\N\\x8c\\x05start\\x94K\\x00\\x8c\\x04stop\\x94K\\x0c\\x8c\\x04step\\x94K\\x01u\\x86\\x94R\\x94e\\x86\\x94R\\x94\\x8c\\x04_typ\\x94\\x8c\\tdataframe\\x94\\x8c\\t_metadata\\x94]\\x94\\x8c\\x05attrs\\x94}\\x94\\x8c\\x06_flags\\x94}\\x94\\x8c\\x17allows_duplicate_labels\\x94\\x88sub.' uploaded to test-bucket-24875138.\n"
     ]
    }
   ],
   "source": [
    "# Use pickle.dumps() to serialized an object in to a binary string (OBJECT)\n",
    "\n",
    "OBJECT = pickle.dumps(df_read_write_data)\n",
    "print(OBJECT)\n",
    "\n",
    "DESTINATION = 'df_read_write_data'\n",
    "\n",
    "# Upload the binary string to GS blob (DESTINATION)\n",
    "\n",
    "upload_blob_from_memory(BUCKET_NAME, OBJECT, DESTINATION)"
   ]
  },
  {
   "cell_type": "markdown",
   "id": "55cea637-32a2-4631-a3f9-9e62c16735c3",
   "metadata": {},
   "source": [
    "### Download an object from a bucket"
   ]
  },
  {
   "cell_type": "markdown",
   "id": "7489e1a6-dac8-4ba2-90f7-80e4bd5489b6",
   "metadata": {},
   "source": [
    "#### The following sample downloads an object to a file:"
   ]
  },
  {
   "cell_type": "code",
   "execution_count": 1,
   "id": "9c4926c4-3633-48a3-b937-a0d43d20f280",
   "metadata": {},
   "outputs": [],
   "source": [
    "from google.cloud import storage\n",
    "\n",
    "\n",
    "def download_blob(bucket_name, source_blob_name, destination_file_name):\n",
    "    \"\"\"Downloads a blob from the bucket.\"\"\"\n",
    "    # The ID of your GCS bucket\n",
    "    # bucket_name = \"your-bucket-name\"\n",
    "\n",
    "    # The ID of your GCS object\n",
    "    # source_blob_name = \"storage-object-name\"\n",
    "\n",
    "    # The path to which the file should be downloaded\n",
    "    # destination_file_name = \"local/path/to/file\"\n",
    "\n",
    "    storage_client = storage.Client()\n",
    "\n",
    "    bucket = storage_client.bucket(bucket_name)\n",
    "\n",
    "    # Construct a client side representation of a blob.\n",
    "    # Note `Bucket.blob` differs from `Bucket.get_blob` as it doesn't retrieve\n",
    "    # any content from Google Cloud Storage. As we don't need additional data,\n",
    "    # using `Bucket.blob` is preferred here.\n",
    "    blob = bucket.blob(source_blob_name)\n",
    "    blob.download_to_filename(destination_file_name)\n",
    "\n",
    "    print(\n",
    "        \"Downloaded storage object {} from bucket {} to local file {}.\".format(\n",
    "            source_blob_name, bucket_name, destination_file_name\n",
    "        )\n",
    "    )\n",
    "\n"
   ]
  },
  {
   "cell_type": "markdown",
   "id": "eb47118c-d43d-4a8b-aab6-ce1c7e2638de",
   "metadata": {},
   "source": [
    "#### The following sample downloads an object into memory:"
   ]
  },
  {
   "cell_type": "code",
   "execution_count": 28,
   "id": "feff6e2a-931c-46bb-8d99-f71e7fb45e87",
   "metadata": {},
   "outputs": [],
   "source": [
    "from google.cloud import storage\n",
    "\n",
    "\n",
    "def download_blob_into_memory(bucket_name, blob_name):\n",
    "    \"\"\"Downloads a blob into memory.\"\"\"\n",
    "    # The ID of your GCS bucket\n",
    "    # bucket_name = \"your-bucket-name\"\n",
    "\n",
    "    # The ID of your GCS object\n",
    "    # blob_name = \"storage-object-name\"\n",
    "\n",
    "    storage_client = storage.Client()\n",
    "\n",
    "    bucket = storage_client.bucket(bucket_name)\n",
    "\n",
    "    # Construct a client side representation of a blob.\n",
    "    # Note `Bucket.blob` differs from `Bucket.get_blob` as it doesn't retrieve\n",
    "    # any content from Google Cloud Storage. As we don't need additional data,\n",
    "    # using `Bucket.blob` is preferred here.\n",
    "    blob = bucket.blob(blob_name)\n",
    "    contents = blob.download_as_string()\n",
    "\n",
    "    print(\n",
    "        \"Downloaded storage object {} from bucket {} as the following string: {}.\".format(\n",
    "            blob_name, bucket_name, contents\n",
    "        )\n",
    "    )\n",
    "    return contents\n",
    "\n"
   ]
  },
  {
   "cell_type": "code",
   "execution_count": 33,
   "id": "13fdb880-3d3b-46df-a4fe-ba6057abaf19",
   "metadata": {},
   "outputs": [
    {
     "name": "stdout",
     "output_type": "stream",
     "text": [
      "Downloaded storage object df_read_write_data from bucket test-bucket-24875138 as the following string: b'\\x80\\x04\\x95\\xd8\\x03\\x00\\x00\\x00\\x00\\x00\\x00\\x8c\\x11pandas.core.frame\\x94\\x8c\\tDataFrame\\x94\\x93\\x94)\\x81\\x94}\\x94(\\x8c\\x04_mgr\\x94\\x8c\\x1epandas.core.internals.managers\\x94\\x8c\\x0cBlockManager\\x94\\x93\\x94\\x8c\\tfunctools\\x94\\x8c\\x07partial\\x94\\x93\\x94\\x8c\\x1cpandas.core.internals.blocks\\x94\\x8c\\tnew_block\\x94\\x93\\x94\\x85\\x94R\\x94(h\\x0e)}\\x94\\x8c\\x04ndim\\x94K\\x02sNt\\x94b\\x8c\\x15numpy.core.multiarray\\x94\\x8c\\x0c_reconstruct\\x94\\x93\\x94\\x8c\\x05numpy\\x94\\x8c\\x07ndarray\\x94\\x93\\x94K\\x00\\x85\\x94C\\x01b\\x94\\x87\\x94R\\x94(K\\x01K\\x01K\\x0c\\x86\\x94h\\x17\\x8c\\x05dtype\\x94\\x93\\x94\\x8c\\x02i8\\x94\\x89\\x88\\x87\\x94R\\x94(K\\x03\\x8c\\x01<\\x94NNNJ\\xff\\xff\\xff\\xffJ\\xff\\xff\\xff\\xffK\\x00t\\x94b\\x89C`b\\x00\\x00\\x00\\x00\\x00\\x00\\x00O\\x00\\x00\\x00\\x00\\x00\\x00\\x00Y\\x00\\x00\\x00\\x00\\x00\\x00\\x00a\\x00\\x00\\x00\\x00\\x00\\x00\\x00R\\x00\\x00\\x00\\x00\\x00\\x00\\x00b\\x00\\x00\\x00\\x00\\x00\\x00\\x00Z\\x00\\x00\\x00\\x00\\x00\\x00\\x00W\\x00\\x00\\x00\\x00\\x00\\x00\\x00N\\x00\\x00\\x00\\x00\\x00\\x00\\x00Y\\x00\\x00\\x00\\x00\\x00\\x00\\x00]\\x00\\x00\\x00\\x00\\x00\\x00\\x00^\\x00\\x00\\x00\\x00\\x00\\x00\\x00\\x94t\\x94b\\x8c\\x08builtins\\x94\\x8c\\x05slice\\x94\\x93\\x94K\\x02K\\x03K\\x01\\x87\\x94R\\x94\\x86\\x94R\\x94h\\x0bh\\x0e\\x85\\x94R\\x94(h\\x0e)}\\x94h\\x12K\\x02sNt\\x94bh\\x16h\\x19K\\x00\\x85\\x94h\\x1b\\x87\\x94R\\x94(K\\x01K\\x02K\\x0c\\x86\\x94h \\x8c\\x02O8\\x94\\x89\\x88\\x87\\x94R\\x94(K\\x03\\x8c\\x01|\\x94NNNJ\\xff\\xff\\xff\\xffJ\\xff\\xff\\xff\\xffK?t\\x94b\\x89]\\x94(\\x8c\\x06sravan\\x94\\x8c\\x08jyothika\\x94\\x8c\\x06harsha\\x94\\x8c\\x05ramya\\x94h=h>h?h@h=h>h?h@\\x8c\\x04java\\x94hAhA\\x8c\\x06python\\x94hBhB\\x8c\\x08html/php\\x94hChC\\x8c\\x06php/js\\x94hDhDet\\x94bh*K\\x00K\\x02K\\x01\\x87\\x94R\\x94\\x86\\x94R\\x94\\x86\\x94]\\x94(\\x8c\\x18pandas.core.indexes.base\\x94\\x8c\\n_new_Index\\x94\\x93\\x94hL\\x8c\\x05Index\\x94\\x93\\x94}\\x94(\\x8c\\x04data\\x94h\\x16h\\x19K\\x00\\x85\\x94h\\x1b\\x87\\x94R\\x94(K\\x01K\\x03\\x85\\x94h9\\x89]\\x94(\\x8c\\x04name\\x94\\x8c\\x08subjects\\x94\\x8c\\x05marks\\x94et\\x94b\\x8c\\x04name\\x94Nu\\x86\\x94R\\x94hN\\x8c\\x19pandas.core.indexes.range\\x94\\x8c\\nRangeIndex\\x94\\x93\\x94}\\x94(h\\\\N\\x8c\\x05start\\x94K\\x00\\x8c\\x04stop\\x94K\\x0c\\x8c\\x04step\\x94K\\x01u\\x86\\x94R\\x94e\\x86\\x94R\\x94\\x8c\\x04_typ\\x94\\x8c\\tdataframe\\x94\\x8c\\t_metadata\\x94]\\x94\\x8c\\x05attrs\\x94}\\x94\\x8c\\x06_flags\\x94}\\x94\\x8c\\x17allows_duplicate_labels\\x94\\x88sub.'.\n"
     ]
    },
    {
     "data": {
      "text/html": [
       "<div>\n",
       "<style scoped>\n",
       "    .dataframe tbody tr th:only-of-type {\n",
       "        vertical-align: middle;\n",
       "    }\n",
       "\n",
       "    .dataframe tbody tr th {\n",
       "        vertical-align: top;\n",
       "    }\n",
       "\n",
       "    .dataframe thead th {\n",
       "        text-align: right;\n",
       "    }\n",
       "</style>\n",
       "<table border=\"1\" class=\"dataframe\">\n",
       "  <thead>\n",
       "    <tr style=\"text-align: right;\">\n",
       "      <th></th>\n",
       "      <th>name</th>\n",
       "      <th>subjects</th>\n",
       "      <th>marks</th>\n",
       "    </tr>\n",
       "  </thead>\n",
       "  <tbody>\n",
       "    <tr>\n",
       "      <th>0</th>\n",
       "      <td>sravan</td>\n",
       "      <td>java</td>\n",
       "      <td>98</td>\n",
       "    </tr>\n",
       "    <tr>\n",
       "      <th>1</th>\n",
       "      <td>jyothika</td>\n",
       "      <td>java</td>\n",
       "      <td>79</td>\n",
       "    </tr>\n",
       "    <tr>\n",
       "      <th>2</th>\n",
       "      <td>harsha</td>\n",
       "      <td>java</td>\n",
       "      <td>89</td>\n",
       "    </tr>\n",
       "    <tr>\n",
       "      <th>3</th>\n",
       "      <td>ramya</td>\n",
       "      <td>python</td>\n",
       "      <td>97</td>\n",
       "    </tr>\n",
       "    <tr>\n",
       "      <th>4</th>\n",
       "      <td>sravan</td>\n",
       "      <td>python</td>\n",
       "      <td>82</td>\n",
       "    </tr>\n",
       "    <tr>\n",
       "      <th>5</th>\n",
       "      <td>jyothika</td>\n",
       "      <td>python</td>\n",
       "      <td>98</td>\n",
       "    </tr>\n",
       "    <tr>\n",
       "      <th>6</th>\n",
       "      <td>harsha</td>\n",
       "      <td>html/php</td>\n",
       "      <td>90</td>\n",
       "    </tr>\n",
       "    <tr>\n",
       "      <th>7</th>\n",
       "      <td>ramya</td>\n",
       "      <td>html/php</td>\n",
       "      <td>87</td>\n",
       "    </tr>\n",
       "    <tr>\n",
       "      <th>8</th>\n",
       "      <td>sravan</td>\n",
       "      <td>html/php</td>\n",
       "      <td>78</td>\n",
       "    </tr>\n",
       "    <tr>\n",
       "      <th>9</th>\n",
       "      <td>jyothika</td>\n",
       "      <td>php/js</td>\n",
       "      <td>89</td>\n",
       "    </tr>\n",
       "    <tr>\n",
       "      <th>10</th>\n",
       "      <td>harsha</td>\n",
       "      <td>php/js</td>\n",
       "      <td>93</td>\n",
       "    </tr>\n",
       "    <tr>\n",
       "      <th>11</th>\n",
       "      <td>ramya</td>\n",
       "      <td>php/js</td>\n",
       "      <td>94</td>\n",
       "    </tr>\n",
       "  </tbody>\n",
       "</table>\n",
       "</div>"
      ],
      "text/plain": [
       "        name  subjects  marks\n",
       "0     sravan      java     98\n",
       "1   jyothika      java     79\n",
       "2     harsha      java     89\n",
       "3      ramya    python     97\n",
       "4     sravan    python     82\n",
       "5   jyothika    python     98\n",
       "6     harsha  html/php     90\n",
       "7      ramya  html/php     87\n",
       "8     sravan  html/php     78\n",
       "9   jyothika    php/js     89\n",
       "10    harsha    php/js     93\n",
       "11     ramya    php/js     94"
      ]
     },
     "execution_count": 33,
     "metadata": {},
     "output_type": "execute_result"
    }
   ],
   "source": [
    "BLOB_NAME = 'df_read_write_data'   # Name of the object saved on gcs\n",
    "\n",
    "# Retreive binary string from GS\n",
    "binary_string = download_blob_into_memory(BUCKET_NAME, BLOB_NAME)\n",
    "\n",
    "# Use pickle.loads() to convert the binary string back into the object\n",
    "df_read_write_data = pickle.loads(binary_string)\n",
    "  \n",
    "df_read_write_data"
   ]
  },
  {
   "cell_type": "markdown",
   "id": "880bdf5d-2cfc-4e59-b0ed-8635987f177f",
   "metadata": {},
   "source": [
    "### Access A File Via GS Path"
   ]
  },
  {
   "cell_type": "code",
   "execution_count": 36,
   "id": "01d6966a-012f-441c-a04a-c3fd6ba67103",
   "metadata": {},
   "outputs": [],
   "source": [
    "def gs_path(blob_name: str,\n",
    "            bucket_name: str) -> str:\n",
    "    \"\"\"\n",
    "    gs_path(blob_name:str,\n",
    "            bucket_name:str = DATA_BUCKET_NAME)\n",
    "\n",
    "    Returns the Google Storage path to a blob.\n",
    "\n",
    "    # The ID of your GCS object\n",
    "    # blob_name = \"storage-object-name\"\n",
    "\n",
    "    # The ID of your GCS bucket\n",
    "    # bucket_name = \"your-bucket-name\"\n",
    "\n",
    "    \"\"\"\n",
    "\n",
    "    return f\"gs://{bucket_name}/{blob_name}\""
   ]
  },
  {
   "cell_type": "code",
   "execution_count": 30,
   "id": "efe60bf6-a096-4207-b8c9-abb59ebcf510",
   "metadata": {},
   "outputs": [
    {
     "data": {
      "text/html": [
       "<div>\n",
       "<style scoped>\n",
       "    .dataframe tbody tr th:only-of-type {\n",
       "        vertical-align: middle;\n",
       "    }\n",
       "\n",
       "    .dataframe tbody tr th {\n",
       "        vertical-align: top;\n",
       "    }\n",
       "\n",
       "    .dataframe thead th {\n",
       "        text-align: right;\n",
       "    }\n",
       "</style>\n",
       "<table border=\"1\" class=\"dataframe\">\n",
       "  <thead>\n",
       "    <tr style=\"text-align: right;\">\n",
       "      <th></th>\n",
       "      <th>name</th>\n",
       "      <th>subjects</th>\n",
       "      <th>marks</th>\n",
       "    </tr>\n",
       "  </thead>\n",
       "  <tbody>\n",
       "    <tr>\n",
       "      <th>0</th>\n",
       "      <td>sravan</td>\n",
       "      <td>java</td>\n",
       "      <td>98</td>\n",
       "    </tr>\n",
       "    <tr>\n",
       "      <th>1</th>\n",
       "      <td>jyothika</td>\n",
       "      <td>java</td>\n",
       "      <td>79</td>\n",
       "    </tr>\n",
       "    <tr>\n",
       "      <th>2</th>\n",
       "      <td>harsha</td>\n",
       "      <td>java</td>\n",
       "      <td>89</td>\n",
       "    </tr>\n",
       "    <tr>\n",
       "      <th>3</th>\n",
       "      <td>ramya</td>\n",
       "      <td>python</td>\n",
       "      <td>97</td>\n",
       "    </tr>\n",
       "    <tr>\n",
       "      <th>4</th>\n",
       "      <td>sravan</td>\n",
       "      <td>python</td>\n",
       "      <td>82</td>\n",
       "    </tr>\n",
       "  </tbody>\n",
       "</table>\n",
       "</div>"
      ],
      "text/plain": [
       "       name subjects  marks\n",
       "0    sravan     java     98\n",
       "1  jyothika     java     79\n",
       "2    harsha     java     89\n",
       "3     ramya   python     97\n",
       "4    sravan   python     82"
      ]
     },
     "execution_count": 30,
     "metadata": {},
     "output_type": "execute_result"
    }
   ],
   "source": [
    "BLOB_NAME = 'read_write_data.csv'\n",
    "\n",
    "client = storage.Client()\n",
    "\n",
    "path = f\"gs://{BUCKET_NAME}/{BLOB_NAME}\"\n",
    "\n",
    "df = pd.read_csv(path, nrows=5)\n",
    "\n",
    "df"
   ]
  },
  {
   "cell_type": "markdown",
   "id": "3423bd50-04f9-4fde-a7b3-0b292a3de3f4",
   "metadata": {},
   "source": [
    "### Delete an object"
   ]
  },
  {
   "cell_type": "code",
   "execution_count": 34,
   "id": "29c69107-0462-47e9-8754-174699f4a0c8",
   "metadata": {},
   "outputs": [],
   "source": [
    "from google.cloud import storage\n",
    "\n",
    "\n",
    "def delete_blob(bucket_name, blob_name):\n",
    "    \"\"\"Deletes a blob from the bucket.\"\"\"\n",
    "    # bucket_name = \"your-bucket-name\"\n",
    "    # blob_name = \"your-object-name\"\n",
    "\n",
    "    storage_client = storage.Client()\n",
    "\n",
    "    bucket = storage_client.bucket(bucket_name)\n",
    "    blob = bucket.blob(blob_name)\n",
    "    blob.delete()\n",
    "\n",
    "    print(f\"Blob {blob_name} deleted.\")\n",
    "\n"
   ]
  },
  {
   "cell_type": "code",
   "execution_count": null,
   "id": "cc079686-5245-4588-8733-8b561febd7df",
   "metadata": {},
   "outputs": [],
   "source": []
  }
 ],
 "metadata": {
  "kernelspec": {
   "display_name": "Python 3 (ipykernel)",
   "language": "python",
   "name": "python3"
  },
  "language_info": {
   "codemirror_mode": {
    "name": "ipython",
    "version": 3
   },
   "file_extension": ".py",
   "mimetype": "text/x-python",
   "name": "python",
   "nbconvert_exporter": "python",
   "pygments_lexer": "ipython3",
   "version": "3.8.12"
  }
 },
 "nbformat": 4,
 "nbformat_minor": 5
}
