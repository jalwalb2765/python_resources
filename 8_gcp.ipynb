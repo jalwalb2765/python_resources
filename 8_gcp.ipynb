{
 "cells": [
  {
   "cell_type": "markdown",
   "id": "1fd5394a-4f65-47a6-afde-1df6273fec0b",
   "metadata": {},
   "source": [
    "# Google Cloud Platform"
   ]
  },
  {
   "cell_type": "code",
   "execution_count": null,
   "id": "67d43c6f-4edd-4e81-8d79-d94138de255c",
   "metadata": {},
   "outputs": [],
   "source": []
  }
 ],
 "metadata": {
  "kernelspec": {
   "display_name": "Python 3 (ipykernel)",
   "language": "python",
   "name": "python3"
  },
  "language_info": {
   "codemirror_mode": {
    "name": "ipython",
    "version": 3
   },
   "file_extension": ".py",
   "mimetype": "text/x-python",
   "name": "python",
   "nbconvert_exporter": "python",
   "pygments_lexer": "ipython3",
   "version": "3.8.12"
  }
 },
 "nbformat": 4,
 "nbformat_minor": 5
}
