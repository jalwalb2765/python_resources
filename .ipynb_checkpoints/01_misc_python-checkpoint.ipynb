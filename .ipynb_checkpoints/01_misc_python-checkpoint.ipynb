{
 "cells": [
  {
   "cell_type": "markdown",
   "id": "bf2af28d-9fed-4c08-b3c9-a905ed52ca9f",
   "metadata": {},
   "source": [
    "# Misc. Python Libraries & Functionality"
   ]
  },
  {
   "cell_type": "markdown",
   "id": "63a5f7ad-aafc-4e5e-baa9-dab737495801",
   "metadata": {},
   "source": [
    "Libraries included in this are:\n",
    "\n",
    "    1. CSV\n",
    "    2. Requests\n",
    "    3. BeautifulSoup\n",
    "    4. OS\n",
    "    "
   ]
  },
  {
   "cell_type": "markdown",
   "id": "9f7d19a3-4456-495e-a6e9-9b654873f0e2",
   "metadata": {},
   "source": [
    "## 'curl' Terminal Command\n"
   ]
  },
  {
   "cell_type": "markdown",
   "id": "a1465282-c0bc-444f-bb6e-04bd27c789bd",
   "metadata": {},
   "source": [
    "To download files from the internet, you can use the 'curl' command. This is a terminal command, so you need to put an '!' in front of it if you are going to run it in a Notebook."
   ]
  },
  {
   "cell_type": "code",
   "execution_count": 7,
   "id": "082da6c0-202e-4a3a-8344-903bd607a12c",
   "metadata": {},
   "outputs": [
    {
     "name": "stdout",
     "output_type": "stream",
     "text": [
      "John,Doe,120 jefferson st.,Riverside, NJ, 08075\n",
      "Jack,McGinnis,220 hobo Av.,Phila, PA,09119\n",
      "\"John \"\"Da Man\"\"\",Repici,120 Jefferson St.,Riverside, NJ,08075\n",
      "Stephen,Tyler,\"7452 Terrace \"\"At the Plaza\"\" road\",SomeTown,SD, 91234\n",
      ",Blankman,,SomeTown, SD, 00298\n",
      "\"Joan \"\"the bone\"\", Anne\",Jet,\"9th, at Terrace plc\",Desert City,CO,00123\n",
      "\n",
      "\n",
      "\"Name\",     \"Sex\", \"Age\", \"Height (in)\", \"Weight (lbs)\"\n",
      "\"Alex\",       \"M\",   41,       74,      170\n",
      "\"Bert\",       \"M\",   42,       68,      166\n"
     ]
    }
   ],
   "source": [
    "!curl -s https://people.sc.fsu.edu/~jburkardt/data/csv/addresses.csv > data/addresses.csv\n",
    "!cat data/addresses.csv\n",
    "\n",
    "print('\\n')\n",
    "\n",
    "!curl -s https://people.sc.fsu.edu/~jburkardt/data/csv/biostats.csv > data/biostats.csv\n",
    "!head -n 3 data/biostats.csv"
   ]
  },
  {
   "cell_type": "markdown",
   "id": "6f75557c-a886-4875-9998-e8daf480b22f",
   "metadata": {},
   "source": [
    "## CSV"
   ]
  },
  {
   "cell_type": "markdown",
   "id": "756b28ae-d6d4-4194-9ae0-f424536f947f",
   "metadata": {},
   "source": [
    "CSV is a module for reading and writing CSV files."
   ]
  },
  {
   "cell_type": "markdown",
   "id": "cfb21a3a-9054-40c1-a994-684caa8e34a4",
   "metadata": {},
   "source": [
    "### CSV Reading without Headers (csv.reader)"
   ]
  },
  {
   "cell_type": "code",
   "execution_count": 18,
   "id": "eb715b77-8738-4f8c-b782-01486f1c2c50",
   "metadata": {},
   "outputs": [
    {
     "name": "stdout",
     "output_type": "stream",
     "text": [
      "<class '_csv.reader'>\n",
      "['John', 'Doe', '120 jefferson st.', 'Riverside', 'NJ', '08075']\n",
      "['Jack', 'McGinnis', '220 hobo Av.', 'Phila', 'PA', '09119']\n",
      "['John \"Da Man\"', 'Repici', '120 Jefferson St.', 'Riverside', 'NJ', '08075']\n",
      "['Stephen', 'Tyler', '7452 Terrace \"At the Plaza\" road', 'SomeTown', 'SD', '91234']\n",
      "['', 'Blankman', '', 'SomeTown', 'SD', '00298']\n",
      "['Joan \"the bone\", Anne', 'Jet', '9th, at Terrace plc', 'Desert City', 'CO', '00123']\n"
     ]
    }
   ],
   "source": [
    "import csv\n",
    "\n",
    "with open('data/addresses.csv') as csvfile:\n",
    "    reader = csv.reader(csvfile, skipinitialspace=True)\n",
    "    \n",
    "    print(type(reader))\n",
    "    \n",
    "    for row in reader:\n",
    "        # row is a `list`\n",
    "        print(row)"
   ]
  },
  {
   "cell_type": "markdown",
   "id": "e4a97730-97ee-442e-b9ad-acf875d41665",
   "metadata": {},
   "source": [
    "### CSV with Headers (csv.DictReader)"
   ]
  },
  {
   "cell_type": "code",
   "execution_count": 1,
   "id": "9138c445-d429-4818-9cbb-d5ae160971b3",
   "metadata": {},
   "outputs": [
    {
     "name": "stdout",
     "output_type": "stream",
     "text": [
      "<class 'csv.DictReader'>\n",
      "<class 'dict'>\n",
      "{'Name': 'Alex', 'Sex': 'M', 'Age': '41', 'Height (in)': '74', 'Weight (lbs)': '170'}\n",
      "Alex M 41\n",
      "<class 'dict'>\n",
      "{'Name': 'Bert', 'Sex': 'M', 'Age': '42', 'Height (in)': '68', 'Weight (lbs)': '166'}\n",
      "Bert M 42\n",
      "<class 'dict'>\n",
      "{'Name': 'Carl', 'Sex': 'M', 'Age': '32', 'Height (in)': '70', 'Weight (lbs)': '155'}\n",
      "Carl M 32\n",
      "<class 'dict'>\n",
      "{'Name': 'Dave', 'Sex': 'M', 'Age': '39', 'Height (in)': '72', 'Weight (lbs)': '167'}\n",
      "Dave M 39\n",
      "<class 'dict'>\n",
      "{'Name': 'Elly', 'Sex': 'F', 'Age': '30', 'Height (in)': '66', 'Weight (lbs)': '124'}\n",
      "Elly F 30\n",
      "<class 'dict'>\n",
      "{'Name': 'Fran', 'Sex': 'F', 'Age': '33', 'Height (in)': '66', 'Weight (lbs)': '115'}\n",
      "Fran F 33\n",
      "<class 'dict'>\n",
      "{'Name': 'Gwen', 'Sex': 'F', 'Age': '26', 'Height (in)': '64', 'Weight (lbs)': '121'}\n",
      "Gwen F 26\n",
      "<class 'dict'>\n",
      "{'Name': 'Hank', 'Sex': 'M', 'Age': '30', 'Height (in)': '71', 'Weight (lbs)': '158'}\n",
      "Hank M 30\n",
      "<class 'dict'>\n",
      "{'Name': 'Ivan', 'Sex': 'M', 'Age': '53', 'Height (in)': '72', 'Weight (lbs)': '175'}\n",
      "Ivan M 53\n",
      "<class 'dict'>\n",
      "{'Name': 'Jake', 'Sex': 'M', 'Age': '32', 'Height (in)': '69', 'Weight (lbs)': '143'}\n",
      "Jake M 32\n",
      "<class 'dict'>\n",
      "{'Name': 'Kate', 'Sex': 'F', 'Age': '47', 'Height (in)': '69', 'Weight (lbs)': '139'}\n",
      "Kate F 47\n",
      "<class 'dict'>\n",
      "{'Name': 'Luke', 'Sex': 'M', 'Age': '34', 'Height (in)': '72', 'Weight (lbs)': '163'}\n",
      "Luke M 34\n",
      "<class 'dict'>\n",
      "{'Name': 'Myra', 'Sex': 'F', 'Age': '23', 'Height (in)': '62', 'Weight (lbs)': '98'}\n",
      "Myra F 23\n",
      "<class 'dict'>\n",
      "{'Name': 'Neil', 'Sex': 'M', 'Age': '36', 'Height (in)': '75', 'Weight (lbs)': '160'}\n",
      "Neil M 36\n",
      "<class 'dict'>\n",
      "{'Name': 'Omar', 'Sex': 'M', 'Age': '38', 'Height (in)': '70', 'Weight (lbs)': '145'}\n",
      "Omar M 38\n",
      "<class 'dict'>\n",
      "{'Name': 'Page', 'Sex': 'F', 'Age': '31', 'Height (in)': '67', 'Weight (lbs)': '135'}\n",
      "Page F 31\n",
      "<class 'dict'>\n",
      "{'Name': 'Quin', 'Sex': 'M', 'Age': '29', 'Height (in)': '71', 'Weight (lbs)': '176'}\n",
      "Quin M 29\n",
      "<class 'dict'>\n",
      "{'Name': 'Ruth', 'Sex': 'F', 'Age': '28', 'Height (in)': '65', 'Weight (lbs)': '131'}\n",
      "Ruth F 28\n"
     ]
    }
   ],
   "source": [
    "import csv\n",
    "\n",
    "with open('data/biostats.csv') as csvfile:\n",
    "    reader = csv.DictReader(csvfile, skipinitialspace=True)\n",
    "    \n",
    "    # reader is a csv.DictReader object, and the information inside cannot be directly retreived.\n",
    "    print(type(reader))\n",
    "    \n",
    "    # You need to use a for loop to access the data\n",
    "\n",
    "    for row in reader:\n",
    "        # Each row is a dictionary, with the header row as the keys\n",
    "        print(type(row))\n",
    "        print(row)\n",
    "        \n",
    "        # You can also access the values as below\n",
    "        print(row['Name'], row['Sex'], int(row['Age']))\n",
    "        \n",
    "        #You can also read each row as it's own dictionary as below"
   ]
  },
  {
   "cell_type": "markdown",
   "id": "137a3521-c4f7-41a0-9410-ec3693739b21",
   "metadata": {},
   "source": [
    "### Writing a CSV (csv.DictWriter)"
   ]
  },
  {
   "cell_type": "code",
   "execution_count": 27,
   "id": "4954582a-a6ea-43d9-9099-d3605c912b0b",
   "metadata": {},
   "outputs": [],
   "source": [
    "beatles = [\n",
    "    { 'first_name': 'John', 'last_name': 'lennon', 'instrument': 'guitar'},\n",
    "    { 'first_name': 'Ringo', 'last_name': 'Starr', 'instrument': 'drums'}\n",
    "]"
   ]
  },
  {
   "cell_type": "markdown",
   "id": "84914a93-3123-471d-8823-a76a5f4c606e",
   "metadata": {},
   "source": [
    "The 'w' parameter in the 'open()' function is for write."
   ]
  },
  {
   "cell_type": "code",
   "execution_count": 30,
   "id": "ef036e86-106a-4d0d-9c6d-2e2f9a148c64",
   "metadata": {},
   "outputs": [],
   "source": [
    "import csv\n",
    "\n",
    "with open('data/beatles.csv', 'w') as csvfile:\n",
    "    writer = csv.DictWriter(csvfile, fieldnames=beatles[0].keys())\n",
    "    writer.writeheader()\n",
    "    for beatle in beatles:\n",
    "          writer.writerow(beatle)\n",
    "            "
   ]
  },
  {
   "cell_type": "code",
   "execution_count": 31,
   "id": "e725a0b9-887c-4abe-aa19-3f4bcb60745a",
   "metadata": {},
   "outputs": [
    {
     "name": "stdout",
     "output_type": "stream",
     "text": [
      "first_name,last_name,instrument\n",
      "John,lennon,guitar\n",
      "Ringo,Starr,drums\n"
     ]
    }
   ],
   "source": [
    "!cat data/beatles.csv"
   ]
  },
  {
   "cell_type": "markdown",
   "id": "e21d88bd-4637-448f-8d4e-25f1872bc002",
   "metadata": {},
   "source": [
    "## FastApi & Uvicorn"
   ]
  },
  {
   "cell_type": "markdown",
   "id": "8952aa1f-b2b3-44cc-9216-460fdc708e17",
   "metadata": {},
   "source": [
    "👉 High performance python framework\n",
    "\n",
    "👉 Easy to learn, fast to code\n",
    "\n",
    "👉 Automatically generated documentation allowing to test the API endpoints easily 🎉\n",
    "\n",
    "    pip install fastapi\n",
    "\n",
    "https://fastapi.tiangolo.com/\n",
    "\n",
    "FastAPI uses python decorators in order to link the routes that the developers will query to the code of the endpoints. The code of the decorated function will be called whenever a HTTP request is received. The response will be returned as a JSON object to the code querying the API.\n",
    "\n",
    "The code below is written in a 'simple.py' python file"
   ]
  },
  {
   "cell_type": "code",
   "execution_count": null,
   "id": "775d7116-9b83-4a92-bfa1-bfb2bd65c623",
   "metadata": {},
   "outputs": [],
   "source": [
    "from fastapi import FastAPI\n",
    "\n",
    "app = FastAPI()\n",
    "\n",
    "# define a root `/` endpoint\n",
    "@app.get(\"/\")\n",
    "def index():\n",
    "    return {\"ok\": True}"
   ]
  },
  {
   "cell_type": "markdown",
   "id": "0b3b704a-4c49-4dca-b124-612d78c22a68",
   "metadata": {},
   "source": [
    "What if we run the code?"
   ]
  },
  {
   "cell_type": "code",
   "execution_count": null,
   "id": "b4c8d9d5-eb63-4657-87b7-89f697203bac",
   "metadata": {},
   "outputs": [],
   "source": [
    "!python -m simple"
   ]
  },
  {
   "cell_type": "markdown",
   "id": "93c4a428-59ee-4792-b6f5-8383c9cee3a2",
   "metadata": {},
   "source": [
    "Nothing happens... 🤔\n",
    "\n",
    "We need to use a web server in order to listen to the web requests for the API and call the code of the corresponding endpoint !\n",
    "\n",
    "👉 We will use Uvicorn\n",
    "\n",
    "**Uvicorn**\n",
    "\n",
    "👉 Lightning fast web server for python\n",
    "\n",
    "👉 Uvicorn listens to all the HTTP requests and calls the code decorated for the corresponding FastAPI endpoints.\n",
    "\n",
    "    pip install uvicorn\n",
    "\n",
    "https://www.uvicorn.org/\n",
    "\n",
    "\n",
    "Let's run our API using the web server\n",
    "\n",
    "Uvicorn requires as parameters the name of the python file to run (here simple.py) as well as the name of the variable inside of the file containing the instance of the FastAPI app (here the variable is called app, hence the supplied parameter simple:app).\n",
    "\n",
    "The code below is run in terminal from the location of the 'simple.py' python file."
   ]
  },
  {
   "cell_type": "code",
   "execution_count": null,
   "id": "0f0b1674-1df9-4fca-a7e6-32643e35ea06",
   "metadata": {},
   "outputs": [],
   "source": [
    "!uvicorn simple:app --reload"
   ]
  },
  {
   "cell_type": "markdown",
   "id": "43a840ab-0302-4dda-879b-aa67b1c3ecd7",
   "metadata": {},
   "source": [
    "Now we can browse to the root page of the API: http://localhost:8000/, in a browser.\n",
    "\n",
    "When you do, you will get back json format data saying: "
   ]
  },
  {
   "cell_type": "code",
   "execution_count": 3,
   "id": "04c4dcb3-d885-4a41-8db2-6d30da117912",
   "metadata": {},
   "outputs": [
    {
     "data": {
      "text/plain": [
       "{True, 'ok'}"
      ]
     },
     "execution_count": 3,
     "metadata": {},
     "output_type": "execute_result"
    }
   ],
   "source": [
    "{\"ok\", True}"
   ]
  },
  {
   "cell_type": "markdown",
   "id": "09ae70a2-70f3-4365-81dd-9756a9878281",
   "metadata": {},
   "source": [
    "**FastAPI** provides automatically generated documentation allowing developers to simplify their integration of the API. The endpoints of the API can be easily tested through dedicated pages 🎉\n",
    "\n",
    "Swagger documentation and tests:\n",
    "\n",
    "    http://localhost:8000/docs\n",
    "\n",
    "Redoc documentation:\n",
    "\n",
    "    http://localhost:8000/redoc\n",
    "\n",
    "👉 The /docs endpoint is powered by Swagger and comes in very handy in order to test our API and verify that everything is working correctly. It is also very useful for developers wanting to test our API"
   ]
  },
  {
   "cell_type": "markdown",
   "id": "ce8c137e-24b4-48da-916d-34e972bdf949",
   "metadata": {},
   "source": [
    "## Requests"
   ]
  },
  {
   "cell_type": "code",
   "execution_count": null,
   "id": "12405168-a33b-45e0-89a4-b66634cc8369",
   "metadata": {},
   "outputs": [],
   "source": [
    "import requests\n",
    "\n",
    "url = \"http://127.0.0.1:8000/predict\"\n",
    "params = \n",
    "\n",
    "response = requests.get(\n",
    "    url,                   #Always need this\n",
    "    params,                #Use if you want to pass parameters to your query\n",
    "    user                   #Use if you need user \n",
    ").json()\n",
    "\n",
    "print(response)\n"
   ]
  }
 ],
 "metadata": {
  "kernelspec": {
   "display_name": "Python 3 (ipykernel)",
   "language": "python",
   "name": "python3"
  },
  "language_info": {
   "codemirror_mode": {
    "name": "ipython",
    "version": 3
   },
   "file_extension": ".py",
   "mimetype": "text/x-python",
   "name": "python",
   "nbconvert_exporter": "python",
   "pygments_lexer": "ipython3",
   "version": "3.8.12"
  }
 },
 "nbformat": 4,
 "nbformat_minor": 5
}
