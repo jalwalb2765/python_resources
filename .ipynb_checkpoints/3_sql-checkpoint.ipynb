{
 "cells": [
  {
   "cell_type": "markdown",
   "id": "2a8b4106-443c-45bb-9ebb-0fd360d27667",
   "metadata": {},
   "source": [
    "# SQL"
   ]
  },
  {
   "cell_type": "markdown",
   "id": "a59ea99d-1bc0-4cb4-96a4-9cdc6e23ee46",
   "metadata": {},
   "source": [
    "## Exploration\n",
    "\n",
    "Let's use DBeaver, a universal database client for developers, SQL programmers, database administrators and analysts.\n",
    "\n",
    "https://dbeaver.io/"
   ]
  },
  {
   "cell_type": "markdown",
   "id": "4edacc75-283c-4c4b-a054-11c1540d8060",
   "metadata": {},
   "source": [
    "## ERD Diagram\n",
    "\n",
    "When discovering a new database, a data scientist should explore and draw the Entity Relationship Diagram.\n",
    "\n",
    "https://www.visual-paradigm.com/guide/data-modeling/what-is-entity-relationship-diagram/\n",
    "\n",
    "👉 Useful tool: kitt.lewagon.com/db (Save XML)\n",
    "\n",
    "https://kitt.lewagon.com/db\n",
    "\n",
    "https://online.visual-paradigm.com/diagrams/solutions/free-erd-tool/\n",
    "\n",
    "https://gitmind.com/er-diagram-tool.html"
   ]
  },
  {
   "cell_type": "markdown",
   "id": "efa0483c-c1bc-410e-81db-5dcbbc6f1b0a",
   "metadata": {},
   "source": [
    "## SQLite\n",
    "\n",
    "A database stored in a single file.\n",
    "\n",
    "👉 https://www.sqlite.org/index.html\n"
   ]
  },
  {
   "cell_type": "markdown",
   "id": "d0231e84-16ca-4f7b-ba31-aa656516694b",
   "metadata": {},
   "source": [
    "For the examples below, we use the 👉 European Soccer Database on Kaggle\n",
    "\n",
    "https://www.kaggle.com/hugomathien/soccer/"
   ]
  },
  {
   "cell_type": "markdown",
   "id": "b76c76d3-fe5b-4ca7-8b49-1c62acfea2fa",
   "metadata": {},
   "source": [
    "### Connecting To The Database"
   ]
  },
  {
   "cell_type": "markdown",
   "id": "be9e26fe-9d3b-419b-ac5e-929ab61edccd",
   "metadata": {},
   "source": [
    "#### Reaching for the sqlite3 package."
   ]
  },
  {
   "cell_type": "code",
   "execution_count": 1,
   "id": "20fc7f91-2917-4eee-8745-0ff0d020ce5a",
   "metadata": {
    "tags": []
   },
   "outputs": [],
   "source": [
    "import sqlite3"
   ]
  },
  {
   "cell_type": "code",
   "execution_count": 2,
   "id": "13dff399-e2e6-4275-85f3-7825aedb3855",
   "metadata": {},
   "outputs": [],
   "source": [
    "conn = sqlite3.connect('data/soccer.sqlite')\n",
    "c = conn.cursor()"
   ]
  },
  {
   "cell_type": "code",
   "execution_count": 3,
   "id": "0b42328f-2df9-4b75-9c5b-8badd2952e9a",
   "metadata": {},
   "outputs": [
    {
     "data": {
      "text/plain": [
       "[(1, 'Belgium'),\n",
       " (1729, 'England'),\n",
       " (4769, 'France'),\n",
       " (7809, 'Germany'),\n",
       " (10257, 'Italy'),\n",
       " (13274, 'Netherlands'),\n",
       " (15722, 'Poland'),\n",
       " (17642, 'Portugal'),\n",
       " (19694, 'Scotland'),\n",
       " (21518, 'Spain'),\n",
       " (24558, 'Switzerland')]"
      ]
     },
     "execution_count": 3,
     "metadata": {},
     "output_type": "execute_result"
    }
   ],
   "source": [
    "c.execute(\"SELECT * FROM Country\")\n",
    "rows = c.fetchall()\n",
    "rows"
   ]
  },
  {
   "cell_type": "markdown",
   "id": "09f0cc95-c9e1-46e0-83f0-b73efb26e9c0",
   "metadata": {},
   "source": [
    "#### You can also fetch a list of sqlite3.Row elements:\n",
    "\n",
    "https://docs.python.org/3/library/sqlite3.html#sqlite3.Row"
   ]
  },
  {
   "cell_type": "code",
   "execution_count": 3,
   "id": "da969064-c9cc-4936-b6fb-5ced88fdc641",
   "metadata": {},
   "outputs": [],
   "source": [
    "conn = sqlite3.connect('data/soccer.sqlite')\n",
    "conn.row_factory = sqlite3.Row\n",
    "c = conn.cursor()"
   ]
  },
  {
   "cell_type": "code",
   "execution_count": 4,
   "id": "c98889c8-e2e2-4c3d-95cb-3075765b06bc",
   "metadata": {},
   "outputs": [],
   "source": [
    "c.execute(\"SELECT * FROM Country\")\n",
    "rows = c.fetchall()\n",
    "first_row = rows[0]"
   ]
  },
  {
   "cell_type": "code",
   "execution_count": 8,
   "id": "c764a32a-f103-41f2-89b4-feff6edc8cc4",
   "metadata": {},
   "outputs": [
    {
     "data": {
      "text/plain": [
       "'Belgium'"
      ]
     },
     "execution_count": 8,
     "metadata": {},
     "output_type": "execute_result"
    }
   ],
   "source": [
    "first_row['name']"
   ]
  },
  {
   "cell_type": "code",
   "execution_count": 11,
   "id": "4c57e781-186d-4884-848a-71e44c577414",
   "metadata": {},
   "outputs": [
    {
     "data": {
      "text/plain": [
       "(1, 'Belgium')"
      ]
     },
     "execution_count": 11,
     "metadata": {},
     "output_type": "execute_result"
    }
   ],
   "source": [
    "tuple(first_row)"
   ]
  },
  {
   "cell_type": "markdown",
   "id": "2fd7522c-e5bc-48ab-8066-60e766f0e859",
   "metadata": {},
   "source": [
    "#### Fetching only one element\n",
    "\n",
    "Sometimes you know that your query will yield only one (or zero!) element. Then use fetchone:\n",
    "\n",
    "https://docs.python.org/3/library/sqlite3.html#sqlite3.Cursor.fetchone"
   ]
  },
  {
   "cell_type": "code",
   "execution_count": 12,
   "id": "13a809a2-7e75-4d77-b4a0-dba727bee5aa",
   "metadata": {},
   "outputs": [
    {
     "name": "stdout",
     "output_type": "stream",
     "text": [
      "1 - Belgium\n"
     ]
    }
   ],
   "source": [
    "c.execute(\"SELECT * FROM Country WHERE Country.id = 1\")\n",
    "row = c.fetchone()\n",
    "print(row[0], '-' ,row[1])"
   ]
  },
  {
   "cell_type": "code",
   "execution_count": 15,
   "id": "7cdf1cb2-5fa8-4476-86db-13380947136e",
   "metadata": {},
   "outputs": [
    {
     "name": "stdout",
     "output_type": "stream",
     "text": [
      "None\n"
     ]
    }
   ],
   "source": [
    "c.execute(\"SELECT * FROM Country WHERE Country.id = 2\")\n",
    "row = c.fetchone()\n",
    "print(row)"
   ]
  },
  {
   "cell_type": "markdown",
   "id": "59a9ba74-3bd5-4d7c-ae77-bad85b470c4c",
   "metadata": {},
   "source": [
    "### SQL Basics"
   ]
  },
  {
   "cell_type": "code",
   "execution_count": 6,
   "id": "0ed30323-1bbc-4d27-bd71-c4ee12133768",
   "metadata": {},
   "outputs": [],
   "source": [
    "conn = sqlite3.connect('data/soccer.sqlite')\n",
    "c = conn.cursor()"
   ]
  },
  {
   "cell_type": "markdown",
   "id": "cedb09ee-4cfa-462b-8b6a-5bd44e06667f",
   "metadata": {},
   "source": [
    "#### Projection\n",
    "\n",
    "Choosing which columns the query shall return.\n",
    "\n",
    "🤔 Retrieve id, season, stage and date of all matches"
   ]
  },
  {
   "cell_type": "code",
   "execution_count": 15,
   "id": "fda8171b-3acf-4c07-a661-45ea40c05611",
   "metadata": {},
   "outputs": [
    {
     "name": "stdout",
     "output_type": "stream",
     "text": [
      "Rows Returned: 25979\n"
     ]
    },
    {
     "data": {
      "text/plain": [
       "[(1, '2008/2009', 1, '2008-08-17 00:00:00'),\n",
       " (2, '2008/2009', 1, '2008-08-16 00:00:00'),\n",
       " (3, '2008/2009', 1, '2008-08-16 00:00:00'),\n",
       " (4, '2008/2009', 1, '2008-08-17 00:00:00'),\n",
       " (5, '2008/2009', 1, '2008-08-16 00:00:00'),\n",
       " (6, '2008/2009', 1, '2008-09-24 00:00:00'),\n",
       " (7, '2008/2009', 1, '2008-08-16 00:00:00'),\n",
       " (8, '2008/2009', 1, '2008-08-16 00:00:00'),\n",
       " (9, '2008/2009', 1, '2008-08-16 00:00:00'),\n",
       " (10, '2008/2009', 10, '2008-11-01 00:00:00')]"
      ]
     },
     "execution_count": 15,
     "metadata": {},
     "output_type": "execute_result"
    }
   ],
   "source": [
    "query = '''\n",
    "    SELECT \"Match\".id, \"Match\".season, \"Match\".stage, \"Match\".date \n",
    "    FROM \"Match\"\n",
    "'''\n",
    "\n",
    "c.execute(query)\n",
    "rows = c.fetchall()\n",
    "\n",
    "print(f'Rows Returned: {len(rows)}')\n",
    "\n",
    "rows[0:10]\n"
   ]
  },
  {
   "cell_type": "markdown",
   "id": "416887b1-3175-498f-bd52-99d2f3ba8a2e",
   "metadata": {},
   "source": [
    "💡Tip: You can alias tables name for enhanced readability"
   ]
  },
  {
   "cell_type": "code",
   "execution_count": 16,
   "id": "b33c5d4e-c259-439d-9d96-b3cd5ca40a00",
   "metadata": {},
   "outputs": [
    {
     "name": "stdout",
     "output_type": "stream",
     "text": [
      "Rows Returned: 25979\n"
     ]
    },
    {
     "data": {
      "text/plain": [
       "[(1, '2008/2009', 1, '2008-08-17 00:00:00'),\n",
       " (2, '2008/2009', 1, '2008-08-16 00:00:00'),\n",
       " (3, '2008/2009', 1, '2008-08-16 00:00:00'),\n",
       " (4, '2008/2009', 1, '2008-08-17 00:00:00'),\n",
       " (5, '2008/2009', 1, '2008-08-16 00:00:00'),\n",
       " (6, '2008/2009', 1, '2008-09-24 00:00:00'),\n",
       " (7, '2008/2009', 1, '2008-08-16 00:00:00'),\n",
       " (8, '2008/2009', 1, '2008-08-16 00:00:00'),\n",
       " (9, '2008/2009', 1, '2008-08-16 00:00:00'),\n",
       " (10, '2008/2009', 10, '2008-11-01 00:00:00')]"
      ]
     },
     "execution_count": 16,
     "metadata": {},
     "output_type": "execute_result"
    }
   ],
   "source": [
    "query = '''\n",
    "    SELECT matches.id, matches.season, matches.stage, matches.date\n",
    "    FROM \"Match\" AS matches\n",
    "'''\n",
    "\n",
    "c.execute(query)\n",
    "rows = c.fetchall()\n",
    "\n",
    "print(f'Rows Returned: {len(rows)}')\n",
    "\n",
    "rows[0:10]"
   ]
  },
  {
   "cell_type": "markdown",
   "id": "9ca22ce7-ab76-430d-8761-134feafe8d08",
   "metadata": {},
   "source": [
    "#### Selection\n",
    "\n",
    "Selecting which rows the query shall return.\n",
    "\n",
    "🤔 Retrieve matches which happened in France"
   ]
  },
  {
   "cell_type": "code",
   "execution_count": 25,
   "id": "18efb69f-2e9f-410b-b21a-408a190678d5",
   "metadata": {},
   "outputs": [
    {
     "name": "stdout",
     "output_type": "stream",
     "text": [
      "Rows Returned: 3040\n"
     ]
    },
    {
     "data": {
      "text/plain": [
       "[(4769, '2008/2009', 1, '2008-08-09 00:00:00', 4769),\n",
       " (4770, '2008/2009', 1, '2008-08-09 00:00:00', 4769),\n",
       " (4771, '2008/2009', 1, '2008-08-09 00:00:00', 4769),\n",
       " (4772, '2008/2009', 1, '2008-08-09 00:00:00', 4769),\n",
       " (4773, '2008/2009', 1, '2008-08-10 00:00:00', 4769),\n",
       " (4774, '2008/2009', 1, '2008-08-09 00:00:00', 4769),\n",
       " (4775, '2008/2009', 1, '2008-08-09 00:00:00', 4769),\n",
       " (4776, '2008/2009', 1, '2008-08-09 00:00:00', 4769),\n",
       " (4777, '2008/2009', 1, '2008-08-09 00:00:00', 4769),\n",
       " (4778, '2008/2009', 1, '2008-08-09 00:00:00', 4769)]"
      ]
     },
     "execution_count": 25,
     "metadata": {},
     "output_type": "execute_result"
    }
   ],
   "source": [
    "query = '''\n",
    "    SELECT matches.id, matches.season, matches.stage, matches.date, matches.country_id\n",
    "    FROM \"Match\" AS matches\n",
    "    WHERE matches.country_id = 4769\n",
    "'''\n",
    "\n",
    "c.execute(query)\n",
    "rows = c.fetchall()\n",
    "\n",
    "print(f'Rows Returned: {len(rows)}')\n",
    "\n",
    "rows[0:10]"
   ]
  },
  {
   "cell_type": "markdown",
   "id": "cfefe669-be12-483b-af4a-c2f2f776b18b",
   "metadata": {},
   "source": [
    "---\n",
    "\n",
    "🤔 Retrieve matches which happened in Belgium or England"
   ]
  },
  {
   "cell_type": "code",
   "execution_count": 24,
   "id": "0da8de43-ef70-4faa-bf97-ad45b7008202",
   "metadata": {},
   "outputs": [
    {
     "name": "stdout",
     "output_type": "stream",
     "text": [
      "Rows Returned: 4768\n"
     ]
    },
    {
     "data": {
      "text/plain": [
       "[(1, '2008/2009', 1, '2008-08-17 00:00:00', 1),\n",
       " (2, '2008/2009', 1, '2008-08-16 00:00:00', 1),\n",
       " (3, '2008/2009', 1, '2008-08-16 00:00:00', 1),\n",
       " (4, '2008/2009', 1, '2008-08-17 00:00:00', 1),\n",
       " (5, '2008/2009', 1, '2008-08-16 00:00:00', 1),\n",
       " (6, '2008/2009', 1, '2008-09-24 00:00:00', 1),\n",
       " (7, '2008/2009', 1, '2008-08-16 00:00:00', 1),\n",
       " (8, '2008/2009', 1, '2008-08-16 00:00:00', 1),\n",
       " (9, '2008/2009', 1, '2008-08-16 00:00:00', 1),\n",
       " (10, '2008/2009', 10, '2008-11-01 00:00:00', 1)]"
      ]
     },
     "execution_count": 24,
     "metadata": {},
     "output_type": "execute_result"
    }
   ],
   "source": [
    "query = '''\n",
    "    SELECT matches.id, matches.season, matches.stage, matches.date, matches.country_id\n",
    "    FROM \"Match\" AS matches\n",
    "    WHERE matches.country_id = 1\n",
    "    OR matches.country_id = 1729\n",
    "'''\n",
    "\n",
    "c.execute(query)\n",
    "rows = c.fetchall()\n",
    "\n",
    "print(f'Rows Returned: {len(rows)}')\n",
    "\n",
    "rows[0:10]"
   ]
  },
  {
   "cell_type": "markdown",
   "id": "a9871b8e-962e-403b-b9b7-9777a201cd7f",
   "metadata": {},
   "source": [
    "---\n",
    "\n",
    "Alternative:\n",
    "\n",
    "**Note: the WHERE ... IN ... list needs to be passed as a tuple!!**"
   ]
  },
  {
   "cell_type": "code",
   "execution_count": 29,
   "id": "3185171e-bbe9-46ea-84fe-2d8cdc246169",
   "metadata": {},
   "outputs": [
    {
     "name": "stdout",
     "output_type": "stream",
     "text": [
      "Rows Returned: 4768\n"
     ]
    },
    {
     "data": {
      "text/plain": [
       "[(1, '2008/2009', 1, '2008-08-17 00:00:00', 1),\n",
       " (2, '2008/2009', 1, '2008-08-16 00:00:00', 1),\n",
       " (3, '2008/2009', 1, '2008-08-16 00:00:00', 1),\n",
       " (4, '2008/2009', 1, '2008-08-17 00:00:00', 1),\n",
       " (5, '2008/2009', 1, '2008-08-16 00:00:00', 1),\n",
       " (6, '2008/2009', 1, '2008-09-24 00:00:00', 1),\n",
       " (7, '2008/2009', 1, '2008-08-16 00:00:00', 1),\n",
       " (8, '2008/2009', 1, '2008-08-16 00:00:00', 1),\n",
       " (9, '2008/2009', 1, '2008-08-16 00:00:00', 1),\n",
       " (10, '2008/2009', 10, '2008-11-01 00:00:00', 1)]"
      ]
     },
     "execution_count": 29,
     "metadata": {},
     "output_type": "execute_result"
    }
   ],
   "source": [
    "country_ids = (1,1729)\n",
    "\n",
    "query = f'''\n",
    "    SELECT matches.id, matches.season, matches.stage, matches.date, matches.country_id\n",
    "    FROM \"Match\" AS matches\n",
    "    WHERE matches.country_id IN {country_ids}\n",
    "'''\n",
    "\n",
    "c.execute(query)\n",
    "rows = c.fetchall()\n",
    "\n",
    "print(f'Rows Returned: {len(rows)}')\n",
    "\n",
    "rows[0:10]"
   ]
  },
  {
   "cell_type": "markdown",
   "id": "a1dc58dd-71c2-4402-a2c1-24505d35d6ba",
   "metadata": {},
   "source": [
    "- - -\n",
    "\n",
    "🤔 Retrieve players named John"
   ]
  },
  {
   "cell_type": "code",
   "execution_count": 32,
   "id": "040725fd-654b-4860-90be-12e41e3da712",
   "metadata": {},
   "outputs": [
    {
     "name": "stdout",
     "output_type": "stream",
     "text": [
      "Rows Returned: 31\n"
     ]
    },
    {
     "data": {
      "text/plain": [
       "(5093,\n",
       " 278831,\n",
       " 'John Anthony Brooks',\n",
       " 204082,\n",
       " '1993-01-28 00:00:00',\n",
       " 193.04,\n",
       " 172)"
      ]
     },
     "execution_count": 32,
     "metadata": {},
     "output_type": "execute_result"
    }
   ],
   "source": [
    "query = '''\n",
    "    SELECT *\n",
    "    FROM Player\n",
    "    WHERE UPPER(Player.player_name) LIKE \"JOHN %\"\n",
    "'''\n",
    "\n",
    "c.execute(query)\n",
    "rows = c.fetchall()\n",
    "\n",
    "print(f'Rows Returned: {len(rows)}')\n",
    "\n",
    "rows[0]"
   ]
  },
  {
   "cell_type": "markdown",
   "id": "e5031588-f879-479f-a1bf-8d5440bbe784",
   "metadata": {},
   "source": [
    "#### Counting\n",
    "\n",
    "Counting the number of rows matching the selection\n",
    "\n",
    "🤔 How many players are taller than 2.00 meters?"
   ]
  },
  {
   "cell_type": "code",
   "execution_count": 36,
   "id": "7b8c728a-ba54-467d-823c-a5fab54c02ce",
   "metadata": {},
   "outputs": [
    {
     "name": "stdout",
     "output_type": "stream",
     "text": [
      "Rows Returned: 1\n"
     ]
    },
    {
     "data": {
      "text/plain": [
       "22"
      ]
     },
     "execution_count": 36,
     "metadata": {},
     "output_type": "execute_result"
    }
   ],
   "source": [
    "query = '''\n",
    "    SELECT COUNT(Player.id)\n",
    "    FROM Player\n",
    "    WHERE Player.height >= 200\n",
    "'''\n",
    "\n",
    "c.execute(query)\n",
    "rows = c.fetchone()\n",
    "\n",
    "print(f'Rows Returned: {len(rows)}')\n",
    "\n",
    "rows[0]"
   ]
  },
  {
   "cell_type": "markdown",
   "id": "76f20550-4ae7-4e7b-b626-897f5621d842",
   "metadata": {},
   "source": [
    "#### Sorting\n",
    "\n",
    "Sorting the rows based on a column (or a group of columns)\n",
    "\n",
    "🤔 Who are the 10 heaviest players?"
   ]
  },
  {
   "cell_type": "code",
   "execution_count": 38,
   "id": "137996bb-f086-4bb5-b3c9-0188720d5611",
   "metadata": {},
   "outputs": [
    {
     "name": "stdout",
     "output_type": "stream",
     "text": [
      "Rows Returned: 10\n"
     ]
    },
    {
     "data": {
      "text/plain": [
       "[(5908,\n",
       "  148325,\n",
       "  'Kristof van Hout',\n",
       "  185306,\n",
       "  '1987-02-09 00:00:00',\n",
       "  208.28,\n",
       "  243),\n",
       " (10313, 27313, 'Tim Wiese', 53012, '1981-12-17 00:00:00', 193.04, 243),\n",
       " (4884, 5044, 'Jeroen Verhoeven', 137692, '1980-04-30 00:00:00', 198.12, 227),\n",
       " (4412, 27267, 'Ishmael Miller', 169725, '1987-03-05 00:00:00', 193.04, 225),\n",
       " (1598, 101584, 'Cassio', 167958, '1987-06-06 00:00:00', 195.58, 220),\n",
       " (1822, 19020, 'Christopher Samba', 46590, '1984-03-28 00:00:00', 193.04, 220),\n",
       " (5976, 210822, 'Lars Unnerstall', 199833, '1990-07-20 00:00:00', 198.12, 220),\n",
       " (6772, 30669, 'Marcus Hahnemann', 53785, '1972-06-15 00:00:00', 190.5, 220),\n",
       " (45, 40005, 'Abdoulaye Faye', 100329, '1978-02-26 00:00:00', 187.96, 218),\n",
       " (3030, 33060, 'Enoch Showunmi', 157589, '1982-04-21 00:00:00', 195.58, 218)]"
      ]
     },
     "execution_count": 38,
     "metadata": {},
     "output_type": "execute_result"
    }
   ],
   "source": [
    "query = '''\n",
    "    SELECT *\n",
    "    FROM Player\n",
    "    ORDER BY Player.weight DESC\n",
    "    LIMIT 10\n",
    "'''\n",
    "\n",
    "c.execute(query)\n",
    "rows = c.fetchall()\n",
    "\n",
    "print(f'Rows Returned: {len(rows)}')\n",
    "\n",
    "rows[0:10]"
   ]
  },
  {
   "cell_type": "markdown",
   "id": "c76de8f3-2dea-49a4-b192-3fc71929f664",
   "metadata": {},
   "source": [
    "#### Grouping\n",
    "\n",
    "Grouping rows on a given column C (aggregating rows with a function where values of C column are the same)\n",
    "\n",
    "🤔 How many matches were played on a per-country basis?"
   ]
  },
  {
   "cell_type": "code",
   "execution_count": 40,
   "id": "f48ee52c-796e-44f8-a342-512f5b6aff8e",
   "metadata": {},
   "outputs": [
    {
     "name": "stdout",
     "output_type": "stream",
     "text": [
      "Rows Returned: 11\n"
     ]
    },
    {
     "data": {
      "text/plain": [
       "[(1728, 1),\n",
       " (3040, 1729),\n",
       " (3040, 4769),\n",
       " (2448, 7809),\n",
       " (3017, 10257),\n",
       " (2448, 13274),\n",
       " (1920, 15722),\n",
       " (2052, 17642),\n",
       " (1824, 19694),\n",
       " (3040, 21518),\n",
       " (1422, 24558)]"
      ]
     },
     "execution_count": 40,
     "metadata": {},
     "output_type": "execute_result"
    }
   ],
   "source": [
    "query = '''\n",
    "    SELECT COUNT(matches.id), matches.country_id\n",
    "    FROM \"Match\" AS matches\n",
    "    GROUP BY matches.country_id\n",
    "'''\n",
    "\n",
    "c.execute(query)\n",
    "rows = c.fetchall()\n",
    "\n",
    "print(f'Rows Returned: {len(rows)}')\n",
    "\n",
    "rows"
   ]
  },
  {
   "cell_type": "markdown",
   "id": "6a3d6a60-b6f0-4460-9575-809948701068",
   "metadata": {},
   "source": [
    "---\n",
    "\n",
    "🤔 What if we want to sort those results? We need an alias:"
   ]
  },
  {
   "cell_type": "code",
   "execution_count": 41,
   "id": "ce6e14a3-2ec9-4eae-907c-21f82d6c4de3",
   "metadata": {},
   "outputs": [
    {
     "name": "stdout",
     "output_type": "stream",
     "text": [
      "Rows Returned: 11\n"
     ]
    },
    {
     "data": {
      "text/plain": [
       "[(3040, 21518),\n",
       " (3040, 4769),\n",
       " (3040, 1729),\n",
       " (3017, 10257),\n",
       " (2448, 13274),\n",
       " (2448, 7809),\n",
       " (2052, 17642),\n",
       " (1920, 15722),\n",
       " (1824, 19694),\n",
       " (1728, 1),\n",
       " (1422, 24558)]"
      ]
     },
     "execution_count": 41,
     "metadata": {},
     "output_type": "execute_result"
    }
   ],
   "source": [
    "query = '''\n",
    "    SELECT COUNT(matches.id) AS match_count, matches.country_id\n",
    "    FROM \"Match\" AS matches\n",
    "    GROUP BY matches.country_id\n",
    "    ORDER BY match_count DESC\n",
    "'''\n",
    "\n",
    "c.execute(query)\n",
    "rows = c.fetchall()\n",
    "\n",
    "print(f'Rows Returned: {len(rows)}')\n",
    "\n",
    "rows"
   ]
  },
  {
   "cell_type": "markdown",
   "id": "89135fc5-c076-47ea-a5a7-73057c269c68",
   "metadata": {},
   "source": [
    "---\n",
    "\n",
    "🤔 How many matches were played on a per-country basis, ignoring countries with less than 3000 matches?"
   ]
  },
  {
   "cell_type": "code",
   "execution_count": 42,
   "id": "2c8abd87-07b2-4e59-bd10-a5b604e217b3",
   "metadata": {},
   "outputs": [
    {
     "name": "stdout",
     "output_type": "stream",
     "text": [
      "Rows Returned: 4\n"
     ]
    },
    {
     "data": {
      "text/plain": [
       "[(3040, 21518), (3040, 4769), (3040, 1729), (3017, 10257)]"
      ]
     },
     "execution_count": 42,
     "metadata": {},
     "output_type": "execute_result"
    }
   ],
   "source": [
    "query = '''\n",
    "    SELECT COUNT(matches.id) AS match_count, matches.country_id\n",
    "    FROM \"Match\" AS matches\n",
    "    GROUP BY matches.country_id\n",
    "    HAVING match_count >= 3000\n",
    "    ORDER BY match_count DESC\n",
    "'''\n",
    "\n",
    "c.execute(query)\n",
    "rows = c.fetchall()\n",
    "\n",
    "print(f'Rows Returned: {len(rows)}')\n",
    "\n",
    "rows"
   ]
  },
  {
   "cell_type": "markdown",
   "id": "dcf8fd9d-dce6-4412-99cb-c36c560d0fd2",
   "metadata": {},
   "source": [
    "---\n",
    "\n",
    "🤔 How many matches were\n",
    "\n",
    "    won by the home team\n",
    "    won by the away team\n",
    "    finished with a draw"
   ]
  },
  {
   "cell_type": "code",
   "execution_count": 43,
   "id": "9f8c7e19-3bf2-47b6-986b-d367723a26e8",
   "metadata": {},
   "outputs": [
    {
     "name": "stdout",
     "output_type": "stream",
     "text": [
      "Rows Returned: 3\n"
     ]
    },
    {
     "data": {
      "text/plain": [
       "[(11917, 'home_win'), (7466, 'away_win'), (6596, 'draw')]"
      ]
     },
     "execution_count": 43,
     "metadata": {},
     "output_type": "execute_result"
    }
   ],
   "source": [
    "query = '''\n",
    "    SELECT \n",
    "    COUNT(matches.id) AS outcome_count,\n",
    "    CASE \n",
    "        WHEN matches.home_team_goal > matches.away_team_goal\n",
    "            THEN 'home_win'\n",
    "        WHEN matches.home_team_goal = matches.away_team_goal\n",
    "            THEN 'draw'\n",
    "        ELSE 'away_win'\n",
    "    END AS outcome\n",
    "    FROM \"Match\" AS matches\n",
    "    GROUP BY outcome\n",
    "    ORDER BY outcome_count DESC\n",
    "'''\n",
    "\n",
    "c.execute(query)\n",
    "rows = c.fetchall()\n",
    "\n",
    "print(f'Rows Returned: {len(rows)}')\n",
    "\n",
    "rows"
   ]
  },
  {
   "cell_type": "markdown",
   "id": "90cc7e71-0d18-4f65-8cdc-912869b71120",
   "metadata": {},
   "source": [
    "#### Querying multiple tables\n",
    "\n",
    "It's time to JOIN.\n",
    "\n",
    "🤔 Retrieve leagues with their respective country.\n"
   ]
  },
  {
   "cell_type": "code",
   "execution_count": 44,
   "id": "3338ef51-51a1-4662-8aad-30aa057ac5e2",
   "metadata": {},
   "outputs": [
    {
     "name": "stdout",
     "output_type": "stream",
     "text": [
      "Rows Returned: 11\n"
     ]
    },
    {
     "data": {
      "text/plain": [
       "[('Belgium Jupiler League', 'Belgium'),\n",
       " ('England Premier League', 'England'),\n",
       " ('France Ligue 1', 'France'),\n",
       " ('Germany 1. Bundesliga', 'Germany'),\n",
       " ('Italy Serie A', 'Italy'),\n",
       " ('Netherlands Eredivisie', 'Netherlands'),\n",
       " ('Poland Ekstraklasa', 'Poland'),\n",
       " ('Portugal Liga ZON Sagres', 'Portugal'),\n",
       " ('Scotland Premier League', 'Scotland'),\n",
       " ('Spain LIGA BBVA', 'Spain'),\n",
       " ('Switzerland Super League', 'Switzerland')]"
      ]
     },
     "execution_count": 44,
     "metadata": {},
     "output_type": "execute_result"
    }
   ],
   "source": [
    "query = '''\n",
    "    SELECT League.name, Country.name\n",
    "    FROM League\n",
    "    JOIN Country ON League.country_id = Country.id\n",
    "'''\n",
    "\n",
    "c.execute(query)\n",
    "rows = c.fetchall()\n",
    "\n",
    "print(f'Rows Returned: {len(rows)}')\n",
    "\n",
    "rows"
   ]
  },
  {
   "cell_type": "markdown",
   "id": "5eac2b7a-a38a-4c3e-8bac-1586e2df7603",
   "metadata": {},
   "source": [
    "---\n",
    "🤔 How many matches where played in each league (with their respective country)?"
   ]
  },
  {
   "cell_type": "code",
   "execution_count": 45,
   "id": "2eef889e-b7bf-4cb6-a781-29bb0f1a8e16",
   "metadata": {},
   "outputs": [
    {
     "name": "stdout",
     "output_type": "stream",
     "text": [
      "Rows Returned: 11\n"
     ]
    },
    {
     "data": {
      "text/plain": [
       "[(1729, 'England Premier League', 3040, 'England'),\n",
       " (4769, 'France Ligue 1', 3040, 'France'),\n",
       " (21518, 'Spain LIGA BBVA', 3040, 'Spain'),\n",
       " (10257, 'Italy Serie A', 3017, 'Italy'),\n",
       " (7809, 'Germany 1. Bundesliga', 2448, 'Germany'),\n",
       " (13274, 'Netherlands Eredivisie', 2448, 'Netherlands'),\n",
       " (17642, 'Portugal Liga ZON Sagres', 2052, 'Portugal'),\n",
       " (15722, 'Poland Ekstraklasa', 1920, 'Poland'),\n",
       " (19694, 'Scotland Premier League', 1824, 'Scotland'),\n",
       " (1, 'Belgium Jupiler League', 1728, 'Belgium'),\n",
       " (24558, 'Switzerland Super League', 1422, 'Switzerland')]"
      ]
     },
     "execution_count": 45,
     "metadata": {},
     "output_type": "execute_result"
    }
   ],
   "source": [
    "query = '''\n",
    "    SELECT\n",
    "        League.id,\n",
    "        League.name AS league_name,\n",
    "        COUNT(matches.id) AS match_count,\n",
    "        Country.name AS country_name\n",
    "    FROM \"Match\" AS matches\n",
    "    JOIN League ON matches.league_id = League.id\n",
    "    JOIN Country ON League.country_id = Country.id\n",
    "    GROUP BY League.id\n",
    "    ORDER BY\n",
    "        match_count DESC,\n",
    "        country_name ASC\n",
    "'''\n",
    "\n",
    "c.execute(query)\n",
    "rows = c.fetchall()\n",
    "\n",
    "print(f'Rows Returned: {len(rows)}')\n",
    "\n",
    "rows"
   ]
  },
  {
   "attachments": {
    "b45d89f2-c80a-4ddb-97e0-99729f9a1734.png": {
     "image/png": "[encoded data removed]"
    }
   },
   "cell_type": "markdown",
   "id": "f39eb219-f93b-4a8d-bb10-491477001871",
   "metadata": {},
   "source": [
    "### The order of SQL statements matters\n",
    "\n",
    "![image.png](attachment:b45d89f2-c80a-4ddb-97e0-99729f9a1734.png)\n",
    "\n",
    "https://www.sisense.com/blog/sql-query-order-of-operations/"
   ]
  },
  {
   "cell_type": "markdown",
   "id": "bbbfb9d9-ccd5-41ee-8df1-1dfe0e221b09",
   "metadata": {},
   "source": [
    "### SQL Injection\n",
    "\n",
    "When submitting the registration form, the server executes something like this:\n",
    "\n",
    "```sql\n",
    "INSERT INTO Students (last_name, first_name)\n",
    "VALUES('{last_name}', '{first_name}')\n",
    "```\n",
    "\n",
    "With the input Robert'); DROP TABLE Students; --, the SQL query executed is:\n",
    "\n",
    "```sql\n",
    "INSERT INTO students (last_name, first_name)\n",
    "VALUES('Smith', 'Robert'); DROP TABLE Students; --');\n",
    "```\n",
    "\n",
    "**which will delete the Students table from the database!!!**\n",
    "\n",
    "ℹ️ This exploit does not work on SQLite if you use execute() but does if you use executescript() (cf Documentation)\n",
    "\n",
    "https://docs.python.org/3.7/library/sqlite3.html#sqlite3.Cursor.execute"
   ]
  },
  {
   "cell_type": "markdown",
   "id": "1d0c6414-eb5a-4113-ac6b-b7a30495ca1b",
   "metadata": {},
   "source": [
    "#### Exploit example\n",
    "\n",
    "Let's create an exploitable_db.sqlite with the following code:"
   ]
  },
  {
   "cell_type": "code",
   "execution_count": 48,
   "id": "37f2d118-8411-4216-880a-23792c2ec9c1",
   "metadata": {},
   "outputs": [],
   "source": [
    "import sqlite3\n",
    "\n",
    "conn = sqlite3.connect('data/exploitable_db.sqlite')\n",
    "c = conn.cursor()\n",
    "\n",
    "c.execute(\"\"\"\n",
    "CREATE TABLE users(\n",
    "    id         INTEGER      PRIMARY KEY AUTOINCREMENT,\n",
    "    username   VARCHAR(100) UNIQUE,\n",
    "    password   VARCHAR(100)\n",
    ")\n",
    "\"\"\")\n",
    "\n",
    "USERS = [\n",
    "    ('john', 'passw0rd'),\n",
    "    ('paul', 'supers3cret')\n",
    "]\n",
    "\n",
    "for user in USERS:\n",
    "    c.execute(\"INSERT INTO users (username, password) VALUES (?, ?)\", user)\n",
    "    conn.commit()\n",
    "\n",
    "conn.close()"
   ]
  },
  {
   "cell_type": "markdown",
   "id": "43f5e2b9-ce3b-4470-ab03-e57652164a8c",
   "metadata": {},
   "source": [
    "You can use the code below to check it out from terminal\n",
    "\n",
    "```cli\n",
    "sqlite3 data/exploitable_db.sqlite\n",
    "```\n",
    "\n",
    "```sql\n",
    ".headers on\n",
    ".mode column\n",
    "SELECT * FROM users;\n",
    ".quit\n",
    "```"
   ]
  },
  {
   "cell_type": "code",
   "execution_count": 50,
   "id": "dd50269d-a6f5-46c5-971e-a1681fd7a1a9",
   "metadata": {},
   "outputs": [
    {
     "name": "stdout",
     "output_type": "stream",
     "text": [
      "Unauthorized\n",
      "Authorized\n"
     ]
    }
   ],
   "source": [
    "import sqlite3\n",
    "conn = sqlite3.connect('data/exploitable_db.sqlite')\n",
    "c = conn.cursor()\n",
    "\n",
    "def connect(username, password):\n",
    "    query = f\"\"\"\n",
    "        SELECT *\n",
    "        FROM users\n",
    "        WHERE users.username = '{username}'\n",
    "        AND users.password = '{password}'\n",
    "    \"\"\"\n",
    "    c.execute(query)\n",
    "    user = c.fetchone()\n",
    "    if user is None:\n",
    "        return \"Unauthorized\"\n",
    "    else:\n",
    "        return \"Authorized\"\n",
    "\n",
    "print(connect(\"john\", \"wrong_password\"))\n",
    "print(connect(\"john\", \"passw0rd\"))"
   ]
  },
  {
   "cell_type": "markdown",
   "id": "c4d2d022-5c1e-4319-be77-5107dd811955",
   "metadata": {},
   "source": [
    "**EXPLOIT**"
   ]
  },
  {
   "cell_type": "code",
   "execution_count": 52,
   "id": "761cb8ce-1ab9-467c-a374-04a677de0fc4",
   "metadata": {},
   "outputs": [
    {
     "name": "stdout",
     "output_type": "stream",
     "text": [
      "Authorized\n"
     ]
    }
   ],
   "source": [
    "print(connect(\"john\", \"'OR 1=1 --\"))  # 😱"
   ]
  },
  {
   "cell_type": "markdown",
   "id": "3d4ed3f6-6bd8-44b7-871c-f2f98c1634f4",
   "metadata": {},
   "source": [
    "#### Use parameter substitution ✅"
   ]
  },
  {
   "cell_type": "code",
   "execution_count": 53,
   "id": "9bf78757-96bf-4752-bd00-c724b053d8f5",
   "metadata": {},
   "outputs": [],
   "source": [
    "import sqlite3\n",
    "\n",
    "conn = sqlite3.connect('data/exploitable_db.sqlite')\n",
    "c = conn.cursor()\n",
    "\n",
    "def connect_safe(username, password):\n",
    "    query = \"\"\"\n",
    "        SELECT *\n",
    "        FROM users\n",
    "        WHERE users.username = ?\n",
    "        AND users.password = ?\n",
    "    \"\"\"\n",
    "    c.execute(query, (username, password))\n",
    "    user = c.fetchone()\n",
    "    if user is None:\n",
    "        return \"Unauthorized\"\n",
    "    else:\n",
    "        return \"Authorized\""
   ]
  },
  {
   "cell_type": "code",
   "execution_count": 54,
   "id": "55443557-3032-433c-9cbc-ea4524503f84",
   "metadata": {},
   "outputs": [
    {
     "name": "stdout",
     "output_type": "stream",
     "text": [
      "Unauthorized\n",
      "Authorized\n"
     ]
    }
   ],
   "source": [
    "print(connect_safe(\"john\", \"wrong_password\"))\n",
    "print(connect_safe(\"john\", \"passw0rd\"))"
   ]
  },
  {
   "cell_type": "code",
   "execution_count": 55,
   "id": "e47f9145-9f7a-405b-a06e-d2addfb11600",
   "metadata": {},
   "outputs": [
    {
     "name": "stdout",
     "output_type": "stream",
     "text": [
      "Unauthorized\n"
     ]
    }
   ],
   "source": [
    "print(connect_safe(\"john\", \"'OR 1=1 --\"))"
   ]
  },
  {
   "cell_type": "markdown",
   "id": "45a74ec3-d187-4c6e-84e3-04b3a8fe2edd",
   "metadata": {},
   "source": [
    "### CRUD\n",
    "\n",
    "    - Create\n",
    "    - Update\n",
    "    - Delete"
   ]
  },
  {
   "cell_type": "code",
   "execution_count": 118,
   "id": "cf61baaf-a176-4d3e-9a76-8ca4b61141ec",
   "metadata": {},
   "outputs": [
    {
     "name": "stdout",
     "output_type": "stream",
     "text": [
      "CRUD database already exists with food table\n",
      "\n",
      "Current Table\n",
      "[(1, 'cheddar', 'dairy  ', 'kind_of', 'can vary in sharpness of taste'), (2, 'Carrots', '  vegetable', 'yes', 'orange vegetable, tastes sweet'), (3, 'steak', 'mean', 'kind_of', 'savory taste, normally beef')]\n"
     ]
    }
   ],
   "source": [
    "# Create/reset database to edit\n",
    "\n",
    "import sqlite3\n",
    "\n",
    "conn = sqlite3.connect('data/CRUD_db.sqlite')\n",
    "c = conn.cursor()\n",
    "\n",
    "#Check if the food table already exists\n",
    "\n",
    "query = \"\"\"\n",
    "        SELECT name \n",
    "        FROM sqlite_master\n",
    "        WHERE type='table';\n",
    "    \"\"\"\n",
    "\n",
    "c.execute(query)\n",
    "tables = c.fetchall()\n",
    "\n",
    "if tables == []:\n",
    "    \n",
    "    print('Creating New Table')\n",
    "    \n",
    "    c.execute(\"\"\"\n",
    "    CREATE TABLE food(\n",
    "        id         INTEGER      PRIMARY KEY AUTOINCREMENT,\n",
    "        food_name  VARCHAR(100) UNIQUE,\n",
    "        food_type  VARCHAR(100),\n",
    "        healthy    VARCHAR(100), \n",
    "        desc       VARCHAR(100)\n",
    "    )\n",
    "    \"\"\")\n",
    "\n",
    "    FOODS = [\n",
    "        ('cheddar', 'dairy  ', 'kind_of', 'can vary in sharpness of taste'),\n",
    "        ('Carrots', '  vegetable', 'yes', 'orange vegetable, tastes sweet'),\n",
    "        ('steak', 'mean', 'kind_of', 'savory taste, normally beef')\n",
    "    ]\n",
    "\n",
    "    for food in FOODS:\n",
    "        c.execute(\"INSERT INTO food (food_name, food_type, healthy, desc) VALUES (?, ?, ?, ?)\", food)\n",
    "        conn.commit()\n",
    "\n",
    "    conn.close()\n",
    "\n",
    "elif 'food' in tables[0]:\n",
    "    \n",
    "    print('CRUD database already exists with food table\\n')\n",
    "    \n",
    "    query = '''\n",
    "        SELECT *\n",
    "        FROM food\n",
    "    '''\n",
    "\n",
    "    c.execute(query)\n",
    "    rows = c.fetchall()\n",
    "\n",
    "    print(f'Current Table')\n",
    "    print(rows)\n",
    "    \n",
    "else: \n",
    "    print('We Have A Problem...')\n"
   ]
  },
  {
   "cell_type": "code",
   "execution_count": 97,
   "id": "481b4447-bd52-4c1e-9c2f-93c28f80a4c5",
   "metadata": {},
   "outputs": [
    {
     "name": "stdout",
     "output_type": "stream",
     "text": [
      "Rows Returned: 3\n"
     ]
    },
    {
     "data": {
      "text/plain": [
       "[(1, 'cheddar', 'dairy', 'kind_of', 'can vary in sharpness of taste'),\n",
       " (2, 'carrots', 'vegetable', 'yes', 'orange vegetable'),\n",
       " (3, 'steak', 'mean', 'kind_of', 'normally beef')]"
      ]
     },
     "execution_count": 97,
     "metadata": {},
     "output_type": "execute_result"
    }
   ],
   "source": [
    "conn = sqlite3.connect('data/CRUD_db.sqlite')\n",
    "c = conn.cursor()\n",
    "\n",
    "query = '''\n",
    "    SELECT *\n",
    "    FROM food\n",
    "'''\n",
    "\n",
    "c.execute(query)\n",
    "rows = c.fetchall()\n",
    "\n",
    "print(f'Rows Returned: {len(rows)}')\n",
    "rows"
   ]
  },
  {
   "cell_type": "markdown",
   "id": "288d24e9-6201-4d04-914b-0107b1ac1c3b",
   "metadata": {},
   "source": [
    "#### CREATE\n",
    "\n",
    "```sql\n",
    "INSERT INTO table (column1, column2, ...)\n",
    "VALUES(value1, value2 , ...)\n",
    "```\n",
    "\n",
    "Insert a new row (a tuple of values) into a given table:"
   ]
  },
  {
   "cell_type": "code",
   "execution_count": 98,
   "id": "0bb24546-c756-404b-9294-086bc32a6553",
   "metadata": {},
   "outputs": [
    {
     "name": "stdout",
     "output_type": "stream",
     "text": [
      "Rows Returned: 4\n"
     ]
    },
    {
     "data": {
      "text/plain": [
       "[(1, 'cheddar', 'dairy', 'kind_of', 'can vary in sharpness of taste'),\n",
       " (2, 'carrots', 'vegetable', 'yes', 'orange vegetable'),\n",
       " (3, 'steak', 'mean', 'kind_of', 'normally beef'),\n",
       " (4, 'chocolate_cake', 'desert', 'no', 'sweet chocolatey goodness')]"
      ]
     },
     "execution_count": 98,
     "metadata": {},
     "output_type": "execute_result"
    }
   ],
   "source": [
    "# Connect to database\n",
    "conn = sqlite3.connect('data/CRUD_db.sqlite')\n",
    "c = conn.cursor()\n",
    "\n",
    "#Create new food items\n",
    "\n",
    "query = '''\n",
    "    INSERT INTO food (food_name, food_type, healthy, desc)\n",
    "    VALUES ('chocolate_cake', 'desert', 'no', 'sweet chocolatey goodness')\n",
    "'''\n",
    "\n",
    "c.execute(query)\n",
    "\n",
    "#Check the updated table\n",
    "\n",
    "query = '''\n",
    "    SELECT *\n",
    "    FROM food\n",
    "'''\n",
    "\n",
    "c.execute(query)\n",
    "rows = c.fetchall()\n",
    "\n",
    "print(f'Rows Returned: {len(rows)}')\n",
    "\n",
    "rows"
   ]
  },
  {
   "cell_type": "markdown",
   "id": "8f6c11c7-6f21-4a16-84b0-2908447d8455",
   "metadata": {},
   "source": [
    "#### UPDATE\n",
    "\n",
    "Update a row (or rows) in table:\n",
    "\n",
    "```sql\n",
    "UPDATE table\n",
    "SET column_1 = new_value_1,\n",
    "    column_2 = new_value_2\n",
    "WHERE\n",
    "    search_condition\n",
    "```\n",
    "\n",
    "example:\n",
    "\n",
    "```sql\n",
    "UPDATE Country\n",
    "SET\n",
    "    name = 'République Française'\n",
    "WHERE\n",
    "    id = 4769\n",
    "\n",
    "```\n"
   ]
  },
  {
   "cell_type": "code",
   "execution_count": 99,
   "id": "1db70012-c083-45ab-bcec-91e009b6f669",
   "metadata": {},
   "outputs": [
    {
     "name": "stdout",
     "output_type": "stream",
     "text": [
      "Rows Returned: 3\n"
     ]
    },
    {
     "data": {
      "text/plain": [
       "[(1, 'cheddar', 'dairy', 'kind_of', 'can vary in sharpness of taste'),\n",
       " (2, 'carrots', 'vegetable', 'yes', 'orange vegetable'),\n",
       " (3, 'steak', 'meat', 'no', 'normally beef')]"
      ]
     },
     "execution_count": 99,
     "metadata": {},
     "output_type": "execute_result"
    }
   ],
   "source": [
    "# Connect to database\n",
    "conn = sqlite3.connect('data/CRUD_db.sqlite')\n",
    "c = conn.cursor()\n",
    "\n",
    "#Correct the error in the steak item\n",
    "\n",
    "query = '''\n",
    "    UPDATE food\n",
    "    SET\n",
    "        food_type = 'meat', \n",
    "        healthy = 'no'\n",
    "    WHERE \n",
    "        food_name = 'steak'\n",
    "'''\n",
    "\n",
    "c.execute(query)\n",
    "\n",
    "# Commit the changed table to the database\n",
    "conn.commit()\n",
    "\n",
    "#Check the updated table\n",
    "\n",
    "query = '''\n",
    "    SELECT *\n",
    "    FROM food\n",
    "'''\n",
    "\n",
    "c.execute(query)\n",
    "rows = c.fetchall()\n",
    "\n",
    "print(f'Rows Returned: {len(rows)}')\n",
    "\n",
    "rows"
   ]
  },
  {
   "cell_type": "markdown",
   "id": "6df5c349-ba92-49fe-8d11-bd0ae9093625",
   "metadata": {},
   "source": [
    "#### DELETE\n",
    "\n",
    "Deleting a row (or rows) from table:\n",
    "\n",
    "```sql\n",
    "DELETE FROM table\n",
    "WHERE search_condition\n",
    "```\n",
    "\n",
    "Example:\n",
    "\n",
    "```sql\n",
    "DELETE FROM Country\n",
    "WHERE id = 4769\n",
    "```"
   ]
  },
  {
   "cell_type": "code",
   "execution_count": 119,
   "id": "b1d312d2-5432-4938-ba73-c10d6765b3b9",
   "metadata": {},
   "outputs": [
    {
     "name": "stdout",
     "output_type": "stream",
     "text": [
      "Rows Returned: 1\n"
     ]
    },
    {
     "data": {
      "text/plain": [
       "[(2, 'Carrots', '  vegetable', 'yes', 'orange vegetable, tastes sweet')]"
      ]
     },
     "execution_count": 119,
     "metadata": {},
     "output_type": "execute_result"
    }
   ],
   "source": [
    "conn = sqlite3.connect('data/CRUD_db.sqlite')\n",
    "c = conn.cursor()\n",
    "\n",
    "#Keep only the healthy food\n",
    "\n",
    "query = '''\n",
    "    DELETE FROM food\n",
    "    WHERE healthy != 'yes'\n",
    "'''\n",
    "\n",
    "c.execute(query)\n",
    "\n",
    "#Check the updated table\n",
    "\n",
    "query = '''\n",
    "    SELECT *\n",
    "    FROM food\n",
    "'''\n",
    "\n",
    "c.execute(query)\n",
    "rows = c.fetchall()\n",
    "\n",
    "print(f'Rows Returned: {len(rows)}')\n",
    "\n",
    "rows"
   ]
  },
  {
   "cell_type": "markdown",
   "id": "f2c4dfb7-5f93-4ba1-b310-abbeed19184e",
   "metadata": {},
   "source": [
    "### Cleaning Data"
   ]
  },
  {
   "attachments": {
    "0043ae3a-76c4-44e3-add3-e6ce58d249b7.png": {
     "image/png": "[encoded data removed]"
    },
    "06a7467c-7ad6-429e-afac-c709223b67eb.png": {
     "image/png": "[encoded data removed]"
    },
    "07be657e-c8d4-43a7-a16b-79b02d78d678.png": {
     "image/png": "[encoded data removed]"
    },
    "2bd346ab-cb79-46c3-9efc-62c6ee7b6bdd.png": {
     "image/png": "[encoded data removed]"
    },
    "2e3a5585-f7d4-4c35-851e-da27b8ce4ebb.png": {
     "image/png": "[encoded data removed]"
    },
    "36bcf855-3618-48ae-a66f-927e6bcc833b.png": {
     "image/png": "[encoded data removed]"
    },
    "44b3b76e-0d58-4ede-9886-5e4e2572ed67.png": {
     "image/png": "[encoded data removed]"
    },
    "6d0e3418-b60b-468d-855f-1a1ee10ba2f7.png": {
     "image/png": "[encoded data removed]"
    },
    "7c01ec28-132a-4ffe-9239-2648e0bd8023.png": {
     "image/png": "[encoded data removed]"
    },
    "e9194825-e4a2-49b1-bd31-0fbb9e514a35.png": {
     "image/png": "[encoded data removed]"
    }
   },
   "cell_type": "markdown",
   "id": "e37ad63f-6a21-423f-a641-bf79c4778826",
   "metadata": {},
   "source": [
    "#### String Functions\n",
    "\n",
    "**INSTR** - Find a substring in a string and returns an integer indicating the position of the first occurrence of the substring.\n",
    "\n",
    "```sql\n",
    "SELECT INSTR('SQLite String Functions','Functions') Position;\n",
    "```\n",
    "![image.png](attachment:e9194825-e4a2-49b1-bd31-0fbb9e514a35.png)\n",
    "\n",
    "**LENGTH** - Return the number of characters in a string or the number of bytes in a BLOB.\n",
    "\n",
    "```sql\n",
    "SELECT \n",
    "    LENGTH('SQLite')\n",
    "```\n",
    "![image.png](attachment:06a7467c-7ad6-429e-afac-c709223b67eb.png)\n",
    "\n",
    "**LOWER** - Return a copy of a string with all of the characters converted to lowercase.\n",
    "\n",
    "```sql\n",
    "SELECT\n",
    "    LOWER('String Functions')\n",
    "```\n",
    "![image.png](attachment:2bd346ab-cb79-46c3-9efc-62c6ee7b6bdd.png)\n",
    "\n",
    "**UPPER** - Return a copy of a string with all of the characters converted to uppercase.\n",
    "\n",
    "```sql\n",
    "SELECT\n",
    "    UPPER('String Functions')\n",
    "```\n",
    "![image.png](attachment:7c01ec28-132a-4ffe-9239-2648e0bd8023.png)\n",
    "\n",
    "**LTRIM** - Return a copy of a string that has specified characters removed from the beginning of a string.\n",
    "\n",
    "```sql\n",
    "SELECT \n",
    "   LTRIM(' SQLite '),\n",
    "   LENGTH(' SQLite ') LengthBefore,\n",
    "   LENGTH(LTRIM(' SQLite ')) LengthAfter\n",
    "```\n",
    "![image.png](attachment:44b3b76e-0d58-4ede-9886-5e4e2572ed67.png)\n",
    "\n",
    "**RTRIM** - Return a copy of a string that has specified characters removed from the end of a string.\n",
    "\n",
    "```sql\n",
    "SELECT\n",
    "   RTRIM(' SQLite '),\n",
    "   LENGTH(' SQLite ') LengthBefore,\n",
    "   LENGTH(RTRIM(' SQLite ')) LengthAfter\n",
    "```\n",
    "![image.png](attachment:07be657e-c8d4-43a7-a16b-79b02d78d678.png)\n",
    "\n",
    "**TRIM** - Return a copy of a string that has specified characters removed from the beginning and the end of a string.\n",
    "\n",
    "```sql\n",
    "SELECT \n",
    "    TRIM(' SQLite ')\n",
    "```\n",
    "![image.png](attachment:6d0e3418-b60b-468d-855f-1a1ee10ba2f7.png)\n",
    "\n",
    "**REPLACE** - Return a copy of a string with each instance of a substring replaced by another substring.\n",
    "\n",
    "```sql\n",
    "SELECT \n",
    "    REPLACE('These are string functions', 'These', 'Those')\n",
    "```\n",
    "![image.png](attachment:0043ae3a-76c4-44e3-add3-e6ce58d249b7.png)\n",
    "\n",
    "**SUBSTR** - Extract and returns a substring with a predefined length starting at a specified position in a source string\n",
    "\n",
    "```sql\n",
    "SELECT \n",
    "    SUBSTR('SQLite String Functions', 1, 6)\n",
    "```\n",
    "![image.png](attachment:36bcf855-3618-48ae-a66f-927e6bcc833b.png)\n",
    "\n",
    "**Concatenation Operator ||** - Concatenate two strings into a single string.\n",
    "\n",
    "```sql\n",
    "SELECT 'Concatenation ' || 'Operator'\n",
    "```\n",
    "![image.png](attachment:2e3a5585-f7d4-4c35-851e-da27b8ce4ebb.png)"
   ]
  },
  {
   "cell_type": "code",
   "execution_count": 125,
   "id": "b1aa01ff-dc9a-4cf3-9dc9-66ec743b6954",
   "metadata": {},
   "outputs": [
    {
     "name": "stdout",
     "output_type": "stream",
     "text": [
      "('CHEDDAR', 'dairy', 'kind_of', 'can vary in sharpness of taste', 'an vary ', 'can vary in sharpness of taste', 26)\n",
      "('CARROTS', 'vegetable', 'yes', 'orange vegetable, tastes sweet', 'range ve', 'green vegetable, tastes sweet', 19)\n",
      "('STEAK', 'mean', 'kind_of', 'savory taste, normally beef', 'avory ta', 'savory taste, normally beef', 8)\n"
     ]
    }
   ],
   "source": [
    "conn = sqlite3.connect('data/CRUD_db.sqlite')\n",
    "c = conn.cursor()\n",
    "\n",
    "query = '''\n",
    "    SELECT \n",
    "        UPPER(food.food_name),\n",
    "        TRIM(food.food_type),\n",
    "        food.healthy,\n",
    "        food.desc,\n",
    "        SUBSTR(food.desc, 2, 8),\n",
    "        REPLACE(food.desc, 'orange', 'green'),\n",
    "        INSTR(food.desc, 'taste')\n",
    "    FROM food\n",
    "'''\n",
    "\n",
    "c.execute(query)\n",
    "rows = c.fetchall()\n",
    "\n",
    "for row in rows:\n",
    "    print(row)"
   ]
  },
  {
   "cell_type": "markdown",
   "id": "f5d7727a-1ef8-4458-8a51-381db40e0d8a",
   "metadata": {},
   "source": [
    "### SQL Joins\n",
    "\n",
    "Real power of SQL comes from working with data from multiple tables"
   ]
  },
  {
   "attachments": {
    "2038347f-9ee8-4ba7-b520-3686479f1bbb.png": {
     "image/png": "[encoded data removed]"
    }
   },
   "cell_type": "markdown",
   "id": "f7079a2b-637e-4bc4-a7d3-93f6311b55f4",
   "metadata": {},
   "source": [
    "#### Inner Joins\n",
    "\n",
    "![image.png](attachment:2038347f-9ee8-4ba7-b520-3686479f1bbb.png)\n",
    "\n",
    "```sql\n",
    "SELECT *\n",
    "FROM League\n",
    "JOIN Country ON Country.id = League.country_id\n",
    "```"
   ]
  },
  {
   "cell_type": "code",
   "execution_count": 127,
   "id": "731bb2e3-899d-4c0a-9bab-a52825609756",
   "metadata": {},
   "outputs": [
    {
     "data": {
      "text/plain": [
       "[(1, 1, 'Belgium Jupiler League', 1, 'Belgium'),\n",
       " (1729, 1729, 'England Premier League', 1729, 'England'),\n",
       " (4769, 4769, 'France Ligue 1', 4769, 'France'),\n",
       " (7809, 7809, 'Germany 1. Bundesliga', 7809, 'Germany'),\n",
       " (10257, 10257, 'Italy Serie A', 10257, 'Italy'),\n",
       " (13274, 13274, 'Netherlands Eredivisie', 13274, 'Netherlands'),\n",
       " (15722, 15722, 'Poland Ekstraklasa', 15722, 'Poland'),\n",
       " (17642, 17642, 'Portugal Liga ZON Sagres', 17642, 'Portugal'),\n",
       " (19694, 19694, 'Scotland Premier League', 19694, 'Scotland'),\n",
       " (21518, 21518, 'Spain LIGA BBVA', 21518, 'Spain'),\n",
       " (24558, 24558, 'Switzerland Super League', 24558, 'Switzerland')]"
      ]
     },
     "execution_count": 127,
     "metadata": {},
     "output_type": "execute_result"
    }
   ],
   "source": [
    "import sqlite3\n",
    "\n",
    "conn = sqlite3.connect('data/soccer.sqlite')\n",
    "c = conn.cursor()\n",
    "\n",
    "query = '''\n",
    "    SELECT *\n",
    "    FROM League\n",
    "    JOIN Country ON Country.id = League.country_id\n",
    "'''\n",
    "\n",
    "c.execute(query)\n",
    "rows = c.fetchall()\n",
    "rows"
   ]
  },
  {
   "attachments": {
    "5f52656b-81d6-4fc7-8ee2-d7459698adfd.png": {
     "image/png": "[encoded data removed]"
    }
   },
   "cell_type": "markdown",
   "id": "8c3d6cba-2b2c-4d93-8544-997b1eab06f5",
   "metadata": {},
   "source": [
    "#### Left Join\n",
    "\n",
    "![image.png](attachment:5f52656b-81d6-4fc7-8ee2-d7459698adfd.png)\n",
    "\n",
    "Even if some leagues have a country_id set to NULL, empty or pointing to an inexistent record (foreign key not properly set), this query will keep all the rows from the League table.\n",
    "\n",
    "```sql\n",
    "SELECT *\n",
    "FROM League\n",
    "LEFT JOIN Country ON Country.id = League.country_id\n",
    "```\n",
    "\n",
    "💡You can use the COALESCE function to replace NULL values with a default value:\n",
    "\n",
    "```sql\n",
    "SELECT \n",
    "    League.id,\n",
    "    League.name,\n",
    "    COALESCE(Country.name, 'Unknown') AS country_name\n",
    "FROM League\n",
    "LEFT JOIN Country ON Country.id = league.country_id\n",
    "```"
   ]
  },
  {
   "cell_type": "code",
   "execution_count": 130,
   "id": "0a572d44-82a3-46cf-af1b-87e77d3d8efa",
   "metadata": {},
   "outputs": [
    {
     "data": {
      "text/plain": [
       "[(1, 1, 'Belgium Jupiler League', 1, 'Belgium'),\n",
       " (1729, 1729, 'England Premier League', 1729, 'England'),\n",
       " (4769, 4769, 'France Ligue 1', 4769, 'France'),\n",
       " (7809, 7809, 'Germany 1. Bundesliga', 7809, 'Germany'),\n",
       " (10257, 10257, 'Italy Serie A', 10257, 'Italy'),\n",
       " (13274, 13274, 'Netherlands Eredivisie', 13274, 'Netherlands'),\n",
       " (15722, 15722, 'Poland Ekstraklasa', 15722, 'Poland'),\n",
       " (17642, 17642, 'Portugal Liga ZON Sagres', 17642, 'Portugal'),\n",
       " (19694, 19694, 'Scotland Premier League', 19694, 'Scotland'),\n",
       " (21518, 21518, 'Spain LIGA BBVA', 21518, 'Spain'),\n",
       " (24558, 24558, 'Switzerland Super League', 24558, 'Switzerland')]"
      ]
     },
     "execution_count": 130,
     "metadata": {},
     "output_type": "execute_result"
    }
   ],
   "source": [
    "conn = sqlite3.connect('data/soccer.sqlite')\n",
    "c = conn.cursor()\n",
    "\n",
    "query = '''\n",
    "    SELECT *\n",
    "    FROM League\n",
    "    LEFT JOIN Country ON Country.id = League.country_id\n",
    "'''\n",
    "\n",
    "c.execute(query)\n",
    "rows = c.fetchall()\n",
    "rows"
   ]
  },
  {
   "cell_type": "code",
   "execution_count": 129,
   "id": "2e50de3c-7f9c-40e9-801b-40289deb213a",
   "metadata": {},
   "outputs": [
    {
     "data": {
      "text/plain": [
       "[(1, 'Belgium Jupiler League', 'Belgium'),\n",
       " (1729, 'England Premier League', 'England'),\n",
       " (4769, 'France Ligue 1', 'France'),\n",
       " (7809, 'Germany 1. Bundesliga', 'Germany'),\n",
       " (10257, 'Italy Serie A', 'Italy'),\n",
       " (13274, 'Netherlands Eredivisie', 'Netherlands'),\n",
       " (15722, 'Poland Ekstraklasa', 'Poland'),\n",
       " (17642, 'Portugal Liga ZON Sagres', 'Portugal'),\n",
       " (19694, 'Scotland Premier League', 'Scotland'),\n",
       " (21518, 'Spain LIGA BBVA', 'Spain'),\n",
       " (24558, 'Switzerland Super League', 'Switzerland')]"
      ]
     },
     "execution_count": 129,
     "metadata": {},
     "output_type": "execute_result"
    }
   ],
   "source": [
    "conn = sqlite3.connect('data/soccer.sqlite')\n",
    "c = conn.cursor()\n",
    "\n",
    "query = '''\n",
    "    SELECT \n",
    "        League.id,\n",
    "        League.name,\n",
    "        COALESCE(Country.name, 'Unknown') AS country_name\n",
    "    FROM League\n",
    "    LEFT JOIN Country ON Country.id = league.country_id\n",
    "'''\n",
    "\n",
    "c.execute(query)\n",
    "rows = c.fetchall()\n",
    "rows"
   ]
  },
  {
   "attachments": {
    "f3e4ded5-bc0d-4118-8d26-9cfec5ea1d91.png": {
     "image/png": "[encoded data removed]"
    }
   },
   "cell_type": "markdown",
   "id": "a2e036a0-9421-4a39-8c11-bc5de80e236a",
   "metadata": {},
   "source": [
    "#### Right Join\n",
    "\n",
    "![image.png](attachment:f3e4ded5-bc0d-4118-8d26-9cfec5ea1d91.png)\n",
    "\n",
    "\n",
    "\n",
    "😢 Not supported in SQLite.\n",
    "\n",
    "But: RIGHT JOIN is rarely used because you can achieve the results by simply switching the two joined table names in a LEFT JOIN."
   ]
  },
  {
   "cell_type": "markdown",
   "id": "245ad3e8-3517-4d43-b2f0-67cc2c3e546a",
   "metadata": {},
   "source": [
    "#### Full Outer Join\n",
    "\n",
    "\n",
    "\n",
    "😢 Not supported in SQLite.\n",
    "\n",
    "Example: [Project & Members](http://www.sqlservertutorial.net/sql-server-basics/sql-server-full-outer-join/)"
   ]
  },
  {
   "attachments": {
    "071acc2d-3357-4e6b-b01a-74b3563e0e44.png": {
     "image/png": "[encoded data removed]"
    },
    "a39b5246-fd4c-4a58-95fa-2d001bc79db1.png": {
     "image/png": "[encoded data removed]"
    }
   },
   "cell_type": "markdown",
   "id": "eb9e6937-77a8-4ad1-9499-918a5a1210b8",
   "metadata": {},
   "source": [
    "#### Self Join\n",
    "\n",
    "Let this table employees:\n",
    "\n",
    "![image.png](attachment:a39b5246-fd4c-4a58-95fa-2d001bc79db1.png)\n",
    "\n",
    "\n",
    "```sql\n",
    "SELECT\n",
    "    employees.id,\n",
    "    employees.name,\n",
    "    employees.title,\n",
    "    managers.name AS manager\n",
    "FROM employees\n",
    "LEFT JOIN employees AS managers ON managers.id = employees.manager_id\n",
    "```\n",
    "\n",
    "\n",
    "![image.png](attachment:071acc2d-3357-4e6b-b01a-74b3563e0e44.png)"
   ]
  },
  {
   "cell_type": "markdown",
   "id": "5f226bb0-da80-4fd4-8257-afd41b7ab98f",
   "metadata": {},
   "source": [
    "### Window Functions (LeWagon)\n",
    "\n",
    "\n",
    "\n",
    "A window function performs a calculation across a set of table rows that are somehow related to the current row. This is comparable to the type of calculation that can be done with an aggregate function.\n",
    "\n",
    "But unlike regular aggregate functions, use of a window function **does not cause rows to become grouped into a single output row** — the rows retain their separate identities.\n",
    "\n",
    "Behind the scenes, the window function is able to access more than just the current row of the query result.\n"
   ]
  },
  {
   "cell_type": "markdown",
   "id": "30aac72c-0f9f-4f25-8470-ed7265359c1b",
   "metadata": {},
   "source": [
    "#### Ecommerce example\n",
    "\n",
    "Let's create an ecommerce database"
   ]
  },
  {
   "cell_type": "code",
   "execution_count": 131,
   "id": "cf888056-cc2a-4c25-8422-e0d41d42d1b7",
   "metadata": {},
   "outputs": [],
   "source": [
    "# Creating and Seeding ecommerce DB\n",
    "\n",
    "import sqlite3\n",
    "\n",
    "conn = sqlite3.connect('data/ecommerce.sqlite')\n",
    "c = conn.cursor()\n",
    "\n",
    "# Create customers table\n",
    "c.execute(\"\"\"\n",
    "    CREATE TABLE customers(\n",
    "        id INTEGER PRIMARY KEY AUTOINCREMENT,\n",
    "        first_name VARCHAR(20),\n",
    "        last_name VARCHAR(20)\n",
    "    )\n",
    "\"\"\")\n",
    "conn.commit()\n",
    "\n",
    "# Create orders table\n",
    "c.execute(\"\"\"\n",
    "    CREATE TABLE orders(\n",
    "        id INTEGER PRIMARY KEY AUTOINCREMENT,\n",
    "        ordered_at TEXT,\n",
    "        customer_id INTEGER,\n",
    "        amount NUMERIC,\n",
    "        FOREIGN KEY(customer_id) REFERENCES customers(id)\n",
    "    )\n",
    "\"\"\")\n",
    "conn.commit()\n",
    "\n",
    "# Seed\n",
    "CUSTOMERS = [\n",
    "    ('John', 'Doe'),\n",
    "    ('Eric', 'Camron'),\n",
    "    ('Emma', 'Dunstan'),\n",
    "    ('Tobin', 'Holis'),\n",
    "    ('Nyla', 'Carlin')\n",
    "]\n",
    "for customer in CUSTOMERS:\n",
    "    c.execute(\"INSERT INTO customers (first_name, last_name) VALUES(?, ?)\", customer)\n",
    "    conn.commit()\n",
    "\n",
    "ORDERS = [\n",
    "    ('2019-01-01', 42.01, 1),\n",
    "    ('2019-01-01', 12.14, 2),\n",
    "    ('2019-01-02', 15.08, 1),\n",
    "    ('2019-01-03', 123, 1),\n",
    "    ('2019-01-04', 25.67, 3),\n",
    "    ('2019-01-05', 76.12, 3),\n",
    "    ('2019-01-09', 12.98, 1)\n",
    "]\n",
    "for order in ORDERS:\n",
    "    c.execute(\"INSERT INTO orders (ordered_at, amount, customer_id) VALUES(?, ?, ?)\", order)\n",
    "    conn.commit()\n",
    "\n",
    "conn.close()"
   ]
  },
  {
   "cell_type": "markdown",
   "id": "5583364d-2bc6-43d9-bf25-4fe3f9ae9d8d",
   "metadata": {},
   "source": [
    "##### **Rank**\n",
    "\n",
    "🤔 For each order, what's its rank based on the customer who ordered? (Could be a useful feature for a Machine Learning model)\n",
    "\n",
    "(i.e. For each order, we want to answer the question: Was it the customer's first order? second one? etc.)"
   ]
  },
  {
   "cell_type": "code",
   "execution_count": 133,
   "id": "6417f3cf-e96d-46d7-87e6-cb0dd244bc13",
   "metadata": {},
   "outputs": [
    {
     "data": {
      "text/plain": [
       "[(1, '2019-01-01', 1, 1),\n",
       " (3, '2019-01-02', 1, 2),\n",
       " (4, '2019-01-03', 1, 3),\n",
       " (7, '2019-01-09', 1, 4),\n",
       " (2, '2019-01-01', 2, 1),\n",
       " (5, '2019-01-04', 3, 1),\n",
       " (6, '2019-01-05', 3, 2)]"
      ]
     },
     "execution_count": 133,
     "metadata": {},
     "output_type": "execute_result"
    }
   ],
   "source": [
    "conn = sqlite3.connect('data/ecommerce.sqlite')\n",
    "c = conn.cursor()\n",
    "\n",
    "query = '''\n",
    "    SELECT\n",
    "        orders.id,\n",
    "        orders.ordered_at,\n",
    "        orders.customer_id,\n",
    "        RANK() \n",
    "            OVER (\n",
    "            PARTITION BY orders.customer_id\n",
    "            ORDER BY orders.ordered_at\n",
    "        ) AS order_rank\n",
    "    FROM orders\n",
    "'''\n",
    "\n",
    "c.execute(query)\n",
    "rows = c.fetchall()\n",
    "rows"
   ]
  },
  {
   "cell_type": "markdown",
   "id": "10434ee3-91e2-40a1-adfe-4c141eb4254d",
   "metadata": {},
   "source": [
    "##### **Sum**\n",
    "\n",
    "🤔 For each customer, what's the cumulative amount of orders in time?\n",
    "\n"
   ]
  },
  {
   "cell_type": "markdown",
   "id": "c7c33f27-0873-44fc-a670-b03113903223",
   "metadata": {},
   "source": [
    "Step1: Calculate the cumulative amount of orders in time"
   ]
  },
  {
   "cell_type": "code",
   "execution_count": 157,
   "id": "6528a3e2-b73d-448a-90c9-1f98a3996306",
   "metadata": {},
   "outputs": [
    {
     "data": {
      "text/plain": [
       "[(1, '2019-01-01', 42.01, 1, 42.01),\n",
       " (3, '2019-01-02', 15.08, 1, 57.089999999999996),\n",
       " (4, '2019-01-03', 123, 1, 180.09),\n",
       " (7, '2019-01-09', 12.98, 1, 193.07),\n",
       " (2, '2019-01-01', 12.14, 2, 12.14),\n",
       " (5, '2019-01-04', 25.67, 3, 25.67),\n",
       " (6, '2019-01-05', 76.12, 3, 101.79)]"
      ]
     },
     "execution_count": 157,
     "metadata": {},
     "output_type": "execute_result"
    }
   ],
   "source": [
    "conn = sqlite3.connect('data/ecommerce.sqlite')\n",
    "c = conn.cursor()\n",
    "\n",
    "query = '''\n",
    "    SELECT\n",
    "        orders.id,\n",
    "        orders.ordered_at,\n",
    "        orders.amount,\n",
    "        orders.customer_id,\n",
    "        SUM(orders.amount) OVER (\n",
    "            PARTITION BY orders.customer_id \n",
    "            ORDER BY orders.ordered_at\n",
    "        ) AS cumulative_amount\n",
    "    FROM orders\n",
    "'''\n",
    "\n",
    "c.execute(query)\n",
    "rows = c.fetchall()\n",
    "rows"
   ]
  },
  {
   "cell_type": "markdown",
   "id": "256982ad-9273-4239-ac90-d50e642ade5a",
   "metadata": {},
   "source": [
    "Step 2: Add the customer info"
   ]
  },
  {
   "cell_type": "code",
   "execution_count": 139,
   "id": "9913450b-52b4-4b6b-b4b1-71666d171916",
   "metadata": {},
   "outputs": [
    {
     "data": {
      "text/plain": [
       "[(None, 'Tobin', 'Holis', None, None, None),\n",
       " (None, 'Nyla', 'Carlin', None, None, None),\n",
       " (1, 'John', 'Doe', '2019-01-01', 42.01, 42.01),\n",
       " (3, 'John', 'Doe', '2019-01-02', 15.08, 57.089999999999996),\n",
       " (4, 'John', 'Doe', '2019-01-03', 123, 180.09),\n",
       " (7, 'John', 'Doe', '2019-01-09', 12.98, 193.07),\n",
       " (2, 'Eric', 'Camron', '2019-01-01', 12.14, 12.14),\n",
       " (5, 'Emma', 'Dunstan', '2019-01-04', 25.67, 25.67),\n",
       " (6, 'Emma', 'Dunstan', '2019-01-05', 76.12, 101.79)]"
      ]
     },
     "execution_count": 139,
     "metadata": {},
     "output_type": "execute_result"
    }
   ],
   "source": [
    "conn = sqlite3.connect('data/ecommerce.sqlite')\n",
    "c = conn.cursor()\n",
    "\n",
    "query = '''\n",
    "    SELECT\n",
    "        orders.id,\n",
    "        customers.first_name,\n",
    "        customers.last_name,\n",
    "        orders.ordered_at,\n",
    "        orders.amount,\n",
    "        SUM(orders.amount) OVER (\n",
    "            PARTITION BY orders.customer_id \n",
    "            ORDER BY orders.ordered_at\n",
    "        ) AS cumulative_amount\n",
    "    FROM customers\n",
    "    LEFT JOIN orders ON orders.customer_id = customers.id\n",
    "'''\n",
    "\n",
    "c.execute(query)\n",
    "rows = c.fetchall()\n",
    "rows"
   ]
  },
  {
   "cell_type": "markdown",
   "id": "b2068f4d-2891-44ea-b9dd-1f3943690b75",
   "metadata": {},
   "source": [
    "##### **WITH Clause**\n",
    "\n",
    "👉 [Documentation](https://www.sqlite.org/draft/lang_with.html)\n",
    "\n",
    "🤔 In the Soccer database, what's the cumulative number of matches played every month in order to plot it (with a line chart for instance)\n",
    "\n",
    "We can start with:"
   ]
  },
  {
   "cell_type": "code",
   "execution_count": 191,
   "id": "0124fe2f-4932-4aeb-99c4-d60069216830",
   "metadata": {},
   "outputs": [
    {
     "name": "stdout",
     "output_type": "stream",
     "text": [
      "Rows Returned: 89\n"
     ]
    },
    {
     "data": {
      "text/plain": [
       "[('2008-07', 14),\n",
       " ('2008-08', 244),\n",
       " ('2008-09', 293),\n",
       " ('2008-10', 325),\n",
       " ('2008-11', 457),\n",
       " ('2008-12', 280),\n",
       " ('2009-01', 252),\n",
       " ('2009-02', 343),\n",
       " ('2009-03', 318),\n",
       " ('2009-04', 387)]"
      ]
     },
     "execution_count": 191,
     "metadata": {},
     "output_type": "execute_result"
    }
   ],
   "source": [
    "conn = sqlite3.connect('data/soccer.sqlite')\n",
    "c = conn.cursor()\n",
    "\n",
    "query = '''\n",
    "    SELECT\n",
    "      STRFTIME('%Y-%m', DATE(matches.date)) AS period,\n",
    "      COUNT(*) AS cnt\n",
    "    FROM \"Match\" AS matches\n",
    "    GROUP BY period\n",
    "    ORDER BY period\n",
    "'''\n",
    "\n",
    "c.execute(query)\n",
    "rows = c.fetchall()\n",
    "print(f'Rows Returned: {len(rows)}')\n",
    "rows[0:10]"
   ]
  },
  {
   "cell_type": "code",
   "execution_count": 166,
   "id": "01191800-f936-4acd-835b-203222140e6b",
   "metadata": {},
   "outputs": [
    {
     "name": "stdout",
     "output_type": "stream",
     "text": [
      "Rows Returned: 89\n"
     ]
    },
    {
     "data": {
      "text/plain": [
       "[('2008-07', 14),\n",
       " ('2008-08', 258),\n",
       " ('2008-09', 551),\n",
       " ('2008-10', 876),\n",
       " ('2008-11', 1333),\n",
       " ('2008-12', 1613),\n",
       " ('2009-01', 1865),\n",
       " ('2009-02', 2208),\n",
       " ('2009-03', 2526),\n",
       " ('2009-04', 2913)]"
      ]
     },
     "execution_count": 166,
     "metadata": {},
     "output_type": "execute_result"
    }
   ],
   "source": [
    "conn = sqlite3.connect('data/soccer.sqlite')\n",
    "c = conn.cursor()\n",
    "\n",
    "query = '''\n",
    "    WITH matches_per_month AS (\n",
    "        SELECT\n",
    "            STRFTIME('%Y-%m', DATE(matches.date)) AS period,\n",
    "            COUNT(*) AS cnt\n",
    "        FROM \"Match\" AS matches\n",
    "        GROUP BY period\n",
    "        ORDER BY period\n",
    "    )\n",
    "    SELECT \n",
    "        matches_per_month.period,\n",
    "        SUM(matches_per_month.cnt) OVER (\n",
    "            ORDER BY matches_per_month.period\n",
    "        ) AS cumulative_count\n",
    "    FROM matches_per_month\n",
    "'''\n",
    "\n",
    "c.execute(query)\n",
    "rows = c.fetchall()\n",
    "print(f'Rows Returned: {len(rows)}')\n",
    "rows[0:10]"
   ]
  },
  {
   "cell_type": "markdown",
   "id": "8278eb91-2552-49c9-8b9c-6abc269aa8f6",
   "metadata": {},
   "source": [
    "### Window Functions (sqlite.org)\n",
    "\n",
    "https://www.sqlite.org/windowfunctions.html"
   ]
  },
  {
   "cell_type": "code",
   "execution_count": 187,
   "id": "6fd37f65-baea-4d18-bee7-571afd3e02e5",
   "metadata": {},
   "outputs": [
    {
     "name": "stdout",
     "output_type": "stream",
     "text": [
      "Created Table t1\n",
      "Entered Data Into Table t1\n",
      "Created Table t2\n",
      "Entered Data Into Table t2\n"
     ]
    }
   ],
   "source": [
    "conn = sqlite3.connect('data/play.sqlite')\n",
    "c = conn.cursor()\n",
    "\n",
    "query = '''\n",
    "    CREATE TABLE t1(a INTEGER PRIMARY KEY, b, c)\n",
    "'''\n",
    "c.execute(query)\n",
    "conn.commit()\n",
    "\n",
    "print('Created Table t1')\n",
    "\n",
    "query = '''\n",
    "    INSERT INTO t1 \n",
    "    VALUES   \n",
    "        (1, 'A', 'one'  ),\n",
    "        (2, 'B', 'two'  ),\n",
    "        (3, 'C', 'three'),\n",
    "        (4, 'D', 'one'  ),\n",
    "        (5, 'E', 'two'  ),\n",
    "        (6, 'F', 'three'),\n",
    "        (7, 'G', 'one'  )\n",
    "'''\n",
    "c.execute(query)\n",
    "conn.commit()\n",
    "\n",
    "print('Entered Data Into Table t1')\n",
    "\n",
    "query = '''\n",
    "    CREATE TABLE t2(a, b)\n",
    "'''\n",
    "c.execute(query)\n",
    "conn.commit()\n",
    "\n",
    "print('Created Table t2')\n",
    "\n",
    "query = '''\n",
    "    INSERT INTO t2 \n",
    "    VALUES\n",
    "        ('a', 'one'),\n",
    "        ('a', 'two'), \n",
    "        ('a', 'three'), \n",
    "        ('b', 'four'), \n",
    "        ('c', 'five'), \n",
    "        ('c', 'six');\n",
    "'''\n",
    "c.execute(query)\n",
    "conn.commit()\n",
    "\n",
    "print('Entered Data Into Table t2')"
   ]
  },
  {
   "cell_type": "markdown",
   "id": "7a4bbfd0-42de-434c-be5a-3a8c33cd2e6a",
   "metadata": {},
   "source": [
    "A window function is an SQL function where the input values are taken from a \"window\" of one or more rows in the results set of a SELECT statement.\n",
    "\n",
    "Window functions are distinguished from other SQL functions by the presence of an OVER clause. If a function has an OVER clause, then it is a window function. If it lacks an OVER clause, then it is an ordinary aggregate or scalar function. Window functions might also have a FILTER clause in between the function and the OVER clause. \n",
    "\n",
    "Unlike ordinary functions, window functions cannot use the DISTINCT keyword. Also, Window functions may only appear in the result set and in the ORDER BY clause of a SELECT statement.\n",
    "\n",
    "Window functions come in two varieties: **aggregate window functions** and **built-in window functions**. Every aggregate window function can also work as a ordinary aggregate function, simply by omitting the OVER and FILTER clauses. Furthermore, all of the built-in aggregate functions of SQLite can be used as an aggregate window function by adding an appropriate OVER clause. Applications can register new aggregate window functions using the sqlite3_create_window_function() interface. The built-in window functions, however, require special-case handling in the query planner and hence new window functions that exhibit the exceptional properties found in the built-in window functions cannot be added by the application.\n",
    "\n",
    "Here is an example using the built-in row_number() window function: "
   ]
  },
  {
   "cell_type": "markdown",
   "id": "93c6db26-67c9-435b-a694-08420a5213a2",
   "metadata": {},
   "source": [
    "#### **Aggregate Window Functions**"
   ]
  },
  {
   "cell_type": "markdown",
   "id": "bca157db-45e3-4b95-9d30-74570ca7b870",
   "metadata": {},
   "source": [
    "An aggregate window function is similar to an ordinary aggregate function, except adding it to a query does not change the number of rows returned. Instead, for each row the result of the aggregate window function is as if the corresponding aggregate were run over all rows in the \"window frame\" specified by the OVER clause.\n",
    "\n",
    "In the example **below**, the window frame consists of all rows between the previous row (\"1 PRECEDING\") and the following row (\"1 FOLLOWING\"), inclusive, where rows are sorted according to the ORDER BY clause in the window-defn (in this case \"ORDER BY a\"). For example, the frame for the row with (a=3) consists of rows (2, 'B', 'two'), (3, 'C', 'three') and (4, 'D', 'one'). The result of group_concat(b, '.') for that row is therefore 'B.C.D'. "
   ]
  },
  {
   "cell_type": "code",
   "execution_count": 188,
   "id": "c0e35786-4527-41b7-ba1e-dd1611769d6d",
   "metadata": {},
   "outputs": [
    {
     "data": {
      "text/plain": [
       "[(1, 'A', 'A.B'),\n",
       " (2, 'B', 'A.B.C'),\n",
       " (3, 'C', 'B.C.D'),\n",
       " (4, 'D', 'C.D.E'),\n",
       " (5, 'E', 'D.E.F'),\n",
       " (6, 'F', 'E.F.G'),\n",
       " (7, 'G', 'F.G')]"
      ]
     },
     "execution_count": 188,
     "metadata": {},
     "output_type": "execute_result"
    }
   ],
   "source": [
    "conn = sqlite3.connect('data/play.sqlite')\n",
    "c = conn.cursor()\n",
    "\n",
    "query = '''\n",
    "    SELECT \n",
    "        a, \n",
    "        b, \n",
    "        GROUP_CONCAT(b, '.') OVER (\n",
    "            ORDER BY a ROWS BETWEEN 1 PRECEDING AND 1 FOLLOWING\n",
    "        ) AS group_concat \n",
    "    FROM t1\n",
    "'''\n",
    "c.execute(query)\n",
    "\n",
    "rows = c.fetchall()\n",
    "rows"
   ]
  },
  {
   "cell_type": "markdown",
   "id": "b84f832b-18ab-44f8-a202-de83bd3b1dee",
   "metadata": {},
   "source": [
    "##### **The PARTITION BY Clause**\n",
    "\n",
    "For the purpose of computing window functions, the result set of a query is divided into one or more \"partitions\". A partition consists of all rows that have the same value for all terms of the PARTITION BY clause in the window-defn. If there is no PARTITION BY clause, then the entire result set of the query is a single partition. Window-function processing is performed separately for each partition. "
   ]
  },
  {
   "cell_type": "code",
   "execution_count": 189,
   "id": "a145a336-33b9-442d-8892-6b4b592d83fb",
   "metadata": {},
   "outputs": [
    {
     "data": {
      "text/plain": [
       "[('one', 1, 'A', 'A.D.G'),\n",
       " ('one', 4, 'D', 'D.G'),\n",
       " ('one', 7, 'G', 'G'),\n",
       " ('three', 3, 'C', 'C.F'),\n",
       " ('three', 6, 'F', 'F'),\n",
       " ('two', 2, 'B', 'B.E'),\n",
       " ('two', 5, 'E', 'E')]"
      ]
     },
     "execution_count": 189,
     "metadata": {},
     "output_type": "execute_result"
    }
   ],
   "source": [
    "conn = sqlite3.connect('data/play.sqlite')\n",
    "c = conn.cursor()\n",
    "\n",
    "query = '''\n",
    "    SELECT \n",
    "        c, \n",
    "        a, \n",
    "        b, \n",
    "        GROUP_CONCAT(b, '.') OVER (\n",
    "            PARTITION BY c \n",
    "            ORDER BY a \n",
    "            RANGE BETWEEN CURRENT ROW AND UNBOUNDED FOLLOWING\n",
    "        ) AS group_concat\n",
    "    FROM t1 \n",
    "    ORDER BY \n",
    "        c, \n",
    "        a\n",
    "'''\n",
    "c.execute(query)\n",
    "\n",
    "rows = c.fetchall()\n",
    "rows"
   ]
  },
  {
   "cell_type": "markdown",
   "id": "df27e8ac-2762-48f9-8a48-06ec805c0be0",
   "metadata": {},
   "source": [
    "---\n",
    "In the query above, the \"PARTITION BY c\" clause breaks the result set up into three partitions. The first partition has three rows with c=='one'. The second partition has two rows with c=='three' and the third partition has two rows with c=='two'.\n",
    "\n",
    "In the example above, all the rows for each partition are grouped together in the final output. This is because the PARTITION BY clause is a prefix of the ORDER BY clause on the overall query. But that does not have to be the case. A partition can be composed of rows scattered about haphazardly within the result set. For example: "
   ]
  },
  {
   "cell_type": "code",
   "execution_count": 185,
   "id": "1d7ae0c4-25d1-41f0-b6ca-06149fb753f0",
   "metadata": {},
   "outputs": [
    {
     "data": {
      "text/plain": [
       "[('one', 1, 'A', 'A.D.G'),\n",
       " ('two', 2, 'B', 'B.E'),\n",
       " ('three', 3, 'C', 'C.F'),\n",
       " ('one', 4, 'D', 'D.G'),\n",
       " ('two', 5, 'E', 'E'),\n",
       " ('three', 6, 'F', 'F'),\n",
       " ('one', 7, 'G', 'G')]"
      ]
     },
     "execution_count": 185,
     "metadata": {},
     "output_type": "execute_result"
    }
   ],
   "source": [
    "conn = sqlite3.connect('data/play.sqlite')\n",
    "c = conn.cursor()\n",
    "\n",
    "query = '''\n",
    "    SELECT \n",
    "        c, \n",
    "        a, \n",
    "        b, \n",
    "        GROUP_CONCAT(b, '.') OVER (\n",
    "            PARTITION BY c \n",
    "            ORDER BY a \n",
    "            RANGE BETWEEN CURRENT ROW AND UNBOUNDED FOLLOWING\n",
    "        ) AS group_concat\n",
    "    FROM t1 \n",
    "    ORDER BY \n",
    "        a\n",
    "'''\n",
    "c.execute(query)\n",
    "\n",
    "rows = c.fetchall()\n",
    "rows"
   ]
  },
  {
   "cell_type": "markdown",
   "id": "83cd6150-9aa8-4f34-ab8c-70dbb1351eef",
   "metadata": {},
   "source": [
    "##### **Frame Specifications**"
   ]
  },
  {
   "cell_type": "markdown",
   "id": "be14a6b4-6639-437e-9aa8-4d1e10a324d7",
   "metadata": {},
   "source": [
    " The frame-spec determines which output rows are read by an aggregate window function. The frame-spec consists of four parts:\n",
    "\n",
    "    A frame type - either ROWS, RANGE or GROUPS,\n",
    "    A starting frame boundary,\n",
    "    An ending frame boundary,\n",
    "    An EXCLUDE clause. \n",
    "    \n",
    "The ending frame boundary can be omitted (if the BETWEEN and AND keywords that surround the starting frame boundary are also omitted), in which case the ending frame boundary defaults to CURRENT ROW.\n",
    "\n",
    "If the frame type is RANGE or GROUPS, then rows with the same values for all ORDER BY expressions are considered \"peers\". Or, if there are no ORDER BY terms, all rows are peers. Peers are always within the same frame.\n",
    "\n",
    "The default frame-spec is:\n",
    "\n",
    "```sql\n",
    "RANGE BETWEEN UNBOUNDED PRECEDING AND CURRENT ROW EXCLUDE NO OTHERS\n",
    "```\n",
    "\n",
    "The default means that aggregate window functions read all rows from the beginning of the partition up to and including the current row and its peers. This implies that rows that have the same values for all ORDER BY expressions will also have the same value for the result of the window function (as the window frame is the same). For example: "
   ]
  },
  {
   "cell_type": "code",
   "execution_count": 192,
   "id": "b1b97186-61db-471f-85e3-2b15e09960d6",
   "metadata": {},
   "outputs": [
    {
     "data": {
      "text/plain": [
       "[(1, 'A', 'one', 'A.D.G'),\n",
       " (2, 'B', 'two', 'A.D.G.C.F.B.E'),\n",
       " (3, 'C', 'three', 'A.D.G.C.F'),\n",
       " (4, 'D', 'one', 'A.D.G'),\n",
       " (5, 'E', 'two', 'A.D.G.C.F.B.E'),\n",
       " (6, 'F', 'three', 'A.D.G.C.F'),\n",
       " (7, 'G', 'one', 'A.D.G')]"
      ]
     },
     "execution_count": 192,
     "metadata": {},
     "output_type": "execute_result"
    }
   ],
   "source": [
    "conn = sqlite3.connect('data/play.sqlite')\n",
    "c = conn.cursor()\n",
    "\n",
    "query = '''\n",
    "    SELECT \n",
    "        a, \n",
    "        b, \n",
    "        c, \n",
    "        group_concat(b, '.') OVER (\n",
    "            ORDER BY c\n",
    "        ) AS group_concat \n",
    "    FROM t1 \n",
    "    ORDER BY a\n",
    "'''\n",
    "c.execute(query)\n",
    "\n",
    "rows = c.fetchall()\n",
    "rows"
   ]
  },
  {
   "cell_type": "markdown",
   "id": "f838138c-7b6e-43d4-b8d7-21b53404db36",
   "metadata": {},
   "source": [
    "##### **Frame Type**\n",
    "\n",
    " There are three frame types: ROWS, GROUPS, and RANGE. The frame type determines how the starting and ending boundaries of the frame are measured.\n",
    "\n",
    "    ROWS: The ROWS frame type means that the starting and ending boundaries for the frame are determined by counting individual rows relative to the current row.\n",
    "\n",
    "    GROUPS: The GROUPS frame type means that the starting and ending boundaries are determine by counting \"groups\" relative to the current group. A \"group\" is a set of rows that all have equivalent values for all all terms of the window ORDER BY clause. (\"Equivalent\" means that the IS operator is true when comparing the two values.) In other words, a group consists of all peers of a row.\n",
    "\n",
    "    RANGE: The RANGE frame type requires that the ORDER BY clause of the window have exactly one term. Call that term \"X\". With the RANGE frame type, the elements of the frame are determined by computing the value of expression X for all rows in the partition and framing those rows for which the value of X is within a certain range of the value of X for the current row. See the description in the \"<expr> PRECEDING\" boundary specification below for details. \n",
    "\n",
    "The ROWS and GROUPS frame types are similar in that they both determine the extent of a frame by counting relative to the current row. The difference is that ROWS counts individual rows and GROUPS counts peer groups. The RANGE frame type is different. The RANGE frame type determines the extent of a frame by looking for expression values that are within some band of values relative to the current row. "
   ]
  },
  {
   "cell_type": "markdown",
   "id": "47d3425e-428c-421d-8b4a-02f0ddb2cb91",
   "metadata": {},
   "source": [
    "##### Frame Boundaries\n",
    "\n",
    "There are five ways to describe starting and ending frame boundaries:\n",
    "\n",
    "1) **UNBOUNDED PRECEDING**\n",
    "    \n",
    "The frame boundary is the first row in the partition.\n",
    "\n",
    "2) **\\<expr> PRECEDING**\n",
    "    \n",
    "\\<expr> must be a non-negative constant numeric expression. The boundary is a row that is <expr> \"units\" prior to the current row. The meaning of \"units\" here depends on the frame type:\n",
    "\n",
    "    ROWS → The frame boundary is the row that is <expr> rows before the current row, or the first row of the partition if there are fewer than <expr> rows before the current row. <expr> must be an integer.\n",
    "\n",
    "    GROUPS → A \"group\" is a set of peer rows - rows that all have the same values for every term in the ORDER BY clause. The frame boundary is the group that is <expr> groups before the group containing the current row, or the first group of the partition if there are fewer than <expr> groups before the current row. For the starting boundary of a frame, the first row of the group is used and for the ending boundary of a frame, the last row of the group is used. <expr> must be an integer.\n",
    "\n",
    "    RANGE → For this form, the ORDER BY clause of the window-defn must have a single term. Call that ORDER BY term \"X\". Let Xi be the value of the X expression for the i-th row in the partition and let Xc be the value of X for the current row. Informally, a RANGE bound is the first row for which Xi is within the <expr> of Xc. More precisely:\n",
    "    \n",
    "        If either Xi or Xc are non-numeric, then the boundary is the first row for which the expression \"Xi IS Xc\" is true.\n",
    "        Else if the ORDER BY is ASC then the boundary is the first row for which Xi>=Xc-<expr>.\n",
    "        Else if the ORDER BY is DESC then the boundary is the first row for which Xi<=Xc+<expr>. \n",
    "        \n",
    "        For this form, the <expr> does not have to be an integer. It can evaluate to a real number as long as it is constant and non-negative. \n",
    "    \n",
    "The boundary description \"0 PRECEDING\" always means the same thing as \"CURRENT ROW\".\n",
    "\n",
    "3) **CURRENT ROW**\n",
    "\n",
    "The current row. For RANGE and GROUPS frame types, peers of the current row are also included in the frame, unless specifically excluded by the EXCLUDE clause. This is true regardless of whether CURRENT ROW is used as the starting or ending frame boundary.\n",
    "\n",
    "4) **\\<expr> FOLLOWING**\n",
    "    This is the same as \"<expr> PRECEDING\" except that the boundary is <expr> units after the current rather than before the current row.\n",
    "\n",
    "5) **UNBOUNDED FOLLOWING**\n",
    "\n",
    "The frame boundary is the last row in the partition. \n",
    "\n",
    "The ending frame boundary may not take a form that appears higher in the above list than the starting frame boundary.\n",
    "\n",
    "In the following example, the window frame for each row consists of all rows from the current row to the end of the set, where rows are sorted according to \"ORDER BY a\". "
   ]
  },
  {
   "cell_type": "code",
   "execution_count": 193,
   "id": "47cdcceb-fff5-43b5-9ae2-4a86759bdcd8",
   "metadata": {},
   "outputs": [
    {
     "data": {
      "text/plain": [
       "[('one', 1, 'A', 'A.D.G.C.F.B.E'),\n",
       " ('one', 4, 'D', 'D.G.C.F.B.E'),\n",
       " ('one', 7, 'G', 'G.C.F.B.E'),\n",
       " ('three', 3, 'C', 'C.F.B.E'),\n",
       " ('three', 6, 'F', 'F.B.E'),\n",
       " ('two', 2, 'B', 'B.E'),\n",
       " ('two', 5, 'E', 'E')]"
      ]
     },
     "execution_count": 193,
     "metadata": {},
     "output_type": "execute_result"
    }
   ],
   "source": [
    "conn = sqlite3.connect('data/play.sqlite')\n",
    "c = conn.cursor()\n",
    "\n",
    "query = '''\n",
    "    SELECT \n",
    "        c, \n",
    "        a, \n",
    "        b, \n",
    "        group_concat(b, '.') OVER (\n",
    "            ORDER BY \n",
    "                c, \n",
    "                a \n",
    "            ROWS BETWEEN CURRENT ROW AND UNBOUNDED FOLLOWING\n",
    "        ) AS group_concat\n",
    "    FROM t1 ORDER BY c, a;\n",
    "\n",
    "'''\n",
    "c.execute(query)\n",
    "\n",
    "rows = c.fetchall()\n",
    "rows"
   ]
  },
  {
   "cell_type": "markdown",
   "id": "70cb1b95-e531-4a47-b2a3-3dba775e76ff",
   "metadata": {},
   "source": [
    "##### **The EXCLUDE Clause**\n",
    "\n",
    " The optional EXCLUDE clause may take any of the following four forms:\n",
    "\n",
    "    EXCLUDE NO OTHERS: This is the default. In this case no rows are excluded from the window frame as defined by its starting and ending frame boundaries.\n",
    "\n",
    "    EXCLUDE CURRENT ROW: In this case the current row is excluded from the window frame. Peers of the current row remain in the frame for the GROUPS and RANGE frame types.\n",
    "\n",
    "    EXCLUDE GROUP: In this case the current row and all other rows that are peers of the current row are excluded from the frame. When processing an EXCLUDE clause, all rows with the same ORDER BY values, or all rows in the partition if there is no ORDER BY clause, are considered peers, even if the frame type is ROWS.\n",
    "\n",
    "    EXCLUDE TIES: In this case the current row is part of the frame, but peers of the current row are excluded. \n",
    "\n",
    "The following example demonstrates the effect of the various forms of the EXCLUDE clause: "
   ]
  },
  {
   "cell_type": "code",
   "execution_count": 194,
   "id": "1a7602d3-b0b5-4690-998d-ba4c995ec8df",
   "metadata": {},
   "outputs": [
    {
     "data": {
      "text/plain": [
       "[('one', 1, 'A', 'A.D.G', 'D.G', None, 'A'),\n",
       " ('one', 4, 'D', 'A.D.G', 'A.G', None, 'D'),\n",
       " ('one', 7, 'G', 'A.D.G', 'A.D', None, 'G'),\n",
       " ('three', 3, 'C', 'A.D.G.C.F', 'A.D.G.F', 'A.D.G', 'A.D.G.C'),\n",
       " ('three', 6, 'F', 'A.D.G.C.F', 'A.D.G.C', 'A.D.G', 'A.D.G.F'),\n",
       " ('two', 2, 'B', 'A.D.G.C.F.B.E', 'A.D.G.C.F.E', 'A.D.G.C.F', 'A.D.G.C.F.B'),\n",
       " ('two', 5, 'E', 'A.D.G.C.F.B.E', 'A.D.G.C.F.B', 'A.D.G.C.F', 'A.D.G.C.F.E')]"
      ]
     },
     "execution_count": 194,
     "metadata": {},
     "output_type": "execute_result"
    }
   ],
   "source": [
    "conn = sqlite3.connect('data/play.sqlite')\n",
    "c = conn.cursor()\n",
    "\n",
    "query = '''\n",
    "    SELECT \n",
    "        c, a, b,\n",
    "        group_concat(b, '.') OVER (\n",
    "            ORDER BY c \n",
    "            GROUPS BETWEEN UNBOUNDED PRECEDING AND CURRENT ROW \n",
    "            EXCLUDE NO OTHERS\n",
    "            ) AS no_others,\n",
    "        group_concat(b, '.') OVER (\n",
    "            ORDER BY \n",
    "                c \n",
    "            GROUPS BETWEEN UNBOUNDED PRECEDING AND CURRENT ROW \n",
    "            EXCLUDE CURRENT ROW\n",
    "            ) AS current_row,\n",
    "        group_concat(b, '.') OVER (\n",
    "            ORDER BY \n",
    "                c \n",
    "            GROUPS BETWEEN UNBOUNDED PRECEDING AND CURRENT ROW \n",
    "            EXCLUDE GROUP\n",
    "            ) AS grp,\n",
    "        group_concat(b, '.') OVER (\n",
    "            ORDER BY \n",
    "                c \n",
    "            GROUPS BETWEEN UNBOUNDED PRECEDING AND CURRENT ROW \n",
    "            EXCLUDE TIES\n",
    "            ) AS ties\n",
    "    FROM t1 \n",
    "    ORDER BY \n",
    "        c, \n",
    "        a\n",
    "'''\n",
    "c.execute(query)\n",
    "\n",
    "rows = c.fetchall()\n",
    "rows"
   ]
  },
  {
   "cell_type": "markdown",
   "id": "cb05cbfa-3fc5-4aaf-bf56-8322f4d3a51b",
   "metadata": {},
   "source": [
    "##### The FILTER Clause\n",
    "\n",
    "If a FILTER clause is provided, then only rows for which the expr is true are included in the window frame. The aggregate window still returns a value for every row, but those for which the FILTER expression evaluates to other than true are not included in the window frame for any row. For example: "
   ]
  },
  {
   "cell_type": "code",
   "execution_count": 196,
   "id": "0b681fe0-b48e-41ed-9094-56aae3204f4e",
   "metadata": {},
   "outputs": [
    {
     "data": {
      "text/plain": [
       "[(1, 'one', 'A', 'A'),\n",
       " (2, 'two', 'B', 'A'),\n",
       " (3, 'three', 'C', 'A.C'),\n",
       " (4, 'one', 'D', 'A.C.D'),\n",
       " (5, 'two', 'E', 'A.C.D'),\n",
       " (6, 'three', 'F', 'A.C.D.F'),\n",
       " (7, 'one', 'G', 'A.C.D.F.G')]"
      ]
     },
     "execution_count": 196,
     "metadata": {},
     "output_type": "execute_result"
    }
   ],
   "source": [
    "conn = sqlite3.connect('data/play.sqlite')\n",
    "c = conn.cursor()\n",
    "\n",
    "query = '''\n",
    "    SELECT \n",
    "        a, \n",
    "        c, \n",
    "        b, \n",
    "        group_concat(b, '.') FILTER (WHERE c!='two') OVER (\n",
    "            ORDER BY a\n",
    "        ) AS group_concat\n",
    "    FROM t1 \n",
    "    ORDER BY a\n",
    "'''\n",
    "c.execute(query)\n",
    "\n",
    "rows = c.fetchall()\n",
    "rows"
   ]
  },
  {
   "cell_type": "markdown",
   "id": "2d790934-58cd-4d9d-8016-188dba091b26",
   "metadata": {},
   "source": [
    "#### Built-in Window Functions"
   ]
  },
  {
   "cell_type": "markdown",
   "id": "94524974-b45d-438a-bae1-87f8a1a9dfcf",
   "metadata": {},
   "source": [
    "##### **Functions**\n",
    "\n",
    "As well as aggregate window functions, SQLite features a set of built-in window functions based on those supported by PostgreSQL.\n",
    "\n",
    "Built-in window functions honor any PARTITION BY clause in the same way as aggregate window functions - each selected row is assigned to a partition and each partition is processed separately. The ways in which any ORDER BY clause affects each built-in window function is described below. Some of the window functions (rank(), dense_rank(), percent_rank() and ntile()) use the concept of \"peer groups\" (rows within the same partition that have the same values for all ORDER BY expressions). In these cases, it does not matter whether the frame-spec specifies ROWS, GROUPS, or RANGE. For the purposes of built-in window function processing, rows with the same values for all ORDER BY expressions are considered peers regardless of the frame type.\n",
    "\n",
    "Most built-in window functions ignore the frame-spec, the exceptions being first_value(), last_value() and nth_value(). It is a syntax error to specify a FILTER clause as part of a built-in window function invocation.\n",
    "\n",
    "SQLite supports the following 11 built-in window functions:\n",
    "\n",
    "**row_number()**\n",
    "\n",
    "    The number of the row within the current partition. Rows are numbered starting from 1 in the order defined by the ORDER BY clause in the window definition, or in arbitrary order otherwise. \n",
    "\n",
    "**rank()**\n",
    "\n",
    "    The row_number() of the first peer in each group - the rank of the current row with gaps. If there is no ORDER BY clause, then all rows are considered peers and this function always returns 1. \n",
    "\n",
    "**dense_rank()**\n",
    "\n",
    "    The number of the current row's peer group within its partition - the rank of the current row without gaps. Rows are numbered starting from 1 in the order defined by the ORDER BY clause in the window definition. If there is no ORDER BY clause, then all rows are considered peers and this function always returns 1. \n",
    "\n",
    "**percent_rank()**\n",
    "\n",
    "    Despite the name, this function always returns a value between 0.0 and 1.0 equal to (rank - 1)/(partition-rows - 1), where rank is the value returned by built-in window function rank() and partition-rows is the total number of rows in the partition. If the partition contains only one row, this function returns 0.0. \n",
    "\n",
    "**cume_dist()**\n",
    "\n",
    "    The cumulative distribution. Calculated as row-number/partition-rows, where row-number is the value returned by row_number() for the last peer in the group and partition-rows the number of rows in the partition. \n",
    "\n",
    "**ntile(N)**\n",
    "\n",
    "    Argument N is handled as an integer. This function divides the partition into N groups as evenly as possible and assigns an integer between 1 and N to each group, in the order defined by the ORDER BY clause, or in arbitrary order otherwise. If necessary, larger groups occur first. This function returns the integer value assigned to the group that the current row is a part of. \n",
    "\n",
    "**lag(expr)\n",
    "lag(expr, offset)\n",
    "lag(expr, offset, default)**\n",
    "\n",
    "    The first form of the lag() function returns the result of evaluating expression expr against the previous row in the partition. Or, if there is no previous row (because the current row is the first), NULL.\n",
    "\n",
    "    If the offset argument is provided, then it must be a non-negative integer. In this case the value returned is the result of evaluating expr against the row offset rows before the current row within the partition. If offset is 0, then expr is evaluated against the current row. If there is no row offset rows before the current row, NULL is returned.\n",
    "\n",
    "    If default is also provided, then it is returned instead of NULL if the row identified by offset does not exist. \n",
    "\n",
    "**lead(expr)\n",
    "lead(expr, offset)\n",
    "lead(expr, offset, default)**\n",
    "\n",
    "    The first form of the lead() function returns the result of evaluating expression expr against the next row in the partition. Or, if there is no next row (because the current row is the last), NULL.\n",
    "\n",
    "    If the offset argument is provided, then it must be a non-negative integer. In this case the value returned is the result of evaluating expr against the row offset rows after the current row within the partition. If offset is 0, then expr is evaluated against the current row. If there is no row offset rows after the current row, NULL is returned.\n",
    "\n",
    "    If default is also provided, then it is returned instead of NULL if the row identified by offset does not exist. \n",
    "\n",
    "**first_value(expr)**\n",
    "\n",
    "    This built-in window function calculates the window frame for each row in the same way as an aggregate window function. It returns the value of expr evaluated against the first row in the window frame for each row. \n",
    "\n",
    "**last_value(expr)**\n",
    "\n",
    "    This built-in window function calculates the window frame for each row in the same way as an aggregate window function. It returns the value of expr evaluated against the last row in the window frame for each row. \n",
    "\n",
    "**nth_value(expr, N)**\n",
    "\n",
    "    This built-in window function calculates the window frame for each row in the same way as an aggregate window function. It returns the value of expr evaluated against the row N of the window frame. Rows are numbered within the window frame starting from 1 in the order defined by the ORDER BY clause if one is present, or in arbitrary order otherwise. If there is no Nth row in the partition, then NULL is returned. "
   ]
  },
  {
   "cell_type": "markdown",
   "id": "144f93c9-421e-4599-9bf2-f1752cfab978",
   "metadata": {},
   "source": [
    "##### Examples\n",
    "\n",
    "The following example illustrates the behaviour of the five ranking functions - row_number(), rank(), dense_rank(), percent_rank() and cume_dist()."
   ]
  },
  {
   "cell_type": "code",
   "execution_count": 197,
   "id": "35ad3ab0-a067-498a-a05f-fa475091b9af",
   "metadata": {},
   "outputs": [
    {
     "data": {
      "text/plain": [
       "[('a', 1, 1, 1, 0.0, 0.5),\n",
       " ('a', 2, 1, 1, 0.0, 0.5),\n",
       " ('a', 3, 1, 1, 0.0, 0.5),\n",
       " ('b', 4, 4, 2, 0.6, 0.6666666666666666),\n",
       " ('c', 5, 5, 3, 0.8, 1.0),\n",
       " ('c', 6, 5, 3, 0.8, 1.0)]"
      ]
     },
     "execution_count": 197,
     "metadata": {},
     "output_type": "execute_result"
    }
   ],
   "source": [
    "conn = sqlite3.connect('data/play.sqlite')\n",
    "c = conn.cursor()\n",
    "\n",
    "query = '''\n",
    "    SELECT \n",
    "        a                        AS a,\n",
    "        row_number() OVER win    AS row_number,\n",
    "        rank() OVER win          AS rank,\n",
    "        dense_rank() OVER win    AS dense_rank,\n",
    "        percent_rank() OVER win  AS percent_rank,\n",
    "        cume_dist() OVER win     AS cume_dist\n",
    "    FROM t2\n",
    "    WINDOW win AS (ORDER BY a)\n",
    "'''\n",
    "c.execute(query)\n",
    "\n",
    "rows = c.fetchall()\n",
    "rows"
   ]
  },
  {
   "cell_type": "markdown",
   "id": "fd36dac1-27dc-4c88-bbfe-24655e527a7c",
   "metadata": {},
   "source": [
    "---\n",
    "The example below uses ntile() to divide the six rows into two groups (the ntile(2) call) and into four groups (the ntile(4) call). For ntile(2), there are three rows assigned to each group. For ntile(4), there are two groups of two and two groups of one. The larger groups of two appear first. "
   ]
  },
  {
   "cell_type": "code",
   "execution_count": 198,
   "id": "5a5568a4-bfa1-4398-acb6-87ea0d9817cb",
   "metadata": {},
   "outputs": [
    {
     "data": {
      "text/plain": [
       "[('a', 'one', 1, 1),\n",
       " ('a', 'two', 1, 1),\n",
       " ('a', 'three', 1, 2),\n",
       " ('b', 'four', 2, 2),\n",
       " ('c', 'five', 2, 3),\n",
       " ('c', 'six', 2, 4)]"
      ]
     },
     "execution_count": 198,
     "metadata": {},
     "output_type": "execute_result"
    }
   ],
   "source": [
    "conn = sqlite3.connect('data/play.sqlite')\n",
    "c = conn.cursor()\n",
    "\n",
    "query = '''\n",
    "    SELECT \n",
    "        a                        AS a,\n",
    "        b                        AS b,\n",
    "        ntile(2) OVER win        AS ntile_2,\n",
    "        ntile(4) OVER win        AS ntile_4\n",
    "    FROM t2\n",
    "    WINDOW win AS (ORDER BY a)\n",
    "'''\n",
    "c.execute(query)\n",
    "\n",
    "rows = c.fetchall()\n",
    "rows"
   ]
  },
  {
   "cell_type": "markdown",
   "id": "98e47420-f985-4593-829d-b2a47786f54c",
   "metadata": {},
   "source": [
    "---\n",
    "The next example demonstrates lag(), lead(), first_value(), last_value() and nth_value(). The frame-spec is ignored by both lag() and lead(), but respected by first_value(), last_value() and nth_value(). "
   ]
  },
  {
   "cell_type": "code",
   "execution_count": 201,
   "id": "ceb600c8-3555-4e1f-b5cc-7a19e094069b",
   "metadata": {},
   "outputs": [
    {
     "data": {
      "text/plain": [
       "[('A', 'C', None, 'A', 'A', None),\n",
       " ('B', 'D', 'A', 'A', 'B', None),\n",
       " ('C', 'E', 'B', 'A', 'C', 'C'),\n",
       " ('D', 'F', 'C', 'A', 'D', 'C'),\n",
       " ('E', 'G', 'D', 'A', 'E', 'C'),\n",
       " ('F', 'n/a', 'E', 'A', 'F', 'C'),\n",
       " ('G', 'n/a', 'F', 'A', 'G', 'C')]"
      ]
     },
     "execution_count": 201,
     "metadata": {},
     "output_type": "execute_result"
    }
   ],
   "source": [
    "conn = sqlite3.connect('data/play.sqlite')\n",
    "c = conn.cursor()\n",
    "\n",
    "query = '''\n",
    "    SELECT \n",
    "        b                          AS b,\n",
    "        lead(b, 2, 'n/a') OVER win AS lead,\n",
    "        lag(b) OVER win            AS lag,\n",
    "        first_value(b) OVER win    AS first_value,\n",
    "        last_value(b) OVER win     AS last_value,\n",
    "        nth_value(b, 3) OVER win   AS nth_value_3\n",
    "    FROM t1\n",
    "    WINDOW win AS (\n",
    "        ORDER BY b \n",
    "        ROWS BETWEEN UNBOUNDED PRECEDING AND CURRENT ROW\n",
    "    )\n",
    "'''\n",
    "c.execute(query)\n",
    "\n",
    "rows = c.fetchall()\n",
    "rows"
   ]
  },
  {
   "cell_type": "markdown",
   "id": "dd698641-0c8d-495c-9bb1-2b1c9ff49a28",
   "metadata": {},
   "source": [
    "#### Window Chaining\n",
    "\n",
    "Window chaining is a shorthand that allows one window to be defined in terms of another. Specifically, the shorthand allows the new window to implicitly copy the PARTITION BY and optionally ORDER BY clauses of the base window. For example, in the following: "
   ]
  },
  {
   "cell_type": "code",
   "execution_count": 209,
   "id": "ae3deff0-0118-478f-a73f-d1c0b083ae9c",
   "metadata": {},
   "outputs": [
    {
     "data": {
      "text/plain": [
       "[(1, 'A', 'one', 'A'),\n",
       " (4, 'D', 'one', 'A.D'),\n",
       " (7, 'G', 'one', 'A.D.G'),\n",
       " (3, 'C', 'three', 'C'),\n",
       " (6, 'F', 'three', 'C.F'),\n",
       " (2, 'B', 'two', 'B'),\n",
       " (5, 'E', 'two', 'B.E')]"
      ]
     },
     "execution_count": 209,
     "metadata": {},
     "output_type": "execute_result"
    }
   ],
   "source": [
    "conn = sqlite3.connect('data/play.sqlite')\n",
    "c = conn.cursor()\n",
    "\n",
    "query = '''\n",
    "    SELECT\n",
    "        a,\n",
    "        b,\n",
    "        c,\n",
    "        group_concat(b, '.') OVER (\n",
    "            win \n",
    "            ROWS BETWEEN UNBOUNDED PRECEDING AND CURRENT ROW\n",
    "        )\n",
    "    FROM t1\n",
    "    WINDOW win AS (\n",
    "        PARTITION BY c \n",
    "        ORDER BY a\n",
    "    )\n",
    "'''\n",
    "c.execute(query)\n",
    "\n",
    "rows = c.fetchall()\n",
    "rows"
   ]
  },
  {
   "cell_type": "markdown",
   "id": "adc8b75d-9a76-457a-9314-f1e704fe9e59",
   "metadata": {},
   "source": [
    " the window used by the group_concat() function is equivalent to \"PARTITION BY a ORDER BY c ROWS BETWEEN UNBOUNDED PRECEDING AND CURRENT ROW\". In order to use window chaining, all of the following must be true:\n",
    "\n",
    "    The new window definition must not include a PARTITION BY clause. The PARTITION BY clause, if there is one, must be supplied by the base window specification.\n",
    "\n",
    "    If the base window has an ORDER BY clause, it is copied into the new window. In this case the new window must not specify an ORDER BY clause. If the base window has no ORDER BY clause, one may be specified as part of the new window definition.\n",
    "\n",
    "    The base window may not specify a frame specification. The frame specification can only be given in the new window specification. \n",
    "    \n",
    "The two fragments of SQL below are similar, but not entirely equivalent, as the latter will fail if the definition of window \"win\" contains a frame specification.\n",
    "\n",
    "```sql\n",
    "SELECT group_concat(b, '.') OVER win ...\n",
    "SELECT group_concat(b, '.') OVER (win) ...\n",
    "```"
   ]
  },
  {
   "cell_type": "markdown",
   "id": "7bddbe95-0236-4898-9b16-910b5df238b2",
   "metadata": {},
   "source": [
    "### Other Misc. Stuff"
   ]
  },
  {
   "cell_type": "code",
   "execution_count": null,
   "id": "777ae7c7-c569-479a-974b-38e000c437cb",
   "metadata": {},
   "outputs": [],
   "source": []
  },
  {
   "cell_type": "code",
   "execution_count": null,
   "id": "6a6b3249-21b5-48d5-b301-86e33e416ae2",
   "metadata": {},
   "outputs": [],
   "source": []
  },
  {
   "cell_type": "markdown",
   "id": "263560a3-de20-4825-94a2-a23d84100866",
   "metadata": {},
   "source": [
    "#### How to list tables using SQLite3 in Python"
   ]
  },
  {
   "cell_type": "code",
   "execution_count": 92,
   "id": "81d30d75-171b-401e-8f19-2472a76d6140",
   "metadata": {},
   "outputs": [
    {
     "name": "stdout",
     "output_type": "stream",
     "text": [
      "Connected to SQLite\n",
      "\n",
      "List of tables\n",
      "\n",
      "[('sqlite_sequence',), ('Player_Attributes',), ('Player',), ('Match',), ('League',), ('Country',), ('Team',), ('Team_Attributes',)]\n",
      "\n",
      "the sqlite connection is closed\n"
     ]
    }
   ],
   "source": [
    "# Importing Sqlite3 Module\n",
    "import sqlite3\n",
    " \n",
    "try:\n",
    "    sqliteConnection = sqlite3.connect('data/soccer.sqlite')\n",
    "     \n",
    "    print(\"Connected to SQLite\\n\")\n",
    " \n",
    "    # Getting all tables from sqlite_master\n",
    "    \n",
    "    sql_query = \"\"\"\n",
    "        SELECT name \n",
    "        FROM sqlite_master\n",
    "        WHERE type='table';\n",
    "    \"\"\"\n",
    " \n",
    "    # Creating cursor object using connection object\n",
    "    \n",
    "    cursor = sqliteConnection.cursor()\n",
    "    cursor.execute(sql_query)\n",
    "    \n",
    "    print(\"List of tables\\n\")\n",
    "    print(cursor.fetchall())\n",
    "\n",
    "except sqlite3.Error as error:\n",
    "    print(\"Failed to execute the above query\", error)\n",
    "     \n",
    "finally:\n",
    "   \n",
    "    # Inside Finally Block, If connection is\n",
    "    # open, we need to close it\n",
    "    if sqliteConnection:\n",
    "         \n",
    "        sqliteConnection.close()\n",
    "        print(\"\\nthe sqlite connection is closed\")"
   ]
  },
  {
   "cell_type": "markdown",
   "id": "73368cb3-a0f6-445e-bb8e-8bca21aeb2da",
   "metadata": {},
   "source": [
    "#### How to Show all Columns in a table"
   ]
  },
  {
   "cell_type": "code",
   "execution_count": 222,
   "id": "44244aee-77be-4e02-aa22-3ab3179e7b3e",
   "metadata": {
    "tags": []
   },
   "outputs": [
    {
     "name": "stdout",
     "output_type": "stream",
     "text": [
      "\n",
      "Columns in EMPLOYEE table:\n",
      "\n",
      "id\n",
      "player_api_id\n",
      "player_name\n",
      "player_fifa_api_id\n",
      "birthday\n",
      "height\n",
      "weight\n",
      "\n",
      "Data in EMPLOYEE table:\n",
      "\n",
      "(1, 505942, 'Aaron Appindangoye', 218353, '1992-02-29 00:00:00', 182.88, 187)\n",
      "(2, 155782, 'Aaron Cresswell', 189615, '1989-12-15 00:00:00', 170.18, 146)\n",
      "(3, 162549, 'Aaron Doran', 186170, '1991-05-13 00:00:00', 170.18, 163)\n",
      "(4, 30572, 'Aaron Galindo', 140161, '1982-05-08 00:00:00', 182.88, 198)\n",
      "(5, 23780, 'Aaron Hughes', 17725, '1979-11-08 00:00:00', 182.88, 154)\n",
      "(6, 27316, 'Aaron Hunt', 158138, '1986-09-04 00:00:00', 182.88, 161)\n",
      "(7, 564793, 'Aaron Kuhl', 221280, '1996-01-30 00:00:00', 172.72, 146)\n",
      "(8, 30895, 'Aaron Lennon', 152747, '1987-04-16 00:00:00', 165.1, 139)\n",
      "(9, 528212, 'Aaron Lennox', 206592, '1993-02-19 00:00:00', 190.5, 181)\n",
      "(10, 101042, 'Aaron Meijers', 188621, '1987-10-28 00:00:00', 175.26, 170)\n"
     ]
    }
   ],
   "source": [
    "conn = sqlite3.connect('data/soccer.sqlite')\n",
    "\n",
    "c = conn.cursor()\n",
    "\n",
    "query = '''\n",
    "    SELECT *\n",
    "    FROM Player\n",
    "'''\n",
    "\n",
    "# Display columns\n",
    "print('\\nColumns in EMPLOYEE table:\\n')\n",
    "\n",
    "data = c.execute(query)\n",
    "\n",
    "for column in list(data.description)[0:10]:\n",
    "    print(column[0])\n",
    "\n",
    "# rows = c.fetchall()\n",
    "\n",
    "# Display data\n",
    "print('\\nData in EMPLOYEE table:\\n')\n",
    "\n",
    "for row in list(data)[0:10]:\n",
    "    print(row)"
   ]
  },
  {
   "cell_type": "markdown",
   "id": "aec1f1da-3d9d-44ac-8680-0d507101e08f",
   "metadata": {},
   "source": [
    "#### Execute Script (instead of single query)"
   ]
  },
  {
   "cell_type": "code",
   "execution_count": 210,
   "id": "e43d27b7-504b-451b-9236-11c322a1de67",
   "metadata": {},
   "outputs": [
    {
     "name": "stdout",
     "output_type": "stream",
     "text": [
      "[('7058', 'sravan kumar'), ('7059', 'Jyothika'), ('7072', 'Harsha'), ('7075', 'Deepika')]\n"
     ]
    }
   ],
   "source": [
    "# import sqlite3 module\n",
    "import sqlite3\n",
    "  \n",
    "# create con object to connect \n",
    "# the database geeks_db.db\n",
    "con = sqlite3.connect(\"data/geeks_db.db\")\n",
    "  \n",
    "# create the cursor object\n",
    "cur = con.cursor()\n",
    "  \n",
    "# execute the script by creating the \n",
    "# table named geeks_demo and insert the data\n",
    "cur.executescript(\"\"\"\n",
    "    create table geeks_demo(\n",
    "        geek_id,\n",
    "        geek_name\n",
    "    );\n",
    "   insert into geeks_demo values ( '7058', 'sravan kumar' );\n",
    "   insert into geeks_demo values ( '7059', 'Jyothika' );\n",
    "   insert into geeks_demo values ( '7072', 'Harsha' );\n",
    "   insert into geeks_demo values ( '7075', 'Deepika' );\n",
    "      \n",
    "    \"\"\")\n",
    "  \n",
    "# display the data in the table by \n",
    "# executing the cursor object\n",
    "cur.execute(\"SELECT * from geeks_demo\")\n",
    "  \n",
    "# fetch all the data\n",
    "print(cur.fetchall())"
   ]
  }
 ],
 "metadata": {
  "kernelspec": {
   "display_name": "Python 3 (ipykernel)",
   "language": "python",
   "name": "python3"
  },
  "language_info": {
   "codemirror_mode": {
    "name": "ipython",
    "version": 3
   },
   "file_extension": ".py",
   "mimetype": "text/x-python",
   "name": "python",
   "nbconvert_exporter": "python",
   "pygments_lexer": "ipython3",
   "version": "3.8.12"
  }
 },
 "nbformat": 4,
 "nbformat_minor": 5
}
