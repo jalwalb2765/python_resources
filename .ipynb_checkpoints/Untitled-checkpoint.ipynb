{
 "cells": [
  {
   "cell_type": "code",
   "execution_count": 3,
   "id": "4cb57580-ab24-49b6-a803-0d0735ad9834",
   "metadata": {},
   "outputs": [],
   "source": [
    "import pandas as pd"
   ]
  },
  {
   "cell_type": "code",
   "execution_count": 18,
   "id": "8653c006-4ddc-4ea8-83de-c745646b30ef",
   "metadata": {},
   "outputs": [],
   "source": [
    "pickup_datetime='2013-07-06 17:18:00'\n",
    "pickup_longitude=-73.950655\n",
    "pickup_latitude=40.783282\n",
    "dropoff_longitude=-73.984365\n",
    "dropoff_latitude=40.769802\n",
    "passenger_count=1\n"
   ]
  },
  {
   "cell_type": "code",
   "execution_count": 23,
   "id": "19a9b997-8640-464c-84b1-b1b84c4f7096",
   "metadata": {},
   "outputs": [],
   "source": [
    "params = {\n",
    "        \"pickup_datetime\": pickup_datetime,\n",
    "        \"pickup_longitude\": pickup_longitude,\n",
    "        \"pickup_latitude\": pickup_latitude,\n",
    "        \"dropoff_longitude\": dropoff_longitude,\n",
    "        \"dropoff_latitude\": dropoff_latitude,\n",
    "        \"passenger_count\": passenger_count\n",
    "    }"
   ]
  },
  {
   "cell_type": "code",
   "execution_count": 24,
   "id": "bed0da82-0dd9-4644-b210-e9f00fc49a97",
   "metadata": {},
   "outputs": [
    {
     "data": {
      "text/plain": [
       "{'pickup_datetime': '2012-10-06 12:10:20',\n",
       " 'pickup_longitude': 40.7614327,\n",
       " 'pickup_latitude': -73.9798156,\n",
       " 'dropoff_longitude': 40.6513111,\n",
       " 'dropoff_latitude': -73.8803331,\n",
       " 'passenger_count': 2}"
      ]
     },
     "execution_count": 24,
     "metadata": {},
     "output_type": "execute_result"
    }
   ],
   "source": [
    "params"
   ]
  },
  {
   "cell_type": "code",
   "execution_count": 21,
   "id": "484748b9-054a-4e43-a001-353225972ef9",
   "metadata": {},
   "outputs": [
    {
     "name": "stdout",
     "output_type": "stream",
     "text": [
      "<Response [200]>\n"
     ]
    }
   ],
   "source": [
    "import requests\n",
    "\n",
    "url = \"https://api-p4pgsvggtq-uc.a.run.app/predict\"\n",
    "\n",
    "response = requests.get(\n",
    "    url,                   #Always need this\n",
    "    params=params                #Use if you want to pass parameters to your query\n",
    ")\n",
    "\n",
    "print(response)"
   ]
  },
  {
   "cell_type": "markdown",
   "id": "bba1302e-7b21-4aa7-ad70-5537e7fb099d",
   "metadata": {},
   "source": [
    "https://api-p4pgsvggtq-uc.a.run.app/predict"
   ]
  },
  {
   "cell_type": "code",
   "execution_count": 22,
   "id": "3ed52466-7419-4376-b90c-e65518348f2b",
   "metadata": {},
   "outputs": [],
   "source": [
    "\n",
    "pickup_datetime = '2012-10-06 12:10:20'\n",
    "pickup_longitude = 40.7614327\n",
    "pickup_latitude = -73.9798156\n",
    "dropoff_longitude = 40.6513111\n",
    "dropoff_latitude = -73.8803331\n",
    "passenger_count = 2\n",
    "\n"
   ]
  },
  {
   "cell_type": "code",
   "execution_count": null,
   "id": "def6f0a6-128a-4a99-be0d-c771aed44a57",
   "metadata": {},
   "outputs": [],
   "source": [
    "https://api-p4pgsvggtq-uc.a.run.app/predict?\n",
    "\n",
    "pickup_datetime=2012-10-06%2012:10:20&\n",
    "pickup_longitude=40.7614327&\n",
    "pickup_latitude=-73.9798156&\n",
    "dropoff_longitude=40.6513111&\n",
    "dropoff_latitude=-73.8803331&\n",
    "passenger_count=2\n"
   ]
  }
 ],
 "metadata": {
  "kernelspec": {
   "display_name": "Python 3 (ipykernel)",
   "language": "python",
   "name": "python3"
  },
  "language_info": {
   "codemirror_mode": {
    "name": "ipython",
    "version": 3
   },
   "file_extension": ".py",
   "mimetype": "text/x-python",
   "name": "python",
   "nbconvert_exporter": "python",
   "pygments_lexer": "ipython3",
   "version": "3.8.12"
  }
 },
 "nbformat": 4,
 "nbformat_minor": 5
}
