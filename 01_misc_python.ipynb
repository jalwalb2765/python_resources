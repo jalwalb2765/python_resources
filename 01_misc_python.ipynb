{
 "cells": [
  {
   "cell_type": "code",
   "execution_count": 1,
   "id": "65b3e938-924d-476a-9d1e-12110d97874b",
   "metadata": {},
   "outputs": [],
   "source": [
    "import datetime"
   ]
  },
  {
   "cell_type": "markdown",
   "id": "bf2af28d-9fed-4c08-b3c9-a905ed52ca9f",
   "metadata": {},
   "source": [
    "# Misc. Python Libraries & Functionality"
   ]
  },
  {
   "cell_type": "markdown",
   "id": "63a5f7ad-aafc-4e5e-baa9-dab737495801",
   "metadata": {},
   "source": [
    "Libraries included in this are:\n",
    "\n",
    "    1. CSV\n",
    "    2. Requests\n",
    "    3. BeautifulSoup\n",
    "    4. OS\n",
    "    "
   ]
  },
  {
   "cell_type": "markdown",
   "id": "9f7d19a3-4456-495e-a6e9-9b654873f0e2",
   "metadata": {},
   "source": [
    "## 'curl' Terminal Command\n"
   ]
  },
  {
   "cell_type": "markdown",
   "id": "a1465282-c0bc-444f-bb6e-04bd27c789bd",
   "metadata": {},
   "source": [
    "To download files from the internet, you can use the 'curl' command. This is a terminal command, so you need to put an '!' in front of it if you are going to run it in a Notebook."
   ]
  },
  {
   "cell_type": "code",
   "execution_count": 7,
   "id": "082da6c0-202e-4a3a-8344-903bd607a12c",
   "metadata": {},
   "outputs": [
    {
     "name": "stdout",
     "output_type": "stream",
     "text": [
      "John,Doe,120 jefferson st.,Riverside, NJ, 08075\n",
      "Jack,McGinnis,220 hobo Av.,Phila, PA,09119\n",
      "\"John \"\"Da Man\"\"\",Repici,120 Jefferson St.,Riverside, NJ,08075\n",
      "Stephen,Tyler,\"7452 Terrace \"\"At the Plaza\"\" road\",SomeTown,SD, 91234\n",
      ",Blankman,,SomeTown, SD, 00298\n",
      "\"Joan \"\"the bone\"\", Anne\",Jet,\"9th, at Terrace plc\",Desert City,CO,00123\n",
      "\n",
      "\n",
      "\"Name\",     \"Sex\", \"Age\", \"Height (in)\", \"Weight (lbs)\"\n",
      "\"Alex\",       \"M\",   41,       74,      170\n",
      "\"Bert\",       \"M\",   42,       68,      166\n"
     ]
    }
   ],
   "source": [
    "!curl -s https://people.sc.fsu.edu/~jburkardt/data/csv/addresses.csv > data/addresses.csv\n",
    "!cat data/addresses.csv\n",
    "\n",
    "print('\\n')\n",
    "\n",
    "!curl -s https://people.sc.fsu.edu/~jburkardt/data/csv/biostats.csv > data/biostats.csv\n",
    "!head -n 3 data/biostats.csv"
   ]
  },
  {
   "cell_type": "markdown",
   "id": "6f75557c-a886-4875-9998-e8daf480b22f",
   "metadata": {},
   "source": [
    "## CSV"
   ]
  },
  {
   "cell_type": "markdown",
   "id": "756b28ae-d6d4-4194-9ae0-f424536f947f",
   "metadata": {},
   "source": [
    "CSV is a module for reading and writing CSV files."
   ]
  },
  {
   "cell_type": "markdown",
   "id": "cfb21a3a-9054-40c1-a994-684caa8e34a4",
   "metadata": {},
   "source": [
    "### CSV Reading without Headers (csv.reader)"
   ]
  },
  {
   "cell_type": "code",
   "execution_count": 18,
   "id": "eb715b77-8738-4f8c-b782-01486f1c2c50",
   "metadata": {},
   "outputs": [
    {
     "name": "stdout",
     "output_type": "stream",
     "text": [
      "<class '_csv.reader'>\n",
      "['John', 'Doe', '120 jefferson st.', 'Riverside', 'NJ', '08075']\n",
      "['Jack', 'McGinnis', '220 hobo Av.', 'Phila', 'PA', '09119']\n",
      "['John \"Da Man\"', 'Repici', '120 Jefferson St.', 'Riverside', 'NJ', '08075']\n",
      "['Stephen', 'Tyler', '7452 Terrace \"At the Plaza\" road', 'SomeTown', 'SD', '91234']\n",
      "['', 'Blankman', '', 'SomeTown', 'SD', '00298']\n",
      "['Joan \"the bone\", Anne', 'Jet', '9th, at Terrace plc', 'Desert City', 'CO', '00123']\n"
     ]
    }
   ],
   "source": [
    "import csv\n",
    "\n",
    "with open('data/addresses.csv') as csvfile:\n",
    "    reader = csv.reader(csvfile, skipinitialspace=True)\n",
    "    \n",
    "    print(type(reader))\n",
    "    \n",
    "    for row in reader:\n",
    "        # row is a `list`\n",
    "        print(row)"
   ]
  },
  {
   "cell_type": "markdown",
   "id": "e4a97730-97ee-442e-b9ad-acf875d41665",
   "metadata": {},
   "source": [
    "### CSV with Headers (csv.DictReader)"
   ]
  },
  {
   "cell_type": "code",
   "execution_count": 1,
   "id": "9138c445-d429-4818-9cbb-d5ae160971b3",
   "metadata": {},
   "outputs": [
    {
     "name": "stdout",
     "output_type": "stream",
     "text": [
      "<class 'csv.DictReader'>\n",
      "<class 'dict'>\n",
      "{'Name': 'Alex', 'Sex': 'M', 'Age': '41', 'Height (in)': '74', 'Weight (lbs)': '170'}\n",
      "Alex M 41\n",
      "<class 'dict'>\n",
      "{'Name': 'Bert', 'Sex': 'M', 'Age': '42', 'Height (in)': '68', 'Weight (lbs)': '166'}\n",
      "Bert M 42\n",
      "<class 'dict'>\n",
      "{'Name': 'Carl', 'Sex': 'M', 'Age': '32', 'Height (in)': '70', 'Weight (lbs)': '155'}\n",
      "Carl M 32\n",
      "<class 'dict'>\n",
      "{'Name': 'Dave', 'Sex': 'M', 'Age': '39', 'Height (in)': '72', 'Weight (lbs)': '167'}\n",
      "Dave M 39\n",
      "<class 'dict'>\n",
      "{'Name': 'Elly', 'Sex': 'F', 'Age': '30', 'Height (in)': '66', 'Weight (lbs)': '124'}\n",
      "Elly F 30\n",
      "<class 'dict'>\n",
      "{'Name': 'Fran', 'Sex': 'F', 'Age': '33', 'Height (in)': '66', 'Weight (lbs)': '115'}\n",
      "Fran F 33\n",
      "<class 'dict'>\n",
      "{'Name': 'Gwen', 'Sex': 'F', 'Age': '26', 'Height (in)': '64', 'Weight (lbs)': '121'}\n",
      "Gwen F 26\n",
      "<class 'dict'>\n",
      "{'Name': 'Hank', 'Sex': 'M', 'Age': '30', 'Height (in)': '71', 'Weight (lbs)': '158'}\n",
      "Hank M 30\n",
      "<class 'dict'>\n",
      "{'Name': 'Ivan', 'Sex': 'M', 'Age': '53', 'Height (in)': '72', 'Weight (lbs)': '175'}\n",
      "Ivan M 53\n",
      "<class 'dict'>\n",
      "{'Name': 'Jake', 'Sex': 'M', 'Age': '32', 'Height (in)': '69', 'Weight (lbs)': '143'}\n",
      "Jake M 32\n",
      "<class 'dict'>\n",
      "{'Name': 'Kate', 'Sex': 'F', 'Age': '47', 'Height (in)': '69', 'Weight (lbs)': '139'}\n",
      "Kate F 47\n",
      "<class 'dict'>\n",
      "{'Name': 'Luke', 'Sex': 'M', 'Age': '34', 'Height (in)': '72', 'Weight (lbs)': '163'}\n",
      "Luke M 34\n",
      "<class 'dict'>\n",
      "{'Name': 'Myra', 'Sex': 'F', 'Age': '23', 'Height (in)': '62', 'Weight (lbs)': '98'}\n",
      "Myra F 23\n",
      "<class 'dict'>\n",
      "{'Name': 'Neil', 'Sex': 'M', 'Age': '36', 'Height (in)': '75', 'Weight (lbs)': '160'}\n",
      "Neil M 36\n",
      "<class 'dict'>\n",
      "{'Name': 'Omar', 'Sex': 'M', 'Age': '38', 'Height (in)': '70', 'Weight (lbs)': '145'}\n",
      "Omar M 38\n",
      "<class 'dict'>\n",
      "{'Name': 'Page', 'Sex': 'F', 'Age': '31', 'Height (in)': '67', 'Weight (lbs)': '135'}\n",
      "Page F 31\n",
      "<class 'dict'>\n",
      "{'Name': 'Quin', 'Sex': 'M', 'Age': '29', 'Height (in)': '71', 'Weight (lbs)': '176'}\n",
      "Quin M 29\n",
      "<class 'dict'>\n",
      "{'Name': 'Ruth', 'Sex': 'F', 'Age': '28', 'Height (in)': '65', 'Weight (lbs)': '131'}\n",
      "Ruth F 28\n"
     ]
    }
   ],
   "source": [
    "import csv\n",
    "\n",
    "with open('data/biostats.csv') as csvfile:\n",
    "    reader = csv.DictReader(csvfile, skipinitialspace=True)\n",
    "    \n",
    "    # reader is a csv.DictReader object, and the information inside cannot be directly retreived.\n",
    "    print(type(reader))\n",
    "    \n",
    "    # You need to use a for loop to access the data\n",
    "\n",
    "    for row in reader:\n",
    "        # Each row is a dictionary, with the header row as the keys\n",
    "        print(type(row))\n",
    "        print(row)\n",
    "        \n",
    "        # You can also access the values as below\n",
    "        print(row['Name'], row['Sex'], int(row['Age']))\n",
    "        \n",
    "        #You can also read each row as it's own dictionary as below"
   ]
  },
  {
   "cell_type": "markdown",
   "id": "137a3521-c4f7-41a0-9410-ec3693739b21",
   "metadata": {},
   "source": [
    "### Writing a CSV (csv.DictWriter)"
   ]
  },
  {
   "cell_type": "code",
   "execution_count": 27,
   "id": "4954582a-a6ea-43d9-9099-d3605c912b0b",
   "metadata": {},
   "outputs": [],
   "source": [
    "beatles = [\n",
    "    { 'first_name': 'John', 'last_name': 'lennon', 'instrument': 'guitar'},\n",
    "    { 'first_name': 'Ringo', 'last_name': 'Starr', 'instrument': 'drums'}\n",
    "]"
   ]
  },
  {
   "cell_type": "markdown",
   "id": "84914a93-3123-471d-8823-a76a5f4c606e",
   "metadata": {},
   "source": [
    "The 'w' parameter in the 'open()' function is for write."
   ]
  },
  {
   "cell_type": "code",
   "execution_count": 30,
   "id": "ef036e86-106a-4d0d-9c6d-2e2f9a148c64",
   "metadata": {},
   "outputs": [],
   "source": [
    "import csv\n",
    "\n",
    "with open('data/beatles.csv', 'w') as csvfile:\n",
    "    writer = csv.DictWriter(csvfile, fieldnames=beatles[0].keys())\n",
    "    writer.writeheader()\n",
    "    for beatle in beatles:\n",
    "          writer.writerow(beatle)\n",
    "            "
   ]
  },
  {
   "cell_type": "code",
   "execution_count": 31,
   "id": "e725a0b9-887c-4abe-aa19-3f4bcb60745a",
   "metadata": {},
   "outputs": [
    {
     "name": "stdout",
     "output_type": "stream",
     "text": [
      "first_name,last_name,instrument\n",
      "John,lennon,guitar\n",
      "Ringo,Starr,drums\n"
     ]
    }
   ],
   "source": [
    "!cat data/beatles.csv"
   ]
  },
  {
   "cell_type": "markdown",
   "id": "e21d88bd-4637-448f-8d4e-25f1872bc002",
   "metadata": {},
   "source": [
    "## FastApi & Uvicorn"
   ]
  },
  {
   "cell_type": "markdown",
   "id": "8952aa1f-b2b3-44cc-9216-460fdc708e17",
   "metadata": {},
   "source": [
    "👉 High performance python framework\n",
    "\n",
    "👉 Easy to learn, fast to code\n",
    "\n",
    "👉 Automatically generated documentation allowing to test the API endpoints easily 🎉\n",
    "\n",
    "    pip install fastapi\n",
    "\n",
    "https://fastapi.tiangolo.com/\n",
    "\n",
    "FastAPI uses python decorators in order to link the routes that the developers will query to the code of the endpoints. The code of the decorated function will be called whenever a HTTP request is received. The response will be returned as a JSON object to the code querying the API.\n",
    "\n",
    "The code below is written in a 'simple.py' python file"
   ]
  },
  {
   "cell_type": "code",
   "execution_count": null,
   "id": "775d7116-9b83-4a92-bfa1-bfb2bd65c623",
   "metadata": {},
   "outputs": [],
   "source": [
    "from fastapi import FastAPI\n",
    "\n",
    "app = FastAPI()\n",
    "\n",
    "# define a root `/` endpoint\n",
    "@app.get(\"/\")\n",
    "def index():\n",
    "    return {\"ok\": True}"
   ]
  },
  {
   "cell_type": "markdown",
   "id": "0b3b704a-4c49-4dca-b124-612d78c22a68",
   "metadata": {},
   "source": [
    "What if we run the code?"
   ]
  },
  {
   "cell_type": "code",
   "execution_count": null,
   "id": "b4c8d9d5-eb63-4657-87b7-89f697203bac",
   "metadata": {},
   "outputs": [],
   "source": [
    "!python -m simple"
   ]
  },
  {
   "cell_type": "markdown",
   "id": "93c4a428-59ee-4792-b6f5-8383c9cee3a2",
   "metadata": {},
   "source": [
    "Nothing happens... 🤔\n",
    "\n",
    "We need to use a web server in order to listen to the web requests for the API and call the code of the corresponding endpoint !\n",
    "\n",
    "👉 We will use Uvicorn\n",
    "\n",
    "**Uvicorn**\n",
    "\n",
    "👉 Lightning fast web server for python\n",
    "\n",
    "👉 Uvicorn listens to all the HTTP requests and calls the code decorated for the corresponding FastAPI endpoints.\n",
    "\n",
    "    pip install uvicorn\n",
    "\n",
    "https://www.uvicorn.org/\n",
    "\n",
    "\n",
    "Let's run our API using the web server\n",
    "\n",
    "Uvicorn requires as parameters the name of the python file to run (here simple.py) as well as the name of the variable inside of the file containing the instance of the FastAPI app (here the variable is called app, hence the supplied parameter simple:app).\n",
    "\n",
    "The code below is run in terminal from the location of the 'simple.py' python file."
   ]
  },
  {
   "cell_type": "code",
   "execution_count": null,
   "id": "0f0b1674-1df9-4fca-a7e6-32643e35ea06",
   "metadata": {},
   "outputs": [],
   "source": [
    "!uvicorn simple:app --reload"
   ]
  },
  {
   "cell_type": "markdown",
   "id": "43a840ab-0302-4dda-879b-aa67b1c3ecd7",
   "metadata": {},
   "source": [
    "Now we can browse to the root page of the API: http://localhost:8000/, in a browser.\n",
    "\n",
    "When you do, you will get back json format data saying: "
   ]
  },
  {
   "cell_type": "code",
   "execution_count": 3,
   "id": "04c4dcb3-d885-4a41-8db2-6d30da117912",
   "metadata": {},
   "outputs": [
    {
     "data": {
      "text/plain": [
       "{True, 'ok'}"
      ]
     },
     "execution_count": 3,
     "metadata": {},
     "output_type": "execute_result"
    }
   ],
   "source": [
    "{\"ok\", True}"
   ]
  },
  {
   "cell_type": "markdown",
   "id": "09ae70a2-70f3-4365-81dd-9756a9878281",
   "metadata": {},
   "source": [
    "**FastAPI** provides automatically generated documentation allowing developers to simplify their integration of the API. The endpoints of the API can be easily tested through dedicated pages 🎉\n",
    "\n",
    "Swagger documentation and tests:\n",
    "\n",
    "    http://localhost:8000/docs\n",
    "\n",
    "Redoc documentation:\n",
    "\n",
    "    http://localhost:8000/redoc\n",
    "\n",
    "👉 The /docs endpoint is powered by Swagger and comes in very handy in order to test our API and verify that everything is working correctly. It is also very useful for developers wanting to test our API"
   ]
  },
  {
   "cell_type": "markdown",
   "id": "ce8c137e-24b4-48da-916d-34e972bdf949",
   "metadata": {},
   "source": [
    "## Requests"
   ]
  },
  {
   "cell_type": "code",
   "execution_count": null,
   "id": "12405168-a33b-45e0-89a4-b66634cc8369",
   "metadata": {},
   "outputs": [],
   "source": [
    "import requests\n",
    "\n",
    "url = \"http://127.0.0.1:8000/predict\"\n",
    "params = \n",
    "\n",
    "response = requests.get(\n",
    "    url,                   #Always need this\n",
    "    params,                #Use if you want to pass parameters to your query\n",
    "    user                   #Use if you need user \n",
    ").json()\n",
    "\n",
    "print(response)\n"
   ]
  },
  {
   "cell_type": "markdown",
   "id": "1dc06dfe-6b4d-47ce-baee-e0b39b2be766",
   "metadata": {},
   "source": [
    "## OS"
   ]
  },
  {
   "cell_type": "code",
   "execution_count": 2,
   "id": "abb373e6-c726-4317-b2ae-1ec480f472a3",
   "metadata": {},
   "outputs": [
    {
     "name": "stdout",
     "output_type": "stream",
     "text": [
      "/Users/alexwalbridge/code/1_resources/1_code\n"
     ]
    }
   ],
   "source": [
    "!pwd"
   ]
  },
  {
   "cell_type": "code",
   "execution_count": 1,
   "id": "efc6ebe2-04c5-42a5-b1f7-5e2416da53be",
   "metadata": {},
   "outputs": [],
   "source": [
    "import os"
   ]
  },
  {
   "cell_type": "markdown",
   "id": "9d56253b-fdc5-4afe-9ff7-d1d3ab790cce",
   "metadata": {},
   "source": [
    "### os.path.join() \n",
    "\n",
    "This method in Python join one or more path components intelligently. This method concatenates various path components with exactly one directory separator (‘/’) following each non-empty part except the last path component. If the last path component to be joined is empty then a directory separator (‘/’) is put at the end. "
   ]
  },
  {
   "cell_type": "markdown",
   "id": "3976389b-c8cb-4c6a-a4b2-382fdd3498b2",
   "metadata": {},
   "source": [
    "Use of os.path.join() method to join various path components "
   ]
  },
  {
   "cell_type": "code",
   "execution_count": 11,
   "id": "d49aed1d-d85c-48be-8eb2-45caae07a713",
   "metadata": {},
   "outputs": [
    {
     "name": "stdout",
     "output_type": "stream",
     "text": [
      "/home/User/Desktop/file.txt\n",
      "/home/file.txt\n",
      "/home\n",
      "/home/User/Public/Documents/\n"
     ]
    }
   ],
   "source": [
    "path = \"/home\"\n",
    " \n",
    "# Join various path components\n",
    "print(os.path.join(path, \"User/Desktop\", \"file.txt\"))\n",
    "\n",
    "path = \"User/Documents\"\n",
    " \n",
    "# Join various path components\n",
    "print(os.path.join(path, \"/home\", \"file.txt\"))\n",
    " \n",
    "# In above example '/home' represents an absolute path so all previous components i.e User / Documents \n",
    "# are thrown away and joining continues from the absolute path component i.e / home.\n",
    "\n",
    "path = \"/User\"\n",
    " \n",
    "# Join various path components\n",
    "print(os.path.join(path, \"Downloads\", \"file.txt\", \"/home\"))\n",
    " \n",
    "# In above example '/User' and '/home' both represents an absolute path but '/home' is the last value\n",
    "# so all previous components before '/home' will be discarded and joining will continue from '/home'\n",
    " \n",
    "path = \"/home\"\n",
    " \n",
    "# Join various path components\n",
    "print(os.path.join(path, \"User/Public/\", \"Documents\", \"\"))\n",
    " \n",
    "# In above example the last path component is empty so a directory separator ('/') will be put at the end\n",
    "# along with the concatenated value"
   ]
  },
  {
   "cell_type": "markdown",
   "id": "afefb407-6653-453e-bb6a-30873d2de587",
   "metadata": {},
   "source": [
    "### Check if file exists\n",
    "\n",
    "os.path.isfile() method in Python is used to check whether the specified path is an existing regular file or not."
   ]
  },
  {
   "cell_type": "code",
   "execution_count": 4,
   "id": "b069385c-3a71-4004-97c6-85f2626c3bff",
   "metadata": {},
   "outputs": [
    {
     "name": "stdout",
     "output_type": "stream",
     "text": [
      "True\n"
     ]
    }
   ],
   "source": [
    "# Absolute Path\n",
    "path = '/Users/alexwalbridge/code/1_resources/1_code/01_misc_python.ipynb'\n",
    "\n",
    "# Relative Path\n",
    "# path = '01_misc_python.ipynb'\n",
    "\n",
    "isFile = os.path.isfile(path) \n",
    "\n",
    "print(isFile)"
   ]
  },
  {
   "cell_type": "markdown",
   "id": "3d345ab6-6d7f-44e1-9578-d099df134638",
   "metadata": {},
   "source": [
    "### Check if a directory exists\n",
    "\n",
    "os.path.isdir() method in Python is used to check whether the specified path is an existing directory or not."
   ]
  },
  {
   "cell_type": "code",
   "execution_count": 6,
   "id": "be6cbc96-7f82-456a-9cdf-8712556256fb",
   "metadata": {},
   "outputs": [
    {
     "name": "stdout",
     "output_type": "stream",
     "text": [
      "False\n",
      "True\n"
     ]
    }
   ],
   "source": [
    "path = '/Users/alexwalbridge/code/1_resources/1_code/01_misc_python.ipynb'\n",
    "    \n",
    "# Check whether the specified path is an existing directory or not \n",
    "\n",
    "isdir = os.path.isdir(path) \n",
    "print(isdir) \n",
    "    \n",
    "    \n",
    "# Path \n",
    "path = '/Users/alexwalbridge/code/1_resources/1_code'\n",
    "    \n",
    "# Check whether the specified path is an existing directory or not \n",
    "\n",
    "isdir = os.path.isdir(path) \n",
    "print(isdir) "
   ]
  },
  {
   "cell_type": "markdown",
   "id": "fc55495a-8edc-48cb-a685-7575219a5099",
   "metadata": {},
   "source": [
    "### os.makedirs() method"
   ]
  },
  {
   "cell_type": "markdown",
   "id": "12c0f911-7bcd-4e62-8ab1-d71fe7aa6229",
   "metadata": {},
   "source": [
    "os.makedirs() method in Python is used to create a directory recursively. That means while making leaf directory if any intermediate-level directory is missing, os.makedirs() method will create them all."
   ]
  },
  {
   "cell_type": "markdown",
   "id": "143a45d7-bb98-432d-86c7-3434d3054c86",
   "metadata": {},
   "source": [
    "Parameter: \n",
    "\n",
    "**path**: A path-like object representing a file system path. A path-like object is either a string or bytes object representing a path.\n",
    "\n",
    "**mode (optional)** : A Integer value representing mode of the newly created directory..If this parameter is omitted then the default value Oo777 is used.\n",
    "\n",
    "**exist_ok (optional)** : A default value False is used for this parameter. If the target directory already exists an OSError is raised if its value is False otherwise not. For value True leaves directory unaltered. \n",
    "\n",
    "**Return Type**: This method does not return any value."
   ]
  },
  {
   "cell_type": "code",
   "execution_count": null,
   "id": "e1893f2d-8b54-40b0-9144-99c789d1f908",
   "metadata": {},
   "outputs": [],
   "source": [
    "directory = \"lalalalala\"\n",
    " \n",
    "# Parent Directories\n",
    "parent_dir = \"/Users/alexwalbridge/code/1_resources/1_code\"\n",
    " \n",
    "# Path\n",
    "path = os.path.join(parent_dir, directory)\n",
    " \n",
    "# Create the directory 'lalalalala'\n",
    "os.makedirs(path)"
   ]
  },
  {
   "cell_type": "code",
   "execution_count": null,
   "id": "c2f7d405-d508-4c6b-b0f0-506043baac3d",
   "metadata": {},
   "outputs": [],
   "source": [
    "# os.makedirs() method will raise an OSError if the directory to be created already exists\n",
    "# But It can be suppressed by setting the value of a parameter exist_ok as True\n",
    "    \n",
    "# Directory\n",
    "directory = \"lalalalala\"\n",
    " \n",
    "# Parent Directory path\n",
    "parent_dir = \"/Users/alexwalbridge/code/1_resources/1_code\"\n",
    " \n",
    "# Path\n",
    "path = os.path.join(parent_dir, directory)\n",
    " \n",
    "# Create the directory 'lalalalala'\n",
    "\n",
    "try:\n",
    "    os.makedirs(path, exist_ok = True)\n",
    "    print(\"Directory '%s' created successfully\" %directory)\n",
    "except OSError as error:\n",
    "    print(\"Directory '%s' can not be created\")\n",
    " \n",
    " \n",
    "# By setting exist_ok as True error caused due already existing directory can be suppressed\n",
    "# but other OSError may be raised due to other error like invalid path name"
   ]
  },
  {
   "cell_type": "markdown",
   "id": "07231066-b85c-4397-82a2-a7b43b7b72d9",
   "metadata": {},
   "source": [
    "### Get current working directory"
   ]
  },
  {
   "cell_type": "code",
   "execution_count": 8,
   "id": "cde5e4f0-b863-4431-b1a9-48db9134866e",
   "metadata": {},
   "outputs": [
    {
     "name": "stdout",
     "output_type": "stream",
     "text": [
      "/Users/alexwalbridge/code/1_resources/1_code\n"
     ]
    }
   ],
   "source": [
    "cur_dir = os.getcwd()\n",
    "\n",
    "print(cur_dir)"
   ]
  },
  {
   "cell_type": "markdown",
   "id": "5f75e5cb-5b22-4269-87bd-dc4da3e7585a",
   "metadata": {},
   "source": [
    "### List files / directories in a folder"
   ]
  },
  {
   "cell_type": "code",
   "execution_count": 9,
   "id": "e688ac93-824e-4159-90a1-186809dc0437",
   "metadata": {},
   "outputs": [
    {
     "name": "stdout",
     "output_type": "stream",
     "text": [
      "['01_misc_python.ipynb', '.DS_Store', '9_APIs.ipynb', '11_web_scraping.ipynb', 'Untitled.ipynb', '7_Keras.ipynb', 'utils', '6_sklearn.ipynb', 'pipeline.pkl', '.ipynb_checkpoints', 'iris_tree.dot', 'data', '5_data_vis.ipynb', '4_pandas.ipynb']\n"
     ]
    }
   ],
   "source": [
    "dir_list = os.listdir(cur_dir)\n",
    "  \n",
    "# print the list\n",
    "print(dir_list)"
   ]
  },
  {
   "cell_type": "markdown",
   "id": "dc3780c5-736f-4c47-8733-b9947ad66169",
   "metadata": {},
   "source": [
    "## Datetime"
   ]
  },
  {
   "cell_type": "code",
   "execution_count": 7,
   "id": "d1f98463-6f62-4b8d-944b-b1324c184e89",
   "metadata": {},
   "outputs": [],
   "source": [
    "from datetime import datetime"
   ]
  },
  {
   "cell_type": "code",
   "execution_count": 9,
   "id": "17859bc8-b6a0-4b6e-9585-28185e5cb451",
   "metadata": {},
   "outputs": [
    {
     "name": "stdout",
     "output_type": "stream",
     "text": [
      "2022-08-12 12:45:38.549526\n"
     ]
    }
   ],
   "source": [
    "print(datetime.now())"
   ]
  },
  {
   "cell_type": "code",
   "execution_count": 13,
   "id": "2f58b61d-8409-4c42-92fe-03431f22069c",
   "metadata": {},
   "outputs": [
    {
     "name": "stdout",
     "output_type": "stream",
     "text": [
      "2022-08-12 15:38:17.598702\n"
     ]
    }
   ],
   "source": [
    "print(datetime.today())"
   ]
  },
  {
   "cell_type": "code",
   "execution_count": 14,
   "id": "437b5691-7bbd-4ce3-a949-63e7006aa68c",
   "metadata": {},
   "outputs": [
    {
     "name": "stdout",
     "output_type": "stream",
     "text": [
      "2022-08-12\n"
     ]
    }
   ],
   "source": [
    "print(datetime.today().strftime(\"%Y-%m-%d\"))"
   ]
  },
  {
   "cell_type": "code",
   "execution_count": null,
   "id": "5f262564-19c7-4b1b-95cd-01080a400165",
   "metadata": {},
   "outputs": [],
   "source": []
  },
  {
   "cell_type": "markdown",
   "id": "17de33b5-d853-4c56-aae4-e1526cad272c",
   "metadata": {},
   "source": [
    "## Save and load Python data with JSON"
   ]
  },
  {
   "cell_type": "markdown",
   "id": "730a605f-a93b-4e74-9c85-bd8f89c0e01b",
   "metadata": {},
   "source": [
    "### Converting Data To JSON Format"
   ]
  },
  {
   "cell_type": "markdown",
   "id": "d6811fd6-2c06-4b88-a9a4-4880ae55dcdb",
   "metadata": {},
   "source": [
    "You can convert Python objects of the following types, into JSON strings:\n",
    "\n",
    "    dict\n",
    "    list\n",
    "    tuple\n",
    "    string\n",
    "    int\n",
    "    float\n",
    "    True\n",
    "    False\n",
    "    None"
   ]
  },
  {
   "cell_type": "code",
   "execution_count": 4,
   "id": "4f7c4893-a69e-4a28-b54d-4624c33804e2",
   "metadata": {},
   "outputs": [
    {
     "name": "stdout",
     "output_type": "stream",
     "text": [
      "{\"name\": \"John\", \"age\": 30, \"city\": \"New York\"}\n"
     ]
    },
    {
     "data": {
      "text/plain": [
       "str"
      ]
     },
     "execution_count": 4,
     "metadata": {},
     "output_type": "execute_result"
    }
   ],
   "source": [
    "import json\n",
    "\n",
    "# a Python object (dict):\n",
    "x = {\n",
    "  \"name\": \"John\",\n",
    "  \"age\": 30,\n",
    "  \"city\": \"New York\"\n",
    "}\n",
    "\n",
    "# convert into JSON:\n",
    "y = json.dumps(x)\n",
    "\n",
    "# the result is a JSON string:\n",
    "print(y) \n",
    "type(y)"
   ]
  },
  {
   "cell_type": "markdown",
   "id": "0d9a24bb-30cb-456e-99f9-4108a0b96420",
   "metadata": {},
   "source": [
    "### Storing data in JSON format"
   ]
  },
  {
   "cell_type": "markdown",
   "id": "bc62c515-9f58-47f6-9143-0c01ab1db6d2",
   "metadata": {},
   "source": [
    "This code block creates a file called mydata.json and opens it in write mode."
   ]
  },
  {
   "cell_type": "code",
   "execution_count": 7,
   "id": "f6392443-b23b-4bbc-9a92-32c82f077b5d",
   "metadata": {},
   "outputs": [],
   "source": [
    "import json\n",
    "\n",
    "# instantiate an empty dict\n",
    "team = {}\n",
    "\n",
    "# add a team member\n",
    "team['tux'] = {'health': 23, 'level': 4}\n",
    "team['beastie'] = {'health': 13, 'level': 6}\n",
    "team['konqi'] = {'health': 18, 'level': 7}\n",
    "\n",
    "with open('mydata.json', 'w') as f:\n",
    "    json.dump(team, f)"
   ]
  },
  {
   "cell_type": "markdown",
   "id": "e83c5bf8-d799-4025-aa95-3b73fad742dd",
   "metadata": {},
   "source": [
    "Saving data from your application is as simple as that, and the best part about this is that the data is structured and predictable. To see, take a look at the resulting file:"
   ]
  },
  {
   "cell_type": "code",
   "execution_count": 8,
   "id": "96ba53b5-b33b-418b-8904-4be8d3510c68",
   "metadata": {},
   "outputs": [
    {
     "name": "stdout",
     "output_type": "stream",
     "text": [
      "{\"tux\": {\"health\": 23, \"level\": 4}, \"beastie\": {\"health\": 13, \"level\": 6}, \"konqi\": {\"health\": 18, \"level\": 7}}"
     ]
    }
   ],
   "source": [
    "!cat mydata.json"
   ]
  },
  {
   "cell_type": "markdown",
   "id": "8abfdcea-2162-4ffe-90ec-1827cdef1c77",
   "metadata": {},
   "source": [
    "### Reading data from a JSON file"
   ]
  },
  {
   "cell_type": "markdown",
   "id": "e5da6518-df86-45a5-b6a6-2883ef3b531e",
   "metadata": {},
   "source": [
    "This function implements the inverse, more or less, of saving the file: an arbitrary variable (f) represents the data file, and then the JSON module’s load function dumps the data from the file into the arbitrary team variable."
   ]
  },
  {
   "cell_type": "code",
   "execution_count": 9,
   "id": "861a9baf-28f6-4a63-80c0-7f51c790d487",
   "metadata": {},
   "outputs": [
    {
     "name": "stdout",
     "output_type": "stream",
     "text": [
      "{'health': 23, 'level': 4}\n",
      "23\n",
      "4\n",
      "{'health': 13, 'level': 6}\n",
      "13\n",
      "6\n",
      "Object Type: <class 'dict'>\n"
     ]
    }
   ],
   "source": [
    "import json\n",
    "\n",
    "f = open('mydata.json')\n",
    "team = json.load(f)\n",
    "\n",
    "# Team is a dict type object\n",
    "\n",
    "print(team['tux'])\n",
    "print(team['tux']['health'])\n",
    "print(team['tux']['level'])\n",
    "\n",
    "print(team['beastie'])\n",
    "print(team['beastie']['health'])\n",
    "print(team['beastie']['level'])\n",
    "\n",
    "print(f'Object Type: {type(team)}')\n",
    "\n",
    "# when finished, close the file\n",
    "f.close()"
   ]
  },
  {
   "cell_type": "code",
   "execution_count": null,
   "id": "5de058bd-5a61-4fa4-9403-e5820980bfb5",
   "metadata": {},
   "outputs": [],
   "source": []
  }
 ],
 "metadata": {
  "kernelspec": {
   "display_name": "Python 3 (ipykernel)",
   "language": "python",
   "name": "python3"
  },
  "language_info": {
   "codemirror_mode": {
    "name": "ipython",
    "version": 3
   },
   "file_extension": ".py",
   "mimetype": "text/x-python",
   "name": "python",
   "nbconvert_exporter": "python",
   "pygments_lexer": "ipython3",
   "version": "3.8.12"
  }
 },
 "nbformat": 4,
 "nbformat_minor": 5
}
