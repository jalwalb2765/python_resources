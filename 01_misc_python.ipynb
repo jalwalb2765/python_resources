{
 "cells": [
  {
   "cell_type": "code",
   "execution_count": 1,
   "id": "65b3e938-924d-476a-9d1e-12110d97874b",
   "metadata": {},
   "outputs": [],
   "source": [
    "import datetime"
   ]
  },
  {
   "cell_type": "markdown",
   "id": "bf2af28d-9fed-4c08-b3c9-a905ed52ca9f",
   "metadata": {},
   "source": [
    "# Misc. Python Libraries & Functionality"
   ]
  },
  {
   "cell_type": "markdown",
   "id": "63a5f7ad-aafc-4e5e-baa9-dab737495801",
   "metadata": {},
   "source": [
    "Libraries included in this are:\n",
    "\n",
    "    1. CSV\n",
    "    2. Requests\n",
    "    3. BeautifulSoup\n",
    "    4. OS\n",
    "    "
   ]
  },
  {
   "cell_type": "markdown",
   "id": "9f7d19a3-4456-495e-a6e9-9b654873f0e2",
   "metadata": {},
   "source": [
    "## 'curl' Terminal Command\n"
   ]
  },
  {
   "cell_type": "markdown",
   "id": "a1465282-c0bc-444f-bb6e-04bd27c789bd",
   "metadata": {},
   "source": [
    "To download files from the internet, you can use the 'curl' command. This is a terminal command, so you need to put an '!' in front of it if you are going to run it in a Notebook."
   ]
  },
  {
   "cell_type": "code",
   "execution_count": 7,
   "id": "082da6c0-202e-4a3a-8344-903bd607a12c",
   "metadata": {},
   "outputs": [
    {
     "name": "stdout",
     "output_type": "stream",
     "text": [
      "John,Doe,120 jefferson st.,Riverside, NJ, 08075\n",
      "Jack,McGinnis,220 hobo Av.,Phila, PA,09119\n",
      "\"John \"\"Da Man\"\"\",Repici,120 Jefferson St.,Riverside, NJ,08075\n",
      "Stephen,Tyler,\"7452 Terrace \"\"At the Plaza\"\" road\",SomeTown,SD, 91234\n",
      ",Blankman,,SomeTown, SD, 00298\n",
      "\"Joan \"\"the bone\"\", Anne\",Jet,\"9th, at Terrace plc\",Desert City,CO,00123\n",
      "\n",
      "\n",
      "\"Name\",     \"Sex\", \"Age\", \"Height (in)\", \"Weight (lbs)\"\n",
      "\"Alex\",       \"M\",   41,       74,      170\n",
      "\"Bert\",       \"M\",   42,       68,      166\n"
     ]
    }
   ],
   "source": [
    "!curl -s https://people.sc.fsu.edu/~jburkardt/data/csv/addresses.csv > data/addresses.csv\n",
    "!cat data/addresses.csv\n",
    "\n",
    "print('\\n')\n",
    "\n",
    "!curl -s https://people.sc.fsu.edu/~jburkardt/data/csv/biostats.csv > data/biostats.csv\n",
    "!head -n 3 data/biostats.csv"
   ]
  },
  {
   "cell_type": "markdown",
   "id": "6f75557c-a886-4875-9998-e8daf480b22f",
   "metadata": {},
   "source": [
    "## CSV"
   ]
  },
  {
   "cell_type": "markdown",
   "id": "756b28ae-d6d4-4194-9ae0-f424536f947f",
   "metadata": {},
   "source": [
    "CSV is a module for reading and writing CSV files."
   ]
  },
  {
   "cell_type": "markdown",
   "id": "cfb21a3a-9054-40c1-a994-684caa8e34a4",
   "metadata": {},
   "source": [
    "### CSV Reading without Headers (csv.reader)"
   ]
  },
  {
   "cell_type": "code",
   "execution_count": 18,
   "id": "eb715b77-8738-4f8c-b782-01486f1c2c50",
   "metadata": {},
   "outputs": [
    {
     "name": "stdout",
     "output_type": "stream",
     "text": [
      "<class '_csv.reader'>\n",
      "['John', 'Doe', '120 jefferson st.', 'Riverside', 'NJ', '08075']\n",
      "['Jack', 'McGinnis', '220 hobo Av.', 'Phila', 'PA', '09119']\n",
      "['John \"Da Man\"', 'Repici', '120 Jefferson St.', 'Riverside', 'NJ', '08075']\n",
      "['Stephen', 'Tyler', '7452 Terrace \"At the Plaza\" road', 'SomeTown', 'SD', '91234']\n",
      "['', 'Blankman', '', 'SomeTown', 'SD', '00298']\n",
      "['Joan \"the bone\", Anne', 'Jet', '9th, at Terrace plc', 'Desert City', 'CO', '00123']\n"
     ]
    }
   ],
   "source": [
    "import csv\n",
    "\n",
    "with open('data/addresses.csv') as csvfile:\n",
    "    reader = csv.reader(csvfile, skipinitialspace=True)\n",
    "    \n",
    "    print(type(reader))\n",
    "    \n",
    "    for row in reader:\n",
    "        # row is a `list`\n",
    "        print(row)"
   ]
  },
  {
   "cell_type": "markdown",
   "id": "e4a97730-97ee-442e-b9ad-acf875d41665",
   "metadata": {},
   "source": [
    "### CSV with Headers (csv.DictReader)"
   ]
  },
  {
   "cell_type": "code",
   "execution_count": 1,
   "id": "9138c445-d429-4818-9cbb-d5ae160971b3",
   "metadata": {},
   "outputs": [
    {
     "name": "stdout",
     "output_type": "stream",
     "text": [
      "<class 'csv.DictReader'>\n",
      "<class 'dict'>\n",
      "{'Name': 'Alex', 'Sex': 'M', 'Age': '41', 'Height (in)': '74', 'Weight (lbs)': '170'}\n",
      "Alex M 41\n",
      "<class 'dict'>\n",
      "{'Name': 'Bert', 'Sex': 'M', 'Age': '42', 'Height (in)': '68', 'Weight (lbs)': '166'}\n",
      "Bert M 42\n",
      "<class 'dict'>\n",
      "{'Name': 'Carl', 'Sex': 'M', 'Age': '32', 'Height (in)': '70', 'Weight (lbs)': '155'}\n",
      "Carl M 32\n",
      "<class 'dict'>\n",
      "{'Name': 'Dave', 'Sex': 'M', 'Age': '39', 'Height (in)': '72', 'Weight (lbs)': '167'}\n",
      "Dave M 39\n",
      "<class 'dict'>\n",
      "{'Name': 'Elly', 'Sex': 'F', 'Age': '30', 'Height (in)': '66', 'Weight (lbs)': '124'}\n",
      "Elly F 30\n",
      "<class 'dict'>\n",
      "{'Name': 'Fran', 'Sex': 'F', 'Age': '33', 'Height (in)': '66', 'Weight (lbs)': '115'}\n",
      "Fran F 33\n",
      "<class 'dict'>\n",
      "{'Name': 'Gwen', 'Sex': 'F', 'Age': '26', 'Height (in)': '64', 'Weight (lbs)': '121'}\n",
      "Gwen F 26\n",
      "<class 'dict'>\n",
      "{'Name': 'Hank', 'Sex': 'M', 'Age': '30', 'Height (in)': '71', 'Weight (lbs)': '158'}\n",
      "Hank M 30\n",
      "<class 'dict'>\n",
      "{'Name': 'Ivan', 'Sex': 'M', 'Age': '53', 'Height (in)': '72', 'Weight (lbs)': '175'}\n",
      "Ivan M 53\n",
      "<class 'dict'>\n",
      "{'Name': 'Jake', 'Sex': 'M', 'Age': '32', 'Height (in)': '69', 'Weight (lbs)': '143'}\n",
      "Jake M 32\n",
      "<class 'dict'>\n",
      "{'Name': 'Kate', 'Sex': 'F', 'Age': '47', 'Height (in)': '69', 'Weight (lbs)': '139'}\n",
      "Kate F 47\n",
      "<class 'dict'>\n",
      "{'Name': 'Luke', 'Sex': 'M', 'Age': '34', 'Height (in)': '72', 'Weight (lbs)': '163'}\n",
      "Luke M 34\n",
      "<class 'dict'>\n",
      "{'Name': 'Myra', 'Sex': 'F', 'Age': '23', 'Height (in)': '62', 'Weight (lbs)': '98'}\n",
      "Myra F 23\n",
      "<class 'dict'>\n",
      "{'Name': 'Neil', 'Sex': 'M', 'Age': '36', 'Height (in)': '75', 'Weight (lbs)': '160'}\n",
      "Neil M 36\n",
      "<class 'dict'>\n",
      "{'Name': 'Omar', 'Sex': 'M', 'Age': '38', 'Height (in)': '70', 'Weight (lbs)': '145'}\n",
      "Omar M 38\n",
      "<class 'dict'>\n",
      "{'Name': 'Page', 'Sex': 'F', 'Age': '31', 'Height (in)': '67', 'Weight (lbs)': '135'}\n",
      "Page F 31\n",
      "<class 'dict'>\n",
      "{'Name': 'Quin', 'Sex': 'M', 'Age': '29', 'Height (in)': '71', 'Weight (lbs)': '176'}\n",
      "Quin M 29\n",
      "<class 'dict'>\n",
      "{'Name': 'Ruth', 'Sex': 'F', 'Age': '28', 'Height (in)': '65', 'Weight (lbs)': '131'}\n",
      "Ruth F 28\n"
     ]
    }
   ],
   "source": [
    "import csv\n",
    "\n",
    "with open('data/biostats.csv') as csvfile:\n",
    "    reader = csv.DictReader(csvfile, skipinitialspace=True)\n",
    "    \n",
    "    # reader is a csv.DictReader object, and the information inside cannot be directly retreived.\n",
    "    print(type(reader))\n",
    "    \n",
    "    # You need to use a for loop to access the data\n",
    "\n",
    "    for row in reader:\n",
    "        # Each row is a dictionary, with the header row as the keys\n",
    "        print(type(row))\n",
    "        print(row)\n",
    "        \n",
    "        # You can also access the values as below\n",
    "        print(row['Name'], row['Sex'], int(row['Age']))\n",
    "        \n",
    "        #You can also read each row as it's own dictionary as below"
   ]
  },
  {
   "cell_type": "markdown",
   "id": "137a3521-c4f7-41a0-9410-ec3693739b21",
   "metadata": {},
   "source": [
    "### Writing a CSV (csv.DictWriter)"
   ]
  },
  {
   "cell_type": "code",
   "execution_count": 27,
   "id": "4954582a-a6ea-43d9-9099-d3605c912b0b",
   "metadata": {},
   "outputs": [],
   "source": [
    "beatles = [\n",
    "    { 'first_name': 'John', 'last_name': 'lennon', 'instrument': 'guitar'},\n",
    "    { 'first_name': 'Ringo', 'last_name': 'Starr', 'instrument': 'drums'}\n",
    "]"
   ]
  },
  {
   "cell_type": "markdown",
   "id": "84914a93-3123-471d-8823-a76a5f4c606e",
   "metadata": {},
   "source": [
    "The 'w' parameter in the 'open()' function is for write."
   ]
  },
  {
   "cell_type": "code",
   "execution_count": 30,
   "id": "ef036e86-106a-4d0d-9c6d-2e2f9a148c64",
   "metadata": {},
   "outputs": [],
   "source": [
    "import csv\n",
    "\n",
    "with open('data/beatles.csv', 'w') as csvfile:\n",
    "    writer = csv.DictWriter(csvfile, fieldnames=beatles[0].keys())\n",
    "    writer.writeheader()\n",
    "    for beatle in beatles:\n",
    "          writer.writerow(beatle)\n",
    "            "
   ]
  },
  {
   "cell_type": "code",
   "execution_count": 31,
   "id": "e725a0b9-887c-4abe-aa19-3f4bcb60745a",
   "metadata": {},
   "outputs": [
    {
     "name": "stdout",
     "output_type": "stream",
     "text": [
      "first_name,last_name,instrument\n",
      "John,lennon,guitar\n",
      "Ringo,Starr,drums\n"
     ]
    }
   ],
   "source": [
    "!cat data/beatles.csv"
   ]
  },
  {
   "cell_type": "markdown",
   "id": "e21d88bd-4637-448f-8d4e-25f1872bc002",
   "metadata": {},
   "source": [
    "## FastApi & Uvicorn"
   ]
  },
  {
   "cell_type": "markdown",
   "id": "8952aa1f-b2b3-44cc-9216-460fdc708e17",
   "metadata": {},
   "source": [
    "👉 High performance python framework\n",
    "\n",
    "👉 Easy to learn, fast to code\n",
    "\n",
    "👉 Automatically generated documentation allowing to test the API endpoints easily 🎉\n",
    "\n",
    "    pip install fastapi\n",
    "\n",
    "https://fastapi.tiangolo.com/\n",
    "\n",
    "FastAPI uses python decorators in order to link the routes that the developers will query to the code of the endpoints. The code of the decorated function will be called whenever a HTTP request is received. The response will be returned as a JSON object to the code querying the API.\n",
    "\n",
    "The code below is written in a 'simple.py' python file"
   ]
  },
  {
   "cell_type": "code",
   "execution_count": null,
   "id": "775d7116-9b83-4a92-bfa1-bfb2bd65c623",
   "metadata": {},
   "outputs": [],
   "source": [
    "from fastapi import FastAPI\n",
    "\n",
    "app = FastAPI()\n",
    "\n",
    "# define a root `/` endpoint\n",
    "@app.get(\"/\")\n",
    "def index():\n",
    "    return {\"ok\": True}"
   ]
  },
  {
   "cell_type": "markdown",
   "id": "0b3b704a-4c49-4dca-b124-612d78c22a68",
   "metadata": {},
   "source": [
    "What if we run the code?"
   ]
  },
  {
   "cell_type": "code",
   "execution_count": null,
   "id": "b4c8d9d5-eb63-4657-87b7-89f697203bac",
   "metadata": {},
   "outputs": [],
   "source": [
    "!python -m simple"
   ]
  },
  {
   "cell_type": "markdown",
   "id": "93c4a428-59ee-4792-b6f5-8383c9cee3a2",
   "metadata": {},
   "source": [
    "Nothing happens... 🤔\n",
    "\n",
    "We need to use a web server in order to listen to the web requests for the API and call the code of the corresponding endpoint !\n",
    "\n",
    "👉 We will use Uvicorn\n",
    "\n",
    "**Uvicorn**\n",
    "\n",
    "👉 Lightning fast web server for python\n",
    "\n",
    "👉 Uvicorn listens to all the HTTP requests and calls the code decorated for the corresponding FastAPI endpoints.\n",
    "\n",
    "    pip install uvicorn\n",
    "\n",
    "https://www.uvicorn.org/\n",
    "\n",
    "\n",
    "Let's run our API using the web server\n",
    "\n",
    "Uvicorn requires as parameters the name of the python file to run (here simple.py) as well as the name of the variable inside of the file containing the instance of the FastAPI app (here the variable is called app, hence the supplied parameter simple:app).\n",
    "\n",
    "The code below is run in terminal from the location of the 'simple.py' python file."
   ]
  },
  {
   "cell_type": "code",
   "execution_count": null,
   "id": "0f0b1674-1df9-4fca-a7e6-32643e35ea06",
   "metadata": {},
   "outputs": [],
   "source": [
    "!uvicorn simple:app --reload"
   ]
  },
  {
   "cell_type": "markdown",
   "id": "43a840ab-0302-4dda-879b-aa67b1c3ecd7",
   "metadata": {},
   "source": [
    "Now we can browse to the root page of the API: http://localhost:8000/, in a browser.\n",
    "\n",
    "When you do, you will get back json format data saying: "
   ]
  },
  {
   "cell_type": "code",
   "execution_count": 3,
   "id": "04c4dcb3-d885-4a41-8db2-6d30da117912",
   "metadata": {},
   "outputs": [
    {
     "data": {
      "text/plain": [
       "{True, 'ok'}"
      ]
     },
     "execution_count": 3,
     "metadata": {},
     "output_type": "execute_result"
    }
   ],
   "source": [
    "{\"ok\", True}"
   ]
  },
  {
   "cell_type": "markdown",
   "id": "09ae70a2-70f3-4365-81dd-9756a9878281",
   "metadata": {},
   "source": [
    "**FastAPI** provides automatically generated documentation allowing developers to simplify their integration of the API. The endpoints of the API can be easily tested through dedicated pages 🎉\n",
    "\n",
    "Swagger documentation and tests:\n",
    "\n",
    "    http://localhost:8000/docs\n",
    "\n",
    "Redoc documentation:\n",
    "\n",
    "    http://localhost:8000/redoc\n",
    "\n",
    "👉 The /docs endpoint is powered by Swagger and comes in very handy in order to test our API and verify that everything is working correctly. It is also very useful for developers wanting to test our API"
   ]
  },
  {
   "cell_type": "markdown",
   "id": "ce8c137e-24b4-48da-916d-34e972bdf949",
   "metadata": {},
   "source": [
    "## Requests"
   ]
  },
  {
   "cell_type": "code",
   "execution_count": null,
   "id": "12405168-a33b-45e0-89a4-b66634cc8369",
   "metadata": {},
   "outputs": [],
   "source": [
    "import requests\n",
    "\n",
    "url = \"http://127.0.0.1:8000/predict\"\n",
    "params = \n",
    "\n",
    "response = requests.get(\n",
    "    url,                   #Always need this\n",
    "    params,                #Use if you want to pass parameters to your query\n",
    "    user                   #Use if you need user \n",
    ").json()\n",
    "\n",
    "print(response)\n"
   ]
  },
  {
   "cell_type": "markdown",
   "id": "9ac59ac1-401f-443a-9ddb-aeb82910caaf",
   "metadata": {},
   "source": [
    "How to display the json format of a response"
   ]
  },
  {
   "cell_type": "code",
   "execution_count": null,
   "id": "db13a709-8cf0-4c5a-b4d7-b7d9573c7460",
   "metadata": {},
   "outputs": [],
   "source": [
    "json_formatted_str = json.dumps(response.json(), indent=2)"
   ]
  },
  {
   "cell_type": "markdown",
   "id": "1dc06dfe-6b4d-47ce-baee-e0b39b2be766",
   "metadata": {},
   "source": [
    "## OS"
   ]
  },
  {
   "cell_type": "code",
   "execution_count": 2,
   "id": "abb373e6-c726-4317-b2ae-1ec480f472a3",
   "metadata": {},
   "outputs": [
    {
     "name": "stdout",
     "output_type": "stream",
     "text": [
      "/Users/alexwalbridge/code/1_resources/1_code\n"
     ]
    }
   ],
   "source": [
    "!pwd"
   ]
  },
  {
   "cell_type": "code",
   "execution_count": 1,
   "id": "efc6ebe2-04c5-42a5-b1f7-5e2416da53be",
   "metadata": {},
   "outputs": [],
   "source": [
    "import os"
   ]
  },
  {
   "cell_type": "markdown",
   "id": "9d56253b-fdc5-4afe-9ff7-d1d3ab790cce",
   "metadata": {},
   "source": [
    "### os.path.join() \n",
    "\n",
    "This method in Python join one or more path components intelligently. This method concatenates various path components with exactly one directory separator (‘/’) following each non-empty part except the last path component. If the last path component to be joined is empty then a directory separator (‘/’) is put at the end. "
   ]
  },
  {
   "cell_type": "markdown",
   "id": "3976389b-c8cb-4c6a-a4b2-382fdd3498b2",
   "metadata": {},
   "source": [
    "Use of os.path.join() method to join various path components "
   ]
  },
  {
   "cell_type": "code",
   "execution_count": 11,
   "id": "d49aed1d-d85c-48be-8eb2-45caae07a713",
   "metadata": {},
   "outputs": [
    {
     "name": "stdout",
     "output_type": "stream",
     "text": [
      "/home/User/Desktop/file.txt\n",
      "/home/file.txt\n",
      "/home\n",
      "/home/User/Public/Documents/\n"
     ]
    }
   ],
   "source": [
    "path = \"/home\"\n",
    " \n",
    "# Join various path components\n",
    "print(os.path.join(path, \"User/Desktop\", \"file.txt\"))\n",
    "\n",
    "path = \"User/Documents\"\n",
    " \n",
    "# Join various path components\n",
    "print(os.path.join(path, \"/home\", \"file.txt\"))\n",
    " \n",
    "# In above example '/home' represents an absolute path so all previous components i.e User / Documents \n",
    "# are thrown away and joining continues from the absolute path component i.e / home.\n",
    "\n",
    "path = \"/User\"\n",
    " \n",
    "# Join various path components\n",
    "print(os.path.join(path, \"Downloads\", \"file.txt\", \"/home\"))\n",
    " \n",
    "# In above example '/User' and '/home' both represents an absolute path but '/home' is the last value\n",
    "# so all previous components before '/home' will be discarded and joining will continue from '/home'\n",
    " \n",
    "path = \"/home\"\n",
    " \n",
    "# Join various path components\n",
    "print(os.path.join(path, \"User/Public/\", \"Documents\", \"\"))\n",
    " \n",
    "# In above example the last path component is empty so a directory separator ('/') will be put at the end\n",
    "# along with the concatenated value"
   ]
  },
  {
   "cell_type": "markdown",
   "id": "afefb407-6653-453e-bb6a-30873d2de587",
   "metadata": {},
   "source": [
    "### Check if file exists\n",
    "\n",
    "os.path.isfile() method in Python is used to check whether the specified path is an existing regular file or not."
   ]
  },
  {
   "cell_type": "code",
   "execution_count": 4,
   "id": "b069385c-3a71-4004-97c6-85f2626c3bff",
   "metadata": {},
   "outputs": [
    {
     "name": "stdout",
     "output_type": "stream",
     "text": [
      "True\n"
     ]
    }
   ],
   "source": [
    "# Absolute Path\n",
    "path = '/Users/alexwalbridge/code/1_resources/1_code/01_misc_python.ipynb'\n",
    "\n",
    "# Relative Path\n",
    "# path = '01_misc_python.ipynb'\n",
    "\n",
    "isFile = os.path.isfile(path) \n",
    "\n",
    "print(isFile)"
   ]
  },
  {
   "cell_type": "markdown",
   "id": "3d345ab6-6d7f-44e1-9578-d099df134638",
   "metadata": {},
   "source": [
    "### Check if a directory exists\n",
    "\n",
    "os.path.isdir() method in Python is used to check whether the specified path is an existing directory or not."
   ]
  },
  {
   "cell_type": "code",
   "execution_count": 6,
   "id": "be6cbc96-7f82-456a-9cdf-8712556256fb",
   "metadata": {},
   "outputs": [
    {
     "name": "stdout",
     "output_type": "stream",
     "text": [
      "False\n",
      "True\n"
     ]
    }
   ],
   "source": [
    "path = '/Users/alexwalbridge/code/1_resources/1_code/01_misc_python.ipynb'\n",
    "    \n",
    "# Check whether the specified path is an existing directory or not \n",
    "\n",
    "isdir = os.path.isdir(path) \n",
    "print(isdir) \n",
    "    \n",
    "    \n",
    "# Path \n",
    "path = '/Users/alexwalbridge/code/1_resources/1_code'\n",
    "    \n",
    "# Check whether the specified path is an existing directory or not \n",
    "\n",
    "isdir = os.path.isdir(path) \n",
    "print(isdir) "
   ]
  },
  {
   "cell_type": "markdown",
   "id": "fc55495a-8edc-48cb-a685-7575219a5099",
   "metadata": {},
   "source": [
    "### os.makedirs() method"
   ]
  },
  {
   "cell_type": "markdown",
   "id": "12c0f911-7bcd-4e62-8ab1-d71fe7aa6229",
   "metadata": {},
   "source": [
    "os.makedirs() method in Python is used to create a directory recursively. That means while making leaf directory if any intermediate-level directory is missing, os.makedirs() method will create them all."
   ]
  },
  {
   "cell_type": "markdown",
   "id": "143a45d7-bb98-432d-86c7-3434d3054c86",
   "metadata": {},
   "source": [
    "Parameter: \n",
    "\n",
    "**path**: A path-like object representing a file system path. A path-like object is either a string or bytes object representing a path.\n",
    "\n",
    "**mode (optional)** : A Integer value representing mode of the newly created directory..If this parameter is omitted then the default value Oo777 is used.\n",
    "\n",
    "**exist_ok (optional)** : A default value False is used for this parameter. If the target directory already exists an OSError is raised if its value is False otherwise not. For value True leaves directory unaltered. \n",
    "\n",
    "**Return Type**: This method does not return any value."
   ]
  },
  {
   "cell_type": "code",
   "execution_count": null,
   "id": "e1893f2d-8b54-40b0-9144-99c789d1f908",
   "metadata": {},
   "outputs": [],
   "source": [
    "directory = \"lalalalala\"\n",
    " \n",
    "# Parent Directories\n",
    "parent_dir = \"/Users/alexwalbridge/code/1_resources/1_code\"\n",
    " \n",
    "# Path\n",
    "path = os.path.join(parent_dir, directory)\n",
    " \n",
    "# Create the directory 'lalalalala'\n",
    "os.makedirs(path)"
   ]
  },
  {
   "cell_type": "code",
   "execution_count": null,
   "id": "c2f7d405-d508-4c6b-b0f0-506043baac3d",
   "metadata": {},
   "outputs": [],
   "source": [
    "# os.makedirs() method will raise an OSError if the directory to be created already exists\n",
    "# But It can be suppressed by setting the value of a parameter exist_ok as True\n",
    "    \n",
    "# Directory\n",
    "directory = \"lalalalala\"\n",
    " \n",
    "# Parent Directory path\n",
    "parent_dir = \"/Users/alexwalbridge/code/1_resources/1_code\"\n",
    " \n",
    "# Path\n",
    "path = os.path.join(parent_dir, directory)\n",
    " \n",
    "# Create the directory 'lalalalala'\n",
    "\n",
    "try:\n",
    "    os.makedirs(path, exist_ok = True)\n",
    "    print(\"Directory '%s' created successfully\" %directory)\n",
    "except OSError as error:\n",
    "    print(\"Directory '%s' can not be created\")\n",
    " \n",
    " \n",
    "# By setting exist_ok as True error caused due already existing directory can be suppressed\n",
    "# but other OSError may be raised due to other error like invalid path name"
   ]
  },
  {
   "cell_type": "markdown",
   "id": "07231066-b85c-4397-82a2-a7b43b7b72d9",
   "metadata": {},
   "source": [
    "### Get current working directory"
   ]
  },
  {
   "cell_type": "code",
   "execution_count": 8,
   "id": "cde5e4f0-b863-4431-b1a9-48db9134866e",
   "metadata": {},
   "outputs": [
    {
     "name": "stdout",
     "output_type": "stream",
     "text": [
      "/Users/alexwalbridge/code/1_resources/1_code\n"
     ]
    }
   ],
   "source": [
    "cur_dir = os.getcwd()\n",
    "\n",
    "print(cur_dir)"
   ]
  },
  {
   "cell_type": "markdown",
   "id": "5f75e5cb-5b22-4269-87bd-dc4da3e7585a",
   "metadata": {},
   "source": [
    "### List files / directories in a folder"
   ]
  },
  {
   "cell_type": "code",
   "execution_count": 9,
   "id": "e688ac93-824e-4159-90a1-186809dc0437",
   "metadata": {},
   "outputs": [
    {
     "name": "stdout",
     "output_type": "stream",
     "text": [
      "['01_misc_python.ipynb', '.DS_Store', '9_APIs.ipynb', '11_web_scraping.ipynb', 'Untitled.ipynb', '7_Keras.ipynb', 'utils', '6_sklearn.ipynb', 'pipeline.pkl', '.ipynb_checkpoints', 'iris_tree.dot', 'data', '5_data_vis.ipynb', '4_pandas.ipynb']\n"
     ]
    }
   ],
   "source": [
    "dir_list = os.listdir(cur_dir)\n",
    "  \n",
    "# print the list\n",
    "print(dir_list)"
   ]
  },
  {
   "cell_type": "markdown",
   "id": "dc3780c5-736f-4c47-8733-b9947ad66169",
   "metadata": {},
   "source": [
    "## Datetime"
   ]
  },
  {
   "cell_type": "code",
   "execution_count": 34,
   "id": "d1f98463-6f62-4b8d-944b-b1324c184e89",
   "metadata": {},
   "outputs": [],
   "source": [
    "from datetime import datetime, timezone, timedelta"
   ]
  },
  {
   "cell_type": "code",
   "execution_count": 2,
   "id": "17859bc8-b6a0-4b6e-9585-28185e5cb451",
   "metadata": {},
   "outputs": [
    {
     "name": "stdout",
     "output_type": "stream",
     "text": [
      "2022-10-12 14:47:52.376979\n"
     ]
    }
   ],
   "source": [
    "print(datetime.now())"
   ]
  },
  {
   "cell_type": "code",
   "execution_count": 3,
   "id": "2f58b61d-8409-4c42-92fe-03431f22069c",
   "metadata": {},
   "outputs": [
    {
     "name": "stdout",
     "output_type": "stream",
     "text": [
      "2022-10-12 14:47:52.826352\n"
     ]
    }
   ],
   "source": [
    "print(datetime.today())"
   ]
  },
  {
   "cell_type": "code",
   "execution_count": 6,
   "id": "778fc6fc-71bd-4121-8e3e-7c8604c8f9fe",
   "metadata": {},
   "outputs": [
    {
     "name": "stdout",
     "output_type": "stream",
     "text": [
      "2022-10-16 22:36:00\n"
     ]
    }
   ],
   "source": [
    "print(datetime(2022,    # Year\n",
    "               10,      # Month\n",
    "               16,      # Day\n",
    "               22,      # Hour (24h)\n",
    "               36,      # Minute\n",
    "               12,      # Second\n",
    "              )\n",
    "     )"
   ]
  },
  {
   "cell_type": "markdown",
   "id": "c4e68b36-3f3b-478a-8476-616612efade0",
   "metadata": {},
   "source": [
    "### Convert datetime object to string"
   ]
  },
  {
   "cell_type": "markdown",
   "id": "cfd02b8d-edcc-4ab5-898b-1a4ee67295c0",
   "metadata": {},
   "source": [
    "You can convert a datetime object to string using the .strftime() method"
   ]
  },
  {
   "cell_type": "code",
   "execution_count": 14,
   "id": "437b5691-7bbd-4ce3-a949-63e7006aa68c",
   "metadata": {},
   "outputs": [
    {
     "name": "stdout",
     "output_type": "stream",
     "text": [
      "2022-08-12\n"
     ]
    }
   ],
   "source": [
    "print(datetime.today().strftime(\"%Y-%m-%d\"))"
   ]
  },
  {
   "cell_type": "code",
   "execution_count": 37,
   "id": "0aa85457-f22f-4ef1-aeb2-cb102762381c",
   "metadata": {},
   "outputs": [
    {
     "name": "stdout",
     "output_type": "stream",
     "text": [
      "Japan DateTime: 2022:10:12 16:39:04 JST +0900\n"
     ]
    }
   ],
   "source": [
    "jst_time = datetime.now(tz = timezone(timedelta(hours=+9), 'JST'))   # Explained properly below\n",
    "print(\"Japan DateTime:\", jst_time.strftime(\"%Y:%m:%d %H:%M:%S %Z %z\"))"
   ]
  },
  {
   "cell_type": "markdown",
   "id": "6beaf06b-a96d-4e0a-9eae-ce72cd69b7ec",
   "metadata": {},
   "source": [
    "### Convert string to datetime\n",
    "\n",
    "This can be done using datetime.strptime()."
   ]
  },
  {
   "cell_type": "code",
   "execution_count": 38,
   "id": "03400c0e-77e7-4261-9a5d-609bb356dd57",
   "metadata": {},
   "outputs": [
    {
     "name": "stdout",
     "output_type": "stream",
     "text": [
      "2021-02-23 09:12:00\n"
     ]
    }
   ],
   "source": [
    "birthday = \"23.02.2021 09:12:00\"\n",
    "\n",
    "date_time = datetime.strptime(birthday, '%d.%m.%Y %H:%M:%S')\n",
    "\n",
    "print(date_time)"
   ]
  },
  {
   "cell_type": "code",
   "execution_count": 55,
   "id": "67fcb4ae-f129-411c-8bb8-b7e188bfa451",
   "metadata": {},
   "outputs": [
    {
     "name": "stdout",
     "output_type": "stream",
     "text": [
      "Date with Timezone Name:: 2012-02-23 09:15:26+09:00\n"
     ]
    }
   ],
   "source": [
    "date_String = \"23/Feb/2012:09:15:26 UTC +0900\"\n",
    "\n",
    "dt_format = datetime.strptime(date_String, '%d/%b/%Y:%H:%M:%S %Z %z')\n",
    "\n",
    "print(\"Date with Timezone Name::\", dt_format)\n"
   ]
  },
  {
   "cell_type": "markdown",
   "id": "91ea1575-dbac-45ad-a52a-c96cb6d3d612",
   "metadata": {},
   "source": [
    "### Timezones\n",
    "\n",
    "This can be done with the pytz module, or with the datetime.timezone module."
   ]
  },
  {
   "cell_type": "markdown",
   "id": "1fdb6c1b-8aaf-4ff1-a605-697e021c4718",
   "metadata": {},
   "source": [
    "#### pytz Module"
   ]
  },
  {
   "cell_type": "code",
   "execution_count": 7,
   "id": "5f262564-19c7-4b1b-95cd-01080a400165",
   "metadata": {},
   "outputs": [],
   "source": [
    "import pytz"
   ]
  },
  {
   "cell_type": "code",
   "execution_count": 10,
   "id": "57d36959-1087-4897-b081-027b44ee312e",
   "metadata": {},
   "outputs": [
    {
     "name": "stdout",
     "output_type": "stream",
     "text": [
      "2022-10-12 14:56:58.413963\n",
      "2022-10-12 06:56:58.414580+00:00\n",
      "2022-10-12 13:56:58.414691+07:00\n"
     ]
    }
   ],
   "source": [
    "print(datetime.now())    # Local time\n",
    "print(datetime.now(tz = pytz.timezone('UTC')))    # Time now in the UTC timezone\n",
    "print(datetime.now(tz = pytz.timezone('Asia/Jakarta')))    # Time now in Jakarta"
   ]
  },
  {
   "cell_type": "markdown",
   "id": "3cc46c26-c8d2-4340-8799-f27d12306ea0",
   "metadata": {},
   "source": [
    "Below are the lists of available timezones"
   ]
  },
  {
   "cell_type": "code",
   "execution_count": 14,
   "id": "b868e78d-7a98-4c1c-8ec9-204a7dc47592",
   "metadata": {},
   "outputs": [
    {
     "name": "stdout",
     "output_type": "stream",
     "text": [
      "439\n",
      "594\n"
     ]
    }
   ],
   "source": [
    "print(len(pytz.common_timezones))\n",
    "print(len(pytz.all_timezones))"
   ]
  },
  {
   "cell_type": "markdown",
   "id": "6cb4f0a5-d411-4995-8e65-68faedcf7871",
   "metadata": {},
   "source": [
    "#### datetime.timezone Module"
   ]
  },
  {
   "cell_type": "code",
   "execution_count": 25,
   "id": "bb4dc987-f9fa-419b-b598-b16b56a14ef7",
   "metadata": {},
   "outputs": [],
   "source": [
    "from datetime import timezone, timedelta"
   ]
  },
  {
   "cell_type": "markdown",
   "id": "232e1e0b-b5a8-43a7-b198-93c39e7ac89c",
   "metadata": {},
   "source": [
    "Here offset represents the difference between the local time and the UTC (Coordinated Universal Time). \n",
    "\n",
    "It can be a time delta object ranging from hours=-24 to +24."
   ]
  },
  {
   "cell_type": "code",
   "execution_count": 45,
   "id": "3a61c4f0-5b65-417c-aaa2-1c4fbf968ae7",
   "metadata": {},
   "outputs": [
    {
     "name": "stdout",
     "output_type": "stream",
     "text": [
      "2022-10-12 15:44:10.256327\n",
      "UTC Time:  2022-10-12 07:44:10.256692+00:00\n",
      "JST Time:  2022-10-12 16:44:10.257177+09:00\n",
      "JST Time:  2022-10-12 16:44:10.257285+09:00\n"
     ]
    }
   ],
   "source": [
    "print(datetime.now())    # Local time\n",
    "\n",
    "utc_time = datetime.now(tz = timezone.utc)  # Time now in the UTC timezone\n",
    "print('UTC Time: ', utc_time)    \n",
    "\n",
    "offset = timedelta(hours=+9)\n",
    "print('JST Time: ', datetime.now(tz = timezone(offset)))\n",
    "\n",
    "# Creating a datetime oject and setting the timezone to JST (Japan Standard Time)\n",
    "\n",
    "jst_time = datetime.now(tz = timezone(offset, 'JST'))\n",
    "print('JST Time: ', jst_time)"
   ]
  },
  {
   "cell_type": "code",
   "execution_count": 36,
   "id": "d54ed8ce-0ec9-4fe7-88d4-434eec6fb65e",
   "metadata": {},
   "outputs": [
    {
     "name": "stdout",
     "output_type": "stream",
     "text": [
      "Japan DateTime: 2022:10:12 16:36:39 JST +0900\n",
      "UTC DateTime: 2022:10:12 07:36:39 UTC +0000\n"
     ]
    }
   ],
   "source": [
    "print(\"Japan DateTime:\", jst_time.strftime(\"%Y:%m:%d %H:%M:%S %Z %z\"))\n",
    "print(\"UTC DateTime:\", utc_time.strftime(\"%Y:%m:%d %H:%M:%S %Z %z\"))\n"
   ]
  },
  {
   "cell_type": "code",
   "execution_count": 49,
   "id": "97a10569-f7ff-4c7c-9dcf-8e81c8204304",
   "metadata": {},
   "outputs": [
    {
     "name": "stdout",
     "output_type": "stream",
     "text": [
      "Japan DateTime: 2022:10:12 16:44:10 JST +0900\n",
      "\n",
      "...with timezone changed to UTC...\n",
      "\n",
      "Japan DateTime: 2022:10:12 16:44:10 UTC +0000\n"
     ]
    }
   ],
   "source": [
    "# You can change the timezone information of a datetime object (!!! THIS WILL NOT ADJUST THE ACTUAL TIME !!!)\n",
    "\n",
    "print(\"Japan DateTime:\", jst_time.strftime(\"%Y:%m:%d %H:%M:%S %Z %z\"))\n",
    "\n",
    "print('\\n...with timezone changed to UTC...\\n')\n",
    "print(\"Japan DateTime:\", jst_time.replace(tzinfo = timezone.utc).strftime(\"%Y:%m:%d %H:%M:%S %Z %z\"))\n"
   ]
  },
  {
   "cell_type": "markdown",
   "id": "5246677c-41a7-4219-9105-a8264ee7f61c",
   "metadata": {},
   "source": [
    "### Timestamps"
   ]
  },
  {
   "cell_type": "markdown",
   "id": "7a898b99-304f-404a-9c54-03123dd11fe6",
   "metadata": {},
   "source": [
    "Timestamps can be useful to keep track of when a files or data are created or modified.\n"
   ]
  },
  {
   "cell_type": "code",
   "execution_count": 79,
   "id": "af6ecc8c-9ed9-4750-b7bb-19aa53a6586e",
   "metadata": {},
   "outputs": [
    {
     "data": {
      "text/plain": [
       "False"
      ]
     },
     "execution_count": 79,
     "metadata": {},
     "output_type": "execute_result"
    }
   ],
   "source": [
    "data_file = None\n",
    "data_blob = 'sdlkfjd'\n",
    "\n",
    "data_file == None and data_blob == None"
   ]
  },
  {
   "cell_type": "code",
   "execution_count": 64,
   "id": "118e3b2d-2637-4d4e-bb33-b34961d0e047",
   "metadata": {},
   "outputs": [
    {
     "name": "stdout",
     "output_type": "stream",
     "text": [
      "Time now (UTC): 2022-10-12 08:00:28.584983+00:00\n",
      "Timestamp (float): 1665561628.584983\n",
      "Timestamp (int): 1665561628\n"
     ]
    }
   ],
   "source": [
    "# Convert datetime object to timestamp\n",
    "dt = datetime.now(tz = pytz.timezone('UTC'))\n",
    "print(f'Time now (UTC): {dt}')\n",
    "\n",
    "ts = datetime.timestamp(dt)\n",
    "print(f'Timestamp (float): {ts}')\n",
    "print(f'Timestamp (int): {int(ts)}')\n"
   ]
  },
  {
   "cell_type": "code",
   "execution_count": 65,
   "id": "44c1b858-b122-423c-973d-eb3c20540c1f",
   "metadata": {},
   "outputs": [
    {
     "name": "stdout",
     "output_type": "stream",
     "text": [
      "Corresponding date for the float timestamp is:  2022-10-12 08:00:28.584983\n",
      "Corresponding date for the integer timestamp is:  2022-10-12 08:00:28\n",
      "Corresponding date for the float timestamp is:  2022-10-12 16:00:28.584983\n",
      "Corresponding date for the integer timestamp is:  2022-10-12 16:00:28\n"
     ]
    }
   ],
   "source": [
    "# Convert timestamp back into datetime object\n",
    "\n",
    "# datetime.utcfromtimestamp() assumes the timestamp was generated using UTC time, \n",
    "# and returns UTC time formated datetime object\n",
    "\n",
    "date = datetime.utcfromtimestamp(ts)\n",
    "print(\"Corresponding date for the float timestamp is: \", date)\n",
    "\n",
    "date = datetime.utcfromtimestamp(int(ts))\n",
    "print(\"Corresponding date for the integer timestamp is: \", date)\n",
    "\n",
    "\n",
    "# datetime.utcfromtimestamp() assumes the timestamp was generated using UTC time, \n",
    "# but converts the time to local time\n",
    "\n",
    "date = datetime.fromtimestamp(ts)\n",
    "print(\"Corresponding date for the float timestamp is: \", date)\n",
    "\n",
    "date = datetime.fromtimestamp(int(ts))\n",
    "print(\"Corresponding date for the integer timestamp is: \", date)"
   ]
  },
  {
   "cell_type": "markdown",
   "id": "9b799387-0852-463f-b666-191cab8fd498",
   "metadata": {},
   "source": [
    "### Get local timezone"
   ]
  },
  {
   "cell_type": "code",
   "execution_count": 68,
   "id": "8db0ba2f-4654-4777-b853-f4f87059fb9a",
   "metadata": {},
   "outputs": [
    {
     "data": {
      "text/plain": [
       "datetime.timezone(datetime.timedelta(seconds=28800), 'WITA')"
      ]
     },
     "execution_count": 68,
     "metadata": {},
     "output_type": "execute_result"
    }
   ],
   "source": [
    "tz = datetime.now(timezone.utc).astimezone().tzinfo\n",
    "tz"
   ]
  },
  {
   "cell_type": "code",
   "execution_count": 73,
   "id": "57dc7ac4-596c-4c7b-b197-ac444e37f51b",
   "metadata": {},
   "outputs": [
    {
     "name": "stdout",
     "output_type": "stream",
     "text": [
      "2022-10-12 16:02:59.272458\n",
      "2022-10-12 16:02:59.272996+08:00\n",
      "2022-10-12 08:02:59.273085+00:00\n"
     ]
    }
   ],
   "source": [
    "print(datetime.now())\n",
    "print(datetime.now(tz))\n",
    "print(datetime.now(timezone.utc))"
   ]
  },
  {
   "cell_type": "markdown",
   "id": "17de33b5-d853-4c56-aae4-e1526cad272c",
   "metadata": {},
   "source": [
    "## Save and load Python data with JSON"
   ]
  },
  {
   "cell_type": "markdown",
   "id": "730a605f-a93b-4e74-9c85-bd8f89c0e01b",
   "metadata": {},
   "source": [
    "### Converting Data To JSON Format"
   ]
  },
  {
   "cell_type": "markdown",
   "id": "d6811fd6-2c06-4b88-a9a4-4880ae55dcdb",
   "metadata": {},
   "source": [
    "You can convert Python objects of the following types, into JSON strings:\n",
    "\n",
    "    dict\n",
    "    list\n",
    "    tuple\n",
    "    string\n",
    "    int\n",
    "    float\n",
    "    True\n",
    "    False\n",
    "    None"
   ]
  },
  {
   "cell_type": "code",
   "execution_count": 4,
   "id": "4f7c4893-a69e-4a28-b54d-4624c33804e2",
   "metadata": {},
   "outputs": [
    {
     "name": "stdout",
     "output_type": "stream",
     "text": [
      "{\"name\": \"John\", \"age\": 30, \"city\": \"New York\"}\n"
     ]
    },
    {
     "data": {
      "text/plain": [
       "str"
      ]
     },
     "execution_count": 4,
     "metadata": {},
     "output_type": "execute_result"
    }
   ],
   "source": [
    "import json\n",
    "\n",
    "# a Python object (dict):\n",
    "x = {\n",
    "  \"name\": \"John\",\n",
    "  \"age\": 30,\n",
    "  \"city\": \"New York\"\n",
    "}\n",
    "\n",
    "# convert into JSON:\n",
    "y = json.dumps(x)\n",
    "\n",
    "# the result is a JSON string:\n",
    "print(y) \n",
    "type(y)"
   ]
  },
  {
   "cell_type": "markdown",
   "id": "0d9a24bb-30cb-456e-99f9-4108a0b96420",
   "metadata": {},
   "source": [
    "### Storing data in JSON format"
   ]
  },
  {
   "cell_type": "markdown",
   "id": "bc62c515-9f58-47f6-9143-0c01ab1db6d2",
   "metadata": {},
   "source": [
    "This code block creates a file called mydata.json and opens it in write mode."
   ]
  },
  {
   "cell_type": "code",
   "execution_count": 7,
   "id": "f6392443-b23b-4bbc-9a92-32c82f077b5d",
   "metadata": {},
   "outputs": [],
   "source": [
    "import json\n",
    "\n",
    "# instantiate an empty dict\n",
    "team = {}\n",
    "\n",
    "# add a team member\n",
    "team['tux'] = {'health': 23, 'level': 4}\n",
    "team['beastie'] = {'health': 13, 'level': 6}\n",
    "team['konqi'] = {'health': 18, 'level': 7}\n",
    "\n",
    "with open('mydata.json', 'w') as f:\n",
    "    json.dump(team, f)"
   ]
  },
  {
   "cell_type": "markdown",
   "id": "e83c5bf8-d799-4025-aa95-3b73fad742dd",
   "metadata": {},
   "source": [
    "Saving data from your application is as simple as that, and the best part about this is that the data is structured and predictable. To see, take a look at the resulting file:"
   ]
  },
  {
   "cell_type": "code",
   "execution_count": 8,
   "id": "96ba53b5-b33b-418b-8904-4be8d3510c68",
   "metadata": {},
   "outputs": [
    {
     "name": "stdout",
     "output_type": "stream",
     "text": [
      "{\"tux\": {\"health\": 23, \"level\": 4}, \"beastie\": {\"health\": 13, \"level\": 6}, \"konqi\": {\"health\": 18, \"level\": 7}}"
     ]
    }
   ],
   "source": [
    "!cat mydata.json"
   ]
  },
  {
   "cell_type": "markdown",
   "id": "8abfdcea-2162-4ffe-90ec-1827cdef1c77",
   "metadata": {},
   "source": [
    "### Reading data from a JSON file"
   ]
  },
  {
   "cell_type": "markdown",
   "id": "e5da6518-df86-45a5-b6a6-2883ef3b531e",
   "metadata": {},
   "source": [
    "This function implements the inverse, more or less, of saving the file: an arbitrary variable (f) represents the data file, and then the JSON module’s load function dumps the data from the file into the arbitrary team variable."
   ]
  },
  {
   "cell_type": "code",
   "execution_count": 9,
   "id": "861a9baf-28f6-4a63-80c0-7f51c790d487",
   "metadata": {},
   "outputs": [
    {
     "name": "stdout",
     "output_type": "stream",
     "text": [
      "{'health': 23, 'level': 4}\n",
      "23\n",
      "4\n",
      "{'health': 13, 'level': 6}\n",
      "13\n",
      "6\n",
      "Object Type: <class 'dict'>\n"
     ]
    }
   ],
   "source": [
    "import json\n",
    "\n",
    "f = open('mydata.json')\n",
    "team = json.load(f)\n",
    "\n",
    "# Team is a dict type object\n",
    "\n",
    "print(team['tux'])\n",
    "print(team['tux']['health'])\n",
    "print(team['tux']['level'])\n",
    "\n",
    "print(team['beastie'])\n",
    "print(team['beastie']['health'])\n",
    "print(team['beastie']['level'])\n",
    "\n",
    "print(f'Object Type: {type(team)}')\n",
    "\n",
    "# when finished, close the file\n",
    "f.close()"
   ]
  },
  {
   "cell_type": "markdown",
   "id": "bb404815-b81c-4b1c-b194-b1e2a6727c76",
   "metadata": {},
   "source": [
    "## How to display JSON formatted data in a readable way"
   ]
  },
  {
   "cell_type": "code",
   "execution_count": 60,
   "id": "6aa28d06-da56-4aa1-8a71-be34060e1b47",
   "metadata": {},
   "outputs": [
    {
     "name": "stdout",
     "output_type": "stream",
     "text": [
      "[\n",
      "  {\n",
      "    \"ID\": 10,\n",
      "    \"Name\": \"Pankaj\",\n",
      "    \"Role\": \"CEO\"\n",
      "  },\n",
      "  {\n",
      "    \"ID\": 20,\n",
      "    \"Name\": \"David Lee\",\n",
      "    \"Role\": \"Editor\"\n",
      "  }\n",
      "]\n"
     ]
    }
   ],
   "source": [
    "import json\n",
    "\n",
    "json_data = '[{\"ID\":10,\"Name\":\"Pankaj\",\"Role\":\"CEO\"},' \\\n",
    "            '{\"ID\":20,\"Name\":\"David Lee\",\"Role\":\"Editor\"}]'\n",
    "\n",
    "# Convert the above data to JSON format\n",
    "\n",
    "json_object = json.loads(json_data)\n",
    "\n",
    "# json.dumps() returns a string format, and you can set the level of indent to make it readable\n",
    "\n",
    "json_formatted_str = json.dumps(json_object, indent=2)\n",
    "\n",
    "print(json_formatted_str)"
   ]
  },
  {
   "cell_type": "code",
   "execution_count": null,
   "id": "5972f1ac-4b04-430a-a2e0-9ec07a367e3f",
   "metadata": {},
   "outputs": [],
   "source": [
    "json_formatted_str = json.dumps(response.json(), indent=2)"
   ]
  },
  {
   "cell_type": "markdown",
   "id": "a16059d5-bf3f-41f8-b7bf-f14a32876896",
   "metadata": {},
   "source": [
    "## How to convert a string object into a dict"
   ]
  },
  {
   "cell_type": "markdown",
   "id": "316f4cf2-4aae-4c34-9f23-1216931d2c1f",
   "metadata": {},
   "source": [
    "Use the eval() function!!!"
   ]
  },
  {
   "cell_type": "code",
   "execution_count": 16,
   "id": "ba4a6900-346e-4303-92dc-9ba8696b2d23",
   "metadata": {},
   "outputs": [
    {
     "name": "stdout",
     "output_type": "stream",
     "text": [
      "{'minorityInterest': 484893000000, 'totalPartnershipCapital': None, 'totalPartnershipCapitalSection': {'limitedPartnershipCapital': None, 'generalPartnershipCapital': None}, 'stockholdersEquity': 18989629000000, 'stockholdersEquitySection': {'additionalPaidInCapital': 3878995000000, 'retainedEarnings': 13989234000000, 'treasuryStock': None, 'otherEquityInterest': -33444000000, 'capitalStock': 962344000000, 'capitalStockSection': {'preferredStock': None, 'commonStock': 962344000000, 'otherCapitalStock': None}, 'gainsLossesNotAffectingRetainedEarnings': None, 'gainsLossesNotAffectingRetainedEarningsSection': {'unrealizedGainLoss': None, 'minimumPensionLiabilities': None, 'foreignCurrencyTranslationAdjustments': None, 'fixedAssetsRevaluationReserve': None, 'otherEquityAdjustments': None}}}\n",
      "\n"
     ]
    },
    {
     "data": {
      "text/plain": [
       "{'minorityInterest': 484893000000,\n",
       " 'totalPartnershipCapital': None,\n",
       " 'totalPartnershipCapitalSection': {'limitedPartnershipCapital': None,\n",
       "  'generalPartnershipCapital': None},\n",
       " 'stockholdersEquity': 18989629000000,\n",
       " 'stockholdersEquitySection': {'additionalPaidInCapital': 3878995000000,\n",
       "  'retainedEarnings': 13989234000000,\n",
       "  'treasuryStock': None,\n",
       "  'otherEquityInterest': -33444000000,\n",
       "  'capitalStock': 962344000000,\n",
       "  'capitalStockSection': {'preferredStock': None,\n",
       "   'commonStock': 962344000000,\n",
       "   'otherCapitalStock': None},\n",
       "  'gainsLossesNotAffectingRetainedEarnings': None,\n",
       "  'gainsLossesNotAffectingRetainedEarningsSection': {'unrealizedGainLoss': None,\n",
       "   'minimumPensionLiabilities': None,\n",
       "   'foreignCurrencyTranslationAdjustments': None,\n",
       "   'fixedAssetsRevaluationReserve': None,\n",
       "   'otherEquityAdjustments': None}}}"
      ]
     },
     "execution_count": 16,
     "metadata": {},
     "output_type": "execute_result"
    }
   ],
   "source": [
    "string = \"{'minorityInterest': 484893000000, 'totalPartnershipCapital': None, 'totalPartnershipCapitalSection': {'limitedPartnershipCapital': None, 'generalPartnershipCapital': None}, 'stockholdersEquity': 18989629000000, 'stockholdersEquitySection': {'additionalPaidInCapital': 3878995000000, 'retainedEarnings': 13989234000000, 'treasuryStock': None, 'otherEquityInterest': -33444000000, 'capitalStock': 962344000000, 'capitalStockSection': {'preferredStock': None, 'commonStock': 962344000000, 'otherCapitalStock': None}, 'gainsLossesNotAffectingRetainedEarnings': None, 'gainsLossesNotAffectingRetainedEarningsSection': {'unrealizedGainLoss': None, 'minimumPensionLiabilities': None, 'foreignCurrencyTranslationAdjustments': None, 'fixedAssetsRevaluationReserve': None, 'otherEquityAdjustments': None}}}\"\n",
    "\n",
    "print(f\"{string}\\n\")\n",
    "\n",
    "eval(string)"
   ]
  },
  {
   "cell_type": "markdown",
   "id": "939a29a5-8cb9-4b6e-8d09-97f7582458fd",
   "metadata": {},
   "source": [
    "## How To Find Unique Values In A Dict"
   ]
  },
  {
   "cell_type": "markdown",
   "id": "150a5f19-df2b-405c-86b3-81442e2fb299",
   "metadata": {},
   "source": [
    "### Method #1 : Using sorted() + set comprehension + values() "
   ]
  },
  {
   "cell_type": "code",
   "execution_count": 1,
   "id": "66b12c93-43b6-4027-8822-854aceb8bc77",
   "metadata": {},
   "outputs": [
    {
     "name": "stdout",
     "output_type": "stream",
     "text": [
      "The original dictionary is : {'gfg': [5, 6, 7, 8], 'is': [10, 11, 7, 5], 'best': [6, 12, 10, 8], 'for': [1, 2, 5]}\n",
      "The unique values list is : [1, 2, 5, 6, 7, 8, 10, 11, 12]\n"
     ]
    }
   ],
   "source": [
    "# initializing dictionary\n",
    "test_dict = {'gfg' : [5, 6, 7, 8],\n",
    "             'is' : [10, 11, 7, 5],\n",
    "             'best' : [6, 12, 10, 8],\n",
    "             'for' : [1, 2, 5]}\n",
    " \n",
    "# printing original dictionary\n",
    "print(\"The original dictionary is : \" + str(test_dict))\n",
    " \n",
    "# Extract Unique values dictionary values\n",
    "# Using set comprehension + values() + sorted()\n",
    "res = list(sorted({ele for val in test_dict.values() for ele in val}))\n",
    " \n",
    "# printing result\n",
    "print(\"The unique values list is : \" + str(res))"
   ]
  },
  {
   "cell_type": "markdown",
   "id": "a285c1ed-7fc2-461e-9cf1-cced5d7dad3f",
   "metadata": {},
   "source": [
    "### Method #2 : Using chain() + sorted() + values()"
   ]
  },
  {
   "cell_type": "code",
   "execution_count": 2,
   "id": "f1956c40-7b5a-45a3-882c-1ce2393d3fb5",
   "metadata": {},
   "outputs": [
    {
     "name": "stdout",
     "output_type": "stream",
     "text": [
      "The original dictionary is : {'gfg': [5, 6, 7, 8], 'is': [10, 11, 7, 5], 'best': [6, 12, 10, 8], 'for': [1, 2, 5]}\n",
      "The unique values list is : [1, 2, 5, 6, 7, 8, 10, 11, 12]\n"
     ]
    }
   ],
   "source": [
    "# Using chain() + sorted() + values()\n",
    "from itertools import chain\n",
    " \n",
    "# initializing dictionary\n",
    "test_dict = {'gfg' : [5, 6, 7, 8],\n",
    "             'is' : [10, 11, 7, 5],\n",
    "             'best' : [6, 12, 10, 8],\n",
    "             'for' : [1, 2, 5]}\n",
    " \n",
    "# printing original dictionary\n",
    "print(\"The original dictionary is : \" + str(test_dict))\n",
    " \n",
    "# Extract Unique values dictionary values\n",
    "# Using chain() + sorted() + values()\n",
    "res = list(sorted(set(chain(*test_dict.values()))))\n",
    " \n",
    "# printing result\n",
    "print(\"The unique values list is : \" + str(res))"
   ]
  },
  {
   "cell_type": "markdown",
   "id": "66698f32-1716-4505-9262-cd2901ad18a1",
   "metadata": {},
   "source": [
    "### Method #3: Using keys(),extend(),list(),set() and sort() methods"
   ]
  },
  {
   "cell_type": "code",
   "execution_count": 3,
   "id": "4a2c5578-78c3-4ca6-a67e-85b403216137",
   "metadata": {},
   "outputs": [
    {
     "name": "stdout",
     "output_type": "stream",
     "text": [
      "The original dictionary is : {'gfg': [5, 6, 7, 8], 'is': [10, 11, 7, 5], 'best': [6, 12, 10, 8], 'for': [1, 2, 5]}\n",
      "The unique values list is : [1, 2, 5, 6, 7, 8, 10, 11, 12]\n"
     ]
    }
   ],
   "source": [
    "# initializing dictionary\n",
    "test_dict = {'gfg' : [5, 6, 7, 8],\n",
    "            'is' : [10, 11, 7, 5],\n",
    "            'best' : [6, 12, 10, 8],\n",
    "            'for' : [1, 2, 5]}\n",
    " \n",
    "# printing original dictionary\n",
    "print(\"The original dictionary is : \" + str(test_dict))\n",
    " \n",
    "# Extract Unique values dictionary values\n",
    "x=[]\n",
    "for i in test_dict.keys():\n",
    "    x.extend(test_dict[i])\n",
    "x=list(set(x))\n",
    "x.sort()\n",
    "# printing result\n",
    "print(\"The unique values list is : \" + str(x))"
   ]
  },
  {
   "cell_type": "markdown",
   "id": "97cd7d7b-4010-4e3b-9bdb-a95560bd97ae",
   "metadata": {},
   "source": [
    "## How To Make A True Copy Of An Object\n",
    "\n",
    "In Python, Assignment statements do not copy objects, they create bindings between a target and an object. When we use the = operator, It only creates a new variable that shares the reference of the original object. In order to create “real copies” or “clones” of these objects, we can use the copy module in Python."
   ]
  },
  {
   "cell_type": "markdown",
   "id": "b5eb35d9-1094-4026-aa3e-9001f9477b43",
   "metadata": {},
   "source": [
    "In order to make these copies, we use the copy module. The copy() returns a shallow copy of the list, and deepcopy() returns a deep copy of the list. As you can see that both have the same value but have different IDs."
   ]
  },
  {
   "cell_type": "code",
   "execution_count": 1,
   "id": "c66b219d-8b4f-49a0-83a1-a8e65210d37b",
   "metadata": {},
   "outputs": [
    {
     "name": "stdout",
     "output_type": "stream",
     "text": [
      "li1 ID:  4445355328 Value:  [1, 2, [3, 5], 4]\n",
      "li2 ID:  4446080640 Value:  [1, 2, [3, 5], 4]\n",
      "li3 ID:  4446075136 Value:  [1, 2, [3, 5], 4]\n"
     ]
    }
   ],
   "source": [
    "# importing copy module\n",
    "import copy\n",
    " \n",
    "# initializing list 1\n",
    "li1 = [1, 2, [3, 5], 4]\n",
    "print(\"li1 ID: \", id(li1), \"Value: \", li1)\n",
    "\n",
    "# using copy for shallow copy\n",
    "li2 = copy.copy(li1)\n",
    "print(\"li2 ID: \", id(li2), \"Value: \", li2)\n",
    "# using deepcopy for deepcopy\n",
    "li3 = copy.deepcopy(li1)\n",
    "print(\"li3 ID: \", id(li3), \"Value: \", li3)"
   ]
  },
  {
   "cell_type": "markdown",
   "id": "ded212dd-c878-4823-a5f7-248d28ec03e8",
   "metadata": {},
   "source": [
    "### What is Deep copy in Python?\n",
    "\n",
    "A deep copy creates a new compound object before inserting copies of the items found in the original into it in a recursive manner. It means first constructing a new collection object and then recursively populating it with copies of the child objects found in the original. In the case of deep copy, a copy of the object is copied into another object. It means that any changes made to a copy of the object do not reflect in the original object. "
   ]
  },
  {
   "cell_type": "markdown",
   "id": "2bac8b6c-2d6f-41f3-8f45-6f1ee7bbd7d1",
   "metadata": {},
   "source": [
    "In the below example, the change made in the list did not affect other lists, indicating the list is deeply copied.  "
   ]
  },
  {
   "cell_type": "code",
   "execution_count": 2,
   "id": "230ddd13-7baa-4915-8101-7d634118a6da",
   "metadata": {},
   "outputs": [
    {
     "name": "stdout",
     "output_type": "stream",
     "text": [
      "The original elements before deep copying\n",
      "1 2 [3, 5] 4 \n",
      "The new list of elements after deep copying \n",
      "1 2 [7, 5] 4 \n",
      "The original elements after deep copying\n",
      "1 2 [3, 5] 4 "
     ]
    }
   ],
   "source": [
    "# importing \"copy\" for copy operations\n",
    "import copy\n",
    " \n",
    "# initializing list 1\n",
    "li1 = [1, 2, [3,5], 4]\n",
    " \n",
    "# using deepcopy to deep copy\n",
    "li2 = copy.deepcopy(li1)\n",
    " \n",
    "# original elements of list\n",
    "print (\"The original elements before deep copying\")\n",
    "for i in range(0,len(li1)):\n",
    "    print (li1[i],end=\" \")\n",
    " \n",
    "print(\"\\r\")\n",
    " \n",
    "# adding and element to new list\n",
    "li2[2][0] = 7\n",
    " \n",
    "# Change is reflected in l2\n",
    "print (\"The new list of elements after deep copying \")\n",
    "for i in range(0,len( li1)):\n",
    "    print (li2[i],end=\" \")\n",
    " \n",
    "print(\"\\r\")\n",
    " \n",
    "# Change is NOT reflected in original list\n",
    "# as it is a deep copy\n",
    "print (\"The original elements after deep copying\")\n",
    "for i in range(0,len( li1)):\n",
    "    print (li1[i],end=\" \")"
   ]
  },
  {
   "cell_type": "markdown",
   "id": "d8201e0e-3f21-4a76-ad28-f7943a6dd42c",
   "metadata": {},
   "source": [
    "### What is Shallow copy in Python?\n",
    "\n",
    "A shallow copy creates a new compound object and then references the objects contained in the original within it, which means it constructs a new collection object and then populates it with references to the child objects found in the original. The copying process does not recurse and therefore won’t create copies of the child objects themselves. In the case of shallow copy, a reference of an object is copied into another object. It means that any changes made to a copy of an object do reflect in the original object. In python, this is implemented using the “copy()” function. "
   ]
  },
  {
   "cell_type": "markdown",
   "id": "c0840190-1ded-4812-b4f3-e6129b44bb78",
   "metadata": {},
   "source": [
    "Example:\n",
    "\n",
    "In this example, the change made in the list did affect another list, indicating the list is shallowly copied. Important Points: The difference between shallow and deep copying is only relevant for compound objects (objects that contain other objects, like lists or class instances):\n",
    "\n",
    "    A shallow copy constructs a new compound object and then (to the extent possible) inserts references into it to the objects found in the original.\n",
    "    \n",
    "    A deep copy constructs a new compound object and then, recursively, inserts copies into it of the objects found in the original."
   ]
  },
  {
   "cell_type": "code",
   "execution_count": 4,
   "id": "6e7a0103-b64f-42b1-9568-b3bff114a1b4",
   "metadata": {},
   "outputs": [
    {
     "name": "stdout",
     "output_type": "stream",
     "text": [
      "The original elements before shallow copying\n",
      "1 2 [3, 5] 4 \n",
      "The original elements after shallow copying\n",
      "1 2 [7, 5] 4 "
     ]
    }
   ],
   "source": [
    "# importing \"copy\" for copy operations\n",
    "import copy\n",
    " \n",
    "# initializing list 1\n",
    "li1 = [1, 2, [3,5], 4]\n",
    " \n",
    "# using copy to shallow copy\n",
    "li2 = copy.copy(li1)\n",
    " \n",
    "# original elements of list\n",
    "print (\"The original elements before shallow copying\")\n",
    "for i in range(0,len(li1)):\n",
    "    print (li1[i],end=\" \")\n",
    "\n",
    "print(\"\\r\")\n",
    " \n",
    "# adding and element to new list\n",
    "li2[2][0] = 7\n",
    " \n",
    "# checking if change is reflected\n",
    "print (\"The original elements after shallow copying\")\n",
    "for i in range(0,len( li1)):\n",
    "    print (li1[i],end=\" \")"
   ]
  },
  {
   "cell_type": "markdown",
   "id": "0ea5ab19-9fd3-4f9e-b681-7e594c11b77a",
   "metadata": {},
   "source": [
    "## How to save objects"
   ]
  },
  {
   "cell_type": "markdown",
   "id": "c8f74fd3-095b-409c-aa64-3dd3ef26a902",
   "metadata": {},
   "source": [
    "### How to use Pickle to save and load Variables in Python"
   ]
  },
  {
   "cell_type": "markdown",
   "id": "5176d567-c878-4dd4-b348-93244d0b4456",
   "metadata": {},
   "source": [
    "Pickle is a python module that makes it easy to serialize or save variables and load them when needed. Unlike JSON serialization, Pickle converts the object into a binary string. JSON is text specific, but Pickle is python specific, and it can serialize the custom classes which JSON fails to serialize. Due to this feature, it is heavily used in training machine learning models. This article discusses how variables can be saved and loaded in python using pickle.\n",
    "\n",
    "Functions used:\n",
    "\n",
    "    In python, dumps() method is used to save variables to a pickle file.\n",
    "    \n",
    "Syntax:"
   ]
  },
  {
   "cell_type": "code",
   "execution_count": null,
   "id": "8103bec8-6c8c-4bad-b259-851ddd44d30d",
   "metadata": {},
   "outputs": [],
   "source": [
    "pickle.dumps(obj, protocol=None, *, fix_imports=True, buffer_callback=None)"
   ]
  },
  {
   "cell_type": "markdown",
   "id": "5717c0c1-87b6-4a8e-9c16-7e4d5ff5f96d",
   "metadata": {},
   "source": [
    "    In python, loads() is used to load saved data from a pickled file\n",
    "\n",
    "Syntax:"
   ]
  },
  {
   "cell_type": "code",
   "execution_count": null,
   "id": "866ab2a8-70e7-4e3f-9952-c534dddfad7c",
   "metadata": {},
   "outputs": [],
   "source": [
    "pickle.loads(data, /, *, fix_imports=True, encoding=”ASCII”, errors=”strict”, buffers=None)"
   ]
  },
  {
   "cell_type": "markdown",
   "id": "e9db4d49-5227-46f9-9182-be449156ba15",
   "metadata": {},
   "source": [
    "#### Saving a variable:\n",
    "\n",
    "    Method 1: Passing the variable\n",
    "\n",
    "In dumps() method, we can pass the variable, and it will return us the binary string for the same. We can then transmit it to other python modules or save in a database."
   ]
  },
  {
   "cell_type": "code",
   "execution_count": 5,
   "id": "f9ef3184-6c1c-4448-9c66-182d5c7fbac9",
   "metadata": {},
   "outputs": [
    {
     "name": "stdout",
     "output_type": "stream",
     "text": [
      "b'\\x80\\x04\\x95K\\x00\\x00\\x00\\x00\\x00\\x00\\x00]\\x94(}\\x94(\\x8c\\x04This\\x94\\x8c\\x02is\\x94\\x8c\\x07Example\\x94K\\x01u\\x8c\\x02of\\x94\\x8c\\rserialisation\\x94]\\x94(\\x8c\\x05using\\x94\\x8c\\x06pickle\\x94ee.'\n"
     ]
    }
   ],
   "source": [
    "import pickle\n",
    "  \n",
    "# Create a variable\n",
    "myvar = [{'This': 'is', 'Example': 1}, 'of',\n",
    "         'serialisation', ['using', 'pickle']]\n",
    "  \n",
    "# Use dumps() to make it serialized\n",
    "serialized = pickle.dumps(myvar)\n",
    "  \n",
    "print(serialized)"
   ]
  },
  {
   "cell_type": "markdown",
   "id": "59b61927-750c-4008-8406-1f336deda6f7",
   "metadata": {},
   "source": [
    "    Method 2:  We can directly save the variable in a file itself."
   ]
  },
  {
   "cell_type": "code",
   "execution_count": 6,
   "id": "bd63379a-d584-48ff-a9f9-dbaca3d903b7",
   "metadata": {},
   "outputs": [],
   "source": [
    "import pickle\n",
    "  \n",
    "# Create a variable\n",
    "myvar = [{'This': 'is', 'Example': 2}, 'of',\n",
    "         'serialisation', ['using', 'pickle']]\n",
    "  \n",
    "# Open a file and use dump()\n",
    "with open('save_files/file.pkl', 'wb') as file:\n",
    "      \n",
    "    # A new file will be created\n",
    "    pickle.dump(myvar, file)"
   ]
  },
  {
   "cell_type": "markdown",
   "id": "de6263c9-7d45-485e-bf84-d901638cb7b6",
   "metadata": {},
   "source": [
    "#### Loading a Variable:"
   ]
  },
  {
   "cell_type": "markdown",
   "id": "9b14b3da-c3d6-49b6-bc6a-d073242f8b8b",
   "metadata": {},
   "source": [
    "    Method 1: \n",
    "\n",
    "The loads() method takes a binary string and returns the corresponding variable. If the string is invalid, it throws a PickleError."
   ]
  },
  {
   "cell_type": "code",
   "execution_count": 7,
   "id": "d96a885d-c6c2-42ae-b366-906f4ee228f5",
   "metadata": {},
   "outputs": [
    {
     "name": "stdout",
     "output_type": "stream",
     "text": [
      "[{'This': 'is', 'Example': 1}, 'of', 'serialisation', ['using', 'pickle']]\n"
     ]
    }
   ],
   "source": [
    "import pickle\n",
    "  \n",
    "# This is the result of previous code\n",
    "binary_string = b'\\x80\\x04\\x95K\\x00\\x00\\x00\\x00\\x00\\x00\\x00]\\x94(}\\x94(\\x8c\\x04This\\x94\\x8c\\x02is\\x94\\x8c\\x07Example\\x94K\\x01u\\x8c\\x02of\\x94\\x8c\\rserialisation\\x94]\\x94(\\x8c\\x05using\\x94\\x8c\\x06pickle\\x94ee.'\n",
    "  \n",
    "# Use loads to load the variable\n",
    "myvar = pickle.loads(binary_string)\n",
    "  \n",
    "print(myvar)"
   ]
  },
  {
   "cell_type": "markdown",
   "id": "cc6df744-91ab-4051-9fcf-d5692fab8b62",
   "metadata": {},
   "source": [
    "    Method 2: \n",
    "\n",
    "The load() method loads a pickled file and returns a deserialized variable."
   ]
  },
  {
   "cell_type": "code",
   "execution_count": 9,
   "id": "32e4adde-4b58-4b04-b0bc-ea46c87849a3",
   "metadata": {},
   "outputs": [
    {
     "name": "stdout",
     "output_type": "stream",
     "text": [
      "[{'This': 'is', 'Example': 2}, 'of', 'serialisation', ['using', 'pickle']]\n"
     ]
    }
   ],
   "source": [
    "import pickle\n",
    "  \n",
    "# Open the file in binary mode\n",
    "with open('save_files/file.pkl', 'rb') as file:\n",
    "      \n",
    "    # Call load method to deserialze\n",
    "    myvar = pickle.load(file)\n",
    "  \n",
    "    print(myvar)"
   ]
  },
  {
   "cell_type": "markdown",
   "id": "16df96d1-e898-40f8-aaf7-24d886b0d942",
   "metadata": {},
   "source": [
    "#### Convenient Coding"
   ]
  },
  {
   "cell_type": "markdown",
   "id": "5a200c63-9a0e-47a2-ba57-1ea5c5dcc8dd",
   "metadata": {},
   "source": [
    "Useful function to save objects"
   ]
  },
  {
   "cell_type": "code",
   "execution_count": 11,
   "id": "8ce6451b-e8d2-4e42-b9ff-bd9e445dc83c",
   "metadata": {},
   "outputs": [],
   "source": [
    "import pickle\n",
    " \n",
    "class MyClass():\n",
    "    def __init__(self, param):\n",
    "        self.param = param\n",
    "\n",
    "def save_object(obj, file_name):\n",
    "    try:\n",
    "        with open(file_name, \"wb\") as f:\n",
    "            pickle.dump(obj, f, protocol=pickle.HIGHEST_PROTOCOL)\n",
    "    except Exception as ex:\n",
    "        print(\"Error during pickling object (Possibly unsupported):\", ex)\n",
    "\n",
    "obj = MyClass(10)\n",
    "\n",
    "save_object(obj, \"save_files/data.pickle\")"
   ]
  },
  {
   "cell_type": "markdown",
   "id": "d19f5d1a-48c1-4187-86f5-5e1159f3700e",
   "metadata": {},
   "source": [
    "Useful function to load objects"
   ]
  },
  {
   "cell_type": "code",
   "execution_count": 13,
   "id": "582feb66-9206-4bf7-b0ba-985fe300d082",
   "metadata": {},
   "outputs": [
    {
     "name": "stdout",
     "output_type": "stream",
     "text": [
      "10\n",
      "True\n"
     ]
    }
   ],
   "source": [
    "import pickle\n",
    " \n",
    "class MyClass():\n",
    "    def __init__(self, param):\n",
    "        self.param = param\n",
    "\n",
    "def load_object(filename):\n",
    "    try:\n",
    "        with open(filename, \"rb\") as f:\n",
    "            return pickle.load(f)\n",
    "    except Exception as ex:\n",
    "        print(\"Error during unpickling object (Possibly unsupported):\", ex)\n",
    "\n",
    "obj = load_object(\"save_files/data.pickle\")\n",
    " \n",
    "print(obj.param)\n",
    "print(isinstance(obj, MyClass))"
   ]
  },
  {
   "cell_type": "markdown",
   "id": "fe6ec583-253e-41fb-970c-7f5b0cc8d906",
   "metadata": {},
   "source": [
    "## Using SqliteDict as a persistent cache for saved objects"
   ]
  },
  {
   "cell_type": "markdown",
   "id": "975b3d4e-4c08-406c-be2c-355f3a1acdbf",
   "metadata": {},
   "source": [
    "You can use sqlitedict for storing persistent data, and this internally uses an sqlite3 database to handle the storage.\n",
    "\n",
    "You have to install this package using pip:"
   ]
  },
  {
   "cell_type": "code",
   "execution_count": 15,
   "id": "17603287-4f48-44e5-ae2e-a2195f943cfa",
   "metadata": {},
   "outputs": [
    {
     "name": "stdout",
     "output_type": "stream",
     "text": [
      "Collecting sqlitedict\n",
      "  Downloading sqlitedict-2.0.0.tar.gz (46 kB)\n",
      "\u001b[2K     \u001b[90m━━━━━━━━━━━━━━━━━━━━━━━━━━━━━━━━━━━━━━━\u001b[0m \u001b[32m46.3/46.3 kB\u001b[0m \u001b[31m643.5 kB/s\u001b[0m eta \u001b[36m0:00:00\u001b[0ma \u001b[36m0:00:01\u001b[0m\n",
      "\u001b[?25h  Preparing metadata (setup.py) ... \u001b[?25ldone\n",
      "\u001b[?25hBuilding wheels for collected packages: sqlitedict\n",
      "  Building wheel for sqlitedict (setup.py) ... \u001b[?25ldone\n",
      "\u001b[?25h  Created wheel for sqlitedict: filename=sqlitedict-2.0.0-py3-none-any.whl size=15718 sha256=c345f58e284ab038b92b5414b416a087ab27a145877e1c35172e4498763b803f\n",
      "  Stored in directory: /Users/alexwalbridge/Library/Caches/pip/wheels/ee/0b/8c/3cdf3e7eef4161d79c62df5bef35b0614238d0d2bd3051877a\n",
      "Successfully built sqlitedict\n",
      "Installing collected packages: sqlitedict\n",
      "Successfully installed sqlitedict-2.0.0\n"
     ]
    }
   ],
   "source": [
    "!pip install sqlitedict"
   ]
  },
  {
   "cell_type": "markdown",
   "id": "b3028be5-3613-4892-85d4-df12b96b09a1",
   "metadata": {},
   "source": [
    "The only thing you need to keep in mind is that you need to use key:value mappings to store / retrieve data, just like a dictionary!\n",
    "\n",
    "Here’s a very simple example using the MyClass instance."
   ]
  },
  {
   "cell_type": "code",
   "execution_count": 16,
   "id": "b3777f5e-7397-46bd-8bd2-79bc693745ed",
   "metadata": {},
   "outputs": [
    {
     "name": "stdout",
     "output_type": "stream",
     "text": [
      "10 10\n",
      "True True\n"
     ]
    }
   ],
   "source": [
    "from sqlitedict import SqliteDict\n",
    " \n",
    "class MyClass():\n",
    "    def __init__(self, param):\n",
    "        self.param = param\n",
    "        \n",
    "def save(key, value, cache_file=\"cache.sqlite3\"):\n",
    "    try:\n",
    "        with SqliteDict(cache_file) as mydict:\n",
    "            mydict[key] = value # Using dict[key] to store\n",
    "            mydict.commit() # Need to commit() to actually flush the data\n",
    "    except Exception as ex:\n",
    "        print(\"Error during storing data (Possibly unsupported):\", ex)\n",
    "        \n",
    "def load(key, cache_file=\"cache.sqlite3\"):\n",
    "    try:\n",
    "        with SqliteDict(cache_file) as mydict:\n",
    "            value = mydict[key] # No need to use commit(), since we are only loading data!\n",
    "        return value\n",
    "    except Exception as ex:\n",
    "        print(\"Error during loading data:\", ex)\n",
    "        \n",
    "obj1 = MyClass(10)\n",
    "save(\"MyClass_key\", obj1, cache_file=\"save_files/cache.sqlite3\")\n",
    " \n",
    "obj2 = load(\"MyClass_key\", cache_file=\"save_files/cache.sqlite3\")\n",
    " \n",
    "print(obj1.param, obj2.param)\n",
    "print(isinstance(obj1, MyClass), isinstance(obj2, MyClass))"
   ]
  },
  {
   "cell_type": "markdown",
   "id": "b2c25251-5eaa-41e2-93b4-4b6dc0b17665",
   "metadata": {},
   "source": [
    "Indeed, we’ve just loaded our Python object successfully! If you notice, sqlitedict will create a database cache.sqlite3 automatically, if it doesn’t exist, and then use it to store / load data."
   ]
  },
  {
   "cell_type": "markdown",
   "id": "b93da948-80df-4f13-9166-a7b760978508",
   "metadata": {},
   "source": [
    "## How to save individual object, AND whole session with DILL"
   ]
  },
  {
   "cell_type": "markdown",
   "id": "9eea8ef2-42e9-4ef7-9ada-58392b3c9001",
   "metadata": {},
   "source": [
    "dill is a module built on the pickle module that allows you to save both individual objects, as well as all the objects in a session."
   ]
  },
  {
   "cell_type": "code",
   "execution_count": 18,
   "id": "143e20d8-a6f1-4b07-8d30-4713817ac84b",
   "metadata": {},
   "outputs": [
    {
     "name": "stdout",
     "output_type": "stream",
     "text": [
      "Requirement already satisfied: dill in /Users/alexwalbridge/.pyenv/versions/3.8.12/envs/lewagon/lib/python3.8/site-packages (0.3.4)\n"
     ]
    }
   ],
   "source": [
    "!pip install dill"
   ]
  },
  {
   "cell_type": "code",
   "execution_count": 19,
   "id": "f5d02519-f542-44bb-b600-981ff64bf687",
   "metadata": {},
   "outputs": [],
   "source": [
    "import dill     \n",
    "\n",
    "filename = 'save_files/globalsave.pkl'\n",
    "dill.dump_session(filename)\n",
    "\n",
    "# and to load the session again:\n",
    "dill.load_session(filename)"
   ]
  },
  {
   "cell_type": "markdown",
   "id": "114984d2-7a1e-4e34-ac2c-f509f463a692",
   "metadata": {},
   "source": [
    "## .env Files"
   ]
  },
  {
   "cell_type": "markdown",
   "id": "6b961ae6-2ca5-4671-af5b-7c6d3f8a1abd",
   "metadata": {},
   "source": [
    "There are basically two ways to import the variables in a .env file. \n",
    "\n",
    "    1. With the dotenv module (installed via pip)\n",
    "    \n",
    "    2. With direnv (installed via Homebrew)\n",
    "\n",
    "Both of these securely load the variables stored in the .env file into the local environment"
   ]
  },
  {
   "cell_type": "markdown",
   "id": "6f1994a5-ade4-4775-aae0-b31b9f788293",
   "metadata": {},
   "source": [
    "### With the dotenv module"
   ]
  },
  {
   "cell_type": "code",
   "execution_count": 65,
   "id": "5efed32e-39ca-4e52-8d4c-bea39e8fd5e7",
   "metadata": {},
   "outputs": [
    {
     "name": "stdout",
     "output_type": "stream",
     "text": [
      "Collecting python-dotenv\n",
      "  Using cached python_dotenv-0.21.0-py3-none-any.whl (18 kB)\n",
      "Installing collected packages: python-dotenv\n",
      "Successfully installed python-dotenv-0.21.0\n"
     ]
    }
   ],
   "source": [
    "!pip install python-dotenv"
   ]
  },
  {
   "cell_type": "markdown",
   "id": "6cdf592a-aae5-4bdf-a327-fda117b4c439",
   "metadata": {},
   "source": [
    "If your code is running fromt the same location as the .env file, you can use the code below"
   ]
  },
  {
   "cell_type": "code",
   "execution_count": 71,
   "id": "9b229bf4-da5c-40d0-b345-cf55e70c0330",
   "metadata": {},
   "outputs": [
    {
     "name": "stdout",
     "output_type": "stream",
     "text": [
      "value\n",
      "None\n",
      "value\n",
      "None\n",
      "value\n"
     ]
    },
    {
     "ename": "KeyError",
     "evalue": "'NOT_A_VARIABLE'",
     "output_type": "error",
     "traceback": [
      "\u001b[0;31m---------------------------------------------------------------------------\u001b[0m",
      "\u001b[0;31mKeyError\u001b[0m                                  Traceback (most recent call last)",
      "\u001b[0;32m/var/folders/k1/r7px6rdx6hsdpvv2jd0z1_v40000gn/T/ipykernel_21312/4129089804.py\u001b[0m in \u001b[0;36m<module>\u001b[0;34m\u001b[0m\n\u001b[1;32m     11\u001b[0m \u001b[0;34m\u001b[0m\u001b[0m\n\u001b[1;32m     12\u001b[0m \u001b[0mprint\u001b[0m\u001b[0;34m(\u001b[0m\u001b[0mos\u001b[0m\u001b[0;34m.\u001b[0m\u001b[0menviron\u001b[0m\u001b[0;34m[\u001b[0m\u001b[0;34m'VARIABLE'\u001b[0m\u001b[0;34m]\u001b[0m\u001b[0;34m)\u001b[0m\u001b[0;34m\u001b[0m\u001b[0;34m\u001b[0m\u001b[0m\n\u001b[0;32m---> 13\u001b[0;31m \u001b[0mprint\u001b[0m\u001b[0;34m(\u001b[0m\u001b[0mos\u001b[0m\u001b[0;34m.\u001b[0m\u001b[0menviron\u001b[0m\u001b[0;34m[\u001b[0m\u001b[0;34m'NOT_A_VARIABLE'\u001b[0m\u001b[0;34m]\u001b[0m\u001b[0;34m)\u001b[0m\u001b[0;34m\u001b[0m\u001b[0;34m\u001b[0m\u001b[0m\n\u001b[0m",
      "\u001b[0;32m~/.pyenv/versions/3.8.12/lib/python3.8/os.py\u001b[0m in \u001b[0;36m__getitem__\u001b[0;34m(self, key)\u001b[0m\n\u001b[1;32m    673\u001b[0m         \u001b[0;32mexcept\u001b[0m \u001b[0mKeyError\u001b[0m\u001b[0;34m:\u001b[0m\u001b[0;34m\u001b[0m\u001b[0;34m\u001b[0m\u001b[0m\n\u001b[1;32m    674\u001b[0m             \u001b[0;31m# raise KeyError with the original key value\u001b[0m\u001b[0;34m\u001b[0m\u001b[0;34m\u001b[0m\u001b[0;34m\u001b[0m\u001b[0m\n\u001b[0;32m--> 675\u001b[0;31m             \u001b[0;32mraise\u001b[0m \u001b[0mKeyError\u001b[0m\u001b[0;34m(\u001b[0m\u001b[0mkey\u001b[0m\u001b[0;34m)\u001b[0m \u001b[0;32mfrom\u001b[0m \u001b[0;32mNone\u001b[0m\u001b[0;34m\u001b[0m\u001b[0;34m\u001b[0m\u001b[0m\n\u001b[0m\u001b[1;32m    676\u001b[0m         \u001b[0;32mreturn\u001b[0m \u001b[0mself\u001b[0m\u001b[0;34m.\u001b[0m\u001b[0mdecodevalue\u001b[0m\u001b[0;34m(\u001b[0m\u001b[0mvalue\u001b[0m\u001b[0;34m)\u001b[0m\u001b[0;34m\u001b[0m\u001b[0;34m\u001b[0m\u001b[0m\n\u001b[1;32m    677\u001b[0m \u001b[0;34m\u001b[0m\u001b[0m\n",
      "\u001b[0;31mKeyError\u001b[0m: 'NOT_A_VARIABLE'"
     ]
    }
   ],
   "source": [
    "import os\n",
    "from dotenv import load_dotenv\n",
    "\n",
    "load_dotenv()\n",
    "\n",
    "print(os.getenv('VARIABLE'))\n",
    "print(os.getenv('NOT_A_VARIABLE'))\n",
    "\n",
    "print(os.environ.get('VARIABLE'))\n",
    "print(os.environ.get('NOT_A_VARIABLE'))\n",
    "\n",
    "print(os.environ['VARIABLE'])\n",
    "print(os.environ['NOT_A_VARIABLE'])"
   ]
  },
  {
   "cell_type": "markdown",
   "id": "eb8663de-27f4-4223-a2c7-f60437f66ed3",
   "metadata": {},
   "source": [
    "Otherwise you need to specify the location of the .env file you want to load the variables from."
   ]
  },
  {
   "cell_type": "code",
   "execution_count": 83,
   "id": "a0dd833c-ce91-4c2a-962c-05dd4879e461",
   "metadata": {},
   "outputs": [
    {
     "name": "stdout",
     "output_type": "stream",
     "text": [
      "also a value\n",
      "/Users/alexwalbridge/code/1_resources/1_code/.env\n"
     ]
    },
    {
     "data": {
      "text/plain": [
       "True"
      ]
     },
     "execution_count": 83,
     "metadata": {},
     "output_type": "execute_result"
    }
   ],
   "source": [
    "from dotenv import load_dotenv, find_dotenv\n",
    "\n",
    "dotenv_path = os.path.join('data','.env')\n",
    "\n",
    "load_dotenv(dotenv_path=dotenv_path)\n",
    "\n",
    "print(os.getenv('ANOTHER_VARIABLE'))\n",
    "\n",
    "# load_dotenv() can have difficulty finding the .env file when giving a relative folder location. \n",
    "# If this is an issue, you the find_dotenv() function to return the location of the \"closest\" .env file.\n",
    "\n",
    "print(find_dotenv())\n",
    "\n",
    "load_dotenv(find_dotenv())\n"
   ]
  },
  {
   "cell_type": "markdown",
   "id": "6b1a9b55-2b7c-4e8c-8164-ac5dc98aa7d6",
   "metadata": {},
   "source": [
    "### Using direnv"
   ]
  },
  {
   "cell_type": "markdown",
   "id": "a5d95ddf-8c42-4a6f-9537-b59232237a76",
   "metadata": {},
   "source": [
    "direnv needs to be run from the CLI"
   ]
  },
  {
   "cell_type": "code",
   "execution_count": 75,
   "id": "613fdaea-e7b7-4ab5-b81a-11ef93f0e0a6",
   "metadata": {},
   "outputs": [
    {
     "name": "stdout",
     "output_type": "stream",
     "text": [
      "git version 2.37.3\n",
      "returned value: 0\n"
     ]
    }
   ],
   "source": [
    "import os\n",
    "\n",
    "cmd = \"git --version\"\n",
    "\n",
    "returned_value = os.system(cmd)  # returns the exit code in unix\n",
    "\n",
    "print('returned value:', returned_value)"
   ]
  },
  {
   "cell_type": "code",
   "execution_count": 79,
   "id": "2d763474-33dc-48cf-abc3-d09773be5aa7",
   "metadata": {},
   "outputs": [
    {
     "data": {
      "text/plain": [
       "0"
      ]
     },
     "execution_count": 79,
     "metadata": {},
     "output_type": "execute_result"
    }
   ],
   "source": [
    "os.system('direnv allow .')"
   ]
  },
  {
   "cell_type": "code",
   "execution_count": 80,
   "id": "a75b6800-1d08-4b9b-bfaa-b3ff6dc0e76f",
   "metadata": {},
   "outputs": [
    {
     "name": "stdout",
     "output_type": "stream",
     "text": [
      "direnv exec path /usr/local/bin/direnv\n",
      "DIRENV_CONFIG /Users/alexwalbridge/.config/direnv\n",
      "bash_path /bin/bash\n",
      "disable_stdin false\n",
      "warn_timeout 5s\n",
      "whitelist.prefix []\n",
      "whitelist.exact map[]\n",
      "No .envrc or .env loaded\n",
      "Found RC path /Users/alexwalbridge/code/1_resources/1_code/.envrc\n",
      "Found watch: \".envrc\" - 2022-10-10T14:52:02+08:00\n",
      "Found watch: \"../../../.local/share/direnv/allow/1be76ddd95dd23c001dff659104a447ee7cf728b682a70f67e667496c22f3211\" - 2022-10-10T14:52:06+08:00\n",
      "Found RC allowed true\n",
      "Found RC allowPath /Users/alexwalbridge/.local/share/direnv/allow/1be76ddd95dd23c001dff659104a447ee7cf728b682a70f67e667496c22f3211\n"
     ]
    },
    {
     "data": {
      "text/plain": [
       "0"
      ]
     },
     "execution_count": 80,
     "metadata": {},
     "output_type": "execute_result"
    }
   ],
   "source": [
    "# os.system('direnv reload')\n",
    "os.system('direnv status')"
   ]
  },
  {
   "cell_type": "markdown",
   "id": "e10bda80-a837-4aad-90b9-1fb2d4ee4b4a",
   "metadata": {},
   "source": [
    "## Math Module"
   ]
  },
  {
   "cell_type": "markdown",
   "id": "4c801696-7dca-45ac-a37a-5f1613f67e19",
   "metadata": {},
   "source": [
    "### math.log()\n",
    "\n",
    "Useful function for log transformations"
   ]
  },
  {
   "cell_type": "code",
   "execution_count": 1,
   "id": "22c224cb-4ec7-4c46-8040-9526cfe1eb3d",
   "metadata": {},
   "outputs": [
    {
     "data": {
      "text/plain": [
       "2.0"
      ]
     },
     "execution_count": 1,
     "metadata": {},
     "output_type": "execute_result"
    }
   ],
   "source": [
    "import math\n",
    "\n",
    "math.log(100,10)"
   ]
  },
  {
   "cell_type": "markdown",
   "id": "e977621a-c72c-4ca8-a65b-a104ad4e74e3",
   "metadata": {},
   "source": [
    "### math.atan()\n",
    "\n",
    "arctan trig transformation"
   ]
  },
  {
   "cell_type": "code",
   "execution_count": 6,
   "id": "fe62aa0d-e611-48e4-8bff-757ea85bb7d1",
   "metadata": {},
   "outputs": [],
   "source": [
    "import math\n",
    "import matplotlib.pyplot as plt"
   ]
  },
  {
   "cell_type": "code",
   "execution_count": 9,
   "id": "55c7a714-9d1a-44ef-ab52-3ca88df295de",
   "metadata": {},
   "outputs": [
    {
     "data": {
      "text/plain": [
       "[<matplotlib.lines.Line2D at 0x113020430>]"
      ]
     },
     "execution_count": 9,
     "metadata": {},
     "output_type": "execute_result"
    },
    {
     "data": {
      "image/png": "[encoded data removed]",
      "text/plain": [
       "<Figure size 432x288 with 1 Axes>"
      ]
     },
     "metadata": {
      "needs_background": "light"
     },
     "output_type": "display_data"
    }
   ],
   "source": [
    "x = [x for x in range(-201,200,2)]\n",
    "\n",
    "# plt.plot(x)\n",
    "\n",
    "y = [math.atan(1/_) for _ in x]\n",
    "\n",
    "plt.plot(y)"
   ]
  },
  {
   "cell_type": "markdown",
   "id": "88e3c1f5-733c-491a-8fef-b3fd0c47d06f",
   "metadata": {},
   "source": [
    "## Python String format() Method"
   ]
  },
  {
   "cell_type": "markdown",
   "id": "6fc2386d-79d9-423b-a717-a567bcb68e6e",
   "metadata": {},
   "source": [
    "### Method 1: using f-string"
   ]
  },
  {
   "cell_type": "code",
   "execution_count": 21,
   "id": "f648c382-f802-41ad-8293-338893f7a288",
   "metadata": {},
   "outputs": [
    {
     "name": "stdout",
     "output_type": "stream",
     "text": [
      "1,000,000,000\n",
      "1000000000.000000\n",
      "1,000,000,000.0000\n"
     ]
    }
   ],
   "source": [
    "num = 1000000000\n",
    " \n",
    "print(f\"{num:,d}\\n{num:f}\\n{num:,.4f}\")"
   ]
  },
  {
   "cell_type": "code",
   "execution_count": 19,
   "id": "b2f4b5d1-ad64-49d4-97fb-4e170f9151e1",
   "metadata": {},
   "outputs": [
    {
     "name": "stdout",
     "output_type": "stream",
     "text": [
      "123,456.12\n",
      "123456.12\n",
      "123,456.12346\n"
     ]
    }
   ],
   "source": [
    "num = 123456.1234567\n",
    "\n",
    "print(f'{num:,.2f}\\n{num:.2f}\\n{num:,.5f}')"
   ]
  },
  {
   "cell_type": "markdown",
   "id": "d01d3edf-2e7b-418a-a465-e1f24222be2a",
   "metadata": {},
   "source": [
    "### Method 2: string.format()"
   ]
  },
  {
   "cell_type": "code",
   "execution_count": 11,
   "id": "30861f19-308f-497c-91ea-68e96a8a31a4",
   "metadata": {},
   "outputs": [
    {
     "name": "stdout",
     "output_type": "stream",
     "text": [
      "1,000,000\n"
     ]
    }
   ],
   "source": [
    "res = '{:,}'.format(1000000)\n",
    "\n",
    "print(res)"
   ]
  },
  {
   "cell_type": "code",
   "execution_count": 12,
   "id": "09b1f793-e7aa-43af-81b3-628ff42a4416",
   "metadata": {},
   "outputs": [
    {
     "name": "stdout",
     "output_type": "stream",
     "text": [
      "123,456.12\n"
     ]
    }
   ],
   "source": [
    "num = 123456.1234567\n",
    " \n",
    "res = '{:,.2f}'.format(num)\n",
    "print(res)"
   ]
  },
  {
   "cell_type": "markdown",
   "id": "6f01a0dc-e332-44f2-b49e-5273c811f50e",
   "metadata": {},
   "source": [
    "### Padding Substitutions or Generating Spaces"
   ]
  },
  {
   "cell_type": "markdown",
   "id": "3b0b8dbc-29de-4b78-a98d-3698e2d567fd",
   "metadata": {},
   "source": [
    "#### Example: Demonstration of spacing when strings are passed as parameters\n",
    "\n",
    "By default, strings are left-justified within the field, and numbers are right-justified. We can modify this by placing an alignment code just following the colon.\n",
    "\n",
    "   - `<`   :  left-align text in the field\n",
    "   - `^`   :  center text in the field\n",
    "   - `>`   :  right-align text in the field"
   ]
  },
  {
   "cell_type": "code",
   "execution_count": 22,
   "id": "c2a6958a-21b0-41af-9ddb-9e5fd93aafb6",
   "metadata": {},
   "outputs": [
    {
     "name": "stdout",
     "output_type": "stream",
     "text": [
      "GeeksforGeeks, is the computer science portal for geeks   !\n",
      "It is    40 degrees outside !\n",
      "GeeksforGeeks was founded in             2009!\n",
      " GeeksforGeeks   was founded in 2009!\n",
      "*******Geeks********\n"
     ]
    }
   ],
   "source": [
    "# To demonstrate spacing when\n",
    "# strings are passed as parameters\n",
    "print(\"{0:4}, is the computer science portal for {1:8}!\"\n",
    "      .format(\"GeeksforGeeks\", \"geeks\"))\n",
    " \n",
    "# To demonstrate spacing when numeric\n",
    "# constants are passed as parameters.\n",
    "print(\"It is {0:5} degrees outside !\"\n",
    "      .format(40))\n",
    " \n",
    "# To demonstrate both string and numeric\n",
    "# constants passed as parameters\n",
    "print(\"{0:4} was founded in {1:16}!\"\n",
    "      .format(\"GeeksforGeeks\", 2009))\n",
    " \n",
    "# To demonstrate aligning of spaces\n",
    "print(\"{0:^16} was founded in {1:<4}!\"\n",
    "      .format(\"GeeksforGeeks\", 2009))\n",
    " \n",
    "print(\"{:*^20s}\".format(\"Geeks\"))"
   ]
  },
  {
   "cell_type": "markdown",
   "id": "18808c30-2bcf-4e0d-bba8-f2dda4c1b29f",
   "metadata": {},
   "source": [
    "#### Example: To demonstrate the organization of large data using format()"
   ]
  },
  {
   "cell_type": "code",
   "execution_count": 24,
   "id": "a8b8a05c-edd6-4975-80cb-9a5802547f3b",
   "metadata": {},
   "outputs": [
    {
     "name": "stdout",
     "output_type": "stream",
     "text": [
      "------Before Using Formatters-------\n",
      "3 9 27 81\n",
      "4 16 64 256\n",
      "5 25 125 625\n",
      "6 36 216 1296\n",
      "7 49 343 2401\n",
      "8 64 512 4096\n",
      "9 81 729 6561\n",
      "\n",
      "-------After Using Formatters---------\n",
      "\n",
      "     3      9     27     81\n",
      "     4     16     64    256\n",
      "     5     25    125    625\n",
      "     6     36    216   1296\n",
      "     7     49    343   2401\n",
      "     8     64    512   4096\n",
      "     9     81    729   6561\n"
     ]
    }
   ],
   "source": [
    "# which prints out i, i ^ 2, i ^ 3,\n",
    "#  i ^ 4 in the given range\n",
    " \n",
    "# Function prints out values\n",
    "# in an unorganized manner\n",
    "def unorganized(a, b):\n",
    "    for i in range(a, b):\n",
    "        print(i, i**2, i**3, i**4)\n",
    " \n",
    "# Function prints the organized set of values\n",
    "def organized(a, b):\n",
    "    for i in range(a, b):\n",
    " \n",
    "        # Using formatters to give 6\n",
    "        # spaces to each set of values\n",
    "        print(\"{:6d} {:6d} {:6d} {:6d}\"\n",
    "              .format(i, i ** 2, i ** 3, i ** 4))\n",
    " \n",
    "# Driver Code\n",
    "n1 = 3\n",
    "n2 = 10\n",
    " \n",
    "print(\"------Before Using Formatters-------\")\n",
    " \n",
    "# Calling function without formatters\n",
    "unorganized(n1, n2)\n",
    " \n",
    "print()\n",
    "print(\"-------After Using Formatters---------\")\n",
    "print()\n",
    " \n",
    "# Calling function that contains\n",
    "# formatters to organize the data\n",
    "organized(n1, n2)"
   ]
  },
  {
   "cell_type": "code",
   "execution_count": 27,
   "id": "aeaafd16-ef5e-4774-905b-04119de0b42f",
   "metadata": {},
   "outputs": [
    {
     "name": "stdout",
     "output_type": "stream",
     "text": [
      "Equity:      18,989,629\n",
      "Total Liab:   7,382,445\n",
      "Total Debt:   4,731,303\n"
     ]
    }
   ],
   "source": [
    "scale = 1e6\n",
    "\n",
    "equity = 18989629000000/scale\n",
    "\n",
    "print(\"{:<12} {:>10,.0f}\".format('Equity:',equity))\n",
    "\n",
    "TL = 7382445000000.0/scale\n",
    "\n",
    "print(\"{:<12} {:>10,.0f}\".format(\"Total Liab:\", TL))\n",
    "\n",
    "TD = 4731303000000.0/scale\n",
    "\n",
    "print(\"{:<12} {:>10,.0f}\".format(\"Total Debt:\", TD))"
   ]
  },
  {
   "cell_type": "markdown",
   "id": "f7155be4-f63a-442d-a1b6-45cb4f02793d",
   "metadata": {},
   "source": [
    "### Format numbers in scientific notation"
   ]
  },
  {
   "cell_type": "code",
   "execution_count": 29,
   "id": "ca207606-6bf8-45ec-a50c-144d9eab2e83",
   "metadata": {},
   "outputs": [
    {
     "name": "stdout",
     "output_type": "stream",
     "text": [
      "1.234568e+08\n",
      "1.23e+08\n",
      "1.234568E+08\n"
     ]
    }
   ],
   "source": [
    "num = 123456789\n",
    "\n",
    "# Method 1:\n",
    "print(\"{:e}\".format(num))\n",
    "print(\"{:.2e}\".format(num))\n",
    "\n",
    "# Method 2:\n",
    "print(f\"{num:E}\")"
   ]
  },
  {
   "cell_type": "markdown",
   "id": "49115a00-5180-46f8-810b-b634426d2c61",
   "metadata": {},
   "source": [
    "### Format Number to Other Base\n",
    "\n",
    "There are few format specifiers to format a number to other bases.\n",
    "\n",
    "For example:\n",
    "\n",
    "   - `b` for binary\n",
    "   - `o` for octal\n",
    "   - `x` for hexadecimal\n"
   ]
  },
  {
   "cell_type": "code",
   "execution_count": 30,
   "id": "00fdbbec-1bcc-4a56-92b5-f1c110efe41c",
   "metadata": {},
   "outputs": [
    {
     "name": "stdout",
     "output_type": "stream",
     "text": [
      "12345 in binary is 11000000111001\n",
      "12345 in octal is 30071\n",
      "12345 in hexadecimal is 3039\n"
     ]
    }
   ],
   "source": [
    "num = 12345\n",
    "\n",
    "# binary Format\n",
    "print(f\"{num} in binary is {num:b}\")\n",
    "\n",
    "# octal Format\n",
    "print(f\"{num} in octal is {num:o}\")\n",
    "\n",
    "# hexadecimal Format\n",
    "print(f\"{num} in hexadecimal is {num:x}\")"
   ]
  },
  {
   "cell_type": "markdown",
   "id": "64b77b4d-cb32-40da-9e18-b7ddf800d40e",
   "metadata": {},
   "source": [
    "### Separators"
   ]
  },
  {
   "cell_type": "code",
   "execution_count": 31,
   "id": "d4a87ba4-46c2-49b0-a6ff-06289c91cc25",
   "metadata": {},
   "outputs": [
    {
     "name": "stdout",
     "output_type": "stream",
     "text": [
      "1,000,000\n",
      "1_000_000\n"
     ]
    }
   ],
   "source": [
    "x = 1000000\n",
    "\n",
    "print(f\"{x:,}\")  # 1,000,000\n",
    "print(f\"{x:_}\")  # 1_000_000"
   ]
  },
  {
   "cell_type": "code",
   "execution_count": 32,
   "id": "bc7be576-bf78-4e39-af84-f1dd7b2df672",
   "metadata": {},
   "outputs": [
    {
     "name": "stdout",
     "output_type": "stream",
     "text": [
      "4,863.434\n",
      "4_863.434\n"
     ]
    }
   ],
   "source": [
    "x = 4863.4343091\n",
    "\n",
    "print(f\"{x:,.3f}\")  # 4,863.434\n",
    "print(f\"{x:_.3f}\")  # 4_863.434"
   ]
  },
  {
   "cell_type": "markdown",
   "id": "93ef3cc5-24d7-4f84-a740-ee6cf632de06",
   "metadata": {},
   "source": [
    "### Using a dictionary for string formatting \n",
    "\n",
    "Using a dictionary to unpack values into the placeholders in the string that needs to be formatted. We basically use ** to unpack the values. This method can be useful in string substitution while preparing an SQL query."
   ]
  },
  {
   "cell_type": "code",
   "execution_count": 25,
   "id": "cab4d820-54cb-4908-be5d-94a73387fb7b",
   "metadata": {},
   "outputs": [
    {
     "name": "stdout",
     "output_type": "stream",
     "text": [
      "My name is Tony Howard Stark AKA the Iron Man.\n"
     ]
    }
   ],
   "source": [
    "introduction = 'My name is {first_name} {middle_name} {last_name} AKA the {aka}.'\n",
    "full_name = {\n",
    "    'first_name': 'Tony',\n",
    "    'middle_name': 'Howard',\n",
    "    'last_name': 'Stark',\n",
    "    'aka': 'Iron Man',\n",
    "}\n",
    " \n",
    "# Notice the use of \"**\" operator to unpack the values.\n",
    "print(introduction.format(**full_name))"
   ]
  },
  {
   "cell_type": "markdown",
   "id": "31c95192-e3e7-41d3-9c83-c01dc0f3f1df",
   "metadata": {},
   "source": [
    "### Python format() with list\n",
    "\n",
    "Given a list of float values, the task is to truncate all float values to 2-decimal digits. Let’s see the different methods to do the task."
   ]
  },
  {
   "cell_type": "code",
   "execution_count": 26,
   "id": "7e986c7f-0066-4b96-be42-99dadca3dfcd",
   "metadata": {},
   "outputs": [
    {
     "name": "stdout",
     "output_type": "stream",
     "text": [
      "['100.77', '17.23', '60.99', '300.84']\n"
     ]
    }
   ],
   "source": [
    "# Python code to truncate float\n",
    "# values to 2 decimal digits.\n",
    "   \n",
    "# List initialization\n",
    "Input = [100.7689454, 17.232999, 60.98867, 300.83748789]\n",
    "   \n",
    "# Using format\n",
    "Output = ['{:.2f}'.format(elem) for elem in Input]\n",
    "   \n",
    "# Print output\n",
    "print(Output)"
   ]
  },
  {
   "cell_type": "markdown",
   "id": "097ab8f8-5e42-442a-881d-10fcca836237",
   "metadata": {},
   "source": [
    "# Class Objects"
   ]
  },
  {
   "cell_type": "code",
   "execution_count": 47,
   "id": "a878b05b-847c-465c-9caa-5c8c06a2f5e4",
   "metadata": {},
   "outputs": [],
   "source": [
    "class Person:\n",
    "    \n",
    "    # CLASS ATTRIBUTES\n",
    "    species = 'human'\n",
    "\n",
    "    def __init__(self, first_name, last_name, age):\n",
    "        self.first_name = first_name\n",
    "        self.last_name = last_name\n",
    "        self.age = age\n",
    "\n",
    "    # YOU NEED TO INCLUDE self AS THE FIRST ARGUMENT TO ANY METHOD\n",
    "    # THIS ALLOWS THE FUNCTION TO ACCESS THE self OBJECTS ATTRIBUTES\n",
    "    \n",
    "    def get_full_name(self):\n",
    "        return f\"{self.first_name} {self.last_name}\"\n",
    "\n",
    "    def introduce(self):\n",
    "        return f\"Hi. I'm {self.first_name} {self.last_name}. I'm {self.age} years old.\"\n",
    "\n",
    "    # YOU NEED TO PLACE THE @classmethod DECORATOR ABOVE THE METHOD\n",
    "    # YOU ALSO NEED TO USE cls INSTEAD OF self, AS cls IS THE CLASS ITSELF\n",
    "\n",
    "    @classmethod\n",
    "    def create_anonymous(cls):\n",
    "        return cls('John', 'Doe', 25)\n",
    "\n",
    "    \n"
   ]
  },
  {
   "cell_type": "code",
   "execution_count": 54,
   "id": "579aee1f-e895-4582-8e8d-1600dfdbea64",
   "metadata": {},
   "outputs": [
    {
     "name": "stdout",
     "output_type": "stream",
     "text": [
      "{'first_name': 'John', 'last_name': 'Doe', 'age': 25}\n",
      "human\n"
     ]
    }
   ],
   "source": [
    "person_anon = Person.create_anonymous()\n",
    "\n",
    "print(person_anon.__dict__)\n",
    "print(person_anon.species)\n"
   ]
  },
  {
   "cell_type": "code",
   "execution_count": 55,
   "id": "1754cd12-c20e-47f5-bce6-e207a44dda1b",
   "metadata": {},
   "outputs": [],
   "source": [
    "person_2 = Person('mike','smith',34)"
   ]
  },
  {
   "cell_type": "code",
   "execution_count": 58,
   "id": "258797bb-fee0-4cae-9b5b-d56e1460be7a",
   "metadata": {},
   "outputs": [
    {
     "data": {
      "text/plain": [
       "'dog'"
      ]
     },
     "execution_count": 58,
     "metadata": {},
     "output_type": "execute_result"
    }
   ],
   "source": [
    "Person.species = 'dog'\n",
    "\n",
    "person_2.species"
   ]
  },
  {
   "cell_type": "code",
   "execution_count": 63,
   "id": "20bb089f-c640-4597-9fe3-8da8816f469f",
   "metadata": {},
   "outputs": [
    {
     "name": "stdout",
     "output_type": "stream",
     "text": [
      "first second third 2\n"
     ]
    }
   ],
   "source": [
    "class Number :\n",
    "      \n",
    "    # Class Attributes\n",
    "    one = 'first'\n",
    "    two = 'second'\n",
    "    three = 'third'\n",
    "      \n",
    "    def __init__(self, attr):\n",
    "        self.attr = attr\n",
    "          \n",
    "    def show(self): \n",
    "        print(Number.one, self.two, self.three, self.attr)\n",
    "          \n",
    "n = Number(2)\n",
    "n.show()"
   ]
  },
  {
   "cell_type": "code",
   "execution_count": null,
   "id": "aefe3dc6-0ac9-45c8-b8cc-399abbd62016",
   "metadata": {},
   "outputs": [],
   "source": []
  }
 ],
 "metadata": {
  "kernelspec": {
   "display_name": "Python 3 (ipykernel)",
   "language": "python",
   "name": "python3"
  },
  "language_info": {
   "codemirror_mode": {
    "name": "ipython",
    "version": 3
   },
   "file_extension": ".py",
   "mimetype": "text/x-python",
   "name": "python",
   "nbconvert_exporter": "python",
   "pygments_lexer": "ipython3",
   "version": "3.8.12"
  }
 },
 "nbformat": 4,
 "nbformat_minor": 5
}
