{
 "cells": [
  {
   "cell_type": "markdown",
   "id": "2b183cdb-97f7-40ea-ac31-6cfa820f815e",
   "metadata": {},
   "source": [
    "# Pandas"
   ]
  },
  {
   "cell_type": "code",
   "execution_count": 2,
   "id": "7a6e5d40-8e58-46c4-9069-1ce73644ac8d",
   "metadata": {},
   "outputs": [],
   "source": [
    "import pandas as pd\n",
    "import numpy as np\n",
    "import math"
   ]
  },
  {
   "cell_type": "markdown",
   "id": "47597580-a02a-4ded-adc1-7b942eb9a8f3",
   "metadata": {},
   "source": [
    "## Creating a DataFrame"
   ]
  },
  {
   "cell_type": "markdown",
   "id": "9797be15-0475-4361-a930-fc6b205dc6dd",
   "metadata": {},
   "source": [
    "There are two ways of calling a column in a DataFrame as a series\n"
   ]
  },
  {
   "cell_type": "code",
   "execution_count": null,
   "id": "44eceb30-2956-4f20-aa5e-f22604f085cd",
   "metadata": {},
   "outputs": [],
   "source": [
    "#1 With single double brackets\n",
    "\n",
    "df['order_status']\n",
    "\n",
    "#2 As an attribute\n",
    "\n",
    "orders.order_status\n"
   ]
  },
  {
   "cell_type": "markdown",
   "id": "001251b1-0b22-40b6-87d0-b4a05ba11410",
   "metadata": {},
   "source": [
    "## Pandas Methods"
   ]
  },
  {
   "cell_type": "markdown",
   "id": "16c2af8f-7a7e-4a23-8fe0-115cd4b6771f",
   "metadata": {},
   "source": [
    "### pd.Series.unique() Method"
   ]
  },
  {
   "cell_type": "markdown",
   "id": "362e4e37-2890-4960-8aea-ae89f43ce912",
   "metadata": {},
   "source": [
    "This method can be used with pandas **Series**, not DataFrames, and will return a list of all the unique values in the series. "
   ]
  },
  {
   "cell_type": "code",
   "execution_count": null,
   "id": "c9d65501-f66c-4bc9-b0ee-83d06a9f37fc",
   "metadata": {},
   "outputs": [],
   "source": [
    "df['order_status'].unique()"
   ]
  },
  {
   "cell_type": "code",
   "execution_count": null,
   "id": "2d8396fa-c3ab-4f49-b118-967115a024e5",
   "metadata": {},
   "outputs": [],
   "source": [
    "df.order_status.unique()"
   ]
  },
  {
   "cell_type": "markdown",
   "id": "1ce20bf8-db7b-46c9-925c-c168c185ce01",
   "metadata": {},
   "source": [
    "### pd.to_datetime() Method"
   ]
  },
  {
   "cell_type": "markdown",
   "id": "afc27d1a-ec46-4185-b2e4-c1d854aaee09",
   "metadata": {},
   "source": [
    "https://pandas.pydata.org/pandas-docs/stable/reference/api/pandas.to_datetime.html\n",
    "\n",
    "Note that in the example below, the information within a dataframe should be called as a Series (with single brackets), not as the column of a dataframe.\n",
    "\n",
    "If a DataFrame is provided, the method expects minimally the following columns: \"year\", \"month\", \"day\"."
   ]
  },
  {
   "cell_type": "code",
   "execution_count": 97,
   "id": "14e7cae8-61ad-4bd1-9e0c-0586de571a50",
   "metadata": {},
   "outputs": [
    {
     "data": {
      "text/html": [
       "<div>\n",
       "<style scoped>\n",
       "    .dataframe tbody tr th:only-of-type {\n",
       "        vertical-align: middle;\n",
       "    }\n",
       "\n",
       "    .dataframe tbody tr th {\n",
       "        vertical-align: top;\n",
       "    }\n",
       "\n",
       "    .dataframe thead th {\n",
       "        text-align: right;\n",
       "    }\n",
       "</style>\n",
       "<table border=\"1\" class=\"dataframe\">\n",
       "  <thead>\n",
       "    <tr style=\"text-align: right;\">\n",
       "      <th></th>\n",
       "      <th>Date</th>\n",
       "    </tr>\n",
       "  </thead>\n",
       "  <tbody>\n",
       "    <tr>\n",
       "      <th>0</th>\n",
       "      <td>2022-08-23</td>\n",
       "    </tr>\n",
       "    <tr>\n",
       "      <th>1</th>\n",
       "      <td>2022-08-23</td>\n",
       "    </tr>\n",
       "    <tr>\n",
       "      <th>2</th>\n",
       "      <td>2022-08-23</td>\n",
       "    </tr>\n",
       "    <tr>\n",
       "      <th>3</th>\n",
       "      <td>2022-08-23</td>\n",
       "    </tr>\n",
       "  </tbody>\n",
       "</table>\n",
       "</div>"
      ],
      "text/plain": [
       "         Date\n",
       "0  2022-08-23\n",
       "1  2022-08-23\n",
       "2  2022-08-23\n",
       "3  2022-08-23"
      ]
     },
     "metadata": {},
     "output_type": "display_data"
    },
    {
     "name": "stdout",
     "output_type": "stream",
     "text": [
      "\n",
      "\n",
      "<class 'pandas.core.frame.DataFrame'>\n",
      "RangeIndex: 4 entries, 0 to 3\n",
      "Data columns (total 1 columns):\n",
      " #   Column  Non-Null Count  Dtype \n",
      "---  ------  --------------  ----- \n",
      " 0   Date    4 non-null      object\n",
      "dtypes: object(1)\n",
      "memory usage: 160.0+ bytes\n"
     ]
    },
    {
     "data": {
      "text/plain": [
       "None"
      ]
     },
     "metadata": {},
     "output_type": "display_data"
    }
   ],
   "source": [
    "# Create DataFrame Of String Format Dates\n",
    "\n",
    "df = pd.DataFrame({'Date':[\"2022-08-23\",\n",
    "                           \"2022-08-23\",\n",
    "                           \"2022-08-23\",\n",
    "                           \"2022-08-23\"]\n",
    "                  }\n",
    "                 )\n",
    "\n",
    "display(df)\n",
    "print('\\n')\n",
    "display(df.info())"
   ]
  },
  {
   "cell_type": "markdown",
   "id": "00980944-51ff-4087-a75a-187442b7df26",
   "metadata": {},
   "source": [
    "#### Converting A Series To DateTime & Back"
   ]
  },
  {
   "cell_type": "code",
   "execution_count": 95,
   "id": "fa86c181-dee2-4ced-9319-1cb4cd6fe480",
   "metadata": {},
   "outputs": [
    {
     "name": "stdout",
     "output_type": "stream",
     "text": [
      "<class 'pandas.core.frame.DataFrame'>\n",
      "RangeIndex: 9 entries, 0 to 8\n",
      "Data columns (total 1 columns):\n",
      " #   Column  Non-Null Count  Dtype         \n",
      "---  ------  --------------  -----         \n",
      " 0   Date    9 non-null      datetime64[ns]\n",
      "dtypes: datetime64[ns](1)\n",
      "memory usage: 200.0 bytes\n"
     ]
    },
    {
     "data": {
      "text/plain": [
       "None"
      ]
     },
     "metadata": {},
     "output_type": "display_data"
    },
    {
     "data": {
      "text/plain": [
       "0    2022-08-23\n",
       "1    2022-08-23\n",
       "2    2022-08-23\n",
       "3    2022-08-23\n",
       "4    2022-08-23\n",
       "5    2022-08-23\n",
       "6    2022-08-23\n",
       "7    2022-08-23\n",
       "8    2022-08-23\n",
       "Name: Date, dtype: object"
      ]
     },
     "execution_count": 95,
     "metadata": {},
     "output_type": "execute_result"
    }
   ],
   "source": [
    "# Convert 'Date' Column with 'to_datetime()' function\n",
    "\n",
    "df[\"Date\"]= pd.to_datetime(df[\"Date\"])\n",
    "\n",
    "display(df.info())\n",
    "\n",
    "# Convert back to string format with specified date format\n",
    "\n",
    "df['Date'].dt.strftime('%Y-%m-%d')"
   ]
  },
  {
   "cell_type": "markdown",
   "id": "d000b816-00d2-4ce6-8687-8c72576b8f79",
   "metadata": {},
   "source": [
    "#### Converting A Single Value To DateTime & Back"
   ]
  },
  {
   "cell_type": "markdown",
   "id": "2238178d-4055-4f8c-aa86-6261ce518afd",
   "metadata": {},
   "source": [
    "You can convert a single string to datetime and convert a datetime 'timestamp' back as below. You need to use this method when dealing with a single datapoint, as opposed to a series. "
   ]
  },
  {
   "cell_type": "code",
   "execution_count": 77,
   "id": "3e55c2a5-7165-472d-b8a6-46638809628a",
   "metadata": {},
   "outputs": [
    {
     "name": "stdout",
     "output_type": "stream",
     "text": [
      "2022-08-23\n",
      "2022-08-23 00:00:00\n",
      "<class 'pandas._libs.tslibs.timestamps.Timestamp'>\n",
      "['2022-08-23', '00:00:00']\n",
      "2022-08-23\n"
     ]
    }
   ],
   "source": [
    "str_date = \"2022-08-23\"\n",
    "print(str_date)\n",
    "\n",
    "date = pd.to_datetime(str_date)\n",
    "\n",
    "print(date)\n",
    "print(type(date))\n",
    "\n",
    "str_date = str(date).split()\n",
    "print(str_date)\n",
    "\n",
    "print(str_date[0])"
   ]
  },
  {
   "cell_type": "markdown",
   "id": "41201f7e-5ef8-426a-914e-7601340ef8c1",
   "metadata": {},
   "source": [
    "#### pd.DateOffset()"
   ]
  },
  {
   "cell_type": "code",
   "execution_count": 79,
   "id": "1d81f1a7-af89-486d-97f6-7157cf14603c",
   "metadata": {},
   "outputs": [
    {
     "name": "stdout",
     "output_type": "stream",
     "text": [
      "2022-08-23 00:00:00\n",
      "2023-10-01 01:01:01\n"
     ]
    }
   ],
   "source": [
    "print(date)\n",
    "\n",
    "print(date + pd.DateOffset(years = 1,\n",
    "                          months = 1,\n",
    "                          weeks = 1, \n",
    "                          days = 1, \n",
    "                          hours = 1, \n",
    "                          minutes = 1, \n",
    "                          seconds = 1)\n",
    "     )\n"
   ]
  },
  {
   "cell_type": "markdown",
   "id": "5428d585-0bac-4e12-8052-b1d31fba5d14",
   "metadata": {},
   "source": [
    "### pd.DataFrame.groupby() Method"
   ]
  },
  {
   "cell_type": "markdown",
   "id": "71c4d82e-4d31-4789-8701-e7d77f1ed547",
   "metadata": {},
   "source": [
    "Needs to have an action to do on the rows not being 'grouped by'."
   ]
  },
  {
   "cell_type": "code",
   "execution_count": null,
   "id": "fea5f805-412b-4ffb-8568-55104c555711",
   "metadata": {},
   "outputs": [],
   "source": [
    "df[['order_id','product_id']].groupby('order_id').count()"
   ]
  },
  {
   "cell_type": "code",
   "execution_count": null,
   "id": "b46d56d3-94e5-4a80-94bc-2b76c18ba6cc",
   "metadata": {},
   "outputs": [],
   "source": [
    "df[['order_id','product_id']].groupby('order_id').sum()"
   ]
  },
  {
   "cell_type": "code",
   "execution_count": null,
   "id": "11809040-7d24-423d-b449-739e187ede9b",
   "metadata": {},
   "outputs": [],
   "source": [
    "order_items[['order_id','seller_id']].groupby('order_id').nunique()"
   ]
  },
  {
   "cell_type": "markdown",
   "id": "efc4b626-6805-4ae3-ae7a-38ea5177dc41",
   "metadata": {},
   "source": [
    "### pd.Series.agg() Method"
   ]
  },
  {
   "cell_type": "markdown",
   "id": "fb2e77d9-d847-411e-9d54-3da5717464ff",
   "metadata": {},
   "source": [
    "**CAN BE USED IN GROUPBY() ON A DATAFRAME**\n",
    "\n",
    "Allows you to perform different operations on columns that are grouped in a single "
   ]
  },
  {
   "cell_type": "code",
   "execution_count": null,
   "id": "eb9496d9-21d5-45c8-98d0-4585bb68e6a3",
   "metadata": {},
   "outputs": [],
   "source": [
    "df[['order_id','price','freight_value']].groupby('order_id').agg({'price': ['sum', 'mean'], 'freight_value': 'mean' })"
   ]
  },
  {
   "cell_type": "markdown",
   "id": "6e80da99-7fa7-4b02-a942-2e3b973b315a",
   "metadata": {},
   "source": [
    "If you need to join multiple string columns, you can use agg:"
   ]
  },
  {
   "cell_type": "code",
   "execution_count": null,
   "id": "2815de86-4ac8-4f4d-9bbf-6bdc4ee7ed8e",
   "metadata": {},
   "outputs": [],
   "source": [
    "df['period'] = df[['Year', 'quarter', ...]].agg('-'.join, axis=1)"
   ]
  },
  {
   "cell_type": "markdown",
   "id": "9c240ce2-567c-4c7d-b2f8-3fae2e3ffd95",
   "metadata": {},
   "source": [
    "### pd.DataFrame.merge() Method"
   ]
  },
  {
   "cell_type": "markdown",
   "id": "035cc9c9-ebce-4cb1-85b4-5972fe78ed10",
   "metadata": {},
   "source": [
    "This can be written in two different ways, allowing for both chaining or nesting of multiple merges."
   ]
  },
  {
   "cell_type": "code",
   "execution_count": null,
   "id": "6639daae-b159-4ab4-bad3-55bbba911ab7",
   "metadata": {},
   "outputs": [],
   "source": [
    "A_df.merge(B_df, how='left', on='order_id')"
   ]
  },
  {
   "cell_type": "code",
   "execution_count": null,
   "id": "b9a6902e-78e3-4d65-b83c-7f192db3302f",
   "metadata": {},
   "outputs": [],
   "source": [
    "pd.merge(A_df, B_df, how='left', on='order_id')"
   ]
  },
  {
   "cell_type": "code",
   "execution_count": null,
   "id": "a9fc0abe-bbb9-4da0-8f27-3ade45068977",
   "metadata": {},
   "outputs": [],
   "source": []
  },
  {
   "cell_type": "code",
   "execution_count": null,
   "id": "c2904f7c-0d3f-4d52-b0fb-b09453b3ee96",
   "metadata": {},
   "outputs": [],
   "source": []
  },
  {
   "cell_type": "code",
   "execution_count": null,
   "id": "cbbffcf8-85f8-437f-a723-7962413500fe",
   "metadata": {},
   "outputs": [],
   "source": []
  },
  {
   "cell_type": "code",
   "execution_count": null,
   "id": "58b8588b-763a-48c8-bac6-1e88d75a1b98",
   "metadata": {},
   "outputs": [],
   "source": [
    "df.query(\"order_status == 'delivered'\")"
   ]
  },
  {
   "cell_type": "markdown",
   "id": "164ff615-8e3c-438b-bd47-a424fe72acd0",
   "metadata": {
    "tags": []
   },
   "source": [
    "### pd.Series.map() Method"
   ]
  },
  {
   "cell_type": "markdown",
   "id": "ff0cd0a3-ea1d-4d46-931d-512b98b8bdee",
   "metadata": {},
   "source": [
    "https://pandas.pydata.org/pandas-docs/stable/reference/api/pandas.Series.map.html"
   ]
  },
  {
   "cell_type": "markdown",
   "id": "a8e00f75-db43-4243-a56c-03b7af65ad63",
   "metadata": {},
   "source": [
    "Below is how you would use the map() method to change certain values in a series to another, using a dictionary."
   ]
  },
  {
   "cell_type": "code",
   "execution_count": 8,
   "id": "b1c29b8d-34ad-4145-9bf6-5324335ea46b",
   "metadata": {},
   "outputs": [
    {
     "data": {
      "text/plain": [
       "0       cat\n",
       "1       dog\n",
       "2       NaN\n",
       "3    rabbit\n",
       "Name: Stuff, dtype: object"
      ]
     },
     "execution_count": 8,
     "metadata": {},
     "output_type": "execute_result"
    }
   ],
   "source": [
    "df = pd.DataFrame({'Stuff':['cat', 'dog', np.nan, 'rabbit']})\n",
    "\n",
    "df.Stuff"
   ]
  },
  {
   "cell_type": "markdown",
   "id": "e51c6705-0d17-4940-9985-fab90c59fa8d",
   "metadata": {},
   "source": [
    "-- You can substitute stuff with a dictionary. **Note that anything not specified is converted to a NaN**"
   ]
  },
  {
   "cell_type": "code",
   "execution_count": 10,
   "id": "5da2dfa0-d2ab-4238-9121-2c031a7e7210",
   "metadata": {},
   "outputs": [
    {
     "data": {
      "text/plain": [
       "0    kitten\n",
       "1     puppy\n",
       "2       NaN\n",
       "3       NaN\n",
       "Name: Stuff, dtype: object"
      ]
     },
     "execution_count": 10,
     "metadata": {},
     "output_type": "execute_result"
    }
   ],
   "source": [
    "df.Stuff.map({\n",
    "    'cat': 'kitten', \n",
    "    'dog': 'puppy'\n",
    "})"
   ]
  },
  {
   "cell_type": "markdown",
   "id": "b2894ed4-5c48-4ffd-ad1b-fdd66ef0f919",
   "metadata": {},
   "source": [
    "-- It also accepts a function"
   ]
  },
  {
   "cell_type": "code",
   "execution_count": 12,
   "id": "29c11fff-67ea-4318-90a1-96e2396ed8b0",
   "metadata": {},
   "outputs": [
    {
     "data": {
      "text/plain": [
       "0       I am a cat\n",
       "1       I am a dog\n",
       "2       I am a nan\n",
       "3    I am a rabbit\n",
       "Name: Stuff, dtype: object"
      ]
     },
     "execution_count": 12,
     "metadata": {},
     "output_type": "execute_result"
    }
   ],
   "source": [
    "df.Stuff.map('I am a {}'.format)"
   ]
  },
  {
   "cell_type": "markdown",
   "id": "9e71ac9e-eb3b-4d34-b3da-9a8038331cc8",
   "metadata": {},
   "source": [
    "-- To avoid applying the function to missing values (and keep them as NaN) na_action='ignore' can be used:"
   ]
  },
  {
   "cell_type": "code",
   "execution_count": 13,
   "id": "eceef4f0-9c64-4fb2-a383-d38cebe0758c",
   "metadata": {
    "tags": []
   },
   "outputs": [
    {
     "data": {
      "text/plain": [
       "0       I am a cat\n",
       "1       I am a dog\n",
       "2              NaN\n",
       "3    I am a rabbit\n",
       "Name: Stuff, dtype: object"
      ]
     },
     "execution_count": 13,
     "metadata": {},
     "output_type": "execute_result"
    }
   ],
   "source": [
    "df.Stuff.map('I am a {}'.format, na_action='ignore')"
   ]
  },
  {
   "cell_type": "markdown",
   "id": "ee3b843d-51bf-41a2-9ff5-0b1519de8e84",
   "metadata": {},
   "source": [
    "### pd.Series.apply() Method\n"
   ]
  },
  {
   "cell_type": "markdown",
   "id": "167bacc8-1bd1-41d9-8200-b8725f34def2",
   "metadata": {},
   "source": [
    "First you defind a function. \n",
    "\n",
    "Then you can use the pd.Series.apply() method to apply the function of a column of a dataframe. "
   ]
  },
  {
   "cell_type": "code",
   "execution_count": null,
   "id": "e2444e61-691b-4761-97fb-492e2071bffb",
   "metadata": {},
   "outputs": [],
   "source": [
    "# Define the function\n",
    "\n",
    "def txt_rp(x):\n",
    "\n",
    "    for punc in string.punctuation:\n",
    "        x = x.replace(punc, '')    \n",
    "\n",
    "    return x\n",
    "\n",
    "# Use the apply method to apply it to a column of a DataFrame\n",
    "\n",
    "df['clean_text'] = df['text'].apply(txt_rp)"
   ]
  },
  {
   "cell_type": "markdown",
   "id": "bde5c865-8095-4303-baea-f561c020248f",
   "metadata": {
    "tags": []
   },
   "source": [
    "### Using The Lambda Function (pd.DataFrame.apply() and pd.DataFrame.assign() Methods)\n"
   ]
  },
  {
   "cell_type": "markdown",
   "id": "fcb37f50-9dfb-4460-9669-b23524bdc7e8",
   "metadata": {},
   "source": [
    "**Example 1**: Applying lambda function to single column using Dataframe.assign()\n",
    "\n",
    "In the below example, the lambda function is applied to the ‘Total_Marks’ column and a new column ‘Percentage’ is formed with the help of it."
   ]
  },
  {
   "cell_type": "code",
   "execution_count": 2,
   "id": "7d97960e-5639-430b-a5ee-50a928abf2a0",
   "metadata": {},
   "outputs": [
    {
     "data": {
      "text/html": [
       "<div>\n",
       "<style scoped>\n",
       "    .dataframe tbody tr th:only-of-type {\n",
       "        vertical-align: middle;\n",
       "    }\n",
       "\n",
       "    .dataframe tbody tr th {\n",
       "        vertical-align: top;\n",
       "    }\n",
       "\n",
       "    .dataframe thead th {\n",
       "        text-align: right;\n",
       "    }\n",
       "</style>\n",
       "<table border=\"1\" class=\"dataframe\">\n",
       "  <thead>\n",
       "    <tr style=\"text-align: right;\">\n",
       "      <th></th>\n",
       "      <th>Name</th>\n",
       "      <th>Total_Marks</th>\n",
       "      <th>Percentage</th>\n",
       "    </tr>\n",
       "  </thead>\n",
       "  <tbody>\n",
       "    <tr>\n",
       "      <th>0</th>\n",
       "      <td>Rohan</td>\n",
       "      <td>455</td>\n",
       "      <td>91.0</td>\n",
       "    </tr>\n",
       "    <tr>\n",
       "      <th>1</th>\n",
       "      <td>Elvish</td>\n",
       "      <td>250</td>\n",
       "      <td>50.0</td>\n",
       "    </tr>\n",
       "    <tr>\n",
       "      <th>2</th>\n",
       "      <td>Deepak</td>\n",
       "      <td>495</td>\n",
       "      <td>99.0</td>\n",
       "    </tr>\n",
       "    <tr>\n",
       "      <th>3</th>\n",
       "      <td>Soni</td>\n",
       "      <td>400</td>\n",
       "      <td>80.0</td>\n",
       "    </tr>\n",
       "    <tr>\n",
       "      <th>4</th>\n",
       "      <td>Radhika</td>\n",
       "      <td>350</td>\n",
       "      <td>70.0</td>\n",
       "    </tr>\n",
       "    <tr>\n",
       "      <th>5</th>\n",
       "      <td>Vansh</td>\n",
       "      <td>450</td>\n",
       "      <td>90.0</td>\n",
       "    </tr>\n",
       "  </tbody>\n",
       "</table>\n",
       "</div>"
      ],
      "text/plain": [
       "      Name  Total_Marks  Percentage\n",
       "0    Rohan          455        91.0\n",
       "1   Elvish          250        50.0\n",
       "2   Deepak          495        99.0\n",
       "3     Soni          400        80.0\n",
       "4  Radhika          350        70.0\n",
       "5    Vansh          450        90.0"
      ]
     },
     "execution_count": 2,
     "metadata": {},
     "output_type": "execute_result"
    }
   ],
   "source": [
    "import pandas as pd\n",
    "  \n",
    "# creating and initializing a list\n",
    "values= [['Rohan',455],['Elvish',250],['Deepak',495],\n",
    "         ['Soni',400],['Radhika',350],['Vansh',450]]\n",
    " \n",
    "# creating a pandas dataframe\n",
    "df = pd.DataFrame(values,columns=['Name','Total_Marks'])\n",
    " \n",
    "# Applying lambda function to find\n",
    "# percentage of 'Total_Marks' column\n",
    "# using df.assign()\n",
    "df = df.assign(Percentage = lambda x: (x['Total_Marks'] /500 * 100))\n",
    " \n",
    "# displaying the data frame\n",
    "df"
   ]
  },
  {
   "cell_type": "markdown",
   "id": "17d833e9-ee2e-43ad-bbac-4df007eddc3d",
   "metadata": {},
   "source": [
    "**Example 2**: Applying lambda function to multiple columns using Dataframe.assign()\n",
    "\n",
    "In the below example, lambda function is applied to 3 columns i.e ‘Field_1’, ‘Field_2’, and ‘Field_3’."
   ]
  },
  {
   "cell_type": "code",
   "execution_count": 1,
   "id": "7c15cace-d747-4508-8e16-679806a6fffc",
   "metadata": {},
   "outputs": [
    {
     "data": {
      "text/html": [
       "<div>\n",
       "<style scoped>\n",
       "    .dataframe tbody tr th:only-of-type {\n",
       "        vertical-align: middle;\n",
       "    }\n",
       "\n",
       "    .dataframe tbody tr th {\n",
       "        vertical-align: top;\n",
       "    }\n",
       "\n",
       "    .dataframe thead th {\n",
       "        text-align: right;\n",
       "    }\n",
       "</style>\n",
       "<table border=\"1\" class=\"dataframe\">\n",
       "  <thead>\n",
       "    <tr style=\"text-align: right;\">\n",
       "      <th></th>\n",
       "      <th>Field_1</th>\n",
       "      <th>Field_2</th>\n",
       "      <th>Field_3</th>\n",
       "      <th>Product</th>\n",
       "    </tr>\n",
       "  </thead>\n",
       "  <tbody>\n",
       "    <tr>\n",
       "      <th>0</th>\n",
       "      <td>15</td>\n",
       "      <td>2.5</td>\n",
       "      <td>100</td>\n",
       "      <td>3750.0</td>\n",
       "    </tr>\n",
       "    <tr>\n",
       "      <th>1</th>\n",
       "      <td>20</td>\n",
       "      <td>4.5</td>\n",
       "      <td>50</td>\n",
       "      <td>4500.0</td>\n",
       "    </tr>\n",
       "    <tr>\n",
       "      <th>2</th>\n",
       "      <td>25</td>\n",
       "      <td>5.2</td>\n",
       "      <td>80</td>\n",
       "      <td>10400.0</td>\n",
       "    </tr>\n",
       "    <tr>\n",
       "      <th>3</th>\n",
       "      <td>45</td>\n",
       "      <td>5.8</td>\n",
       "      <td>48</td>\n",
       "      <td>12528.0</td>\n",
       "    </tr>\n",
       "    <tr>\n",
       "      <th>4</th>\n",
       "      <td>40</td>\n",
       "      <td>6.3</td>\n",
       "      <td>70</td>\n",
       "      <td>17640.0</td>\n",
       "    </tr>\n",
       "    <tr>\n",
       "      <th>5</th>\n",
       "      <td>41</td>\n",
       "      <td>6.4</td>\n",
       "      <td>90</td>\n",
       "      <td>23616.0</td>\n",
       "    </tr>\n",
       "    <tr>\n",
       "      <th>6</th>\n",
       "      <td>51</td>\n",
       "      <td>2.3</td>\n",
       "      <td>111</td>\n",
       "      <td>13020.3</td>\n",
       "    </tr>\n",
       "  </tbody>\n",
       "</table>\n",
       "</div>"
      ],
      "text/plain": [
       "   Field_1  Field_2  Field_3  Product\n",
       "0       15      2.5      100   3750.0\n",
       "1       20      4.5       50   4500.0\n",
       "2       25      5.2       80  10400.0\n",
       "3       45      5.8       48  12528.0\n",
       "4       40      6.3       70  17640.0\n",
       "5       41      6.4       90  23616.0\n",
       "6       51      2.3      111  13020.3"
      ]
     },
     "execution_count": 1,
     "metadata": {},
     "output_type": "execute_result"
    }
   ],
   "source": [
    "# importing pandas library\n",
    "import pandas as pd\n",
    " \n",
    "# creating and initializing a nested list\n",
    "values_list = [[15, 2.5, 100], [20, 4.5, 50], [25, 5.2, 80],\n",
    "               [45, 5.8, 48], [40, 6.3, 70], [41, 6.4, 90],\n",
    "               [51, 2.3, 111]]\n",
    " \n",
    "# creating a pandas dataframe\n",
    "df = pd.DataFrame(values_list, columns=['Field_1', 'Field_2', 'Field_3'])\n",
    " \n",
    "# Applying lambda function to find\n",
    "# the product of 3 columns using\n",
    "# df.assign()\n",
    "df = df.assign(Product=lambda x: (x['Field_1'] * x['Field_2'] * x['Field_3']))\n",
    " \n",
    "# printing dataframe\n",
    "df"
   ]
  },
  {
   "cell_type": "markdown",
   "id": "25858984-1530-4a85-8e28-ef3dcd37082a",
   "metadata": {},
   "source": [
    "**Example 3**: Applying lambda function to single row using Dataframe.apply()\n",
    "\n",
    "In the below example, a lambda function is applied to row starting with ‘d’ and hence square all values corresponds to it."
   ]
  },
  {
   "cell_type": "code",
   "execution_count": 4,
   "id": "f2e77389-efec-43a1-ae43-9b3294395b0a",
   "metadata": {},
   "outputs": [
    {
     "data": {
      "text/html": [
       "<div>\n",
       "<style scoped>\n",
       "    .dataframe tbody tr th:only-of-type {\n",
       "        vertical-align: middle;\n",
       "    }\n",
       "\n",
       "    .dataframe tbody tr th {\n",
       "        vertical-align: top;\n",
       "    }\n",
       "\n",
       "    .dataframe thead th {\n",
       "        text-align: right;\n",
       "    }\n",
       "</style>\n",
       "<table border=\"1\" class=\"dataframe\">\n",
       "  <thead>\n",
       "    <tr style=\"text-align: right;\">\n",
       "      <th></th>\n",
       "      <th>Field_1</th>\n",
       "      <th>Field_2</th>\n",
       "      <th>Field_3</th>\n",
       "    </tr>\n",
       "  </thead>\n",
       "  <tbody>\n",
       "    <tr>\n",
       "      <th>a</th>\n",
       "      <td>15.0</td>\n",
       "      <td>2.50</td>\n",
       "      <td>100.0</td>\n",
       "    </tr>\n",
       "    <tr>\n",
       "      <th>b</th>\n",
       "      <td>20.0</td>\n",
       "      <td>4.50</td>\n",
       "      <td>50.0</td>\n",
       "    </tr>\n",
       "    <tr>\n",
       "      <th>c</th>\n",
       "      <td>25.0</td>\n",
       "      <td>5.20</td>\n",
       "      <td>80.0</td>\n",
       "    </tr>\n",
       "    <tr>\n",
       "      <th>d</th>\n",
       "      <td>2025.0</td>\n",
       "      <td>33.64</td>\n",
       "      <td>2304.0</td>\n",
       "    </tr>\n",
       "    <tr>\n",
       "      <th>e</th>\n",
       "      <td>40.0</td>\n",
       "      <td>6.30</td>\n",
       "      <td>70.0</td>\n",
       "    </tr>\n",
       "    <tr>\n",
       "      <th>f</th>\n",
       "      <td>41.0</td>\n",
       "      <td>6.40</td>\n",
       "      <td>90.0</td>\n",
       "    </tr>\n",
       "    <tr>\n",
       "      <th>g</th>\n",
       "      <td>51.0</td>\n",
       "      <td>2.30</td>\n",
       "      <td>111.0</td>\n",
       "    </tr>\n",
       "  </tbody>\n",
       "</table>\n",
       "</div>"
      ],
      "text/plain": [
       "   Field_1  Field_2  Field_3\n",
       "a     15.0     2.50    100.0\n",
       "b     20.0     4.50     50.0\n",
       "c     25.0     5.20     80.0\n",
       "d   2025.0    33.64   2304.0\n",
       "e     40.0     6.30     70.0\n",
       "f     41.0     6.40     90.0\n",
       "g     51.0     2.30    111.0"
      ]
     },
     "execution_count": 4,
     "metadata": {},
     "output_type": "execute_result"
    }
   ],
   "source": [
    "import pandas as pd\n",
    "import numpy as np\n",
    " \n",
    "# creating and initializing a nested list\n",
    "values_list = [[15, 2.5, 100], [20, 4.5, 50], [25, 5.2, 80],\n",
    "               [45, 5.8, 48], [40, 6.3, 70], [41, 6.4, 90],\n",
    "               [51, 2.3, 111]]\n",
    " \n",
    "# creating a pandas dataframe\n",
    "df = pd.DataFrame(values_list, columns=['Field_1', 'Field_2', 'Field_3'],\n",
    "                  index=['a', 'b', 'c', 'd', 'e', 'f', 'g'])\n",
    " \n",
    "# Apply function numpy.square() to square\n",
    "# the values of one row only i.e. row\n",
    "# with index name 'd'\n",
    "\n",
    "df = df.apply(lambda x: np.square(x) if x.name == 'd' else x, axis=1)\n",
    "\n",
    " \n",
    "# printing dataframe\n",
    "df"
   ]
  },
  {
   "cell_type": "markdown",
   "id": "6aeda2ff-9f8e-4fb3-9016-4e69ea197d30",
   "metadata": {},
   "source": [
    "**Example 4**: Applying lambda function to multiple rows using Dataframe.apply()\n",
    "\n",
    "In the below example, a lambda function is applied to 3 rows starting with ‘a’, ‘e’, and ‘g’."
   ]
  },
  {
   "cell_type": "code",
   "execution_count": 4,
   "id": "8cc86c0b-f1e5-40aa-8d9e-ed17fd8e6c19",
   "metadata": {},
   "outputs": [
    {
     "data": {
      "text/html": [
       "<div>\n",
       "<style scoped>\n",
       "    .dataframe tbody tr th:only-of-type {\n",
       "        vertical-align: middle;\n",
       "    }\n",
       "\n",
       "    .dataframe tbody tr th {\n",
       "        vertical-align: top;\n",
       "    }\n",
       "\n",
       "    .dataframe thead th {\n",
       "        text-align: right;\n",
       "    }\n",
       "</style>\n",
       "<table border=\"1\" class=\"dataframe\">\n",
       "  <thead>\n",
       "    <tr style=\"text-align: right;\">\n",
       "      <th></th>\n",
       "      <th>Field_1</th>\n",
       "      <th>Field_2</th>\n",
       "      <th>Field_3</th>\n",
       "    </tr>\n",
       "  </thead>\n",
       "  <tbody>\n",
       "    <tr>\n",
       "      <th>a</th>\n",
       "      <td>225.0</td>\n",
       "      <td>6.25</td>\n",
       "      <td>10000.0</td>\n",
       "    </tr>\n",
       "    <tr>\n",
       "      <th>b</th>\n",
       "      <td>20.0</td>\n",
       "      <td>4.50</td>\n",
       "      <td>50.0</td>\n",
       "    </tr>\n",
       "    <tr>\n",
       "      <th>c</th>\n",
       "      <td>25.0</td>\n",
       "      <td>5.20</td>\n",
       "      <td>80.0</td>\n",
       "    </tr>\n",
       "    <tr>\n",
       "      <th>d</th>\n",
       "      <td>45.0</td>\n",
       "      <td>5.80</td>\n",
       "      <td>48.0</td>\n",
       "    </tr>\n",
       "    <tr>\n",
       "      <th>e</th>\n",
       "      <td>1600.0</td>\n",
       "      <td>39.69</td>\n",
       "      <td>4900.0</td>\n",
       "    </tr>\n",
       "    <tr>\n",
       "      <th>f</th>\n",
       "      <td>41.0</td>\n",
       "      <td>6.40</td>\n",
       "      <td>90.0</td>\n",
       "    </tr>\n",
       "    <tr>\n",
       "      <th>g</th>\n",
       "      <td>2601.0</td>\n",
       "      <td>5.29</td>\n",
       "      <td>12321.0</td>\n",
       "    </tr>\n",
       "  </tbody>\n",
       "</table>\n",
       "</div>"
      ],
      "text/plain": [
       "   Field_1  Field_2  Field_3\n",
       "a    225.0     6.25  10000.0\n",
       "b     20.0     4.50     50.0\n",
       "c     25.0     5.20     80.0\n",
       "d     45.0     5.80     48.0\n",
       "e   1600.0    39.69   4900.0\n",
       "f     41.0     6.40     90.0\n",
       "g   2601.0     5.29  12321.0"
      ]
     },
     "execution_count": 4,
     "metadata": {},
     "output_type": "execute_result"
    }
   ],
   "source": [
    "# importing pandas and numpylibraries\n",
    "import pandas as pd\n",
    "import numpy as np\n",
    " \n",
    "# creating and initializing a nested list\n",
    "values_list = [[15, 2.5, 100], [20, 4.5, 50], [25, 5.2, 80],\n",
    "               [45, 5.8, 48], [40, 6.3, 70], [41, 6.4, 90],\n",
    "               [51, 2.3, 111]]\n",
    " \n",
    "# creating a pandas dataframe\n",
    "df = pd.DataFrame(values_list, columns=['Field_1', 'Field_2', 'Field_3'],\n",
    "                  index=['a', 'b', 'c', 'd', 'e', 'f', 'g'])\n",
    " \n",
    " \n",
    "# Apply function numpy.square() to square\n",
    "# the values of 3 rows only i.e. with row\n",
    "# index name 'a', 'e' and 'g' only\n",
    "df = df.apply(lambda x: np.square(x) if x.name in [\n",
    "              'a', 'e', 'g'] else x, axis=1)\n",
    " \n",
    "# printing dataframe\n",
    "df"
   ]
  },
  {
   "cell_type": "markdown",
   "id": "b5afa759-ad57-4641-88f1-a7306817ec23",
   "metadata": {},
   "source": [
    "**Example 5**: Applying the lambda function simultaneously to multiple columns and rows\n",
    "\n",
    "In this example, a lambda function is applied to two rows and three columns. "
   ]
  },
  {
   "cell_type": "code",
   "execution_count": 105,
   "id": "3883e515-907f-4bf8-8197-825035036227",
   "metadata": {},
   "outputs": [
    {
     "data": {
      "text/html": [
       "<div>\n",
       "<style scoped>\n",
       "    .dataframe tbody tr th:only-of-type {\n",
       "        vertical-align: middle;\n",
       "    }\n",
       "\n",
       "    .dataframe tbody tr th {\n",
       "        vertical-align: top;\n",
       "    }\n",
       "\n",
       "    .dataframe thead th {\n",
       "        text-align: right;\n",
       "    }\n",
       "</style>\n",
       "<table border=\"1\" class=\"dataframe\">\n",
       "  <thead>\n",
       "    <tr style=\"text-align: right;\">\n",
       "      <th></th>\n",
       "      <th>Field_1</th>\n",
       "      <th>Field_2</th>\n",
       "      <th>Field_3</th>\n",
       "      <th>Product</th>\n",
       "    </tr>\n",
       "  </thead>\n",
       "  <tbody>\n",
       "    <tr>\n",
       "      <th>a</th>\n",
       "      <td>1.50</td>\n",
       "      <td>2.50</td>\n",
       "      <td>10.0</td>\n",
       "      <td>37.5000</td>\n",
       "    </tr>\n",
       "    <tr>\n",
       "      <th>b</th>\n",
       "      <td>4.00</td>\n",
       "      <td>20.25</td>\n",
       "      <td>25.0</td>\n",
       "      <td>2025.0000</td>\n",
       "    </tr>\n",
       "    <tr>\n",
       "      <th>c</th>\n",
       "      <td>2.50</td>\n",
       "      <td>5.20</td>\n",
       "      <td>8.0</td>\n",
       "      <td>104.0000</td>\n",
       "    </tr>\n",
       "    <tr>\n",
       "      <th>d</th>\n",
       "      <td>4.50</td>\n",
       "      <td>5.80</td>\n",
       "      <td>4.8</td>\n",
       "      <td>125.2800</td>\n",
       "    </tr>\n",
       "    <tr>\n",
       "      <th>e</th>\n",
       "      <td>4.00</td>\n",
       "      <td>6.30</td>\n",
       "      <td>70.0</td>\n",
       "      <td>1764.0000</td>\n",
       "    </tr>\n",
       "    <tr>\n",
       "      <th>f</th>\n",
       "      <td>16.81</td>\n",
       "      <td>40.96</td>\n",
       "      <td>81.0</td>\n",
       "      <td>55771.5456</td>\n",
       "    </tr>\n",
       "    <tr>\n",
       "      <th>g</th>\n",
       "      <td>5.10</td>\n",
       "      <td>2.30</td>\n",
       "      <td>11.1</td>\n",
       "      <td>130.2030</td>\n",
       "    </tr>\n",
       "  </tbody>\n",
       "</table>\n",
       "</div>"
      ],
      "text/plain": [
       "   Field_1  Field_2  Field_3     Product\n",
       "a     1.50     2.50     10.0     37.5000\n",
       "b     4.00    20.25     25.0   2025.0000\n",
       "c     2.50     5.20      8.0    104.0000\n",
       "d     4.50     5.80      4.8    125.2800\n",
       "e     4.00     6.30     70.0   1764.0000\n",
       "f    16.81    40.96     81.0  55771.5456\n",
       "g     5.10     2.30     11.1    130.2030"
      ]
     },
     "execution_count": 105,
     "metadata": {},
     "output_type": "execute_result"
    }
   ],
   "source": [
    "# importing pandas and numpylibraries\n",
    "import pandas as pd\n",
    "import numpy as np\n",
    " \n",
    "# creating and initializing a nested list\n",
    "values_list = [[1.5, 2.5, 10.0], [2.0, 4.5, 5.0], [2.5, 5.2, 8.0],\n",
    "               [4.5, 5.8, 4.8], [4.0, 6.3, 70], [4.1, 6.4, 9.0],\n",
    "               [5.1, 2.3, 11.1]]\n",
    " \n",
    "# creating a pandas dataframe\n",
    "df = pd.DataFrame(values_list, columns=['Field_1', 'Field_2', 'Field_3'],\n",
    "                  index=['a', 'b', 'c', 'd', 'e', 'f', 'g'])\n",
    " \n",
    "# Apply function numpy.square() to square\n",
    "# the values of 2 rows only i.e. with row\n",
    "# index name 'b' and 'f' only\n",
    "df = df.apply(lambda x: np.square(x) if x.name in ['b', 'f'] else x, axis=1)\n",
    " \n",
    "# Applying lambda function to find product of 3 columns\n",
    "# i.e 'Field_1', 'Field_2' and 'Field_3'\n",
    "df = df.assign(Product=lambda x: (x['Field_1'] * x['Field_2'] * x['Field_3']))\n",
    " \n",
    "# printing dataframe\n",
    "df"
   ]
  },
  {
   "cell_type": "markdown",
   "id": "8acc47a4-c7f4-4e1f-ae6c-7dcec0736c69",
   "metadata": {},
   "source": [
    "**Example 6**: Creating a new columns using a Lambda function applied to an existing one"
   ]
  },
  {
   "cell_type": "code",
   "execution_count": 100,
   "id": "92586f91-6c93-4f88-b69a-fc46ced41b08",
   "metadata": {},
   "outputs": [
    {
     "name": "stdout",
     "output_type": "stream",
     "text": [
      "      Name  Maths Result\n",
      "0     John      5   Pass\n",
      "1     Jack      3   Fail\n",
      "2     Shri      9   Pass\n",
      "3  Krishna     10   Pass\n",
      "4    Smith      6   Pass\n",
      "5    Tessa      3   Fail\n"
     ]
    }
   ],
   "source": [
    "import pandas as pd\n",
    " \n",
    "# dataframe\n",
    "df = pd.DataFrame({'Name': ['John', 'Jack', 'Shri',\n",
    "                            'Krishna', 'Smith', 'Tessa'],\n",
    "                   'Maths': [5, 3, 9, 10, 6, 3]})\n",
    " \n",
    "# Adding the result column\n",
    "df['Result'] = df['Maths'].apply(lambda x: 'Pass' if x>=5 else 'Fail')\n",
    " \n",
    "print(df)"
   ]
  },
  {
   "cell_type": "markdown",
   "id": "fff813f0-615e-4a6f-a31d-9d05bd4d1a47",
   "metadata": {},
   "source": [
    "Adding multiple if statements. **The below will not work**. You need to define the function separately and then use apply to apply it. See the pd.Series.apply() section before this one. "
   ]
  },
  {
   "cell_type": "code",
   "execution_count": 102,
   "id": "e63c68b6-7495-486e-923e-aadabf56a1cd",
   "metadata": {},
   "outputs": [
    {
     "ename": "SyntaxError",
     "evalue": "invalid syntax (3022965822.py, line 1)",
     "output_type": "error",
     "traceback": [
      "\u001b[0;36m  File \u001b[0;32m\"/var/folders/k1/r7px6rdx6hsdpvv2jd0z1_v40000gn/T/ipykernel_42706/3022965822.py\"\u001b[0;36m, line \u001b[0;32m1\u001b[0m\n\u001b[0;31m    df['Maths_spl Class'] = df[\"maths\"].apply(lambda x: \"No Need\" if x>=5 elif x==5 \"Hold\" else \"Need\")\u001b[0m\n\u001b[0m                                                                          ^\u001b[0m\n\u001b[0;31mSyntaxError\u001b[0m\u001b[0;31m:\u001b[0m invalid syntax\n"
     ]
    }
   ],
   "source": [
    "df['Maths_spl Class'] = df[\"maths\"].apply(lambda x: \"No Need\" if x>=5 elif x==5 \"Hold\" else \"Need\")"
   ]
  },
  {
   "cell_type": "markdown",
   "id": "95ec7404-28d8-40c7-8895-e248a5172527",
   "metadata": {},
   "source": [
    "### pd.DataFrame.iterrows()"
   ]
  },
  {
   "cell_type": "code",
   "execution_count": 19,
   "id": "177d0ad3-8593-4cd2-a107-b846a9bb4f60",
   "metadata": {},
   "outputs": [
    {
     "name": "stdout",
     "output_type": "stream",
     "text": [
      "0\n",
      "Sally\n",
      "1\n",
      "Mary\n",
      "2\n",
      "John\n"
     ]
    }
   ],
   "source": [
    "data = {\n",
    "  \"firstname\": [\"Sally\", \"Mary\", \"John\"],\n",
    "  \"age\": [50, 40, 30]\n",
    "}\n",
    "\n",
    "df = pd.DataFrame(data)\n",
    "\n",
    "for index, row in df.iterrows():\n",
    "    print(index)\n",
    "    print(row[\"firstname\"]) "
   ]
  },
  {
   "cell_type": "markdown",
   "id": "6d2b838c-76b2-455d-a37b-2a16b6abc270",
   "metadata": {},
   "source": [
    "### You Can Also Loop Through A DataFrame With The zip() Function"
   ]
  },
  {
   "cell_type": "markdown",
   "id": "f4795544-5bce-4c6f-bdb8-1dba7b7780e4",
   "metadata": {},
   "source": [
    "This is much more computationaly efficient\n",
    "\n",
    "Lists have to be the same length"
   ]
  },
  {
   "cell_type": "code",
   "execution_count": 23,
   "id": "a1b170d8-248b-4c07-a25f-505234467cfc",
   "metadata": {},
   "outputs": [
    {
     "name": "stdout",
     "output_type": "stream",
     "text": [
      "0    Sally\n",
      "1     Mary\n",
      "2     John\n",
      "Name: firstname, dtype: object\n",
      "0    50\n",
      "1    40\n",
      "2    30\n",
      "Name: age, dtype: int64\n"
     ]
    }
   ],
   "source": [
    "print(df.firstname)\n",
    "print(df.age)"
   ]
  },
  {
   "cell_type": "code",
   "execution_count": 24,
   "id": "8ec6c0da-ca7f-4466-abec-a010cd64ed64",
   "metadata": {
    "tags": []
   },
   "outputs": [
    {
     "data": {
      "text/plain": [
       "<zip at 0x123249780>"
      ]
     },
     "execution_count": 24,
     "metadata": {},
     "output_type": "execute_result"
    }
   ],
   "source": [
    "zip(df.firstname, df.age)"
   ]
  },
  {
   "cell_type": "code",
   "execution_count": 26,
   "id": "213e959f-5d89-4238-a5d0-f33758ebee5a",
   "metadata": {},
   "outputs": [
    {
     "data": {
      "text/plain": [
       "[('Sally', 50), ('Mary', 40), ('John', 30)]"
      ]
     },
     "execution_count": 26,
     "metadata": {},
     "output_type": "execute_result"
    }
   ],
   "source": [
    "list(zip(df.firstname, df.age))"
   ]
  },
  {
   "cell_type": "markdown",
   "id": "5d6cb9e9-734a-4bea-b683-8a790b902666",
   "metadata": {},
   "source": [
    "### np.where() Function"
   ]
  },
  {
   "cell_type": "code",
   "execution_count": 12,
   "id": "c3384294-d78d-4536-a13c-19241bbf6812",
   "metadata": {},
   "outputs": [
    {
     "data": {
      "text/html": [
       "<div>\n",
       "<style scoped>\n",
       "    .dataframe tbody tr th:only-of-type {\n",
       "        vertical-align: middle;\n",
       "    }\n",
       "\n",
       "    .dataframe tbody tr th {\n",
       "        vertical-align: top;\n",
       "    }\n",
       "\n",
       "    .dataframe thead th {\n",
       "        text-align: right;\n",
       "    }\n",
       "</style>\n",
       "<table border=\"1\" class=\"dataframe\">\n",
       "  <thead>\n",
       "    <tr style=\"text-align: right;\">\n",
       "      <th></th>\n",
       "      <th>PE</th>\n",
       "      <th>PB</th>\n",
       "      <th>PB_adj</th>\n",
       "      <th>PE_adj</th>\n",
       "    </tr>\n",
       "  </thead>\n",
       "  <tbody>\n",
       "    <tr>\n",
       "      <th>0</th>\n",
       "      <td>16.59</td>\n",
       "      <td>1.26</td>\n",
       "      <td>1.260000</td>\n",
       "      <td>16.590000</td>\n",
       "    </tr>\n",
       "    <tr>\n",
       "      <th>1</th>\n",
       "      <td>89.34</td>\n",
       "      <td>1.02</td>\n",
       "      <td>1.020000</td>\n",
       "      <td>89.340000</td>\n",
       "    </tr>\n",
       "    <tr>\n",
       "      <th>2</th>\n",
       "      <td>25.99</td>\n",
       "      <td>1.15</td>\n",
       "      <td>1.150000</td>\n",
       "      <td>25.990000</td>\n",
       "    </tr>\n",
       "    <tr>\n",
       "      <th>3</th>\n",
       "      <td>-17.85</td>\n",
       "      <td>1.72</td>\n",
       "      <td>1.720000</td>\n",
       "      <td>-17.850000</td>\n",
       "    </tr>\n",
       "    <tr>\n",
       "      <th>4</th>\n",
       "      <td>-5.33</td>\n",
       "      <td>1.62</td>\n",
       "      <td>1.620000</td>\n",
       "      <td>-5.330000</td>\n",
       "    </tr>\n",
       "    <tr>\n",
       "      <th>5</th>\n",
       "      <td>92475.83</td>\n",
       "      <td>22891.82</td>\n",
       "      <td>1.600827</td>\n",
       "      <td>6.466841</td>\n",
       "    </tr>\n",
       "    <tr>\n",
       "      <th>6</th>\n",
       "      <td>538321.17</td>\n",
       "      <td>15246.66</td>\n",
       "      <td>1.066200</td>\n",
       "      <td>37.644837</td>\n",
       "    </tr>\n",
       "    <tr>\n",
       "      <th>7</th>\n",
       "      <td>-57915.06</td>\n",
       "      <td>11165.24</td>\n",
       "      <td>0.780786</td>\n",
       "      <td>-4.050004</td>\n",
       "    </tr>\n",
       "    <tr>\n",
       "      <th>8</th>\n",
       "      <td>31.07</td>\n",
       "      <td>7.12</td>\n",
       "      <td>7.120000</td>\n",
       "      <td>31.070000</td>\n",
       "    </tr>\n",
       "    <tr>\n",
       "      <th>9</th>\n",
       "      <td>25.11</td>\n",
       "      <td>5.50</td>\n",
       "      <td>5.500000</td>\n",
       "      <td>25.110000</td>\n",
       "    </tr>\n",
       "    <tr>\n",
       "      <th>10</th>\n",
       "      <td>35.58</td>\n",
       "      <td>5.02</td>\n",
       "      <td>5.020000</td>\n",
       "      <td>35.580000</td>\n",
       "    </tr>\n",
       "    <tr>\n",
       "      <th>11</th>\n",
       "      <td>114.89</td>\n",
       "      <td>1.52</td>\n",
       "      <td>1.520000</td>\n",
       "      <td>114.890000</td>\n",
       "    </tr>\n",
       "    <tr>\n",
       "      <th>12</th>\n",
       "      <td>-0.28</td>\n",
       "      <td>1.39</td>\n",
       "      <td>1.390000</td>\n",
       "      <td>-0.280000</td>\n",
       "    </tr>\n",
       "    <tr>\n",
       "      <th>13</th>\n",
       "      <td>10.94</td>\n",
       "      <td>1.21</td>\n",
       "      <td>1.210000</td>\n",
       "      <td>10.940000</td>\n",
       "    </tr>\n",
       "    <tr>\n",
       "      <th>14</th>\n",
       "      <td>5.81</td>\n",
       "      <td>0.86</td>\n",
       "      <td>0.860000</td>\n",
       "      <td>5.810000</td>\n",
       "    </tr>\n",
       "    <tr>\n",
       "      <th>15</th>\n",
       "      <td>7.24</td>\n",
       "      <td>1.40</td>\n",
       "      <td>1.400000</td>\n",
       "      <td>7.240000</td>\n",
       "    </tr>\n",
       "    <tr>\n",
       "      <th>16</th>\n",
       "      <td>8.29</td>\n",
       "      <td>0.85</td>\n",
       "      <td>0.850000</td>\n",
       "      <td>8.290000</td>\n",
       "    </tr>\n",
       "    <tr>\n",
       "      <th>17</th>\n",
       "      <td>4.06</td>\n",
       "      <td>0.39</td>\n",
       "      <td>0.390000</td>\n",
       "      <td>4.060000</td>\n",
       "    </tr>\n",
       "    <tr>\n",
       "      <th>18</th>\n",
       "      <td>5.85</td>\n",
       "      <td>1.51</td>\n",
       "      <td>1.510000</td>\n",
       "      <td>5.850000</td>\n",
       "    </tr>\n",
       "    <tr>\n",
       "      <th>19</th>\n",
       "      <td>4.73</td>\n",
       "      <td>1.23</td>\n",
       "      <td>1.230000</td>\n",
       "      <td>4.730000</td>\n",
       "    </tr>\n",
       "    <tr>\n",
       "      <th>20</th>\n",
       "      <td>8.31</td>\n",
       "      <td>1.08</td>\n",
       "      <td>1.080000</td>\n",
       "      <td>8.310000</td>\n",
       "    </tr>\n",
       "  </tbody>\n",
       "</table>\n",
       "</div>"
      ],
      "text/plain": [
       "           PE        PB    PB_adj      PE_adj\n",
       "0       16.59      1.26  1.260000   16.590000\n",
       "1       89.34      1.02  1.020000   89.340000\n",
       "2       25.99      1.15  1.150000   25.990000\n",
       "3      -17.85      1.72  1.720000  -17.850000\n",
       "4       -5.33      1.62  1.620000   -5.330000\n",
       "5    92475.83  22891.82  1.600827    6.466841\n",
       "6   538321.17  15246.66  1.066200   37.644837\n",
       "7   -57915.06  11165.24  0.780786   -4.050004\n",
       "8       31.07      7.12  7.120000   31.070000\n",
       "9       25.11      5.50  5.500000   25.110000\n",
       "10      35.58      5.02  5.020000   35.580000\n",
       "11     114.89      1.52  1.520000  114.890000\n",
       "12      -0.28      1.39  1.390000   -0.280000\n",
       "13      10.94      1.21  1.210000   10.940000\n",
       "14       5.81      0.86  0.860000    5.810000\n",
       "15       7.24      1.40  1.400000    7.240000\n",
       "16       8.29      0.85  0.850000    8.290000\n",
       "17       4.06      0.39  0.390000    4.060000\n",
       "18       5.85      1.51  1.510000    5.850000\n",
       "19       4.73      1.23  1.230000    4.730000\n",
       "20       8.31      1.08  1.080000    8.310000"
      ]
     },
     "execution_count": 12,
     "metadata": {},
     "output_type": "execute_result"
    }
   ],
   "source": [
    "PE_list = [16.59, 89.34, 25.99, -17.85, -5.33, 92475.83, 538321.17, -57915.06, 31.07, \n",
    "          25.11, 35.58, 114.89, -0.28, 10.94, 5.81, 7.24, 8.29, 4.06, 5.85, 4.73, 8.31]\n",
    "\n",
    "PB_list = [1.26, 1.02, 1.15, 1.72, 1.62, 22891.82, 15246.66, 11165.24, 7.12, 5.5, 5.02,\n",
    "           1.52, 1.39, 1.21, 0.86, 1.4, 0.85, 0.39, 1.51, 1.23, 1.08]\n",
    "\n",
    "df_test = pd.DataFrame({\n",
    "    'PE': PE_list,\n",
    "    'PB': PB_list\n",
    "})\n",
    "\n",
    "df_test['PB_adj'] = np.where(df_test['PB'] > 2000, \n",
    "                             df_test['PB'] / 14300,\n",
    "                             df_test['PB'])\n",
    "\n",
    "df_test['PE_adj'] = np.where(df_test['PB'] > 2000, \n",
    "                             df_test['PE'] / 14300,\n",
    "                             df_test['PE'])\n",
    "\n",
    "df_test"
   ]
  },
  {
   "cell_type": "code",
   "execution_count": 7,
   "id": "ce1d1b22-e7b0-4b81-9567-a5172bce5284",
   "metadata": {},
   "outputs": [
    {
     "data": {
      "text/plain": [
       "[1.26,\n",
       " 1.02,\n",
       " 1.15,\n",
       " 1.72,\n",
       " 1.62,\n",
       " 22891.82,\n",
       " 15246.66,\n",
       " 11165.24,\n",
       " 7.12,\n",
       " 5.5,\n",
       " 5.02,\n",
       " 1.52,\n",
       " 1.39,\n",
       " 1.21,\n",
       " 0.86,\n",
       " 1.4,\n",
       " 0.85,\n",
       " 0.39,\n",
       " 1.51,\n",
       " 1.23,\n",
       " 1.08]"
      ]
     },
     "execution_count": 7,
     "metadata": {},
     "output_type": "execute_result"
    }
   ],
   "source": [
    "PE_list =[1.2567983992314962,\n",
    " 1.0184001861763141,\n",
    " 1.1546594762760345,\n",
    " 1.723692523926225,\n",
    " 1.6185515662271976,\n",
    " 22891.82424481982,\n",
    " 15246.664985933045,\n",
    " 11165.243623884342,\n",
    " 7.123141313353461,\n",
    " 5.497221827168791,\n",
    " 5.022352364900713,\n",
    " 1.5227006930481812,\n",
    " 1.385744023457573,\n",
    " 1.2057096245388181,\n",
    " 0.8568993744024426,\n",
    " 1.402094154527857,\n",
    " 0.8512689279811179,\n",
    " 0.39477738001892837,\n",
    " 1.5117670970898804,\n",
    " 1.2347138403685203,\n",
    " 1.0756724530063626]\n",
    "\n",
    "for i in range(0, len(PE_list)):\n",
    "    PE_list[i] = round(PE_list[i],2)\n",
    "    \n",
    "PE_list\n"
   ]
  },
  {
   "cell_type": "markdown",
   "id": "d30b6964-0c5a-4fe9-bd3e-f8989fca8ba6",
   "metadata": {},
   "source": [
    "### pd.DataFrame."
   ]
  },
  {
   "cell_type": "markdown",
   "id": "57b518f4-27ab-44da-8e54-c1a6c3a49a14",
   "metadata": {},
   "source": [
    "## How To Do Stuff"
   ]
  },
  {
   "cell_type": "markdown",
   "id": "b1d302ad-91bd-491f-8d6a-3dda46f7b7ef",
   "metadata": {},
   "source": [
    "### Read and Write CSV Files"
   ]
  },
  {
   "cell_type": "markdown",
   "id": "94b45e9a-c981-4ecd-a834-3473223a6863",
   "metadata": {},
   "source": [
    "#### Save DataFrame As A CSV"
   ]
  },
  {
   "cell_type": "code",
   "execution_count": 23,
   "id": "7e16caf8-4f64-4464-a0a8-ceb55e144eda",
   "metadata": {},
   "outputs": [
    {
     "data": {
      "text/plain": [
       "(12, 3)"
      ]
     },
     "execution_count": 23,
     "metadata": {},
     "output_type": "execute_result"
    }
   ],
   "source": [
    "# Create DataFrame\n",
    "\n",
    "data = pd.DataFrame({\n",
    "  \n",
    "    \"name\": ['sravan', 'jyothika', 'harsha', 'ramya',\n",
    "             'sravan', 'jyothika', 'harsha', 'ramya',\n",
    "             'sravan', 'jyothika', 'harsha', 'ramya'],\n",
    "    \"subjects\": ['java', 'java', 'java', 'python',\n",
    "                 'python', 'python', 'html/php', 'html/php',\n",
    "                 'html/php', 'php/js', 'php/js', 'php/js'],\n",
    "    \"marks\": [98, 79, 89, 97, 82, 98, 90,\n",
    "              87, 78, 89, 93, 94]\n",
    "})\n",
    "\n",
    "data.to_csv('save_files/read_write_data.csv',\n",
    "            index = False         # Saves the index to a column in the csv file. Defaults to True\n",
    "           )                     \n",
    "data.shape"
   ]
  },
  {
   "cell_type": "markdown",
   "id": "c9d06c7f-a774-4b61-a162-f4c2373921bb",
   "metadata": {},
   "source": [
    "#### Load CSV File As A DataFrame"
   ]
  },
  {
   "cell_type": "code",
   "execution_count": 24,
   "id": "ac1f84fe-e697-4099-853a-d278b2954b65",
   "metadata": {},
   "outputs": [
    {
     "data": {
      "text/html": [
       "<div>\n",
       "<style scoped>\n",
       "    .dataframe tbody tr th:only-of-type {\n",
       "        vertical-align: middle;\n",
       "    }\n",
       "\n",
       "    .dataframe tbody tr th {\n",
       "        vertical-align: top;\n",
       "    }\n",
       "\n",
       "    .dataframe thead th {\n",
       "        text-align: right;\n",
       "    }\n",
       "</style>\n",
       "<table border=\"1\" class=\"dataframe\">\n",
       "  <thead>\n",
       "    <tr style=\"text-align: right;\">\n",
       "      <th></th>\n",
       "      <th>name</th>\n",
       "      <th>subjects</th>\n",
       "      <th>marks</th>\n",
       "    </tr>\n",
       "  </thead>\n",
       "  <tbody>\n",
       "    <tr>\n",
       "      <th>0</th>\n",
       "      <td>sravan</td>\n",
       "      <td>java</td>\n",
       "      <td>98</td>\n",
       "    </tr>\n",
       "    <tr>\n",
       "      <th>1</th>\n",
       "      <td>jyothika</td>\n",
       "      <td>java</td>\n",
       "      <td>79</td>\n",
       "    </tr>\n",
       "    <tr>\n",
       "      <th>2</th>\n",
       "      <td>harsha</td>\n",
       "      <td>java</td>\n",
       "      <td>89</td>\n",
       "    </tr>\n",
       "    <tr>\n",
       "      <th>3</th>\n",
       "      <td>ramya</td>\n",
       "      <td>python</td>\n",
       "      <td>97</td>\n",
       "    </tr>\n",
       "    <tr>\n",
       "      <th>4</th>\n",
       "      <td>sravan</td>\n",
       "      <td>python</td>\n",
       "      <td>82</td>\n",
       "    </tr>\n",
       "    <tr>\n",
       "      <th>5</th>\n",
       "      <td>jyothika</td>\n",
       "      <td>python</td>\n",
       "      <td>98</td>\n",
       "    </tr>\n",
       "    <tr>\n",
       "      <th>6</th>\n",
       "      <td>harsha</td>\n",
       "      <td>html/php</td>\n",
       "      <td>90</td>\n",
       "    </tr>\n",
       "    <tr>\n",
       "      <th>7</th>\n",
       "      <td>ramya</td>\n",
       "      <td>html/php</td>\n",
       "      <td>87</td>\n",
       "    </tr>\n",
       "    <tr>\n",
       "      <th>8</th>\n",
       "      <td>sravan</td>\n",
       "      <td>html/php</td>\n",
       "      <td>78</td>\n",
       "    </tr>\n",
       "    <tr>\n",
       "      <th>9</th>\n",
       "      <td>jyothika</td>\n",
       "      <td>php/js</td>\n",
       "      <td>89</td>\n",
       "    </tr>\n",
       "    <tr>\n",
       "      <th>10</th>\n",
       "      <td>harsha</td>\n",
       "      <td>php/js</td>\n",
       "      <td>93</td>\n",
       "    </tr>\n",
       "    <tr>\n",
       "      <th>11</th>\n",
       "      <td>ramya</td>\n",
       "      <td>php/js</td>\n",
       "      <td>94</td>\n",
       "    </tr>\n",
       "  </tbody>\n",
       "</table>\n",
       "</div>"
      ],
      "text/plain": [
       "        name  subjects  marks\n",
       "0     sravan      java     98\n",
       "1   jyothika      java     79\n",
       "2     harsha      java     89\n",
       "3      ramya    python     97\n",
       "4     sravan    python     82\n",
       "5   jyothika    python     98\n",
       "6     harsha  html/php     90\n",
       "7      ramya  html/php     87\n",
       "8     sravan  html/php     78\n",
       "9   jyothika    php/js     89\n",
       "10    harsha    php/js     93\n",
       "11     ramya    php/js     94"
      ]
     },
     "execution_count": 24,
     "metadata": {},
     "output_type": "execute_result"
    }
   ],
   "source": [
    "data_load = pd.read_csv('save_files/read_write_data.csv', \n",
    "                        index_col = None       # Defaults to None, but must be specified if the CSV files has an index column\n",
    "                       )\n",
    "\n",
    "data_load"
   ]
  },
  {
   "cell_type": "code",
   "execution_count": null,
   "id": "65a07c2d-bc56-4c92-99d0-d90ebaadaa32",
   "metadata": {},
   "outputs": [],
   "source": []
  },
  {
   "cell_type": "markdown",
   "id": "2ffe6995-b472-464d-9356-dca6fcc83d2a",
   "metadata": {
    "tags": []
   },
   "source": [
    "### How to add another row to a DataFrame"
   ]
  },
  {
   "cell_type": "markdown",
   "id": "ca2d2a27-5a81-445f-963c-4f391c19fad4",
   "metadata": {},
   "source": [
    "Below are two ways of adding new rows to a DataFrame"
   ]
  },
  {
   "cell_type": "code",
   "execution_count": null,
   "id": "dda7eb4c-e17c-4099-9059-8390279a7f72",
   "metadata": {},
   "outputs": [],
   "source": [
    "#add row to end of DataFrame\n",
    "\n",
    "df.loc[len(df.index)] = [value1, value2, value3, ...]"
   ]
  },
  {
   "cell_type": "code",
   "execution_count": null,
   "id": "8bf12166-2437-42e1-8a05-567b9bf2ea83",
   "metadata": {},
   "outputs": [],
   "source": [
    "#append rows of df2 to end of existing DataFrame\n",
    "\n",
    "df = df.append(df2, ignore_index = True)"
   ]
  },
  {
   "cell_type": "markdown",
   "id": "d0180ab5-8856-40a0-aa82-59bebccca470",
   "metadata": {
    "tags": []
   },
   "source": [
    "### How To Set The Index In A DataFrame"
   ]
  },
  {
   "cell_type": "markdown",
   "id": "70cf33ff-73cf-4413-9a5d-72f96dfe9ee1",
   "metadata": {
    "jp-MarkdownHeadingCollapsed": true,
    "tags": []
   },
   "source": [
    "#### Single Index"
   ]
  },
  {
   "cell_type": "code",
   "execution_count": 5,
   "id": "23320bd9-2798-4c3a-a149-a6e3963a8a55",
   "metadata": {},
   "outputs": [
    {
     "data": {
      "text/html": [
       "<div>\n",
       "<style scoped>\n",
       "    .dataframe tbody tr th:only-of-type {\n",
       "        vertical-align: middle;\n",
       "    }\n",
       "\n",
       "    .dataframe tbody tr th {\n",
       "        vertical-align: top;\n",
       "    }\n",
       "\n",
       "    .dataframe thead th {\n",
       "        text-align: right;\n",
       "    }\n",
       "</style>\n",
       "<table border=\"1\" class=\"dataframe\">\n",
       "  <thead>\n",
       "    <tr style=\"text-align: right;\">\n",
       "      <th></th>\n",
       "      <th>Name</th>\n",
       "      <th>Age</th>\n",
       "      <th>City</th>\n",
       "      <th>Country</th>\n",
       "      <th>ID</th>\n",
       "    </tr>\n",
       "    <tr>\n",
       "      <th>Agg_Marks</th>\n",
       "      <th></th>\n",
       "      <th></th>\n",
       "      <th></th>\n",
       "      <th></th>\n",
       "      <th></th>\n",
       "    </tr>\n",
       "  </thead>\n",
       "  <tbody>\n",
       "    <tr>\n",
       "      <th>85.96</th>\n",
       "      <td>jack</td>\n",
       "      <td>34</td>\n",
       "      <td>Sydeny</td>\n",
       "      <td>Australia</td>\n",
       "      <td>400</td>\n",
       "    </tr>\n",
       "    <tr>\n",
       "      <th>95.20</th>\n",
       "      <td>Riti</td>\n",
       "      <td>30</td>\n",
       "      <td>Delhi</td>\n",
       "      <td>India</td>\n",
       "      <td>750</td>\n",
       "    </tr>\n",
       "    <tr>\n",
       "      <th>85.25</th>\n",
       "      <td>Vansh</td>\n",
       "      <td>31</td>\n",
       "      <td>Delhi</td>\n",
       "      <td>India</td>\n",
       "      <td>101</td>\n",
       "    </tr>\n",
       "    <tr>\n",
       "      <th>74.21</th>\n",
       "      <td>Nanyu</td>\n",
       "      <td>32</td>\n",
       "      <td>Tokyo</td>\n",
       "      <td>Japan</td>\n",
       "      <td>900</td>\n",
       "    </tr>\n",
       "    <tr>\n",
       "      <th>99.63</th>\n",
       "      <td>Maychan</td>\n",
       "      <td>16</td>\n",
       "      <td>New York</td>\n",
       "      <td>US</td>\n",
       "      <td>420</td>\n",
       "    </tr>\n",
       "    <tr>\n",
       "      <th>47.28</th>\n",
       "      <td>Mike</td>\n",
       "      <td>17</td>\n",
       "      <td>las vegas</td>\n",
       "      <td>US</td>\n",
       "      <td>555</td>\n",
       "    </tr>\n",
       "  </tbody>\n",
       "</table>\n",
       "</div>"
      ],
      "text/plain": [
       "              Name  Age       City    Country   ID\n",
       "Agg_Marks                                         \n",
       "85.96         jack   34     Sydeny  Australia  400\n",
       "95.20         Riti   30      Delhi      India  750\n",
       "85.25        Vansh   31      Delhi      India  101\n",
       "74.21        Nanyu   32      Tokyo      Japan  900\n",
       "99.63      Maychan   16   New York         US  420\n",
       "47.28         Mike   17  las vegas         US  555"
      ]
     },
     "execution_count": 5,
     "metadata": {},
     "output_type": "execute_result"
    }
   ],
   "source": [
    "# creating and initializing a nested list\n",
    "\n",
    "students = [['jack', 34, 'Sydeny', 'Australia',85.96,400],\n",
    "            ['Riti', 30, 'Delhi', 'India',95.20,750],\n",
    "            ['Vansh', 31, 'Delhi', 'India',85.25,101],\n",
    "            ['Nanyu', 32, 'Tokyo', 'Japan',74.21,900],\n",
    "            ['Maychan', 16, 'New York', 'US',99.63,420],\n",
    "            ['Mike', 17, 'las vegas', 'US',47.28,555]]\n",
    " \n",
    "# Create a DataFrame object\n",
    "\n",
    "df = pd.DataFrame(students,\n",
    "                      columns=['Name', 'Age', 'City', 'Country','Agg_Marks','ID'],\n",
    "                           index=['a', 'b', 'c', 'd', 'e', 'f'])\n",
    "\n",
    "df.set_index('Agg_Marks', inplace = True)\n",
    "\n",
    "df"
   ]
  },
  {
   "cell_type": "markdown",
   "id": "0b1d1f4a-83e4-43c6-87c1-5d29edb7431a",
   "metadata": {
    "jp-MarkdownHeadingCollapsed": true,
    "tags": []
   },
   "source": [
    "#### Multi-Index"
   ]
  },
  {
   "cell_type": "code",
   "execution_count": 6,
   "id": "e11c958d-eadd-4520-986b-0e4a6eac25e3",
   "metadata": {},
   "outputs": [
    {
     "data": {
      "text/html": [
       "<div>\n",
       "<style scoped>\n",
       "    .dataframe tbody tr th:only-of-type {\n",
       "        vertical-align: middle;\n",
       "    }\n",
       "\n",
       "    .dataframe tbody tr th {\n",
       "        vertical-align: top;\n",
       "    }\n",
       "\n",
       "    .dataframe thead th {\n",
       "        text-align: right;\n",
       "    }\n",
       "</style>\n",
       "<table border=\"1\" class=\"dataframe\">\n",
       "  <thead>\n",
       "    <tr style=\"text-align: right;\">\n",
       "      <th></th>\n",
       "      <th></th>\n",
       "      <th></th>\n",
       "      <th>Age</th>\n",
       "      <th>Country</th>\n",
       "      <th>Agg_Marks</th>\n",
       "    </tr>\n",
       "    <tr>\n",
       "      <th>Name</th>\n",
       "      <th>City</th>\n",
       "      <th>ID</th>\n",
       "      <th></th>\n",
       "      <th></th>\n",
       "      <th></th>\n",
       "    </tr>\n",
       "  </thead>\n",
       "  <tbody>\n",
       "    <tr>\n",
       "      <th>jack</th>\n",
       "      <th>Sydeny</th>\n",
       "      <th>400</th>\n",
       "      <td>34</td>\n",
       "      <td>Australia</td>\n",
       "      <td>85.96</td>\n",
       "    </tr>\n",
       "    <tr>\n",
       "      <th>Riti</th>\n",
       "      <th>Delhi</th>\n",
       "      <th>750</th>\n",
       "      <td>30</td>\n",
       "      <td>India</td>\n",
       "      <td>95.20</td>\n",
       "    </tr>\n",
       "    <tr>\n",
       "      <th>Vansh</th>\n",
       "      <th>Delhi</th>\n",
       "      <th>101</th>\n",
       "      <td>31</td>\n",
       "      <td>India</td>\n",
       "      <td>85.25</td>\n",
       "    </tr>\n",
       "    <tr>\n",
       "      <th>Nanyu</th>\n",
       "      <th>Tokyo</th>\n",
       "      <th>900</th>\n",
       "      <td>32</td>\n",
       "      <td>Japan</td>\n",
       "      <td>74.21</td>\n",
       "    </tr>\n",
       "    <tr>\n",
       "      <th>Maychan</th>\n",
       "      <th>New York</th>\n",
       "      <th>420</th>\n",
       "      <td>16</td>\n",
       "      <td>US</td>\n",
       "      <td>99.63</td>\n",
       "    </tr>\n",
       "    <tr>\n",
       "      <th>Mike</th>\n",
       "      <th>las vegas</th>\n",
       "      <th>555</th>\n",
       "      <td>17</td>\n",
       "      <td>US</td>\n",
       "      <td>47.28</td>\n",
       "    </tr>\n",
       "  </tbody>\n",
       "</table>\n",
       "</div>"
      ],
      "text/plain": [
       "                       Age    Country  Agg_Marks\n",
       "Name    City      ID                            \n",
       "jack    Sydeny    400   34  Australia      85.96\n",
       "Riti    Delhi     750   30      India      95.20\n",
       "Vansh   Delhi     101   31      India      85.25\n",
       "Nanyu   Tokyo     900   32      Japan      74.21\n",
       "Maychan New York  420   16         US      99.63\n",
       "Mike    las vegas 555   17         US      47.28"
      ]
     },
     "execution_count": 6,
     "metadata": {},
     "output_type": "execute_result"
    }
   ],
   "source": [
    "# creating and initializing a nested list\n",
    "\n",
    "students = [['jack', 34, 'Sydeny', 'Australia',85.96,400],\n",
    "            ['Riti', 30, 'Delhi', 'India',95.20,750],\n",
    "            ['Vansh', 31, 'Delhi', 'India',85.25,101],\n",
    "            ['Nanyu', 32, 'Tokyo', 'Japan',74.21,900],\n",
    "            ['Maychan', 16, 'New York', 'US',99.63,420],\n",
    "            ['Mike', 17, 'las vegas', 'US',47.28,555]]\n",
    " \n",
    "# Create a DataFrame object\n",
    "\n",
    "df = pd.DataFrame(students,\n",
    "                      columns=['Name', 'Age', 'City', 'Country','Agg_Marks','ID'],\n",
    "                           index=['a', 'b', 'c', 'd', 'e', 'f'])\n",
    "\n",
    "df.set_index(['Name','City','ID'], inplace = True)\n",
    "\n",
    "df"
   ]
  },
  {
   "cell_type": "code",
   "execution_count": 13,
   "id": "5064ae79-c324-477b-9961-3fd7dc85fbc3",
   "metadata": {},
   "outputs": [],
   "source": [
    "# Adding Another Jack\n",
    "\n",
    "df.loc['jack', 'New York', 666] = [99, 'US', 100.00]"
   ]
  },
  {
   "cell_type": "code",
   "execution_count": 17,
   "id": "b19956c9-a25a-4931-b0cb-a330c5f70505",
   "metadata": {},
   "outputs": [
    {
     "data": {
      "text/html": [
       "<div>\n",
       "<style scoped>\n",
       "    .dataframe tbody tr th:only-of-type {\n",
       "        vertical-align: middle;\n",
       "    }\n",
       "\n",
       "    .dataframe tbody tr th {\n",
       "        vertical-align: top;\n",
       "    }\n",
       "\n",
       "    .dataframe thead th {\n",
       "        text-align: right;\n",
       "    }\n",
       "</style>\n",
       "<table border=\"1\" class=\"dataframe\">\n",
       "  <thead>\n",
       "    <tr style=\"text-align: right;\">\n",
       "      <th></th>\n",
       "      <th></th>\n",
       "      <th>Age</th>\n",
       "      <th>Country</th>\n",
       "      <th>Agg_Marks</th>\n",
       "    </tr>\n",
       "    <tr>\n",
       "      <th>City</th>\n",
       "      <th>ID</th>\n",
       "      <th></th>\n",
       "      <th></th>\n",
       "      <th></th>\n",
       "    </tr>\n",
       "  </thead>\n",
       "  <tbody>\n",
       "    <tr>\n",
       "      <th>Sydeny</th>\n",
       "      <th>400</th>\n",
       "      <td>34</td>\n",
       "      <td>Australia</td>\n",
       "      <td>85.96</td>\n",
       "    </tr>\n",
       "    <tr>\n",
       "      <th>New York</th>\n",
       "      <th>666</th>\n",
       "      <td>99</td>\n",
       "      <td>US</td>\n",
       "      <td>100.00</td>\n",
       "    </tr>\n",
       "  </tbody>\n",
       "</table>\n",
       "</div>"
      ],
      "text/plain": [
       "              Age    Country  Agg_Marks\n",
       "City     ID                            \n",
       "Sydeny   400   34  Australia      85.96\n",
       "New York 666   99         US     100.00"
      ]
     },
     "execution_count": 17,
     "metadata": {},
     "output_type": "execute_result"
    }
   ],
   "source": [
    "# Searching The Index For 'Jack's\n",
    "\n",
    "df.loc['jack']"
   ]
  },
  {
   "cell_type": "code",
   "execution_count": 18,
   "id": "2b851c4e-9556-4e78-922e-3ec0153bf57c",
   "metadata": {},
   "outputs": [
    {
     "name": "stderr",
     "output_type": "stream",
     "text": [
      "/var/folders/k1/r7px6rdx6hsdpvv2jd0z1_v40000gn/T/ipykernel_42706/436003656.py:3: PerformanceWarning: indexing past lexsort depth may impact performance.\n",
      "  df.loc['jack', 'New York']\n"
     ]
    },
    {
     "data": {
      "text/html": [
       "<div>\n",
       "<style scoped>\n",
       "    .dataframe tbody tr th:only-of-type {\n",
       "        vertical-align: middle;\n",
       "    }\n",
       "\n",
       "    .dataframe tbody tr th {\n",
       "        vertical-align: top;\n",
       "    }\n",
       "\n",
       "    .dataframe thead th {\n",
       "        text-align: right;\n",
       "    }\n",
       "</style>\n",
       "<table border=\"1\" class=\"dataframe\">\n",
       "  <thead>\n",
       "    <tr style=\"text-align: right;\">\n",
       "      <th></th>\n",
       "      <th>Age</th>\n",
       "      <th>Country</th>\n",
       "      <th>Agg_Marks</th>\n",
       "    </tr>\n",
       "    <tr>\n",
       "      <th>ID</th>\n",
       "      <th></th>\n",
       "      <th></th>\n",
       "      <th></th>\n",
       "    </tr>\n",
       "  </thead>\n",
       "  <tbody>\n",
       "    <tr>\n",
       "      <th>666</th>\n",
       "      <td>99</td>\n",
       "      <td>US</td>\n",
       "      <td>100.0</td>\n",
       "    </tr>\n",
       "  </tbody>\n",
       "</table>\n",
       "</div>"
      ],
      "text/plain": [
       "     Age Country  Agg_Marks\n",
       "ID                         \n",
       "666   99      US      100.0"
      ]
     },
     "execution_count": 18,
     "metadata": {},
     "output_type": "execute_result"
    }
   ],
   "source": [
    "# Searching The Index For 'jack's from 'New York'\n",
    "\n",
    "df.loc['jack', 'New York']"
   ]
  },
  {
   "cell_type": "markdown",
   "id": "9d6d3ca6-eebd-4f70-85ef-858df590d4d1",
   "metadata": {
    "tags": []
   },
   "source": [
    "### How To Delete Rows"
   ]
  },
  {
   "cell_type": "markdown",
   "id": "6451c3e1-dca7-47c1-99b1-ffb3391e31d7",
   "metadata": {
    "tags": []
   },
   "source": [
    "#### Drop Rows With Specific Index Labels Using pd.DataFrame.drop()"
   ]
  },
  {
   "cell_type": "markdown",
   "id": "87eb4231-1c59-46e9-9047-5b6ca102a53f",
   "metadata": {
    "jp-MarkdownHeadingCollapsed": true,
    "tags": []
   },
   "source": [
    "##### Single Non-numeric Index Label"
   ]
  },
  {
   "cell_type": "code",
   "execution_count": 28,
   "id": "9f237b7a-f088-4afe-9039-bb42660a5944",
   "metadata": {},
   "outputs": [
    {
     "data": {
      "text/html": [
       "<div>\n",
       "<style scoped>\n",
       "    .dataframe tbody tr th:only-of-type {\n",
       "        vertical-align: middle;\n",
       "    }\n",
       "\n",
       "    .dataframe tbody tr th {\n",
       "        vertical-align: top;\n",
       "    }\n",
       "\n",
       "    .dataframe thead th {\n",
       "        text-align: right;\n",
       "    }\n",
       "</style>\n",
       "<table border=\"1\" class=\"dataframe\">\n",
       "  <thead>\n",
       "    <tr style=\"text-align: right;\">\n",
       "      <th></th>\n",
       "      <th>Name</th>\n",
       "      <th>Age</th>\n",
       "      <th>City</th>\n",
       "      <th>Country</th>\n",
       "      <th>Agg_Marks</th>\n",
       "      <th>ID</th>\n",
       "    </tr>\n",
       "  </thead>\n",
       "  <tbody>\n",
       "    <tr>\n",
       "      <th>b</th>\n",
       "      <td>Riti</td>\n",
       "      <td>30</td>\n",
       "      <td>Delhi</td>\n",
       "      <td>India</td>\n",
       "      <td>95.20</td>\n",
       "      <td>750</td>\n",
       "    </tr>\n",
       "    <tr>\n",
       "      <th>c</th>\n",
       "      <td>Vansh</td>\n",
       "      <td>31</td>\n",
       "      <td>Delhi</td>\n",
       "      <td>India</td>\n",
       "      <td>85.25</td>\n",
       "      <td>101</td>\n",
       "    </tr>\n",
       "    <tr>\n",
       "      <th>d</th>\n",
       "      <td>Nanyu</td>\n",
       "      <td>32</td>\n",
       "      <td>Tokyo</td>\n",
       "      <td>Japan</td>\n",
       "      <td>74.21</td>\n",
       "      <td>900</td>\n",
       "    </tr>\n",
       "    <tr>\n",
       "      <th>e</th>\n",
       "      <td>Maychan</td>\n",
       "      <td>16</td>\n",
       "      <td>New York</td>\n",
       "      <td>US</td>\n",
       "      <td>99.63</td>\n",
       "      <td>420</td>\n",
       "    </tr>\n",
       "    <tr>\n",
       "      <th>f</th>\n",
       "      <td>Mike</td>\n",
       "      <td>17</td>\n",
       "      <td>las vegas</td>\n",
       "      <td>US</td>\n",
       "      <td>47.28</td>\n",
       "      <td>555</td>\n",
       "    </tr>\n",
       "  </tbody>\n",
       "</table>\n",
       "</div>"
      ],
      "text/plain": [
       "      Name  Age       City Country  Agg_Marks   ID\n",
       "b     Riti   30      Delhi   India      95.20  750\n",
       "c    Vansh   31      Delhi   India      85.25  101\n",
       "d    Nanyu   32      Tokyo   Japan      74.21  900\n",
       "e  Maychan   16   New York      US      99.63  420\n",
       "f     Mike   17  las vegas      US      47.28  555"
      ]
     },
     "execution_count": 28,
     "metadata": {},
     "output_type": "execute_result"
    }
   ],
   "source": [
    "students = [['jack', 34, 'Sydeny', 'Australia',85.96,400],\n",
    "            ['Riti', 30, 'Delhi', 'India',95.20,750],\n",
    "            ['Vansh', 31, 'Delhi', 'India',85.25,101],\n",
    "            ['Nanyu', 32, 'Tokyo', 'Japan',74.21,900],\n",
    "            ['Maychan', 16, 'New York', 'US',99.63,420],\n",
    "            ['Mike', 17, 'las vegas', 'US',47.28,555]]\n",
    " \n",
    "# Create a DataFrame object\n",
    "\n",
    "df = pd.DataFrame(students,\n",
    "                  columns=['Name', 'Age', 'City', 'Country','Agg_Marks','ID'],\n",
    "                  index=['a', 'b', 'c', 'd', 'e', 'f']\n",
    "                 )\n",
    "\n",
    "df.drop('a', inplace = True)\n",
    "df"
   ]
  },
  {
   "cell_type": "markdown",
   "id": "87bd48f1-ebaf-4911-96d9-21540ecd752b",
   "metadata": {
    "jp-MarkdownHeadingCollapsed": true,
    "tags": []
   },
   "source": [
    "##### Multi Non-numeric Index Label"
   ]
  },
  {
   "cell_type": "code",
   "execution_count": 29,
   "id": "2931d96e-5a35-4a91-a57c-09ef21b9296c",
   "metadata": {},
   "outputs": [
    {
     "data": {
      "text/html": [
       "<div>\n",
       "<style scoped>\n",
       "    .dataframe tbody tr th:only-of-type {\n",
       "        vertical-align: middle;\n",
       "    }\n",
       "\n",
       "    .dataframe tbody tr th {\n",
       "        vertical-align: top;\n",
       "    }\n",
       "\n",
       "    .dataframe thead th {\n",
       "        text-align: right;\n",
       "    }\n",
       "</style>\n",
       "<table border=\"1\" class=\"dataframe\">\n",
       "  <thead>\n",
       "    <tr style=\"text-align: right;\">\n",
       "      <th></th>\n",
       "      <th>Name</th>\n",
       "      <th>Age</th>\n",
       "      <th>City</th>\n",
       "      <th>Country</th>\n",
       "      <th>Agg_Marks</th>\n",
       "      <th>ID</th>\n",
       "    </tr>\n",
       "  </thead>\n",
       "  <tbody>\n",
       "    <tr>\n",
       "      <th>c</th>\n",
       "      <td>Vansh</td>\n",
       "      <td>31</td>\n",
       "      <td>Delhi</td>\n",
       "      <td>India</td>\n",
       "      <td>85.25</td>\n",
       "      <td>101</td>\n",
       "    </tr>\n",
       "    <tr>\n",
       "      <th>d</th>\n",
       "      <td>Nanyu</td>\n",
       "      <td>32</td>\n",
       "      <td>Tokyo</td>\n",
       "      <td>Japan</td>\n",
       "      <td>74.21</td>\n",
       "      <td>900</td>\n",
       "    </tr>\n",
       "    <tr>\n",
       "      <th>e</th>\n",
       "      <td>Maychan</td>\n",
       "      <td>16</td>\n",
       "      <td>New York</td>\n",
       "      <td>US</td>\n",
       "      <td>99.63</td>\n",
       "      <td>420</td>\n",
       "    </tr>\n",
       "  </tbody>\n",
       "</table>\n",
       "</div>"
      ],
      "text/plain": [
       "      Name  Age      City Country  Agg_Marks   ID\n",
       "c    Vansh   31     Delhi   India      85.25  101\n",
       "d    Nanyu   32     Tokyo   Japan      74.21  900\n",
       "e  Maychan   16  New York      US      99.63  420"
      ]
     },
     "execution_count": 29,
     "metadata": {},
     "output_type": "execute_result"
    }
   ],
   "source": [
    "students = [['jack', 34, 'Sydeny', 'Australia',85.96,400],\n",
    "            ['Riti', 30, 'Delhi', 'India',95.20,750],\n",
    "            ['Vansh', 31, 'Delhi', 'India',85.25,101],\n",
    "            ['Nanyu', 32, 'Tokyo', 'Japan',74.21,900],\n",
    "            ['Maychan', 16, 'New York', 'US',99.63,420],\n",
    "            ['Mike', 17, 'las vegas', 'US',47.28,555]]\n",
    " \n",
    "# Create a DataFrame object\n",
    "\n",
    "df = pd.DataFrame(students,\n",
    "                  columns=['Name', 'Age', 'City', 'Country','Agg_Marks','ID'],\n",
    "                  index=['a', 'b', 'c', 'd', 'e', 'f']\n",
    "                 )\n",
    "\n",
    "df.drop(['a','b','f'], inplace = True)\n",
    "df"
   ]
  },
  {
   "cell_type": "markdown",
   "id": "0b6d6498-ae25-4bc0-a844-af10a25110a7",
   "metadata": {
    "tags": []
   },
   "source": [
    "##### Single Numeric Index Label"
   ]
  },
  {
   "cell_type": "code",
   "execution_count": 31,
   "id": "b9b0074f-1f6d-4048-b09c-a540dd8f13d9",
   "metadata": {},
   "outputs": [
    {
     "data": {
      "text/html": [
       "<div>\n",
       "<style scoped>\n",
       "    .dataframe tbody tr th:only-of-type {\n",
       "        vertical-align: middle;\n",
       "    }\n",
       "\n",
       "    .dataframe tbody tr th {\n",
       "        vertical-align: top;\n",
       "    }\n",
       "\n",
       "    .dataframe thead th {\n",
       "        text-align: right;\n",
       "    }\n",
       "</style>\n",
       "<table border=\"1\" class=\"dataframe\">\n",
       "  <thead>\n",
       "    <tr style=\"text-align: right;\">\n",
       "      <th></th>\n",
       "      <th>Name</th>\n",
       "      <th>Age</th>\n",
       "      <th>City</th>\n",
       "      <th>Country</th>\n",
       "      <th>Agg_Marks</th>\n",
       "      <th>ID</th>\n",
       "    </tr>\n",
       "  </thead>\n",
       "  <tbody>\n",
       "    <tr>\n",
       "      <th>0</th>\n",
       "      <td>jack</td>\n",
       "      <td>34</td>\n",
       "      <td>Sydeny</td>\n",
       "      <td>Australia</td>\n",
       "      <td>85.96</td>\n",
       "      <td>400</td>\n",
       "    </tr>\n",
       "    <tr>\n",
       "      <th>2</th>\n",
       "      <td>Vansh</td>\n",
       "      <td>31</td>\n",
       "      <td>Delhi</td>\n",
       "      <td>India</td>\n",
       "      <td>85.25</td>\n",
       "      <td>101</td>\n",
       "    </tr>\n",
       "    <tr>\n",
       "      <th>3</th>\n",
       "      <td>Nanyu</td>\n",
       "      <td>32</td>\n",
       "      <td>Tokyo</td>\n",
       "      <td>Japan</td>\n",
       "      <td>74.21</td>\n",
       "      <td>900</td>\n",
       "    </tr>\n",
       "    <tr>\n",
       "      <th>4</th>\n",
       "      <td>Maychan</td>\n",
       "      <td>16</td>\n",
       "      <td>New York</td>\n",
       "      <td>US</td>\n",
       "      <td>99.63</td>\n",
       "      <td>420</td>\n",
       "    </tr>\n",
       "    <tr>\n",
       "      <th>5</th>\n",
       "      <td>Mike</td>\n",
       "      <td>17</td>\n",
       "      <td>las vegas</td>\n",
       "      <td>US</td>\n",
       "      <td>47.28</td>\n",
       "      <td>555</td>\n",
       "    </tr>\n",
       "  </tbody>\n",
       "</table>\n",
       "</div>"
      ],
      "text/plain": [
       "      Name  Age       City    Country  Agg_Marks   ID\n",
       "0     jack   34     Sydeny  Australia      85.96  400\n",
       "2    Vansh   31      Delhi      India      85.25  101\n",
       "3    Nanyu   32      Tokyo      Japan      74.21  900\n",
       "4  Maychan   16   New York         US      99.63  420\n",
       "5     Mike   17  las vegas         US      47.28  555"
      ]
     },
     "execution_count": 31,
     "metadata": {},
     "output_type": "execute_result"
    }
   ],
   "source": [
    "students = [['jack', 34, 'Sydeny', 'Australia',85.96,400],\n",
    "            ['Riti', 30, 'Delhi', 'India',95.20,750],\n",
    "            ['Vansh', 31, 'Delhi', 'India',85.25,101],\n",
    "            ['Nanyu', 32, 'Tokyo', 'Japan',74.21,900],\n",
    "            ['Maychan', 16, 'New York', 'US',99.63,420],\n",
    "            ['Mike', 17, 'las vegas', 'US',47.28,555]]\n",
    " \n",
    "# Create a DataFrame object\n",
    "\n",
    "df = pd.DataFrame(students,\n",
    "                  columns=['Name', 'Age', 'City', 'Country','Agg_Marks','ID']\n",
    "                  )\n",
    "\n",
    "df.drop(1, inplace = True)\n",
    "df"
   ]
  },
  {
   "cell_type": "markdown",
   "id": "72fb829b-8e5d-4451-9f5f-b4204861aa78",
   "metadata": {
    "tags": []
   },
   "source": [
    "#### Drop Rows that Contain a Specific Value"
   ]
  },
  {
   "cell_type": "markdown",
   "id": "9ec3db5d-fc83-451b-8c6b-fa0a0ba13cb6",
   "metadata": {
    "tags": []
   },
   "source": [
    "##### Drop the specific value by using Operators"
   ]
  },
  {
   "cell_type": "code",
   "execution_count": 3,
   "id": "1a6756cd-c049-496c-91fb-5d6092296fe2",
   "metadata": {},
   "outputs": [
    {
     "name": "stdout",
     "output_type": "stream",
     "text": [
      "        name  subjects  marks\n",
      "0     sravan      java     98\n",
      "1   jyothika      java     79\n",
      "2     harsha      java     89\n",
      "3      ramya    python     97\n",
      "4     sravan    python     82\n",
      "5   jyothika    python     98\n",
      "6     harsha  html/php     90\n",
      "7      ramya  html/php     87\n",
      "8     sravan  html/php     78\n",
      "9   jyothika    php/js     89\n",
      "10    harsha    php/js     93\n",
      "11     ramya    php/js     94\n",
      "---------------\n",
      "        name  subjects  marks\n",
      "1   jyothika      java     79\n",
      "2     harsha      java     89\n",
      "3      ramya    python     97\n",
      "4     sravan    python     82\n",
      "6     harsha  html/php     90\n",
      "7      ramya  html/php     87\n",
      "8     sravan  html/php     78\n",
      "9   jyothika    php/js     89\n",
      "10    harsha    php/js     93\n",
      "11     ramya    php/js     94\n",
      "---------------\n"
     ]
    }
   ],
   "source": [
    "import pandas as pd\n",
    "\n",
    "data = pd.DataFrame({\n",
    "  \n",
    "    \"name\": ['sravan', 'jyothika', 'harsha', 'ramya',\n",
    "             'sravan', 'jyothika', 'harsha', 'ramya',\n",
    "             'sravan', 'jyothika', 'harsha', 'ramya'],\n",
    "    \"subjects\": ['java', 'java', 'java', 'python',\n",
    "                 'python', 'python', 'html/php', 'html/php',\n",
    "                 'html/php', 'php/js', 'php/js', 'php/js'],\n",
    "    \"marks\": [98, 79, 89, 97, 82, 98, 90,\n",
    "              87, 78, 89, 93, 94]\n",
    "})\n",
    "  \n",
    "# display\n",
    "print(data)\n",
    "  \n",
    "print(\"---------------\")\n",
    "  \n",
    "# drop rows where value is 98\n",
    "# by using not equal operator\n",
    "print(data[data.marks != 98])\n",
    "  \n",
    "print(\"---------------\")"
   ]
  },
  {
   "cell_type": "markdown",
   "id": "18732836-2abc-412f-aa06-3649c229cdae",
   "metadata": {
    "tags": []
   },
   "source": [
    "##### Drop Rows that Contain Values in a List"
   ]
  },
  {
   "cell_type": "code",
   "execution_count": 33,
   "id": "6d51dbc0-df29-4602-80d6-1d0f349c51c4",
   "metadata": {},
   "outputs": [
    {
     "name": "stdout",
     "output_type": "stream",
     "text": [
      "        name  subjects  marks\n",
      "2     harsha      java     89\n",
      "3      ramya    python     97\n",
      "6     harsha  html/php     90\n",
      "7      ramya  html/php     87\n",
      "8     sravan  html/php     78\n",
      "9   jyothika    php/js     89\n",
      "10    harsha    php/js     93\n",
      "11     ramya    php/js     94\n",
      "---------------\n",
      "      name  subjects  marks\n",
      "2   harsha      java     89\n",
      "3    ramya    python     97\n",
      "6   harsha  html/php     90\n",
      "7    ramya  html/php     87\n",
      "10  harsha    php/js     93\n",
      "11   ramya    php/js     94\n"
     ]
    }
   ],
   "source": [
    "# create dataframe with 4 columns\n",
    "data = pd.DataFrame({\n",
    "  \n",
    "    \"name\": ['sravan', 'jyothika', 'harsha', 'ramya',\n",
    "             'sravan', 'jyothika', 'harsha', 'ramya', \n",
    "             'sravan', 'jyothika', 'harsha', 'ramya'],\n",
    "    \"subjects\": ['java', 'java', 'java', 'python', \n",
    "                 'python', 'python', 'html/php', \n",
    "                 'html/php', 'html/php', 'php/js', \n",
    "                 'php/js', 'php/js'],\n",
    "    \"marks\": [98, 79, 89, 97, 82, 98, 90, 87,\n",
    "              78, 89, 93, 94]\n",
    "})\n",
    "  \n",
    "# consider the list\n",
    "list1 = [98, 82, 79]\n",
    "  \n",
    "# drop rows from above list\n",
    "print(data[data.marks.isin(list1) == False])\n",
    "  \n",
    "print(\"---------------\")\n",
    "  \n",
    "list2 = ['sravan', 'jyothika']\n",
    "# drop rows from above list\n",
    "print(data[data.name.isin(list2) == False])"
   ]
  },
  {
   "cell_type": "markdown",
   "id": "72ba3c71-30b9-4ba9-83fe-ff4031706986",
   "metadata": {
    "tags": []
   },
   "source": [
    "##### Drop rows that contain specific values in multiple columns"
   ]
  },
  {
   "cell_type": "code",
   "execution_count": 34,
   "id": "6ea03202-887c-4735-8f08-8736d1365ceb",
   "metadata": {},
   "outputs": [
    {
     "name": "stdout",
     "output_type": "stream",
     "text": [
      "        name  subjects  marks\n",
      "1   jyothika      java     79\n",
      "2     harsha      java     89\n",
      "3      ramya    python     97\n",
      "6     harsha  html/php     90\n",
      "7      ramya  html/php     87\n",
      "9   jyothika    php/js     89\n",
      "10    harsha    php/js     93\n",
      "11     ramya    php/js     94\n",
      "------------------\n",
      "        name  subjects  marks\n",
      "1   jyothika      java     79\n",
      "2     harsha      java     89\n",
      "3      ramya    python     97\n",
      "4     sravan    python     82\n",
      "5   jyothika    python     98\n",
      "6     harsha  html/php     90\n",
      "7      ramya  html/php     87\n",
      "8     sravan  html/php     78\n",
      "9   jyothika    php/js     89\n",
      "10    harsha    php/js     93\n",
      "11     ramya    php/js     94\n"
     ]
    }
   ],
   "source": [
    "data = pd.DataFrame({\n",
    "  \n",
    "    \"name\": ['sravan', 'jyothika', 'harsha', 'ramya',\n",
    "             'sravan', 'jyothika', 'harsha', 'ramya',\n",
    "             'sravan', 'jyothika', 'harsha', 'ramya'],\n",
    "    \"subjects\": ['java', 'java', 'java', 'python',\n",
    "                 'python', 'python', 'html/php', \n",
    "                 'html/php', 'html/php', 'php/js', \n",
    "                 'php/js', 'php/js'],\n",
    "    \"marks\": [98, 79, 89, 97, 82, 98, 90,\n",
    "              87, 78, 89, 93, 94]\n",
    "})\n",
    "  \n",
    "# drop specific values\n",
    "# where marks is 98 and name is sravan\n",
    "print(data[(data.marks != 98) & (data.name != 'sravan')])\n",
    "  \n",
    "print(\"------------------\")\n",
    "  \n",
    "# drop specific values\n",
    "# where marks is 98 or name is sravan\n",
    "print(data[(data.marks != 98) | (data.name != 'sravan')])"
   ]
  },
  {
   "cell_type": "markdown",
   "id": "e4293e23-b9dc-4480-b4c4-c847842b4b05",
   "metadata": {},
   "source": [
    "##### Drop Non-Numeric Values"
   ]
  },
  {
   "cell_type": "code",
   "execution_count": null,
   "id": "23ae8484-8b7b-4ac6-a1b6-09e243dede01",
   "metadata": {},
   "outputs": [],
   "source": [
    "df = df[df['y'].str.isnumeric()].copy()"
   ]
  },
  {
   "cell_type": "markdown",
   "id": "e6c1e82c-7067-4901-ba69-126d2ddbbb74",
   "metadata": {},
   "source": [
    "#### Drop The Rows With NaNs"
   ]
  },
  {
   "cell_type": "code",
   "execution_count": 99,
   "id": "7a789b3c-7bf9-426f-a939-c883fdb3cf52",
   "metadata": {},
   "outputs": [
    {
     "data": {
      "text/html": [
       "<div>\n",
       "<style scoped>\n",
       "    .dataframe tbody tr th:only-of-type {\n",
       "        vertical-align: middle;\n",
       "    }\n",
       "\n",
       "    .dataframe tbody tr th {\n",
       "        vertical-align: top;\n",
       "    }\n",
       "\n",
       "    .dataframe thead th {\n",
       "        text-align: right;\n",
       "    }\n",
       "</style>\n",
       "<table border=\"1\" class=\"dataframe\">\n",
       "  <thead>\n",
       "    <tr style=\"text-align: right;\">\n",
       "      <th></th>\n",
       "      <th>Integers_1</th>\n",
       "      <th>Integers_2</th>\n",
       "      <th>Integers_3</th>\n",
       "    </tr>\n",
       "  </thead>\n",
       "  <tbody>\n",
       "    <tr>\n",
       "      <th>0</th>\n",
       "      <td>10.0</td>\n",
       "      <td>NaN</td>\n",
       "      <td>21.0</td>\n",
       "    </tr>\n",
       "    <tr>\n",
       "      <th>1</th>\n",
       "      <td>15.0</td>\n",
       "      <td>21.0</td>\n",
       "      <td>NaN</td>\n",
       "    </tr>\n",
       "    <tr>\n",
       "      <th>2</th>\n",
       "      <td>30.0</td>\n",
       "      <td>22.0</td>\n",
       "      <td>22.0</td>\n",
       "    </tr>\n",
       "    <tr>\n",
       "      <th>3</th>\n",
       "      <td>40.0</td>\n",
       "      <td>23.0</td>\n",
       "      <td>NaN</td>\n",
       "    </tr>\n",
       "    <tr>\n",
       "      <th>4</th>\n",
       "      <td>55.0</td>\n",
       "      <td>NaN</td>\n",
       "      <td>23.0</td>\n",
       "    </tr>\n",
       "    <tr>\n",
       "      <th>5</th>\n",
       "      <td>NaN</td>\n",
       "      <td>NaN</td>\n",
       "      <td>NaN</td>\n",
       "    </tr>\n",
       "    <tr>\n",
       "      <th>6</th>\n",
       "      <td>75.0</td>\n",
       "      <td>25.0</td>\n",
       "      <td>NaN</td>\n",
       "    </tr>\n",
       "    <tr>\n",
       "      <th>7</th>\n",
       "      <td>NaN</td>\n",
       "      <td>NaN</td>\n",
       "      <td>25.0</td>\n",
       "    </tr>\n",
       "    <tr>\n",
       "      <th>8</th>\n",
       "      <td>90.0</td>\n",
       "      <td>26.0</td>\n",
       "      <td>26.0</td>\n",
       "    </tr>\n",
       "    <tr>\n",
       "      <th>9</th>\n",
       "      <td>150.0</td>\n",
       "      <td>NaN</td>\n",
       "      <td>NaN</td>\n",
       "    </tr>\n",
       "    <tr>\n",
       "      <th>10</th>\n",
       "      <td>NaN</td>\n",
       "      <td>NaN</td>\n",
       "      <td>NaN</td>\n",
       "    </tr>\n",
       "  </tbody>\n",
       "</table>\n",
       "</div>"
      ],
      "text/plain": [
       "    Integers_1  Integers_2  Integers_3\n",
       "0         10.0         NaN        21.0\n",
       "1         15.0        21.0         NaN\n",
       "2         30.0        22.0        22.0\n",
       "3         40.0        23.0         NaN\n",
       "4         55.0         NaN        23.0\n",
       "5          NaN         NaN         NaN\n",
       "6         75.0        25.0         NaN\n",
       "7          NaN         NaN        25.0\n",
       "8         90.0        26.0        26.0\n",
       "9        150.0         NaN         NaN\n",
       "10         NaN         NaN         NaN"
      ]
     },
     "metadata": {},
     "output_type": "display_data"
    },
    {
     "name": "stdout",
     "output_type": "stream",
     "text": [
      "\n",
      "Drop Rows with ANY NaN Values\n",
      "\n"
     ]
    },
    {
     "data": {
      "text/html": [
       "<div>\n",
       "<style scoped>\n",
       "    .dataframe tbody tr th:only-of-type {\n",
       "        vertical-align: middle;\n",
       "    }\n",
       "\n",
       "    .dataframe tbody tr th {\n",
       "        vertical-align: top;\n",
       "    }\n",
       "\n",
       "    .dataframe thead th {\n",
       "        text-align: right;\n",
       "    }\n",
       "</style>\n",
       "<table border=\"1\" class=\"dataframe\">\n",
       "  <thead>\n",
       "    <tr style=\"text-align: right;\">\n",
       "      <th></th>\n",
       "      <th>Integers_1</th>\n",
       "      <th>Integers_2</th>\n",
       "      <th>Integers_3</th>\n",
       "    </tr>\n",
       "  </thead>\n",
       "  <tbody>\n",
       "    <tr>\n",
       "      <th>2</th>\n",
       "      <td>30.0</td>\n",
       "      <td>22.0</td>\n",
       "      <td>22.0</td>\n",
       "    </tr>\n",
       "    <tr>\n",
       "      <th>8</th>\n",
       "      <td>90.0</td>\n",
       "      <td>26.0</td>\n",
       "      <td>26.0</td>\n",
       "    </tr>\n",
       "  </tbody>\n",
       "</table>\n",
       "</div>"
      ],
      "text/plain": [
       "   Integers_1  Integers_2  Integers_3\n",
       "2        30.0        22.0        22.0\n",
       "8        90.0        26.0        26.0"
      ]
     },
     "metadata": {},
     "output_type": "display_data"
    },
    {
     "name": "stdout",
     "output_type": "stream",
     "text": [
      "\n",
      "Drop Rows with ALL NaN Values\n",
      "\n"
     ]
    },
    {
     "data": {
      "text/html": [
       "<div>\n",
       "<style scoped>\n",
       "    .dataframe tbody tr th:only-of-type {\n",
       "        vertical-align: middle;\n",
       "    }\n",
       "\n",
       "    .dataframe tbody tr th {\n",
       "        vertical-align: top;\n",
       "    }\n",
       "\n",
       "    .dataframe thead th {\n",
       "        text-align: right;\n",
       "    }\n",
       "</style>\n",
       "<table border=\"1\" class=\"dataframe\">\n",
       "  <thead>\n",
       "    <tr style=\"text-align: right;\">\n",
       "      <th></th>\n",
       "      <th>Integers_1</th>\n",
       "      <th>Integers_2</th>\n",
       "      <th>Integers_3</th>\n",
       "    </tr>\n",
       "  </thead>\n",
       "  <tbody>\n",
       "    <tr>\n",
       "      <th>0</th>\n",
       "      <td>10.0</td>\n",
       "      <td>NaN</td>\n",
       "      <td>21.0</td>\n",
       "    </tr>\n",
       "    <tr>\n",
       "      <th>1</th>\n",
       "      <td>15.0</td>\n",
       "      <td>21.0</td>\n",
       "      <td>NaN</td>\n",
       "    </tr>\n",
       "    <tr>\n",
       "      <th>2</th>\n",
       "      <td>30.0</td>\n",
       "      <td>22.0</td>\n",
       "      <td>22.0</td>\n",
       "    </tr>\n",
       "    <tr>\n",
       "      <th>3</th>\n",
       "      <td>40.0</td>\n",
       "      <td>23.0</td>\n",
       "      <td>NaN</td>\n",
       "    </tr>\n",
       "    <tr>\n",
       "      <th>4</th>\n",
       "      <td>55.0</td>\n",
       "      <td>NaN</td>\n",
       "      <td>23.0</td>\n",
       "    </tr>\n",
       "    <tr>\n",
       "      <th>6</th>\n",
       "      <td>75.0</td>\n",
       "      <td>25.0</td>\n",
       "      <td>NaN</td>\n",
       "    </tr>\n",
       "    <tr>\n",
       "      <th>7</th>\n",
       "      <td>NaN</td>\n",
       "      <td>NaN</td>\n",
       "      <td>25.0</td>\n",
       "    </tr>\n",
       "    <tr>\n",
       "      <th>8</th>\n",
       "      <td>90.0</td>\n",
       "      <td>26.0</td>\n",
       "      <td>26.0</td>\n",
       "    </tr>\n",
       "    <tr>\n",
       "      <th>9</th>\n",
       "      <td>150.0</td>\n",
       "      <td>NaN</td>\n",
       "      <td>NaN</td>\n",
       "    </tr>\n",
       "  </tbody>\n",
       "</table>\n",
       "</div>"
      ],
      "text/plain": [
       "   Integers_1  Integers_2  Integers_3\n",
       "0        10.0         NaN        21.0\n",
       "1        15.0        21.0         NaN\n",
       "2        30.0        22.0        22.0\n",
       "3        40.0        23.0         NaN\n",
       "4        55.0         NaN        23.0\n",
       "6        75.0        25.0         NaN\n",
       "7         NaN         NaN        25.0\n",
       "8        90.0        26.0        26.0\n",
       "9       150.0         NaN         NaN"
      ]
     },
     "metadata": {},
     "output_type": "display_data"
    },
    {
     "name": "stdout",
     "output_type": "stream",
     "text": [
      "\n",
      "Drop Rows Above a Certain Threshold\n",
      "\n"
     ]
    },
    {
     "data": {
      "text/html": [
       "<div>\n",
       "<style scoped>\n",
       "    .dataframe tbody tr th:only-of-type {\n",
       "        vertical-align: middle;\n",
       "    }\n",
       "\n",
       "    .dataframe tbody tr th {\n",
       "        vertical-align: top;\n",
       "    }\n",
       "\n",
       "    .dataframe thead th {\n",
       "        text-align: right;\n",
       "    }\n",
       "</style>\n",
       "<table border=\"1\" class=\"dataframe\">\n",
       "  <thead>\n",
       "    <tr style=\"text-align: right;\">\n",
       "      <th></th>\n",
       "      <th>Integers_1</th>\n",
       "      <th>Integers_2</th>\n",
       "      <th>Integers_3</th>\n",
       "    </tr>\n",
       "  </thead>\n",
       "  <tbody>\n",
       "    <tr>\n",
       "      <th>0</th>\n",
       "      <td>10.0</td>\n",
       "      <td>NaN</td>\n",
       "      <td>21.0</td>\n",
       "    </tr>\n",
       "    <tr>\n",
       "      <th>1</th>\n",
       "      <td>15.0</td>\n",
       "      <td>21.0</td>\n",
       "      <td>NaN</td>\n",
       "    </tr>\n",
       "    <tr>\n",
       "      <th>2</th>\n",
       "      <td>30.0</td>\n",
       "      <td>22.0</td>\n",
       "      <td>22.0</td>\n",
       "    </tr>\n",
       "    <tr>\n",
       "      <th>3</th>\n",
       "      <td>40.0</td>\n",
       "      <td>23.0</td>\n",
       "      <td>NaN</td>\n",
       "    </tr>\n",
       "    <tr>\n",
       "      <th>4</th>\n",
       "      <td>55.0</td>\n",
       "      <td>NaN</td>\n",
       "      <td>23.0</td>\n",
       "    </tr>\n",
       "    <tr>\n",
       "      <th>6</th>\n",
       "      <td>75.0</td>\n",
       "      <td>25.0</td>\n",
       "      <td>NaN</td>\n",
       "    </tr>\n",
       "    <tr>\n",
       "      <th>8</th>\n",
       "      <td>90.0</td>\n",
       "      <td>26.0</td>\n",
       "      <td>26.0</td>\n",
       "    </tr>\n",
       "  </tbody>\n",
       "</table>\n",
       "</div>"
      ],
      "text/plain": [
       "   Integers_1  Integers_2  Integers_3\n",
       "0        10.0         NaN        21.0\n",
       "1        15.0        21.0         NaN\n",
       "2        30.0        22.0        22.0\n",
       "3        40.0        23.0         NaN\n",
       "4        55.0         NaN        23.0\n",
       "6        75.0        25.0         NaN\n",
       "8        90.0        26.0        26.0"
      ]
     },
     "metadata": {},
     "output_type": "display_data"
    },
    {
     "name": "stdout",
     "output_type": "stream",
     "text": [
      "\n",
      "Drop Row with Nan Values in Specific Columns\n",
      "\n"
     ]
    },
    {
     "data": {
      "text/html": [
       "<div>\n",
       "<style scoped>\n",
       "    .dataframe tbody tr th:only-of-type {\n",
       "        vertical-align: middle;\n",
       "    }\n",
       "\n",
       "    .dataframe tbody tr th {\n",
       "        vertical-align: top;\n",
       "    }\n",
       "\n",
       "    .dataframe thead th {\n",
       "        text-align: right;\n",
       "    }\n",
       "</style>\n",
       "<table border=\"1\" class=\"dataframe\">\n",
       "  <thead>\n",
       "    <tr style=\"text-align: right;\">\n",
       "      <th></th>\n",
       "      <th>Integers_1</th>\n",
       "      <th>Integers_2</th>\n",
       "      <th>Integers_3</th>\n",
       "    </tr>\n",
       "  </thead>\n",
       "  <tbody>\n",
       "    <tr>\n",
       "      <th>1</th>\n",
       "      <td>15.0</td>\n",
       "      <td>21.0</td>\n",
       "      <td>NaN</td>\n",
       "    </tr>\n",
       "    <tr>\n",
       "      <th>2</th>\n",
       "      <td>30.0</td>\n",
       "      <td>22.0</td>\n",
       "      <td>22.0</td>\n",
       "    </tr>\n",
       "    <tr>\n",
       "      <th>3</th>\n",
       "      <td>40.0</td>\n",
       "      <td>23.0</td>\n",
       "      <td>NaN</td>\n",
       "    </tr>\n",
       "    <tr>\n",
       "      <th>6</th>\n",
       "      <td>75.0</td>\n",
       "      <td>25.0</td>\n",
       "      <td>NaN</td>\n",
       "    </tr>\n",
       "    <tr>\n",
       "      <th>8</th>\n",
       "      <td>90.0</td>\n",
       "      <td>26.0</td>\n",
       "      <td>26.0</td>\n",
       "    </tr>\n",
       "  </tbody>\n",
       "</table>\n",
       "</div>"
      ],
      "text/plain": [
       "   Integers_1  Integers_2  Integers_3\n",
       "1        15.0        21.0         NaN\n",
       "2        30.0        22.0        22.0\n",
       "3        40.0        23.0         NaN\n",
       "6        75.0        25.0         NaN\n",
       "8        90.0        26.0        26.0"
      ]
     },
     "metadata": {},
     "output_type": "display_data"
    }
   ],
   "source": [
    "nums = {'Integers_1': [10, 15, 30, 40, 55, np.nan,\n",
    "                       75, np.nan, 90, 150, np.nan],\n",
    "        'Integers_2': [np.nan, 21, 22, 23, np.nan,\n",
    "                       np.nan, 25, np.nan, 26, np.nan,\n",
    "                       np.nan],\n",
    "        'Integers_3': [21, np.nan, 22, np.nan, 23,\n",
    "                       np.nan, np.nan, 25, 26, np.nan,\n",
    "                       np.nan],\n",
    "       }\n",
    "\n",
    "df = pd.DataFrame(nums)\n",
    "\n",
    "display(df)\n",
    "\n",
    "# Drop Rows with Any NaN Values\n",
    "\n",
    "print('\\nDrop Rows with ANY NaN Values\\n')\n",
    "display(df.dropna())\n",
    "\n",
    "# Drop Rows with ALL NaN Values \n",
    "\n",
    "print('\\nDrop Rows with ALL NaN Values\\n')\n",
    "display(df.dropna(how = 'all'))\n",
    "\n",
    "# Drop Rows Above a Certain Threshold\n",
    "# Keeps the rows with number of NaN's below the threshhold\n",
    "\n",
    "print('\\nDrop Rows Above a Certain Threshold\\n')\n",
    "display(df.dropna(thresh=2))\n",
    "\n",
    "# Drop Row with Nan Values in Specific Columns\n",
    "\n",
    "print('\\nDrop Row with Nan Values in Specific Columns\\n')\n",
    "display(df.dropna(subset = ['Integers_1','Integers_2']))"
   ]
  },
  {
   "cell_type": "markdown",
   "id": "4223c3c1-471b-4817-9ad3-64de5ab96c5c",
   "metadata": {},
   "source": [
    "### Select all Rows with NaN Values in Pandas DataFrame\n",
    "\n",
    "Here are 4 ways to select all rows with NaN values in Pandas DataFrame:"
   ]
  },
  {
   "cell_type": "code",
   "execution_count": 4,
   "id": "607393ba-0a61-4518-97d8-747c954d3b05",
   "metadata": {},
   "outputs": [],
   "source": [
    "df = pd.DataFrame(\n",
    "    {'first_set': [1,2,3,4,5,np.nan,6,7,np.nan,np.nan,8,9,10,np.nan],\n",
    "     'second_set': ['a','b',np.nan,np.nan,'c','d','e',np.nan,np.nan,'f','g',np.nan,'h','i']\n",
    "})"
   ]
  },
  {
   "cell_type": "markdown",
   "id": "015779ca-ed6c-41b4-acb1-51695ecd20fa",
   "metadata": {},
   "source": [
    "(1) Using **isna()** to select all rows with NaN under a <span style=\"text-decoration: underline\">single</span> DataFrame column:"
   ]
  },
  {
   "cell_type": "code",
   "execution_count": 5,
   "id": "6a615f23-4770-4736-9566-e16fc020cca1",
   "metadata": {},
   "outputs": [
    {
     "data": {
      "text/html": [
       "<div>\n",
       "<style scoped>\n",
       "    .dataframe tbody tr th:only-of-type {\n",
       "        vertical-align: middle;\n",
       "    }\n",
       "\n",
       "    .dataframe tbody tr th {\n",
       "        vertical-align: top;\n",
       "    }\n",
       "\n",
       "    .dataframe thead th {\n",
       "        text-align: right;\n",
       "    }\n",
       "</style>\n",
       "<table border=\"1\" class=\"dataframe\">\n",
       "  <thead>\n",
       "    <tr style=\"text-align: right;\">\n",
       "      <th></th>\n",
       "      <th>first_set</th>\n",
       "      <th>second_set</th>\n",
       "    </tr>\n",
       "  </thead>\n",
       "  <tbody>\n",
       "    <tr>\n",
       "      <th>5</th>\n",
       "      <td>NaN</td>\n",
       "      <td>d</td>\n",
       "    </tr>\n",
       "    <tr>\n",
       "      <th>8</th>\n",
       "      <td>NaN</td>\n",
       "      <td>NaN</td>\n",
       "    </tr>\n",
       "    <tr>\n",
       "      <th>9</th>\n",
       "      <td>NaN</td>\n",
       "      <td>f</td>\n",
       "    </tr>\n",
       "    <tr>\n",
       "      <th>13</th>\n",
       "      <td>NaN</td>\n",
       "      <td>i</td>\n",
       "    </tr>\n",
       "  </tbody>\n",
       "</table>\n",
       "</div>"
      ],
      "text/plain": [
       "    first_set second_set\n",
       "5         NaN          d\n",
       "8         NaN        NaN\n",
       "9         NaN          f\n",
       "13        NaN          i"
      ]
     },
     "execution_count": 5,
     "metadata": {},
     "output_type": "execute_result"
    }
   ],
   "source": [
    "df[df['first_set'].isna()]"
   ]
  },
  {
   "cell_type": "markdown",
   "id": "5ef4eaac-6638-4b86-846e-ea40e252a74d",
   "metadata": {},
   "source": [
    "(2) Using **isnull()** to select all rows with NaN under a <span style=\"text-decoration: underline\">single</span> DataFrame column:"
   ]
  },
  {
   "cell_type": "code",
   "execution_count": 7,
   "id": "3ee038c2-70e5-4a4d-a1b9-d66b14c76adb",
   "metadata": {},
   "outputs": [
    {
     "data": {
      "text/html": [
       "<div>\n",
       "<style scoped>\n",
       "    .dataframe tbody tr th:only-of-type {\n",
       "        vertical-align: middle;\n",
       "    }\n",
       "\n",
       "    .dataframe tbody tr th {\n",
       "        vertical-align: top;\n",
       "    }\n",
       "\n",
       "    .dataframe thead th {\n",
       "        text-align: right;\n",
       "    }\n",
       "</style>\n",
       "<table border=\"1\" class=\"dataframe\">\n",
       "  <thead>\n",
       "    <tr style=\"text-align: right;\">\n",
       "      <th></th>\n",
       "      <th>first_set</th>\n",
       "      <th>second_set</th>\n",
       "    </tr>\n",
       "  </thead>\n",
       "  <tbody>\n",
       "    <tr>\n",
       "      <th>5</th>\n",
       "      <td>NaN</td>\n",
       "      <td>d</td>\n",
       "    </tr>\n",
       "    <tr>\n",
       "      <th>8</th>\n",
       "      <td>NaN</td>\n",
       "      <td>NaN</td>\n",
       "    </tr>\n",
       "    <tr>\n",
       "      <th>9</th>\n",
       "      <td>NaN</td>\n",
       "      <td>f</td>\n",
       "    </tr>\n",
       "    <tr>\n",
       "      <th>13</th>\n",
       "      <td>NaN</td>\n",
       "      <td>i</td>\n",
       "    </tr>\n",
       "  </tbody>\n",
       "</table>\n",
       "</div>"
      ],
      "text/plain": [
       "    first_set second_set\n",
       "5         NaN          d\n",
       "8         NaN        NaN\n",
       "9         NaN          f\n",
       "13        NaN          i"
      ]
     },
     "execution_count": 7,
     "metadata": {},
     "output_type": "execute_result"
    }
   ],
   "source": [
    "df[df['first_set'].isnull()]"
   ]
  },
  {
   "cell_type": "markdown",
   "id": "9e2b59d6-6c0e-404c-b77b-4ed06dabe9f1",
   "metadata": {},
   "source": [
    "(3) Using **isna()** to select all rows with NaN under an <span style=\"text-decoration: underline\">entire</span> DataFrame column:"
   ]
  },
  {
   "cell_type": "code",
   "execution_count": 8,
   "id": "e5f9c1c8-4a8b-48cd-b2d4-2b55920ab686",
   "metadata": {},
   "outputs": [
    {
     "data": {
      "text/html": [
       "<div>\n",
       "<style scoped>\n",
       "    .dataframe tbody tr th:only-of-type {\n",
       "        vertical-align: middle;\n",
       "    }\n",
       "\n",
       "    .dataframe tbody tr th {\n",
       "        vertical-align: top;\n",
       "    }\n",
       "\n",
       "    .dataframe thead th {\n",
       "        text-align: right;\n",
       "    }\n",
       "</style>\n",
       "<table border=\"1\" class=\"dataframe\">\n",
       "  <thead>\n",
       "    <tr style=\"text-align: right;\">\n",
       "      <th></th>\n",
       "      <th>first_set</th>\n",
       "      <th>second_set</th>\n",
       "    </tr>\n",
       "  </thead>\n",
       "  <tbody>\n",
       "    <tr>\n",
       "      <th>2</th>\n",
       "      <td>3.0</td>\n",
       "      <td>NaN</td>\n",
       "    </tr>\n",
       "    <tr>\n",
       "      <th>3</th>\n",
       "      <td>4.0</td>\n",
       "      <td>NaN</td>\n",
       "    </tr>\n",
       "    <tr>\n",
       "      <th>5</th>\n",
       "      <td>NaN</td>\n",
       "      <td>d</td>\n",
       "    </tr>\n",
       "    <tr>\n",
       "      <th>7</th>\n",
       "      <td>7.0</td>\n",
       "      <td>NaN</td>\n",
       "    </tr>\n",
       "    <tr>\n",
       "      <th>8</th>\n",
       "      <td>NaN</td>\n",
       "      <td>NaN</td>\n",
       "    </tr>\n",
       "    <tr>\n",
       "      <th>9</th>\n",
       "      <td>NaN</td>\n",
       "      <td>f</td>\n",
       "    </tr>\n",
       "    <tr>\n",
       "      <th>11</th>\n",
       "      <td>9.0</td>\n",
       "      <td>NaN</td>\n",
       "    </tr>\n",
       "    <tr>\n",
       "      <th>13</th>\n",
       "      <td>NaN</td>\n",
       "      <td>i</td>\n",
       "    </tr>\n",
       "  </tbody>\n",
       "</table>\n",
       "</div>"
      ],
      "text/plain": [
       "    first_set second_set\n",
       "2         3.0        NaN\n",
       "3         4.0        NaN\n",
       "5         NaN          d\n",
       "7         7.0        NaN\n",
       "8         NaN        NaN\n",
       "9         NaN          f\n",
       "11        9.0        NaN\n",
       "13        NaN          i"
      ]
     },
     "execution_count": 8,
     "metadata": {},
     "output_type": "execute_result"
    }
   ],
   "source": [
    "df[df.isna().any(axis=1)]"
   ]
  },
  {
   "cell_type": "markdown",
   "id": "55480971-9e8d-44ae-83bb-635584eb2e7f",
   "metadata": {},
   "source": [
    "(4) Using **isnull()** to select all rows with NaN under an <span style=\"text-decoration: underline\">entire</span> DataFrame column:"
   ]
  },
  {
   "cell_type": "code",
   "execution_count": 9,
   "id": "1a4ddcb5-0fea-4535-b8e5-85dbd3c91397",
   "metadata": {},
   "outputs": [
    {
     "data": {
      "text/html": [
       "<div>\n",
       "<style scoped>\n",
       "    .dataframe tbody tr th:only-of-type {\n",
       "        vertical-align: middle;\n",
       "    }\n",
       "\n",
       "    .dataframe tbody tr th {\n",
       "        vertical-align: top;\n",
       "    }\n",
       "\n",
       "    .dataframe thead th {\n",
       "        text-align: right;\n",
       "    }\n",
       "</style>\n",
       "<table border=\"1\" class=\"dataframe\">\n",
       "  <thead>\n",
       "    <tr style=\"text-align: right;\">\n",
       "      <th></th>\n",
       "      <th>first_set</th>\n",
       "      <th>second_set</th>\n",
       "    </tr>\n",
       "  </thead>\n",
       "  <tbody>\n",
       "    <tr>\n",
       "      <th>2</th>\n",
       "      <td>3.0</td>\n",
       "      <td>NaN</td>\n",
       "    </tr>\n",
       "    <tr>\n",
       "      <th>3</th>\n",
       "      <td>4.0</td>\n",
       "      <td>NaN</td>\n",
       "    </tr>\n",
       "    <tr>\n",
       "      <th>5</th>\n",
       "      <td>NaN</td>\n",
       "      <td>d</td>\n",
       "    </tr>\n",
       "    <tr>\n",
       "      <th>7</th>\n",
       "      <td>7.0</td>\n",
       "      <td>NaN</td>\n",
       "    </tr>\n",
       "    <tr>\n",
       "      <th>8</th>\n",
       "      <td>NaN</td>\n",
       "      <td>NaN</td>\n",
       "    </tr>\n",
       "    <tr>\n",
       "      <th>9</th>\n",
       "      <td>NaN</td>\n",
       "      <td>f</td>\n",
       "    </tr>\n",
       "    <tr>\n",
       "      <th>11</th>\n",
       "      <td>9.0</td>\n",
       "      <td>NaN</td>\n",
       "    </tr>\n",
       "    <tr>\n",
       "      <th>13</th>\n",
       "      <td>NaN</td>\n",
       "      <td>i</td>\n",
       "    </tr>\n",
       "  </tbody>\n",
       "</table>\n",
       "</div>"
      ],
      "text/plain": [
       "    first_set second_set\n",
       "2         3.0        NaN\n",
       "3         4.0        NaN\n",
       "5         NaN          d\n",
       "7         7.0        NaN\n",
       "8         NaN        NaN\n",
       "9         NaN          f\n",
       "11        9.0        NaN\n",
       "13        NaN          i"
      ]
     },
     "execution_count": 9,
     "metadata": {},
     "output_type": "execute_result"
    }
   ],
   "source": [
    "df[df.isnull().any(axis=1)]"
   ]
  },
  {
   "cell_type": "markdown",
   "id": "657530e5-bf85-4ea0-8435-ccc840d8c789",
   "metadata": {},
   "source": [
    "### How To Tell Differences / Similarities Between Two DataFrames"
   ]
  },
  {
   "cell_type": "markdown",
   "id": "d2aee046-0833-4f5b-a20c-730c601f90fd",
   "metadata": {},
   "source": [
    "Creating Two DataFrames"
   ]
  },
  {
   "cell_type": "code",
   "execution_count": 35,
   "id": "41de904b-8017-420b-aafe-03e30c0f5f80",
   "metadata": {},
   "outputs": [
    {
     "data": {
      "text/html": [
       "<div>\n",
       "<style scoped>\n",
       "    .dataframe tbody tr th:only-of-type {\n",
       "        vertical-align: middle;\n",
       "    }\n",
       "\n",
       "    .dataframe tbody tr th {\n",
       "        vertical-align: top;\n",
       "    }\n",
       "\n",
       "    .dataframe thead th {\n",
       "        text-align: right;\n",
       "    }\n",
       "</style>\n",
       "<table border=\"1\" class=\"dataframe\">\n",
       "  <thead>\n",
       "    <tr style=\"text-align: right;\">\n",
       "      <th></th>\n",
       "      <th>Age</th>\n",
       "      <th>Weight</th>\n",
       "    </tr>\n",
       "  </thead>\n",
       "  <tbody>\n",
       "    <tr>\n",
       "      <th>0</th>\n",
       "      <td>20</td>\n",
       "      <td>59</td>\n",
       "    </tr>\n",
       "    <tr>\n",
       "      <th>1</th>\n",
       "      <td>14</td>\n",
       "      <td>29</td>\n",
       "    </tr>\n",
       "    <tr>\n",
       "      <th>2</th>\n",
       "      <td>56</td>\n",
       "      <td>73</td>\n",
       "    </tr>\n",
       "    <tr>\n",
       "      <th>3</th>\n",
       "      <td>28</td>\n",
       "      <td>56</td>\n",
       "    </tr>\n",
       "    <tr>\n",
       "      <th>4</th>\n",
       "      <td>10</td>\n",
       "      <td>48</td>\n",
       "    </tr>\n",
       "  </tbody>\n",
       "</table>\n",
       "</div>"
      ],
      "text/plain": [
       "  Age  Weight\n",
       "0  20      59\n",
       "1  14      29\n",
       "2  56      73\n",
       "3  28      56\n",
       "4  10      48"
      ]
     },
     "metadata": {},
     "output_type": "display_data"
    },
    {
     "data": {
      "text/html": [
       "<div>\n",
       "<style scoped>\n",
       "    .dataframe tbody tr th:only-of-type {\n",
       "        vertical-align: middle;\n",
       "    }\n",
       "\n",
       "    .dataframe tbody tr th {\n",
       "        vertical-align: top;\n",
       "    }\n",
       "\n",
       "    .dataframe thead th {\n",
       "        text-align: right;\n",
       "    }\n",
       "</style>\n",
       "<table border=\"1\" class=\"dataframe\">\n",
       "  <thead>\n",
       "    <tr style=\"text-align: right;\">\n",
       "      <th></th>\n",
       "      <th>Age</th>\n",
       "      <th>Weight</th>\n",
       "    </tr>\n",
       "  </thead>\n",
       "  <tbody>\n",
       "    <tr>\n",
       "      <th>0</th>\n",
       "      <td>16</td>\n",
       "      <td>55</td>\n",
       "    </tr>\n",
       "    <tr>\n",
       "      <th>1</th>\n",
       "      <td>20</td>\n",
       "      <td>59</td>\n",
       "    </tr>\n",
       "    <tr>\n",
       "      <th>2</th>\n",
       "      <td>24</td>\n",
       "      <td>73</td>\n",
       "    </tr>\n",
       "    <tr>\n",
       "      <th>3</th>\n",
       "      <td>40</td>\n",
       "      <td>85</td>\n",
       "    </tr>\n",
       "    <tr>\n",
       "      <th>4</th>\n",
       "      <td>22</td>\n",
       "      <td>56</td>\n",
       "    </tr>\n",
       "  </tbody>\n",
       "</table>\n",
       "</div>"
      ],
      "text/plain": [
       "  Age  Weight\n",
       "0  16      55\n",
       "1  20      59\n",
       "2  24      73\n",
       "3  40      85\n",
       "4  22      56"
      ]
     },
     "metadata": {},
     "output_type": "display_data"
    }
   ],
   "source": [
    "# first dataframe\n",
    "df1 = pd.DataFrame({\n",
    "    'Age': ['20', '14', '56', '28', '10'],\n",
    "    'Weight': [59, 29, 73, 56, 48]})\n",
    "display(df1)\n",
    "  \n",
    "# second dataframe\n",
    "df2 = pd.DataFrame({\n",
    "    'Age': ['16', '20', '24', '40', '22'],\n",
    "    'Weight': [55, 59, 73, 85, 56]})\n",
    "display(df2)"
   ]
  },
  {
   "cell_type": "markdown",
   "id": "97beefa7-4c27-426e-bc28-9eb46f335bc6",
   "metadata": {},
   "source": [
    "#### Checking If Two Dataframes Are Exactly Same"
   ]
  },
  {
   "cell_type": "code",
   "execution_count": 36,
   "id": "59559030-6bd9-4dc3-9706-ca617a727bf0",
   "metadata": {},
   "outputs": [
    {
     "data": {
      "text/plain": [
       "False"
      ]
     },
     "execution_count": 36,
     "metadata": {},
     "output_type": "execute_result"
    }
   ],
   "source": [
    "df1.equals(df2)"
   ]
  },
  {
   "cell_type": "markdown",
   "id": "979e22d0-dd17-4298-9dcf-af658cff94a9",
   "metadata": {},
   "source": [
    "We can also check for a particular column also."
   ]
  },
  {
   "cell_type": "code",
   "execution_count": 37,
   "id": "1cef95d7-5ac0-4853-970a-b0607f294bc9",
   "metadata": {},
   "outputs": [
    {
     "data": {
      "text/plain": [
       "False"
      ]
     },
     "execution_count": 37,
     "metadata": {},
     "output_type": "execute_result"
    }
   ],
   "source": [
    "df2['Age'].equals(df1['Age'])"
   ]
  },
  {
   "cell_type": "markdown",
   "id": "5b76f4a6-201b-434f-ad7a-1406d5f6315a",
   "metadata": {},
   "source": [
    "#### Finding the common rows between two DataFrames"
   ]
  },
  {
   "cell_type": "markdown",
   "id": "50cd25a3-d7e9-4118-8cd4-0773c365aefd",
   "metadata": {},
   "source": [
    "We can use either merge() function or concat() function. \n",
    "\n",
    "    The merge() function serves as the entry point for all standard database join operations between DataFrame objects. Merge function is similar to SQL inner join, we find the common rows between two dataframes. \n",
    "\n",
    "    The concat() function does all the heavy lifting of performing concatenation operations along with an axis od Pandas objects while performing optional set logic (union or intersection) of the indexes (if any) on the other axes."
   ]
  },
  {
   "cell_type": "markdown",
   "id": "723deee2-16eb-4909-a03c-6b162dc37971",
   "metadata": {},
   "source": [
    "##### Using merge function"
   ]
  },
  {
   "cell_type": "code",
   "execution_count": 39,
   "id": "c2856b74-474f-439d-b5dd-aed423e91a1b",
   "metadata": {},
   "outputs": [
    {
     "data": {
      "text/html": [
       "<div>\n",
       "<style scoped>\n",
       "    .dataframe tbody tr th:only-of-type {\n",
       "        vertical-align: middle;\n",
       "    }\n",
       "\n",
       "    .dataframe tbody tr th {\n",
       "        vertical-align: top;\n",
       "    }\n",
       "\n",
       "    .dataframe thead th {\n",
       "        text-align: right;\n",
       "    }\n",
       "</style>\n",
       "<table border=\"1\" class=\"dataframe\">\n",
       "  <thead>\n",
       "    <tr style=\"text-align: right;\">\n",
       "      <th></th>\n",
       "      <th>Age</th>\n",
       "      <th>Weight</th>\n",
       "    </tr>\n",
       "  </thead>\n",
       "  <tbody>\n",
       "    <tr>\n",
       "      <th>0</th>\n",
       "      <td>20</td>\n",
       "      <td>59</td>\n",
       "    </tr>\n",
       "  </tbody>\n",
       "</table>\n",
       "</div>"
      ],
      "text/plain": [
       "  Age  Weight\n",
       "0  20      59"
      ]
     },
     "execution_count": 39,
     "metadata": {},
     "output_type": "execute_result"
    }
   ],
   "source": [
    "df = df1.merge(df2, how = 'inner' ,indicator=False)\n",
    "df"
   ]
  },
  {
   "cell_type": "code",
   "execution_count": 67,
   "id": "de8b95db-fee4-43f8-b556-9d2a2613d278",
   "metadata": {},
   "outputs": [
    {
     "data": {
      "text/html": [
       "<div>\n",
       "<style scoped>\n",
       "    .dataframe tbody tr th:only-of-type {\n",
       "        vertical-align: middle;\n",
       "    }\n",
       "\n",
       "    .dataframe tbody tr th {\n",
       "        vertical-align: top;\n",
       "    }\n",
       "\n",
       "    .dataframe thead th {\n",
       "        text-align: right;\n",
       "    }\n",
       "</style>\n",
       "<table border=\"1\" class=\"dataframe\">\n",
       "  <thead>\n",
       "    <tr style=\"text-align: right;\">\n",
       "      <th></th>\n",
       "      <th>Age</th>\n",
       "      <th>Weight</th>\n",
       "      <th>_merge</th>\n",
       "    </tr>\n",
       "  </thead>\n",
       "  <tbody>\n",
       "    <tr>\n",
       "      <th>0</th>\n",
       "      <td>20</td>\n",
       "      <td>59</td>\n",
       "      <td>both</td>\n",
       "    </tr>\n",
       "    <tr>\n",
       "      <th>1</th>\n",
       "      <td>14</td>\n",
       "      <td>29</td>\n",
       "      <td>left_only</td>\n",
       "    </tr>\n",
       "    <tr>\n",
       "      <th>2</th>\n",
       "      <td>56</td>\n",
       "      <td>73</td>\n",
       "      <td>left_only</td>\n",
       "    </tr>\n",
       "    <tr>\n",
       "      <th>3</th>\n",
       "      <td>28</td>\n",
       "      <td>56</td>\n",
       "      <td>left_only</td>\n",
       "    </tr>\n",
       "    <tr>\n",
       "      <th>4</th>\n",
       "      <td>10</td>\n",
       "      <td>48</td>\n",
       "      <td>left_only</td>\n",
       "    </tr>\n",
       "    <tr>\n",
       "      <th>5</th>\n",
       "      <td>16</td>\n",
       "      <td>55</td>\n",
       "      <td>right_only</td>\n",
       "    </tr>\n",
       "    <tr>\n",
       "      <th>6</th>\n",
       "      <td>24</td>\n",
       "      <td>73</td>\n",
       "      <td>right_only</td>\n",
       "    </tr>\n",
       "    <tr>\n",
       "      <th>7</th>\n",
       "      <td>40</td>\n",
       "      <td>85</td>\n",
       "      <td>right_only</td>\n",
       "    </tr>\n",
       "    <tr>\n",
       "      <th>8</th>\n",
       "      <td>22</td>\n",
       "      <td>56</td>\n",
       "      <td>right_only</td>\n",
       "    </tr>\n",
       "  </tbody>\n",
       "</table>\n",
       "</div>"
      ],
      "text/plain": [
       "  Age  Weight      _merge\n",
       "0  20      59        both\n",
       "1  14      29   left_only\n",
       "2  56      73   left_only\n",
       "3  28      56   left_only\n",
       "4  10      48   left_only\n",
       "5  16      55  right_only\n",
       "6  24      73  right_only\n",
       "7  40      85  right_only\n",
       "8  22      56  right_only"
      ]
     },
     "metadata": {},
     "output_type": "display_data"
    },
    {
     "data": {
      "text/html": [
       "<div>\n",
       "<style scoped>\n",
       "    .dataframe tbody tr th:only-of-type {\n",
       "        vertical-align: middle;\n",
       "    }\n",
       "\n",
       "    .dataframe tbody tr th {\n",
       "        vertical-align: top;\n",
       "    }\n",
       "\n",
       "    .dataframe thead th {\n",
       "        text-align: right;\n",
       "    }\n",
       "</style>\n",
       "<table border=\"1\" class=\"dataframe\">\n",
       "  <thead>\n",
       "    <tr style=\"text-align: right;\">\n",
       "      <th></th>\n",
       "      <th>Age</th>\n",
       "      <th>Weight</th>\n",
       "      <th>_merge</th>\n",
       "    </tr>\n",
       "  </thead>\n",
       "  <tbody>\n",
       "    <tr>\n",
       "      <th>0</th>\n",
       "      <td>20</td>\n",
       "      <td>59</td>\n",
       "      <td>both</td>\n",
       "    </tr>\n",
       "  </tbody>\n",
       "</table>\n",
       "</div>"
      ],
      "text/plain": [
       "  Age  Weight _merge\n",
       "0  20      59   both"
      ]
     },
     "metadata": {},
     "output_type": "display_data"
    }
   ],
   "source": [
    "df = pd.merge(df1, df2, how = 'outer', indicator = True)\n",
    "display(df)\n",
    "display(df.query(\"_merge == 'both'\"))"
   ]
  },
  {
   "cell_type": "markdown",
   "id": "bc6b4579-333a-4e86-836e-fa58b0d6a874",
   "metadata": {},
   "source": [
    "##### Using concat function"
   ]
  },
  {
   "cell_type": "markdown",
   "id": "f71a2984-88b2-4bdc-a6b1-5f59905d4a5c",
   "metadata": {},
   "source": [
    "We add the second dataframe(df2) below the first dataframe(df1) by using concat function. Then we groupby the new dataframe using columns and then we see which rows have a count greater than 1. These are the common rows. This is how we can use-"
   ]
  },
  {
   "cell_type": "code",
   "execution_count": 53,
   "id": "65c1a4ee-1d62-42ef-89cc-4dc41aa54cdb",
   "metadata": {},
   "outputs": [
    {
     "data": {
      "text/html": [
       "<div>\n",
       "<style scoped>\n",
       "    .dataframe tbody tr th:only-of-type {\n",
       "        vertical-align: middle;\n",
       "    }\n",
       "\n",
       "    .dataframe tbody tr th {\n",
       "        vertical-align: top;\n",
       "    }\n",
       "\n",
       "    .dataframe thead th {\n",
       "        text-align: right;\n",
       "    }\n",
       "</style>\n",
       "<table border=\"1\" class=\"dataframe\">\n",
       "  <thead>\n",
       "    <tr style=\"text-align: right;\">\n",
       "      <th></th>\n",
       "      <th>Age</th>\n",
       "      <th>Weight</th>\n",
       "    </tr>\n",
       "  </thead>\n",
       "  <tbody>\n",
       "    <tr>\n",
       "      <th>0</th>\n",
       "      <td>20</td>\n",
       "      <td>59</td>\n",
       "    </tr>\n",
       "  </tbody>\n",
       "</table>\n",
       "</div>"
      ],
      "text/plain": [
       "  Age  Weight\n",
       "0  20      59"
      ]
     },
     "execution_count": 53,
     "metadata": {},
     "output_type": "execute_result"
    }
   ],
   "source": [
    "df = pd.concat([df1, df2])\n",
    "  \n",
    "df = df.reset_index(drop=True)\n",
    "  \n",
    "df_group = df.groupby(list(df.columns))\n",
    "  \n",
    "idx = [x[0] for x in df_group.groups.values() if len(x) > 1]\n",
    "df.reindex(idx)"
   ]
  },
  {
   "cell_type": "code",
   "execution_count": 71,
   "id": "84ae89fb-7f97-41bb-a5f3-9e7789df0e55",
   "metadata": {},
   "outputs": [
    {
     "data": {
      "text/html": [
       "<div>\n",
       "<style scoped>\n",
       "    .dataframe tbody tr th:only-of-type {\n",
       "        vertical-align: middle;\n",
       "    }\n",
       "\n",
       "    .dataframe tbody tr th {\n",
       "        vertical-align: top;\n",
       "    }\n",
       "\n",
       "    .dataframe thead th {\n",
       "        text-align: right;\n",
       "    }\n",
       "</style>\n",
       "<table border=\"1\" class=\"dataframe\">\n",
       "  <thead>\n",
       "    <tr style=\"text-align: right;\">\n",
       "      <th></th>\n",
       "      <th>Age</th>\n",
       "      <th>Weight</th>\n",
       "    </tr>\n",
       "  </thead>\n",
       "  <tbody>\n",
       "    <tr>\n",
       "      <th>0</th>\n",
       "      <td>False</td>\n",
       "      <td>False</td>\n",
       "    </tr>\n",
       "    <tr>\n",
       "      <th>1</th>\n",
       "      <td>False</td>\n",
       "      <td>False</td>\n",
       "    </tr>\n",
       "    <tr>\n",
       "      <th>2</th>\n",
       "      <td>False</td>\n",
       "      <td>True</td>\n",
       "    </tr>\n",
       "    <tr>\n",
       "      <th>3</th>\n",
       "      <td>False</td>\n",
       "      <td>False</td>\n",
       "    </tr>\n",
       "    <tr>\n",
       "      <th>4</th>\n",
       "      <td>False</td>\n",
       "      <td>False</td>\n",
       "    </tr>\n",
       "  </tbody>\n",
       "</table>\n",
       "</div>"
      ],
      "text/plain": [
       "     Age  Weight\n",
       "0  False   False\n",
       "1  False   False\n",
       "2  False    True\n",
       "3  False   False\n",
       "4  False   False"
      ]
     },
     "execution_count": 71,
     "metadata": {},
     "output_type": "execute_result"
    }
   ],
   "source": [
    "df1 == df2"
   ]
  },
  {
   "cell_type": "markdown",
   "id": "502f3708-5024-44f4-8654-891bd12c0e06",
   "metadata": {},
   "source": [
    "#### Finding the uncommon rows between two DataFrames"
   ]
  },
  {
   "cell_type": "markdown",
   "id": "dfc11cb2-0507-4a47-b71c-dc2ef432fe78",
   "metadata": {},
   "source": [
    "For uncommon rows, we can use concat function with a parameter drop_duplicate. "
   ]
  },
  {
   "cell_type": "markdown",
   "id": "ea69be31-eb1f-46a7-b7f7-3c34e731c1b3",
   "metadata": {},
   "source": [
    "##### Using concat"
   ]
  },
  {
   "cell_type": "code",
   "execution_count": 63,
   "id": "0d71fd58-98e6-4e09-b28a-38a70a8b990b",
   "metadata": {
    "collapsed": true,
    "jupyter": {
     "outputs_hidden": true
    },
    "tags": []
   },
   "outputs": [
    {
     "data": {
      "text/html": [
       "<div>\n",
       "<style scoped>\n",
       "    .dataframe tbody tr th:only-of-type {\n",
       "        vertical-align: middle;\n",
       "    }\n",
       "\n",
       "    .dataframe tbody tr th {\n",
       "        vertical-align: top;\n",
       "    }\n",
       "\n",
       "    .dataframe thead th {\n",
       "        text-align: right;\n",
       "    }\n",
       "</style>\n",
       "<table border=\"1\" class=\"dataframe\">\n",
       "  <thead>\n",
       "    <tr style=\"text-align: right;\">\n",
       "      <th></th>\n",
       "      <th>Age</th>\n",
       "      <th>Weight</th>\n",
       "    </tr>\n",
       "  </thead>\n",
       "  <tbody>\n",
       "    <tr>\n",
       "      <th>1</th>\n",
       "      <td>14</td>\n",
       "      <td>29</td>\n",
       "    </tr>\n",
       "    <tr>\n",
       "      <th>2</th>\n",
       "      <td>56</td>\n",
       "      <td>73</td>\n",
       "    </tr>\n",
       "    <tr>\n",
       "      <th>3</th>\n",
       "      <td>28</td>\n",
       "      <td>56</td>\n",
       "    </tr>\n",
       "    <tr>\n",
       "      <th>4</th>\n",
       "      <td>10</td>\n",
       "      <td>48</td>\n",
       "    </tr>\n",
       "    <tr>\n",
       "      <th>0</th>\n",
       "      <td>16</td>\n",
       "      <td>55</td>\n",
       "    </tr>\n",
       "    <tr>\n",
       "      <th>2</th>\n",
       "      <td>24</td>\n",
       "      <td>73</td>\n",
       "    </tr>\n",
       "    <tr>\n",
       "      <th>3</th>\n",
       "      <td>40</td>\n",
       "      <td>85</td>\n",
       "    </tr>\n",
       "    <tr>\n",
       "      <th>4</th>\n",
       "      <td>22</td>\n",
       "      <td>56</td>\n",
       "    </tr>\n",
       "  </tbody>\n",
       "</table>\n",
       "</div>"
      ],
      "text/plain": [
       "  Age  Weight\n",
       "1  14      29\n",
       "2  56      73\n",
       "3  28      56\n",
       "4  10      48\n",
       "0  16      55\n",
       "2  24      73\n",
       "3  40      85\n",
       "4  22      56"
      ]
     },
     "execution_count": 63,
     "metadata": {},
     "output_type": "execute_result"
    }
   ],
   "source": [
    "pd.concat([df1,df2]).drop_duplicates(keep=False)"
   ]
  },
  {
   "cell_type": "markdown",
   "id": "2dcb616f-1f97-4531-9721-4b43fd38ab06",
   "metadata": {},
   "source": [
    "##### Using merge"
   ]
  },
  {
   "cell_type": "code",
   "execution_count": 70,
   "id": "69792101-d078-4e61-85cb-3c39393b9eb9",
   "metadata": {
    "collapsed": true,
    "jupyter": {
     "outputs_hidden": true
    },
    "tags": []
   },
   "outputs": [
    {
     "data": {
      "text/html": [
       "<div>\n",
       "<style scoped>\n",
       "    .dataframe tbody tr th:only-of-type {\n",
       "        vertical-align: middle;\n",
       "    }\n",
       "\n",
       "    .dataframe tbody tr th {\n",
       "        vertical-align: top;\n",
       "    }\n",
       "\n",
       "    .dataframe thead th {\n",
       "        text-align: right;\n",
       "    }\n",
       "</style>\n",
       "<table border=\"1\" class=\"dataframe\">\n",
       "  <thead>\n",
       "    <tr style=\"text-align: right;\">\n",
       "      <th></th>\n",
       "      <th>Age</th>\n",
       "      <th>Weight</th>\n",
       "      <th>_merge</th>\n",
       "    </tr>\n",
       "  </thead>\n",
       "  <tbody>\n",
       "    <tr>\n",
       "      <th>0</th>\n",
       "      <td>20</td>\n",
       "      <td>59</td>\n",
       "      <td>both</td>\n",
       "    </tr>\n",
       "    <tr>\n",
       "      <th>1</th>\n",
       "      <td>14</td>\n",
       "      <td>29</td>\n",
       "      <td>left_only</td>\n",
       "    </tr>\n",
       "    <tr>\n",
       "      <th>2</th>\n",
       "      <td>56</td>\n",
       "      <td>73</td>\n",
       "      <td>left_only</td>\n",
       "    </tr>\n",
       "    <tr>\n",
       "      <th>3</th>\n",
       "      <td>28</td>\n",
       "      <td>56</td>\n",
       "      <td>left_only</td>\n",
       "    </tr>\n",
       "    <tr>\n",
       "      <th>4</th>\n",
       "      <td>10</td>\n",
       "      <td>48</td>\n",
       "      <td>left_only</td>\n",
       "    </tr>\n",
       "    <tr>\n",
       "      <th>5</th>\n",
       "      <td>16</td>\n",
       "      <td>55</td>\n",
       "      <td>right_only</td>\n",
       "    </tr>\n",
       "    <tr>\n",
       "      <th>6</th>\n",
       "      <td>24</td>\n",
       "      <td>73</td>\n",
       "      <td>right_only</td>\n",
       "    </tr>\n",
       "    <tr>\n",
       "      <th>7</th>\n",
       "      <td>40</td>\n",
       "      <td>85</td>\n",
       "      <td>right_only</td>\n",
       "    </tr>\n",
       "    <tr>\n",
       "      <th>8</th>\n",
       "      <td>22</td>\n",
       "      <td>56</td>\n",
       "      <td>right_only</td>\n",
       "    </tr>\n",
       "  </tbody>\n",
       "</table>\n",
       "</div>"
      ],
      "text/plain": [
       "  Age  Weight      _merge\n",
       "0  20      59        both\n",
       "1  14      29   left_only\n",
       "2  56      73   left_only\n",
       "3  28      56   left_only\n",
       "4  10      48   left_only\n",
       "5  16      55  right_only\n",
       "6  24      73  right_only\n",
       "7  40      85  right_only\n",
       "8  22      56  right_only"
      ]
     },
     "metadata": {},
     "output_type": "display_data"
    },
    {
     "data": {
      "text/html": [
       "<div>\n",
       "<style scoped>\n",
       "    .dataframe tbody tr th:only-of-type {\n",
       "        vertical-align: middle;\n",
       "    }\n",
       "\n",
       "    .dataframe tbody tr th {\n",
       "        vertical-align: top;\n",
       "    }\n",
       "\n",
       "    .dataframe thead th {\n",
       "        text-align: right;\n",
       "    }\n",
       "</style>\n",
       "<table border=\"1\" class=\"dataframe\">\n",
       "  <thead>\n",
       "    <tr style=\"text-align: right;\">\n",
       "      <th></th>\n",
       "      <th>Age</th>\n",
       "      <th>Weight</th>\n",
       "      <th>_merge</th>\n",
       "    </tr>\n",
       "  </thead>\n",
       "  <tbody>\n",
       "    <tr>\n",
       "      <th>1</th>\n",
       "      <td>14</td>\n",
       "      <td>29</td>\n",
       "      <td>left_only</td>\n",
       "    </tr>\n",
       "    <tr>\n",
       "      <th>2</th>\n",
       "      <td>56</td>\n",
       "      <td>73</td>\n",
       "      <td>left_only</td>\n",
       "    </tr>\n",
       "    <tr>\n",
       "      <th>3</th>\n",
       "      <td>28</td>\n",
       "      <td>56</td>\n",
       "      <td>left_only</td>\n",
       "    </tr>\n",
       "    <tr>\n",
       "      <th>4</th>\n",
       "      <td>10</td>\n",
       "      <td>48</td>\n",
       "      <td>left_only</td>\n",
       "    </tr>\n",
       "    <tr>\n",
       "      <th>5</th>\n",
       "      <td>16</td>\n",
       "      <td>55</td>\n",
       "      <td>right_only</td>\n",
       "    </tr>\n",
       "    <tr>\n",
       "      <th>6</th>\n",
       "      <td>24</td>\n",
       "      <td>73</td>\n",
       "      <td>right_only</td>\n",
       "    </tr>\n",
       "    <tr>\n",
       "      <th>7</th>\n",
       "      <td>40</td>\n",
       "      <td>85</td>\n",
       "      <td>right_only</td>\n",
       "    </tr>\n",
       "    <tr>\n",
       "      <th>8</th>\n",
       "      <td>22</td>\n",
       "      <td>56</td>\n",
       "      <td>right_only</td>\n",
       "    </tr>\n",
       "  </tbody>\n",
       "</table>\n",
       "</div>"
      ],
      "text/plain": [
       "  Age  Weight      _merge\n",
       "1  14      29   left_only\n",
       "2  56      73   left_only\n",
       "3  28      56   left_only\n",
       "4  10      48   left_only\n",
       "5  16      55  right_only\n",
       "6  24      73  right_only\n",
       "7  40      85  right_only\n",
       "8  22      56  right_only"
      ]
     },
     "metadata": {},
     "output_type": "display_data"
    },
    {
     "data": {
      "text/html": [
       "<div>\n",
       "<style scoped>\n",
       "    .dataframe tbody tr th:only-of-type {\n",
       "        vertical-align: middle;\n",
       "    }\n",
       "\n",
       "    .dataframe tbody tr th {\n",
       "        vertical-align: top;\n",
       "    }\n",
       "\n",
       "    .dataframe thead th {\n",
       "        text-align: right;\n",
       "    }\n",
       "</style>\n",
       "<table border=\"1\" class=\"dataframe\">\n",
       "  <thead>\n",
       "    <tr style=\"text-align: right;\">\n",
       "      <th></th>\n",
       "      <th>Age</th>\n",
       "      <th>Weight</th>\n",
       "      <th>_merge</th>\n",
       "    </tr>\n",
       "  </thead>\n",
       "  <tbody>\n",
       "    <tr>\n",
       "      <th>1</th>\n",
       "      <td>14</td>\n",
       "      <td>29</td>\n",
       "      <td>left_only</td>\n",
       "    </tr>\n",
       "    <tr>\n",
       "      <th>2</th>\n",
       "      <td>56</td>\n",
       "      <td>73</td>\n",
       "      <td>left_only</td>\n",
       "    </tr>\n",
       "    <tr>\n",
       "      <th>3</th>\n",
       "      <td>28</td>\n",
       "      <td>56</td>\n",
       "      <td>left_only</td>\n",
       "    </tr>\n",
       "    <tr>\n",
       "      <th>4</th>\n",
       "      <td>10</td>\n",
       "      <td>48</td>\n",
       "      <td>left_only</td>\n",
       "    </tr>\n",
       "  </tbody>\n",
       "</table>\n",
       "</div>"
      ],
      "text/plain": [
       "  Age  Weight     _merge\n",
       "1  14      29  left_only\n",
       "2  56      73  left_only\n",
       "3  28      56  left_only\n",
       "4  10      48  left_only"
      ]
     },
     "metadata": {},
     "output_type": "display_data"
    },
    {
     "data": {
      "text/html": [
       "<div>\n",
       "<style scoped>\n",
       "    .dataframe tbody tr th:only-of-type {\n",
       "        vertical-align: middle;\n",
       "    }\n",
       "\n",
       "    .dataframe tbody tr th {\n",
       "        vertical-align: top;\n",
       "    }\n",
       "\n",
       "    .dataframe thead th {\n",
       "        text-align: right;\n",
       "    }\n",
       "</style>\n",
       "<table border=\"1\" class=\"dataframe\">\n",
       "  <thead>\n",
       "    <tr style=\"text-align: right;\">\n",
       "      <th></th>\n",
       "      <th>Age</th>\n",
       "      <th>Weight</th>\n",
       "      <th>_merge</th>\n",
       "    </tr>\n",
       "  </thead>\n",
       "  <tbody>\n",
       "    <tr>\n",
       "      <th>5</th>\n",
       "      <td>16</td>\n",
       "      <td>55</td>\n",
       "      <td>right_only</td>\n",
       "    </tr>\n",
       "    <tr>\n",
       "      <th>6</th>\n",
       "      <td>24</td>\n",
       "      <td>73</td>\n",
       "      <td>right_only</td>\n",
       "    </tr>\n",
       "    <tr>\n",
       "      <th>7</th>\n",
       "      <td>40</td>\n",
       "      <td>85</td>\n",
       "      <td>right_only</td>\n",
       "    </tr>\n",
       "    <tr>\n",
       "      <th>8</th>\n",
       "      <td>22</td>\n",
       "      <td>56</td>\n",
       "      <td>right_only</td>\n",
       "    </tr>\n",
       "  </tbody>\n",
       "</table>\n",
       "</div>"
      ],
      "text/plain": [
       "  Age  Weight      _merge\n",
       "5  16      55  right_only\n",
       "6  24      73  right_only\n",
       "7  40      85  right_only\n",
       "8  22      56  right_only"
      ]
     },
     "metadata": {},
     "output_type": "display_data"
    }
   ],
   "source": [
    "df = pd.merge(df1, df2, how = 'outer', indicator = True)\n",
    "display(df)\n",
    "display(df.query(\"_merge != 'both'\"))\n",
    "display(df.query(\"_merge == 'left_only'\"))\n",
    "display(df.query(\"_merge == 'right_only'\"))"
   ]
  },
  {
   "cell_type": "markdown",
   "id": "e9036ee0-d9ca-4ee6-b2b7-4ac6542d4a98",
   "metadata": {
    "jp-MarkdownHeadingCollapsed": true,
    "tags": []
   },
   "source": [
    "### How To Combine Two String Columns In A DataFrame"
   ]
  },
  {
   "cell_type": "markdown",
   "id": "bde99830-9733-4015-9e6c-6fe6e67c2a56",
   "metadata": {},
   "source": [
    "First, let’s create an example DataFrame"
   ]
  },
  {
   "cell_type": "code",
   "execution_count": 41,
   "id": "b7c746d6-ad89-454a-a39b-01ad61b426d0",
   "metadata": {},
   "outputs": [
    {
     "data": {
      "text/html": [
       "<div>\n",
       "<style scoped>\n",
       "    .dataframe tbody tr th:only-of-type {\n",
       "        vertical-align: middle;\n",
       "    }\n",
       "\n",
       "    .dataframe tbody tr th {\n",
       "        vertical-align: top;\n",
       "    }\n",
       "\n",
       "    .dataframe thead th {\n",
       "        text-align: right;\n",
       "    }\n",
       "</style>\n",
       "<table border=\"1\" class=\"dataframe\">\n",
       "  <thead>\n",
       "    <tr style=\"text-align: right;\">\n",
       "      <th></th>\n",
       "      <th>colA</th>\n",
       "      <th>colB</th>\n",
       "      <th>colC</th>\n",
       "      <th>colD</th>\n",
       "    </tr>\n",
       "  </thead>\n",
       "  <tbody>\n",
       "    <tr>\n",
       "      <th>0</th>\n",
       "      <td>1</td>\n",
       "      <td>2017</td>\n",
       "      <td>10</td>\n",
       "      <td>Q1</td>\n",
       "    </tr>\n",
       "    <tr>\n",
       "      <th>1</th>\n",
       "      <td>2</td>\n",
       "      <td>2017</td>\n",
       "      <td>20</td>\n",
       "      <td>Q2</td>\n",
       "    </tr>\n",
       "    <tr>\n",
       "      <th>2</th>\n",
       "      <td>3</td>\n",
       "      <td>2016</td>\n",
       "      <td>35</td>\n",
       "      <td>Q4</td>\n",
       "    </tr>\n",
       "    <tr>\n",
       "      <th>3</th>\n",
       "      <td>4</td>\n",
       "      <td>2019</td>\n",
       "      <td>25</td>\n",
       "      <td>Q2</td>\n",
       "    </tr>\n",
       "    <tr>\n",
       "      <th>4</th>\n",
       "      <td>5</td>\n",
       "      <td>2020</td>\n",
       "      <td>44</td>\n",
       "      <td>Q3</td>\n",
       "    </tr>\n",
       "    <tr>\n",
       "      <th>5</th>\n",
       "      <td>6</td>\n",
       "      <td>2021</td>\n",
       "      <td>51</td>\n",
       "      <td>Q3</td>\n",
       "    </tr>\n",
       "  </tbody>\n",
       "</table>\n",
       "</div>"
      ],
      "text/plain": [
       "   colA  colB  colC colD\n",
       "0     1  2017    10   Q1\n",
       "1     2  2017    20   Q2\n",
       "2     3  2016    35   Q4\n",
       "3     4  2019    25   Q2\n",
       "4     5  2020    44   Q3\n",
       "5     6  2021    51   Q3"
      ]
     },
     "metadata": {},
     "output_type": "display_data"
    }
   ],
   "source": [
    "df = pd.DataFrame(\n",
    "  [\n",
    "    (1, '2017', 10, 'Q1'),\n",
    "    (2, '2017', 20, 'Q2'),\n",
    "    (3, '2016', 35, 'Q4'),\n",
    "    (4, '2019', 25, 'Q2'),\n",
    "    (5, '2020', 44, 'Q3'),\n",
    "    (6, '2021', 51, 'Q3'),\n",
    "  ], \n",
    "  columns=['colA', 'colB', 'colC', 'colD']\n",
    ")\n",
    "\n",
    "display(df)"
   ]
  },
  {
   "cell_type": "markdown",
   "id": "fffb5f56-ccaf-4855-af94-f2b8a8aba30e",
   "metadata": {
    "jp-MarkdownHeadingCollapsed": true,
    "tags": []
   },
   "source": [
    "#### Concatenating string columns in small datasets"
   ]
  },
  {
   "cell_type": "markdown",
   "id": "52c1f627-9599-4355-940a-8d20b24bc411",
   "metadata": {},
   "source": [
    "For relatively small datasets (up to 100–150 rows) you can use pandas.Series.str.cat() method that is used to concatenate strings in the Series using the specified separator (by default the separator is set to '')."
   ]
  },
  {
   "cell_type": "code",
   "execution_count": 42,
   "id": "33287cf5-df4e-42b4-b002-55b12c1c6fe2",
   "metadata": {},
   "outputs": [
    {
     "data": {
      "text/html": [
       "<div>\n",
       "<style scoped>\n",
       "    .dataframe tbody tr th:only-of-type {\n",
       "        vertical-align: middle;\n",
       "    }\n",
       "\n",
       "    .dataframe tbody tr th {\n",
       "        vertical-align: top;\n",
       "    }\n",
       "\n",
       "    .dataframe thead th {\n",
       "        text-align: right;\n",
       "    }\n",
       "</style>\n",
       "<table border=\"1\" class=\"dataframe\">\n",
       "  <thead>\n",
       "    <tr style=\"text-align: right;\">\n",
       "      <th></th>\n",
       "      <th>colA</th>\n",
       "      <th>colB</th>\n",
       "      <th>colC</th>\n",
       "      <th>colD</th>\n",
       "      <th>colE</th>\n",
       "    </tr>\n",
       "  </thead>\n",
       "  <tbody>\n",
       "    <tr>\n",
       "      <th>0</th>\n",
       "      <td>1</td>\n",
       "      <td>2017</td>\n",
       "      <td>10</td>\n",
       "      <td>Q1</td>\n",
       "      <td>2017Q1</td>\n",
       "    </tr>\n",
       "    <tr>\n",
       "      <th>1</th>\n",
       "      <td>2</td>\n",
       "      <td>2017</td>\n",
       "      <td>20</td>\n",
       "      <td>Q2</td>\n",
       "      <td>2017Q2</td>\n",
       "    </tr>\n",
       "    <tr>\n",
       "      <th>2</th>\n",
       "      <td>3</td>\n",
       "      <td>2016</td>\n",
       "      <td>35</td>\n",
       "      <td>Q4</td>\n",
       "      <td>2016Q4</td>\n",
       "    </tr>\n",
       "    <tr>\n",
       "      <th>3</th>\n",
       "      <td>4</td>\n",
       "      <td>2019</td>\n",
       "      <td>25</td>\n",
       "      <td>Q2</td>\n",
       "      <td>2019Q2</td>\n",
       "    </tr>\n",
       "    <tr>\n",
       "      <th>4</th>\n",
       "      <td>5</td>\n",
       "      <td>2020</td>\n",
       "      <td>44</td>\n",
       "      <td>Q3</td>\n",
       "      <td>2020Q3</td>\n",
       "    </tr>\n",
       "    <tr>\n",
       "      <th>5</th>\n",
       "      <td>6</td>\n",
       "      <td>2021</td>\n",
       "      <td>51</td>\n",
       "      <td>Q3</td>\n",
       "      <td>2021Q3</td>\n",
       "    </tr>\n",
       "  </tbody>\n",
       "</table>\n",
       "</div>"
      ],
      "text/plain": [
       "   colA  colB  colC colD    colE\n",
       "0     1  2017    10   Q1  2017Q1\n",
       "1     2  2017    20   Q2  2017Q2\n",
       "2     3  2016    35   Q4  2016Q4\n",
       "3     4  2019    25   Q2  2019Q2\n",
       "4     5  2020    44   Q3  2020Q3\n",
       "5     6  2021    51   Q3  2021Q3"
      ]
     },
     "metadata": {},
     "output_type": "display_data"
    }
   ],
   "source": [
    "df['colE'] = df.colB.str.cat(df.colD) \n",
    "\n",
    "display(df)"
   ]
  },
  {
   "cell_type": "markdown",
   "id": "221b3757-6ed1-4a5b-b63e-3360f99e19b1",
   "metadata": {},
   "source": [
    "Now if we wanted to specify a separator that will be placed between the concatenated columns, then we simply need to pass sep argument:"
   ]
  },
  {
   "cell_type": "code",
   "execution_count": 43,
   "id": "f5c18797-c1a4-4bf8-90aa-5582a5faf408",
   "metadata": {},
   "outputs": [
    {
     "data": {
      "text/html": [
       "<div>\n",
       "<style scoped>\n",
       "    .dataframe tbody tr th:only-of-type {\n",
       "        vertical-align: middle;\n",
       "    }\n",
       "\n",
       "    .dataframe tbody tr th {\n",
       "        vertical-align: top;\n",
       "    }\n",
       "\n",
       "    .dataframe thead th {\n",
       "        text-align: right;\n",
       "    }\n",
       "</style>\n",
       "<table border=\"1\" class=\"dataframe\">\n",
       "  <thead>\n",
       "    <tr style=\"text-align: right;\">\n",
       "      <th></th>\n",
       "      <th>colA</th>\n",
       "      <th>colB</th>\n",
       "      <th>colC</th>\n",
       "      <th>colD</th>\n",
       "      <th>colE</th>\n",
       "    </tr>\n",
       "  </thead>\n",
       "  <tbody>\n",
       "    <tr>\n",
       "      <th>0</th>\n",
       "      <td>1</td>\n",
       "      <td>2017</td>\n",
       "      <td>10</td>\n",
       "      <td>Q1</td>\n",
       "      <td>2017-Q1</td>\n",
       "    </tr>\n",
       "    <tr>\n",
       "      <th>1</th>\n",
       "      <td>2</td>\n",
       "      <td>2017</td>\n",
       "      <td>20</td>\n",
       "      <td>Q2</td>\n",
       "      <td>2017-Q2</td>\n",
       "    </tr>\n",
       "    <tr>\n",
       "      <th>2</th>\n",
       "      <td>3</td>\n",
       "      <td>2016</td>\n",
       "      <td>35</td>\n",
       "      <td>Q4</td>\n",
       "      <td>2016-Q4</td>\n",
       "    </tr>\n",
       "    <tr>\n",
       "      <th>3</th>\n",
       "      <td>4</td>\n",
       "      <td>2019</td>\n",
       "      <td>25</td>\n",
       "      <td>Q2</td>\n",
       "      <td>2019-Q2</td>\n",
       "    </tr>\n",
       "    <tr>\n",
       "      <th>4</th>\n",
       "      <td>5</td>\n",
       "      <td>2020</td>\n",
       "      <td>44</td>\n",
       "      <td>Q3</td>\n",
       "      <td>2020-Q3</td>\n",
       "    </tr>\n",
       "    <tr>\n",
       "      <th>5</th>\n",
       "      <td>6</td>\n",
       "      <td>2021</td>\n",
       "      <td>51</td>\n",
       "      <td>Q3</td>\n",
       "      <td>2021-Q3</td>\n",
       "    </tr>\n",
       "  </tbody>\n",
       "</table>\n",
       "</div>"
      ],
      "text/plain": [
       "   colA  colB  colC colD     colE\n",
       "0     1  2017    10   Q1  2017-Q1\n",
       "1     2  2017    20   Q2  2017-Q2\n",
       "2     3  2016    35   Q4  2016-Q4\n",
       "3     4  2019    25   Q2  2019-Q2\n",
       "4     5  2020    44   Q3  2020-Q3\n",
       "5     6  2021    51   Q3  2021-Q3"
      ]
     },
     "execution_count": 43,
     "metadata": {},
     "output_type": "execute_result"
    }
   ],
   "source": [
    "df['colE'] = df.colB.str.cat(df.colD, sep='-')\n",
    "\n",
    "df"
   ]
  },
  {
   "cell_type": "markdown",
   "id": "fb281a14-21a6-42b6-a27d-ae12754933d2",
   "metadata": {},
   "source": [
    "Alternatively, you can also use a list comprehension which is a bit more verbose but slightly faster:"
   ]
  },
  {
   "cell_type": "code",
   "execution_count": 46,
   "id": "219461b2-bc9a-4350-8526-47c59dbe67a0",
   "metadata": {},
   "outputs": [
    {
     "data": {
      "text/html": [
       "<div>\n",
       "<style scoped>\n",
       "    .dataframe tbody tr th:only-of-type {\n",
       "        vertical-align: middle;\n",
       "    }\n",
       "\n",
       "    .dataframe tbody tr th {\n",
       "        vertical-align: top;\n",
       "    }\n",
       "\n",
       "    .dataframe thead th {\n",
       "        text-align: right;\n",
       "    }\n",
       "</style>\n",
       "<table border=\"1\" class=\"dataframe\">\n",
       "  <thead>\n",
       "    <tr style=\"text-align: right;\">\n",
       "      <th></th>\n",
       "      <th>colA</th>\n",
       "      <th>colB</th>\n",
       "      <th>colC</th>\n",
       "      <th>colD</th>\n",
       "      <th>colE</th>\n",
       "    </tr>\n",
       "  </thead>\n",
       "  <tbody>\n",
       "    <tr>\n",
       "      <th>0</th>\n",
       "      <td>1</td>\n",
       "      <td>2017</td>\n",
       "      <td>10</td>\n",
       "      <td>Q1</td>\n",
       "      <td>2017Q1</td>\n",
       "    </tr>\n",
       "    <tr>\n",
       "      <th>1</th>\n",
       "      <td>2</td>\n",
       "      <td>2017</td>\n",
       "      <td>20</td>\n",
       "      <td>Q2</td>\n",
       "      <td>2017Q2</td>\n",
       "    </tr>\n",
       "    <tr>\n",
       "      <th>2</th>\n",
       "      <td>3</td>\n",
       "      <td>2016</td>\n",
       "      <td>35</td>\n",
       "      <td>Q4</td>\n",
       "      <td>2016Q4</td>\n",
       "    </tr>\n",
       "    <tr>\n",
       "      <th>3</th>\n",
       "      <td>4</td>\n",
       "      <td>2019</td>\n",
       "      <td>25</td>\n",
       "      <td>Q2</td>\n",
       "      <td>2019Q2</td>\n",
       "    </tr>\n",
       "    <tr>\n",
       "      <th>4</th>\n",
       "      <td>5</td>\n",
       "      <td>2020</td>\n",
       "      <td>44</td>\n",
       "      <td>Q3</td>\n",
       "      <td>2020Q3</td>\n",
       "    </tr>\n",
       "    <tr>\n",
       "      <th>5</th>\n",
       "      <td>6</td>\n",
       "      <td>2021</td>\n",
       "      <td>51</td>\n",
       "      <td>Q3</td>\n",
       "      <td>2021Q3</td>\n",
       "    </tr>\n",
       "  </tbody>\n",
       "</table>\n",
       "</div>"
      ],
      "text/plain": [
       "   colA  colB  colC colD    colE\n",
       "0     1  2017    10   Q1  2017Q1\n",
       "1     2  2017    20   Q2  2017Q2\n",
       "2     3  2016    35   Q4  2016Q4\n",
       "3     4  2019    25   Q2  2019Q2\n",
       "4     5  2020    44   Q3  2020Q3\n",
       "5     6  2021    51   Q3  2021Q3"
      ]
     },
     "execution_count": 46,
     "metadata": {},
     "output_type": "execute_result"
    }
   ],
   "source": [
    "df['colE'] = [''.join(i) for i in zip(df['colB'], df['colD'])]\n",
    "\n",
    "df"
   ]
  },
  {
   "cell_type": "markdown",
   "id": "f0e59edc-7689-4517-a3be-3f1ea65952fb",
   "metadata": {
    "jp-MarkdownHeadingCollapsed": true,
    "tags": []
   },
   "source": [
    "#### Concatenating string columns in larger datasets"
   ]
  },
  {
   "cell_type": "markdown",
   "id": "0731caa7-d404-4653-9c7d-48bdf0b287db",
   "metadata": {},
   "source": [
    "Now if you are working with large datasets, the more efficient way to concatenate two columns is using the + operator."
   ]
  },
  {
   "cell_type": "code",
   "execution_count": 47,
   "id": "12dbb7d8-6cf3-41c3-91df-cb8c6130ea37",
   "metadata": {},
   "outputs": [
    {
     "data": {
      "text/html": [
       "<div>\n",
       "<style scoped>\n",
       "    .dataframe tbody tr th:only-of-type {\n",
       "        vertical-align: middle;\n",
       "    }\n",
       "\n",
       "    .dataframe tbody tr th {\n",
       "        vertical-align: top;\n",
       "    }\n",
       "\n",
       "    .dataframe thead th {\n",
       "        text-align: right;\n",
       "    }\n",
       "</style>\n",
       "<table border=\"1\" class=\"dataframe\">\n",
       "  <thead>\n",
       "    <tr style=\"text-align: right;\">\n",
       "      <th></th>\n",
       "      <th>colA</th>\n",
       "      <th>colB</th>\n",
       "      <th>colC</th>\n",
       "      <th>colD</th>\n",
       "      <th>colE</th>\n",
       "    </tr>\n",
       "  </thead>\n",
       "  <tbody>\n",
       "    <tr>\n",
       "      <th>0</th>\n",
       "      <td>1</td>\n",
       "      <td>2017</td>\n",
       "      <td>10</td>\n",
       "      <td>Q1</td>\n",
       "      <td>2017Q1</td>\n",
       "    </tr>\n",
       "    <tr>\n",
       "      <th>1</th>\n",
       "      <td>2</td>\n",
       "      <td>2017</td>\n",
       "      <td>20</td>\n",
       "      <td>Q2</td>\n",
       "      <td>2017Q2</td>\n",
       "    </tr>\n",
       "    <tr>\n",
       "      <th>2</th>\n",
       "      <td>3</td>\n",
       "      <td>2016</td>\n",
       "      <td>35</td>\n",
       "      <td>Q4</td>\n",
       "      <td>2016Q4</td>\n",
       "    </tr>\n",
       "    <tr>\n",
       "      <th>3</th>\n",
       "      <td>4</td>\n",
       "      <td>2019</td>\n",
       "      <td>25</td>\n",
       "      <td>Q2</td>\n",
       "      <td>2019Q2</td>\n",
       "    </tr>\n",
       "    <tr>\n",
       "      <th>4</th>\n",
       "      <td>5</td>\n",
       "      <td>2020</td>\n",
       "      <td>44</td>\n",
       "      <td>Q3</td>\n",
       "      <td>2020Q3</td>\n",
       "    </tr>\n",
       "    <tr>\n",
       "      <th>5</th>\n",
       "      <td>6</td>\n",
       "      <td>2021</td>\n",
       "      <td>51</td>\n",
       "      <td>Q3</td>\n",
       "      <td>2021Q3</td>\n",
       "    </tr>\n",
       "  </tbody>\n",
       "</table>\n",
       "</div>"
      ],
      "text/plain": [
       "   colA  colB  colC colD    colE\n",
       "0     1  2017    10   Q1  2017Q1\n",
       "1     2  2017    20   Q2  2017Q2\n",
       "2     3  2016    35   Q4  2016Q4\n",
       "3     4  2019    25   Q2  2019Q2\n",
       "4     5  2020    44   Q3  2020Q3\n",
       "5     6  2021    51   Q3  2021Q3"
      ]
     },
     "execution_count": 47,
     "metadata": {},
     "output_type": "execute_result"
    }
   ],
   "source": [
    "df['colE'] = df['colB'] + df['colD']\n",
    "\n",
    "df"
   ]
  },
  {
   "cell_type": "markdown",
   "id": "ec97b5bf-5810-4c8e-9248-01f84e1c4317",
   "metadata": {},
   "source": [
    "If you want to include a separator then simply place it as a string in-between the two columns:"
   ]
  },
  {
   "cell_type": "code",
   "execution_count": 48,
   "id": "543677e9-ea58-4312-908d-3aaf2c1dc9ba",
   "metadata": {},
   "outputs": [
    {
     "data": {
      "text/html": [
       "<div>\n",
       "<style scoped>\n",
       "    .dataframe tbody tr th:only-of-type {\n",
       "        vertical-align: middle;\n",
       "    }\n",
       "\n",
       "    .dataframe tbody tr th {\n",
       "        vertical-align: top;\n",
       "    }\n",
       "\n",
       "    .dataframe thead th {\n",
       "        text-align: right;\n",
       "    }\n",
       "</style>\n",
       "<table border=\"1\" class=\"dataframe\">\n",
       "  <thead>\n",
       "    <tr style=\"text-align: right;\">\n",
       "      <th></th>\n",
       "      <th>colA</th>\n",
       "      <th>colB</th>\n",
       "      <th>colC</th>\n",
       "      <th>colD</th>\n",
       "      <th>colE</th>\n",
       "    </tr>\n",
       "  </thead>\n",
       "  <tbody>\n",
       "    <tr>\n",
       "      <th>0</th>\n",
       "      <td>1</td>\n",
       "      <td>2017</td>\n",
       "      <td>10</td>\n",
       "      <td>Q1</td>\n",
       "      <td>2017-Q1</td>\n",
       "    </tr>\n",
       "    <tr>\n",
       "      <th>1</th>\n",
       "      <td>2</td>\n",
       "      <td>2017</td>\n",
       "      <td>20</td>\n",
       "      <td>Q2</td>\n",
       "      <td>2017-Q2</td>\n",
       "    </tr>\n",
       "    <tr>\n",
       "      <th>2</th>\n",
       "      <td>3</td>\n",
       "      <td>2016</td>\n",
       "      <td>35</td>\n",
       "      <td>Q4</td>\n",
       "      <td>2016-Q4</td>\n",
       "    </tr>\n",
       "    <tr>\n",
       "      <th>3</th>\n",
       "      <td>4</td>\n",
       "      <td>2019</td>\n",
       "      <td>25</td>\n",
       "      <td>Q2</td>\n",
       "      <td>2019-Q2</td>\n",
       "    </tr>\n",
       "    <tr>\n",
       "      <th>4</th>\n",
       "      <td>5</td>\n",
       "      <td>2020</td>\n",
       "      <td>44</td>\n",
       "      <td>Q3</td>\n",
       "      <td>2020-Q3</td>\n",
       "    </tr>\n",
       "    <tr>\n",
       "      <th>5</th>\n",
       "      <td>6</td>\n",
       "      <td>2021</td>\n",
       "      <td>51</td>\n",
       "      <td>Q3</td>\n",
       "      <td>2021-Q3</td>\n",
       "    </tr>\n",
       "  </tbody>\n",
       "</table>\n",
       "</div>"
      ],
      "text/plain": [
       "   colA  colB  colC colD     colE\n",
       "0     1  2017    10   Q1  2017-Q1\n",
       "1     2  2017    20   Q2  2017-Q2\n",
       "2     3  2016    35   Q4  2016-Q4\n",
       "3     4  2019    25   Q2  2019-Q2\n",
       "4     5  2020    44   Q3  2020-Q3\n",
       "5     6  2021    51   Q3  2021-Q3"
      ]
     },
     "execution_count": 48,
     "metadata": {},
     "output_type": "execute_result"
    }
   ],
   "source": [
    "df['colE'] = df['colB'] + '-' + df['colD']\n",
    "\n",
    "df"
   ]
  },
  {
   "cell_type": "markdown",
   "id": "87971887-c8c2-43d9-ade1-a907ddf78b96",
   "metadata": {
    "jp-MarkdownHeadingCollapsed": true,
    "tags": []
   },
   "source": [
    "#### Concatenating string with non-string columns"
   ]
  },
  {
   "cell_type": "code",
   "execution_count": 49,
   "id": "d9fc8b43-e970-4915-8d7f-1f25b9251f7a",
   "metadata": {},
   "outputs": [
    {
     "name": "stdout",
     "output_type": "stream",
     "text": [
      "colA     int64\n",
      "colB     int64\n",
      "colC     int64\n",
      "colD    object\n",
      "dtype: object\n"
     ]
    }
   ],
   "source": [
    "df = pd.DataFrame(\n",
    "  [\n",
    "    (1, 2017, 10, 'Q1'),\n",
    "    (2, 2017, 20, 'Q2'),\n",
    "    (3, 2016, 35, 'Q4'),\n",
    "    (4, 2019, 25, 'Q2'),\n",
    "    (5, 2020, 44, 'Q3'),\n",
    "    (6, 2021, 51, 'Q3'),\n",
    "  ], \n",
    "  columns=['colA', 'colB', 'colC', 'colD']\n",
    ")\n",
    "\n",
    "print(df.dtypes)"
   ]
  },
  {
   "cell_type": "markdown",
   "id": "bf955cf1-644a-44b7-a4b0-f2a0ff2d1078",
   "metadata": {},
   "source": [
    "In this case, you can simply cast the column using pandas.DataFrame.astype() or map() methods."
   ]
  },
  {
   "cell_type": "code",
   "execution_count": 50,
   "id": "c06b706f-3c84-4280-8064-ab89e83a259f",
   "metadata": {},
   "outputs": [
    {
     "data": {
      "text/html": [
       "<div>\n",
       "<style scoped>\n",
       "    .dataframe tbody tr th:only-of-type {\n",
       "        vertical-align: middle;\n",
       "    }\n",
       "\n",
       "    .dataframe tbody tr th {\n",
       "        vertical-align: top;\n",
       "    }\n",
       "\n",
       "    .dataframe thead th {\n",
       "        text-align: right;\n",
       "    }\n",
       "</style>\n",
       "<table border=\"1\" class=\"dataframe\">\n",
       "  <thead>\n",
       "    <tr style=\"text-align: right;\">\n",
       "      <th></th>\n",
       "      <th>colA</th>\n",
       "      <th>colB</th>\n",
       "      <th>colC</th>\n",
       "      <th>colD</th>\n",
       "      <th>colE</th>\n",
       "    </tr>\n",
       "  </thead>\n",
       "  <tbody>\n",
       "    <tr>\n",
       "      <th>0</th>\n",
       "      <td>1</td>\n",
       "      <td>2017</td>\n",
       "      <td>10</td>\n",
       "      <td>Q1</td>\n",
       "      <td>2017Q1</td>\n",
       "    </tr>\n",
       "    <tr>\n",
       "      <th>1</th>\n",
       "      <td>2</td>\n",
       "      <td>2017</td>\n",
       "      <td>20</td>\n",
       "      <td>Q2</td>\n",
       "      <td>2017Q2</td>\n",
       "    </tr>\n",
       "    <tr>\n",
       "      <th>2</th>\n",
       "      <td>3</td>\n",
       "      <td>2016</td>\n",
       "      <td>35</td>\n",
       "      <td>Q4</td>\n",
       "      <td>2016Q4</td>\n",
       "    </tr>\n",
       "    <tr>\n",
       "      <th>3</th>\n",
       "      <td>4</td>\n",
       "      <td>2019</td>\n",
       "      <td>25</td>\n",
       "      <td>Q2</td>\n",
       "      <td>2019Q2</td>\n",
       "    </tr>\n",
       "    <tr>\n",
       "      <th>4</th>\n",
       "      <td>5</td>\n",
       "      <td>2020</td>\n",
       "      <td>44</td>\n",
       "      <td>Q3</td>\n",
       "      <td>2020Q3</td>\n",
       "    </tr>\n",
       "    <tr>\n",
       "      <th>5</th>\n",
       "      <td>6</td>\n",
       "      <td>2021</td>\n",
       "      <td>51</td>\n",
       "      <td>Q3</td>\n",
       "      <td>2021Q3</td>\n",
       "    </tr>\n",
       "  </tbody>\n",
       "</table>\n",
       "</div>"
      ],
      "text/plain": [
       "   colA  colB  colC colD    colE\n",
       "0     1  2017    10   Q1  2017Q1\n",
       "1     2  2017    20   Q2  2017Q2\n",
       "2     3  2016    35   Q4  2016Q4\n",
       "3     4  2019    25   Q2  2019Q2\n",
       "4     5  2020    44   Q3  2020Q3\n",
       "5     6  2021    51   Q3  2021Q3"
      ]
     },
     "metadata": {},
     "output_type": "display_data"
    },
    {
     "data": {
      "text/html": [
       "<div>\n",
       "<style scoped>\n",
       "    .dataframe tbody tr th:only-of-type {\n",
       "        vertical-align: middle;\n",
       "    }\n",
       "\n",
       "    .dataframe tbody tr th {\n",
       "        vertical-align: top;\n",
       "    }\n",
       "\n",
       "    .dataframe thead th {\n",
       "        text-align: right;\n",
       "    }\n",
       "</style>\n",
       "<table border=\"1\" class=\"dataframe\">\n",
       "  <thead>\n",
       "    <tr style=\"text-align: right;\">\n",
       "      <th></th>\n",
       "      <th>colA</th>\n",
       "      <th>colB</th>\n",
       "      <th>colC</th>\n",
       "      <th>colD</th>\n",
       "      <th>colE</th>\n",
       "    </tr>\n",
       "  </thead>\n",
       "  <tbody>\n",
       "    <tr>\n",
       "      <th>0</th>\n",
       "      <td>1</td>\n",
       "      <td>2017</td>\n",
       "      <td>10</td>\n",
       "      <td>Q1</td>\n",
       "      <td>2017-Q1</td>\n",
       "    </tr>\n",
       "    <tr>\n",
       "      <th>1</th>\n",
       "      <td>2</td>\n",
       "      <td>2017</td>\n",
       "      <td>20</td>\n",
       "      <td>Q2</td>\n",
       "      <td>2017-Q2</td>\n",
       "    </tr>\n",
       "    <tr>\n",
       "      <th>2</th>\n",
       "      <td>3</td>\n",
       "      <td>2016</td>\n",
       "      <td>35</td>\n",
       "      <td>Q4</td>\n",
       "      <td>2016-Q4</td>\n",
       "    </tr>\n",
       "    <tr>\n",
       "      <th>3</th>\n",
       "      <td>4</td>\n",
       "      <td>2019</td>\n",
       "      <td>25</td>\n",
       "      <td>Q2</td>\n",
       "      <td>2019-Q2</td>\n",
       "    </tr>\n",
       "    <tr>\n",
       "      <th>4</th>\n",
       "      <td>5</td>\n",
       "      <td>2020</td>\n",
       "      <td>44</td>\n",
       "      <td>Q3</td>\n",
       "      <td>2020-Q3</td>\n",
       "    </tr>\n",
       "    <tr>\n",
       "      <th>5</th>\n",
       "      <td>6</td>\n",
       "      <td>2021</td>\n",
       "      <td>51</td>\n",
       "      <td>Q3</td>\n",
       "      <td>2021-Q3</td>\n",
       "    </tr>\n",
       "  </tbody>\n",
       "</table>\n",
       "</div>"
      ],
      "text/plain": [
       "   colA  colB  colC colD     colE\n",
       "0     1  2017    10   Q1  2017-Q1\n",
       "1     2  2017    20   Q2  2017-Q2\n",
       "2     3  2016    35   Q4  2016-Q4\n",
       "3     4  2019    25   Q2  2019-Q2\n",
       "4     5  2020    44   Q3  2020-Q3\n",
       "5     6  2021    51   Q3  2021-Q3"
      ]
     },
     "metadata": {},
     "output_type": "display_data"
    },
    {
     "data": {
      "text/html": [
       "<div>\n",
       "<style scoped>\n",
       "    .dataframe tbody tr th:only-of-type {\n",
       "        vertical-align: middle;\n",
       "    }\n",
       "\n",
       "    .dataframe tbody tr th {\n",
       "        vertical-align: top;\n",
       "    }\n",
       "\n",
       "    .dataframe thead th {\n",
       "        text-align: right;\n",
       "    }\n",
       "</style>\n",
       "<table border=\"1\" class=\"dataframe\">\n",
       "  <thead>\n",
       "    <tr style=\"text-align: right;\">\n",
       "      <th></th>\n",
       "      <th>colA</th>\n",
       "      <th>colB</th>\n",
       "      <th>colC</th>\n",
       "      <th>colD</th>\n",
       "      <th>colE</th>\n",
       "    </tr>\n",
       "  </thead>\n",
       "  <tbody>\n",
       "    <tr>\n",
       "      <th>0</th>\n",
       "      <td>1</td>\n",
       "      <td>2017</td>\n",
       "      <td>10</td>\n",
       "      <td>Q1</td>\n",
       "      <td>2017Q1</td>\n",
       "    </tr>\n",
       "    <tr>\n",
       "      <th>1</th>\n",
       "      <td>2</td>\n",
       "      <td>2017</td>\n",
       "      <td>20</td>\n",
       "      <td>Q2</td>\n",
       "      <td>2017Q2</td>\n",
       "    </tr>\n",
       "    <tr>\n",
       "      <th>2</th>\n",
       "      <td>3</td>\n",
       "      <td>2016</td>\n",
       "      <td>35</td>\n",
       "      <td>Q4</td>\n",
       "      <td>2016Q4</td>\n",
       "    </tr>\n",
       "    <tr>\n",
       "      <th>3</th>\n",
       "      <td>4</td>\n",
       "      <td>2019</td>\n",
       "      <td>25</td>\n",
       "      <td>Q2</td>\n",
       "      <td>2019Q2</td>\n",
       "    </tr>\n",
       "    <tr>\n",
       "      <th>4</th>\n",
       "      <td>5</td>\n",
       "      <td>2020</td>\n",
       "      <td>44</td>\n",
       "      <td>Q3</td>\n",
       "      <td>2020Q3</td>\n",
       "    </tr>\n",
       "    <tr>\n",
       "      <th>5</th>\n",
       "      <td>6</td>\n",
       "      <td>2021</td>\n",
       "      <td>51</td>\n",
       "      <td>Q3</td>\n",
       "      <td>2021Q3</td>\n",
       "    </tr>\n",
       "  </tbody>\n",
       "</table>\n",
       "</div>"
      ],
      "text/plain": [
       "   colA  colB  colC colD    colE\n",
       "0     1  2017    10   Q1  2017Q1\n",
       "1     2  2017    20   Q2  2017Q2\n",
       "2     3  2016    35   Q4  2016Q4\n",
       "3     4  2019    25   Q2  2019Q2\n",
       "4     5  2020    44   Q3  2020Q3\n",
       "5     6  2021    51   Q3  2021Q3"
      ]
     },
     "metadata": {},
     "output_type": "display_data"
    }
   ],
   "source": [
    "# Option 1\n",
    "df['colE'] = df.colB.astype(str).str.cat(df.colD)\n",
    "display(df)\n",
    "\n",
    "# Option 2\n",
    "df['colE'] = df['colB'].astype(str) + '-' + df['colD']\n",
    "display(df)\n",
    "\n",
    "# Option 3\n",
    "df['colE'] = [\n",
    "    ''.join(i) for i in zip(df['colB'].map(str), df['colD'])\n",
    "]\n",
    "display(df)"
   ]
  },
  {
   "cell_type": "markdown",
   "id": "1980f55f-6c2e-4fdd-94b2-23cd730b82fe",
   "metadata": {},
   "source": [
    "### How to Filter A Pandas Dataframe By A List of Values"
   ]
  },
  {
   "cell_type": "code",
   "execution_count": 1,
   "id": "853ba355-9dd5-45bb-ae6d-7a5a1f2cd3bd",
   "metadata": {},
   "outputs": [
    {
     "data": {
      "text/html": [
       "<div>\n",
       "<style scoped>\n",
       "    .dataframe tbody tr th:only-of-type {\n",
       "        vertical-align: middle;\n",
       "    }\n",
       "\n",
       "    .dataframe tbody tr th {\n",
       "        vertical-align: top;\n",
       "    }\n",
       "\n",
       "    .dataframe thead th {\n",
       "        text-align: right;\n",
       "    }\n",
       "</style>\n",
       "<table border=\"1\" class=\"dataframe\">\n",
       "  <thead>\n",
       "    <tr style=\"text-align: right;\">\n",
       "      <th></th>\n",
       "      <th>date</th>\n",
       "      <th>country</th>\n",
       "      <th>a</th>\n",
       "      <th>b</th>\n",
       "    </tr>\n",
       "  </thead>\n",
       "  <tbody>\n",
       "    <tr>\n",
       "      <th>0</th>\n",
       "      <td>2021-12-01</td>\n",
       "      <td>USA</td>\n",
       "      <td>9</td>\n",
       "      <td>2</td>\n",
       "    </tr>\n",
       "    <tr>\n",
       "      <th>1</th>\n",
       "      <td>2022-01-01</td>\n",
       "      <td>India</td>\n",
       "      <td>4</td>\n",
       "      <td>1</td>\n",
       "    </tr>\n",
       "    <tr>\n",
       "      <th>2</th>\n",
       "      <td>2022-02-01</td>\n",
       "      <td>Germany</td>\n",
       "      <td>2</td>\n",
       "      <td>5</td>\n",
       "    </tr>\n",
       "    <tr>\n",
       "      <th>3</th>\n",
       "      <td>2022-03-01</td>\n",
       "      <td>France</td>\n",
       "      <td>6</td>\n",
       "      <td>7</td>\n",
       "    </tr>\n",
       "    <tr>\n",
       "      <th>4</th>\n",
       "      <td>2022-04-01</td>\n",
       "      <td>Canada</td>\n",
       "      <td>8</td>\n",
       "      <td>8</td>\n",
       "    </tr>\n",
       "    <tr>\n",
       "      <th>5</th>\n",
       "      <td>2022-05-01</td>\n",
       "      <td>Netherland</td>\n",
       "      <td>6</td>\n",
       "      <td>7</td>\n",
       "    </tr>\n",
       "    <tr>\n",
       "      <th>6</th>\n",
       "      <td>2022-06-01</td>\n",
       "      <td>UK</td>\n",
       "      <td>3</td>\n",
       "      <td>5</td>\n",
       "    </tr>\n",
       "    <tr>\n",
       "      <th>7</th>\n",
       "      <td>2022-07-01</td>\n",
       "      <td>Singapore</td>\n",
       "      <td>5</td>\n",
       "      <td>8</td>\n",
       "    </tr>\n",
       "    <tr>\n",
       "      <th>8</th>\n",
       "      <td>2022-08-01</td>\n",
       "      <td>Australia</td>\n",
       "      <td>2</td>\n",
       "      <td>0</td>\n",
       "    </tr>\n",
       "    <tr>\n",
       "      <th>9</th>\n",
       "      <td>2022-09-01</td>\n",
       "      <td>Canada</td>\n",
       "      <td>9</td>\n",
       "      <td>9</td>\n",
       "    </tr>\n",
       "  </tbody>\n",
       "</table>\n",
       "</div>"
      ],
      "text/plain": [
       "        date     country  a  b\n",
       "0 2021-12-01         USA  9  2\n",
       "1 2022-01-01       India  4  1\n",
       "2 2022-02-01     Germany  2  5\n",
       "3 2022-03-01      France  6  7\n",
       "4 2022-04-01      Canada  8  8\n",
       "5 2022-05-01  Netherland  6  7\n",
       "6 2022-06-01          UK  3  5\n",
       "7 2022-07-01   Singapore  5  8\n",
       "8 2022-08-01   Australia  2  0\n",
       "9 2022-09-01      Canada  9  9"
      ]
     },
     "execution_count": 1,
     "metadata": {},
     "output_type": "execute_result"
    }
   ],
   "source": [
    "import numpy as np\n",
    "import pandas as pd\n",
    "\n",
    "df = pd.DataFrame({'date':pd.date_range(start='2021-12-01', periods=10, freq='MS'),\n",
    "                   'country':['USA','India','Germany','France','Canada','Netherland',\n",
    "                              'UK','Singapore', 'Australia', 'Canada'],\n",
    "                   'a': np.random.randint(10, size=10),\n",
    "                   'b': np.random.randint(10, size=10)})\n",
    "\n",
    "df"
   ]
  },
  {
   "cell_type": "markdown",
   "id": "d885d4fc-0b73-49d8-a917-73363c810c73",
   "metadata": {},
   "source": [
    "#### Filter By Using A Boolean Index"
   ]
  },
  {
   "cell_type": "markdown",
   "id": "0c9ea31d-b2c3-43f2-bffd-4d657dc69398",
   "metadata": {},
   "source": [
    "Below the '|' is the bolean operator for 'or'. You would use '&' for 'and'."
   ]
  },
  {
   "cell_type": "code",
   "execution_count": 111,
   "id": "3731bece-bc56-4f84-9569-d6e2b518e046",
   "metadata": {},
   "outputs": [
    {
     "data": {
      "text/html": [
       "<div>\n",
       "<style scoped>\n",
       "    .dataframe tbody tr th:only-of-type {\n",
       "        vertical-align: middle;\n",
       "    }\n",
       "\n",
       "    .dataframe tbody tr th {\n",
       "        vertical-align: top;\n",
       "    }\n",
       "\n",
       "    .dataframe thead th {\n",
       "        text-align: right;\n",
       "    }\n",
       "</style>\n",
       "<table border=\"1\" class=\"dataframe\">\n",
       "  <thead>\n",
       "    <tr style=\"text-align: right;\">\n",
       "      <th></th>\n",
       "      <th>date</th>\n",
       "      <th>country</th>\n",
       "      <th>a</th>\n",
       "      <th>b</th>\n",
       "    </tr>\n",
       "  </thead>\n",
       "  <tbody>\n",
       "    <tr>\n",
       "      <th>0</th>\n",
       "      <td>2021-12-01</td>\n",
       "      <td>USA</td>\n",
       "      <td>1</td>\n",
       "      <td>4</td>\n",
       "    </tr>\n",
       "    <tr>\n",
       "      <th>4</th>\n",
       "      <td>2022-04-01</td>\n",
       "      <td>Canada</td>\n",
       "      <td>9</td>\n",
       "      <td>8</td>\n",
       "    </tr>\n",
       "    <tr>\n",
       "      <th>9</th>\n",
       "      <td>2022-09-01</td>\n",
       "      <td>Canada</td>\n",
       "      <td>7</td>\n",
       "      <td>6</td>\n",
       "    </tr>\n",
       "  </tbody>\n",
       "</table>\n",
       "</div>"
      ],
      "text/plain": [
       "        date country  a  b\n",
       "0 2021-12-01     USA  1  4\n",
       "4 2022-04-01  Canada  9  8\n",
       "9 2022-09-01  Canada  7  6"
      ]
     },
     "execution_count": 111,
     "metadata": {},
     "output_type": "execute_result"
    }
   ],
   "source": [
    "df[(df['country'] == 'Canada') | (df['country'] == 'USA')]"
   ]
  },
  {
   "cell_type": "markdown",
   "id": "88482cae-814b-4a02-ab61-52e8074678d5",
   "metadata": {},
   "source": [
    "#### Filter By Using Pandas isin() Method On A List"
   ]
  },
  {
   "cell_type": "code",
   "execution_count": 112,
   "id": "e15ace6f-fa56-40b5-bfb7-3e86c127acb8",
   "metadata": {},
   "outputs": [
    {
     "data": {
      "text/html": [
       "<div>\n",
       "<style scoped>\n",
       "    .dataframe tbody tr th:only-of-type {\n",
       "        vertical-align: middle;\n",
       "    }\n",
       "\n",
       "    .dataframe tbody tr th {\n",
       "        vertical-align: top;\n",
       "    }\n",
       "\n",
       "    .dataframe thead th {\n",
       "        text-align: right;\n",
       "    }\n",
       "</style>\n",
       "<table border=\"1\" class=\"dataframe\">\n",
       "  <thead>\n",
       "    <tr style=\"text-align: right;\">\n",
       "      <th></th>\n",
       "      <th>date</th>\n",
       "      <th>country</th>\n",
       "      <th>a</th>\n",
       "      <th>b</th>\n",
       "    </tr>\n",
       "  </thead>\n",
       "  <tbody>\n",
       "    <tr>\n",
       "      <th>0</th>\n",
       "      <td>2021-12-01</td>\n",
       "      <td>USA</td>\n",
       "      <td>1</td>\n",
       "      <td>4</td>\n",
       "    </tr>\n",
       "    <tr>\n",
       "      <th>1</th>\n",
       "      <td>2022-01-01</td>\n",
       "      <td>India</td>\n",
       "      <td>5</td>\n",
       "      <td>9</td>\n",
       "    </tr>\n",
       "    <tr>\n",
       "      <th>4</th>\n",
       "      <td>2022-04-01</td>\n",
       "      <td>Canada</td>\n",
       "      <td>9</td>\n",
       "      <td>8</td>\n",
       "    </tr>\n",
       "    <tr>\n",
       "      <th>9</th>\n",
       "      <td>2022-09-01</td>\n",
       "      <td>Canada</td>\n",
       "      <td>7</td>\n",
       "      <td>6</td>\n",
       "    </tr>\n",
       "  </tbody>\n",
       "</table>\n",
       "</div>"
      ],
      "text/plain": [
       "        date country  a  b\n",
       "0 2021-12-01     USA  1  4\n",
       "1 2022-01-01   India  5  9\n",
       "4 2022-04-01  Canada  9  8\n",
       "9 2022-09-01  Canada  7  6"
      ]
     },
     "execution_count": 112,
     "metadata": {},
     "output_type": "execute_result"
    }
   ],
   "source": [
    "df[df['country'].isin(['Canada', 'USA', 'India'])]"
   ]
  },
  {
   "cell_type": "code",
   "execution_count": 113,
   "id": "68bd533f-4690-44da-a2b4-b5b37a4da510",
   "metadata": {},
   "outputs": [
    {
     "data": {
      "text/html": [
       "<div>\n",
       "<style scoped>\n",
       "    .dataframe tbody tr th:only-of-type {\n",
       "        vertical-align: middle;\n",
       "    }\n",
       "\n",
       "    .dataframe tbody tr th {\n",
       "        vertical-align: top;\n",
       "    }\n",
       "\n",
       "    .dataframe thead th {\n",
       "        text-align: right;\n",
       "    }\n",
       "</style>\n",
       "<table border=\"1\" class=\"dataframe\">\n",
       "  <thead>\n",
       "    <tr style=\"text-align: right;\">\n",
       "      <th></th>\n",
       "      <th>date</th>\n",
       "      <th>country</th>\n",
       "      <th>a</th>\n",
       "      <th>b</th>\n",
       "    </tr>\n",
       "  </thead>\n",
       "  <tbody>\n",
       "    <tr>\n",
       "      <th>1</th>\n",
       "      <td>2022-01-01</td>\n",
       "      <td>India</td>\n",
       "      <td>5</td>\n",
       "      <td>9</td>\n",
       "    </tr>\n",
       "    <tr>\n",
       "      <th>3</th>\n",
       "      <td>2022-03-01</td>\n",
       "      <td>France</td>\n",
       "      <td>2</td>\n",
       "      <td>7</td>\n",
       "    </tr>\n",
       "    <tr>\n",
       "      <th>6</th>\n",
       "      <td>2022-06-01</td>\n",
       "      <td>UK</td>\n",
       "      <td>4</td>\n",
       "      <td>4</td>\n",
       "    </tr>\n",
       "  </tbody>\n",
       "</table>\n",
       "</div>"
      ],
      "text/plain": [
       "        date country  a  b\n",
       "1 2022-01-01   India  5  9\n",
       "3 2022-03-01  France  2  7\n",
       "6 2022-06-01      UK  4  4"
      ]
     },
     "execution_count": 113,
     "metadata": {},
     "output_type": "execute_result"
    }
   ],
   "source": [
    "df[df['a'].isin([2,3,4,5])]"
   ]
  },
  {
   "cell_type": "markdown",
   "id": "4e937f8b-3401-4a45-b76f-d5e523ffbd71",
   "metadata": {},
   "source": [
    "#### Filter By List Of Index Numbers"
   ]
  },
  {
   "cell_type": "code",
   "execution_count": 2,
   "id": "e1b7c09c-d646-4752-ae0d-1540f78a2c86",
   "metadata": {},
   "outputs": [
    {
     "data": {
      "text/html": [
       "<div>\n",
       "<style scoped>\n",
       "    .dataframe tbody tr th:only-of-type {\n",
       "        vertical-align: middle;\n",
       "    }\n",
       "\n",
       "    .dataframe tbody tr th {\n",
       "        vertical-align: top;\n",
       "    }\n",
       "\n",
       "    .dataframe thead th {\n",
       "        text-align: right;\n",
       "    }\n",
       "</style>\n",
       "<table border=\"1\" class=\"dataframe\">\n",
       "  <thead>\n",
       "    <tr style=\"text-align: right;\">\n",
       "      <th></th>\n",
       "      <th>date</th>\n",
       "      <th>country</th>\n",
       "      <th>a</th>\n",
       "      <th>b</th>\n",
       "    </tr>\n",
       "  </thead>\n",
       "  <tbody>\n",
       "    <tr>\n",
       "      <th>1</th>\n",
       "      <td>2022-01-01</td>\n",
       "      <td>India</td>\n",
       "      <td>4</td>\n",
       "      <td>1</td>\n",
       "    </tr>\n",
       "    <tr>\n",
       "      <th>3</th>\n",
       "      <td>2022-03-01</td>\n",
       "      <td>France</td>\n",
       "      <td>6</td>\n",
       "      <td>7</td>\n",
       "    </tr>\n",
       "    <tr>\n",
       "      <th>4</th>\n",
       "      <td>2022-04-01</td>\n",
       "      <td>Canada</td>\n",
       "      <td>8</td>\n",
       "      <td>8</td>\n",
       "    </tr>\n",
       "  </tbody>\n",
       "</table>\n",
       "</div>"
      ],
      "text/plain": [
       "        date country  a  b\n",
       "1 2022-01-01   India  4  1\n",
       "3 2022-03-01  France  6  7\n",
       "4 2022-04-01  Canada  8  8"
      ]
     },
     "execution_count": 2,
     "metadata": {},
     "output_type": "execute_result"
    }
   ],
   "source": [
    "index_list = [1,3,4]\n",
    "\n",
    "df.loc[index_list]"
   ]
  },
  {
   "cell_type": "markdown",
   "id": "3c812ab1-9470-4213-a76e-d00bdea486da",
   "metadata": {},
   "source": [
    "#### Filter By Using Pandas query() Method \n",
    "\n",
    "Finally, we can’t use the isin as a part of the String expression. We have to use the keyword in:"
   ]
  },
  {
   "cell_type": "code",
   "execution_count": 116,
   "id": "9d8ae66e-f024-4b98-a90f-22461691ba8c",
   "metadata": {},
   "outputs": [
    {
     "data": {
      "text/html": [
       "<div>\n",
       "<style scoped>\n",
       "    .dataframe tbody tr th:only-of-type {\n",
       "        vertical-align: middle;\n",
       "    }\n",
       "\n",
       "    .dataframe tbody tr th {\n",
       "        vertical-align: top;\n",
       "    }\n",
       "\n",
       "    .dataframe thead th {\n",
       "        text-align: right;\n",
       "    }\n",
       "</style>\n",
       "<table border=\"1\" class=\"dataframe\">\n",
       "  <thead>\n",
       "    <tr style=\"text-align: right;\">\n",
       "      <th></th>\n",
       "      <th>date</th>\n",
       "      <th>country</th>\n",
       "      <th>a</th>\n",
       "      <th>b</th>\n",
       "    </tr>\n",
       "  </thead>\n",
       "  <tbody>\n",
       "    <tr>\n",
       "      <th>0</th>\n",
       "      <td>2021-12-01</td>\n",
       "      <td>USA</td>\n",
       "      <td>1</td>\n",
       "      <td>4</td>\n",
       "    </tr>\n",
       "    <tr>\n",
       "      <th>1</th>\n",
       "      <td>2022-01-01</td>\n",
       "      <td>India</td>\n",
       "      <td>5</td>\n",
       "      <td>9</td>\n",
       "    </tr>\n",
       "    <tr>\n",
       "      <th>4</th>\n",
       "      <td>2022-04-01</td>\n",
       "      <td>Canada</td>\n",
       "      <td>9</td>\n",
       "      <td>8</td>\n",
       "    </tr>\n",
       "    <tr>\n",
       "      <th>9</th>\n",
       "      <td>2022-09-01</td>\n",
       "      <td>Canada</td>\n",
       "      <td>7</td>\n",
       "      <td>6</td>\n",
       "    </tr>\n",
       "  </tbody>\n",
       "</table>\n",
       "</div>"
      ],
      "text/plain": [
       "        date country  a  b\n",
       "0 2021-12-01     USA  1  4\n",
       "1 2022-01-01   India  5  9\n",
       "4 2022-04-01  Canada  9  8\n",
       "9 2022-09-01  Canada  7  6"
      ]
     },
     "execution_count": 116,
     "metadata": {},
     "output_type": "execute_result"
    }
   ],
   "source": [
    "df.query(\"country in ['Canada','USA','India']\")"
   ]
  },
  {
   "cell_type": "code",
   "execution_count": 117,
   "id": "bb378106-f4cb-454f-b3d3-8535abd4c0de",
   "metadata": {},
   "outputs": [
    {
     "data": {
      "text/html": [
       "<div>\n",
       "<style scoped>\n",
       "    .dataframe tbody tr th:only-of-type {\n",
       "        vertical-align: middle;\n",
       "    }\n",
       "\n",
       "    .dataframe tbody tr th {\n",
       "        vertical-align: top;\n",
       "    }\n",
       "\n",
       "    .dataframe thead th {\n",
       "        text-align: right;\n",
       "    }\n",
       "</style>\n",
       "<table border=\"1\" class=\"dataframe\">\n",
       "  <thead>\n",
       "    <tr style=\"text-align: right;\">\n",
       "      <th></th>\n",
       "      <th>date</th>\n",
       "      <th>country</th>\n",
       "      <th>a</th>\n",
       "      <th>b</th>\n",
       "    </tr>\n",
       "  </thead>\n",
       "  <tbody>\n",
       "    <tr>\n",
       "      <th>1</th>\n",
       "      <td>2022-01-01</td>\n",
       "      <td>India</td>\n",
       "      <td>5</td>\n",
       "      <td>9</td>\n",
       "    </tr>\n",
       "    <tr>\n",
       "      <th>3</th>\n",
       "      <td>2022-03-01</td>\n",
       "      <td>France</td>\n",
       "      <td>2</td>\n",
       "      <td>7</td>\n",
       "    </tr>\n",
       "    <tr>\n",
       "      <th>6</th>\n",
       "      <td>2022-06-01</td>\n",
       "      <td>UK</td>\n",
       "      <td>4</td>\n",
       "      <td>4</td>\n",
       "    </tr>\n",
       "  </tbody>\n",
       "</table>\n",
       "</div>"
      ],
      "text/plain": [
       "        date country  a  b\n",
       "1 2022-01-01   India  5  9\n",
       "3 2022-03-01  France  2  7\n",
       "6 2022-06-01      UK  4  4"
      ]
     },
     "execution_count": 117,
     "metadata": {},
     "output_type": "execute_result"
    }
   ],
   "source": [
    "df.query(\"a in [2,3,4,5]\")"
   ]
  },
  {
   "cell_type": "markdown",
   "id": "475c2d3e-9770-40d9-834c-201e2be29e37",
   "metadata": {},
   "source": [
    "### How to check for a 'float' NaN"
   ]
  },
  {
   "cell_type": "code",
   "execution_count": 137,
   "id": "a4aafd1f-d7ef-41a3-8478-9460380cedc7",
   "metadata": {},
   "outputs": [
    {
     "name": "stdout",
     "output_type": "stream",
     "text": [
      "nan\n",
      "<class 'float'>\n"
     ]
    }
   ],
   "source": [
    "test_1 = np.nan\n",
    "test_2 = np.nan\n",
    "test_3 = 4\n",
    "test_4 = 'four'\n",
    "\n",
    "print(test_1)\n",
    "print(type(test_1))"
   ]
  },
  {
   "cell_type": "markdown",
   "id": "ae3774d9-7c93-434b-9c33-712895ddf44a",
   "metadata": {},
   "source": [
    "#### Using math.isnan()"
   ]
  },
  {
   "cell_type": "code",
   "execution_count": 138,
   "id": "7ca31365-da0e-463c-bd20-d76ad8b01eb3",
   "metadata": {},
   "outputs": [
    {
     "name": "stdout",
     "output_type": "stream",
     "text": [
      "True\n",
      "False\n"
     ]
    },
    {
     "ename": "TypeError",
     "evalue": "must be real number, not str",
     "output_type": "error",
     "traceback": [
      "\u001b[0;31m---------------------------------------------------------------------------\u001b[0m",
      "\u001b[0;31mTypeError\u001b[0m                                 Traceback (most recent call last)",
      "\u001b[0;32m/var/folders/k1/r7px6rdx6hsdpvv2jd0z1_v40000gn/T/ipykernel_42706/68463462.py\u001b[0m in \u001b[0;36m<module>\u001b[0;34m\u001b[0m\n\u001b[1;32m      1\u001b[0m \u001b[0mprint\u001b[0m\u001b[0;34m(\u001b[0m\u001b[0mmath\u001b[0m\u001b[0;34m.\u001b[0m\u001b[0misnan\u001b[0m\u001b[0;34m(\u001b[0m\u001b[0mtest_1\u001b[0m\u001b[0;34m)\u001b[0m\u001b[0;34m)\u001b[0m\u001b[0;34m\u001b[0m\u001b[0;34m\u001b[0m\u001b[0m\n\u001b[1;32m      2\u001b[0m \u001b[0mprint\u001b[0m\u001b[0;34m(\u001b[0m\u001b[0mmath\u001b[0m\u001b[0;34m.\u001b[0m\u001b[0misnan\u001b[0m\u001b[0;34m(\u001b[0m\u001b[0mtest_3\u001b[0m\u001b[0;34m)\u001b[0m\u001b[0;34m)\u001b[0m\u001b[0;34m\u001b[0m\u001b[0;34m\u001b[0m\u001b[0m\n\u001b[0;32m----> 3\u001b[0;31m \u001b[0mprint\u001b[0m\u001b[0;34m(\u001b[0m\u001b[0mmath\u001b[0m\u001b[0;34m.\u001b[0m\u001b[0misnan\u001b[0m\u001b[0;34m(\u001b[0m\u001b[0mtest_4\u001b[0m\u001b[0;34m)\u001b[0m\u001b[0;34m)\u001b[0m\u001b[0;34m\u001b[0m\u001b[0;34m\u001b[0m\u001b[0m\n\u001b[0m",
      "\u001b[0;31mTypeError\u001b[0m: must be real number, not str"
     ]
    }
   ],
   "source": [
    "#These two work\n",
    "print(math.isnan(test_1))\n",
    "print(math.isnan(test_3))\n",
    "\n",
    "#But if a string will generate a TypeError\n",
    "print(math.isnan(test_4))"
   ]
  },
  {
   "cell_type": "code",
   "execution_count": 135,
   "id": "9a8cfee1-2c90-427a-9b41-7790551cb0d1",
   "metadata": {},
   "outputs": [
    {
     "name": "stdout",
     "output_type": "stream",
     "text": [
      "False\n",
      "False\n"
     ]
    }
   ],
   "source": [
    "print(test_1 == np.nan)\n",
    "print(test_1 == test_2)"
   ]
  },
  {
   "cell_type": "markdown",
   "id": "9e503b22-a796-41bb-b585-ef7fb464d4be",
   "metadata": {},
   "source": [
    "#### Using pd.isna()"
   ]
  },
  {
   "cell_type": "markdown",
   "id": "39eb3db4-6005-4195-8058-a947eb9144cb",
   "metadata": {},
   "source": [
    "Nicer than math.isnan(), as a string will not throw off a TypeError"
   ]
  },
  {
   "cell_type": "code",
   "execution_count": 142,
   "id": "b9991750-d4a7-4bf0-b46f-22d7ddb232f5",
   "metadata": {},
   "outputs": [
    {
     "name": "stdout",
     "output_type": "stream",
     "text": [
      "True\n",
      "False\n",
      "False\n"
     ]
    }
   ],
   "source": [
    "print(pd.isna(test_1))\n",
    "print(pd.isna(test_3))\n",
    "print(pd.isna(test_4))"
   ]
  },
  {
   "cell_type": "code",
   "execution_count": 144,
   "id": "ad51e03b-96df-4460-aa9a-6c9b3db6f322",
   "metadata": {},
   "outputs": [
    {
     "name": "stdout",
     "output_type": "stream",
     "text": [
      "True\n",
      "False\n"
     ]
    },
    {
     "ename": "TypeError",
     "evalue": "ufunc 'isnan' not supported for the input types, and the inputs could not be safely coerced to any supported types according to the casting rule ''safe''",
     "output_type": "error",
     "traceback": [
      "\u001b[0;31m---------------------------------------------------------------------------\u001b[0m",
      "\u001b[0;31mTypeError\u001b[0m                                 Traceback (most recent call last)",
      "\u001b[0;32m/var/folders/k1/r7px6rdx6hsdpvv2jd0z1_v40000gn/T/ipykernel_42706/1870601236.py\u001b[0m in \u001b[0;36m<module>\u001b[0;34m\u001b[0m\n\u001b[1;32m      1\u001b[0m \u001b[0mprint\u001b[0m\u001b[0;34m(\u001b[0m\u001b[0mnp\u001b[0m\u001b[0;34m.\u001b[0m\u001b[0misnan\u001b[0m\u001b[0;34m(\u001b[0m\u001b[0mtest_1\u001b[0m\u001b[0;34m)\u001b[0m\u001b[0;34m)\u001b[0m\u001b[0;34m\u001b[0m\u001b[0;34m\u001b[0m\u001b[0m\n\u001b[1;32m      2\u001b[0m \u001b[0mprint\u001b[0m\u001b[0;34m(\u001b[0m\u001b[0mnp\u001b[0m\u001b[0;34m.\u001b[0m\u001b[0misnan\u001b[0m\u001b[0;34m(\u001b[0m\u001b[0mtest_3\u001b[0m\u001b[0;34m)\u001b[0m\u001b[0;34m)\u001b[0m\u001b[0;34m\u001b[0m\u001b[0;34m\u001b[0m\u001b[0m\n\u001b[0;32m----> 3\u001b[0;31m \u001b[0mprint\u001b[0m\u001b[0;34m(\u001b[0m\u001b[0mnp\u001b[0m\u001b[0;34m.\u001b[0m\u001b[0misnan\u001b[0m\u001b[0;34m(\u001b[0m\u001b[0mtest_4\u001b[0m\u001b[0;34m)\u001b[0m\u001b[0;34m)\u001b[0m\u001b[0;34m\u001b[0m\u001b[0;34m\u001b[0m\u001b[0m\n\u001b[0m",
      "\u001b[0;31mTypeError\u001b[0m: ufunc 'isnan' not supported for the input types, and the inputs could not be safely coerced to any supported types according to the casting rule ''safe''"
     ]
    }
   ],
   "source": [
    "print(np.isnan(test_1))\n",
    "print(np.isnan(test_3))\n",
    "print(np.isnan(test_4))"
   ]
  },
  {
   "cell_type": "markdown",
   "id": "413ffa16-6b30-4011-b536-7c2f1d9d0ada",
   "metadata": {},
   "source": [
    "### How to slice a Series (column)"
   ]
  },
  {
   "cell_type": "code",
   "execution_count": 32,
   "id": "6224ccdc-ee3d-44f7-869b-33acd366300e",
   "metadata": {},
   "outputs": [
    {
     "name": "stdout",
     "output_type": "stream",
     "text": [
      "<class 'pandas.core.frame.DataFrame'>\n",
      "RangeIndex: 10 entries, 0 to 9\n",
      "Data columns (total 4 columns):\n",
      " #   Column   Non-Null Count  Dtype         \n",
      "---  ------   --------------  -----         \n",
      " 0   date     10 non-null     datetime64[ns]\n",
      " 1   country  10 non-null     object        \n",
      " 2   a        10 non-null     int64         \n",
      " 3   b        10 non-null     int64         \n",
      "dtypes: datetime64[ns](1), int64(2), object(1)\n",
      "memory usage: 448.0+ bytes\n"
     ]
    },
    {
     "data": {
      "text/plain": [
       "None"
      ]
     },
     "metadata": {},
     "output_type": "display_data"
    },
    {
     "data": {
      "text/html": [
       "<div>\n",
       "<style scoped>\n",
       "    .dataframe tbody tr th:only-of-type {\n",
       "        vertical-align: middle;\n",
       "    }\n",
       "\n",
       "    .dataframe tbody tr th {\n",
       "        vertical-align: top;\n",
       "    }\n",
       "\n",
       "    .dataframe thead th {\n",
       "        text-align: right;\n",
       "    }\n",
       "</style>\n",
       "<table border=\"1\" class=\"dataframe\">\n",
       "  <thead>\n",
       "    <tr style=\"text-align: right;\">\n",
       "      <th></th>\n",
       "      <th>date</th>\n",
       "      <th>country</th>\n",
       "      <th>a</th>\n",
       "      <th>b</th>\n",
       "      <th>year</th>\n",
       "    </tr>\n",
       "  </thead>\n",
       "  <tbody>\n",
       "    <tr>\n",
       "      <th>0</th>\n",
       "      <td>2021-12-01</td>\n",
       "      <td>USA</td>\n",
       "      <td>0</td>\n",
       "      <td>7</td>\n",
       "      <td>2021</td>\n",
       "    </tr>\n",
       "    <tr>\n",
       "      <th>1</th>\n",
       "      <td>2022-01-01</td>\n",
       "      <td>India</td>\n",
       "      <td>9</td>\n",
       "      <td>9</td>\n",
       "      <td>2022</td>\n",
       "    </tr>\n",
       "    <tr>\n",
       "      <th>2</th>\n",
       "      <td>2022-02-01</td>\n",
       "      <td>Germany</td>\n",
       "      <td>1</td>\n",
       "      <td>6</td>\n",
       "      <td>2022</td>\n",
       "    </tr>\n",
       "    <tr>\n",
       "      <th>3</th>\n",
       "      <td>2022-03-01</td>\n",
       "      <td>France</td>\n",
       "      <td>4</td>\n",
       "      <td>8</td>\n",
       "      <td>2022</td>\n",
       "    </tr>\n",
       "    <tr>\n",
       "      <th>4</th>\n",
       "      <td>2022-04-01</td>\n",
       "      <td>Canada</td>\n",
       "      <td>5</td>\n",
       "      <td>7</td>\n",
       "      <td>2022</td>\n",
       "    </tr>\n",
       "    <tr>\n",
       "      <th>5</th>\n",
       "      <td>2022-05-01</td>\n",
       "      <td>Netherland</td>\n",
       "      <td>2</td>\n",
       "      <td>8</td>\n",
       "      <td>2022</td>\n",
       "    </tr>\n",
       "    <tr>\n",
       "      <th>6</th>\n",
       "      <td>2022-06-01</td>\n",
       "      <td>UK</td>\n",
       "      <td>6</td>\n",
       "      <td>0</td>\n",
       "      <td>2022</td>\n",
       "    </tr>\n",
       "    <tr>\n",
       "      <th>7</th>\n",
       "      <td>2022-07-01</td>\n",
       "      <td>Singapore</td>\n",
       "      <td>1</td>\n",
       "      <td>3</td>\n",
       "      <td>2022</td>\n",
       "    </tr>\n",
       "    <tr>\n",
       "      <th>8</th>\n",
       "      <td>2022-08-01</td>\n",
       "      <td>Australia</td>\n",
       "      <td>4</td>\n",
       "      <td>2</td>\n",
       "      <td>2022</td>\n",
       "    </tr>\n",
       "    <tr>\n",
       "      <th>9</th>\n",
       "      <td>2022-09-01</td>\n",
       "      <td>Canada</td>\n",
       "      <td>9</td>\n",
       "      <td>7</td>\n",
       "      <td>2022</td>\n",
       "    </tr>\n",
       "  </tbody>\n",
       "</table>\n",
       "</div>"
      ],
      "text/plain": [
       "        date     country  a  b  year\n",
       "0 2021-12-01         USA  0  7  2021\n",
       "1 2022-01-01       India  9  9  2022\n",
       "2 2022-02-01     Germany  1  6  2022\n",
       "3 2022-03-01      France  4  8  2022\n",
       "4 2022-04-01      Canada  5  7  2022\n",
       "5 2022-05-01  Netherland  2  8  2022\n",
       "6 2022-06-01          UK  6  0  2022\n",
       "7 2022-07-01   Singapore  1  3  2022\n",
       "8 2022-08-01   Australia  4  2  2022\n",
       "9 2022-09-01      Canada  9  7  2022"
      ]
     },
     "metadata": {},
     "output_type": "display_data"
    },
    {
     "name": "stdout",
     "output_type": "stream",
     "text": [
      "<class 'pandas.core.frame.DataFrame'>\n",
      "RangeIndex: 10 entries, 0 to 9\n",
      "Data columns (total 5 columns):\n",
      " #   Column   Non-Null Count  Dtype         \n",
      "---  ------   --------------  -----         \n",
      " 0   date     10 non-null     datetime64[ns]\n",
      " 1   country  10 non-null     object        \n",
      " 2   a        10 non-null     int64         \n",
      " 3   b        10 non-null     int64         \n",
      " 4   year     10 non-null     int64         \n",
      "dtypes: datetime64[ns](1), int64(3), object(1)\n",
      "memory usage: 528.0+ bytes\n"
     ]
    }
   ],
   "source": [
    "df = pd.DataFrame({'date':pd.date_range(start='2021-12-01', periods=10, freq='MS'),\n",
    "                   'country':['USA','India','Germany','France','Canada','Netherland',\n",
    "                              'UK','Singapore', 'Australia', 'Canada'],\n",
    "                   'a': np.random.randint(10, size=10),\n",
    "                   'b': np.random.randint(10, size=10)})\n",
    "\n",
    "\n",
    "\n",
    "display(df.info())\n",
    "\n",
    "# If non-string format, you first need to convert to string.\n",
    "# I have saved this to a new column, so keep the format of the\n",
    "# original date field.\n",
    "\n",
    "df['year'] = df['date'].astype(str)\n",
    "\n",
    "# You can then slice the string field using the .str.slice()\n",
    "\n",
    "start = 0\n",
    "stop = 4\n",
    "step = 1\n",
    "\n",
    "df['year'] = df['year'].str.slice(start,stop, step).astype(int)\n",
    "\n",
    "display(df)\n",
    "df.info()"
   ]
  },
  {
   "cell_type": "markdown",
   "id": "050499f0-a82b-4a01-90d9-225907da0af4",
   "metadata": {},
   "source": [
    "### Binning Data in Pandas"
   ]
  },
  {
   "cell_type": "markdown",
   "id": "c6948426-a112-439d-88b9-6a87ab16022c",
   "metadata": {},
   "source": [
    "There are two different Pandas methods, .cut() and .qcut() for binning your data. These methods will allow you to bin data into custom-sized bins and equally-sized bins, respectively. Equal-sized bins allow you to gain easy insight into the distribution, while grouping data into custom bins can allow you to gain insight into logical categorical groupings. "
   ]
  },
  {
   "cell_type": "code",
   "execution_count": 34,
   "id": "39d1caa6-381e-43a9-8d77-9981150fefee",
   "metadata": {},
   "outputs": [
    {
     "name": "stdout",
     "output_type": "stream",
     "text": [
      "     Name  Age\n",
      "0     Ray   12\n",
      "1    Jane    7\n",
      "2    Kate   33\n",
      "3     Nik   34\n",
      "4  Autumn   45\n"
     ]
    }
   ],
   "source": [
    "# Loading a Sample Pandas DataFrame\n",
    "import pandas as pd\n",
    "\n",
    "df = pd.DataFrame.from_dict({\n",
    "    'Name': ['Ray', 'Jane', 'Kate', 'Nik', 'Autumn', 'Kasi', 'Mandeep', 'Evan', 'Kyra', 'Jim'],\n",
    "    'Age': [12, 7, 33, 34, 45, 65, 77, 11, 32, 55]\n",
    "})\n",
    "\n",
    "print(df.head())\n"
   ]
  },
  {
   "cell_type": "markdown",
   "id": "52ec4c5c-c1cc-485a-b949-dd5cf0499df3",
   "metadata": {},
   "source": [
    "#### Pandas qcut: Binning Data into Equal-Sized Bins\n",
    "\n",
    "The Pandas .qcut() method splits your data into equal-sized buckets, based on rank or some sample quantiles. This process is known as quantile-based discretization. Let’s take a look at the parameters available in the function:"
   ]
  },
  {
   "cell_type": "code",
   "execution_count": null,
   "id": "f5182f19-c501-4a47-aad9-496aecf8e2a4",
   "metadata": {},
   "outputs": [],
   "source": [
    "# Parameters of the Pandas .qcut() method\n",
    "pd.qcut(\n",
    "    x,                      # Column to bin\n",
    "    q,                      # Number of quantiles\n",
    "    labels=None,            # List of labels to include\n",
    "    retbins=False,          # Whether to return the bins/labels or not\n",
    "    precision=3,            # The precision to store and display the bins labels\n",
    "    duplicates='raise'      # If bin edges are not unique, raise a ValueError\n",
    ")"
   ]
  },
  {
   "cell_type": "markdown",
   "id": "c8f94b05-3023-4419-be5f-5a98a6f1a631",
   "metadata": {},
   "source": [
    "The function only has two required parameters, the column to bin (x=) and the number of quantiles to generate (q=). The function returns a Series of data that can, for example, be assigned to a new column. Let’s see how we can split our Age column into four different quantiles:"
   ]
  },
  {
   "cell_type": "code",
   "execution_count": 36,
   "id": "31db2552-25c8-4653-ba6c-725467121616",
   "metadata": {},
   "outputs": [
    {
     "name": "stdout",
     "output_type": "stream",
     "text": [
      "      Name  Age     Age Groups\n",
      "0      Ray   12  (6.999, 17.0]\n",
      "1     Jane    7  (6.999, 17.0]\n",
      "2     Kate   33   (17.0, 33.5]\n",
      "3      Nik   34   (33.5, 52.5]\n",
      "4   Autumn   45   (33.5, 52.5]\n",
      "5     Kasi   65   (52.5, 77.0]\n",
      "6  Mandeep   77   (52.5, 77.0]\n",
      "7     Evan   11  (6.999, 17.0]\n",
      "8     Kyra   32   (17.0, 33.5]\n",
      "9      Jim   55   (52.5, 77.0]\n"
     ]
    }
   ],
   "source": [
    "# Splitting Age Column into Four Quantiles\n",
    "\n",
    "df['Age Groups'] = pd.qcut(df['Age'], 4)\n",
    "print(df)"
   ]
  },
  {
   "cell_type": "code",
   "execution_count": 37,
   "id": "262d34db-c11f-4ead-ac3f-0d10f4dce97e",
   "metadata": {},
   "outputs": [
    {
     "name": "stdout",
     "output_type": "stream",
     "text": [
      "category\n"
     ]
    }
   ],
   "source": [
    "# Checking the data type of the qcut column\n",
    "\n",
    "print(df['Age Groups'].dtype)"
   ]
  },
  {
   "cell_type": "markdown",
   "id": "04fcb073-2cd1-4089-8f31-2f5703d1641a",
   "metadata": {},
   "source": [
    "The data type that gets returned is category, which is an incredibly memory-efficient way for Pandas to store categorical data. Let’s take a look at what the actual labels in the column mean:"
   ]
  },
  {
   "cell_type": "markdown",
   "id": "636b0c2c-6d9e-4cc0-b671-cb0159aef02c",
   "metadata": {},
   "source": [
    "#### Splitting Data Into Equal Percentiles Using Pandas qcut"
   ]
  },
  {
   "cell_type": "markdown",
   "id": "d03c510f-0c95-4da3-af20-141a3aecb452",
   "metadata": {},
   "source": [
    "Rather than simply passing in a number of groupings you want to create, you can also pass in a list of quartiles you want to create. This list should be a range from 0 through 1, splitting the data into equal percentages. Let’ see how we can split our data into 25% bins.\n",
    "\n",
    "You can see here that this returned the same result as we had before. Our data is split into four equal-sized buckets based on the ranges of the data."
   ]
  },
  {
   "cell_type": "code",
   "execution_count": 38,
   "id": "4814a90d-d86f-409f-b535-5d26d67e5af0",
   "metadata": {},
   "outputs": [
    {
     "name": "stdout",
     "output_type": "stream",
     "text": [
      "      Name  Age     Age Groups\n",
      "0      Ray   12  (6.999, 17.0]\n",
      "1     Jane    7  (6.999, 17.0]\n",
      "2     Kate   33   (17.0, 33.5]\n",
      "3      Nik   34   (33.5, 52.5]\n",
      "4   Autumn   45   (33.5, 52.5]\n",
      "5     Kasi   65   (52.5, 77.0]\n",
      "6  Mandeep   77   (52.5, 77.0]\n",
      "7     Evan   11  (6.999, 17.0]\n",
      "8     Kyra   32   (17.0, 33.5]\n",
      "9      Jim   55   (52.5, 77.0]\n"
     ]
    }
   ],
   "source": [
    "# Splitting Age Column into Four Quantiles\n",
    "df['Age Groups'] = pd.qcut(\n",
    "   df['Age'], \n",
    "   [0, 0.25, 0.5, 0.75, 1]\n",
    ")\n",
    "print(df)"
   ]
  },
  {
   "cell_type": "markdown",
   "id": "87681619-50fb-426d-8590-e339f28ff221",
   "metadata": {},
   "source": [
    "#### Adding Labels to Bins in Pandas with qcut"
   ]
  },
  {
   "cell_type": "markdown",
   "id": "9c9325ba-2608-496c-a358-273b865dec9f",
   "metadata": {},
   "source": [
    "You can pass in a list of labels that you want to relabel your dataset as. The length of the list should match the number of bins being created."
   ]
  },
  {
   "cell_type": "code",
   "execution_count": 39,
   "id": "8f5cd4e7-066a-46c0-a454-698a48a5858f",
   "metadata": {},
   "outputs": [
    {
     "name": "stdout",
     "output_type": "stream",
     "text": [
      "      Name  Age Age Groups\n",
      "0      Ray   12      0-25%\n",
      "1     Jane    7      0-25%\n",
      "2     Kate   33     26-49%\n",
      "3      Nik   34     51-75%\n",
      "4   Autumn   45     51-75%\n",
      "5     Kasi   65    76-100%\n",
      "6  Mandeep   77    76-100%\n",
      "7     Evan   11      0-25%\n",
      "8     Kyra   32     26-49%\n",
      "9      Jim   55    76-100%\n"
     ]
    }
   ],
   "source": [
    "# Adding Labels to Pandas .qcut()\n",
    "df['Age Groups'] = pd.qcut(\n",
    "   df['Age'], \n",
    "   [0, 0.25, 0.5, 0.75, 1], \n",
    "   labels=['0-25%', '26-49%', '51-75%', '76-100%']\n",
    ")\n",
    "print(df)"
   ]
  },
  {
   "cell_type": "code",
   "execution_count": 40,
   "id": "ac43d53e-fc5a-4136-be1d-cce8eef7e091",
   "metadata": {},
   "outputs": [
    {
     "name": "stdout",
     "output_type": "stream",
     "text": [
      "      Name  Age    Age Groups\n",
      "0      Ray   12   (6.9, 17.0]\n",
      "1     Jane    7   (6.9, 17.0]\n",
      "2     Kate   33  (17.0, 33.5]\n",
      "3      Nik   34  (33.5, 52.5]\n",
      "4   Autumn   45  (33.5, 52.5]\n",
      "5     Kasi   65  (52.5, 77.0]\n",
      "6  Mandeep   77  (52.5, 77.0]\n",
      "7     Evan   11   (6.9, 17.0]\n",
      "8     Kyra   32  (17.0, 33.5]\n",
      "9      Jim   55  (52.5, 77.0]\n"
     ]
    }
   ],
   "source": [
    "# Modifying Precision in Categories\n",
    "df['Age Groups'] = pd.qcut(\n",
    "   df['Age'], \n",
    "   4, \n",
    "   precision=1\n",
    ")\n",
    "print(df)"
   ]
  },
  {
   "cell_type": "markdown",
   "id": "39bc152c-fff0-42d3-b334-5821f61a5b23",
   "metadata": {},
   "source": [
    "#### Pandas cut: Binning Data into Custom Bins"
   ]
  },
  {
   "cell_type": "markdown",
   "id": "5abd517a-473e-41e4-a3ab-bc32cc99febf",
   "metadata": {},
   "source": [
    "The Pandas cut function is closely related to the .qcut() function. However, it’s used to bin values into discrete intervals, which you define yourself."
   ]
  },
  {
   "cell_type": "code",
   "execution_count": null,
   "id": "cf00d39b-8fac-4324-bc53-7bc2f23cef8b",
   "metadata": {},
   "outputs": [],
   "source": [
    "# Parameters of the .cut() Function\n",
    "pd.cut(\n",
    "    x,                          # The input array to be binned\n",
    "    bins,                       # The bins to use: int (# of bins) or sequence (widths) \n",
    "    right=True,                 # Whether to include right-most edge\n",
    "    labels=None,                # Labels to be used for bins\n",
    "    retbins=False,              # Whether to return bins or not\n",
    "    precision=3,                # Precision to store and display bins\n",
    "    include_lowest=False,       # Whether first interval should be left inclusive or not\n",
    "    duplicates='raise',         # What to do if bins edges are not unique\n",
    "    ordered=True                # Whether labels are ordered or not\n",
    ")"
   ]
  },
  {
   "cell_type": "code",
   "execution_count": 41,
   "id": "4ec66913-5fce-411c-9f85-de4739809c04",
   "metadata": {},
   "outputs": [
    {
     "name": "stdout",
     "output_type": "stream",
     "text": [
      "      Name  Age    Age Groups  Age Group\n",
      "0      Ray   12   (6.9, 17.0]    (0, 17]\n",
      "1     Jane    7   (6.9, 17.0]    (0, 17]\n",
      "2     Kate   33  (17.0, 33.5]   (17, 64]\n",
      "3      Nik   34  (33.5, 52.5]   (17, 64]\n",
      "4   Autumn   45  (33.5, 52.5]   (17, 64]\n",
      "5     Kasi   65  (52.5, 77.0]  (64, 100]\n",
      "6  Mandeep   77  (52.5, 77.0]  (64, 100]\n",
      "7     Evan   11   (6.9, 17.0]    (0, 17]\n",
      "8     Kyra   32  (17.0, 33.5]   (17, 64]\n",
      "9      Jim   55  (52.5, 77.0]   (17, 64]\n"
     ]
    }
   ],
   "source": [
    "df['Age Group'] = pd.cut(\n",
    "   df['Age'], \n",
    "   [0, 17, 64, 100]\n",
    ")\n",
    "print(df)"
   ]
  },
  {
   "cell_type": "code",
   "execution_count": 42,
   "id": "73beccfe-a597-41e4-8a02-e46c61b8938d",
   "metadata": {},
   "outputs": [
    {
     "name": "stdout",
     "output_type": "stream",
     "text": [
      "      Name  Age    Age Groups        Age Group\n",
      "0      Ray   12   (6.9, 17.0]   0-18 years old\n",
      "1     Jane    7   (6.9, 17.0]   0-18 years old\n",
      "2     Kate   33  (17.0, 33.5]  18-65 years old\n",
      "3      Nik   34  (33.5, 52.5]  18-65 years old\n",
      "4   Autumn   45  (33.5, 52.5]  18-65 years old\n",
      "5     Kasi   65  (52.5, 77.0]    65+ years old\n",
      "6  Mandeep   77  (52.5, 77.0]    65+ years old\n",
      "7     Evan   11   (6.9, 17.0]   0-18 years old\n",
      "8     Kyra   32  (17.0, 33.5]  18-65 years old\n",
      "9      Jim   55  (52.5, 77.0]  18-65 years old\n"
     ]
    }
   ],
   "source": [
    "# Adding labels to the groupings\n",
    "df['Age Group'] = pd.cut(\n",
    "    df['Age'], \n",
    "    [0, 17, 64, 100], \n",
    "    labels=['0-18 years old', '18-65 years old', '65+ years old']\n",
    ")\n",
    "print(df)"
   ]
  },
  {
   "cell_type": "markdown",
   "id": "65d413e2-1095-438e-bd72-24faf04b184d",
   "metadata": {},
   "source": [
    "#### Creating Ordered Categories with Pandas cut"
   ]
  },
  {
   "cell_type": "code",
   "execution_count": 45,
   "id": "831d5fcd-5c6b-4436-9d95-a274167d7e3d",
   "metadata": {},
   "outputs": [
    {
     "name": "stdout",
     "output_type": "stream",
     "text": [
      "0     0-18 years old\n",
      "1     0-18 years old\n",
      "2    18-65 years old\n",
      "3    18-65 years old\n",
      "4    18-65 years old\n",
      "5    18-65 years old\n",
      "6      65+ years old\n",
      "7     0-18 years old\n",
      "8    18-65 years old\n",
      "9    18-65 years old\n",
      "Name: Age, dtype: category\n",
      "Categories (3, object): ['0-18 years old' < '18-65 years old' < '65+ years old']\n"
     ]
    }
   ],
   "source": [
    "# Creating Ordered Categories\n",
    "print(pd.cut(\n",
    "    df['Age'], \n",
    "    [0, 18, 65, 100], \n",
    "    labels=['0-18 years old', '18-65 years old', '65+ years old'],\n",
    "    ordered=True\n",
    "))"
   ]
  },
  {
   "cell_type": "markdown",
   "id": "41dcb057-760f-4630-a086-795033f61f64",
   "metadata": {},
   "source": [
    "#### Value Counts"
   ]
  },
  {
   "cell_type": "code",
   "execution_count": 48,
   "id": "e43b9224-d78d-4afc-b5b0-f7acbfb33d80",
   "metadata": {},
   "outputs": [
    {
     "data": {
      "text/plain": [
       "(6.928999999999999, 24.5]    3\n",
       "(24.5, 42.0]                 3\n",
       "(42.0, 59.5]                 2\n",
       "(59.5, 77.0]                 2\n",
       "Name: Age, dtype: int64"
      ]
     },
     "execution_count": 48,
     "metadata": {},
     "output_type": "execute_result"
    }
   ],
   "source": [
    "df['Age'].value_counts(bins = 4)"
   ]
  },
  {
   "cell_type": "code",
   "execution_count": 63,
   "id": "c8e7dbae-644e-41de-8ca5-c05e316ba387",
   "metadata": {},
   "outputs": [
    {
     "data": {
      "text/plain": [
       "(18.0, 65.0]      6\n",
       "(-0.001, 18.0]    3\n",
       "(65.0, 100.0]     1\n",
       "Name: Age, dtype: int64"
      ]
     },
     "execution_count": 63,
     "metadata": {},
     "output_type": "execute_result"
    }
   ],
   "source": [
    "test = df['Age'].value_counts(bins = [0, 18, 65, 100])\n",
    "test"
   ]
  },
  {
   "cell_type": "markdown",
   "id": "9b153dde-e96f-4ca9-8771-991fc64f7e55",
   "metadata": {},
   "source": [
    "Note that the index of the series above is of type 'interval', which has quite a few cool features. \n",
    "\n",
    "https://pandas.pydata.org/pandas-docs/stable/reference/api/pandas.Interval.html"
   ]
  },
  {
   "cell_type": "code",
   "execution_count": 65,
   "id": "26c8b1c0-fe37-44e8-b978-730013ed54ae",
   "metadata": {},
   "outputs": [
    {
     "data": {
      "text/plain": [
       "-0.001"
      ]
     },
     "execution_count": 65,
     "metadata": {},
     "output_type": "execute_result"
    }
   ],
   "source": [
    "test.index[1].left"
   ]
  },
  {
   "cell_type": "markdown",
   "id": "e030e529-bf8d-482b-b18a-a19a833e2983",
   "metadata": {},
   "source": [
    "#### Between & Loc"
   ]
  },
  {
   "cell_type": "code",
   "execution_count": 67,
   "id": "02fd4cb1-f21e-4467-9b73-f30dcd239770",
   "metadata": {},
   "outputs": [
    {
     "data": {
      "text/html": [
       "<div>\n",
       "<style scoped>\n",
       "    .dataframe tbody tr th:only-of-type {\n",
       "        vertical-align: middle;\n",
       "    }\n",
       "\n",
       "    .dataframe tbody tr th {\n",
       "        vertical-align: top;\n",
       "    }\n",
       "\n",
       "    .dataframe thead th {\n",
       "        text-align: right;\n",
       "    }\n",
       "</style>\n",
       "<table border=\"1\" class=\"dataframe\">\n",
       "  <thead>\n",
       "    <tr style=\"text-align: right;\">\n",
       "      <th></th>\n",
       "      <th>Name</th>\n",
       "      <th>Age</th>\n",
       "      <th>Age Groups</th>\n",
       "      <th>Age Group</th>\n",
       "      <th>age_groups</th>\n",
       "    </tr>\n",
       "  </thead>\n",
       "  <tbody>\n",
       "    <tr>\n",
       "      <th>0</th>\n",
       "      <td>Ray</td>\n",
       "      <td>12</td>\n",
       "      <td>(6.9, 17.0]</td>\n",
       "      <td>0-18 years old</td>\n",
       "      <td>0-17 years old</td>\n",
       "    </tr>\n",
       "    <tr>\n",
       "      <th>1</th>\n",
       "      <td>Jane</td>\n",
       "      <td>7</td>\n",
       "      <td>(6.9, 17.0]</td>\n",
       "      <td>0-18 years old</td>\n",
       "      <td>0-17 years old</td>\n",
       "    </tr>\n",
       "    <tr>\n",
       "      <th>2</th>\n",
       "      <td>Kate</td>\n",
       "      <td>33</td>\n",
       "      <td>(17.0, 33.5]</td>\n",
       "      <td>18-65 years old</td>\n",
       "      <td>18-64 years old</td>\n",
       "    </tr>\n",
       "    <tr>\n",
       "      <th>3</th>\n",
       "      <td>Nik</td>\n",
       "      <td>34</td>\n",
       "      <td>(33.5, 52.5]</td>\n",
       "      <td>18-65 years old</td>\n",
       "      <td>18-64 years old</td>\n",
       "    </tr>\n",
       "    <tr>\n",
       "      <th>4</th>\n",
       "      <td>Autumn</td>\n",
       "      <td>45</td>\n",
       "      <td>(33.5, 52.5]</td>\n",
       "      <td>18-65 years old</td>\n",
       "      <td>18-64 years old</td>\n",
       "    </tr>\n",
       "    <tr>\n",
       "      <th>5</th>\n",
       "      <td>Kasi</td>\n",
       "      <td>65</td>\n",
       "      <td>(52.5, 77.0]</td>\n",
       "      <td>65+ years old</td>\n",
       "      <td>65+ years old</td>\n",
       "    </tr>\n",
       "    <tr>\n",
       "      <th>6</th>\n",
       "      <td>Mandeep</td>\n",
       "      <td>77</td>\n",
       "      <td>(52.5, 77.0]</td>\n",
       "      <td>65+ years old</td>\n",
       "      <td>65+ years old</td>\n",
       "    </tr>\n",
       "    <tr>\n",
       "      <th>7</th>\n",
       "      <td>Evan</td>\n",
       "      <td>11</td>\n",
       "      <td>(6.9, 17.0]</td>\n",
       "      <td>0-18 years old</td>\n",
       "      <td>0-17 years old</td>\n",
       "    </tr>\n",
       "    <tr>\n",
       "      <th>8</th>\n",
       "      <td>Kyra</td>\n",
       "      <td>32</td>\n",
       "      <td>(17.0, 33.5]</td>\n",
       "      <td>18-65 years old</td>\n",
       "      <td>18-64 years old</td>\n",
       "    </tr>\n",
       "    <tr>\n",
       "      <th>9</th>\n",
       "      <td>Jim</td>\n",
       "      <td>55</td>\n",
       "      <td>(52.5, 77.0]</td>\n",
       "      <td>18-65 years old</td>\n",
       "      <td>18-64 years old</td>\n",
       "    </tr>\n",
       "  </tbody>\n",
       "</table>\n",
       "</div>"
      ],
      "text/plain": [
       "      Name  Age    Age Groups        Age Group       age_groups\n",
       "0      Ray   12   (6.9, 17.0]   0-18 years old   0-17 years old\n",
       "1     Jane    7   (6.9, 17.0]   0-18 years old   0-17 years old\n",
       "2     Kate   33  (17.0, 33.5]  18-65 years old  18-64 years old\n",
       "3      Nik   34  (33.5, 52.5]  18-65 years old  18-64 years old\n",
       "4   Autumn   45  (33.5, 52.5]  18-65 years old  18-64 years old\n",
       "5     Kasi   65  (52.5, 77.0]    65+ years old    65+ years old\n",
       "6  Mandeep   77  (52.5, 77.0]    65+ years old    65+ years old\n",
       "7     Evan   11   (6.9, 17.0]   0-18 years old   0-17 years old\n",
       "8     Kyra   32  (17.0, 33.5]  18-65 years old  18-64 years old\n",
       "9      Jim   55  (52.5, 77.0]  18-65 years old  18-64 years old"
      ]
     },
     "execution_count": 67,
     "metadata": {},
     "output_type": "execute_result"
    }
   ],
   "source": [
    "df.loc[df['Age'].between(0, 18, 'left'), 'age_groups'] = '0-17 years old'\n",
    "df.loc[df['Age'].between(18, 64, 'both'), 'age_groups'] = '18-64 years old'\n",
    "df.loc[df['Age'].between(65, 200, 'left'), 'age_groups'] = '65+ years old'\n",
    "\n",
    "df"
   ]
  },
  {
   "cell_type": "markdown",
   "id": "52677083-1512-4f77-8da6-a2f31dbf9ff1",
   "metadata": {},
   "source": [
    "### How to shift a column in a DataFrame"
   ]
  },
  {
   "cell_type": "code",
   "execution_count": 15,
   "id": "dfe81d18-0eb0-49d5-82a8-09f5d659981f",
   "metadata": {},
   "outputs": [
    {
     "data": {
      "text/html": [
       "<div>\n",
       "<style scoped>\n",
       "    .dataframe tbody tr th:only-of-type {\n",
       "        vertical-align: middle;\n",
       "    }\n",
       "\n",
       "    .dataframe tbody tr th {\n",
       "        vertical-align: top;\n",
       "    }\n",
       "\n",
       "    .dataframe thead th {\n",
       "        text-align: right;\n",
       "    }\n",
       "</style>\n",
       "<table border=\"1\" class=\"dataframe\">\n",
       "  <thead>\n",
       "    <tr style=\"text-align: right;\">\n",
       "      <th></th>\n",
       "      <th>a</th>\n",
       "      <th>b</th>\n",
       "      <th>x</th>\n",
       "      <th>y</th>\n",
       "    </tr>\n",
       "  </thead>\n",
       "  <tbody>\n",
       "    <tr>\n",
       "      <th>0</th>\n",
       "      <td>1</td>\n",
       "      <td>2</td>\n",
       "      <td>3</td>\n",
       "      <td>-1</td>\n",
       "    </tr>\n",
       "    <tr>\n",
       "      <th>1</th>\n",
       "      <td>2</td>\n",
       "      <td>4</td>\n",
       "      <td>6</td>\n",
       "      <td>-2</td>\n",
       "    </tr>\n",
       "    <tr>\n",
       "      <th>2</th>\n",
       "      <td>3</td>\n",
       "      <td>6</td>\n",
       "      <td>9</td>\n",
       "      <td>-3</td>\n",
       "    </tr>\n",
       "    <tr>\n",
       "      <th>3</th>\n",
       "      <td>4</td>\n",
       "      <td>8</td>\n",
       "      <td>12</td>\n",
       "      <td>-4</td>\n",
       "    </tr>\n",
       "  </tbody>\n",
       "</table>\n",
       "</div>"
      ],
      "text/plain": [
       "   a  b   x  y\n",
       "0  1  2   3 -1\n",
       "1  2  4   6 -2\n",
       "2  3  6   9 -3\n",
       "3  4  8  12 -4"
      ]
     },
     "execution_count": 15,
     "metadata": {},
     "output_type": "execute_result"
    }
   ],
   "source": [
    "df = pd.DataFrame({\n",
    "    'a': [1,2,3,4],\n",
    "    'b': [2,4,6,8],\n",
    "    'x': [3,6,9,12],\n",
    "    'y': [-1,-2,-3,-4]\n",
    "})\n",
    "df"
   ]
  },
  {
   "cell_type": "markdown",
   "id": "62b18073-573a-4bc1-962a-02150c4c3fbe",
   "metadata": {},
   "source": [
    "You can rearrange columns directly by specifying their order:"
   ]
  },
  {
   "cell_type": "code",
   "execution_count": 17,
   "id": "50ed57ec-6cf6-484e-80d8-aa30b8ce9d25",
   "metadata": {},
   "outputs": [
    {
     "data": {
      "text/html": [
       "<div>\n",
       "<style scoped>\n",
       "    .dataframe tbody tr th:only-of-type {\n",
       "        vertical-align: middle;\n",
       "    }\n",
       "\n",
       "    .dataframe tbody tr th {\n",
       "        vertical-align: top;\n",
       "    }\n",
       "\n",
       "    .dataframe thead th {\n",
       "        text-align: right;\n",
       "    }\n",
       "</style>\n",
       "<table border=\"1\" class=\"dataframe\">\n",
       "  <thead>\n",
       "    <tr style=\"text-align: right;\">\n",
       "      <th></th>\n",
       "      <th>a</th>\n",
       "      <th>y</th>\n",
       "      <th>b</th>\n",
       "      <th>x</th>\n",
       "    </tr>\n",
       "  </thead>\n",
       "  <tbody>\n",
       "    <tr>\n",
       "      <th>0</th>\n",
       "      <td>1</td>\n",
       "      <td>-1</td>\n",
       "      <td>2</td>\n",
       "      <td>3</td>\n",
       "    </tr>\n",
       "    <tr>\n",
       "      <th>1</th>\n",
       "      <td>2</td>\n",
       "      <td>-2</td>\n",
       "      <td>4</td>\n",
       "      <td>6</td>\n",
       "    </tr>\n",
       "    <tr>\n",
       "      <th>2</th>\n",
       "      <td>3</td>\n",
       "      <td>-3</td>\n",
       "      <td>6</td>\n",
       "      <td>9</td>\n",
       "    </tr>\n",
       "    <tr>\n",
       "      <th>3</th>\n",
       "      <td>4</td>\n",
       "      <td>-4</td>\n",
       "      <td>8</td>\n",
       "      <td>12</td>\n",
       "    </tr>\n",
       "  </tbody>\n",
       "</table>\n",
       "</div>"
      ],
      "text/plain": [
       "   a  y  b   x\n",
       "0  1 -1  2   3\n",
       "1  2 -2  4   6\n",
       "2  3 -3  6   9\n",
       "3  4 -4  8  12"
      ]
     },
     "execution_count": 17,
     "metadata": {},
     "output_type": "execute_result"
    }
   ],
   "source": [
    "df = df[['a', 'y', 'b', 'x']]\n",
    "df"
   ]
  },
  {
   "cell_type": "markdown",
   "id": "a54ace93-b9cb-46c3-8c48-646a3fa4da7c",
   "metadata": {},
   "source": [
    "In the case of larger dataframes where the column titles are dynamic, you can use a list comprehension to select every column not in your target set and then append the target set to the end."
   ]
  },
  {
   "cell_type": "code",
   "execution_count": 18,
   "id": "76e87af8-e67d-4f9d-b817-2e667c409811",
   "metadata": {},
   "outputs": [
    {
     "data": {
      "text/html": [
       "<div>\n",
       "<style scoped>\n",
       "    .dataframe tbody tr th:only-of-type {\n",
       "        vertical-align: middle;\n",
       "    }\n",
       "\n",
       "    .dataframe tbody tr th {\n",
       "        vertical-align: top;\n",
       "    }\n",
       "\n",
       "    .dataframe thead th {\n",
       "        text-align: right;\n",
       "    }\n",
       "</style>\n",
       "<table border=\"1\" class=\"dataframe\">\n",
       "  <thead>\n",
       "    <tr style=\"text-align: right;\">\n",
       "      <th></th>\n",
       "      <th>a</th>\n",
       "      <th>y</th>\n",
       "      <th>b</th>\n",
       "      <th>x</th>\n",
       "    </tr>\n",
       "  </thead>\n",
       "  <tbody>\n",
       "    <tr>\n",
       "      <th>0</th>\n",
       "      <td>1</td>\n",
       "      <td>-1</td>\n",
       "      <td>2</td>\n",
       "      <td>3</td>\n",
       "    </tr>\n",
       "    <tr>\n",
       "      <th>1</th>\n",
       "      <td>2</td>\n",
       "      <td>-2</td>\n",
       "      <td>4</td>\n",
       "      <td>6</td>\n",
       "    </tr>\n",
       "    <tr>\n",
       "      <th>2</th>\n",
       "      <td>3</td>\n",
       "      <td>-3</td>\n",
       "      <td>6</td>\n",
       "      <td>9</td>\n",
       "    </tr>\n",
       "    <tr>\n",
       "      <th>3</th>\n",
       "      <td>4</td>\n",
       "      <td>-4</td>\n",
       "      <td>8</td>\n",
       "      <td>12</td>\n",
       "    </tr>\n",
       "  </tbody>\n",
       "</table>\n",
       "</div>"
      ],
      "text/plain": [
       "   a  y  b   x\n",
       "0  1 -1  2   3\n",
       "1  2 -2  4   6\n",
       "2  3 -3  6   9\n",
       "3  4 -4  8  12"
      ]
     },
     "execution_count": 18,
     "metadata": {},
     "output_type": "execute_result"
    }
   ],
   "source": [
    "df[[c for c in df if c not in ['b', 'x']] \n",
    "   + ['b', 'x']]"
   ]
  },
  {
   "cell_type": "markdown",
   "id": "574dc751-1b4c-4265-aa19-0b60fd1e62e9",
   "metadata": {},
   "source": [
    "To make it more bullet proof, you can ensure that your target columns are indeed in the dataframe:"
   ]
  },
  {
   "cell_type": "code",
   "execution_count": 19,
   "id": "4ac0dce9-855d-48fa-94f8-ab997f4733a1",
   "metadata": {},
   "outputs": [
    {
     "data": {
      "text/html": [
       "<div>\n",
       "<style scoped>\n",
       "    .dataframe tbody tr th:only-of-type {\n",
       "        vertical-align: middle;\n",
       "    }\n",
       "\n",
       "    .dataframe tbody tr th {\n",
       "        vertical-align: top;\n",
       "    }\n",
       "\n",
       "    .dataframe thead th {\n",
       "        text-align: right;\n",
       "    }\n",
       "</style>\n",
       "<table border=\"1\" class=\"dataframe\">\n",
       "  <thead>\n",
       "    <tr style=\"text-align: right;\">\n",
       "      <th></th>\n",
       "      <th>a</th>\n",
       "      <th>y</th>\n",
       "      <th>b</th>\n",
       "      <th>x</th>\n",
       "    </tr>\n",
       "  </thead>\n",
       "  <tbody>\n",
       "    <tr>\n",
       "      <th>0</th>\n",
       "      <td>1</td>\n",
       "      <td>-1</td>\n",
       "      <td>2</td>\n",
       "      <td>3</td>\n",
       "    </tr>\n",
       "    <tr>\n",
       "      <th>1</th>\n",
       "      <td>2</td>\n",
       "      <td>-2</td>\n",
       "      <td>4</td>\n",
       "      <td>6</td>\n",
       "    </tr>\n",
       "    <tr>\n",
       "      <th>2</th>\n",
       "      <td>3</td>\n",
       "      <td>-3</td>\n",
       "      <td>6</td>\n",
       "      <td>9</td>\n",
       "    </tr>\n",
       "    <tr>\n",
       "      <th>3</th>\n",
       "      <td>4</td>\n",
       "      <td>-4</td>\n",
       "      <td>8</td>\n",
       "      <td>12</td>\n",
       "    </tr>\n",
       "  </tbody>\n",
       "</table>\n",
       "</div>"
      ],
      "text/plain": [
       "   a  y  b   x\n",
       "0  1 -1  2   3\n",
       "1  2 -2  4   6\n",
       "2  3 -3  6   9\n",
       "3  4 -4  8  12"
      ]
     },
     "execution_count": 19,
     "metadata": {},
     "output_type": "execute_result"
    }
   ],
   "source": [
    "cols_at_end = ['b', 'x']\n",
    "\n",
    "df = df[[c for c in df if c not in cols_at_end] \n",
    "        + [c for c in cols_at_end if c in df]]\n",
    "\n",
    "df"
   ]
  },
  {
   "cell_type": "markdown",
   "id": "7ffe58cf-0d5b-4b11-bce8-184588cbe4ad",
   "metadata": {},
   "source": [
    "### How to randomly select rows from Pandas DataFrame"
   ]
  },
  {
   "cell_type": "code",
   "execution_count": 29,
   "id": "63bdf12e-ae9c-4db3-b33a-3c488f971563",
   "metadata": {},
   "outputs": [
    {
     "data": {
      "text/html": [
       "<div>\n",
       "<style scoped>\n",
       "    .dataframe tbody tr th:only-of-type {\n",
       "        vertical-align: middle;\n",
       "    }\n",
       "\n",
       "    .dataframe tbody tr th {\n",
       "        vertical-align: top;\n",
       "    }\n",
       "\n",
       "    .dataframe thead th {\n",
       "        text-align: right;\n",
       "    }\n",
       "</style>\n",
       "<table border=\"1\" class=\"dataframe\">\n",
       "  <thead>\n",
       "    <tr style=\"text-align: right;\">\n",
       "      <th></th>\n",
       "      <th>Name</th>\n",
       "      <th>Age</th>\n",
       "      <th>Address</th>\n",
       "      <th>Qualification</th>\n",
       "    </tr>\n",
       "  </thead>\n",
       "  <tbody>\n",
       "    <tr>\n",
       "      <th>0</th>\n",
       "      <td>Jai</td>\n",
       "      <td>27</td>\n",
       "      <td>Delhi</td>\n",
       "      <td>Msc</td>\n",
       "    </tr>\n",
       "    <tr>\n",
       "      <th>1</th>\n",
       "      <td>Princi</td>\n",
       "      <td>24</td>\n",
       "      <td>Kanpur</td>\n",
       "      <td>MA</td>\n",
       "    </tr>\n",
       "    <tr>\n",
       "      <th>2</th>\n",
       "      <td>Gaurav</td>\n",
       "      <td>22</td>\n",
       "      <td>Allahabad</td>\n",
       "      <td>MCA</td>\n",
       "    </tr>\n",
       "    <tr>\n",
       "      <th>3</th>\n",
       "      <td>Anuj</td>\n",
       "      <td>32</td>\n",
       "      <td>Kannauj</td>\n",
       "      <td>Phd</td>\n",
       "    </tr>\n",
       "    <tr>\n",
       "      <th>4</th>\n",
       "      <td>Geeku</td>\n",
       "      <td>15</td>\n",
       "      <td>Noida</td>\n",
       "      <td>10th</td>\n",
       "    </tr>\n",
       "  </tbody>\n",
       "</table>\n",
       "</div>"
      ],
      "text/plain": [
       "     Name  Age    Address Qualification\n",
       "0     Jai   27      Delhi           Msc\n",
       "1  Princi   24     Kanpur            MA\n",
       "2  Gaurav   22  Allahabad           MCA\n",
       "3    Anuj   32    Kannauj           Phd\n",
       "4   Geeku   15      Noida          10th"
      ]
     },
     "execution_count": 29,
     "metadata": {},
     "output_type": "execute_result"
    }
   ],
   "source": [
    "import pandas as pd\n",
    "  \n",
    "# Define a dictionary containing employee data\n",
    "data = {'Name':['Jai', 'Princi', 'Gaurav', 'Anuj', 'Geeku'],\n",
    "        'Age':[27, 24, 22, 32, 15],\n",
    "        'Address':['Delhi', 'Kanpur', 'Allahabad', 'Kannauj', 'Noida'],\n",
    "        'Qualification':['Msc', 'MA', 'MCA', 'Phd', '10th']}\n",
    " \n",
    "# Convert the dictionary into DataFrame\n",
    "df = pd.DataFrame(data)\n",
    " \n",
    "# select all columns\n",
    "df"
   ]
  },
  {
   "cell_type": "markdown",
   "id": "1cede924-b47b-4567-9c7b-750870449484",
   "metadata": {},
   "source": [
    "#### Method #1: Using sample() method"
   ]
  },
  {
   "cell_type": "code",
   "execution_count": 43,
   "id": "2bebd2d1-4ba1-4dd9-9b59-690c0346f029",
   "metadata": {},
   "outputs": [
    {
     "data": {
      "text/html": [
       "<div>\n",
       "<style scoped>\n",
       "    .dataframe tbody tr th:only-of-type {\n",
       "        vertical-align: middle;\n",
       "    }\n",
       "\n",
       "    .dataframe tbody tr th {\n",
       "        vertical-align: top;\n",
       "    }\n",
       "\n",
       "    .dataframe thead th {\n",
       "        text-align: right;\n",
       "    }\n",
       "</style>\n",
       "<table border=\"1\" class=\"dataframe\">\n",
       "  <thead>\n",
       "    <tr style=\"text-align: right;\">\n",
       "      <th></th>\n",
       "      <th>Name</th>\n",
       "      <th>Age</th>\n",
       "      <th>Address</th>\n",
       "      <th>Qualification</th>\n",
       "    </tr>\n",
       "  </thead>\n",
       "  <tbody>\n",
       "    <tr>\n",
       "      <th>0</th>\n",
       "      <td>Jai</td>\n",
       "      <td>27</td>\n",
       "      <td>Delhi</td>\n",
       "      <td>Msc</td>\n",
       "    </tr>\n",
       "  </tbody>\n",
       "</table>\n",
       "</div>"
      ],
      "text/plain": [
       "  Name  Age Address Qualification\n",
       "0  Jai   27   Delhi           Msc"
      ]
     },
     "execution_count": 43,
     "metadata": {},
     "output_type": "execute_result"
    }
   ],
   "source": [
    "# Select one row randomly using sample()\n",
    "# without give any parameters\n",
    "df.sample()"
   ]
  },
  {
   "cell_type": "code",
   "execution_count": 31,
   "id": "844c07dd-b7ff-4698-97bf-0d5054978a69",
   "metadata": {},
   "outputs": [
    {
     "data": {
      "text/html": [
       "<div>\n",
       "<style scoped>\n",
       "    .dataframe tbody tr th:only-of-type {\n",
       "        vertical-align: middle;\n",
       "    }\n",
       "\n",
       "    .dataframe tbody tr th {\n",
       "        vertical-align: top;\n",
       "    }\n",
       "\n",
       "    .dataframe thead th {\n",
       "        text-align: right;\n",
       "    }\n",
       "</style>\n",
       "<table border=\"1\" class=\"dataframe\">\n",
       "  <thead>\n",
       "    <tr style=\"text-align: right;\">\n",
       "      <th></th>\n",
       "      <th>Name</th>\n",
       "      <th>Age</th>\n",
       "      <th>Address</th>\n",
       "      <th>Qualification</th>\n",
       "    </tr>\n",
       "  </thead>\n",
       "  <tbody>\n",
       "    <tr>\n",
       "      <th>0</th>\n",
       "      <td>Jai</td>\n",
       "      <td>27</td>\n",
       "      <td>Delhi</td>\n",
       "      <td>Msc</td>\n",
       "    </tr>\n",
       "    <tr>\n",
       "      <th>2</th>\n",
       "      <td>Gaurav</td>\n",
       "      <td>22</td>\n",
       "      <td>Allahabad</td>\n",
       "      <td>MCA</td>\n",
       "    </tr>\n",
       "    <tr>\n",
       "      <th>1</th>\n",
       "      <td>Princi</td>\n",
       "      <td>24</td>\n",
       "      <td>Kanpur</td>\n",
       "      <td>MA</td>\n",
       "    </tr>\n",
       "  </tbody>\n",
       "</table>\n",
       "</div>"
      ],
      "text/plain": [
       "     Name  Age    Address Qualification\n",
       "0     Jai   27      Delhi           Msc\n",
       "2  Gaurav   22  Allahabad           MCA\n",
       "1  Princi   24     Kanpur            MA"
      ]
     },
     "execution_count": 31,
     "metadata": {},
     "output_type": "execute_result"
    }
   ],
   "source": [
    "# To get 3 random rows\n",
    "# each time it gives 3 different rows\n",
    " \n",
    "# df.sample(3) or\n",
    "df.sample(n = 3)"
   ]
  },
  {
   "cell_type": "code",
   "execution_count": 32,
   "id": "d5207520-504b-4828-b697-691a321f21e6",
   "metadata": {},
   "outputs": [
    {
     "data": {
      "text/html": [
       "<div>\n",
       "<style scoped>\n",
       "    .dataframe tbody tr th:only-of-type {\n",
       "        vertical-align: middle;\n",
       "    }\n",
       "\n",
       "    .dataframe tbody tr th {\n",
       "        vertical-align: top;\n",
       "    }\n",
       "\n",
       "    .dataframe thead th {\n",
       "        text-align: right;\n",
       "    }\n",
       "</style>\n",
       "<table border=\"1\" class=\"dataframe\">\n",
       "  <thead>\n",
       "    <tr style=\"text-align: right;\">\n",
       "      <th></th>\n",
       "      <th>Name</th>\n",
       "      <th>Age</th>\n",
       "      <th>Address</th>\n",
       "      <th>Qualification</th>\n",
       "    </tr>\n",
       "  </thead>\n",
       "  <tbody>\n",
       "    <tr>\n",
       "      <th>1</th>\n",
       "      <td>Princi</td>\n",
       "      <td>24</td>\n",
       "      <td>Kanpur</td>\n",
       "      <td>MA</td>\n",
       "    </tr>\n",
       "    <tr>\n",
       "      <th>4</th>\n",
       "      <td>Geeku</td>\n",
       "      <td>15</td>\n",
       "      <td>Noida</td>\n",
       "      <td>10th</td>\n",
       "    </tr>\n",
       "  </tbody>\n",
       "</table>\n",
       "</div>"
      ],
      "text/plain": [
       "     Name  Age Address Qualification\n",
       "1  Princi   24  Kanpur            MA\n",
       "4   Geeku   15   Noida          10th"
      ]
     },
     "execution_count": 32,
     "metadata": {},
     "output_type": "execute_result"
    }
   ],
   "source": [
    "# Fraction of rows\n",
    " \n",
    "# here you get .50 % of the rows\n",
    "df.sample(frac = 0.5)"
   ]
  },
  {
   "cell_type": "code",
   "execution_count": 33,
   "id": "8b3e11f4-3a3a-41a4-a2c6-99b71c6cb189",
   "metadata": {},
   "outputs": [
    {
     "data": {
      "text/html": [
       "<div>\n",
       "<style scoped>\n",
       "    .dataframe tbody tr th:only-of-type {\n",
       "        vertical-align: middle;\n",
       "    }\n",
       "\n",
       "    .dataframe tbody tr th {\n",
       "        vertical-align: top;\n",
       "    }\n",
       "\n",
       "    .dataframe thead th {\n",
       "        text-align: right;\n",
       "    }\n",
       "</style>\n",
       "<table border=\"1\" class=\"dataframe\">\n",
       "  <thead>\n",
       "    <tr style=\"text-align: right;\">\n",
       "      <th></th>\n",
       "      <th>Name</th>\n",
       "      <th>Age</th>\n",
       "      <th>Address</th>\n",
       "      <th>Qualification</th>\n",
       "    </tr>\n",
       "  </thead>\n",
       "  <tbody>\n",
       "    <tr>\n",
       "      <th>4</th>\n",
       "      <td>Geeku</td>\n",
       "      <td>15</td>\n",
       "      <td>Noida</td>\n",
       "      <td>10th</td>\n",
       "    </tr>\n",
       "    <tr>\n",
       "      <th>0</th>\n",
       "      <td>Jai</td>\n",
       "      <td>27</td>\n",
       "      <td>Delhi</td>\n",
       "      <td>Msc</td>\n",
       "    </tr>\n",
       "  </tbody>\n",
       "</table>\n",
       "</div>"
      ],
      "text/plain": [
       "    Name  Age Address Qualification\n",
       "4  Geeku   15   Noida          10th\n",
       "0    Jai   27   Delhi           Msc"
      ]
     },
     "execution_count": 33,
     "metadata": {},
     "output_type": "execute_result"
    }
   ],
   "source": [
    "# fraction of rows\n",
    " \n",
    "# here you get 70 % row from the df\n",
    "# make put into another dataframe df1\n",
    "df1 = df.sample(frac =.7)\n",
    " \n",
    "# Now select 50 % rows from df1\n",
    "df1.sample(frac =.50)"
   ]
  },
  {
   "cell_type": "code",
   "execution_count": 37,
   "id": "5bb31dcf-9032-4c39-894b-87d06dc81182",
   "metadata": {},
   "outputs": [
    {
     "data": {
      "text/html": [
       "<div>\n",
       "<style scoped>\n",
       "    .dataframe tbody tr th:only-of-type {\n",
       "        vertical-align: middle;\n",
       "    }\n",
       "\n",
       "    .dataframe tbody tr th {\n",
       "        vertical-align: top;\n",
       "    }\n",
       "\n",
       "    .dataframe thead th {\n",
       "        text-align: right;\n",
       "    }\n",
       "</style>\n",
       "<table border=\"1\" class=\"dataframe\">\n",
       "  <thead>\n",
       "    <tr style=\"text-align: right;\">\n",
       "      <th></th>\n",
       "      <th>Name</th>\n",
       "      <th>Age</th>\n",
       "      <th>Address</th>\n",
       "      <th>Qualification</th>\n",
       "    </tr>\n",
       "  </thead>\n",
       "  <tbody>\n",
       "    <tr>\n",
       "      <th>4</th>\n",
       "      <td>Geeku</td>\n",
       "      <td>15</td>\n",
       "      <td>Noida</td>\n",
       "      <td>10th</td>\n",
       "    </tr>\n",
       "    <tr>\n",
       "      <th>3</th>\n",
       "      <td>Anuj</td>\n",
       "      <td>32</td>\n",
       "      <td>Kannauj</td>\n",
       "      <td>Phd</td>\n",
       "    </tr>\n",
       "    <tr>\n",
       "      <th>0</th>\n",
       "      <td>Jai</td>\n",
       "      <td>27</td>\n",
       "      <td>Delhi</td>\n",
       "      <td>Msc</td>\n",
       "    </tr>\n",
       "  </tbody>\n",
       "</table>\n",
       "</div>"
      ],
      "text/plain": [
       "    Name  Age  Address Qualification\n",
       "4  Geeku   15    Noida          10th\n",
       "3   Anuj   32  Kannauj           Phd\n",
       "0    Jai   27    Delhi           Msc"
      ]
     },
     "execution_count": 37,
     "metadata": {},
     "output_type": "execute_result"
    }
   ],
   "source": [
    "# Dataframe df has only 4 rows\n",
    " \n",
    "# if we try to select more than 4 row then will come error\n",
    "# Cannot take a larger sample than population when 'replace = False'\n",
    "df1.sample(n = 3, replace = False)"
   ]
  },
  {
   "cell_type": "code",
   "execution_count": 38,
   "id": "2f53e766-99be-40d8-bb85-4b277b5849ea",
   "metadata": {},
   "outputs": [
    {
     "data": {
      "text/html": [
       "<div>\n",
       "<style scoped>\n",
       "    .dataframe tbody tr th:only-of-type {\n",
       "        vertical-align: middle;\n",
       "    }\n",
       "\n",
       "    .dataframe tbody tr th {\n",
       "        vertical-align: top;\n",
       "    }\n",
       "\n",
       "    .dataframe thead th {\n",
       "        text-align: right;\n",
       "    }\n",
       "</style>\n",
       "<table border=\"1\" class=\"dataframe\">\n",
       "  <thead>\n",
       "    <tr style=\"text-align: right;\">\n",
       "      <th></th>\n",
       "      <th>Name</th>\n",
       "      <th>Age</th>\n",
       "      <th>Address</th>\n",
       "      <th>Qualification</th>\n",
       "    </tr>\n",
       "  </thead>\n",
       "  <tbody>\n",
       "    <tr>\n",
       "      <th>2</th>\n",
       "      <td>Gaurav</td>\n",
       "      <td>22</td>\n",
       "      <td>Allahabad</td>\n",
       "      <td>MCA</td>\n",
       "    </tr>\n",
       "    <tr>\n",
       "      <th>3</th>\n",
       "      <td>Anuj</td>\n",
       "      <td>32</td>\n",
       "      <td>Kannauj</td>\n",
       "      <td>Phd</td>\n",
       "    </tr>\n",
       "    <tr>\n",
       "      <th>2</th>\n",
       "      <td>Gaurav</td>\n",
       "      <td>22</td>\n",
       "      <td>Allahabad</td>\n",
       "      <td>MCA</td>\n",
       "    </tr>\n",
       "    <tr>\n",
       "      <th>4</th>\n",
       "      <td>Geeku</td>\n",
       "      <td>15</td>\n",
       "      <td>Noida</td>\n",
       "      <td>10th</td>\n",
       "    </tr>\n",
       "    <tr>\n",
       "      <th>2</th>\n",
       "      <td>Gaurav</td>\n",
       "      <td>22</td>\n",
       "      <td>Allahabad</td>\n",
       "      <td>MCA</td>\n",
       "    </tr>\n",
       "    <tr>\n",
       "      <th>4</th>\n",
       "      <td>Geeku</td>\n",
       "      <td>15</td>\n",
       "      <td>Noida</td>\n",
       "      <td>10th</td>\n",
       "    </tr>\n",
       "  </tbody>\n",
       "</table>\n",
       "</div>"
      ],
      "text/plain": [
       "     Name  Age    Address Qualification\n",
       "2  Gaurav   22  Allahabad           MCA\n",
       "3    Anuj   32    Kannauj           Phd\n",
       "2  Gaurav   22  Allahabad           MCA\n",
       "4   Geeku   15      Noida          10th\n",
       "2  Gaurav   22  Allahabad           MCA\n",
       "4   Geeku   15      Noida          10th"
      ]
     },
     "execution_count": 38,
     "metadata": {},
     "output_type": "execute_result"
    }
   ],
   "source": [
    "# Select more than rows with using replace\n",
    "# default it is False\n",
    "df1.sample(n = 6, replace = True)"
   ]
  },
  {
   "cell_type": "code",
   "execution_count": 39,
   "id": "c6bf3883-6d06-40b4-a24e-b2289cedcc86",
   "metadata": {},
   "outputs": [
    {
     "data": {
      "text/html": [
       "<div>\n",
       "<style scoped>\n",
       "    .dataframe tbody tr th:only-of-type {\n",
       "        vertical-align: middle;\n",
       "    }\n",
       "\n",
       "    .dataframe tbody tr th {\n",
       "        vertical-align: top;\n",
       "    }\n",
       "\n",
       "    .dataframe thead th {\n",
       "        text-align: right;\n",
       "    }\n",
       "</style>\n",
       "<table border=\"1\" class=\"dataframe\">\n",
       "  <thead>\n",
       "    <tr style=\"text-align: right;\">\n",
       "      <th></th>\n",
       "      <th>Name</th>\n",
       "    </tr>\n",
       "  </thead>\n",
       "  <tbody>\n",
       "    <tr>\n",
       "      <th>3</th>\n",
       "      <td>Anuj</td>\n",
       "    </tr>\n",
       "    <tr>\n",
       "      <th>0</th>\n",
       "      <td>Jai</td>\n",
       "    </tr>\n",
       "    <tr>\n",
       "      <th>4</th>\n",
       "      <td>Geeku</td>\n",
       "    </tr>\n",
       "    <tr>\n",
       "      <th>2</th>\n",
       "      <td>Gaurav</td>\n",
       "    </tr>\n",
       "  </tbody>\n",
       "</table>\n",
       "</div>"
      ],
      "text/plain": [
       "     Name\n",
       "3    Anuj\n",
       "0     Jai\n",
       "4   Geeku\n",
       "2  Gaurav"
      ]
     },
     "execution_count": 39,
     "metadata": {},
     "output_type": "execute_result"
    }
   ],
   "source": [
    "# Accepts axis number or name.\n",
    " \n",
    "# sample also allows users to sample columns\n",
    "# instead of rows using the axis argument.\n",
    "df1.sample(axis = 1)"
   ]
  },
  {
   "cell_type": "code",
   "execution_count": 44,
   "id": "ccc0a32e-f9b1-493c-b9bf-9666fc972097",
   "metadata": {},
   "outputs": [
    {
     "data": {
      "text/html": [
       "<div>\n",
       "<style scoped>\n",
       "    .dataframe tbody tr th:only-of-type {\n",
       "        vertical-align: middle;\n",
       "    }\n",
       "\n",
       "    .dataframe tbody tr th {\n",
       "        vertical-align: top;\n",
       "    }\n",
       "\n",
       "    .dataframe thead th {\n",
       "        text-align: right;\n",
       "    }\n",
       "</style>\n",
       "<table border=\"1\" class=\"dataframe\">\n",
       "  <thead>\n",
       "    <tr style=\"text-align: right;\">\n",
       "      <th></th>\n",
       "      <th>Name</th>\n",
       "      <th>Age</th>\n",
       "      <th>Address</th>\n",
       "      <th>Qualification</th>\n",
       "    </tr>\n",
       "  </thead>\n",
       "  <tbody>\n",
       "    <tr>\n",
       "      <th>4</th>\n",
       "      <td>Geeku</td>\n",
       "      <td>15</td>\n",
       "      <td>Noida</td>\n",
       "      <td>10th</td>\n",
       "    </tr>\n",
       "    <tr>\n",
       "      <th>2</th>\n",
       "      <td>Gaurav</td>\n",
       "      <td>22</td>\n",
       "      <td>Allahabad</td>\n",
       "      <td>MCA</td>\n",
       "    </tr>\n",
       "  </tbody>\n",
       "</table>\n",
       "</div>"
      ],
      "text/plain": [
       "     Name  Age    Address Qualification\n",
       "4   Geeku   15      Noida          10th\n",
       "2  Gaurav   22  Allahabad           MCA"
      ]
     },
     "execution_count": 44,
     "metadata": {},
     "output_type": "execute_result"
    }
   ],
   "source": [
    "# With a given seed, the sample will always draw the same rows.\n",
    " \n",
    "# If random_state is None or np.random,\n",
    "# then a randomly-initialized\n",
    "# RandomState object is returned.\n",
    "df1.sample(n = 2, random_state = 2)"
   ]
  },
  {
   "cell_type": "markdown",
   "id": "357b13d0-5251-458e-a1fc-e952bf915390",
   "metadata": {},
   "source": [
    "#### Method #2: Using NumPy"
   ]
  },
  {
   "cell_type": "code",
   "execution_count": 45,
   "id": "460de7d0-4b10-4c17-a292-80079d219869",
   "metadata": {},
   "outputs": [
    {
     "data": {
      "text/html": [
       "<div>\n",
       "<style scoped>\n",
       "    .dataframe tbody tr th:only-of-type {\n",
       "        vertical-align: middle;\n",
       "    }\n",
       "\n",
       "    .dataframe tbody tr th {\n",
       "        vertical-align: top;\n",
       "    }\n",
       "\n",
       "    .dataframe thead th {\n",
       "        text-align: right;\n",
       "    }\n",
       "</style>\n",
       "<table border=\"1\" class=\"dataframe\">\n",
       "  <thead>\n",
       "    <tr style=\"text-align: right;\">\n",
       "      <th></th>\n",
       "      <th>Name</th>\n",
       "      <th>Age</th>\n",
       "      <th>Address</th>\n",
       "      <th>Qualification</th>\n",
       "    </tr>\n",
       "  </thead>\n",
       "  <tbody>\n",
       "    <tr>\n",
       "      <th>2</th>\n",
       "      <td>Gaurav</td>\n",
       "      <td>22</td>\n",
       "      <td>Allahabad</td>\n",
       "      <td>MCA</td>\n",
       "    </tr>\n",
       "    <tr>\n",
       "      <th>1</th>\n",
       "      <td>Princi</td>\n",
       "      <td>24</td>\n",
       "      <td>Kanpur</td>\n",
       "      <td>MA</td>\n",
       "    </tr>\n",
       "    <tr>\n",
       "      <th>0</th>\n",
       "      <td>Jai</td>\n",
       "      <td>27</td>\n",
       "      <td>Delhi</td>\n",
       "      <td>Msc</td>\n",
       "    </tr>\n",
       "    <tr>\n",
       "      <th>3</th>\n",
       "      <td>Anuj</td>\n",
       "      <td>32</td>\n",
       "      <td>Kannauj</td>\n",
       "      <td>Phd</td>\n",
       "    </tr>\n",
       "    <tr>\n",
       "      <th>0</th>\n",
       "      <td>Jai</td>\n",
       "      <td>27</td>\n",
       "      <td>Delhi</td>\n",
       "      <td>Msc</td>\n",
       "    </tr>\n",
       "    <tr>\n",
       "      <th>1</th>\n",
       "      <td>Princi</td>\n",
       "      <td>24</td>\n",
       "      <td>Kanpur</td>\n",
       "      <td>MA</td>\n",
       "    </tr>\n",
       "  </tbody>\n",
       "</table>\n",
       "</div>"
      ],
      "text/plain": [
       "     Name  Age    Address Qualification\n",
       "2  Gaurav   22  Allahabad           MCA\n",
       "1  Princi   24     Kanpur            MA\n",
       "0     Jai   27      Delhi           Msc\n",
       "3    Anuj   32    Kannauj           Phd\n",
       "0     Jai   27      Delhi           Msc\n",
       "1  Princi   24     Kanpur            MA"
      ]
     },
     "execution_count": 45,
     "metadata": {},
     "output_type": "execute_result"
    }
   ],
   "source": [
    "# Import pandas & Numpy package\n",
    "import numpy as np\n",
    "import pandas as pd\n",
    "  \n",
    "# Define a dictionary containing employee data\n",
    "data = {'Name':['Jai', 'Princi', 'Gaurav', 'Anuj', 'Geeku'],\n",
    "        'Age':[27, 24, 22, 32, 15],\n",
    "        'Address':['Delhi', 'Kanpur', 'Allahabad', 'Kannauj', 'Noida'],\n",
    "        'Qualification':['Msc', 'MA', 'MCA', 'Phd', '10th']}\n",
    " \n",
    "# Convert the dictionary into DataFrame\n",
    "df = pd.DataFrame(data)\n",
    " \n",
    "# Choose how many index include for random selection\n",
    "chosen_idx = np.random.choice(4, replace = True, size = 6)\n",
    " \n",
    "df2 = df.iloc[chosen_idx]\n",
    " \n",
    "df2"
   ]
  },
  {
   "cell_type": "code",
   "execution_count": 46,
   "id": "916f2ccb-f3da-4d31-bd39-71e8dd31ce1a",
   "metadata": {},
   "outputs": [
    {
     "data": {
      "text/html": [
       "<div>\n",
       "<style scoped>\n",
       "    .dataframe tbody tr th:only-of-type {\n",
       "        vertical-align: middle;\n",
       "    }\n",
       "\n",
       "    .dataframe tbody tr th {\n",
       "        vertical-align: top;\n",
       "    }\n",
       "\n",
       "    .dataframe thead th {\n",
       "        text-align: right;\n",
       "    }\n",
       "</style>\n",
       "<table border=\"1\" class=\"dataframe\">\n",
       "  <thead>\n",
       "    <tr style=\"text-align: right;\">\n",
       "      <th></th>\n",
       "      <th>Name</th>\n",
       "      <th>Age</th>\n",
       "      <th>Address</th>\n",
       "      <th>Qualification</th>\n",
       "    </tr>\n",
       "  </thead>\n",
       "  <tbody>\n",
       "    <tr>\n",
       "      <th>2</th>\n",
       "      <td>Gaurav</td>\n",
       "      <td>22</td>\n",
       "      <td>Allahabad</td>\n",
       "      <td>MCA</td>\n",
       "    </tr>\n",
       "  </tbody>\n",
       "</table>\n",
       "</div>"
      ],
      "text/plain": [
       "     Name  Age    Address Qualification\n",
       "2  Gaurav   22  Allahabad           MCA"
      ]
     },
     "execution_count": 46,
     "metadata": {},
     "output_type": "execute_result"
    }
   ],
   "source": [
    "## Usefull Data Analysis Tools# Accepts axis number or name.\n",
    " \n",
    "# sample also allows users to sample columns\n",
    "# instead of rows using the axis argument.\n",
    "df1.sample(axis = 0)"
   ]
  },
  {
   "cell_type": "markdown",
   "id": "c1fad0a2-b340-493c-9bc3-3fa638ec317f",
   "metadata": {},
   "source": [
    "## Useful Data Analysis Stuff"
   ]
  },
  {
   "cell_type": "markdown",
   "id": "681e9d9b-ac9a-4c58-a9ab-ece8e76c5246",
   "metadata": {},
   "source": [
    "Create DataFrame"
   ]
  },
  {
   "cell_type": "code",
   "execution_count": 51,
   "id": "0e0d9c67-6f36-4c30-adc4-6e7584d8c5c9",
   "metadata": {},
   "outputs": [],
   "source": [
    "import pandas as pd\n",
    "import numpy as np\n",
    "import random\n",
    "\n",
    "city_list = [\"New York\", \"Manchester\", \"California\", \"Munich\", \"Bombay\", \n",
    "             \"Sydeny\", \"London\", \"Moscow\", \"Dubai\", \"Tokyo\"]\n",
    "\n",
    "job_list = [\"Software Development Engineer\", \"Research Engineer\", \n",
    "            \"Test Engineer\", \"Software Development Engineer-II\", \n",
    "            \"Python Developer\", \"Back End Developer\", \n",
    "            \"Front End Developer\", \"Data Scientist\", \n",
    "            \"IOS Developer\", \"Android Developer\"]\n",
    "\n",
    "cmp_list = [\"Amazon\", \"Google\", \"Infosys\", \"Mastercard\", \"Microsoft\", \n",
    "            \"Uber\", \"IBM\", \"Apple\", \"Wipro\", \"Cognizant\"]\n",
    "\n",
    "data = []\n",
    "for i in range(1000):\n",
    "  \n",
    "    company = random.choice(cmp_list)\n",
    "    job = random.choice(job_list)\n",
    "    city = random.choice(city_list)\n",
    "    salary = int(round(np.random.rand(), 3)*10**6)\n",
    "    employment = random.choices([\"Full Time\", \"Intern\"], weights=(80, 20))[0]\n",
    "    rating = round((np.random.rand()*5), 1)\n",
    "    \n",
    "    data.append([company, job, city, salary, employment, rating])\n",
    "    \n",
    "data = pd.DataFrame(data, columns=[\"Company Name\", \"Employee Job Title\",\n",
    "                                   \"Employee Work Location\",  \"Employee Salary\", \n",
    "                                   \"Employment Status\", \"Employee Rating\"])"
   ]
  },
  {
   "cell_type": "markdown",
   "id": "91be1a1b-9c34-4a61-9acb-b0a8c3fedede",
   "metadata": {},
   "source": [
    "### n-largest values in a series"
   ]
  },
  {
   "cell_type": "markdown",
   "id": "ec4bb452-444f-4e1a-ab24-804db8ed354f",
   "metadata": {},
   "source": [
    "This method returns the first `n` rows with the largest values in column(s), ordered in descending order.\n",
    "\n",
    "Note that `nlargest()` returns the entire DataFrame, i.e., the function also returns the columns not specified for ordering. However, they are not used to order the DataFrame. The code snippet below depicts the use of `nlargest()` method on our DataFrame."
   ]
  },
  {
   "cell_type": "code",
   "execution_count": 21,
   "id": "22a2712f-2199-48fc-9555-2482f0a1e489",
   "metadata": {},
   "outputs": [
    {
     "data": {
      "text/html": [
       "<div>\n",
       "<style scoped>\n",
       "    .dataframe tbody tr th:only-of-type {\n",
       "        vertical-align: middle;\n",
       "    }\n",
       "\n",
       "    .dataframe tbody tr th {\n",
       "        vertical-align: top;\n",
       "    }\n",
       "\n",
       "    .dataframe thead th {\n",
       "        text-align: right;\n",
       "    }\n",
       "</style>\n",
       "<table border=\"1\" class=\"dataframe\">\n",
       "  <thead>\n",
       "    <tr style=\"text-align: right;\">\n",
       "      <th></th>\n",
       "      <th>Company Name</th>\n",
       "      <th>Employee Job Title</th>\n",
       "      <th>Employee Work Location</th>\n",
       "      <th>Employee Salary</th>\n",
       "      <th>Employment Status</th>\n",
       "      <th>Employee Rating</th>\n",
       "    </tr>\n",
       "  </thead>\n",
       "  <tbody>\n",
       "    <tr>\n",
       "      <th>632</th>\n",
       "      <td>Infosys</td>\n",
       "      <td>Data Scientist</td>\n",
       "      <td>Manchester</td>\n",
       "      <td>1000000</td>\n",
       "      <td>Full Time</td>\n",
       "      <td>0.9</td>\n",
       "    </tr>\n",
       "    <tr>\n",
       "      <th>88</th>\n",
       "      <td>Infosys</td>\n",
       "      <td>Software Development Engineer-II</td>\n",
       "      <td>New York</td>\n",
       "      <td>999000</td>\n",
       "      <td>Full Time</td>\n",
       "      <td>0.9</td>\n",
       "    </tr>\n",
       "    <tr>\n",
       "      <th>755</th>\n",
       "      <td>Cognizant</td>\n",
       "      <td>Research Engineer</td>\n",
       "      <td>California</td>\n",
       "      <td>999000</td>\n",
       "      <td>Intern</td>\n",
       "      <td>0.3</td>\n",
       "    </tr>\n",
       "    <tr>\n",
       "      <th>319</th>\n",
       "      <td>Amazon</td>\n",
       "      <td>IOS Developer</td>\n",
       "      <td>Tokyo</td>\n",
       "      <td>997000</td>\n",
       "      <td>Full Time</td>\n",
       "      <td>2.1</td>\n",
       "    </tr>\n",
       "    <tr>\n",
       "      <th>462</th>\n",
       "      <td>Amazon</td>\n",
       "      <td>Software Development Engineer-II</td>\n",
       "      <td>Tokyo</td>\n",
       "      <td>997000</td>\n",
       "      <td>Intern</td>\n",
       "      <td>0.5</td>\n",
       "    </tr>\n",
       "    <tr>\n",
       "      <th>5</th>\n",
       "      <td>IBM</td>\n",
       "      <td>Data Scientist</td>\n",
       "      <td>London</td>\n",
       "      <td>995000</td>\n",
       "      <td>Full Time</td>\n",
       "      <td>3.4</td>\n",
       "    </tr>\n",
       "    <tr>\n",
       "      <th>805</th>\n",
       "      <td>Microsoft</td>\n",
       "      <td>Python Developer</td>\n",
       "      <td>Tokyo</td>\n",
       "      <td>995000</td>\n",
       "      <td>Full Time</td>\n",
       "      <td>1.9</td>\n",
       "    </tr>\n",
       "    <tr>\n",
       "      <th>829</th>\n",
       "      <td>Mastercard</td>\n",
       "      <td>Software Development Engineer</td>\n",
       "      <td>London</td>\n",
       "      <td>995000</td>\n",
       "      <td>Intern</td>\n",
       "      <td>4.6</td>\n",
       "    </tr>\n",
       "  </tbody>\n",
       "</table>\n",
       "</div>"
      ],
      "text/plain": [
       "    Company Name                Employee Job Title Employee Work Location  \\\n",
       "632      Infosys                    Data Scientist             Manchester   \n",
       "88       Infosys  Software Development Engineer-II               New York   \n",
       "755    Cognizant                 Research Engineer             California   \n",
       "319       Amazon                     IOS Developer                  Tokyo   \n",
       "462       Amazon  Software Development Engineer-II                  Tokyo   \n",
       "5            IBM                    Data Scientist                 London   \n",
       "805    Microsoft                  Python Developer                  Tokyo   \n",
       "829   Mastercard     Software Development Engineer                 London   \n",
       "\n",
       "     Employee Salary Employment Status  Employee Rating  \n",
       "632          1000000         Full Time              0.9  \n",
       "88            999000         Full Time              0.9  \n",
       "755           999000            Intern              0.3  \n",
       "319           997000         Full Time              2.1  \n",
       "462           997000            Intern              0.5  \n",
       "5             995000         Full Time              3.4  \n",
       "805           995000         Full Time              1.9  \n",
       "829           995000            Intern              4.6  "
      ]
     },
     "execution_count": 21,
     "metadata": {},
     "output_type": "execute_result"
    }
   ],
   "source": [
    "n = 6\n",
    "data.nlargest(n, \"Employee Salary\", keep = \"all\")"
   ]
  },
  {
   "cell_type": "markdown",
   "id": "3b932d9b-8ea2-4103-a6d8-4a62fd90567e",
   "metadata": {},
   "source": [
    "When duplicate values exist, we need to specify which particular row(s) we want in the final output. This is done using the `keep` argument that can take the following values:\n",
    "\n",
    "   1. `keep = \"first\"`: prioritizes the **first** occurrence.\n",
    "   2. `keep = \"last\"`: prioritizes the **last** occurrence.\n",
    "   3. `keep = \"all\"`: Does not drop any duplicates, even if it means selecting more than n items (like in the image above).\n",
    "\n",
    "It is often mistaken that the `nlargest()` is precisely equivalent to using the `sort_values()` method as follows:"
   ]
  },
  {
   "cell_type": "code",
   "execution_count": 22,
   "id": "cf252803-ae6b-4fa3-b00d-d473b6d6aa9a",
   "metadata": {},
   "outputs": [
    {
     "data": {
      "text/html": [
       "<div>\n",
       "<style scoped>\n",
       "    .dataframe tbody tr th:only-of-type {\n",
       "        vertical-align: middle;\n",
       "    }\n",
       "\n",
       "    .dataframe tbody tr th {\n",
       "        vertical-align: top;\n",
       "    }\n",
       "\n",
       "    .dataframe thead th {\n",
       "        text-align: right;\n",
       "    }\n",
       "</style>\n",
       "<table border=\"1\" class=\"dataframe\">\n",
       "  <thead>\n",
       "    <tr style=\"text-align: right;\">\n",
       "      <th></th>\n",
       "      <th>Company Name</th>\n",
       "      <th>Employee Job Title</th>\n",
       "      <th>Employee Work Location</th>\n",
       "      <th>Employee Salary</th>\n",
       "      <th>Employment Status</th>\n",
       "      <th>Employee Rating</th>\n",
       "    </tr>\n",
       "  </thead>\n",
       "  <tbody>\n",
       "    <tr>\n",
       "      <th>632</th>\n",
       "      <td>Infosys</td>\n",
       "      <td>Data Scientist</td>\n",
       "      <td>Manchester</td>\n",
       "      <td>1000000</td>\n",
       "      <td>Full Time</td>\n",
       "      <td>0.9</td>\n",
       "    </tr>\n",
       "    <tr>\n",
       "      <th>88</th>\n",
       "      <td>Infosys</td>\n",
       "      <td>Software Development Engineer-II</td>\n",
       "      <td>New York</td>\n",
       "      <td>999000</td>\n",
       "      <td>Full Time</td>\n",
       "      <td>0.9</td>\n",
       "    </tr>\n",
       "    <tr>\n",
       "      <th>755</th>\n",
       "      <td>Cognizant</td>\n",
       "      <td>Research Engineer</td>\n",
       "      <td>California</td>\n",
       "      <td>999000</td>\n",
       "      <td>Intern</td>\n",
       "      <td>0.3</td>\n",
       "    </tr>\n",
       "    <tr>\n",
       "      <th>462</th>\n",
       "      <td>Amazon</td>\n",
       "      <td>Software Development Engineer-II</td>\n",
       "      <td>Tokyo</td>\n",
       "      <td>997000</td>\n",
       "      <td>Intern</td>\n",
       "      <td>0.5</td>\n",
       "    </tr>\n",
       "    <tr>\n",
       "      <th>319</th>\n",
       "      <td>Amazon</td>\n",
       "      <td>IOS Developer</td>\n",
       "      <td>Tokyo</td>\n",
       "      <td>997000</td>\n",
       "      <td>Full Time</td>\n",
       "      <td>2.1</td>\n",
       "    </tr>\n",
       "    <tr>\n",
       "      <th>5</th>\n",
       "      <td>IBM</td>\n",
       "      <td>Data Scientist</td>\n",
       "      <td>London</td>\n",
       "      <td>995000</td>\n",
       "      <td>Full Time</td>\n",
       "      <td>3.4</td>\n",
       "    </tr>\n",
       "  </tbody>\n",
       "</table>\n",
       "</div>"
      ],
      "text/plain": [
       "    Company Name                Employee Job Title Employee Work Location  \\\n",
       "632      Infosys                    Data Scientist             Manchester   \n",
       "88       Infosys  Software Development Engineer-II               New York   \n",
       "755    Cognizant                 Research Engineer             California   \n",
       "462       Amazon  Software Development Engineer-II                  Tokyo   \n",
       "319       Amazon                     IOS Developer                  Tokyo   \n",
       "5            IBM                    Data Scientist                 London   \n",
       "\n",
       "     Employee Salary Employment Status  Employee Rating  \n",
       "632          1000000         Full Time              0.9  \n",
       "88            999000         Full Time              0.9  \n",
       "755           999000            Intern              0.3  \n",
       "462           997000            Intern              0.5  \n",
       "319           997000         Full Time              2.1  \n",
       "5             995000         Full Time              3.4  "
      ]
     },
     "execution_count": 22,
     "metadata": {},
     "output_type": "execute_result"
    }
   ],
   "source": [
    "n=6\n",
    "data.sort_values(\"Employee Salary\", ascending=False).head(n)"
   ]
  },
  {
   "cell_type": "markdown",
   "id": "569573cc-8a50-403a-a31c-4c376f1a214f",
   "metadata": {},
   "source": [
    "However, the keepargument used in `nlargest()` makes all the difference. Considering the example above, `nlargest()` with `keep=”all\"` returns potential duplicates as well. This, on the other hand, can not be done in the case of `sort_values()` method."
   ]
  },
  {
   "cell_type": "markdown",
   "id": "6eff77c1-84f8-4823-b62d-540d461da9f3",
   "metadata": {},
   "source": [
    "### n-smallest values in a series"
   ]
  },
  {
   "cell_type": "markdown",
   "id": "e81e7bee-be3c-4c8c-9f30-463245b92925",
   "metadata": {},
   "source": [
    "Similar to the `nlargest()` method discussed above, you can find the rows corresponding to the lowest-`n` values using the `nsmallest()` method in Pandas. "
   ]
  },
  {
   "cell_type": "code",
   "execution_count": 23,
   "id": "bdee5ecf-0bd9-4f08-97fc-ac91428fc483",
   "metadata": {},
   "outputs": [
    {
     "data": {
      "text/html": [
       "<div>\n",
       "<style scoped>\n",
       "    .dataframe tbody tr th:only-of-type {\n",
       "        vertical-align: middle;\n",
       "    }\n",
       "\n",
       "    .dataframe tbody tr th {\n",
       "        vertical-align: top;\n",
       "    }\n",
       "\n",
       "    .dataframe thead th {\n",
       "        text-align: right;\n",
       "    }\n",
       "</style>\n",
       "<table border=\"1\" class=\"dataframe\">\n",
       "  <thead>\n",
       "    <tr style=\"text-align: right;\">\n",
       "      <th></th>\n",
       "      <th>Company Name</th>\n",
       "      <th>Employee Job Title</th>\n",
       "      <th>Employee Work Location</th>\n",
       "      <th>Employee Salary</th>\n",
       "      <th>Employment Status</th>\n",
       "      <th>Employee Rating</th>\n",
       "    </tr>\n",
       "  </thead>\n",
       "  <tbody>\n",
       "    <tr>\n",
       "      <th>158</th>\n",
       "      <td>Infosys</td>\n",
       "      <td>Back End Developer</td>\n",
       "      <td>New York</td>\n",
       "      <td>2000</td>\n",
       "      <td>Intern</td>\n",
       "      <td>3.4</td>\n",
       "    </tr>\n",
       "    <tr>\n",
       "      <th>287</th>\n",
       "      <td>Cognizant</td>\n",
       "      <td>Python Developer</td>\n",
       "      <td>California</td>\n",
       "      <td>2000</td>\n",
       "      <td>Full Time</td>\n",
       "      <td>3.1</td>\n",
       "    </tr>\n",
       "    <tr>\n",
       "      <th>285</th>\n",
       "      <td>Apple</td>\n",
       "      <td>IOS Developer</td>\n",
       "      <td>Dubai</td>\n",
       "      <td>4000</td>\n",
       "      <td>Full Time</td>\n",
       "      <td>0.2</td>\n",
       "    </tr>\n",
       "    <tr>\n",
       "      <th>231</th>\n",
       "      <td>Amazon</td>\n",
       "      <td>Data Scientist</td>\n",
       "      <td>London</td>\n",
       "      <td>5000</td>\n",
       "      <td>Full Time</td>\n",
       "      <td>1.8</td>\n",
       "    </tr>\n",
       "    <tr>\n",
       "      <th>798</th>\n",
       "      <td>Microsoft</td>\n",
       "      <td>Back End Developer</td>\n",
       "      <td>Sydeny</td>\n",
       "      <td>5000</td>\n",
       "      <td>Full Time</td>\n",
       "      <td>2.3</td>\n",
       "    </tr>\n",
       "    <tr>\n",
       "      <th>167</th>\n",
       "      <td>Wipro</td>\n",
       "      <td>Software Development Engineer</td>\n",
       "      <td>California</td>\n",
       "      <td>6000</td>\n",
       "      <td>Full Time</td>\n",
       "      <td>2.6</td>\n",
       "    </tr>\n",
       "    <tr>\n",
       "      <th>589</th>\n",
       "      <td>Mastercard</td>\n",
       "      <td>Back End Developer</td>\n",
       "      <td>Bombay</td>\n",
       "      <td>6000</td>\n",
       "      <td>Full Time</td>\n",
       "      <td>4.3</td>\n",
       "    </tr>\n",
       "  </tbody>\n",
       "</table>\n",
       "</div>"
      ],
      "text/plain": [
       "    Company Name             Employee Job Title Employee Work Location  \\\n",
       "158      Infosys             Back End Developer               New York   \n",
       "287    Cognizant               Python Developer             California   \n",
       "285        Apple                  IOS Developer                  Dubai   \n",
       "231       Amazon                 Data Scientist                 London   \n",
       "798    Microsoft             Back End Developer                 Sydeny   \n",
       "167        Wipro  Software Development Engineer             California   \n",
       "589   Mastercard             Back End Developer                 Bombay   \n",
       "\n",
       "     Employee Salary Employment Status  Employee Rating  \n",
       "158             2000            Intern              3.4  \n",
       "287             2000         Full Time              3.1  \n",
       "285             4000         Full Time              0.2  \n",
       "231             5000         Full Time              1.8  \n",
       "798             5000         Full Time              2.3  \n",
       "167             6000         Full Time              2.6  \n",
       "589             6000         Full Time              4.3  "
      ]
     },
     "execution_count": 23,
     "metadata": {},
     "output_type": "execute_result"
    }
   ],
   "source": [
    "n = 7\n",
    "data.nsmallest(n, \"Employee Salary\", keep = \"all\")"
   ]
  },
  {
   "cell_type": "markdown",
   "id": "ea5118fd-6175-4a24-b940-97ca339bc7ec",
   "metadata": {},
   "source": [
    "### CrossTabs"
   ]
  },
  {
   "cell_type": "markdown",
   "id": "4b123141-4104-432a-a950-42041de44505",
   "metadata": {},
   "source": [
    "Crosstab allows you to compute a cross-tabulation of two (or more) columns/series and returns a frequency of each combination by default.\n",
    "\n",
    "In other words, `crosstab()` takes one column/list, displays its unique values as indexes, and then takes another column/list and displays its unique values as the column headers. The values in the individual cells are computed using an aggregation function. \n",
    "\n",
    "By default, they indicate the co-occurrence frequency."
   ]
  },
  {
   "cell_type": "code",
   "execution_count": 24,
   "id": "8f6d4d8c-70f2-4d5b-9f63-3b29e5e52869",
   "metadata": {},
   "outputs": [
    {
     "data": {
      "text/html": [
       "<div>\n",
       "<style scoped>\n",
       "    .dataframe tbody tr th:only-of-type {\n",
       "        vertical-align: middle;\n",
       "    }\n",
       "\n",
       "    .dataframe tbody tr th {\n",
       "        vertical-align: top;\n",
       "    }\n",
       "\n",
       "    .dataframe thead th {\n",
       "        text-align: right;\n",
       "    }\n",
       "</style>\n",
       "<table border=\"1\" class=\"dataframe\">\n",
       "  <thead>\n",
       "    <tr style=\"text-align: right;\">\n",
       "      <th>Employee Work Location</th>\n",
       "      <th>Bombay</th>\n",
       "      <th>California</th>\n",
       "      <th>Dubai</th>\n",
       "      <th>London</th>\n",
       "      <th>Manchester</th>\n",
       "      <th>Moscow</th>\n",
       "      <th>Munich</th>\n",
       "      <th>New York</th>\n",
       "      <th>Sydeny</th>\n",
       "      <th>Tokyo</th>\n",
       "    </tr>\n",
       "    <tr>\n",
       "      <th>Company Name</th>\n",
       "      <th></th>\n",
       "      <th></th>\n",
       "      <th></th>\n",
       "      <th></th>\n",
       "      <th></th>\n",
       "      <th></th>\n",
       "      <th></th>\n",
       "      <th></th>\n",
       "      <th></th>\n",
       "      <th></th>\n",
       "    </tr>\n",
       "  </thead>\n",
       "  <tbody>\n",
       "    <tr>\n",
       "      <th>Amazon</th>\n",
       "      <td>7</td>\n",
       "      <td>18</td>\n",
       "      <td>9</td>\n",
       "      <td>10</td>\n",
       "      <td>7</td>\n",
       "      <td>9</td>\n",
       "      <td>13</td>\n",
       "      <td>12</td>\n",
       "      <td>7</td>\n",
       "      <td>8</td>\n",
       "    </tr>\n",
       "    <tr>\n",
       "      <th>Apple</th>\n",
       "      <td>4</td>\n",
       "      <td>10</td>\n",
       "      <td>10</td>\n",
       "      <td>6</td>\n",
       "      <td>5</td>\n",
       "      <td>8</td>\n",
       "      <td>7</td>\n",
       "      <td>17</td>\n",
       "      <td>14</td>\n",
       "      <td>15</td>\n",
       "    </tr>\n",
       "    <tr>\n",
       "      <th>Cognizant</th>\n",
       "      <td>10</td>\n",
       "      <td>12</td>\n",
       "      <td>9</td>\n",
       "      <td>6</td>\n",
       "      <td>7</td>\n",
       "      <td>9</td>\n",
       "      <td>5</td>\n",
       "      <td>12</td>\n",
       "      <td>10</td>\n",
       "      <td>11</td>\n",
       "    </tr>\n",
       "    <tr>\n",
       "      <th>Google</th>\n",
       "      <td>8</td>\n",
       "      <td>6</td>\n",
       "      <td>7</td>\n",
       "      <td>12</td>\n",
       "      <td>16</td>\n",
       "      <td>5</td>\n",
       "      <td>15</td>\n",
       "      <td>8</td>\n",
       "      <td>10</td>\n",
       "      <td>10</td>\n",
       "    </tr>\n",
       "    <tr>\n",
       "      <th>IBM</th>\n",
       "      <td>14</td>\n",
       "      <td>12</td>\n",
       "      <td>10</td>\n",
       "      <td>14</td>\n",
       "      <td>6</td>\n",
       "      <td>8</td>\n",
       "      <td>3</td>\n",
       "      <td>14</td>\n",
       "      <td>6</td>\n",
       "      <td>8</td>\n",
       "    </tr>\n",
       "    <tr>\n",
       "      <th>Infosys</th>\n",
       "      <td>16</td>\n",
       "      <td>11</td>\n",
       "      <td>7</td>\n",
       "      <td>14</td>\n",
       "      <td>13</td>\n",
       "      <td>12</td>\n",
       "      <td>12</td>\n",
       "      <td>15</td>\n",
       "      <td>7</td>\n",
       "      <td>11</td>\n",
       "    </tr>\n",
       "    <tr>\n",
       "      <th>Mastercard</th>\n",
       "      <td>9</td>\n",
       "      <td>6</td>\n",
       "      <td>8</td>\n",
       "      <td>10</td>\n",
       "      <td>14</td>\n",
       "      <td>16</td>\n",
       "      <td>7</td>\n",
       "      <td>2</td>\n",
       "      <td>10</td>\n",
       "      <td>12</td>\n",
       "    </tr>\n",
       "    <tr>\n",
       "      <th>Microsoft</th>\n",
       "      <td>5</td>\n",
       "      <td>7</td>\n",
       "      <td>9</td>\n",
       "      <td>13</td>\n",
       "      <td>6</td>\n",
       "      <td>16</td>\n",
       "      <td>11</td>\n",
       "      <td>11</td>\n",
       "      <td>13</td>\n",
       "      <td>14</td>\n",
       "    </tr>\n",
       "    <tr>\n",
       "      <th>Uber</th>\n",
       "      <td>8</td>\n",
       "      <td>9</td>\n",
       "      <td>14</td>\n",
       "      <td>16</td>\n",
       "      <td>6</td>\n",
       "      <td>12</td>\n",
       "      <td>8</td>\n",
       "      <td>8</td>\n",
       "      <td>11</td>\n",
       "      <td>10</td>\n",
       "    </tr>\n",
       "    <tr>\n",
       "      <th>Wipro</th>\n",
       "      <td>14</td>\n",
       "      <td>11</td>\n",
       "      <td>5</td>\n",
       "      <td>10</td>\n",
       "      <td>10</td>\n",
       "      <td>7</td>\n",
       "      <td>10</td>\n",
       "      <td>13</td>\n",
       "      <td>10</td>\n",
       "      <td>12</td>\n",
       "    </tr>\n",
       "  </tbody>\n",
       "</table>\n",
       "</div>"
      ],
      "text/plain": [
       "Employee Work Location  Bombay  California  Dubai  London  Manchester  Moscow  \\\n",
       "Company Name                                                                    \n",
       "Amazon                       7          18      9      10           7       9   \n",
       "Apple                        4          10     10       6           5       8   \n",
       "Cognizant                   10          12      9       6           7       9   \n",
       "Google                       8           6      7      12          16       5   \n",
       "IBM                         14          12     10      14           6       8   \n",
       "Infosys                     16          11      7      14          13      12   \n",
       "Mastercard                   9           6      8      10          14      16   \n",
       "Microsoft                    5           7      9      13           6      16   \n",
       "Uber                         8           9     14      16           6      12   \n",
       "Wipro                       14          11      5      10          10       7   \n",
       "\n",
       "Employee Work Location  Munich  New York  Sydeny  Tokyo  \n",
       "Company Name                                             \n",
       "Amazon                      13        12       7      8  \n",
       "Apple                        7        17      14     15  \n",
       "Cognizant                    5        12      10     11  \n",
       "Google                      15         8      10     10  \n",
       "IBM                          3        14       6      8  \n",
       "Infosys                     12        15       7     11  \n",
       "Mastercard                   7         2      10     12  \n",
       "Microsoft                   11        11      13     14  \n",
       "Uber                         8         8      11     10  \n",
       "Wipro                       10        13      10     12  "
      ]
     },
     "execution_count": 24,
     "metadata": {},
     "output_type": "execute_result"
    }
   ],
   "source": [
    "pd.crosstab(data[\"Company Name\"], data[\"Employee Work Location\"])"
   ]
  },
  {
   "cell_type": "markdown",
   "id": "3d5d8cb1-4922-40c7-bb03-3bc14cb3105d",
   "metadata": {},
   "source": [
    "As it can be hard to interpret numerical values in a crosstab (and to make it more visually appealing), we can generate a heatmap from a crosstab shown below as follows:"
   ]
  },
  {
   "cell_type": "code",
   "execution_count": 26,
   "id": "0792c33e-7b4b-43cd-9669-30bd95d7bf3e",
   "metadata": {},
   "outputs": [
    {
     "data": {
      "text/plain": [
       "<AxesSubplot:xlabel='Employee Work Location', ylabel='Company Name'>"
      ]
     },
     "execution_count": 26,
     "metadata": {},
     "output_type": "execute_result"
    },
    {
     "data": {
      "image/png": "[encoded data removed]",
      "text/plain": [
       "<Figure size 432x288 with 2 Axes>"
      ]
     },
     "metadata": {
      "needs_background": "light"
     },
     "output_type": "display_data"
    }
   ],
   "source": [
    "import seaborn as sns\n",
    "\n",
    "result_crosstab = pd.crosstab(data[\"Company Name\"], data[\"Employee Work Location\"])\n",
    "sns.heatmap(result_crosstab, annot=True)"
   ]
  },
  {
   "cell_type": "markdown",
   "id": "732f8dfb-ad6f-4e4d-a9d9-741a60ec1ccb",
   "metadata": {},
   "source": [
    "If you wish to compute aggregation on some column other than the ones that make up the indexes and the column headers, you can do so by passing the aggregation column to `values` argument of `crosstab()` as shown below:"
   ]
  },
  {
   "cell_type": "code",
   "execution_count": 27,
   "id": "f6a5b6cb-e9a2-4345-80e8-4e5fddd927e9",
   "metadata": {},
   "outputs": [
    {
     "data": {
      "text/plain": [
       "<AxesSubplot:xlabel='Employment Status', ylabel='Company Name'>"
      ]
     },
     "execution_count": 27,
     "metadata": {},
     "output_type": "execute_result"
    },
    {
     "data": {
      "image/png": "[encoded data removed]",
      "text/plain": [
       "<Figure size 432x288 with 2 Axes>"
      ]
     },
     "metadata": {
      "needs_background": "light"
     },
     "output_type": "display_data"
    }
   ],
   "source": [
    "result_crosstab = pd.crosstab(index = data[\"Company Name\"], \n",
    "                              columns=data[\"Employment Status\"], \n",
    "                              values = data[\"Employee Salary\"], \n",
    "                              aggfunc=np.mean)\n",
    "                              \n",
    "sns.heatmap(result_crosstab, annot = True, fmt = 'g')"
   ]
  },
  {
   "cell_type": "markdown",
   "id": "5bfcd968-e19d-49ff-a54c-bdd4119f1741",
   "metadata": {},
   "source": [
    "### Pivot Table"
   ]
  },
  {
   "cell_type": "markdown",
   "id": "8de54a59-7072-4f7f-bf92-6f4688957913",
   "metadata": {},
   "source": [
    "Pivot tables in Pandas provide a way to cross-tabulate your data.\n",
    "\n",
    "Although they both share numerous similarities and are conceptually the same in the context of Pandas, there are a few implementational differences that make them different (further reading [here](https://stackoverflow.com/questions/36267745/how-is-a-pandas-crosstab-different-from-a-pandas-pivot-table))."
   ]
  },
  {
   "cell_type": "code",
   "execution_count": 28,
   "id": "dbc65462-9c01-4f5a-9860-908df7bfd5af",
   "metadata": {},
   "outputs": [
    {
     "data": {
      "text/html": [
       "<div>\n",
       "<style scoped>\n",
       "    .dataframe tbody tr th:only-of-type {\n",
       "        vertical-align: middle;\n",
       "    }\n",
       "\n",
       "    .dataframe tbody tr th {\n",
       "        vertical-align: top;\n",
       "    }\n",
       "\n",
       "    .dataframe thead th {\n",
       "        text-align: right;\n",
       "    }\n",
       "</style>\n",
       "<table border=\"1\" class=\"dataframe\">\n",
       "  <thead>\n",
       "    <tr style=\"text-align: right;\">\n",
       "      <th>Employee Work Location</th>\n",
       "      <th>Bombay</th>\n",
       "      <th>California</th>\n",
       "      <th>Dubai</th>\n",
       "      <th>London</th>\n",
       "      <th>Manchester</th>\n",
       "      <th>Moscow</th>\n",
       "      <th>Munich</th>\n",
       "      <th>New York</th>\n",
       "      <th>Sydeny</th>\n",
       "      <th>Tokyo</th>\n",
       "    </tr>\n",
       "    <tr>\n",
       "      <th>Company Name</th>\n",
       "      <th></th>\n",
       "      <th></th>\n",
       "      <th></th>\n",
       "      <th></th>\n",
       "      <th></th>\n",
       "      <th></th>\n",
       "      <th></th>\n",
       "      <th></th>\n",
       "      <th></th>\n",
       "      <th></th>\n",
       "    </tr>\n",
       "  </thead>\n",
       "  <tbody>\n",
       "    <tr>\n",
       "      <th>Amazon</th>\n",
       "      <td>7</td>\n",
       "      <td>18</td>\n",
       "      <td>9</td>\n",
       "      <td>10</td>\n",
       "      <td>7</td>\n",
       "      <td>9</td>\n",
       "      <td>13</td>\n",
       "      <td>12</td>\n",
       "      <td>7</td>\n",
       "      <td>8</td>\n",
       "    </tr>\n",
       "    <tr>\n",
       "      <th>Apple</th>\n",
       "      <td>4</td>\n",
       "      <td>10</td>\n",
       "      <td>10</td>\n",
       "      <td>6</td>\n",
       "      <td>5</td>\n",
       "      <td>8</td>\n",
       "      <td>7</td>\n",
       "      <td>17</td>\n",
       "      <td>14</td>\n",
       "      <td>15</td>\n",
       "    </tr>\n",
       "    <tr>\n",
       "      <th>Cognizant</th>\n",
       "      <td>10</td>\n",
       "      <td>12</td>\n",
       "      <td>9</td>\n",
       "      <td>6</td>\n",
       "      <td>7</td>\n",
       "      <td>9</td>\n",
       "      <td>5</td>\n",
       "      <td>12</td>\n",
       "      <td>10</td>\n",
       "      <td>11</td>\n",
       "    </tr>\n",
       "    <tr>\n",
       "      <th>Google</th>\n",
       "      <td>8</td>\n",
       "      <td>6</td>\n",
       "      <td>7</td>\n",
       "      <td>12</td>\n",
       "      <td>16</td>\n",
       "      <td>5</td>\n",
       "      <td>15</td>\n",
       "      <td>8</td>\n",
       "      <td>10</td>\n",
       "      <td>10</td>\n",
       "    </tr>\n",
       "    <tr>\n",
       "      <th>IBM</th>\n",
       "      <td>14</td>\n",
       "      <td>12</td>\n",
       "      <td>10</td>\n",
       "      <td>14</td>\n",
       "      <td>6</td>\n",
       "      <td>8</td>\n",
       "      <td>3</td>\n",
       "      <td>14</td>\n",
       "      <td>6</td>\n",
       "      <td>8</td>\n",
       "    </tr>\n",
       "    <tr>\n",
       "      <th>Infosys</th>\n",
       "      <td>16</td>\n",
       "      <td>11</td>\n",
       "      <td>7</td>\n",
       "      <td>14</td>\n",
       "      <td>13</td>\n",
       "      <td>12</td>\n",
       "      <td>12</td>\n",
       "      <td>15</td>\n",
       "      <td>7</td>\n",
       "      <td>11</td>\n",
       "    </tr>\n",
       "    <tr>\n",
       "      <th>Mastercard</th>\n",
       "      <td>9</td>\n",
       "      <td>6</td>\n",
       "      <td>8</td>\n",
       "      <td>10</td>\n",
       "      <td>14</td>\n",
       "      <td>16</td>\n",
       "      <td>7</td>\n",
       "      <td>2</td>\n",
       "      <td>10</td>\n",
       "      <td>12</td>\n",
       "    </tr>\n",
       "    <tr>\n",
       "      <th>Microsoft</th>\n",
       "      <td>5</td>\n",
       "      <td>7</td>\n",
       "      <td>9</td>\n",
       "      <td>13</td>\n",
       "      <td>6</td>\n",
       "      <td>16</td>\n",
       "      <td>11</td>\n",
       "      <td>11</td>\n",
       "      <td>13</td>\n",
       "      <td>14</td>\n",
       "    </tr>\n",
       "    <tr>\n",
       "      <th>Uber</th>\n",
       "      <td>8</td>\n",
       "      <td>9</td>\n",
       "      <td>14</td>\n",
       "      <td>16</td>\n",
       "      <td>6</td>\n",
       "      <td>12</td>\n",
       "      <td>8</td>\n",
       "      <td>8</td>\n",
       "      <td>11</td>\n",
       "      <td>10</td>\n",
       "    </tr>\n",
       "    <tr>\n",
       "      <th>Wipro</th>\n",
       "      <td>14</td>\n",
       "      <td>11</td>\n",
       "      <td>5</td>\n",
       "      <td>10</td>\n",
       "      <td>10</td>\n",
       "      <td>7</td>\n",
       "      <td>10</td>\n",
       "      <td>13</td>\n",
       "      <td>10</td>\n",
       "      <td>12</td>\n",
       "    </tr>\n",
       "  </tbody>\n",
       "</table>\n",
       "</div>"
      ],
      "text/plain": [
       "Employee Work Location  Bombay  California  Dubai  London  Manchester  Moscow  \\\n",
       "Company Name                                                                    \n",
       "Amazon                       7          18      9      10           7       9   \n",
       "Apple                        4          10     10       6           5       8   \n",
       "Cognizant                   10          12      9       6           7       9   \n",
       "Google                       8           6      7      12          16       5   \n",
       "IBM                         14          12     10      14           6       8   \n",
       "Infosys                     16          11      7      14          13      12   \n",
       "Mastercard                   9           6      8      10          14      16   \n",
       "Microsoft                    5           7      9      13           6      16   \n",
       "Uber                         8           9     14      16           6      12   \n",
       "Wipro                       14          11      5      10          10       7   \n",
       "\n",
       "Employee Work Location  Munich  New York  Sydeny  Tokyo  \n",
       "Company Name                                             \n",
       "Amazon                      13        12       7      8  \n",
       "Apple                        7        17      14     15  \n",
       "Cognizant                    5        12      10     11  \n",
       "Google                      15         8      10     10  \n",
       "IBM                          3        14       6      8  \n",
       "Infosys                     12        15       7     11  \n",
       "Mastercard                   7         2      10     12  \n",
       "Microsoft                   11        11      13     14  \n",
       "Uber                         8         8      11     10  \n",
       "Wipro                       10        13      10     12  "
      ]
     },
     "execution_count": 28,
     "metadata": {},
     "output_type": "execute_result"
    }
   ],
   "source": [
    "pd.pivot_table(data, \n",
    "               index=[\"Company Name\"], \n",
    "               columns=[\"Employee Work Location\"], \n",
    "               aggfunc='size', \n",
    "               fill_value=0)"
   ]
  },
  {
   "cell_type": "markdown",
   "id": "c993f7bf-1cc7-40f4-8d45-20cc39c327c5",
   "metadata": {},
   "source": [
    "### Handling Duplicated Data"
   ]
  },
  {
   "cell_type": "markdown",
   "id": "ec547c83-7823-41c1-ada4-3cb5192fc425",
   "metadata": {},
   "source": [
    "Create DataFrame"
   ]
  },
  {
   "cell_type": "code",
   "execution_count": 56,
   "id": "1c7377d0-87cd-4940-8475-c4d7dde7c6be",
   "metadata": {},
   "outputs": [
    {
     "data": {
      "text/html": [
       "<div>\n",
       "<style scoped>\n",
       "    .dataframe tbody tr th:only-of-type {\n",
       "        vertical-align: middle;\n",
       "    }\n",
       "\n",
       "    .dataframe tbody tr th {\n",
       "        vertical-align: top;\n",
       "    }\n",
       "\n",
       "    .dataframe thead th {\n",
       "        text-align: right;\n",
       "    }\n",
       "</style>\n",
       "<table border=\"1\" class=\"dataframe\">\n",
       "  <thead>\n",
       "    <tr style=\"text-align: right;\">\n",
       "      <th></th>\n",
       "      <th>Company Name</th>\n",
       "      <th>Employee Job Title</th>\n",
       "      <th>Employee Work Location</th>\n",
       "      <th>Employee Salary</th>\n",
       "      <th>Employment Status</th>\n",
       "      <th>Employee Rating</th>\n",
       "    </tr>\n",
       "  </thead>\n",
       "  <tbody>\n",
       "    <tr>\n",
       "      <th>14</th>\n",
       "      <td>Mastercard</td>\n",
       "      <td>Software Development Engineer</td>\n",
       "      <td>Sydeny</td>\n",
       "      <td>152000</td>\n",
       "      <td>Full Time</td>\n",
       "      <td>0.6</td>\n",
       "    </tr>\n",
       "    <tr>\n",
       "      <th>358</th>\n",
       "      <td>Apple</td>\n",
       "      <td>Back End Developer</td>\n",
       "      <td>Bombay</td>\n",
       "      <td>926000</td>\n",
       "      <td>Full Time</td>\n",
       "      <td>4.0</td>\n",
       "    </tr>\n",
       "    <tr>\n",
       "      <th>813</th>\n",
       "      <td>Google</td>\n",
       "      <td>Data Scientist</td>\n",
       "      <td>Bombay</td>\n",
       "      <td>924000</td>\n",
       "      <td>Intern</td>\n",
       "      <td>2.3</td>\n",
       "    </tr>\n",
       "    <tr>\n",
       "      <th>84</th>\n",
       "      <td>Apple</td>\n",
       "      <td>Data Scientist</td>\n",
       "      <td>Moscow</td>\n",
       "      <td>318000</td>\n",
       "      <td>Full Time</td>\n",
       "      <td>0.7</td>\n",
       "    </tr>\n",
       "    <tr>\n",
       "      <th>367</th>\n",
       "      <td>IBM</td>\n",
       "      <td>Software Development Engineer-II</td>\n",
       "      <td>Munich</td>\n",
       "      <td>230000</td>\n",
       "      <td>Full Time</td>\n",
       "      <td>0.2</td>\n",
       "    </tr>\n",
       "    <tr>\n",
       "      <th>215</th>\n",
       "      <td>Microsoft</td>\n",
       "      <td>Data Scientist</td>\n",
       "      <td>New York</td>\n",
       "      <td>122000</td>\n",
       "      <td>Full Time</td>\n",
       "      <td>0.6</td>\n",
       "    </tr>\n",
       "    <tr>\n",
       "      <th>285</th>\n",
       "      <td>Apple</td>\n",
       "      <td>IOS Developer</td>\n",
       "      <td>Manchester</td>\n",
       "      <td>389000</td>\n",
       "      <td>Full Time</td>\n",
       "      <td>3.2</td>\n",
       "    </tr>\n",
       "    <tr>\n",
       "      <th>309</th>\n",
       "      <td>Uber</td>\n",
       "      <td>Back End Developer</td>\n",
       "      <td>Bombay</td>\n",
       "      <td>790000</td>\n",
       "      <td>Full Time</td>\n",
       "      <td>1.6</td>\n",
       "    </tr>\n",
       "    <tr>\n",
       "      <th>800</th>\n",
       "      <td>Cognizant</td>\n",
       "      <td>Python Developer</td>\n",
       "      <td>Moscow</td>\n",
       "      <td>639000</td>\n",
       "      <td>Full Time</td>\n",
       "      <td>4.6</td>\n",
       "    </tr>\n",
       "    <tr>\n",
       "      <th>417</th>\n",
       "      <td>Infosys</td>\n",
       "      <td>Software Development Engineer-II</td>\n",
       "      <td>Tokyo</td>\n",
       "      <td>444000</td>\n",
       "      <td>Full Time</td>\n",
       "      <td>2.5</td>\n",
       "    </tr>\n",
       "    <tr>\n",
       "      <th>358</th>\n",
       "      <td>Apple</td>\n",
       "      <td>Back End Developer</td>\n",
       "      <td>Bombay</td>\n",
       "      <td>926000</td>\n",
       "      <td>Full Time</td>\n",
       "      <td>4.0</td>\n",
       "    </tr>\n",
       "    <tr>\n",
       "      <th>800</th>\n",
       "      <td>Cognizant</td>\n",
       "      <td>Python Developer</td>\n",
       "      <td>Moscow</td>\n",
       "      <td>639000</td>\n",
       "      <td>Full Time</td>\n",
       "      <td>4.6</td>\n",
       "    </tr>\n",
       "  </tbody>\n",
       "</table>\n",
       "</div>"
      ],
      "text/plain": [
       "    Company Name                Employee Job Title Employee Work Location  \\\n",
       "14    Mastercard     Software Development Engineer                 Sydeny   \n",
       "358        Apple                Back End Developer                 Bombay   \n",
       "813       Google                    Data Scientist                 Bombay   \n",
       "84         Apple                    Data Scientist                 Moscow   \n",
       "367          IBM  Software Development Engineer-II                 Munich   \n",
       "215    Microsoft                    Data Scientist               New York   \n",
       "285        Apple                     IOS Developer             Manchester   \n",
       "309         Uber                Back End Developer                 Bombay   \n",
       "800    Cognizant                  Python Developer                 Moscow   \n",
       "417      Infosys  Software Development Engineer-II                  Tokyo   \n",
       "358        Apple                Back End Developer                 Bombay   \n",
       "800    Cognizant                  Python Developer                 Moscow   \n",
       "\n",
       "     Employee Salary Employment Status  Employee Rating  \n",
       "14            152000         Full Time              0.6  \n",
       "358           926000         Full Time              4.0  \n",
       "813           924000            Intern              2.3  \n",
       "84            318000         Full Time              0.7  \n",
       "367           230000         Full Time              0.2  \n",
       "215           122000         Full Time              0.6  \n",
       "285           389000         Full Time              3.2  \n",
       "309           790000         Full Time              1.6  \n",
       "800           639000         Full Time              4.6  \n",
       "417           444000         Full Time              2.5  \n",
       "358           926000         Full Time              4.0  \n",
       "800           639000         Full Time              4.6  "
      ]
     },
     "execution_count": 56,
     "metadata": {},
     "output_type": "execute_result"
    }
   ],
   "source": [
    "new_data = data.sample(n=10)\n",
    "new_data = pd.concat([new_data, new_data.sample(n=2)])\n",
    "\n",
    "new_data"
   ]
  },
  {
   "cell_type": "markdown",
   "id": "dd865d85-20af-4fbf-9e50-33a4ac4d15f7",
   "metadata": {},
   "source": [
    "#### Mark duplicated rows"
   ]
  },
  {
   "cell_type": "code",
   "execution_count": 57,
   "id": "04eb74d9-2e95-489f-9e31-c8415007098d",
   "metadata": {},
   "outputs": [
    {
     "data": {
      "text/plain": [
       "14     False\n",
       "358    False\n",
       "813    False\n",
       "84     False\n",
       "367    False\n",
       "215    False\n",
       "285    False\n",
       "309    False\n",
       "800    False\n",
       "417    False\n",
       "358     True\n",
       "800     True\n",
       "dtype: bool"
      ]
     },
     "execution_count": 57,
     "metadata": {},
     "output_type": "execute_result"
    }
   ],
   "source": [
    "new_data.duplicated(keep = \"first\")"
   ]
  },
  {
   "cell_type": "markdown",
   "id": "c883a946-6e9f-4948-9dc0-c88092c572f2",
   "metadata": {},
   "source": [
    "When there are duplicate values, `keep` is used to indicate which specific duplicates to mark.\n",
    "\n",
    "   1. `keep = \"first\"`: (Default) Marks all duplicates as `True` except for the first occurrence.\n",
    "   2. `keep = \"last\"`: Marks all duplicates as `True` except for the **last** occurrence.\n",
    "   3. `keep = False`: Marks all duplicates as `True`.\n",
    "\n",
    "You can filter all the rows which appear only once by passing the boolean series as flags for filtering a Pandas DataFrame as follows:"
   ]
  },
  {
   "cell_type": "code",
   "execution_count": 58,
   "id": "b9296afa-4460-4efd-93eb-7a6d75c2f0f8",
   "metadata": {},
   "outputs": [
    {
     "data": {
      "text/html": [
       "<div>\n",
       "<style scoped>\n",
       "    .dataframe tbody tr th:only-of-type {\n",
       "        vertical-align: middle;\n",
       "    }\n",
       "\n",
       "    .dataframe tbody tr th {\n",
       "        vertical-align: top;\n",
       "    }\n",
       "\n",
       "    .dataframe thead th {\n",
       "        text-align: right;\n",
       "    }\n",
       "</style>\n",
       "<table border=\"1\" class=\"dataframe\">\n",
       "  <thead>\n",
       "    <tr style=\"text-align: right;\">\n",
       "      <th></th>\n",
       "      <th>Company Name</th>\n",
       "      <th>Employee Job Title</th>\n",
       "      <th>Employee Work Location</th>\n",
       "      <th>Employee Salary</th>\n",
       "      <th>Employment Status</th>\n",
       "      <th>Employee Rating</th>\n",
       "    </tr>\n",
       "  </thead>\n",
       "  <tbody>\n",
       "    <tr>\n",
       "      <th>14</th>\n",
       "      <td>Mastercard</td>\n",
       "      <td>Software Development Engineer</td>\n",
       "      <td>Sydeny</td>\n",
       "      <td>152000</td>\n",
       "      <td>Full Time</td>\n",
       "      <td>0.6</td>\n",
       "    </tr>\n",
       "    <tr>\n",
       "      <th>813</th>\n",
       "      <td>Google</td>\n",
       "      <td>Data Scientist</td>\n",
       "      <td>Bombay</td>\n",
       "      <td>924000</td>\n",
       "      <td>Intern</td>\n",
       "      <td>2.3</td>\n",
       "    </tr>\n",
       "    <tr>\n",
       "      <th>84</th>\n",
       "      <td>Apple</td>\n",
       "      <td>Data Scientist</td>\n",
       "      <td>Moscow</td>\n",
       "      <td>318000</td>\n",
       "      <td>Full Time</td>\n",
       "      <td>0.7</td>\n",
       "    </tr>\n",
       "    <tr>\n",
       "      <th>367</th>\n",
       "      <td>IBM</td>\n",
       "      <td>Software Development Engineer-II</td>\n",
       "      <td>Munich</td>\n",
       "      <td>230000</td>\n",
       "      <td>Full Time</td>\n",
       "      <td>0.2</td>\n",
       "    </tr>\n",
       "    <tr>\n",
       "      <th>215</th>\n",
       "      <td>Microsoft</td>\n",
       "      <td>Data Scientist</td>\n",
       "      <td>New York</td>\n",
       "      <td>122000</td>\n",
       "      <td>Full Time</td>\n",
       "      <td>0.6</td>\n",
       "    </tr>\n",
       "    <tr>\n",
       "      <th>285</th>\n",
       "      <td>Apple</td>\n",
       "      <td>IOS Developer</td>\n",
       "      <td>Manchester</td>\n",
       "      <td>389000</td>\n",
       "      <td>Full Time</td>\n",
       "      <td>3.2</td>\n",
       "    </tr>\n",
       "    <tr>\n",
       "      <th>309</th>\n",
       "      <td>Uber</td>\n",
       "      <td>Back End Developer</td>\n",
       "      <td>Bombay</td>\n",
       "      <td>790000</td>\n",
       "      <td>Full Time</td>\n",
       "      <td>1.6</td>\n",
       "    </tr>\n",
       "    <tr>\n",
       "      <th>417</th>\n",
       "      <td>Infosys</td>\n",
       "      <td>Software Development Engineer-II</td>\n",
       "      <td>Tokyo</td>\n",
       "      <td>444000</td>\n",
       "      <td>Full Time</td>\n",
       "      <td>2.5</td>\n",
       "    </tr>\n",
       "  </tbody>\n",
       "</table>\n",
       "</div>"
      ],
      "text/plain": [
       "    Company Name                Employee Job Title Employee Work Location  \\\n",
       "14    Mastercard     Software Development Engineer                 Sydeny   \n",
       "813       Google                    Data Scientist                 Bombay   \n",
       "84         Apple                    Data Scientist                 Moscow   \n",
       "367          IBM  Software Development Engineer-II                 Munich   \n",
       "215    Microsoft                    Data Scientist               New York   \n",
       "285        Apple                     IOS Developer             Manchester   \n",
       "309         Uber                Back End Developer                 Bombay   \n",
       "417      Infosys  Software Development Engineer-II                  Tokyo   \n",
       "\n",
       "     Employee Salary Employment Status  Employee Rating  \n",
       "14            152000         Full Time              0.6  \n",
       "813           924000            Intern              2.3  \n",
       "84            318000         Full Time              0.7  \n",
       "367           230000         Full Time              0.2  \n",
       "215           122000         Full Time              0.6  \n",
       "285           389000         Full Time              3.2  \n",
       "309           790000         Full Time              1.6  \n",
       "417           444000         Full Time              2.5  "
      ]
     },
     "execution_count": 58,
     "metadata": {},
     "output_type": "execute_result"
    }
   ],
   "source": [
    "new_data[~new_data.duplicated(keep = False)]"
   ]
  },
  {
   "cell_type": "markdown",
   "id": "713736b0-3a38-42bc-b2fc-44832f73004f",
   "metadata": {},
   "source": [
    "To check duplicates on a subset of columns, pass the list of columns as the `subset` argument of `duplicated()` method as shown below:"
   ]
  },
  {
   "cell_type": "code",
   "execution_count": 60,
   "id": "8a9bdbf0-714b-4121-9935-0d2fd85187ed",
   "metadata": {},
   "outputs": [
    {
     "data": {
      "text/plain": [
       "14     False\n",
       "358     True\n",
       "813    False\n",
       "84     False\n",
       "367    False\n",
       "215    False\n",
       "285    False\n",
       "309    False\n",
       "800     True\n",
       "417    False\n",
       "358     True\n",
       "800     True\n",
       "dtype: bool"
      ]
     },
     "execution_count": 60,
     "metadata": {},
     "output_type": "execute_result"
    }
   ],
   "source": [
    "new_data.duplicated(subset=[\"Company Name\", \"Employee Work Location\"], keep = False)"
   ]
  },
  {
   "cell_type": "markdown",
   "id": "794fe25f-0e38-45c2-b992-5e099ffb8ab7",
   "metadata": {},
   "source": [
    "Filtering the DataFrame using the above boolean series as shown below outputs the DataFrame following the code:"
   ]
  },
  {
   "cell_type": "code",
   "execution_count": 61,
   "id": "9bca2fca-21a1-4055-b4c0-a4d75dec65b0",
   "metadata": {},
   "outputs": [
    {
     "data": {
      "text/html": [
       "<div>\n",
       "<style scoped>\n",
       "    .dataframe tbody tr th:only-of-type {\n",
       "        vertical-align: middle;\n",
       "    }\n",
       "\n",
       "    .dataframe tbody tr th {\n",
       "        vertical-align: top;\n",
       "    }\n",
       "\n",
       "    .dataframe thead th {\n",
       "        text-align: right;\n",
       "    }\n",
       "</style>\n",
       "<table border=\"1\" class=\"dataframe\">\n",
       "  <thead>\n",
       "    <tr style=\"text-align: right;\">\n",
       "      <th></th>\n",
       "      <th>Company Name</th>\n",
       "      <th>Employee Job Title</th>\n",
       "      <th>Employee Work Location</th>\n",
       "      <th>Employee Salary</th>\n",
       "      <th>Employment Status</th>\n",
       "      <th>Employee Rating</th>\n",
       "    </tr>\n",
       "  </thead>\n",
       "  <tbody>\n",
       "    <tr>\n",
       "      <th>358</th>\n",
       "      <td>Apple</td>\n",
       "      <td>Back End Developer</td>\n",
       "      <td>Bombay</td>\n",
       "      <td>926000</td>\n",
       "      <td>Full Time</td>\n",
       "      <td>4.0</td>\n",
       "    </tr>\n",
       "    <tr>\n",
       "      <th>800</th>\n",
       "      <td>Cognizant</td>\n",
       "      <td>Python Developer</td>\n",
       "      <td>Moscow</td>\n",
       "      <td>639000</td>\n",
       "      <td>Full Time</td>\n",
       "      <td>4.6</td>\n",
       "    </tr>\n",
       "    <tr>\n",
       "      <th>358</th>\n",
       "      <td>Apple</td>\n",
       "      <td>Back End Developer</td>\n",
       "      <td>Bombay</td>\n",
       "      <td>926000</td>\n",
       "      <td>Full Time</td>\n",
       "      <td>4.0</td>\n",
       "    </tr>\n",
       "    <tr>\n",
       "      <th>800</th>\n",
       "      <td>Cognizant</td>\n",
       "      <td>Python Developer</td>\n",
       "      <td>Moscow</td>\n",
       "      <td>639000</td>\n",
       "      <td>Full Time</td>\n",
       "      <td>4.6</td>\n",
       "    </tr>\n",
       "  </tbody>\n",
       "</table>\n",
       "</div>"
      ],
      "text/plain": [
       "    Company Name  Employee Job Title Employee Work Location  Employee Salary  \\\n",
       "358        Apple  Back End Developer                 Bombay           926000   \n",
       "800    Cognizant    Python Developer                 Moscow           639000   \n",
       "358        Apple  Back End Developer                 Bombay           926000   \n",
       "800    Cognizant    Python Developer                 Moscow           639000   \n",
       "\n",
       "    Employment Status  Employee Rating  \n",
       "358         Full Time              4.0  \n",
       "800         Full Time              4.6  \n",
       "358         Full Time              4.0  \n",
       "800         Full Time              4.6  "
      ]
     },
     "execution_count": 61,
     "metadata": {},
     "output_type": "execute_result"
    }
   ],
   "source": [
    "new_data[new_data.duplicated(subset=[\"Company Name\", \"Employee Work Location\"], \n",
    "                             keep = False)]"
   ]
  },
  {
   "cell_type": "markdown",
   "id": "60abbf64-c648-4997-a409-d180df07808d",
   "metadata": {},
   "source": [
    "#### Remove duplicates"
   ]
  },
  {
   "cell_type": "markdown",
   "id": "3ee3f248-882d-4c98-aed5-b1f19ea6076d",
   "metadata": {},
   "source": [
    "You can remove the duplicate rows either based on values in all columns or a subset of columns using the `drop_duplicates()` method as shown below:"
   ]
  },
  {
   "cell_type": "code",
   "execution_count": 62,
   "id": "83c13a3a-36a1-4ca3-9f71-24cbc71310df",
   "metadata": {},
   "outputs": [
    {
     "data": {
      "text/html": [
       "<div>\n",
       "<style scoped>\n",
       "    .dataframe tbody tr th:only-of-type {\n",
       "        vertical-align: middle;\n",
       "    }\n",
       "\n",
       "    .dataframe tbody tr th {\n",
       "        vertical-align: top;\n",
       "    }\n",
       "\n",
       "    .dataframe thead th {\n",
       "        text-align: right;\n",
       "    }\n",
       "</style>\n",
       "<table border=\"1\" class=\"dataframe\">\n",
       "  <thead>\n",
       "    <tr style=\"text-align: right;\">\n",
       "      <th></th>\n",
       "      <th>Company Name</th>\n",
       "      <th>Employee Job Title</th>\n",
       "      <th>Employee Work Location</th>\n",
       "      <th>Employee Salary</th>\n",
       "      <th>Employment Status</th>\n",
       "      <th>Employee Rating</th>\n",
       "    </tr>\n",
       "  </thead>\n",
       "  <tbody>\n",
       "    <tr>\n",
       "      <th>14</th>\n",
       "      <td>Mastercard</td>\n",
       "      <td>Software Development Engineer</td>\n",
       "      <td>Sydeny</td>\n",
       "      <td>152000</td>\n",
       "      <td>Full Time</td>\n",
       "      <td>0.6</td>\n",
       "    </tr>\n",
       "    <tr>\n",
       "      <th>358</th>\n",
       "      <td>Apple</td>\n",
       "      <td>Back End Developer</td>\n",
       "      <td>Bombay</td>\n",
       "      <td>926000</td>\n",
       "      <td>Full Time</td>\n",
       "      <td>4.0</td>\n",
       "    </tr>\n",
       "    <tr>\n",
       "      <th>813</th>\n",
       "      <td>Google</td>\n",
       "      <td>Data Scientist</td>\n",
       "      <td>Bombay</td>\n",
       "      <td>924000</td>\n",
       "      <td>Intern</td>\n",
       "      <td>2.3</td>\n",
       "    </tr>\n",
       "    <tr>\n",
       "      <th>84</th>\n",
       "      <td>Apple</td>\n",
       "      <td>Data Scientist</td>\n",
       "      <td>Moscow</td>\n",
       "      <td>318000</td>\n",
       "      <td>Full Time</td>\n",
       "      <td>0.7</td>\n",
       "    </tr>\n",
       "    <tr>\n",
       "      <th>367</th>\n",
       "      <td>IBM</td>\n",
       "      <td>Software Development Engineer-II</td>\n",
       "      <td>Munich</td>\n",
       "      <td>230000</td>\n",
       "      <td>Full Time</td>\n",
       "      <td>0.2</td>\n",
       "    </tr>\n",
       "    <tr>\n",
       "      <th>215</th>\n",
       "      <td>Microsoft</td>\n",
       "      <td>Data Scientist</td>\n",
       "      <td>New York</td>\n",
       "      <td>122000</td>\n",
       "      <td>Full Time</td>\n",
       "      <td>0.6</td>\n",
       "    </tr>\n",
       "    <tr>\n",
       "      <th>285</th>\n",
       "      <td>Apple</td>\n",
       "      <td>IOS Developer</td>\n",
       "      <td>Manchester</td>\n",
       "      <td>389000</td>\n",
       "      <td>Full Time</td>\n",
       "      <td>3.2</td>\n",
       "    </tr>\n",
       "    <tr>\n",
       "      <th>309</th>\n",
       "      <td>Uber</td>\n",
       "      <td>Back End Developer</td>\n",
       "      <td>Bombay</td>\n",
       "      <td>790000</td>\n",
       "      <td>Full Time</td>\n",
       "      <td>1.6</td>\n",
       "    </tr>\n",
       "    <tr>\n",
       "      <th>800</th>\n",
       "      <td>Cognizant</td>\n",
       "      <td>Python Developer</td>\n",
       "      <td>Moscow</td>\n",
       "      <td>639000</td>\n",
       "      <td>Full Time</td>\n",
       "      <td>4.6</td>\n",
       "    </tr>\n",
       "    <tr>\n",
       "      <th>417</th>\n",
       "      <td>Infosys</td>\n",
       "      <td>Software Development Engineer-II</td>\n",
       "      <td>Tokyo</td>\n",
       "      <td>444000</td>\n",
       "      <td>Full Time</td>\n",
       "      <td>2.5</td>\n",
       "    </tr>\n",
       "  </tbody>\n",
       "</table>\n",
       "</div>"
      ],
      "text/plain": [
       "    Company Name                Employee Job Title Employee Work Location  \\\n",
       "14    Mastercard     Software Development Engineer                 Sydeny   \n",
       "358        Apple                Back End Developer                 Bombay   \n",
       "813       Google                    Data Scientist                 Bombay   \n",
       "84         Apple                    Data Scientist                 Moscow   \n",
       "367          IBM  Software Development Engineer-II                 Munich   \n",
       "215    Microsoft                    Data Scientist               New York   \n",
       "285        Apple                     IOS Developer             Manchester   \n",
       "309         Uber                Back End Developer                 Bombay   \n",
       "800    Cognizant                  Python Developer                 Moscow   \n",
       "417      Infosys  Software Development Engineer-II                  Tokyo   \n",
       "\n",
       "     Employee Salary Employment Status  Employee Rating  \n",
       "14            152000         Full Time              0.6  \n",
       "358           926000         Full Time              4.0  \n",
       "813           924000            Intern              2.3  \n",
       "84            318000         Full Time              0.7  \n",
       "367           230000         Full Time              0.2  \n",
       "215           122000         Full Time              0.6  \n",
       "285           389000         Full Time              3.2  \n",
       "309           790000         Full Time              1.6  \n",
       "800           639000         Full Time              4.6  \n",
       "417           444000         Full Time              2.5  "
      ]
     },
     "execution_count": 62,
     "metadata": {},
     "output_type": "execute_result"
    }
   ],
   "source": [
    "new_data.drop_duplicates(keep = \"first\")"
   ]
  },
  {
   "cell_type": "markdown",
   "id": "13108d4b-94dc-4171-9f35-8a6869680dfe",
   "metadata": {},
   "source": [
    "Similar to `duplicated()`, the `keep` argument is used to indicate which specific duplicates you want to keep.\n",
    "\n",
    "   1. `keep = \"first\"`: (Default) Drops all duplicates except for the first occurrence.\n",
    "   2. `keep = \"last\"`: Drops all duplicates except for the last occurrence.\n",
    "   3. `keep = False`: Drops all duplicates.\n",
    "\n",
    "To drop duplicates based on the values in a subset of columns, pass the list of columns as the `subset` argument to the `drop_duplicates()` method:"
   ]
  },
  {
   "cell_type": "code",
   "execution_count": 63,
   "id": "caa51554-c6c7-4163-a1ee-382e47d9c694",
   "metadata": {},
   "outputs": [
    {
     "data": {
      "text/html": [
       "<div>\n",
       "<style scoped>\n",
       "    .dataframe tbody tr th:only-of-type {\n",
       "        vertical-align: middle;\n",
       "    }\n",
       "\n",
       "    .dataframe tbody tr th {\n",
       "        vertical-align: top;\n",
       "    }\n",
       "\n",
       "    .dataframe thead th {\n",
       "        text-align: right;\n",
       "    }\n",
       "</style>\n",
       "<table border=\"1\" class=\"dataframe\">\n",
       "  <thead>\n",
       "    <tr style=\"text-align: right;\">\n",
       "      <th></th>\n",
       "      <th>Company Name</th>\n",
       "      <th>Employee Job Title</th>\n",
       "      <th>Employee Work Location</th>\n",
       "      <th>Employee Salary</th>\n",
       "      <th>Employment Status</th>\n",
       "      <th>Employee Rating</th>\n",
       "    </tr>\n",
       "  </thead>\n",
       "  <tbody>\n",
       "    <tr>\n",
       "      <th>14</th>\n",
       "      <td>Mastercard</td>\n",
       "      <td>Software Development Engineer</td>\n",
       "      <td>Sydeny</td>\n",
       "      <td>152000</td>\n",
       "      <td>Full Time</td>\n",
       "      <td>0.6</td>\n",
       "    </tr>\n",
       "    <tr>\n",
       "      <th>813</th>\n",
       "      <td>Google</td>\n",
       "      <td>Data Scientist</td>\n",
       "      <td>Bombay</td>\n",
       "      <td>924000</td>\n",
       "      <td>Intern</td>\n",
       "      <td>2.3</td>\n",
       "    </tr>\n",
       "    <tr>\n",
       "      <th>84</th>\n",
       "      <td>Apple</td>\n",
       "      <td>Data Scientist</td>\n",
       "      <td>Moscow</td>\n",
       "      <td>318000</td>\n",
       "      <td>Full Time</td>\n",
       "      <td>0.7</td>\n",
       "    </tr>\n",
       "    <tr>\n",
       "      <th>367</th>\n",
       "      <td>IBM</td>\n",
       "      <td>Software Development Engineer-II</td>\n",
       "      <td>Munich</td>\n",
       "      <td>230000</td>\n",
       "      <td>Full Time</td>\n",
       "      <td>0.2</td>\n",
       "    </tr>\n",
       "    <tr>\n",
       "      <th>215</th>\n",
       "      <td>Microsoft</td>\n",
       "      <td>Data Scientist</td>\n",
       "      <td>New York</td>\n",
       "      <td>122000</td>\n",
       "      <td>Full Time</td>\n",
       "      <td>0.6</td>\n",
       "    </tr>\n",
       "    <tr>\n",
       "      <th>285</th>\n",
       "      <td>Apple</td>\n",
       "      <td>IOS Developer</td>\n",
       "      <td>Manchester</td>\n",
       "      <td>389000</td>\n",
       "      <td>Full Time</td>\n",
       "      <td>3.2</td>\n",
       "    </tr>\n",
       "    <tr>\n",
       "      <th>309</th>\n",
       "      <td>Uber</td>\n",
       "      <td>Back End Developer</td>\n",
       "      <td>Bombay</td>\n",
       "      <td>790000</td>\n",
       "      <td>Full Time</td>\n",
       "      <td>1.6</td>\n",
       "    </tr>\n",
       "    <tr>\n",
       "      <th>417</th>\n",
       "      <td>Infosys</td>\n",
       "      <td>Software Development Engineer-II</td>\n",
       "      <td>Tokyo</td>\n",
       "      <td>444000</td>\n",
       "      <td>Full Time</td>\n",
       "      <td>2.5</td>\n",
       "    </tr>\n",
       "  </tbody>\n",
       "</table>\n",
       "</div>"
      ],
      "text/plain": [
       "    Company Name                Employee Job Title Employee Work Location  \\\n",
       "14    Mastercard     Software Development Engineer                 Sydeny   \n",
       "813       Google                    Data Scientist                 Bombay   \n",
       "84         Apple                    Data Scientist                 Moscow   \n",
       "367          IBM  Software Development Engineer-II                 Munich   \n",
       "215    Microsoft                    Data Scientist               New York   \n",
       "285        Apple                     IOS Developer             Manchester   \n",
       "309         Uber                Back End Developer                 Bombay   \n",
       "417      Infosys  Software Development Engineer-II                  Tokyo   \n",
       "\n",
       "     Employee Salary Employment Status  Employee Rating  \n",
       "14            152000         Full Time              0.6  \n",
       "813           924000            Intern              2.3  \n",
       "84            318000         Full Time              0.7  \n",
       "367           230000         Full Time              0.2  \n",
       "215           122000         Full Time              0.6  \n",
       "285           389000         Full Time              3.2  \n",
       "309           790000         Full Time              1.6  \n",
       "417           444000         Full Time              2.5  "
      ]
     },
     "execution_count": 63,
     "metadata": {},
     "output_type": "execute_result"
    }
   ],
   "source": [
    "new_data.drop_duplicates(subset=[\"Company Name\", \"Employee Work Location\"], keep = False)"
   ]
  },
  {
   "cell_type": "code",
   "execution_count": null,
   "id": "46dd6812-5638-499f-8fd7-e27b66f6c0f7",
   "metadata": {},
   "outputs": [],
   "source": []
  }
 ],
 "metadata": {
  "kernelspec": {
   "display_name": "Python 3 (ipykernel)",
   "language": "python",
   "name": "python3"
  },
  "language_info": {
   "codemirror_mode": {
    "name": "ipython",
    "version": 3
   },
   "file_extension": ".py",
   "mimetype": "text/x-python",
   "name": "python",
   "nbconvert_exporter": "python",
   "pygments_lexer": "ipython3",
   "version": "3.8.12"
  }
 },
 "nbformat": 4,
 "nbformat_minor": 5
}
