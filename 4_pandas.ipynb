{
 "cells": [
  {
   "cell_type": "markdown",
   "id": "2b183cdb-97f7-40ea-ac31-6cfa820f815e",
   "metadata": {},
   "source": [
    "# Pandas"
   ]
  },
  {
   "cell_type": "code",
   "execution_count": 1,
   "id": "7a6e5d40-8e58-46c4-9069-1ce73644ac8d",
   "metadata": {},
   "outputs": [],
   "source": [
    "import pandas as pd\n",
    "import numpy as np"
   ]
  },
  {
   "cell_type": "markdown",
   "id": "47597580-a02a-4ded-adc1-7b942eb9a8f3",
   "metadata": {},
   "source": [
    "## Creating a DataFrame"
   ]
  },
  {
   "cell_type": "markdown",
   "id": "9797be15-0475-4361-a930-fc6b205dc6dd",
   "metadata": {},
   "source": [
    "There are two ways of calling a column in a DataFrame as a series\n"
   ]
  },
  {
   "cell_type": "code",
   "execution_count": null,
   "id": "44eceb30-2956-4f20-aa5e-f22604f085cd",
   "metadata": {},
   "outputs": [],
   "source": [
    "#1 With single double brackets\n",
    "\n",
    "df['order_status']\n",
    "\n",
    "#2 As an attribute\n",
    "\n",
    "orders.order_status\n"
   ]
  },
  {
   "cell_type": "markdown",
   "id": "16c2af8f-7a7e-4a23-8fe0-115cd4b6771f",
   "metadata": {},
   "source": [
    "### pd.Series.unique() Method"
   ]
  },
  {
   "cell_type": "markdown",
   "id": "362e4e37-2890-4960-8aea-ae89f43ce912",
   "metadata": {},
   "source": [
    "This method can be used with pandas **Series**, not DataFrames, and will return a list of all the unique values in the series. "
   ]
  },
  {
   "cell_type": "code",
   "execution_count": null,
   "id": "c9d65501-f66c-4bc9-b0ee-83d06a9f37fc",
   "metadata": {},
   "outputs": [],
   "source": [
    "df['order_status'].unique()"
   ]
  },
  {
   "cell_type": "code",
   "execution_count": null,
   "id": "2d8396fa-c3ab-4f49-b118-967115a024e5",
   "metadata": {},
   "outputs": [],
   "source": [
    "df.order_status.unique()"
   ]
  },
  {
   "cell_type": "markdown",
   "id": "1ce20bf8-db7b-46c9-925c-c168c185ce01",
   "metadata": {},
   "source": [
    "### pd.to_datetime() Method"
   ]
  },
  {
   "cell_type": "markdown",
   "id": "afc27d1a-ec46-4185-b2e4-c1d854aaee09",
   "metadata": {},
   "source": [
    "https://pandas.pydata.org/pandas-docs/stable/reference/api/pandas.to_datetime.html\n",
    "\n",
    "Note that in the example below, the information within a dataframe should be called as a Series (with single brackets), not as the column of a dataframe.\n",
    "\n",
    "If a DataFrame is provided, the method expects minimally the following columns: \"year\", \"month\", \"day\"."
   ]
  },
  {
   "cell_type": "code",
   "execution_count": null,
   "id": "fa86c181-dee2-4ced-9319-1cb4cd6fe480",
   "metadata": {},
   "outputs": [],
   "source": [
    "df[\"Date\"]= pd.to_datetime(df[\"Date\"])"
   ]
  },
  {
   "cell_type": "code",
   "execution_count": null,
   "id": "3e55c2a5-7165-472d-b8a6-46638809628a",
   "metadata": {},
   "outputs": [],
   "source": [
    "data.info()"
   ]
  },
  {
   "cell_type": "markdown",
   "id": "41201f7e-5ef8-426a-914e-7601340ef8c1",
   "metadata": {},
   "source": [
    "pd.timedelta"
   ]
  },
  {
   "cell_type": "markdown",
   "id": "5428d585-0bac-4e12-8052-b1d31fba5d14",
   "metadata": {},
   "source": [
    "### pd.DataFrame.groupby() Method"
   ]
  },
  {
   "cell_type": "markdown",
   "id": "71c4d82e-4d31-4789-8701-e7d77f1ed547",
   "metadata": {},
   "source": [
    "Needs to have an action to do on the rows not being 'grouped by'."
   ]
  },
  {
   "cell_type": "code",
   "execution_count": null,
   "id": "fea5f805-412b-4ffb-8568-55104c555711",
   "metadata": {},
   "outputs": [],
   "source": [
    "df[['order_id','product_id']].groupby('order_id').count()"
   ]
  },
  {
   "cell_type": "code",
   "execution_count": null,
   "id": "b46d56d3-94e5-4a80-94bc-2b76c18ba6cc",
   "metadata": {},
   "outputs": [],
   "source": [
    "df[['order_id','product_id']].groupby('order_id').sum()"
   ]
  },
  {
   "cell_type": "code",
   "execution_count": null,
   "id": "11809040-7d24-423d-b449-739e187ede9b",
   "metadata": {},
   "outputs": [],
   "source": [
    "order_items[['order_id','seller_id']].groupby('order_id').nunique()"
   ]
  },
  {
   "cell_type": "markdown",
   "id": "efc4b626-6805-4ae3-ae7a-38ea5177dc41",
   "metadata": {},
   "source": [
    "### pd.Series.agg() Method"
   ]
  },
  {
   "cell_type": "markdown",
   "id": "fb2e77d9-d847-411e-9d54-3da5717464ff",
   "metadata": {},
   "source": [
    "**CAN BE USED IN GROUPBY() ON A DATAFRAME**\n",
    "\n",
    "Allows you to perform different operations on columns that are grouped in a single "
   ]
  },
  {
   "cell_type": "code",
   "execution_count": null,
   "id": "eb9496d9-21d5-45c8-98d0-4585bb68e6a3",
   "metadata": {},
   "outputs": [],
   "source": [
    "df[['order_id','price','freight_value']].groupby('order_id').agg({'price': ['sum', 'mean'], 'freight_value': 'mean' })"
   ]
  },
  {
   "cell_type": "markdown",
   "id": "6e80da99-7fa7-4b02-a942-2e3b973b315a",
   "metadata": {},
   "source": [
    "If you need to join multiple string columns, you can use agg:"
   ]
  },
  {
   "cell_type": "code",
   "execution_count": null,
   "id": "2815de86-4ac8-4f4d-9bbf-6bdc4ee7ed8e",
   "metadata": {},
   "outputs": [],
   "source": [
    "df['period'] = df[['Year', 'quarter', ...]].agg('-'.join, axis=1)"
   ]
  },
  {
   "cell_type": "markdown",
   "id": "9c240ce2-567c-4c7d-b2f8-3fae2e3ffd95",
   "metadata": {},
   "source": [
    "### pd.DataFrame.merge() Method"
   ]
  },
  {
   "cell_type": "markdown",
   "id": "035cc9c9-ebce-4cb1-85b4-5972fe78ed10",
   "metadata": {},
   "source": [
    "This can be written in two different ways, allowing for both chaining or nesting of multiple merges."
   ]
  },
  {
   "cell_type": "code",
   "execution_count": null,
   "id": "6639daae-b159-4ab4-bad3-55bbba911ab7",
   "metadata": {},
   "outputs": [],
   "source": [
    "A_df.merge(B_df, how='left', on='order_id')"
   ]
  },
  {
   "cell_type": "code",
   "execution_count": null,
   "id": "b9a6902e-78e3-4d65-b83c-7f192db3302f",
   "metadata": {},
   "outputs": [],
   "source": [
    "pd.merge(A_df, B_df, how='left', on='order_id')"
   ]
  },
  {
   "cell_type": "code",
   "execution_count": null,
   "id": "a9fc0abe-bbb9-4da0-8f27-3ade45068977",
   "metadata": {},
   "outputs": [],
   "source": []
  },
  {
   "cell_type": "code",
   "execution_count": null,
   "id": "c2904f7c-0d3f-4d52-b0fb-b09453b3ee96",
   "metadata": {},
   "outputs": [],
   "source": []
  },
  {
   "cell_type": "code",
   "execution_count": null,
   "id": "cbbffcf8-85f8-437f-a723-7962413500fe",
   "metadata": {},
   "outputs": [],
   "source": []
  },
  {
   "cell_type": "code",
   "execution_count": null,
   "id": "58b8588b-763a-48c8-bac6-1e88d75a1b98",
   "metadata": {},
   "outputs": [],
   "source": [
    "df.query(\"order_status == 'delivered'\")"
   ]
  },
  {
   "cell_type": "markdown",
   "id": "164ff615-8e3c-438b-bd47-a424fe72acd0",
   "metadata": {
    "tags": []
   },
   "source": [
    "### pd.Series.map() Method"
   ]
  },
  {
   "cell_type": "markdown",
   "id": "ff0cd0a3-ea1d-4d46-931d-512b98b8bdee",
   "metadata": {},
   "source": [
    "https://pandas.pydata.org/pandas-docs/stable/reference/api/pandas.Series.map.html"
   ]
  },
  {
   "cell_type": "markdown",
   "id": "a8e00f75-db43-4243-a56c-03b7af65ad63",
   "metadata": {},
   "source": [
    "Below is how you would use the map() method to change certain values in a series to another, using a dictionary."
   ]
  },
  {
   "cell_type": "code",
   "execution_count": 8,
   "id": "b1c29b8d-34ad-4145-9bf6-5324335ea46b",
   "metadata": {},
   "outputs": [
    {
     "data": {
      "text/plain": [
       "0       cat\n",
       "1       dog\n",
       "2       NaN\n",
       "3    rabbit\n",
       "Name: Stuff, dtype: object"
      ]
     },
     "execution_count": 8,
     "metadata": {},
     "output_type": "execute_result"
    }
   ],
   "source": [
    "df = pd.DataFrame({'Stuff':['cat', 'dog', np.nan, 'rabbit']})\n",
    "\n",
    "df.Stuff"
   ]
  },
  {
   "cell_type": "markdown",
   "id": "e51c6705-0d17-4940-9985-fab90c59fa8d",
   "metadata": {},
   "source": [
    "-- You can substitute stuff with a dictionary. **Note that anything not specified is converted to a NaN**"
   ]
  },
  {
   "cell_type": "code",
   "execution_count": 10,
   "id": "5da2dfa0-d2ab-4238-9121-2c031a7e7210",
   "metadata": {},
   "outputs": [
    {
     "data": {
      "text/plain": [
       "0    kitten\n",
       "1     puppy\n",
       "2       NaN\n",
       "3       NaN\n",
       "Name: Stuff, dtype: object"
      ]
     },
     "execution_count": 10,
     "metadata": {},
     "output_type": "execute_result"
    }
   ],
   "source": [
    "df.Stuff.map({\n",
    "    'cat': 'kitten', \n",
    "    'dog': 'puppy'\n",
    "})"
   ]
  },
  {
   "cell_type": "markdown",
   "id": "b2894ed4-5c48-4ffd-ad1b-fdd66ef0f919",
   "metadata": {},
   "source": [
    "-- It also accepts a function"
   ]
  },
  {
   "cell_type": "code",
   "execution_count": 12,
   "id": "29c11fff-67ea-4318-90a1-96e2396ed8b0",
   "metadata": {},
   "outputs": [
    {
     "data": {
      "text/plain": [
       "0       I am a cat\n",
       "1       I am a dog\n",
       "2       I am a nan\n",
       "3    I am a rabbit\n",
       "Name: Stuff, dtype: object"
      ]
     },
     "execution_count": 12,
     "metadata": {},
     "output_type": "execute_result"
    }
   ],
   "source": [
    "df.Stuff.map('I am a {}'.format)"
   ]
  },
  {
   "cell_type": "markdown",
   "id": "9e71ac9e-eb3b-4d34-b3da-9a8038331cc8",
   "metadata": {},
   "source": [
    "-- To avoid applying the function to missing values (and keep them as NaN) na_action='ignore' can be used:"
   ]
  },
  {
   "cell_type": "code",
   "execution_count": 13,
   "id": "eceef4f0-9c64-4fb2-a383-d38cebe0758c",
   "metadata": {},
   "outputs": [
    {
     "data": {
      "text/plain": [
       "0       I am a cat\n",
       "1       I am a dog\n",
       "2              NaN\n",
       "3    I am a rabbit\n",
       "Name: Stuff, dtype: object"
      ]
     },
     "execution_count": 13,
     "metadata": {},
     "output_type": "execute_result"
    }
   ],
   "source": [
    "df.Stuff.map('I am a {}'.format, na_action='ignore')"
   ]
  },
  {
   "cell_type": "markdown",
   "id": "ef79019d-be66-4bba-975b-d8ffca6afdf8",
   "metadata": {
    "tags": []
   },
   "source": [
    "### How to add another row to a DataFrame"
   ]
  },
  {
   "cell_type": "code",
   "execution_count": null,
   "id": "fc6eb58b-2437-47e5-8eb6-222ee0878dad",
   "metadata": {},
   "outputs": [],
   "source": [
    "#add row to end of DataFrame\n",
    "df.loc[len(df.index)] = [value1, value2, value3, ...]"
   ]
  },
  {
   "cell_type": "code",
   "execution_count": null,
   "id": "4330b5c9-544e-4076-a17f-0ba1c85b832a",
   "metadata": {},
   "outputs": [],
   "source": [
    "#append rows of df2 to end of existing DataFrame\n",
    "df = df.append(df2, ignore_index = True)"
   ]
  },
  {
   "cell_type": "markdown",
   "id": "f80c8590-627c-4102-affb-40c5f1a60637",
   "metadata": {
    "toc-hr-collapsed": true
   },
   "source": [
    "### pd.Series.apply() Method\n"
   ]
  },
  {
   "cell_type": "code",
   "execution_count": null,
   "id": "16afe0f9-756f-4b7f-b3f2-31a412d29dbb",
   "metadata": {},
   "outputs": [],
   "source": [
    "def txt_rp(x):\n",
    "\n",
    "    for punc in string.punctuation:\n",
    "        x = x.replace(punc, '')    \n",
    "\n",
    "    return x\n",
    "\n",
    "df['clean_text'] = df['text'].apply(txt_rp)"
   ]
  },
  {
   "cell_type": "markdown",
   "id": "bde5c865-8095-4303-baea-f561c020248f",
   "metadata": {
    "tags": []
   },
   "source": [
    "## Lambda\n"
   ]
  },
  {
   "cell_type": "markdown",
   "id": "fcb37f50-9dfb-4460-9669-b23524bdc7e8",
   "metadata": {},
   "source": [
    "**Example 1**: Applying lambda function to single column using Dataframe.assign()\n",
    "\n",
    "In the below example, the lambda function is applied to the ‘Total_Marks’ column and a new column ‘Percentage’ is formed with the help of it."
   ]
  },
  {
   "cell_type": "code",
   "execution_count": 2,
   "id": "7d97960e-5639-430b-a5ee-50a928abf2a0",
   "metadata": {},
   "outputs": [
    {
     "data": {
      "text/html": [
       "<div>\n",
       "<style scoped>\n",
       "    .dataframe tbody tr th:only-of-type {\n",
       "        vertical-align: middle;\n",
       "    }\n",
       "\n",
       "    .dataframe tbody tr th {\n",
       "        vertical-align: top;\n",
       "    }\n",
       "\n",
       "    .dataframe thead th {\n",
       "        text-align: right;\n",
       "    }\n",
       "</style>\n",
       "<table border=\"1\" class=\"dataframe\">\n",
       "  <thead>\n",
       "    <tr style=\"text-align: right;\">\n",
       "      <th></th>\n",
       "      <th>Name</th>\n",
       "      <th>Total_Marks</th>\n",
       "      <th>Percentage</th>\n",
       "    </tr>\n",
       "  </thead>\n",
       "  <tbody>\n",
       "    <tr>\n",
       "      <th>0</th>\n",
       "      <td>Rohan</td>\n",
       "      <td>455</td>\n",
       "      <td>91.0</td>\n",
       "    </tr>\n",
       "    <tr>\n",
       "      <th>1</th>\n",
       "      <td>Elvish</td>\n",
       "      <td>250</td>\n",
       "      <td>50.0</td>\n",
       "    </tr>\n",
       "    <tr>\n",
       "      <th>2</th>\n",
       "      <td>Deepak</td>\n",
       "      <td>495</td>\n",
       "      <td>99.0</td>\n",
       "    </tr>\n",
       "    <tr>\n",
       "      <th>3</th>\n",
       "      <td>Soni</td>\n",
       "      <td>400</td>\n",
       "      <td>80.0</td>\n",
       "    </tr>\n",
       "    <tr>\n",
       "      <th>4</th>\n",
       "      <td>Radhika</td>\n",
       "      <td>350</td>\n",
       "      <td>70.0</td>\n",
       "    </tr>\n",
       "    <tr>\n",
       "      <th>5</th>\n",
       "      <td>Vansh</td>\n",
       "      <td>450</td>\n",
       "      <td>90.0</td>\n",
       "    </tr>\n",
       "  </tbody>\n",
       "</table>\n",
       "</div>"
      ],
      "text/plain": [
       "      Name  Total_Marks  Percentage\n",
       "0    Rohan          455        91.0\n",
       "1   Elvish          250        50.0\n",
       "2   Deepak          495        99.0\n",
       "3     Soni          400        80.0\n",
       "4  Radhika          350        70.0\n",
       "5    Vansh          450        90.0"
      ]
     },
     "execution_count": 2,
     "metadata": {},
     "output_type": "execute_result"
    }
   ],
   "source": [
    "import pandas as pd\n",
    "  \n",
    "# creating and initializing a list\n",
    "values= [['Rohan',455],['Elvish',250],['Deepak',495],\n",
    "         ['Soni',400],['Radhika',350],['Vansh',450]]\n",
    " \n",
    "# creating a pandas dataframe\n",
    "df = pd.DataFrame(values,columns=['Name','Total_Marks'])\n",
    " \n",
    "# Applying lambda function to find\n",
    "# percentage of 'Total_Marks' column\n",
    "# using df.assign()\n",
    "df = df.assign(Percentage = lambda x: (x['Total_Marks'] /500 * 100))\n",
    " \n",
    "# displaying the data frame\n",
    "df"
   ]
  },
  {
   "cell_type": "markdown",
   "id": "17d833e9-ee2e-43ad-bbac-4df007eddc3d",
   "metadata": {},
   "source": [
    "**Example 2**: Applying lambda function to multiple columns using Dataframe.assign()\n",
    "\n",
    "In the below example, lambda function is applied to 3 columns i.e ‘Field_1’, ‘Field_2’, and ‘Field_3’."
   ]
  },
  {
   "cell_type": "code",
   "execution_count": 1,
   "id": "7c15cace-d747-4508-8e16-679806a6fffc",
   "metadata": {},
   "outputs": [
    {
     "data": {
      "text/html": [
       "<div>\n",
       "<style scoped>\n",
       "    .dataframe tbody tr th:only-of-type {\n",
       "        vertical-align: middle;\n",
       "    }\n",
       "\n",
       "    .dataframe tbody tr th {\n",
       "        vertical-align: top;\n",
       "    }\n",
       "\n",
       "    .dataframe thead th {\n",
       "        text-align: right;\n",
       "    }\n",
       "</style>\n",
       "<table border=\"1\" class=\"dataframe\">\n",
       "  <thead>\n",
       "    <tr style=\"text-align: right;\">\n",
       "      <th></th>\n",
       "      <th>Field_1</th>\n",
       "      <th>Field_2</th>\n",
       "      <th>Field_3</th>\n",
       "      <th>Product</th>\n",
       "    </tr>\n",
       "  </thead>\n",
       "  <tbody>\n",
       "    <tr>\n",
       "      <th>0</th>\n",
       "      <td>15</td>\n",
       "      <td>2.5</td>\n",
       "      <td>100</td>\n",
       "      <td>3750.0</td>\n",
       "    </tr>\n",
       "    <tr>\n",
       "      <th>1</th>\n",
       "      <td>20</td>\n",
       "      <td>4.5</td>\n",
       "      <td>50</td>\n",
       "      <td>4500.0</td>\n",
       "    </tr>\n",
       "    <tr>\n",
       "      <th>2</th>\n",
       "      <td>25</td>\n",
       "      <td>5.2</td>\n",
       "      <td>80</td>\n",
       "      <td>10400.0</td>\n",
       "    </tr>\n",
       "    <tr>\n",
       "      <th>3</th>\n",
       "      <td>45</td>\n",
       "      <td>5.8</td>\n",
       "      <td>48</td>\n",
       "      <td>12528.0</td>\n",
       "    </tr>\n",
       "    <tr>\n",
       "      <th>4</th>\n",
       "      <td>40</td>\n",
       "      <td>6.3</td>\n",
       "      <td>70</td>\n",
       "      <td>17640.0</td>\n",
       "    </tr>\n",
       "    <tr>\n",
       "      <th>5</th>\n",
       "      <td>41</td>\n",
       "      <td>6.4</td>\n",
       "      <td>90</td>\n",
       "      <td>23616.0</td>\n",
       "    </tr>\n",
       "    <tr>\n",
       "      <th>6</th>\n",
       "      <td>51</td>\n",
       "      <td>2.3</td>\n",
       "      <td>111</td>\n",
       "      <td>13020.3</td>\n",
       "    </tr>\n",
       "  </tbody>\n",
       "</table>\n",
       "</div>"
      ],
      "text/plain": [
       "   Field_1  Field_2  Field_3  Product\n",
       "0       15      2.5      100   3750.0\n",
       "1       20      4.5       50   4500.0\n",
       "2       25      5.2       80  10400.0\n",
       "3       45      5.8       48  12528.0\n",
       "4       40      6.3       70  17640.0\n",
       "5       41      6.4       90  23616.0\n",
       "6       51      2.3      111  13020.3"
      ]
     },
     "execution_count": 1,
     "metadata": {},
     "output_type": "execute_result"
    }
   ],
   "source": [
    "# importing pandas library\n",
    "import pandas as pd\n",
    " \n",
    "# creating and initializing a nested list\n",
    "values_list = [[15, 2.5, 100], [20, 4.5, 50], [25, 5.2, 80],\n",
    "               [45, 5.8, 48], [40, 6.3, 70], [41, 6.4, 90],\n",
    "               [51, 2.3, 111]]\n",
    " \n",
    "# creating a pandas dataframe\n",
    "df = pd.DataFrame(values_list, columns=['Field_1', 'Field_2', 'Field_3'])\n",
    " \n",
    "# Applying lambda function to find\n",
    "# the product of 3 columns using\n",
    "# df.assign()\n",
    "df = df.assign(Product=lambda x: (x['Field_1'] * x['Field_2'] * x['Field_3']))\n",
    " \n",
    "# printing dataframe\n",
    "df"
   ]
  },
  {
   "cell_type": "markdown",
   "id": "25858984-1530-4a85-8e28-ef3dcd37082a",
   "metadata": {},
   "source": [
    "**Example 3**: Applying lambda function to single row using Dataframe.apply()\n",
    "\n",
    "In the below example, a lambda function is applied to row starting with ‘d’ and hence square all values corresponds to it."
   ]
  },
  {
   "cell_type": "code",
   "execution_count": 3,
   "id": "f2e77389-efec-43a1-ae43-9b3294395b0a",
   "metadata": {},
   "outputs": [
    {
     "data": {
      "text/html": [
       "<div>\n",
       "<style scoped>\n",
       "    .dataframe tbody tr th:only-of-type {\n",
       "        vertical-align: middle;\n",
       "    }\n",
       "\n",
       "    .dataframe tbody tr th {\n",
       "        vertical-align: top;\n",
       "    }\n",
       "\n",
       "    .dataframe thead th {\n",
       "        text-align: right;\n",
       "    }\n",
       "</style>\n",
       "<table border=\"1\" class=\"dataframe\">\n",
       "  <thead>\n",
       "    <tr style=\"text-align: right;\">\n",
       "      <th></th>\n",
       "      <th>Field_1</th>\n",
       "      <th>Field_2</th>\n",
       "      <th>Field_3</th>\n",
       "    </tr>\n",
       "  </thead>\n",
       "  <tbody>\n",
       "    <tr>\n",
       "      <th>a</th>\n",
       "      <td>15.0</td>\n",
       "      <td>2.50</td>\n",
       "      <td>100.0</td>\n",
       "    </tr>\n",
       "    <tr>\n",
       "      <th>b</th>\n",
       "      <td>20.0</td>\n",
       "      <td>4.50</td>\n",
       "      <td>50.0</td>\n",
       "    </tr>\n",
       "    <tr>\n",
       "      <th>c</th>\n",
       "      <td>25.0</td>\n",
       "      <td>5.20</td>\n",
       "      <td>80.0</td>\n",
       "    </tr>\n",
       "    <tr>\n",
       "      <th>d</th>\n",
       "      <td>2025.0</td>\n",
       "      <td>33.64</td>\n",
       "      <td>2304.0</td>\n",
       "    </tr>\n",
       "    <tr>\n",
       "      <th>e</th>\n",
       "      <td>40.0</td>\n",
       "      <td>6.30</td>\n",
       "      <td>70.0</td>\n",
       "    </tr>\n",
       "    <tr>\n",
       "      <th>f</th>\n",
       "      <td>41.0</td>\n",
       "      <td>6.40</td>\n",
       "      <td>90.0</td>\n",
       "    </tr>\n",
       "    <tr>\n",
       "      <th>g</th>\n",
       "      <td>51.0</td>\n",
       "      <td>2.30</td>\n",
       "      <td>111.0</td>\n",
       "    </tr>\n",
       "  </tbody>\n",
       "</table>\n",
       "</div>"
      ],
      "text/plain": [
       "   Field_1  Field_2  Field_3\n",
       "a     15.0     2.50    100.0\n",
       "b     20.0     4.50     50.0\n",
       "c     25.0     5.20     80.0\n",
       "d   2025.0    33.64   2304.0\n",
       "e     40.0     6.30     70.0\n",
       "f     41.0     6.40     90.0\n",
       "g     51.0     2.30    111.0"
      ]
     },
     "execution_count": 3,
     "metadata": {},
     "output_type": "execute_result"
    }
   ],
   "source": [
    "import pandas as pd\n",
    "import numpy as np\n",
    " \n",
    "# creating and initializing a nested list\n",
    "values_list = [[15, 2.5, 100], [20, 4.5, 50], [25, 5.2, 80],\n",
    "               [45, 5.8, 48], [40, 6.3, 70], [41, 6.4, 90],\n",
    "               [51, 2.3, 111]]\n",
    " \n",
    "# creating a pandas dataframe\n",
    "df = pd.DataFrame(values_list, columns=['Field_1', 'Field_2', 'Field_3'],\n",
    "                  index=['a', 'b', 'c', 'd', 'e', 'f', 'g'])\n",
    " \n",
    " \n",
    "# Apply function numpy.square() to square\n",
    "# the values of one row only i.e. row\n",
    "# with index name 'd'\n",
    "df = df.apply(lambda x: np.square(x) if x.name == 'd' else x, axis=1)\n",
    " \n",
    " \n",
    "# printing dataframe\n",
    "df"
   ]
  },
  {
   "cell_type": "markdown",
   "id": "6aeda2ff-9f8e-4fb3-9016-4e69ea197d30",
   "metadata": {},
   "source": [
    "**Example 4**: Applying lambda function to multiple rows using Dataframe.apply()\n",
    "\n",
    "In the below example, a lambda function is applied to 3 rows starting with ‘a’, ‘e’, and ‘g’."
   ]
  },
  {
   "cell_type": "code",
   "execution_count": 4,
   "id": "8cc86c0b-f1e5-40aa-8d9e-ed17fd8e6c19",
   "metadata": {},
   "outputs": [
    {
     "data": {
      "text/html": [
       "<div>\n",
       "<style scoped>\n",
       "    .dataframe tbody tr th:only-of-type {\n",
       "        vertical-align: middle;\n",
       "    }\n",
       "\n",
       "    .dataframe tbody tr th {\n",
       "        vertical-align: top;\n",
       "    }\n",
       "\n",
       "    .dataframe thead th {\n",
       "        text-align: right;\n",
       "    }\n",
       "</style>\n",
       "<table border=\"1\" class=\"dataframe\">\n",
       "  <thead>\n",
       "    <tr style=\"text-align: right;\">\n",
       "      <th></th>\n",
       "      <th>Field_1</th>\n",
       "      <th>Field_2</th>\n",
       "      <th>Field_3</th>\n",
       "    </tr>\n",
       "  </thead>\n",
       "  <tbody>\n",
       "    <tr>\n",
       "      <th>a</th>\n",
       "      <td>225.0</td>\n",
       "      <td>6.25</td>\n",
       "      <td>10000.0</td>\n",
       "    </tr>\n",
       "    <tr>\n",
       "      <th>b</th>\n",
       "      <td>20.0</td>\n",
       "      <td>4.50</td>\n",
       "      <td>50.0</td>\n",
       "    </tr>\n",
       "    <tr>\n",
       "      <th>c</th>\n",
       "      <td>25.0</td>\n",
       "      <td>5.20</td>\n",
       "      <td>80.0</td>\n",
       "    </tr>\n",
       "    <tr>\n",
       "      <th>d</th>\n",
       "      <td>45.0</td>\n",
       "      <td>5.80</td>\n",
       "      <td>48.0</td>\n",
       "    </tr>\n",
       "    <tr>\n",
       "      <th>e</th>\n",
       "      <td>1600.0</td>\n",
       "      <td>39.69</td>\n",
       "      <td>4900.0</td>\n",
       "    </tr>\n",
       "    <tr>\n",
       "      <th>f</th>\n",
       "      <td>41.0</td>\n",
       "      <td>6.40</td>\n",
       "      <td>90.0</td>\n",
       "    </tr>\n",
       "    <tr>\n",
       "      <th>g</th>\n",
       "      <td>2601.0</td>\n",
       "      <td>5.29</td>\n",
       "      <td>12321.0</td>\n",
       "    </tr>\n",
       "  </tbody>\n",
       "</table>\n",
       "</div>"
      ],
      "text/plain": [
       "   Field_1  Field_2  Field_3\n",
       "a    225.0     6.25  10000.0\n",
       "b     20.0     4.50     50.0\n",
       "c     25.0     5.20     80.0\n",
       "d     45.0     5.80     48.0\n",
       "e   1600.0    39.69   4900.0\n",
       "f     41.0     6.40     90.0\n",
       "g   2601.0     5.29  12321.0"
      ]
     },
     "execution_count": 4,
     "metadata": {},
     "output_type": "execute_result"
    }
   ],
   "source": [
    "# importing pandas and numpylibraries\n",
    "import pandas as pd\n",
    "import numpy as np\n",
    " \n",
    "# creating and initializing a nested list\n",
    "values_list = [[15, 2.5, 100], [20, 4.5, 50], [25, 5.2, 80],\n",
    "               [45, 5.8, 48], [40, 6.3, 70], [41, 6.4, 90],\n",
    "               [51, 2.3, 111]]\n",
    " \n",
    "# creating a pandas dataframe\n",
    "df = pd.DataFrame(values_list, columns=['Field_1', 'Field_2', 'Field_3'],\n",
    "                  index=['a', 'b', 'c', 'd', 'e', 'f', 'g'])\n",
    " \n",
    " \n",
    "# Apply function numpy.square() to square\n",
    "# the values of 3 rows only i.e. with row\n",
    "# index name 'a', 'e' and 'g' only\n",
    "df = df.apply(lambda x: np.square(x) if x.name in [\n",
    "              'a', 'e', 'g'] else x, axis=1)\n",
    " \n",
    "# printing dataframe\n",
    "df"
   ]
  },
  {
   "cell_type": "markdown",
   "id": "b5afa759-ad57-4641-88f1-a7306817ec23",
   "metadata": {},
   "source": [
    "**Example 5**: Applying the lambda function simultaneously to multiple columns and rows\n",
    "\n",
    "In this example, a lambda function is applied to two rows and three columns. "
   ]
  },
  {
   "cell_type": "code",
   "execution_count": 5,
   "id": "3883e515-907f-4bf8-8197-825035036227",
   "metadata": {},
   "outputs": [
    {
     "data": {
      "text/html": [
       "<div>\n",
       "<style scoped>\n",
       "    .dataframe tbody tr th:only-of-type {\n",
       "        vertical-align: middle;\n",
       "    }\n",
       "\n",
       "    .dataframe tbody tr th {\n",
       "        vertical-align: top;\n",
       "    }\n",
       "\n",
       "    .dataframe thead th {\n",
       "        text-align: right;\n",
       "    }\n",
       "</style>\n",
       "<table border=\"1\" class=\"dataframe\">\n",
       "  <thead>\n",
       "    <tr style=\"text-align: right;\">\n",
       "      <th></th>\n",
       "      <th>Field_1</th>\n",
       "      <th>Field_2</th>\n",
       "      <th>Field_3</th>\n",
       "      <th>Product</th>\n",
       "    </tr>\n",
       "  </thead>\n",
       "  <tbody>\n",
       "    <tr>\n",
       "      <th>a</th>\n",
       "      <td>1.50</td>\n",
       "      <td>2.50</td>\n",
       "      <td>10.0</td>\n",
       "      <td>37.5000</td>\n",
       "    </tr>\n",
       "    <tr>\n",
       "      <th>b</th>\n",
       "      <td>4.00</td>\n",
       "      <td>20.25</td>\n",
       "      <td>25.0</td>\n",
       "      <td>2025.0000</td>\n",
       "    </tr>\n",
       "    <tr>\n",
       "      <th>c</th>\n",
       "      <td>2.50</td>\n",
       "      <td>5.20</td>\n",
       "      <td>8.0</td>\n",
       "      <td>104.0000</td>\n",
       "    </tr>\n",
       "    <tr>\n",
       "      <th>d</th>\n",
       "      <td>4.50</td>\n",
       "      <td>5.80</td>\n",
       "      <td>4.8</td>\n",
       "      <td>125.2800</td>\n",
       "    </tr>\n",
       "    <tr>\n",
       "      <th>e</th>\n",
       "      <td>4.00</td>\n",
       "      <td>6.30</td>\n",
       "      <td>70.0</td>\n",
       "      <td>1764.0000</td>\n",
       "    </tr>\n",
       "    <tr>\n",
       "      <th>f</th>\n",
       "      <td>16.81</td>\n",
       "      <td>40.96</td>\n",
       "      <td>81.0</td>\n",
       "      <td>55771.5456</td>\n",
       "    </tr>\n",
       "    <tr>\n",
       "      <th>g</th>\n",
       "      <td>5.10</td>\n",
       "      <td>2.30</td>\n",
       "      <td>11.1</td>\n",
       "      <td>130.2030</td>\n",
       "    </tr>\n",
       "  </tbody>\n",
       "</table>\n",
       "</div>"
      ],
      "text/plain": [
       "   Field_1  Field_2  Field_3     Product\n",
       "a     1.50     2.50     10.0     37.5000\n",
       "b     4.00    20.25     25.0   2025.0000\n",
       "c     2.50     5.20      8.0    104.0000\n",
       "d     4.50     5.80      4.8    125.2800\n",
       "e     4.00     6.30     70.0   1764.0000\n",
       "f    16.81    40.96     81.0  55771.5456\n",
       "g     5.10     2.30     11.1    130.2030"
      ]
     },
     "execution_count": 5,
     "metadata": {},
     "output_type": "execute_result"
    }
   ],
   "source": [
    "# importing pandas and numpylibraries\n",
    "import pandas as pd\n",
    "import numpy as np\n",
    " \n",
    "# creating and initializing a nested list\n",
    "values_list = [[1.5, 2.5, 10.0], [2.0, 4.5, 5.0], [2.5, 5.2, 8.0],\n",
    "               [4.5, 5.8, 4.8], [4.0, 6.3, 70], [4.1, 6.4, 9.0],\n",
    "               [5.1, 2.3, 11.1]]\n",
    " \n",
    "# creating a pandas dataframe\n",
    "df = pd.DataFrame(values_list, columns=['Field_1', 'Field_2', 'Field_3'],\n",
    "                  index=['a', 'b', 'c', 'd', 'e', 'f', 'g'])\n",
    " \n",
    " \n",
    "# Apply function numpy.square() to square\n",
    "# the values of 2 rows only i.e. with row\n",
    "# index name 'b' and 'f' only\n",
    "df = df.apply(lambda x: np.square(x) if x.name in ['b', 'f'] else x, axis=1)\n",
    " \n",
    "# Applying lambda function to find product of 3 columns\n",
    "# i.e 'Field_1', 'Field_2' and 'Field_3'\n",
    "df = df.assign(Product=lambda x: (x['Field_1'] * x['Field_2'] * x['Field_3']))\n",
    " \n",
    " \n",
    "# printing dataframe\n",
    "df"
   ]
  },
  {
   "cell_type": "markdown",
   "id": "6d2b838c-76b2-455d-a37b-2a16b6abc270",
   "metadata": {},
   "source": [
    "### zip()"
   ]
  },
  {
   "cell_type": "markdown",
   "id": "f4795544-5bce-4c6f-bdb8-1dba7b7780e4",
   "metadata": {},
   "source": [
    "I think the lists have to be the same length\n"
   ]
  },
  {
   "cell_type": "code",
   "execution_count": null,
   "id": "8ec6c0da-ca7f-4466-abec-a010cd64ed64",
   "metadata": {},
   "outputs": [],
   "source": [
    "zip(list1, list2)"
   ]
  },
  {
   "cell_type": "code",
   "execution_count": null,
   "id": "213e959f-5d89-4238-a5d0-f33758ebee5a",
   "metadata": {},
   "outputs": [],
   "source": [
    "list(zip(list1, list2)))"
   ]
  },
  {
   "cell_type": "markdown",
   "id": "95ec7404-28d8-40c7-8895-e248a5172527",
   "metadata": {},
   "source": [
    "### iterrows()"
   ]
  },
  {
   "cell_type": "code",
   "execution_count": 3,
   "id": "177d0ad3-8593-4cd2-a107-b846a9bb4f60",
   "metadata": {},
   "outputs": [
    {
     "name": "stdout",
     "output_type": "stream",
     "text": [
      "0\n",
      "Sally\n",
      "1\n",
      "Mary\n",
      "2\n",
      "John\n"
     ]
    }
   ],
   "source": [
    "import pandas as pd\n",
    "\n",
    "data = {\n",
    "  \"firstname\": [\"Sally\", \"Mary\", \"John\"],\n",
    "  \"age\": [50, 40, 30]\n",
    "}\n",
    "\n",
    "df = pd.DataFrame(data)\n",
    "\n",
    "for index, row in df.iterrows():\n",
    "    print(index)\n",
    "    print(row[\"firstname\"]) "
   ]
  },
  {
   "cell_type": "markdown",
   "id": "9f81c586-f248-4c4a-aa99-f485199f2685",
   "metadata": {},
   "source": [
    "### pd.Series.apply() Method\n"
   ]
  },
  {
   "cell_type": "markdown",
   "id": "32bacbe1-66e4-49e7-924c-3bf7faece173",
   "metadata": {},
   "source": [
    "First you defind a function. \n",
    "\n",
    "Then you can use the pd.Series.apply() method to apply the function of a column of a dataframe. "
   ]
  },
  {
   "cell_type": "code",
   "execution_count": null,
   "id": "e2444e61-691b-4761-97fb-492e2071bffb",
   "metadata": {},
   "outputs": [],
   "source": [
    "# Define the function\n",
    "\n",
    "def txt_rp(x):\n",
    "\n",
    "    for punc in string.punctuation:\n",
    "        x = x.replace(punc, '')    \n",
    "\n",
    "    return x\n",
    "\n",
    "# Use the apply method to apply it to a column of a DataFrame\n",
    "\n",
    "df['clean_text'] = df['text'].apply(txt_rp)"
   ]
  },
  {
   "cell_type": "markdown",
   "id": "2ffe6995-b472-464d-9356-dca6fcc83d2a",
   "metadata": {
    "tags": []
   },
   "source": [
    "### How to add another row to a DataFrame"
   ]
  },
  {
   "cell_type": "markdown",
   "id": "ca2d2a27-5a81-445f-963c-4f391c19fad4",
   "metadata": {},
   "source": [
    "Below are two ways of adding new rows to a DataFrame"
   ]
  },
  {
   "cell_type": "code",
   "execution_count": null,
   "id": "dda7eb4c-e17c-4099-9059-8390279a7f72",
   "metadata": {},
   "outputs": [],
   "source": [
    "#add row to end of DataFrame\n",
    "\n",
    "df.loc[len(df.index)] = [value1, value2, value3, ...]"
   ]
  },
  {
   "cell_type": "code",
   "execution_count": null,
   "id": "8bf12166-2437-42e1-8a05-567b9bf2ea83",
   "metadata": {},
   "outputs": [],
   "source": [
    "#append rows of df2 to end of existing DataFrame\n",
    "\n",
    "df = df.append(df2, ignore_index = True)"
   ]
  },
  {
   "cell_type": "markdown",
   "id": "d0180ab5-8856-40a0-aa82-59bebccca470",
   "metadata": {},
   "source": [
    "### How To Delete Rows In A DataFrame"
   ]
  },
  {
   "cell_type": "code",
   "execution_count": null,
   "id": "23320bd9-2798-4c3a-a149-a6e3963a8a55",
   "metadata": {},
   "outputs": [],
   "source": []
  }
 ],
 "metadata": {
  "kernelspec": {
   "display_name": "Python 3 (ipykernel)",
   "language": "python",
   "name": "python3"
  },
  "language_info": {
   "codemirror_mode": {
    "name": "ipython",
    "version": 3
   },
   "file_extension": ".py",
   "mimetype": "text/x-python",
   "name": "python",
   "nbconvert_exporter": "python",
   "pygments_lexer": "ipython3",
   "version": "3.8.12"
  }
 },
 "nbformat": 4,
 "nbformat_minor": 5
}
