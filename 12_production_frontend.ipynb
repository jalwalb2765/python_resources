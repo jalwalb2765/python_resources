{
 "cells": [
  {
   "cell_type": "markdown",
   "id": "ba3cf580-6266-4401-8df7-0df94c3c5731",
   "metadata": {},
   "source": [
    "## FastApi"
   ]
  },
  {
   "cell_type": "markdown",
   "id": "cbcffd22-557c-471f-8a12-82b05227e7a0",
   "metadata": {},
   "source": [
    "👉 High performance python framework\n",
    "\n",
    "👉 Easy to learn, fast to code\n",
    "\n",
    "👉 Automatically generated documentation allowing to test the API endpoints easily 🎉\n",
    "\n",
    "https://fastapi.tiangolo.com/"
   ]
  },
  {
   "cell_type": "code",
   "execution_count": null,
   "id": "4c684de3-edae-4e01-a1ff-cb41694a594b",
   "metadata": {},
   "outputs": [],
   "source": [
    "!pip install fastapi"
   ]
  },
  {
   "cell_type": "markdown",
   "id": "9a514c24-9fed-45bb-b9e4-ac68b81af2ee",
   "metadata": {},
   "source": [
    "### Root entry point"
   ]
  },
  {
   "cell_type": "markdown",
   "id": "0ce1c6b5-fc08-4e61-bc9c-7cc25c813ba7",
   "metadata": {},
   "source": [
    "FastAPI uses python decorators in order to link the routes that the developers will query to the code of the endpoints. The code of the decorated function will be called whenever a HTTP request is received. The response will be returned as a JSON object to the code querying the API."
   ]
  },
  {
   "cell_type": "code",
   "execution_count": null,
   "id": "246b4ccd-643d-4b6f-806d-ccef0ad048e1",
   "metadata": {},
   "outputs": [],
   "source": [
    "from fastapi import FastAPI\n",
    "\n",
    "app = FastAPI()\n",
    "\n",
    "# define a root `/` endpoint\n",
    "@app.get(\"/\")\n",
    "def index():\n",
    "    return {\"ok\": True}"
   ]
  },
  {
   "cell_type": "markdown",
   "id": "60ba9ff0-9eda-4dee-87b8-70f90d8c28b6",
   "metadata": {},
   "source": [
    "What if we run the code?\n",
    "\n",
    "python -m simple\n",
    "\n",
    "Nothing happens... 🤔\n",
    "\n",
    "We need to use a web server in order to listen to the web requests for the API and call the code of the corresponding endpoint !\n",
    "\n",
    "👉 We will use Uvicorn"
   ]
  },
  {
   "cell_type": "markdown",
   "id": "ec5acd14-7104-45db-be85-98815dac67c3",
   "metadata": {},
   "source": [
    "## Uvicorn"
   ]
  },
  {
   "cell_type": "markdown",
   "id": "966a9ec7-710c-457d-9ce8-74a655eff9e6",
   "metadata": {},
   "source": [
    "👉 Lightning fast web server for python\n",
    "\n",
    "👉 Uvicorn listens to all the HTTP requests and calls the code decorated for the corresponding FastAPI endpoints.\n",
    "\n",
    "https://www.uvicorn.org/"
   ]
  },
  {
   "cell_type": "code",
   "execution_count": null,
   "id": "89554f20-b9a0-41c1-b0c0-24469e3ed347",
   "metadata": {},
   "outputs": [],
   "source": [
    "!pip install uvicorn"
   ]
  },
  {
   "cell_type": "markdown",
   "id": "b3dc1537-a6f5-4d2d-8ef4-cf73ff5eaf1a",
   "metadata": {},
   "source": [
    "### Let's run our API using the web server\n",
    "\n",
    "Uvicorn requires as parameters the name of the python file to run (here simple.py) as well as the name of the variable inside of the file containing the instance of the FastAPI app (here the variable is called app, hence the supplied parameter simple:app)."
   ]
  },
  {
   "cell_type": "code",
   "execution_count": null,
   "id": "243dd304-c4eb-442f-bb17-4a1b7ff49f17",
   "metadata": {},
   "outputs": [],
   "source": [
    "!uvicorn simple:app --reload"
   ]
  },
  {
   "cell_type": "markdown",
   "id": "ebac184a-91b0-4c0d-b3d3-349bf685a712",
   "metadata": {},
   "source": [
    "Now we can browse to the root page of the API: http://localhost:8000/"
   ]
  },
  {
   "cell_type": "markdown",
   "id": "40a70237-1b1b-49eb-8d91-9eff71d63a10",
   "metadata": {},
   "source": [
    "### Documentation and tests"
   ]
  },
  {
   "cell_type": "markdown",
   "id": "18eae533-0007-4c46-b89c-1dbe17b00938",
   "metadata": {},
   "source": [
    "FastAPI provides automatically generated documentation allowing developers to simplify their integration of the API. The endpoints of the API can be easily tested through dedicated pages 🎉\n",
    "\n",
    "Swagger documentation and tests:\n",
    "\n",
    "    http://localhost:8000/docs\n",
    "\n",
    "Redoc documentation:\n",
    "\n",
    "    http://localhost:8000/redoc\n",
    "\n",
    "👉 The /docs endpoint is powered by Swagger and comes in very handy in order to test our API and verify that everything is working correctly. It is also very useful for developers wanting to test our API"
   ]
  },
  {
   "cell_type": "markdown",
   "id": "f30ed671-3a57-40b4-978e-845572326e16",
   "metadata": {},
   "source": [
    "### Prediction API use case"
   ]
  },
  {
   "cell_type": "markdown",
   "id": "311a048c-de9c-4119-8c8a-d0bd48f6a1e5",
   "metadata": {},
   "source": [
    "#### Ask for prediction"
   ]
  },
  {
   "cell_type": "markdown",
   "id": "f89ffa6b-dd5d-42f4-899f-d4b822102c2c",
   "metadata": {},
   "source": [
    "We want to build an API to ask for a prediction. For example, how long (in minutes) is the queue at the entry of the Louvre museum for a given week day and time. To do so, our API should be able to accept a HTTP request with params:"
   ]
  },
  {
   "cell_type": "code",
   "execution_count": null,
   "id": "ea5b2c2b-a93d-47c6-8e42-9f464c0e5980",
   "metadata": {},
   "outputs": [],
   "source": [
    "url = 'http://localhost:8000/predict'\n",
    "params = {\n",
    "    'day_of_week': 0, # 0 for Sunday, 1 for Monday, ... \n",
    "    'time': '14:00'\n",
    "}\n",
    "response = requests.get(url, params=params)\n",
    "response.json()\n",
    "#=> {wait: 64}"
   ]
  },
  {
   "cell_type": "markdown",
   "id": "115c4adf-8bfb-4280-8f88-96ac86549609",
   "metadata": {},
   "source": [
    "The requests.get(url, params=params) results in the HTTP request:\n",
    "\n",
    "👉 http://localhost:8000/predict?day_of_week=0&time=14:00\n",
    "\n",
    "ℹ️ ?day_of_week=0&time=14:00 is called a query string."
   ]
  },
  {
   "cell_type": "markdown",
   "id": "debd18c7-67cc-40b6-9f39-3d82f7ae644f",
   "metadata": {},
   "source": [
    "#### /predict endpoint"
   ]
  },
  {
   "cell_type": "markdown",
   "id": "71b75168-b914-44b1-b78a-6ed0d7c057d1",
   "metadata": {},
   "source": [
    "Let's add a /predict endpoint to our API"
   ]
  },
  {
   "cell_type": "code",
   "execution_count": null,
   "id": "0e539c7f-f48b-46df-ab27-56278e4bf8c1",
   "metadata": {},
   "outputs": [],
   "source": [
    "@app.get(\"/predict\")\n",
    "def predict():\n",
    "    return {'wait': 64}"
   ]
  },
  {
   "cell_type": "markdown",
   "id": "62807bbd-4d72-4890-825a-3a30404065ab",
   "metadata": {},
   "source": [
    "❓What if you want to pass parameters to the endpoint?\n",
    "\n",
    "FastAPI provides a simple way to do so. You just need need to define the parameters you want to pass as the function parameters."
   ]
  },
  {
   "cell_type": "code",
   "execution_count": null,
   "id": "b2183e9c-4ca7-4f77-911b-a3b83828c29f",
   "metadata": {},
   "outputs": [],
   "source": [
    "@app.get(\"/predict\")\n",
    "def predict(day_of_week, time):\n",
    "    # compute `wait_prediction` from `day_of_week` and `time`\n",
    "    return {'wait': wait_prediction}"
   ]
  },
  {
   "cell_type": "markdown",
   "id": "37c747c7-8737-476f-b06c-7be5f24076f7",
   "metadata": {},
   "source": [
    "⚠️ Query parameters are all str so you will need to deal with their conversions into the suitable data types!"
   ]
  },
  {
   "cell_type": "markdown",
   "id": "59820b45-65b3-451a-bf81-7fb5d3cf9db0",
   "metadata": {},
   "source": [
    "## Docker"
   ]
  },
  {
   "cell_type": "markdown",
   "id": "6db17022-c513-4f18-bd09-f7fa719d0090",
   "metadata": {},
   "source": [
    "👉 De facto standard for handling containers in production\n",
    "\n",
    "👉 Allows to create matching environments for development, testing, QA, and production\n",
    "\n",
    "👉 Leverages OS-level virtualization"
   ]
  },
  {
   "cell_type": "markdown",
   "id": "d7702bb9-88f5-4486-a979-b426e7c3b03e",
   "metadata": {},
   "source": [
    "### Create a docker image"
   ]
  },
  {
   "cell_type": "markdown",
   "id": "445ec511-6a30-42cc-a8da-0370682ba83e",
   "metadata": {},
   "source": [
    "Below are the commands that should be included in a docker file."
   ]
  },
  {
   "cell_type": "markdown",
   "id": "35abfaac-4565-464b-9197-12fe0516297f",
   "metadata": {},
   "source": [
    "#### FROM directive"
   ]
  },
  {
   "cell_type": "markdown",
   "id": "5004152c-5303-4880-9917-5faf90c35a52",
   "metadata": {},
   "source": [
    "The FROM directive allows to select the base layer of our image. The base layer or image can range from a naked operating system to a fully configured platform.\n",
    "\n",
    "Docker Hub hosts the base images maintained by the community. \n",
    "https://hub.docker.com/\n",
    "\n",
    "It is the GitHub of Docker images. Let's search for python images.\n",
    "https://hub.docker.com/_/python"
   ]
  },
  {
   "cell_type": "code",
   "execution_count": null,
   "id": "645b8e5b-f23b-4ca4-bfd0-3f015d51c3f7",
   "metadata": {},
   "outputs": [],
   "source": [
    "FROM python:3.8.6-buster"
   ]
  },
  {
   "cell_type": "markdown",
   "id": "a476867d-ab4b-4d0f-8ead-93b08d0e99a8",
   "metadata": {
    "tags": []
   },
   "source": [
    "#### COPY directive\n",
    "\n",
    "Once the base layer of the image is specified, the COPY directive allows to fill the content of the image."
   ]
  },
  {
   "cell_type": "code",
   "execution_count": null,
   "id": "aacc052a-a72f-449c-80e2-3da011b1420c",
   "metadata": {},
   "outputs": [],
   "source": [
    "COPY app /app\n",
    "COPY requirements.txt /requirements.txt"
   ]
  },
  {
   "cell_type": "markdown",
   "id": "75526449-10f3-476f-8475-235e314b38f2",
   "metadata": {},
   "source": [
    "requirements.txt:"
   ]
  },
  {
   "cell_type": "code",
   "execution_count": null,
   "id": "0ae1c40e-136a-49a0-a52b-ffb062674b67",
   "metadata": {},
   "outputs": [],
   "source": [
    "fastapi\n",
    "uvicorn"
   ]
  },
  {
   "cell_type": "markdown",
   "id": "3cd9eb3c-bdd0-4619-a7a8-9a29a860d83e",
   "metadata": {},
   "source": [
    "#### RUN directive\n",
    "\n",
    "The RUN directive allows to specify commands that will be executed inside of the image. This might come in handy in order to install the requirements of our packages."
   ]
  },
  {
   "cell_type": "code",
   "execution_count": null,
   "id": "664f6ccf-dd9e-47d3-996b-a2fa91a756f7",
   "metadata": {},
   "outputs": [],
   "source": [
    "RUN pip install --upgrade pip\n",
    "RUN pip install -r requirements.txt"
   ]
  },
  {
   "cell_type": "markdown",
   "id": "3830c1db-2760-425a-b0e8-07da74eaea90",
   "metadata": {},
   "source": [
    "#### CMD directive\n",
    "\n",
    "The CMD directive is the last directive of the Dockerfile. It allows to specify which command the container should run once it has started."
   ]
  },
  {
   "cell_type": "code",
   "execution_count": null,
   "id": "0a91a7dc-1fed-493c-851e-758544cd5206",
   "metadata": {},
   "outputs": [],
   "source": [
    "CMD uvicorn app.simple:app --host 0.0.0.0"
   ]
  },
  {
   "cell_type": "markdown",
   "id": "9fc1416e-e099-4671-9aeb-7b2e0521aeb1",
   "metadata": {},
   "source": [
    "⚠️ The --host 0.0.0.0 uvicorn parameter tells uvicorn to listen to all the network connexions inside of the container. Without this parameter you will not be able to contact your API through uvicorn."
   ]
  },
  {
   "cell_type": "markdown",
   "id": "a4e21223-0f0c-49a6-9609-cf10bef7ac45",
   "metadata": {},
   "source": [
    "#### Build our new image\n",
    "\n",
    "👉 based on the Dockerfile placed in the current directory .\n",
    "\n",
    "👉 name it api -t api"
   ]
  },
  {
   "cell_type": "code",
   "execution_count": null,
   "id": "09264f3a-8dbb-43bb-8291-87ae564f97ba",
   "metadata": {},
   "outputs": [],
   "source": [
    "docker build -t api ."
   ]
  },
  {
   "cell_type": "markdown",
   "id": "dd1df741-92fc-4ae2-895b-8950696cbe4a",
   "metadata": {},
   "source": [
    "List the docker images on the machine"
   ]
  },
  {
   "cell_type": "code",
   "execution_count": null,
   "id": "81fe19e2-0e8e-4762-88ea-7eb4f8664002",
   "metadata": {},
   "outputs": [],
   "source": [
    "docker images"
   ]
  },
  {
   "cell_type": "markdown",
   "id": "c33e433a-8895-4ebb-88b3-4ec40ab77506",
   "metadata": {},
   "source": [
    "#### Run it interactively\n",
    "\n",
    "Let's run our image interactively '-it' and ask it to run a shell command 'sh'"
   ]
  },
  {
   "cell_type": "code",
   "execution_count": null,
   "id": "0dc71ac7-145f-44bd-bcc7-ea8840aeebf2",
   "metadata": {},
   "outputs": [],
   "source": [
    "docker run -it api sh"
   ]
  },
  {
   "cell_type": "markdown",
   "id": "90717ccd-c809-4b9f-9036-79c1683f36dc",
   "metadata": {},
   "source": [
    "Let's see how our app is doing"
   ]
  },
  {
   "cell_type": "code",
   "execution_count": null,
   "id": "6fcf145f-96f4-498d-8c36-3e97e49ef908",
   "metadata": {},
   "outputs": [],
   "source": [
    "python --version\n",
    "ls -la\n",
    "cat app/simple.py\n",
    "cat requirements.txt\n",
    "pip freeze\n",
    "exit"
   ]
  },
  {
   "cell_type": "markdown",
   "id": "8b1fabb2-5dc4-4f6e-98ae-f7881efc7e8c",
   "metadata": {},
   "source": [
    "#### Run the container"
   ]
  },
  {
   "cell_type": "code",
   "execution_count": null,
   "id": "9f5b8def-d00f-4566-8cff-6ebf3bb98c9d",
   "metadata": {},
   "outputs": [],
   "source": [
    "docker run -p 8080:8000 api  # ⚠️ beware to the order of these parameters or you will get a weird error"
   ]
  },
  {
   "cell_type": "markdown",
   "id": "078fae73-2b38-4bae-a545-fe62a04a38ac",
   "metadata": {},
   "source": [
    "👉 Parameters:\n",
    "\n",
    "    '-p 8080:8000' maps the 8080 port on your machine to the 8000 port inside of the container\n",
    "\n",
    "    Why 8080? The value does not matter as long as it is within the [0, 65535] range and as long as no application on your machine is already using it\n",
    "\n",
    "    Why 8000? It is the default port used by Uvicorn (you may change it with the --port 1234 parameter)"
   ]
  },
  {
   "cell_type": "markdown",
   "id": "21f27685-170a-41a5-aa82-787707fa1cd4",
   "metadata": {},
   "source": [
    "#### Connect to our API"
   ]
  },
  {
   "cell_type": "markdown",
   "id": "65ce971e-750f-480f-b597-b4fc57d3ea11",
   "metadata": {},
   "source": [
    "http://localhost:8080/"
   ]
  },
  {
   "cell_type": "markdown",
   "id": "9d41a717-062b-4b26-a822-18389b2e6a83",
   "metadata": {},
   "source": [
    "### How to stop a container"
   ]
  },
  {
   "cell_type": "markdown",
   "id": "821582ac-4432-4fd3-8b54-efa42bbbcfff",
   "metadata": {},
   "source": [
    "#### List the running containers"
   ]
  },
  {
   "cell_type": "code",
   "execution_count": null,
   "id": "aceedb81-7fe4-49fb-9441-62d4cc14554c",
   "metadata": {},
   "outputs": [],
   "source": [
    "docker ps"
   ]
  },
  {
   "cell_type": "markdown",
   "id": "8657d452-e342-4e8c-ad65-b6194c392070",
   "metadata": {},
   "source": [
    "#### Stop the image"
   ]
  },
  {
   "cell_type": "markdown",
   "id": "b440feb6-f4ca-457b-9b31-edde77ddbc26",
   "metadata": {},
   "source": [
    "👉 use the correct CONTAINER ID"
   ]
  },
  {
   "cell_type": "code",
   "execution_count": null,
   "id": "1e43f92c-f434-47b0-8c9a-6ea9d85750be",
   "metadata": {},
   "outputs": [],
   "source": [
    "docker stop 152e5b79177b"
   ]
  },
  {
   "cell_type": "markdown",
   "id": "f7e45230-aa07-4bc1-ac42-e6fad1317259",
   "metadata": {},
   "source": [
    "#### If you are in a hurry"
   ]
  },
  {
   "cell_type": "markdown",
   "id": "b7dae0d8-56e3-423b-a562-afdb47233e75",
   "metadata": {},
   "source": [
    "👉 use with caution, only if the image refuses to stop"
   ]
  },
  {
   "cell_type": "code",
   "execution_count": null,
   "id": "e399c92b-ff74-4627-abf2-a24be099ca03",
   "metadata": {},
   "outputs": [],
   "source": [
    "docker kill 152e5b79177b"
   ]
  },
  {
   "cell_type": "markdown",
   "id": "0e1ed8e8-7b51-4732-9852-7aaedc42f8a9",
   "metadata": {},
   "source": [
    "## Container Registry"
   ]
  },
  {
   "cell_type": "markdown",
   "id": "b1112f08-36d1-4b82-8016-063b067e6ccd",
   "metadata": {},
   "source": [
    "Container Registry is the Google service allowing us to store Docker images in the cloud.\n",
    "\n",
    "It is similar to GitHub which stores our git repositories in the cloud, except for the lack of a dedicated user interface and of additional services such as forks and pull requests.\n",
    "\n",
    "The goal of Container Registry is to act as a warehouse. Whenever we are going to ask Cloud Run or Kubernetes Engine to create a new instance of our code, they will fetch the image we want them to use from Container Registry. Then they will instantiate the image as one or more containers serving our code."
   ]
  },
  {
   "cell_type": "markdown",
   "id": "7516ff01-75c5-480f-bbb7-d96ada5f216b",
   "metadata": {},
   "source": [
    "### Parameters"
   ]
  },
  {
   "cell_type": "markdown",
   "id": "1a0ed694-99f4-4ec0-9c3d-7fe90cb1339b",
   "metadata": {},
   "source": [
    "In order to run the commands allowing us to push our image to Container Registry, we first need to define:\n",
    "\n",
    "👉 the **GCP project identifier** of the project in which we will store our image\n",
    "\n",
    "👉 the **docker image name** for our image, which will identify our image and will be visible in Container Registry\n",
    "\n",
    "👉 the **GCP multi-region** and **GCP region** in which we want our image to be stored"
   ]
  },
  {
   "cell_type": "markdown",
   "id": "c5536696-c71a-49a0-a5a4-20665ce7e82b",
   "metadata": {},
   "source": [
    "### GCP project identifier"
   ]
  },
  {
   "cell_type": "markdown",
   "id": "2ddada8e-4bc3-4113-b4f9-4883d5bb436a",
   "metadata": {},
   "source": [
    "You may retrieve your project id from the Google Cloud Console or through the command line :"
   ]
  },
  {
   "cell_type": "code",
   "execution_count": null,
   "id": "75ece333-1afd-4432-85ad-fc9bd9ec77e1",
   "metadata": {},
   "outputs": [],
   "source": [
    "gcloud projects list"
   ]
  },
  {
   "cell_type": "markdown",
   "id": "b06db665-5418-4ba5-8def-f89d737098cf",
   "metadata": {},
   "source": [
    "Once we have our project id, let's assign it to an environment variable that we will use in the next few commands."
   ]
  },
  {
   "cell_type": "code",
   "execution_count": null,
   "id": "6eb5bae1-89b8-4312-a452-f0d4bf152180",
   "metadata": {},
   "outputs": [],
   "source": [
    "export GCP_PROJECT_ID=\"replace-me-with-your-project-id\""
   ]
  },
  {
   "cell_type": "markdown",
   "id": "05cd7262-dd48-45dd-9a82-4ff8101492ed",
   "metadata": {},
   "source": [
    "👉 make sure that the environment variable is correctly defined\n",
    "\n",
    "Note that these variables will only work in the terminal session in which they are defined. "
   ]
  },
  {
   "cell_type": "code",
   "execution_count": null,
   "id": "8b7af749-d57f-4f10-831e-c804c38e3c2f",
   "metadata": {},
   "outputs": [],
   "source": [
    "echo $GCP_PROJECT_ID"
   ]
  },
  {
   "cell_type": "markdown",
   "id": "f87b2c66-7779-499b-b0fd-66c9e3c545e0",
   "metadata": {},
   "source": [
    "### Docker image name"
   ]
  },
  {
   "cell_type": "markdown",
   "id": "a1540349-8d3f-4e44-a782-473d2fadd5c8",
   "metadata": {},
   "source": [
    "Now we need to define a name for the image that will be stored in Container Registry.\n",
    "\n",
    "You may use whatever name seems appropriate. We strongly advise to use a kebab case identifier."
   ]
  },
  {
   "cell_type": "code",
   "execution_count": null,
   "id": "16095144-b537-4a38-a89a-b79b69576452",
   "metadata": {},
   "outputs": [],
   "source": [
    "export DOCKER_IMAGE_NAME=\"name-of-my-image-in-kebab-case\"\n",
    "\n",
    "echo $DOCKER_IMAGE_NAME"
   ]
  },
  {
   "cell_type": "markdown",
   "id": "7ca52db4-83fe-415d-a5da-cabe77ca60f2",
   "metadata": {},
   "source": [
    "### GCP multi-region"
   ]
  },
  {
   "cell_type": "markdown",
   "id": "15b70457-7e0c-4026-8eb2-d39fe6b6f182",
   "metadata": {},
   "source": [
    "Finally, we need to define in which area of the world we want our image to be stored. That is, the area of the world in which we will want to deploy our code.\n",
    "\n",
    "The locations that we use correspond to GCP multi-regions and need to be defined in the name of the Docker image that we will push to Container Registry.\n",
    "\n",
    "https://cloud.google.com/storage/docs/locations#location-mr\n",
    "\n",
    "https://cloud.google.com/container-registry/docs/pushing-and-pulling#tag_the_local_image_with_the_registry_name\n",
    "\n",
    "Currently, the available multi-regions are:\n",
    "\n",
    "👉 us.gcr.io for images stored in the United States\n",
    "\n",
    "👉 eu.gcr.io for images stored in the European Union\n",
    "\n",
    "👉 asia.gcr.io for images stored in Asia"
   ]
  },
  {
   "cell_type": "code",
   "execution_count": null,
   "id": "efddc15d-135a-470c-8731-a9b0149c4853",
   "metadata": {},
   "outputs": [],
   "source": [
    "export GCR_MULTI_REGION=\"eu.gcr.io\"  # replace with the appropriate multi-region\n",
    "\n",
    "echo $GCR_MULTI_REGION"
   ]
  },
  {
   "cell_type": "markdown",
   "id": "bfb1443c-e2d5-4858-9978-4e614a36337d",
   "metadata": {},
   "source": [
    "### GCP region"
   ]
  },
  {
   "cell_type": "markdown",
   "id": "a20caa9b-24f3-42f7-89f9-aba0534440bc",
   "metadata": {},
   "source": [
    "The region in which our code will be deployed should be coherent with the multi-region in which our image is stored.\n",
    "\n",
    "If a region is currently configured for the project, it will be listed (as a zone) using :"
   ]
  },
  {
   "cell_type": "code",
   "execution_count": null,
   "id": "a79fd3e3-d199-489f-84d7-0968048d2da0",
   "metadata": {},
   "outputs": [],
   "source": [
    "gcloud config list"
   ]
  },
  {
   "cell_type": "markdown",
   "id": "214daba0-7f69-47a3-99a9-a92ad3db1643",
   "metadata": {},
   "source": [
    "If not, pick a region in the list of available regions. The identifiers for the regions are similar to the ones of the zones but without the -a, -b and -c suffixes.\n",
    "\n",
    "https://cloud.google.com/compute/docs/regions-zones#available\n",
    "\n",
    "Now let's create an environment variable for our region:"
   ]
  },
  {
   "cell_type": "code",
   "execution_count": null,
   "id": "e9aec9f9-24a0-4fa5-ace3-30bbdf5bbd89",
   "metadata": {},
   "outputs": [],
   "source": [
    "export GCR_REGION=\"europe-west1\"  # replace with the appropriate region\n",
    "\n",
    "echo $GCR_REGION"
   ]
  },
  {
   "cell_type": "markdown",
   "id": "fee97b40-4687-448d-8003-493efe1e52e0",
   "metadata": {},
   "source": [
    "### Updating the Dockerfile for GCR"
   ]
  },
  {
   "cell_type": "markdown",
   "id": "02b4d4e0-60f5-4141-9ea2-a8b1cd389c2a",
   "metadata": {},
   "source": [
    "⚠️ Remember that Uvicorn starts by default on port 8000 ? Well Google Cloud Run requires that the servers running inside of its containers run on a very specific port defined by the $PORT environment variable. This allows GCR to monitor the code and restart the container if the server crashes.\n",
    "\n",
    "👉 In order to do that, we need to update our image so that Uvicorn listens to the $PORT port using the --port parameter"
   ]
  },
  {
   "cell_type": "code",
   "execution_count": null,
   "id": "73d4f7ed-5fbf-4950-a272-37ecc9facb59",
   "metadata": {},
   "outputs": [],
   "source": [
    "FROM python:3.8.6-buster\n",
    "\n",
    "COPY api /api\n",
    "COPY project /project\n",
    "COPY model.joblib /model.joblib\n",
    "COPY requirements.txt /requirements.txt\n",
    "\n",
    "RUN pip install --upgrade pip\n",
    "RUN pip install -r requirements.txt\n",
    "\n",
    "CMD uvicorn api.simple:app --host 0.0.0.0 --port $PORT"
   ]
  },
  {
   "cell_type": "markdown",
   "id": "6fb7c68a-b2af-4b7d-9ccc-484480d19c1c",
   "metadata": {},
   "source": [
    "### Build our image for Container Registry"
   ]
  },
  {
   "cell_type": "markdown",
   "id": "d93dba6b-9ac4-4c4b-8bb9-a2054a891128",
   "metadata": {},
   "source": [
    "Once we have updated the Dockerfile in order to match the $PORT used by Cloud Run, we can build our image one last time:"
   ]
  },
  {
   "cell_type": "code",
   "execution_count": null,
   "id": "620b90b6-d17c-43bb-850f-da5c75cae00c",
   "metadata": {},
   "outputs": [],
   "source": [
    "docker build -t $GCR_MULTI_REGION/$GCP_PROJECT_ID/$DOCKER_IMAGE_NAME ."
   ]
  },
  {
   "cell_type": "markdown",
   "id": "fb862f52-3633-46b0-b234-8e161a3463ae",
   "metadata": {},
   "source": [
    "We want to make sure that our modifications are working correctly before pushing our image. But in order for our Dockerfile to work correctly, we need to define the $PORT environment variable ourselves by using -e PORT=8000 :"
   ]
  },
  {
   "cell_type": "code",
   "execution_count": null,
   "id": "57786e36-1227-4815-bb60-403c73221c8c",
   "metadata": {},
   "outputs": [],
   "source": [
    "docker run -e PORT=8000 -p 8080:8000 $GCR_MULTI_REGION/$GCP_PROJECT_ID/$DOCKER_IMAGE_NAME"
   ]
  },
  {
   "cell_type": "markdown",
   "id": "21b2c509-2753-4660-a9aa-ff63fcedc1fa",
   "metadata": {},
   "source": [
    "👉 The sooner you detect an error in the code or in the configuration of the docker project, the more time you gain.\n",
    "\n",
    "When we test this new image locally, the -e PORT=8000 parameter allows us to define the $PORT environment variable that is now expected by uvicorn in the CMD directive of the Dockerfile.\n",
    "\n",
    "👉 Let's verify that everything is ok on http://localhost:8080/"
   ]
  },
  {
   "cell_type": "markdown",
   "id": "10080274-e593-4d22-abc1-02d8e108fc30",
   "metadata": {},
   "source": [
    "### Push our image to Container Registry"
   ]
  },
  {
   "cell_type": "markdown",
   "id": "29dd6068-c30e-4117-a11d-2ff0d3624825",
   "metadata": {},
   "source": [
    "Finally, we can push the Container Registry specific image to Container Registry:"
   ]
  },
  {
   "cell_type": "code",
   "execution_count": null,
   "id": "8c62f192-f145-42e3-927f-00e28813bd64",
   "metadata": {},
   "outputs": [],
   "source": [
    "docker push $GCR_MULTI_REGION/$GCP_PROJECT_ID/$DOCKER_IMAGE_NAME"
   ]
  },
  {
   "cell_type": "markdown",
   "id": "ae51d30b-c135-42c7-a6b9-7b54a2b1a4f0",
   "metadata": {},
   "source": [
    "## Cloud Run"
   ]
  },
  {
   "cell_type": "markdown",
   "id": "5abe3e7d-508f-4ea7-83f2-208b76fbe64c",
   "metadata": {},
   "source": [
    "Cloud Run is the Google service dedicated to serving Docker images."
   ]
  },
  {
   "cell_type": "markdown",
   "id": "6f87812a-c572-4e60-8a10-fe3ee9833fc4",
   "metadata": {},
   "source": [
    "### Deploy our image to Cloud Run"
   ]
  },
  {
   "cell_type": "markdown",
   "id": "2658f9ee-3384-406e-808a-43cd3d438fde",
   "metadata": {},
   "source": [
    "Once our image is stored on Container Registry, deploying our code using Cloud Run is easy :"
   ]
  },
  {
   "cell_type": "code",
   "execution_count": null,
   "id": "c68d686a-f334-40ae-a0eb-15fb767eb487",
   "metadata": {},
   "outputs": [],
   "source": [
    "gcloud run deploy --image $GCR_MULTI_REGION/$GCP_PROJECT_ID/$DOCKER_IMAGE_NAME --platform managed --region $GCR_REGION"
   ]
  },
  {
   "cell_type": "markdown",
   "id": "b301f6a6-7371-4448-ba00-587f5c5213f6",
   "metadata": {},
   "source": [
    "Or you can do it online"
   ]
  },
  {
   "cell_type": "markdown",
   "id": "92c8ec9d-485f-42b9-a8a5-c4e3e9f1a257",
   "metadata": {},
   "source": [
    "## Streamlit"
   ]
  },
  {
   "cell_type": "markdown",
   "id": "aaea20b5-dd1e-446a-ad4b-3e2a64c3dae9",
   "metadata": {},
   "source": [
    "Streamlit is a data science oriented application framework\n",
    "\n",
    "https://www.streamlit.io/\n",
    "\n",
    "Its goal is to enable data scientists to release applications without requiring the assistance of a development team\n",
    "\n",
    "Streamlit allows to build an app making predictions using a trained model, with very few lines of code handling the user interface and controls, and almost no design efforts\n",
    "\n",
    "**How does it work?**\n",
    "\n",
    "Streamlit interprets the code of the app from top to bottom. Every elements encountered in the main script file are displayed in the interface one after the other\n",
    "\n",
    "The elements may be simple variables (strings containing text or markdown), objects (dataframes are represented as tables), or more complex user controls (actions or inputs), charts, maps or third party graphs (matplotlib, plotly, etc)\n",
    "\n",
    "Streamlit draws the output live in the browser, as a notebook would\n"
   ]
  },
  {
   "cell_type": "code",
   "execution_count": null,
   "id": "10e1c967-2550-4bdc-9fa1-fb5272ea110c",
   "metadata": {},
   "outputs": [],
   "source": [
    "import streamlit as st\n",
    "\n",
    "import numpy as np\n",
    "import pandas as pd\n",
    "\n",
    "st.markdown(\"\"\"# This is a header\n",
    "## This is a sub header\n",
    "This is text\"\"\")\n",
    "\n",
    "df = pd.DataFrame({\n",
    "          'first column': list(range(1, 11)),\n",
    "          'second column': np.arange(10, 101, 10)\n",
    "        })\n",
    "\n",
    "# this slider allows the user to select a number of lines\n",
    "# to display in the dataframe\n",
    "# the selected value is returned by st.slider\n",
    "line_count = st.slider('Select a line count', 1, 10, 3)\n",
    "\n",
    "# and used in order to select the displayed lines\n",
    "head_df = df.head(line_count)\n",
    "\n",
    "head_df"
   ]
  },
  {
   "cell_type": "markdown",
   "id": "47742f9c-859c-4025-a71e-e24f4a7ade46",
   "metadata": {},
   "source": [
    "### How To Run The App?"
   ]
  },
  {
   "cell_type": "code",
   "execution_count": null,
   "id": "324e51d7-5afa-4cdf-b83e-8e959c947f3a",
   "metadata": {},
   "outputs": [],
   "source": [
    "streamlit run app.py"
   ]
  },
  {
   "cell_type": "markdown",
   "id": "208b77c0-3761-43a2-8add-56efdb4143aa",
   "metadata": {},
   "source": [
    "When the command is ran, Streamlit starts a web server and opens a new tab in the web browser showing the app. This allows you to assess the content of the page while you code.\n",
    "\n",
    "Streamlit automatically reloads the page as soon as the code of the main script file changes and is saved, which is very handy"
   ]
  },
  {
   "cell_type": "markdown",
   "id": "6c450042-f1bd-42ed-b13a-5ea6397b2eb0",
   "metadata": {},
   "source": [
    "### Streamlit elements demo"
   ]
  },
  {
   "cell_type": "markdown",
   "id": "ea5c0f3a-7cfc-4f2d-a6c9-5456ffc1527c",
   "metadata": {},
   "source": [
    "The Streamlit quick reference, developed by Le Wagon using Streamlit, provides a sample demonstration of the main elements usable in a Streamlit app\n",
    "\n",
    "http://streamlit.lewagon.ai/\n",
    "\n",
    "Have a look at the possibilities provided by Streamlit 🎉\n",
    "\n",
    "For more information, refer to the official Streamlit doc\n",
    "\n",
    "https://docs.streamlit.io/en/stable/api.html\n",
    "\n",
    "⚠️ Streamlit reinterprets the full content of the main script file every time the user interacts with any control in the page. This may render the page unresponsive but can be prevented (read the Cache section in the Streamlit quick reference)\n",
    "\n",
    "https://streamlit.lewagon.ai/"
   ]
  },
  {
   "cell_type": "markdown",
   "id": "8b16a522-3a88-4ebe-96bf-5d31f5927837",
   "metadata": {},
   "source": [
    "## Heroku"
   ]
  },
  {
   "cell_type": "markdown",
   "id": "df284bd6-944c-48cf-a156-8cfe24f19fc7",
   "metadata": {},
   "source": [
    "What will you find in a Streamlit + Heroku project?\n",
    "\n",
    "Have a look at a sample Streamlit app file conf\n",
    "\n",
    "https://github.com/gmanchon/streamlit"
   ]
  },
  {
   "attachments": {
    "b1d49c8d-3221-40f7-adde-a96409496eb1.png": {
     "image/png": "[encoded data removed]"
    }
   },
   "cell_type": "markdown",
   "id": "9b331db4-f20e-446b-8034-58cd6242cb07",
   "metadata": {},
   "source": [
    "![image.png](attachment:b1d49c8d-3221-40f7-adde-a96409496eb1.png)"
   ]
  },
  {
   "cell_type": "markdown",
   "id": "363328e2-0300-4b9e-9884-f6981b6856df",
   "metadata": {},
   "source": [
    "### app.py"
   ]
  },
  {
   "cell_type": "code",
   "execution_count": null,
   "id": "8a2a7de6-e268-45fe-8a31-aebd0ca5de50",
   "metadata": {},
   "outputs": [],
   "source": [
    "import streamlit as st\n",
    "\n",
    "st.write('hello')"
   ]
  },
  {
   "cell_type": "markdown",
   "id": "e3248fa8-5f5b-41b4-a14e-a8d6fee7e603",
   "metadata": {},
   "source": [
    "### Makefile"
   ]
  },
  {
   "cell_type": "code",
   "execution_count": null,
   "id": "469cbc77-ffd1-4577-8da9-5504d82d9bff",
   "metadata": {},
   "outputs": [],
   "source": [
    "run_streamlit:\n",
    "    streamlit run app.py"
   ]
  },
  {
   "cell_type": "markdown",
   "id": "14961da0-189a-4846-8cf0-17115c84455c",
   "metadata": {},
   "source": [
    "### MANIFEST.in"
   ]
  },
  {
   "cell_type": "code",
   "execution_count": null,
   "id": "b1bae4df-fa13-4c40-986c-0401e5dab382",
   "metadata": {},
   "outputs": [],
   "source": [
    "include requirements.txt"
   ]
  },
  {
   "cell_type": "markdown",
   "id": "942fd77a-b807-498b-b2b8-5c3724be4784",
   "metadata": {},
   "source": [
    "### requirements.txt"
   ]
  },
  {
   "cell_type": "code",
   "execution_count": null,
   "id": "58374a9e-90bd-4d0f-85d1-c76338bd4a98",
   "metadata": {},
   "outputs": [],
   "source": [
    "streamlit"
   ]
  },
  {
   "cell_type": "markdown",
   "id": "15994ed2-5cf5-4edd-ba21-866d70a770a2",
   "metadata": {},
   "source": [
    "### setup.py"
   ]
  },
  {
   "cell_type": "code",
   "execution_count": null,
   "id": "8720b408-6de9-4516-a65d-5123a3c4c636",
   "metadata": {},
   "outputs": [],
   "source": [
    "from setuptools import setup, find_packages\n",
    "\n",
    "with open(\"requirements.txt\") as f:\n",
    "    content = f.readlines()\n",
    "requirements = [x.strip() for x in content]\n",
    "\n",
    "setup(name=\"streamlitapp\",\n",
    "      version=\"1.0\",\n",
    "      description=\"streamlit app\",\n",
    "      packages=find_packages(),\n",
    "      include_package_data=True,  # includes in package files from MANIFEST.in\n",
    "      install_requires=requirements)"
   ]
  },
  {
   "cell_type": "markdown",
   "id": "1d90fd9e-7b53-45ff-94d4-52c297973e54",
   "metadata": {},
   "source": [
    "### Procfile"
   ]
  },
  {
   "cell_type": "code",
   "execution_count": null,
   "id": "9bb33f6f-aee2-4035-a475-9c63e23695a9",
   "metadata": {},
   "outputs": [],
   "source": [
    "web: sh setup.sh && streamlit run app.py"
   ]
  },
  {
   "cell_type": "markdown",
   "id": "d2aa9a00-ebf8-4d4c-ac62-38d2e116173a",
   "metadata": {},
   "source": [
    "### setup.sh"
   ]
  },
  {
   "cell_type": "code",
   "execution_count": null,
   "id": "a0a08816-3325-47e0-a930-479ce16d8e69",
   "metadata": {},
   "outputs": [],
   "source": [
    "mkdir -p ~/.streamlit/\n",
    "\n",
    "echo \"\\\n",
    "[general]\\n\\\n",
    "email = \\\"${HEROKU_EMAIL_ADDRESS}\\\"\\n\\\n",
    "\" > ~/.streamlit/credentials.toml\n",
    "\n",
    "echo \"\\\n",
    "[server]\\n\\\n",
    "headless = true\\n\\\n",
    "enableCORS = false\\n\\\n",
    "port = $PORT\\n\\\n",
    "\" > ~/.streamlit/config.toml"
   ]
  },
  {
   "cell_type": "markdown",
   "id": "2c591521-54f9-4ff8-b301-4894cfeb9462",
   "metadata": {},
   "source": [
    "### Deploying the app"
   ]
  },
  {
   "cell_type": "code",
   "execution_count": null,
   "id": "88b6c1cb-e076-47fb-9fbf-8991ad2208a1",
   "metadata": {},
   "outputs": [],
   "source": [
    "# upload your SSH key to Heroku (if not already done)\n",
    "heroku keys:add ~/.ssh/id_ed25519.pub\n",
    "\n",
    "# create the app in the EU region\n",
    "heroku create APP_NAME --ssh-git --region eu\n",
    "\n",
    "# you should see the origin remote for GitHub\n",
    "# and the heroku remote for Heroku\n",
    "git remote -v\n",
    "\n",
    "# manually add the heroku remote if necessary\n",
    "git remote add heroku https://git.heroku.com/APP_NAME.git\n",
    "\n",
    "# deploy the app\n",
    "git push heroku master\n",
    "\n",
    "# start the web dyno\n",
    "heroku ps:scale web=1\n",
    "\n",
    "# check the logs for errors\n",
    "heroku logs --tail"
   ]
  },
  {
   "cell_type": "markdown",
   "id": "ef274822-ad4b-4d85-b17f-cd9fe8cd88d5",
   "metadata": {},
   "source": [
    "### File glossary\n",
    "\n",
    "**.git**\n",
    "\n",
    "git repository: source control main directory\n",
    "\n",
    "if you erase this directory you loose all history of the commits unless they have been pushed to a remote repository (origin or other)\n",
    "\n",
    "**.gitignore**\n",
    "\n",
    "specific to git: lists the files to exclude from source control\n",
    "\n",
    "for example you may want to ignore the python __pycache__ folders\n",
    "\n",
    "**README.md**\n",
    "\n",
    "optional: you may add here markdown information about the app for you coworkers\n",
    "\n",
    "this will be displayed in the main page of your repository on GitHub\n",
    "\n",
    "**MANIFEST.in**\n",
    "\n",
    "contains the list of files that must be included or excluded from package deployment, in particular requirements.txt\n",
    "\n",
    "usage must be declared in setup.py\n",
    "**requirements.txt**\n",
    "\n",
    "contains the pip packages required in order to run Streamlit and your script\n",
    "\n",
    "if you setup a virtual env for your app, they can be obtained through a pip freeze\n",
    "\n",
    "**setup.py**\n",
    "\n",
    "describes the attributes of the app package (name, version, description)\n",
    "\n",
    "the requirements pip packages for the app must be listed here as well\n",
    "\n",
    "**app.py**\n",
    "\n",
    "the main script of the app: the name can be anything but should correspond\n",
    "\n",
    "to the content of the command in the Procfile\n",
    "\n",
    "**Procfile**\n",
    "\n",
    "specific to Heroku: indicates which type of process to run (web)\n",
    "\n",
    "as well as the command to run in order to start the dyno (which can be customized)\n",
    "\n",
    "**setup.sh**\n",
    "\n",
    "custom script launched by the Procfile command\n",
    "\n",
    "indicates to streamlit the app owner's email and Heroku's dynamically assigned port on which to run\n",
    "\n",
    "**__pycache__**\n",
    "\n",
    "cache directory generated by python when it runs the code\n",
    "\n",
    "erasing this directory has no impact, it may be added to the .gitignore\n",
    "\n",
    "**.ipynb_checkpoints**\n",
    "\n",
    "temporary jupyter notebook directory generated whenever a notebook is created, store automatic notebook backups\n",
    "\n",
    "erasing this directory has no impact, it may be added to the .gitignore\n"
   ]
  },
  {
   "cell_type": "code",
   "execution_count": null,
   "id": "4d6819da-c148-48b8-824b-f4dcb6ce4e72",
   "metadata": {},
   "outputs": [],
   "source": []
  }
 ],
 "metadata": {
  "kernelspec": {
   "display_name": "Python 3 (ipykernel)",
   "language": "python",
   "name": "python3"
  },
  "language_info": {
   "codemirror_mode": {
    "name": "ipython",
    "version": 3
   },
   "file_extension": ".py",
   "mimetype": "text/x-python",
   "name": "python",
   "nbconvert_exporter": "python",
   "pygments_lexer": "ipython3",
   "version": "3.8.12"
  }
 },
 "nbformat": 4,
 "nbformat_minor": 5
}
