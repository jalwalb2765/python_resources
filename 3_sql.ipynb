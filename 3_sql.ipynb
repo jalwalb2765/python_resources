{
 "cells": [
  {
   "cell_type": "markdown",
   "id": "2a8b4106-443c-45bb-9ebb-0fd360d27667",
   "metadata": {},
   "source": [
    "# SQL"
   ]
  },
  {
   "cell_type": "markdown",
   "id": "a59ea99d-1bc0-4cb4-96a4-9cdc6e23ee46",
   "metadata": {},
   "source": [
    "## Exploration\n",
    "\n",
    "Let's use DBeaver, a universal database client for developers, SQL programmers, database administrators and analysts.\n",
    "\n",
    "https://dbeaver.io/"
   ]
  },
  {
   "cell_type": "markdown",
   "id": "4edacc75-283c-4c4b-a054-11c1540d8060",
   "metadata": {},
   "source": [
    "## ERD Diagram\n",
    "\n",
    "When discovering a new database, a data scientist should explore and draw the Entity Relationship Diagram.\n",
    "\n",
    "https://www.visual-paradigm.com/guide/data-modeling/what-is-entity-relationship-diagram/\n",
    "\n",
    "👉 Useful tool: kitt.lewagon.com/db (Save XML)\n",
    "\n",
    "https://kitt.lewagon.com/db\n",
    "\n",
    "https://online.visual-paradigm.com/diagrams/solutions/free-erd-tool/\n",
    "\n",
    "https://gitmind.com/er-diagram-tool.html"
   ]
  },
  {
   "cell_type": "markdown",
   "id": "efa0483c-c1bc-410e-81db-5dcbbc6f1b0a",
   "metadata": {},
   "source": [
    "## SQLite\n",
    "\n",
    "A database stored in a single file.\n",
    "\n",
    "👉 https://www.sqlite.org/index.html\n"
   ]
  },
  {
   "cell_type": "markdown",
   "id": "d0231e84-16ca-4f7b-ba31-aa656516694b",
   "metadata": {},
   "source": [
    "For the examples below, we use the 👉 European Soccer Database on Kaggle\n",
    "\n",
    "https://www.kaggle.com/hugomathien/soccer/"
   ]
  },
  {
   "cell_type": "markdown",
   "id": "b76c76d3-fe5b-4ca7-8b49-1c62acfea2fa",
   "metadata": {},
   "source": [
    "### Connecting To The Database"
   ]
  },
  {
   "cell_type": "markdown",
   "id": "be9e26fe-9d3b-419b-ac5e-929ab61edccd",
   "metadata": {},
   "source": [
    "#### Reaching for the sqlite3 package."
   ]
  },
  {
   "cell_type": "code",
   "execution_count": 1,
   "id": "20fc7f91-2917-4eee-8745-0ff0d020ce5a",
   "metadata": {},
   "outputs": [],
   "source": [
    "import sqlite3"
   ]
  },
  {
   "cell_type": "code",
   "execution_count": 2,
   "id": "13dff399-e2e6-4275-85f3-7825aedb3855",
   "metadata": {},
   "outputs": [],
   "source": [
    "conn = sqlite3.connect('data/soccer.sqlite')\n",
    "c = conn.cursor()"
   ]
  },
  {
   "cell_type": "code",
   "execution_count": 3,
   "id": "0b42328f-2df9-4b75-9c5b-8badd2952e9a",
   "metadata": {},
   "outputs": [
    {
     "data": {
      "text/plain": [
       "[(1, 'Belgium'),\n",
       " (1729, 'England'),\n",
       " (4769, 'France'),\n",
       " (7809, 'Germany'),\n",
       " (10257, 'Italy'),\n",
       " (13274, 'Netherlands'),\n",
       " (15722, 'Poland'),\n",
       " (17642, 'Portugal'),\n",
       " (19694, 'Scotland'),\n",
       " (21518, 'Spain'),\n",
       " (24558, 'Switzerland')]"
      ]
     },
     "execution_count": 3,
     "metadata": {},
     "output_type": "execute_result"
    }
   ],
   "source": [
    "c.execute(\"SELECT * FROM Country\")\n",
    "rows = c.fetchall()\n",
    "rows"
   ]
  },
  {
   "cell_type": "markdown",
   "id": "09f0cc95-c9e1-46e0-83f0-b73efb26e9c0",
   "metadata": {},
   "source": [
    "#### You can also fetch a list of sqlite3.Row elements:\n",
    "\n",
    "https://docs.python.org/3/library/sqlite3.html#sqlite3.Row"
   ]
  },
  {
   "cell_type": "code",
   "execution_count": 3,
   "id": "da969064-c9cc-4936-b6fb-5ced88fdc641",
   "metadata": {},
   "outputs": [],
   "source": [
    "conn = sqlite3.connect('data/soccer.sqlite')\n",
    "conn.row_factory = sqlite3.Row\n",
    "c = conn.cursor()"
   ]
  },
  {
   "cell_type": "code",
   "execution_count": 4,
   "id": "c98889c8-e2e2-4c3d-95cb-3075765b06bc",
   "metadata": {},
   "outputs": [],
   "source": [
    "c.execute(\"SELECT * FROM Country\")\n",
    "rows = c.fetchall()\n",
    "first_row = rows[0]"
   ]
  },
  {
   "cell_type": "code",
   "execution_count": 8,
   "id": "c764a32a-f103-41f2-89b4-feff6edc8cc4",
   "metadata": {},
   "outputs": [
    {
     "data": {
      "text/plain": [
       "'Belgium'"
      ]
     },
     "execution_count": 8,
     "metadata": {},
     "output_type": "execute_result"
    }
   ],
   "source": [
    "first_row['name']"
   ]
  },
  {
   "cell_type": "code",
   "execution_count": 11,
   "id": "4c57e781-186d-4884-848a-71e44c577414",
   "metadata": {},
   "outputs": [
    {
     "data": {
      "text/plain": [
       "(1, 'Belgium')"
      ]
     },
     "execution_count": 11,
     "metadata": {},
     "output_type": "execute_result"
    }
   ],
   "source": [
    "tuple(first_row)"
   ]
  },
  {
   "cell_type": "markdown",
   "id": "2fd7522c-e5bc-48ab-8066-60e766f0e859",
   "metadata": {},
   "source": [
    "#### Fetching only one element\n",
    "\n",
    "Sometimes you know that your query will yield only one (or zero!) element. Then use fetchone:\n",
    "\n",
    "https://docs.python.org/3/library/sqlite3.html#sqlite3.Cursor.fetchone"
   ]
  },
  {
   "cell_type": "code",
   "execution_count": 12,
   "id": "13a809a2-7e75-4d77-b4a0-dba727bee5aa",
   "metadata": {},
   "outputs": [
    {
     "name": "stdout",
     "output_type": "stream",
     "text": [
      "1 - Belgium\n"
     ]
    }
   ],
   "source": [
    "c.execute(\"SELECT * FROM Country WHERE Country.id = 1\")\n",
    "row = c.fetchone()\n",
    "print(row[0], '-' ,row[1])"
   ]
  },
  {
   "cell_type": "code",
   "execution_count": 15,
   "id": "7cdf1cb2-5fa8-4476-86db-13380947136e",
   "metadata": {},
   "outputs": [
    {
     "name": "stdout",
     "output_type": "stream",
     "text": [
      "None\n"
     ]
    }
   ],
   "source": [
    "c.execute(\"SELECT * FROM Country WHERE Country.id = 2\")\n",
    "row = c.fetchone()\n",
    "print(row)"
   ]
  },
  {
   "cell_type": "markdown",
   "id": "59a9ba74-3bd5-4d7c-ae77-bad85b470c4c",
   "metadata": {},
   "source": [
    "### SQL Basics"
   ]
  },
  {
   "cell_type": "code",
   "execution_count": 6,
   "id": "0ed30323-1bbc-4d27-bd71-c4ee12133768",
   "metadata": {},
   "outputs": [],
   "source": [
    "conn = sqlite3.connect('data/soccer.sqlite')\n",
    "c = conn.cursor()"
   ]
  },
  {
   "cell_type": "markdown",
   "id": "cedb09ee-4cfa-462b-8b6a-5bd44e06667f",
   "metadata": {},
   "source": [
    "#### Projection\n",
    "\n",
    "Choosing which columns the query shall return.\n",
    "\n",
    "🤔 Retrieve id, season, stage and date of all matches"
   ]
  },
  {
   "cell_type": "code",
   "execution_count": 15,
   "id": "fda8171b-3acf-4c07-a661-45ea40c05611",
   "metadata": {},
   "outputs": [
    {
     "name": "stdout",
     "output_type": "stream",
     "text": [
      "Rows Returned: 25979\n"
     ]
    },
    {
     "data": {
      "text/plain": [
       "[(1, '2008/2009', 1, '2008-08-17 00:00:00'),\n",
       " (2, '2008/2009', 1, '2008-08-16 00:00:00'),\n",
       " (3, '2008/2009', 1, '2008-08-16 00:00:00'),\n",
       " (4, '2008/2009', 1, '2008-08-17 00:00:00'),\n",
       " (5, '2008/2009', 1, '2008-08-16 00:00:00'),\n",
       " (6, '2008/2009', 1, '2008-09-24 00:00:00'),\n",
       " (7, '2008/2009', 1, '2008-08-16 00:00:00'),\n",
       " (8, '2008/2009', 1, '2008-08-16 00:00:00'),\n",
       " (9, '2008/2009', 1, '2008-08-16 00:00:00'),\n",
       " (10, '2008/2009', 10, '2008-11-01 00:00:00')]"
      ]
     },
     "execution_count": 15,
     "metadata": {},
     "output_type": "execute_result"
    }
   ],
   "source": [
    "query = '''\n",
    "    SELECT \"Match\".id, \"Match\".season, \"Match\".stage, \"Match\".date \n",
    "    FROM \"Match\"\n",
    "'''\n",
    "\n",
    "c.execute(query)\n",
    "rows = c.fetchall()\n",
    "\n",
    "print(f'Rows Returned: {len(rows)}')\n",
    "\n",
    "rows[0:10]\n"
   ]
  },
  {
   "cell_type": "markdown",
   "id": "416887b1-3175-498f-bd52-99d2f3ba8a2e",
   "metadata": {},
   "source": [
    "💡Tip: You can alias tables name for enhanced readability"
   ]
  },
  {
   "cell_type": "code",
   "execution_count": 16,
   "id": "b33c5d4e-c259-439d-9d96-b3cd5ca40a00",
   "metadata": {},
   "outputs": [
    {
     "name": "stdout",
     "output_type": "stream",
     "text": [
      "Rows Returned: 25979\n"
     ]
    },
    {
     "data": {
      "text/plain": [
       "[(1, '2008/2009', 1, '2008-08-17 00:00:00'),\n",
       " (2, '2008/2009', 1, '2008-08-16 00:00:00'),\n",
       " (3, '2008/2009', 1, '2008-08-16 00:00:00'),\n",
       " (4, '2008/2009', 1, '2008-08-17 00:00:00'),\n",
       " (5, '2008/2009', 1, '2008-08-16 00:00:00'),\n",
       " (6, '2008/2009', 1, '2008-09-24 00:00:00'),\n",
       " (7, '2008/2009', 1, '2008-08-16 00:00:00'),\n",
       " (8, '2008/2009', 1, '2008-08-16 00:00:00'),\n",
       " (9, '2008/2009', 1, '2008-08-16 00:00:00'),\n",
       " (10, '2008/2009', 10, '2008-11-01 00:00:00')]"
      ]
     },
     "execution_count": 16,
     "metadata": {},
     "output_type": "execute_result"
    }
   ],
   "source": [
    "query = '''\n",
    "    SELECT matches.id, matches.season, matches.stage, matches.date\n",
    "    FROM \"Match\" AS matches\n",
    "'''\n",
    "\n",
    "c.execute(query)\n",
    "rows = c.fetchall()\n",
    "\n",
    "print(f'Rows Returned: {len(rows)}')\n",
    "\n",
    "rows[0:10]"
   ]
  },
  {
   "cell_type": "markdown",
   "id": "9ca22ce7-ab76-430d-8761-134feafe8d08",
   "metadata": {},
   "source": [
    "#### Selection\n",
    "\n",
    "Selecting which rows the query shall return.\n",
    "\n",
    "🤔 Retrieve matches which happened in France"
   ]
  },
  {
   "cell_type": "code",
   "execution_count": 25,
   "id": "18efb69f-2e9f-410b-b21a-408a190678d5",
   "metadata": {},
   "outputs": [
    {
     "name": "stdout",
     "output_type": "stream",
     "text": [
      "Rows Returned: 3040\n"
     ]
    },
    {
     "data": {
      "text/plain": [
       "[(4769, '2008/2009', 1, '2008-08-09 00:00:00', 4769),\n",
       " (4770, '2008/2009', 1, '2008-08-09 00:00:00', 4769),\n",
       " (4771, '2008/2009', 1, '2008-08-09 00:00:00', 4769),\n",
       " (4772, '2008/2009', 1, '2008-08-09 00:00:00', 4769),\n",
       " (4773, '2008/2009', 1, '2008-08-10 00:00:00', 4769),\n",
       " (4774, '2008/2009', 1, '2008-08-09 00:00:00', 4769),\n",
       " (4775, '2008/2009', 1, '2008-08-09 00:00:00', 4769),\n",
       " (4776, '2008/2009', 1, '2008-08-09 00:00:00', 4769),\n",
       " (4777, '2008/2009', 1, '2008-08-09 00:00:00', 4769),\n",
       " (4778, '2008/2009', 1, '2008-08-09 00:00:00', 4769)]"
      ]
     },
     "execution_count": 25,
     "metadata": {},
     "output_type": "execute_result"
    }
   ],
   "source": [
    "query = '''\n",
    "    SELECT matches.id, matches.season, matches.stage, matches.date, matches.country_id\n",
    "    FROM \"Match\" AS matches\n",
    "    WHERE matches.country_id = 4769\n",
    "'''\n",
    "\n",
    "c.execute(query)\n",
    "rows = c.fetchall()\n",
    "\n",
    "print(f'Rows Returned: {len(rows)}')\n",
    "\n",
    "rows[0:10]"
   ]
  },
  {
   "cell_type": "markdown",
   "id": "cfefe669-be12-483b-af4a-c2f2f776b18b",
   "metadata": {},
   "source": [
    "---\n",
    "\n",
    "🤔 Retrieve matches which happened in Belgium or England"
   ]
  },
  {
   "cell_type": "code",
   "execution_count": 24,
   "id": "0da8de43-ef70-4faa-bf97-ad45b7008202",
   "metadata": {},
   "outputs": [
    {
     "name": "stdout",
     "output_type": "stream",
     "text": [
      "Rows Returned: 4768\n"
     ]
    },
    {
     "data": {
      "text/plain": [
       "[(1, '2008/2009', 1, '2008-08-17 00:00:00', 1),\n",
       " (2, '2008/2009', 1, '2008-08-16 00:00:00', 1),\n",
       " (3, '2008/2009', 1, '2008-08-16 00:00:00', 1),\n",
       " (4, '2008/2009', 1, '2008-08-17 00:00:00', 1),\n",
       " (5, '2008/2009', 1, '2008-08-16 00:00:00', 1),\n",
       " (6, '2008/2009', 1, '2008-09-24 00:00:00', 1),\n",
       " (7, '2008/2009', 1, '2008-08-16 00:00:00', 1),\n",
       " (8, '2008/2009', 1, '2008-08-16 00:00:00', 1),\n",
       " (9, '2008/2009', 1, '2008-08-16 00:00:00', 1),\n",
       " (10, '2008/2009', 10, '2008-11-01 00:00:00', 1)]"
      ]
     },
     "execution_count": 24,
     "metadata": {},
     "output_type": "execute_result"
    }
   ],
   "source": [
    "query = '''\n",
    "    SELECT matches.id, matches.season, matches.stage, matches.date, matches.country_id\n",
    "    FROM \"Match\" AS matches\n",
    "    WHERE matches.country_id = 1\n",
    "    OR matches.country_id = 1729\n",
    "'''\n",
    "\n",
    "c.execute(query)\n",
    "rows = c.fetchall()\n",
    "\n",
    "print(f'Rows Returned: {len(rows)}')\n",
    "\n",
    "rows[0:10]"
   ]
  },
  {
   "cell_type": "markdown",
   "id": "a9871b8e-962e-403b-b9b7-9777a201cd7f",
   "metadata": {},
   "source": [
    "---\n",
    "\n",
    "Alternative:\n",
    "\n",
    "**Note: the WHERE ... IN ... list needs to be passed as a tuple!!**"
   ]
  },
  {
   "cell_type": "code",
   "execution_count": 29,
   "id": "3185171e-bbe9-46ea-84fe-2d8cdc246169",
   "metadata": {},
   "outputs": [
    {
     "name": "stdout",
     "output_type": "stream",
     "text": [
      "Rows Returned: 4768\n"
     ]
    },
    {
     "data": {
      "text/plain": [
       "[(1, '2008/2009', 1, '2008-08-17 00:00:00', 1),\n",
       " (2, '2008/2009', 1, '2008-08-16 00:00:00', 1),\n",
       " (3, '2008/2009', 1, '2008-08-16 00:00:00', 1),\n",
       " (4, '2008/2009', 1, '2008-08-17 00:00:00', 1),\n",
       " (5, '2008/2009', 1, '2008-08-16 00:00:00', 1),\n",
       " (6, '2008/2009', 1, '2008-09-24 00:00:00', 1),\n",
       " (7, '2008/2009', 1, '2008-08-16 00:00:00', 1),\n",
       " (8, '2008/2009', 1, '2008-08-16 00:00:00', 1),\n",
       " (9, '2008/2009', 1, '2008-08-16 00:00:00', 1),\n",
       " (10, '2008/2009', 10, '2008-11-01 00:00:00', 1)]"
      ]
     },
     "execution_count": 29,
     "metadata": {},
     "output_type": "execute_result"
    }
   ],
   "source": [
    "country_ids = (1,1729)\n",
    "\n",
    "query = f'''\n",
    "    SELECT matches.id, matches.season, matches.stage, matches.date, matches.country_id\n",
    "    FROM \"Match\" AS matches\n",
    "    WHERE matches.country_id IN {country_ids}\n",
    "'''\n",
    "\n",
    "c.execute(query)\n",
    "rows = c.fetchall()\n",
    "\n",
    "print(f'Rows Returned: {len(rows)}')\n",
    "\n",
    "rows[0:10]"
   ]
  },
  {
   "cell_type": "markdown",
   "id": "a1dc58dd-71c2-4402-a2c1-24505d35d6ba",
   "metadata": {},
   "source": [
    "- - -\n",
    "\n",
    "🤔 Retrieve players named John"
   ]
  },
  {
   "cell_type": "code",
   "execution_count": 32,
   "id": "040725fd-654b-4860-90be-12e41e3da712",
   "metadata": {},
   "outputs": [
    {
     "name": "stdout",
     "output_type": "stream",
     "text": [
      "Rows Returned: 31\n"
     ]
    },
    {
     "data": {
      "text/plain": [
       "(5093,\n",
       " 278831,\n",
       " 'John Anthony Brooks',\n",
       " 204082,\n",
       " '1993-01-28 00:00:00',\n",
       " 193.04,\n",
       " 172)"
      ]
     },
     "execution_count": 32,
     "metadata": {},
     "output_type": "execute_result"
    }
   ],
   "source": [
    "query = '''\n",
    "    SELECT *\n",
    "    FROM Player\n",
    "    WHERE UPPER(Player.player_name) LIKE \"JOHN %\"\n",
    "'''\n",
    "\n",
    "c.execute(query)\n",
    "rows = c.fetchall()\n",
    "\n",
    "print(f'Rows Returned: {len(rows)}')\n",
    "\n",
    "rows[0]"
   ]
  },
  {
   "cell_type": "markdown",
   "id": "e5031588-f879-479f-a1bf-8d5440bbe784",
   "metadata": {},
   "source": [
    "#### Counting\n",
    "\n",
    "Counting the number of rows matching the selection\n",
    "\n",
    "🤔 How many players are taller than 2.00 meters?"
   ]
  },
  {
   "cell_type": "code",
   "execution_count": 36,
   "id": "7b8c728a-ba54-467d-823c-a5fab54c02ce",
   "metadata": {},
   "outputs": [
    {
     "name": "stdout",
     "output_type": "stream",
     "text": [
      "Rows Returned: 1\n"
     ]
    },
    {
     "data": {
      "text/plain": [
       "22"
      ]
     },
     "execution_count": 36,
     "metadata": {},
     "output_type": "execute_result"
    }
   ],
   "source": [
    "query = '''\n",
    "    SELECT COUNT(Player.id)\n",
    "    FROM Player\n",
    "    WHERE Player.height >= 200\n",
    "'''\n",
    "\n",
    "c.execute(query)\n",
    "rows = c.fetchone()\n",
    "\n",
    "print(f'Rows Returned: {len(rows)}')\n",
    "\n",
    "rows[0]"
   ]
  },
  {
   "cell_type": "markdown",
   "id": "76f20550-4ae7-4e7b-b626-897f5621d842",
   "metadata": {},
   "source": [
    "#### Sorting\n",
    "\n",
    "Sorting the rows based on a column (or a group of columns)\n",
    "\n",
    "🤔 Who are the 10 heaviest players?"
   ]
  },
  {
   "cell_type": "code",
   "execution_count": 38,
   "id": "137996bb-f086-4bb5-b3c9-0188720d5611",
   "metadata": {},
   "outputs": [
    {
     "name": "stdout",
     "output_type": "stream",
     "text": [
      "Rows Returned: 10\n"
     ]
    },
    {
     "data": {
      "text/plain": [
       "[(5908,\n",
       "  148325,\n",
       "  'Kristof van Hout',\n",
       "  185306,\n",
       "  '1987-02-09 00:00:00',\n",
       "  208.28,\n",
       "  243),\n",
       " (10313, 27313, 'Tim Wiese', 53012, '1981-12-17 00:00:00', 193.04, 243),\n",
       " (4884, 5044, 'Jeroen Verhoeven', 137692, '1980-04-30 00:00:00', 198.12, 227),\n",
       " (4412, 27267, 'Ishmael Miller', 169725, '1987-03-05 00:00:00', 193.04, 225),\n",
       " (1598, 101584, 'Cassio', 167958, '1987-06-06 00:00:00', 195.58, 220),\n",
       " (1822, 19020, 'Christopher Samba', 46590, '1984-03-28 00:00:00', 193.04, 220),\n",
       " (5976, 210822, 'Lars Unnerstall', 199833, '1990-07-20 00:00:00', 198.12, 220),\n",
       " (6772, 30669, 'Marcus Hahnemann', 53785, '1972-06-15 00:00:00', 190.5, 220),\n",
       " (45, 40005, 'Abdoulaye Faye', 100329, '1978-02-26 00:00:00', 187.96, 218),\n",
       " (3030, 33060, 'Enoch Showunmi', 157589, '1982-04-21 00:00:00', 195.58, 218)]"
      ]
     },
     "execution_count": 38,
     "metadata": {},
     "output_type": "execute_result"
    }
   ],
   "source": [
    "query = '''\n",
    "    SELECT *\n",
    "    FROM Player\n",
    "    ORDER BY Player.weight DESC\n",
    "    LIMIT 10\n",
    "'''\n",
    "\n",
    "c.execute(query)\n",
    "rows = c.fetchall()\n",
    "\n",
    "print(f'Rows Returned: {len(rows)}')\n",
    "\n",
    "rows[0:10]"
   ]
  },
  {
   "cell_type": "markdown",
   "id": "c76de8f3-2dea-49a4-b192-3fc71929f664",
   "metadata": {},
   "source": [
    "#### Grouping\n",
    "\n",
    "Grouping rows on a given column C (aggregating rows with a function where values of C column are the same)\n",
    "\n",
    "🤔 How many matches were played on a per-country basis?"
   ]
  },
  {
   "cell_type": "code",
   "execution_count": 40,
   "id": "f48ee52c-796e-44f8-a342-512f5b6aff8e",
   "metadata": {},
   "outputs": [
    {
     "name": "stdout",
     "output_type": "stream",
     "text": [
      "Rows Returned: 11\n"
     ]
    },
    {
     "data": {
      "text/plain": [
       "[(1728, 1),\n",
       " (3040, 1729),\n",
       " (3040, 4769),\n",
       " (2448, 7809),\n",
       " (3017, 10257),\n",
       " (2448, 13274),\n",
       " (1920, 15722),\n",
       " (2052, 17642),\n",
       " (1824, 19694),\n",
       " (3040, 21518),\n",
       " (1422, 24558)]"
      ]
     },
     "execution_count": 40,
     "metadata": {},
     "output_type": "execute_result"
    }
   ],
   "source": [
    "query = '''\n",
    "    SELECT COUNT(matches.id), matches.country_id\n",
    "    FROM \"Match\" AS matches\n",
    "    GROUP BY matches.country_id\n",
    "'''\n",
    "\n",
    "c.execute(query)\n",
    "rows = c.fetchall()\n",
    "\n",
    "print(f'Rows Returned: {len(rows)}')\n",
    "\n",
    "rows"
   ]
  },
  {
   "cell_type": "markdown",
   "id": "6a3d6a60-b6f0-4460-9575-809948701068",
   "metadata": {},
   "source": [
    "---\n",
    "\n",
    "🤔 What if we want to sort those results? We need an alias:"
   ]
  },
  {
   "cell_type": "code",
   "execution_count": 41,
   "id": "ce6e14a3-2ec9-4eae-907c-21f82d6c4de3",
   "metadata": {},
   "outputs": [
    {
     "name": "stdout",
     "output_type": "stream",
     "text": [
      "Rows Returned: 11\n"
     ]
    },
    {
     "data": {
      "text/plain": [
       "[(3040, 21518),\n",
       " (3040, 4769),\n",
       " (3040, 1729),\n",
       " (3017, 10257),\n",
       " (2448, 13274),\n",
       " (2448, 7809),\n",
       " (2052, 17642),\n",
       " (1920, 15722),\n",
       " (1824, 19694),\n",
       " (1728, 1),\n",
       " (1422, 24558)]"
      ]
     },
     "execution_count": 41,
     "metadata": {},
     "output_type": "execute_result"
    }
   ],
   "source": [
    "query = '''\n",
    "    SELECT COUNT(matches.id) AS match_count, matches.country_id\n",
    "    FROM \"Match\" AS matches\n",
    "    GROUP BY matches.country_id\n",
    "    ORDER BY match_count DESC\n",
    "'''\n",
    "\n",
    "c.execute(query)\n",
    "rows = c.fetchall()\n",
    "\n",
    "print(f'Rows Returned: {len(rows)}')\n",
    "\n",
    "rows"
   ]
  },
  {
   "cell_type": "markdown",
   "id": "89135fc5-c076-47ea-a5a7-73057c269c68",
   "metadata": {},
   "source": [
    "---\n",
    "\n",
    "🤔 How many matches were played on a per-country basis, ignoring countries with less than 3000 matches?"
   ]
  },
  {
   "cell_type": "code",
   "execution_count": 42,
   "id": "2c8abd87-07b2-4e59-bd10-a5b604e217b3",
   "metadata": {},
   "outputs": [
    {
     "name": "stdout",
     "output_type": "stream",
     "text": [
      "Rows Returned: 4\n"
     ]
    },
    {
     "data": {
      "text/plain": [
       "[(3040, 21518), (3040, 4769), (3040, 1729), (3017, 10257)]"
      ]
     },
     "execution_count": 42,
     "metadata": {},
     "output_type": "execute_result"
    }
   ],
   "source": [
    "query = '''\n",
    "    SELECT COUNT(matches.id) AS match_count, matches.country_id\n",
    "    FROM \"Match\" AS matches\n",
    "    GROUP BY matches.country_id\n",
    "    HAVING match_count >= 3000\n",
    "    ORDER BY match_count DESC\n",
    "'''\n",
    "\n",
    "c.execute(query)\n",
    "rows = c.fetchall()\n",
    "\n",
    "print(f'Rows Returned: {len(rows)}')\n",
    "\n",
    "rows"
   ]
  },
  {
   "cell_type": "markdown",
   "id": "dcf8fd9d-dce6-4412-99cb-c36c560d0fd2",
   "metadata": {},
   "source": [
    "---\n",
    "\n",
    "🤔 How many matches were\n",
    "\n",
    "    won by the home team\n",
    "    won by the away team\n",
    "    finished with a draw"
   ]
  },
  {
   "cell_type": "code",
   "execution_count": 43,
   "id": "9f8c7e19-3bf2-47b6-986b-d367723a26e8",
   "metadata": {},
   "outputs": [
    {
     "name": "stdout",
     "output_type": "stream",
     "text": [
      "Rows Returned: 3\n"
     ]
    },
    {
     "data": {
      "text/plain": [
       "[(11917, 'home_win'), (7466, 'away_win'), (6596, 'draw')]"
      ]
     },
     "execution_count": 43,
     "metadata": {},
     "output_type": "execute_result"
    }
   ],
   "source": [
    "query = '''\n",
    "    SELECT \n",
    "    COUNT(matches.id) AS outcome_count,\n",
    "    CASE \n",
    "        WHEN matches.home_team_goal > matches.away_team_goal\n",
    "            THEN 'home_win'\n",
    "        WHEN matches.home_team_goal = matches.away_team_goal\n",
    "            THEN 'draw'\n",
    "        ELSE 'away_win'\n",
    "    END AS outcome\n",
    "    FROM \"Match\" AS matches\n",
    "    GROUP BY outcome\n",
    "    ORDER BY outcome_count DESC\n",
    "'''\n",
    "\n",
    "c.execute(query)\n",
    "rows = c.fetchall()\n",
    "\n",
    "print(f'Rows Returned: {len(rows)}')\n",
    "\n",
    "rows"
   ]
  },
  {
   "cell_type": "markdown",
   "id": "90cc7e71-0d18-4f65-8cdc-912869b71120",
   "metadata": {},
   "source": [
    "#### Querying multiple tables\n",
    "\n",
    "It's time to JOIN.\n",
    "\n",
    "🤔 Retrieve leagues with their respective country.\n"
   ]
  },
  {
   "cell_type": "code",
   "execution_count": 44,
   "id": "3338ef51-51a1-4662-8aad-30aa057ac5e2",
   "metadata": {},
   "outputs": [
    {
     "name": "stdout",
     "output_type": "stream",
     "text": [
      "Rows Returned: 11\n"
     ]
    },
    {
     "data": {
      "text/plain": [
       "[('Belgium Jupiler League', 'Belgium'),\n",
       " ('England Premier League', 'England'),\n",
       " ('France Ligue 1', 'France'),\n",
       " ('Germany 1. Bundesliga', 'Germany'),\n",
       " ('Italy Serie A', 'Italy'),\n",
       " ('Netherlands Eredivisie', 'Netherlands'),\n",
       " ('Poland Ekstraklasa', 'Poland'),\n",
       " ('Portugal Liga ZON Sagres', 'Portugal'),\n",
       " ('Scotland Premier League', 'Scotland'),\n",
       " ('Spain LIGA BBVA', 'Spain'),\n",
       " ('Switzerland Super League', 'Switzerland')]"
      ]
     },
     "execution_count": 44,
     "metadata": {},
     "output_type": "execute_result"
    }
   ],
   "source": [
    "query = '''\n",
    "    SELECT League.name, Country.name\n",
    "    FROM League\n",
    "    JOIN Country ON League.country_id = Country.id\n",
    "'''\n",
    "\n",
    "c.execute(query)\n",
    "rows = c.fetchall()\n",
    "\n",
    "print(f'Rows Returned: {len(rows)}')\n",
    "\n",
    "rows"
   ]
  },
  {
   "cell_type": "markdown",
   "id": "5eac2b7a-a38a-4c3e-8bac-1586e2df7603",
   "metadata": {},
   "source": [
    "---\n",
    "🤔 How many matches where played in each league (with their respective country)?"
   ]
  },
  {
   "cell_type": "code",
   "execution_count": 45,
   "id": "2eef889e-b7bf-4cb6-a781-29bb0f1a8e16",
   "metadata": {},
   "outputs": [
    {
     "name": "stdout",
     "output_type": "stream",
     "text": [
      "Rows Returned: 11\n"
     ]
    },
    {
     "data": {
      "text/plain": [
       "[(1729, 'England Premier League', 3040, 'England'),\n",
       " (4769, 'France Ligue 1', 3040, 'France'),\n",
       " (21518, 'Spain LIGA BBVA', 3040, 'Spain'),\n",
       " (10257, 'Italy Serie A', 3017, 'Italy'),\n",
       " (7809, 'Germany 1. Bundesliga', 2448, 'Germany'),\n",
       " (13274, 'Netherlands Eredivisie', 2448, 'Netherlands'),\n",
       " (17642, 'Portugal Liga ZON Sagres', 2052, 'Portugal'),\n",
       " (15722, 'Poland Ekstraklasa', 1920, 'Poland'),\n",
       " (19694, 'Scotland Premier League', 1824, 'Scotland'),\n",
       " (1, 'Belgium Jupiler League', 1728, 'Belgium'),\n",
       " (24558, 'Switzerland Super League', 1422, 'Switzerland')]"
      ]
     },
     "execution_count": 45,
     "metadata": {},
     "output_type": "execute_result"
    }
   ],
   "source": [
    "query = '''\n",
    "    SELECT\n",
    "        League.id,\n",
    "        League.name AS league_name,\n",
    "        COUNT(matches.id) AS match_count,\n",
    "        Country.name AS country_name\n",
    "    FROM \"Match\" AS matches\n",
    "    JOIN League ON matches.league_id = League.id\n",
    "    JOIN Country ON League.country_id = Country.id\n",
    "    GROUP BY League.id\n",
    "    ORDER BY\n",
    "        match_count DESC,\n",
    "        country_name ASC\n",
    "'''\n",
    "\n",
    "c.execute(query)\n",
    "rows = c.fetchall()\n",
    "\n",
    "print(f'Rows Returned: {len(rows)}')\n",
    "\n",
    "rows"
   ]
  },
  {
   "attachments": {
    "b45d89f2-c80a-4ddb-97e0-99729f9a1734.png": {
     "image/png": "[encoded data removed]"
    }
   },
   "cell_type": "markdown",
   "id": "f39eb219-f93b-4a8d-bb10-491477001871",
   "metadata": {},
   "source": [
    "### The order of SQL statements matters\n",
    "\n",
    "![image.png](attachment:b45d89f2-c80a-4ddb-97e0-99729f9a1734.png)\n",
    "\n",
    "https://www.sisense.com/blog/sql-query-order-of-operations/"
   ]
  },
  {
   "cell_type": "markdown",
   "id": "bbbfb9d9-ccd5-41ee-8df1-1dfe0e221b09",
   "metadata": {},
   "source": [
    "### SQL Injection\n",
    "\n",
    "When submitting the registration form, the server executes something like this:\n",
    "\n",
    "```sql\n",
    "INSERT INTO Students (last_name, first_name)\n",
    "VALUES('{last_name}', '{first_name}')\n",
    "```\n",
    "\n",
    "With the input Robert'); DROP TABLE Students; --, the SQL query executed is:\n",
    "\n",
    "```sql\n",
    "INSERT INTO students (last_name, first_name)\n",
    "VALUES('Smith', 'Robert'); DROP TABLE Students; --');\n",
    "```\n",
    "\n",
    "**which will delete the Students table from the database!!!**\n",
    "\n",
    "ℹ️ This exploit does not work on SQLite if you use execute() but does if you use executescript() (cf Documentation)\n",
    "\n",
    "https://docs.python.org/3.7/library/sqlite3.html#sqlite3.Cursor.execute"
   ]
  },
  {
   "cell_type": "markdown",
   "id": "1d0c6414-eb5a-4113-ac6b-b7a30495ca1b",
   "metadata": {},
   "source": [
    "#### Exploit example\n",
    "\n",
    "Let's create an exploitable_db.sqlite with the following code:"
   ]
  },
  {
   "cell_type": "code",
   "execution_count": 48,
   "id": "37f2d118-8411-4216-880a-23792c2ec9c1",
   "metadata": {},
   "outputs": [],
   "source": [
    "import sqlite3\n",
    "\n",
    "conn = sqlite3.connect('data/exploitable_db.sqlite')\n",
    "c = conn.cursor()\n",
    "\n",
    "c.execute(\"\"\"\n",
    "CREATE TABLE users(\n",
    "    id         INTEGER      PRIMARY KEY AUTOINCREMENT,\n",
    "    username   VARCHAR(100) UNIQUE,\n",
    "    password   VARCHAR(100)\n",
    ")\n",
    "\"\"\")\n",
    "\n",
    "USERS = [\n",
    "    ('john', 'passw0rd'),\n",
    "    ('paul', 'supers3cret')\n",
    "]\n",
    "\n",
    "for user in USERS:\n",
    "    c.execute(\"INSERT INTO users (username, password) VALUES (?, ?)\", user)\n",
    "    conn.commit()\n",
    "\n",
    "conn.close()"
   ]
  },
  {
   "cell_type": "markdown",
   "id": "43f5e2b9-ce3b-4470-ab03-e57652164a8c",
   "metadata": {},
   "source": [
    "You can use the code below to check it out from terminal\n",
    "\n",
    "```cli\n",
    "sqlite3 data/exploitable_db.sqlite\n",
    "```\n",
    "\n",
    "```sql\n",
    ".headers on\n",
    ".mode column\n",
    "SELECT * FROM users;\n",
    ".quit\n",
    "```"
   ]
  },
  {
   "cell_type": "code",
   "execution_count": 50,
   "id": "dd50269d-a6f5-46c5-971e-a1681fd7a1a9",
   "metadata": {},
   "outputs": [
    {
     "name": "stdout",
     "output_type": "stream",
     "text": [
      "Unauthorized\n",
      "Authorized\n"
     ]
    }
   ],
   "source": [
    "import sqlite3\n",
    "conn = sqlite3.connect('data/exploitable_db.sqlite')\n",
    "c = conn.cursor()\n",
    "\n",
    "def connect(username, password):\n",
    "    query = f\"\"\"\n",
    "        SELECT *\n",
    "        FROM users\n",
    "        WHERE users.username = '{username}'\n",
    "        AND users.password = '{password}'\n",
    "    \"\"\"\n",
    "    c.execute(query)\n",
    "    user = c.fetchone()\n",
    "    if user is None:\n",
    "        return \"Unauthorized\"\n",
    "    else:\n",
    "        return \"Authorized\"\n",
    "\n",
    "print(connect(\"john\", \"wrong_password\"))\n",
    "print(connect(\"john\", \"passw0rd\"))"
   ]
  },
  {
   "cell_type": "markdown",
   "id": "c4d2d022-5c1e-4319-be77-5107dd811955",
   "metadata": {},
   "source": [
    "**EXPLOIT**"
   ]
  },
  {
   "cell_type": "code",
   "execution_count": 52,
   "id": "761cb8ce-1ab9-467c-a374-04a677de0fc4",
   "metadata": {},
   "outputs": [
    {
     "name": "stdout",
     "output_type": "stream",
     "text": [
      "Authorized\n"
     ]
    }
   ],
   "source": [
    "print(connect(\"john\", \"'OR 1=1 --\"))  # 😱"
   ]
  },
  {
   "cell_type": "markdown",
   "id": "3d4ed3f6-6bd8-44b7-871c-f2f98c1634f4",
   "metadata": {},
   "source": [
    "#### Use parameter substitution ✅"
   ]
  },
  {
   "cell_type": "code",
   "execution_count": 53,
   "id": "9bf78757-96bf-4752-bd00-c724b053d8f5",
   "metadata": {},
   "outputs": [],
   "source": [
    "import sqlite3\n",
    "\n",
    "conn = sqlite3.connect('data/exploitable_db.sqlite')\n",
    "c = conn.cursor()\n",
    "\n",
    "def connect_safe(username, password):\n",
    "    query = \"\"\"\n",
    "        SELECT *\n",
    "        FROM users\n",
    "        WHERE users.username = ?\n",
    "        AND users.password = ?\n",
    "    \"\"\"\n",
    "    c.execute(query, (username, password))\n",
    "    user = c.fetchone()\n",
    "    if user is None:\n",
    "        return \"Unauthorized\"\n",
    "    else:\n",
    "        return \"Authorized\""
   ]
  },
  {
   "cell_type": "code",
   "execution_count": 54,
   "id": "55443557-3032-433c-9cbc-ea4524503f84",
   "metadata": {},
   "outputs": [
    {
     "name": "stdout",
     "output_type": "stream",
     "text": [
      "Unauthorized\n",
      "Authorized\n"
     ]
    }
   ],
   "source": [
    "print(connect_safe(\"john\", \"wrong_password\"))\n",
    "print(connect_safe(\"john\", \"passw0rd\"))"
   ]
  },
  {
   "cell_type": "code",
   "execution_count": 55,
   "id": "e47f9145-9f7a-405b-a06e-d2addfb11600",
   "metadata": {},
   "outputs": [
    {
     "name": "stdout",
     "output_type": "stream",
     "text": [
      "Unauthorized\n"
     ]
    }
   ],
   "source": [
    "print(connect_safe(\"john\", \"'OR 1=1 --\"))"
   ]
  },
  {
   "cell_type": "markdown",
   "id": "45a74ec3-d187-4c6e-84e3-04b3a8fe2edd",
   "metadata": {},
   "source": [
    "### CRUD\n",
    "\n",
    "    - Create\n",
    "    - Update\n",
    "    - Delete"
   ]
  },
  {
   "cell_type": "code",
   "execution_count": 96,
   "id": "cf61baaf-a176-4d3e-9a76-8ca4b61141ec",
   "metadata": {},
   "outputs": [
    {
     "name": "stdout",
     "output_type": "stream",
     "text": [
      "CRUD database already exists with food table\n",
      "\n",
      "Current Table\n",
      "[(1, 'cheddar', 'dairy', 'kind_of', 'can vary in sharpness of taste'), (2, 'carrots', 'vegetable', 'yes', 'orange vegetable'), (3, 'steak', 'mean', 'kind_of', 'normally beef')]\n"
     ]
    }
   ],
   "source": [
    "# Create/reset database to edit\n",
    "\n",
    "import sqlite3\n",
    "\n",
    "conn = sqlite3.connect('data/CRUD_db.sqlite')\n",
    "c = conn.cursor()\n",
    "\n",
    "#Check if the food table already exists\n",
    "\n",
    "query = \"\"\"\n",
    "        SELECT name \n",
    "        FROM sqlite_master\n",
    "        WHERE type='table';\n",
    "    \"\"\"\n",
    "\n",
    "c.execute(query)\n",
    "tables = c.fetchall()\n",
    "\n",
    "if tables == []:\n",
    "    \n",
    "    print('Creating New Table')\n",
    "    \n",
    "    c.execute(\"\"\"\n",
    "    CREATE TABLE food(\n",
    "        id         INTEGER      PRIMARY KEY AUTOINCREMENT,\n",
    "        food_name  VARCHAR(100) UNIQUE,\n",
    "        food_type  VARCHAR(100),\n",
    "        healthy    VARCHAR(100), \n",
    "        desc       VARCHAR(100)\n",
    "    )\n",
    "    \"\"\")\n",
    "\n",
    "    FOODS = [\n",
    "        ('cheddar', 'dairy', 'kind_of', 'can vary in sharpness of taste'),\n",
    "        ('carrots', 'vegetable', 'yes', 'orange vegetable'),\n",
    "        ('steak', 'mean', 'kind_of', 'normally beef')\n",
    "    ]\n",
    "\n",
    "    for food in FOODS:\n",
    "        c.execute(\"INSERT INTO food (food_name, food_type, healthy, desc) VALUES (?, ?, ?, ?)\", food)\n",
    "        conn.commit()\n",
    "\n",
    "    conn.close()\n",
    "\n",
    "elif 'food' in tables[0]:\n",
    "    \n",
    "    print('CRUD database already exists with food table\\n')\n",
    "    \n",
    "    query = '''\n",
    "        SELECT *\n",
    "        FROM food\n",
    "    '''\n",
    "\n",
    "    c.execute(query)\n",
    "    rows = c.fetchall()\n",
    "\n",
    "    print(f'Current Table')\n",
    "    print(rows)\n",
    "    \n",
    "else: \n",
    "    print('We Have A Problem...')\n"
   ]
  },
  {
   "cell_type": "code",
   "execution_count": 97,
   "id": "481b4447-bd52-4c1e-9c2f-93c28f80a4c5",
   "metadata": {},
   "outputs": [
    {
     "name": "stdout",
     "output_type": "stream",
     "text": [
      "Rows Returned: 3\n"
     ]
    },
    {
     "data": {
      "text/plain": [
       "[(1, 'cheddar', 'dairy', 'kind_of', 'can vary in sharpness of taste'),\n",
       " (2, 'carrots', 'vegetable', 'yes', 'orange vegetable'),\n",
       " (3, 'steak', 'mean', 'kind_of', 'normally beef')]"
      ]
     },
     "execution_count": 97,
     "metadata": {},
     "output_type": "execute_result"
    }
   ],
   "source": [
    "conn = sqlite3.connect('data/CRUD_db.sqlite')\n",
    "c = conn.cursor()\n",
    "\n",
    "query = '''\n",
    "    SELECT *\n",
    "    FROM food\n",
    "'''\n",
    "\n",
    "c.execute(query)\n",
    "rows = c.fetchall()\n",
    "\n",
    "print(f'Rows Returned: {len(rows)}')\n",
    "rows"
   ]
  },
  {
   "cell_type": "markdown",
   "id": "288d24e9-6201-4d04-914b-0107b1ac1c3b",
   "metadata": {},
   "source": [
    "#### CREATE\n",
    "\n",
    "```sql\n",
    "INSERT INTO table (column1, column2, ...)\n",
    "VALUES(value1, value2 , ...)\n",
    "```\n",
    "\n",
    "Insert a new row (a tuple of values) into a given table:"
   ]
  },
  {
   "cell_type": "code",
   "execution_count": 98,
   "id": "0bb24546-c756-404b-9294-086bc32a6553",
   "metadata": {},
   "outputs": [
    {
     "name": "stdout",
     "output_type": "stream",
     "text": [
      "Rows Returned: 4\n"
     ]
    },
    {
     "data": {
      "text/plain": [
       "[(1, 'cheddar', 'dairy', 'kind_of', 'can vary in sharpness of taste'),\n",
       " (2, 'carrots', 'vegetable', 'yes', 'orange vegetable'),\n",
       " (3, 'steak', 'mean', 'kind_of', 'normally beef'),\n",
       " (4, 'chocolate_cake', 'desert', 'no', 'sweet chocolatey goodness')]"
      ]
     },
     "execution_count": 98,
     "metadata": {},
     "output_type": "execute_result"
    }
   ],
   "source": [
    "# Connect to database\n",
    "conn = sqlite3.connect('data/CRUD_db.sqlite')\n",
    "c = conn.cursor()\n",
    "\n",
    "#Create new food items\n",
    "\n",
    "query = '''\n",
    "    INSERT INTO food (food_name, food_type, healthy, desc)\n",
    "    VALUES ('chocolate_cake', 'desert', 'no', 'sweet chocolatey goodness')\n",
    "'''\n",
    "\n",
    "c.execute(query)\n",
    "\n",
    "#Check the updated table\n",
    "\n",
    "query = '''\n",
    "    SELECT *\n",
    "    FROM food\n",
    "'''\n",
    "\n",
    "c.execute(query)\n",
    "rows = c.fetchall()\n",
    "\n",
    "print(f'Rows Returned: {len(rows)}')\n",
    "\n",
    "rows"
   ]
  },
  {
   "cell_type": "markdown",
   "id": "8f6c11c7-6f21-4a16-84b0-2908447d8455",
   "metadata": {},
   "source": [
    "#### UPDATE\n",
    "\n",
    "Update a row (or rows) in table:\n",
    "\n",
    "```sql\n",
    "UPDATE table\n",
    "SET column_1 = new_value_1,\n",
    "    column_2 = new_value_2\n",
    "WHERE\n",
    "    search_condition\n",
    "```\n",
    "\n",
    "example:\n",
    "\n",
    "```sql\n",
    "UPDATE Country\n",
    "SET\n",
    "    name = 'République Française'\n",
    "WHERE\n",
    "    id = 4769\n",
    "\n",
    "```\n"
   ]
  },
  {
   "cell_type": "code",
   "execution_count": 99,
   "id": "1db70012-c083-45ab-bcec-91e009b6f669",
   "metadata": {},
   "outputs": [
    {
     "name": "stdout",
     "output_type": "stream",
     "text": [
      "Rows Returned: 3\n"
     ]
    },
    {
     "data": {
      "text/plain": [
       "[(1, 'cheddar', 'dairy', 'kind_of', 'can vary in sharpness of taste'),\n",
       " (2, 'carrots', 'vegetable', 'yes', 'orange vegetable'),\n",
       " (3, 'steak', 'meat', 'no', 'normally beef')]"
      ]
     },
     "execution_count": 99,
     "metadata": {},
     "output_type": "execute_result"
    }
   ],
   "source": [
    "# Connect to database\n",
    "conn = sqlite3.connect('data/CRUD_db.sqlite')\n",
    "c = conn.cursor()\n",
    "\n",
    "#Correct the error in the steak item\n",
    "\n",
    "query = '''\n",
    "    UPDATE food\n",
    "    SET\n",
    "        food_type = 'meat', \n",
    "        healthy = 'no'\n",
    "    WHERE \n",
    "        food_name = 'steak'\n",
    "'''\n",
    "\n",
    "c.execute(query)\n",
    "\n",
    "# Commit the changed table to the database\n",
    "conn.commit()\n",
    "\n",
    "#Check the updated table\n",
    "\n",
    "query = '''\n",
    "    SELECT *\n",
    "    FROM food\n",
    "'''\n",
    "\n",
    "c.execute(query)\n",
    "rows = c.fetchall()\n",
    "\n",
    "print(f'Rows Returned: {len(rows)}')\n",
    "\n",
    "rows"
   ]
  },
  {
   "cell_type": "markdown",
   "id": "6df5c349-ba92-49fe-8d11-bd0ae9093625",
   "metadata": {},
   "source": [
    "#### DELETE\n",
    "\n",
    "Deleting a row (or rows) from table:\n",
    "\n",
    "```sql\n",
    "DELETE FROM table\n",
    "WHERE search_condition\n",
    "```\n",
    "\n",
    "Example:\n",
    "\n",
    "```sql\n",
    "DELETE FROM Country\n",
    "WHERE id = 4769\n",
    "```"
   ]
  },
  {
   "cell_type": "code",
   "execution_count": 100,
   "id": "b1d312d2-5432-4938-ba73-c10d6765b3b9",
   "metadata": {},
   "outputs": [
    {
     "name": "stdout",
     "output_type": "stream",
     "text": [
      "Rows Returned: 1\n"
     ]
    },
    {
     "data": {
      "text/plain": [
       "[(2, 'carrots', 'vegetable', 'yes', 'orange vegetable')]"
      ]
     },
     "execution_count": 100,
     "metadata": {},
     "output_type": "execute_result"
    }
   ],
   "source": [
    "conn = sqlite3.connect('data/CRUD_db.sqlite')\n",
    "c = conn.cursor()\n",
    "\n",
    "#Keep only the healthy food\n",
    "\n",
    "query = '''\n",
    "    DELETE FROM food\n",
    "    WHERE healthy != 'yes'\n",
    "'''\n",
    "\n",
    "c.execute(query)\n",
    "\n",
    "#Check the updated table\n",
    "\n",
    "query = '''\n",
    "    SELECT *\n",
    "    FROM food\n",
    "'''\n",
    "\n",
    "c.execute(query)\n",
    "rows = c.fetchall()\n",
    "\n",
    "print(f'Rows Returned: {len(rows)}')\n",
    "\n",
    "rows"
   ]
  },
  {
   "cell_type": "markdown",
   "id": "f2c4dfb7-5f93-4ba1-b310-abbeed19184e",
   "metadata": {},
   "source": [
    "### Cleaning Data"
   ]
  },
  {
   "cell_type": "markdown",
   "id": "e37ad63f-6a21-423f-a641-bf79c4778826",
   "metadata": {},
   "source": [
    "#### String Functions\n",
    "\n"
   ]
  },
  {
   "cell_type": "code",
   "execution_count": 116,
   "id": "b1aa01ff-dc9a-4cf3-9dc9-66ec743b6954",
   "metadata": {},
   "outputs": [
    {
     "name": "stdout",
     "output_type": "stream",
     "text": [
      "('CHEDDAR', 'dairy', 'kind_of', 'can vary in sharpness of taste')\n",
      "('CARROTS', 'vegetable', 'yes', 'orange vegetable')\n",
      "('STEAK', 'meat', 'no', 'normally beef')\n"
     ]
    }
   ],
   "source": [
    "conn = sqlite3.connect('data/CRUD_db.sqlite')\n",
    "c = conn.cursor()\n",
    "\n",
    "query = '''\n",
    "    SELECT \n",
    "        UPPER(food.food_name),\n",
    "        food.food_type,\n",
    "        food.healthy,\n",
    "        food.desc\n",
    "    FROM food\n",
    "'''\n",
    "\n",
    "c.execute(query)\n",
    "rows = c.fetchall()\n",
    "\n",
    "for row in rows:\n",
    "    print(row)"
   ]
  },
  {
   "cell_type": "markdown",
   "id": "7bddbe95-0236-4898-9b16-910b5df238b2",
   "metadata": {},
   "source": [
    "### Other Misc. Stuff"
   ]
  },
  {
   "cell_type": "markdown",
   "id": "263560a3-de20-4825-94a2-a23d84100866",
   "metadata": {},
   "source": [
    "#### How to list tables using SQLite3 in Python"
   ]
  },
  {
   "cell_type": "code",
   "execution_count": 92,
   "id": "81d30d75-171b-401e-8f19-2472a76d6140",
   "metadata": {},
   "outputs": [
    {
     "name": "stdout",
     "output_type": "stream",
     "text": [
      "Connected to SQLite\n",
      "\n",
      "List of tables\n",
      "\n",
      "[('sqlite_sequence',), ('Player_Attributes',), ('Player',), ('Match',), ('League',), ('Country',), ('Team',), ('Team_Attributes',)]\n",
      "\n",
      "the sqlite connection is closed\n"
     ]
    }
   ],
   "source": [
    "# Importing Sqlite3 Module\n",
    "import sqlite3\n",
    " \n",
    "try:\n",
    "    sqliteConnection = sqlite3.connect('data/soccer.sqlite')\n",
    "     \n",
    "    print(\"Connected to SQLite\\n\")\n",
    " \n",
    "    # Getting all tables from sqlite_master\n",
    "    \n",
    "    sql_query = \"\"\"\n",
    "        SELECT name \n",
    "        FROM sqlite_master\n",
    "        WHERE type='table';\n",
    "    \"\"\"\n",
    " \n",
    "    # Creating cursor object using connection object\n",
    "    \n",
    "    cursor = sqliteConnection.cursor()\n",
    "    cursor.execute(sql_query)\n",
    "    \n",
    "    print(\"List of tables\\n\")\n",
    "    print(cursor.fetchall())\n",
    "\n",
    "except sqlite3.Error as error:\n",
    "    print(\"Failed to execute the above query\", error)\n",
    "     \n",
    "finally:\n",
    "   \n",
    "    # Inside Finally Block, If connection is\n",
    "    # open, we need to close it\n",
    "    if sqliteConnection:\n",
    "         \n",
    "        sqliteConnection.close()\n",
    "        print(\"\\nthe sqlite connection is closed\")"
   ]
  },
  {
   "cell_type": "code",
   "execution_count": null,
   "id": "e43d27b7-504b-451b-9236-11c322a1de67",
   "metadata": {},
   "outputs": [],
   "source": []
  }
 ],
 "metadata": {
  "kernelspec": {
   "display_name": "Python 3 (ipykernel)",
   "language": "python",
   "name": "python3"
  },
  "language_info": {
   "codemirror_mode": {
    "name": "ipython",
    "version": 3
   },
   "file_extension": ".py",
   "mimetype": "text/x-python",
   "name": "python",
   "nbconvert_exporter": "python",
   "pygments_lexer": "ipython3",
   "version": "3.8.12"
  }
 },
 "nbformat": 4,
 "nbformat_minor": 5
}
