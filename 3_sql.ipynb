{
 "cells": [
  {
   "cell_type": "markdown",
   "id": "2a8b4106-443c-45bb-9ebb-0fd360d27667",
   "metadata": {},
   "source": [
    "# SQL"
   ]
  },
  {
   "cell_type": "markdown",
   "id": "a59ea99d-1bc0-4cb4-96a4-9cdc6e23ee46",
   "metadata": {},
   "source": [
    "## Exploration\n",
    "\n",
    "Let's use DBeaver, a universal database client for developers, SQL programmers, database administrators and analysts.\n",
    "\n",
    "https://dbeaver.io/"
   ]
  },
  {
   "cell_type": "markdown",
   "id": "4edacc75-283c-4c4b-a054-11c1540d8060",
   "metadata": {},
   "source": [
    "## ERD Diagram\n",
    "\n",
    "When discovering a new database, a data scientist should explore and draw the Entity Relationship Diagram.\n",
    "\n",
    "https://www.visual-paradigm.com/guide/data-modeling/what-is-entity-relationship-diagram/\n",
    "\n",
    "👉 Useful tool: kitt.lewagon.com/db (Save XML)\n",
    "\n",
    "https://kitt.lewagon.com/db\n",
    "\n",
    "https://online.visual-paradigm.com/diagrams/solutions/free-erd-tool/\n",
    "\n",
    "https://gitmind.com/er-diagram-tool.html"
   ]
  },
  {
   "cell_type": "markdown",
   "id": "efa0483c-c1bc-410e-81db-5dcbbc6f1b0a",
   "metadata": {},
   "source": [
    "## SQLite\n",
    "\n",
    "A database stored in a single file.\n",
    "\n",
    "👉 https://www.sqlite.org/index.html\n"
   ]
  },
  {
   "cell_type": "markdown",
   "id": "d0231e84-16ca-4f7b-ba31-aa656516694b",
   "metadata": {},
   "source": [
    "For the examples below, we use the 👉 European Soccer Database on Kaggle\n",
    "\n",
    "https://www.kaggle.com/hugomathien/soccer/"
   ]
  },
  {
   "cell_type": "markdown",
   "id": "b76c76d3-fe5b-4ca7-8b49-1c62acfea2fa",
   "metadata": {},
   "source": [
    "### Connecting To The Database"
   ]
  },
  {
   "cell_type": "markdown",
   "id": "be9e26fe-9d3b-419b-ac5e-929ab61edccd",
   "metadata": {},
   "source": [
    "#### Reaching for the sqlite3 package."
   ]
  },
  {
   "cell_type": "code",
   "execution_count": 1,
   "id": "20fc7f91-2917-4eee-8745-0ff0d020ce5a",
   "metadata": {},
   "outputs": [],
   "source": [
    "import sqlite3"
   ]
  },
  {
   "cell_type": "code",
   "execution_count": 2,
   "id": "13dff399-e2e6-4275-85f3-7825aedb3855",
   "metadata": {},
   "outputs": [],
   "source": [
    "conn = sqlite3.connect('data/soccer.sqlite')\n",
    "c = conn.cursor()"
   ]
  },
  {
   "cell_type": "code",
   "execution_count": 3,
   "id": "0b42328f-2df9-4b75-9c5b-8badd2952e9a",
   "metadata": {},
   "outputs": [
    {
     "data": {
      "text/plain": [
       "[(1, 'Belgium'),\n",
       " (1729, 'England'),\n",
       " (4769, 'France'),\n",
       " (7809, 'Germany'),\n",
       " (10257, 'Italy'),\n",
       " (13274, 'Netherlands'),\n",
       " (15722, 'Poland'),\n",
       " (17642, 'Portugal'),\n",
       " (19694, 'Scotland'),\n",
       " (21518, 'Spain'),\n",
       " (24558, 'Switzerland')]"
      ]
     },
     "execution_count": 3,
     "metadata": {},
     "output_type": "execute_result"
    }
   ],
   "source": [
    "c.execute(\"SELECT * FROM Country\")\n",
    "rows = c.fetchall()\n",
    "rows"
   ]
  },
  {
   "cell_type": "markdown",
   "id": "09f0cc95-c9e1-46e0-83f0-b73efb26e9c0",
   "metadata": {},
   "source": [
    "#### You can also fetch a list of sqlite3.Row elements:\n",
    "\n",
    "https://docs.python.org/3/library/sqlite3.html#sqlite3.Row"
   ]
  },
  {
   "cell_type": "code",
   "execution_count": 3,
   "id": "da969064-c9cc-4936-b6fb-5ced88fdc641",
   "metadata": {},
   "outputs": [],
   "source": [
    "conn = sqlite3.connect('data/soccer.sqlite')\n",
    "conn.row_factory = sqlite3.Row\n",
    "c = conn.cursor()"
   ]
  },
  {
   "cell_type": "code",
   "execution_count": 4,
   "id": "c98889c8-e2e2-4c3d-95cb-3075765b06bc",
   "metadata": {},
   "outputs": [],
   "source": [
    "c.execute(\"SELECT * FROM Country\")\n",
    "rows = c.fetchall()\n",
    "first_row = rows[0]"
   ]
  },
  {
   "cell_type": "code",
   "execution_count": 8,
   "id": "c764a32a-f103-41f2-89b4-feff6edc8cc4",
   "metadata": {},
   "outputs": [
    {
     "data": {
      "text/plain": [
       "'Belgium'"
      ]
     },
     "execution_count": 8,
     "metadata": {},
     "output_type": "execute_result"
    }
   ],
   "source": [
    "first_row['name']"
   ]
  },
  {
   "cell_type": "code",
   "execution_count": 11,
   "id": "4c57e781-186d-4884-848a-71e44c577414",
   "metadata": {},
   "outputs": [
    {
     "data": {
      "text/plain": [
       "(1, 'Belgium')"
      ]
     },
     "execution_count": 11,
     "metadata": {},
     "output_type": "execute_result"
    }
   ],
   "source": [
    "tuple(first_row)"
   ]
  },
  {
   "cell_type": "markdown",
   "id": "2fd7522c-e5bc-48ab-8066-60e766f0e859",
   "metadata": {},
   "source": [
    "#### Fetching only one element\n",
    "\n",
    "Sometimes you know that your query will yield only one (or zero!) element. Then use fetchone:\n",
    "\n",
    "https://docs.python.org/3/library/sqlite3.html#sqlite3.Cursor.fetchone"
   ]
  },
  {
   "cell_type": "code",
   "execution_count": 12,
   "id": "13a809a2-7e75-4d77-b4a0-dba727bee5aa",
   "metadata": {},
   "outputs": [
    {
     "name": "stdout",
     "output_type": "stream",
     "text": [
      "1 - Belgium\n"
     ]
    }
   ],
   "source": [
    "c.execute(\"SELECT * FROM Country WHERE Country.id = 1\")\n",
    "row = c.fetchone()\n",
    "print(row[0], '-' ,row[1])"
   ]
  },
  {
   "cell_type": "code",
   "execution_count": 15,
   "id": "7cdf1cb2-5fa8-4476-86db-13380947136e",
   "metadata": {},
   "outputs": [
    {
     "name": "stdout",
     "output_type": "stream",
     "text": [
      "None\n"
     ]
    }
   ],
   "source": [
    "c.execute(\"SELECT * FROM Country WHERE Country.id = 2\")\n",
    "row = c.fetchone()\n",
    "print(row)"
   ]
  },
  {
   "cell_type": "markdown",
   "id": "59a9ba74-3bd5-4d7c-ae77-bad85b470c4c",
   "metadata": {},
   "source": [
    "### SQL Basics"
   ]
  },
  {
   "cell_type": "code",
   "execution_count": 6,
   "id": "0ed30323-1bbc-4d27-bd71-c4ee12133768",
   "metadata": {},
   "outputs": [],
   "source": [
    "conn = sqlite3.connect('data/soccer.sqlite')\n",
    "c = conn.cursor()"
   ]
  },
  {
   "cell_type": "markdown",
   "id": "cedb09ee-4cfa-462b-8b6a-5bd44e06667f",
   "metadata": {},
   "source": [
    "#### Projection\n",
    "\n",
    "Choosing which columns the query shall return.\n",
    "\n",
    "🤔 Retrieve id, season, stage and date of all matches"
   ]
  },
  {
   "cell_type": "code",
   "execution_count": 15,
   "id": "fda8171b-3acf-4c07-a661-45ea40c05611",
   "metadata": {},
   "outputs": [
    {
     "name": "stdout",
     "output_type": "stream",
     "text": [
      "Rows Returned: 25979\n"
     ]
    },
    {
     "data": {
      "text/plain": [
       "[(1, '2008/2009', 1, '2008-08-17 00:00:00'),\n",
       " (2, '2008/2009', 1, '2008-08-16 00:00:00'),\n",
       " (3, '2008/2009', 1, '2008-08-16 00:00:00'),\n",
       " (4, '2008/2009', 1, '2008-08-17 00:00:00'),\n",
       " (5, '2008/2009', 1, '2008-08-16 00:00:00'),\n",
       " (6, '2008/2009', 1, '2008-09-24 00:00:00'),\n",
       " (7, '2008/2009', 1, '2008-08-16 00:00:00'),\n",
       " (8, '2008/2009', 1, '2008-08-16 00:00:00'),\n",
       " (9, '2008/2009', 1, '2008-08-16 00:00:00'),\n",
       " (10, '2008/2009', 10, '2008-11-01 00:00:00')]"
      ]
     },
     "execution_count": 15,
     "metadata": {},
     "output_type": "execute_result"
    }
   ],
   "source": [
    "query = '''\n",
    "    SELECT \"Match\".id, \"Match\".season, \"Match\".stage, \"Match\".date \n",
    "    FROM \"Match\"\n",
    "'''\n",
    "\n",
    "c.execute(query)\n",
    "rows = c.fetchall()\n",
    "\n",
    "print(f'Rows Returned: {len(rows)}')\n",
    "\n",
    "rows[0:10]\n"
   ]
  },
  {
   "cell_type": "markdown",
   "id": "416887b1-3175-498f-bd52-99d2f3ba8a2e",
   "metadata": {},
   "source": [
    "💡Tip: You can alias tables name for enhanced readability"
   ]
  },
  {
   "cell_type": "code",
   "execution_count": 16,
   "id": "b33c5d4e-c259-439d-9d96-b3cd5ca40a00",
   "metadata": {},
   "outputs": [
    {
     "name": "stdout",
     "output_type": "stream",
     "text": [
      "Rows Returned: 25979\n"
     ]
    },
    {
     "data": {
      "text/plain": [
       "[(1, '2008/2009', 1, '2008-08-17 00:00:00'),\n",
       " (2, '2008/2009', 1, '2008-08-16 00:00:00'),\n",
       " (3, '2008/2009', 1, '2008-08-16 00:00:00'),\n",
       " (4, '2008/2009', 1, '2008-08-17 00:00:00'),\n",
       " (5, '2008/2009', 1, '2008-08-16 00:00:00'),\n",
       " (6, '2008/2009', 1, '2008-09-24 00:00:00'),\n",
       " (7, '2008/2009', 1, '2008-08-16 00:00:00'),\n",
       " (8, '2008/2009', 1, '2008-08-16 00:00:00'),\n",
       " (9, '2008/2009', 1, '2008-08-16 00:00:00'),\n",
       " (10, '2008/2009', 10, '2008-11-01 00:00:00')]"
      ]
     },
     "execution_count": 16,
     "metadata": {},
     "output_type": "execute_result"
    }
   ],
   "source": [
    "query = '''\n",
    "    SELECT matches.id, matches.season, matches.stage, matches.date\n",
    "    FROM \"Match\" AS matches\n",
    "'''\n",
    "\n",
    "c.execute(query)\n",
    "rows = c.fetchall()\n",
    "\n",
    "print(f'Rows Returned: {len(rows)}')\n",
    "\n",
    "rows[0:10]"
   ]
  },
  {
   "cell_type": "markdown",
   "id": "9ca22ce7-ab76-430d-8761-134feafe8d08",
   "metadata": {},
   "source": [
    "#### Selection\n",
    "\n",
    "Selecting which rows the query shall return.\n",
    "\n",
    "🤔 Retrieve matches which happened in France"
   ]
  },
  {
   "cell_type": "code",
   "execution_count": 25,
   "id": "18efb69f-2e9f-410b-b21a-408a190678d5",
   "metadata": {},
   "outputs": [
    {
     "name": "stdout",
     "output_type": "stream",
     "text": [
      "Rows Returned: 3040\n"
     ]
    },
    {
     "data": {
      "text/plain": [
       "[(4769, '2008/2009', 1, '2008-08-09 00:00:00', 4769),\n",
       " (4770, '2008/2009', 1, '2008-08-09 00:00:00', 4769),\n",
       " (4771, '2008/2009', 1, '2008-08-09 00:00:00', 4769),\n",
       " (4772, '2008/2009', 1, '2008-08-09 00:00:00', 4769),\n",
       " (4773, '2008/2009', 1, '2008-08-10 00:00:00', 4769),\n",
       " (4774, '2008/2009', 1, '2008-08-09 00:00:00', 4769),\n",
       " (4775, '2008/2009', 1, '2008-08-09 00:00:00', 4769),\n",
       " (4776, '2008/2009', 1, '2008-08-09 00:00:00', 4769),\n",
       " (4777, '2008/2009', 1, '2008-08-09 00:00:00', 4769),\n",
       " (4778, '2008/2009', 1, '2008-08-09 00:00:00', 4769)]"
      ]
     },
     "execution_count": 25,
     "metadata": {},
     "output_type": "execute_result"
    }
   ],
   "source": [
    "query = '''\n",
    "    SELECT matches.id, matches.season, matches.stage, matches.date, matches.country_id\n",
    "    FROM \"Match\" AS matches\n",
    "    WHERE matches.country_id = 4769\n",
    "'''\n",
    "\n",
    "c.execute(query)\n",
    "rows = c.fetchall()\n",
    "\n",
    "print(f'Rows Returned: {len(rows)}')\n",
    "\n",
    "rows[0:10]"
   ]
  },
  {
   "cell_type": "markdown",
   "id": "cfefe669-be12-483b-af4a-c2f2f776b18b",
   "metadata": {},
   "source": [
    "---\n",
    "\n",
    "🤔 Retrieve matches which happened in Belgium or England"
   ]
  },
  {
   "cell_type": "code",
   "execution_count": 24,
   "id": "0da8de43-ef70-4faa-bf97-ad45b7008202",
   "metadata": {},
   "outputs": [
    {
     "name": "stdout",
     "output_type": "stream",
     "text": [
      "Rows Returned: 4768\n"
     ]
    },
    {
     "data": {
      "text/plain": [
       "[(1, '2008/2009', 1, '2008-08-17 00:00:00', 1),\n",
       " (2, '2008/2009', 1, '2008-08-16 00:00:00', 1),\n",
       " (3, '2008/2009', 1, '2008-08-16 00:00:00', 1),\n",
       " (4, '2008/2009', 1, '2008-08-17 00:00:00', 1),\n",
       " (5, '2008/2009', 1, '2008-08-16 00:00:00', 1),\n",
       " (6, '2008/2009', 1, '2008-09-24 00:00:00', 1),\n",
       " (7, '2008/2009', 1, '2008-08-16 00:00:00', 1),\n",
       " (8, '2008/2009', 1, '2008-08-16 00:00:00', 1),\n",
       " (9, '2008/2009', 1, '2008-08-16 00:00:00', 1),\n",
       " (10, '2008/2009', 10, '2008-11-01 00:00:00', 1)]"
      ]
     },
     "execution_count": 24,
     "metadata": {},
     "output_type": "execute_result"
    }
   ],
   "source": [
    "query = '''\n",
    "    SELECT matches.id, matches.season, matches.stage, matches.date, matches.country_id\n",
    "    FROM \"Match\" AS matches\n",
    "    WHERE matches.country_id = 1\n",
    "    OR matches.country_id = 1729\n",
    "'''\n",
    "\n",
    "c.execute(query)\n",
    "rows = c.fetchall()\n",
    "\n",
    "print(f'Rows Returned: {len(rows)}')\n",
    "\n",
    "rows[0:10]"
   ]
  },
  {
   "cell_type": "markdown",
   "id": "a9871b8e-962e-403b-b9b7-9777a201cd7f",
   "metadata": {},
   "source": [
    "---\n",
    "\n",
    "Alternative:\n",
    "\n",
    "**Note: the WHERE ... IN ... list needs to be passed as a tuple!!**"
   ]
  },
  {
   "cell_type": "code",
   "execution_count": 29,
   "id": "3185171e-bbe9-46ea-84fe-2d8cdc246169",
   "metadata": {},
   "outputs": [
    {
     "name": "stdout",
     "output_type": "stream",
     "text": [
      "Rows Returned: 4768\n"
     ]
    },
    {
     "data": {
      "text/plain": [
       "[(1, '2008/2009', 1, '2008-08-17 00:00:00', 1),\n",
       " (2, '2008/2009', 1, '2008-08-16 00:00:00', 1),\n",
       " (3, '2008/2009', 1, '2008-08-16 00:00:00', 1),\n",
       " (4, '2008/2009', 1, '2008-08-17 00:00:00', 1),\n",
       " (5, '2008/2009', 1, '2008-08-16 00:00:00', 1),\n",
       " (6, '2008/2009', 1, '2008-09-24 00:00:00', 1),\n",
       " (7, '2008/2009', 1, '2008-08-16 00:00:00', 1),\n",
       " (8, '2008/2009', 1, '2008-08-16 00:00:00', 1),\n",
       " (9, '2008/2009', 1, '2008-08-16 00:00:00', 1),\n",
       " (10, '2008/2009', 10, '2008-11-01 00:00:00', 1)]"
      ]
     },
     "execution_count": 29,
     "metadata": {},
     "output_type": "execute_result"
    }
   ],
   "source": [
    "country_ids = (1,1729)\n",
    "\n",
    "query = f'''\n",
    "    SELECT matches.id, matches.season, matches.stage, matches.date, matches.country_id\n",
    "    FROM \"Match\" AS matches\n",
    "    WHERE matches.country_id IN {country_ids}\n",
    "'''\n",
    "\n",
    "c.execute(query)\n",
    "rows = c.fetchall()\n",
    "\n",
    "print(f'Rows Returned: {len(rows)}')\n",
    "\n",
    "rows[0:10]"
   ]
  },
  {
   "cell_type": "markdown",
   "id": "a1dc58dd-71c2-4402-a2c1-24505d35d6ba",
   "metadata": {},
   "source": [
    "- - -\n",
    "\n",
    "🤔 Retrieve players named John"
   ]
  },
  {
   "cell_type": "code",
   "execution_count": 32,
   "id": "040725fd-654b-4860-90be-12e41e3da712",
   "metadata": {},
   "outputs": [
    {
     "name": "stdout",
     "output_type": "stream",
     "text": [
      "Rows Returned: 31\n"
     ]
    },
    {
     "data": {
      "text/plain": [
       "(5093,\n",
       " 278831,\n",
       " 'John Anthony Brooks',\n",
       " 204082,\n",
       " '1993-01-28 00:00:00',\n",
       " 193.04,\n",
       " 172)"
      ]
     },
     "execution_count": 32,
     "metadata": {},
     "output_type": "execute_result"
    }
   ],
   "source": [
    "query = '''\n",
    "    SELECT *\n",
    "    FROM Player\n",
    "    WHERE UPPER(Player.player_name) LIKE \"JOHN %\"\n",
    "'''\n",
    "\n",
    "c.execute(query)\n",
    "rows = c.fetchall()\n",
    "\n",
    "print(f'Rows Returned: {len(rows)}')\n",
    "\n",
    "rows[0]"
   ]
  },
  {
   "cell_type": "markdown",
   "id": "e5031588-f879-479f-a1bf-8d5440bbe784",
   "metadata": {},
   "source": [
    "#### Counting\n",
    "\n",
    "Counting the number of rows matching the selection\n",
    "\n",
    "🤔 How many players are taller than 2.00 meters?"
   ]
  },
  {
   "cell_type": "code",
   "execution_count": 36,
   "id": "7b8c728a-ba54-467d-823c-a5fab54c02ce",
   "metadata": {},
   "outputs": [
    {
     "name": "stdout",
     "output_type": "stream",
     "text": [
      "Rows Returned: 1\n"
     ]
    },
    {
     "data": {
      "text/plain": [
       "22"
      ]
     },
     "execution_count": 36,
     "metadata": {},
     "output_type": "execute_result"
    }
   ],
   "source": [
    "query = '''\n",
    "    SELECT COUNT(Player.id)\n",
    "    FROM Player\n",
    "    WHERE Player.height >= 200\n",
    "'''\n",
    "\n",
    "c.execute(query)\n",
    "rows = c.fetchone()\n",
    "\n",
    "print(f'Rows Returned: {len(rows)}')\n",
    "\n",
    "rows[0]"
   ]
  },
  {
   "cell_type": "markdown",
   "id": "76f20550-4ae7-4e7b-b626-897f5621d842",
   "metadata": {},
   "source": [
    "#### Sorting\n",
    "\n",
    "Sorting the rows based on a column (or a group of columns)\n",
    "\n",
    "🤔 Who are the 10 heaviest players?"
   ]
  },
  {
   "cell_type": "code",
   "execution_count": 38,
   "id": "137996bb-f086-4bb5-b3c9-0188720d5611",
   "metadata": {},
   "outputs": [
    {
     "name": "stdout",
     "output_type": "stream",
     "text": [
      "Rows Returned: 10\n"
     ]
    },
    {
     "data": {
      "text/plain": [
       "[(5908,\n",
       "  148325,\n",
       "  'Kristof van Hout',\n",
       "  185306,\n",
       "  '1987-02-09 00:00:00',\n",
       "  208.28,\n",
       "  243),\n",
       " (10313, 27313, 'Tim Wiese', 53012, '1981-12-17 00:00:00', 193.04, 243),\n",
       " (4884, 5044, 'Jeroen Verhoeven', 137692, '1980-04-30 00:00:00', 198.12, 227),\n",
       " (4412, 27267, 'Ishmael Miller', 169725, '1987-03-05 00:00:00', 193.04, 225),\n",
       " (1598, 101584, 'Cassio', 167958, '1987-06-06 00:00:00', 195.58, 220),\n",
       " (1822, 19020, 'Christopher Samba', 46590, '1984-03-28 00:00:00', 193.04, 220),\n",
       " (5976, 210822, 'Lars Unnerstall', 199833, '1990-07-20 00:00:00', 198.12, 220),\n",
       " (6772, 30669, 'Marcus Hahnemann', 53785, '1972-06-15 00:00:00', 190.5, 220),\n",
       " (45, 40005, 'Abdoulaye Faye', 100329, '1978-02-26 00:00:00', 187.96, 218),\n",
       " (3030, 33060, 'Enoch Showunmi', 157589, '1982-04-21 00:00:00', 195.58, 218)]"
      ]
     },
     "execution_count": 38,
     "metadata": {},
     "output_type": "execute_result"
    }
   ],
   "source": [
    "query = '''\n",
    "    SELECT *\n",
    "    FROM Player\n",
    "    ORDER BY Player.weight DESC\n",
    "    LIMIT 10\n",
    "'''\n",
    "\n",
    "c.execute(query)\n",
    "rows = c.fetchall()\n",
    "\n",
    "print(f'Rows Returned: {len(rows)}')\n",
    "\n",
    "rows[0:10]"
   ]
  },
  {
   "cell_type": "markdown",
   "id": "c76de8f3-2dea-49a4-b192-3fc71929f664",
   "metadata": {},
   "source": [
    "#### Grouping\n",
    "\n",
    "Grouping rows on a given column C (aggregating rows with a function where values of C column are the same)\n",
    "\n",
    "🤔 How many matches were played on a per-country basis?"
   ]
  },
  {
   "cell_type": "code",
   "execution_count": 40,
   "id": "f48ee52c-796e-44f8-a342-512f5b6aff8e",
   "metadata": {},
   "outputs": [
    {
     "name": "stdout",
     "output_type": "stream",
     "text": [
      "Rows Returned: 11\n"
     ]
    },
    {
     "data": {
      "text/plain": [
       "[(1728, 1),\n",
       " (3040, 1729),\n",
       " (3040, 4769),\n",
       " (2448, 7809),\n",
       " (3017, 10257),\n",
       " (2448, 13274),\n",
       " (1920, 15722),\n",
       " (2052, 17642),\n",
       " (1824, 19694),\n",
       " (3040, 21518),\n",
       " (1422, 24558)]"
      ]
     },
     "execution_count": 40,
     "metadata": {},
     "output_type": "execute_result"
    }
   ],
   "source": [
    "query = '''\n",
    "    SELECT COUNT(matches.id), matches.country_id\n",
    "    FROM \"Match\" AS matches\n",
    "    GROUP BY matches.country_id\n",
    "'''\n",
    "\n",
    "c.execute(query)\n",
    "rows = c.fetchall()\n",
    "\n",
    "print(f'Rows Returned: {len(rows)}')\n",
    "\n",
    "rows"
   ]
  },
  {
   "cell_type": "markdown",
   "id": "6a3d6a60-b6f0-4460-9575-809948701068",
   "metadata": {},
   "source": [
    "---\n",
    "\n",
    "🤔 What if we want to sort those results? We need an alias:"
   ]
  },
  {
   "cell_type": "code",
   "execution_count": 41,
   "id": "ce6e14a3-2ec9-4eae-907c-21f82d6c4de3",
   "metadata": {},
   "outputs": [
    {
     "name": "stdout",
     "output_type": "stream",
     "text": [
      "Rows Returned: 11\n"
     ]
    },
    {
     "data": {
      "text/plain": [
       "[(3040, 21518),\n",
       " (3040, 4769),\n",
       " (3040, 1729),\n",
       " (3017, 10257),\n",
       " (2448, 13274),\n",
       " (2448, 7809),\n",
       " (2052, 17642),\n",
       " (1920, 15722),\n",
       " (1824, 19694),\n",
       " (1728, 1),\n",
       " (1422, 24558)]"
      ]
     },
     "execution_count": 41,
     "metadata": {},
     "output_type": "execute_result"
    }
   ],
   "source": [
    "query = '''\n",
    "    SELECT COUNT(matches.id) AS match_count, matches.country_id\n",
    "    FROM \"Match\" AS matches\n",
    "    GROUP BY matches.country_id\n",
    "    ORDER BY match_count DESC\n",
    "'''\n",
    "\n",
    "c.execute(query)\n",
    "rows = c.fetchall()\n",
    "\n",
    "print(f'Rows Returned: {len(rows)}')\n",
    "\n",
    "rows"
   ]
  },
  {
   "cell_type": "markdown",
   "id": "89135fc5-c076-47ea-a5a7-73057c269c68",
   "metadata": {},
   "source": [
    "---\n",
    "\n",
    "🤔 How many matches were played on a per-country basis, ignoring countries with less than 3000 matches?"
   ]
  },
  {
   "cell_type": "code",
   "execution_count": 42,
   "id": "2c8abd87-07b2-4e59-bd10-a5b604e217b3",
   "metadata": {},
   "outputs": [
    {
     "name": "stdout",
     "output_type": "stream",
     "text": [
      "Rows Returned: 4\n"
     ]
    },
    {
     "data": {
      "text/plain": [
       "[(3040, 21518), (3040, 4769), (3040, 1729), (3017, 10257)]"
      ]
     },
     "execution_count": 42,
     "metadata": {},
     "output_type": "execute_result"
    }
   ],
   "source": [
    "query = '''\n",
    "    SELECT COUNT(matches.id) AS match_count, matches.country_id\n",
    "    FROM \"Match\" AS matches\n",
    "    GROUP BY matches.country_id\n",
    "    HAVING match_count >= 3000\n",
    "    ORDER BY match_count DESC\n",
    "'''\n",
    "\n",
    "c.execute(query)\n",
    "rows = c.fetchall()\n",
    "\n",
    "print(f'Rows Returned: {len(rows)}')\n",
    "\n",
    "rows"
   ]
  },
  {
   "cell_type": "markdown",
   "id": "dcf8fd9d-dce6-4412-99cb-c36c560d0fd2",
   "metadata": {},
   "source": [
    "---\n",
    "\n",
    "🤔 How many matches were\n",
    "\n",
    "    won by the home team\n",
    "    won by the away team\n",
    "    finished with a draw"
   ]
  },
  {
   "cell_type": "code",
   "execution_count": 43,
   "id": "9f8c7e19-3bf2-47b6-986b-d367723a26e8",
   "metadata": {},
   "outputs": [
    {
     "name": "stdout",
     "output_type": "stream",
     "text": [
      "Rows Returned: 3\n"
     ]
    },
    {
     "data": {
      "text/plain": [
       "[(11917, 'home_win'), (7466, 'away_win'), (6596, 'draw')]"
      ]
     },
     "execution_count": 43,
     "metadata": {},
     "output_type": "execute_result"
    }
   ],
   "source": [
    "query = '''\n",
    "    SELECT \n",
    "    COUNT(matches.id) AS outcome_count,\n",
    "    CASE \n",
    "        WHEN matches.home_team_goal > matches.away_team_goal\n",
    "            THEN 'home_win'\n",
    "        WHEN matches.home_team_goal = matches.away_team_goal\n",
    "            THEN 'draw'\n",
    "        ELSE 'away_win'\n",
    "    END AS outcome\n",
    "    FROM \"Match\" AS matches\n",
    "    GROUP BY outcome\n",
    "    ORDER BY outcome_count DESC\n",
    "'''\n",
    "\n",
    "c.execute(query)\n",
    "rows = c.fetchall()\n",
    "\n",
    "print(f'Rows Returned: {len(rows)}')\n",
    "\n",
    "rows"
   ]
  },
  {
   "cell_type": "code",
   "execution_count": null,
   "id": "2930e3ea-0d11-435f-870c-fbe00feb5991",
   "metadata": {},
   "outputs": [],
   "source": []
  }
 ],
 "metadata": {
  "kernelspec": {
   "display_name": "Python 3 (ipykernel)",
   "language": "python",
   "name": "python3"
  },
  "language_info": {
   "codemirror_mode": {
    "name": "ipython",
    "version": 3
   },
   "file_extension": ".py",
   "mimetype": "text/x-python",
   "name": "python",
   "nbconvert_exporter": "python",
   "pygments_lexer": "ipython3",
   "version": "3.8.12"
  }
 },
 "nbformat": 4,
 "nbformat_minor": 5
}
