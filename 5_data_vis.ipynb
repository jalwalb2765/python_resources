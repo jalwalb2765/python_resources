{
 "cells": [
  {
   "cell_type": "markdown",
   "id": "8bcc7ed3-971f-428d-920d-ec5c8c7b9b33",
   "metadata": {},
   "source": [
    "# Data Visualization"
   ]
  },
  {
   "cell_type": "markdown",
   "id": "81879756-e165-44dc-ab45-b165d6d7dd32",
   "metadata": {},
   "source": [
    "## Matplotlib"
   ]
  },
  {
   "cell_type": "code",
   "execution_count": 1,
   "id": "e246058b-eff9-4b77-b8d5-1c29f0fbfc32",
   "metadata": {},
   "outputs": [],
   "source": [
    "import matplotlib.pyplot as plt"
   ]
  },
  {
   "cell_type": "code",
   "execution_count": null,
   "id": "6b08fe46-6e74-4707-b2ce-87f83d5ecded",
   "metadata": {},
   "outputs": [],
   "source": [
    "df[['GrLivArea']].boxplot()"
   ]
  }
 ],
 "metadata": {
  "kernelspec": {
   "display_name": "Python 3 (ipykernel)",
   "language": "python",
   "name": "python3"
  },
  "language_info": {
   "codemirror_mode": {
    "name": "ipython",
    "version": 3
   },
   "file_extension": ".py",
   "mimetype": "text/x-python",
   "name": "python",
   "nbconvert_exporter": "python",
   "pygments_lexer": "ipython3",
   "version": "3.8.12"
  }
 },
 "nbformat": 4,
 "nbformat_minor": 5
}
