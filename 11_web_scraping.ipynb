{
 "cells": [
  {
   "cell_type": "code",
   "execution_count": 1,
   "id": "3ebe59ea-75c7-434f-9281-97fc68cec948",
   "metadata": {},
   "outputs": [],
   "source": [
    "from bs4 import BeautifulSoup\n",
    "import time\n",
    "import pandas as pd\n",
    "\n",
    "from selenium import webdriver\n",
    "from selenium.webdriver.common.by import By\n",
    "from selenium.webdriver.common.keys import Keys\n",
    "\n",
    "from selenium.webdriver.support.select import Select"
   ]
  },
  {
   "cell_type": "markdown",
   "id": "0ef588e8-001a-4977-ab77-438281e224eb",
   "metadata": {},
   "source": [
    "## Browser"
   ]
  },
  {
   "cell_type": "code",
   "execution_count": null,
   "id": "967ecc81-97b4-4f3c-9a46-8cf25c732d63",
   "metadata": {},
   "outputs": [],
   "source": [
    "# 1. Start the session\n",
    "driver = webdriver.Firefox()"
   ]
  },
  {
   "cell_type": "code",
   "execution_count": null,
   "id": "bc802b93-2b67-4920-8c97-3586cff9de4b",
   "metadata": {},
   "outputs": [],
   "source": [
    "# 2. Send Firefox to website\n",
    "\n",
    "link = 'https://idx.co.id/en-us/listed-companies/financial-statements-annual-report/'\n",
    "driver.get(link)"
   ]
  },
  {
   "cell_type": "code",
   "execution_count": null,
   "id": "28d65edc-1287-4be7-9805-7a40bfc83379",
   "metadata": {},
   "outputs": [],
   "source": [
    "# You can read the current page title from the browser\n",
    "\n",
    "driver.title"
   ]
  },
  {
   "cell_type": "code",
   "execution_count": null,
   "id": "8c616820-1bb5-4c49-ad06-de09ecada316",
   "metadata": {},
   "outputs": [],
   "source": [
    "# You can read the current URL from the browser’s address bar using\n",
    "\n",
    "driver.current_url"
   ]
  },
  {
   "cell_type": "code",
   "execution_count": null,
   "id": "df9ccb60-beb4-47a5-96b3-8207ba0479e1",
   "metadata": {},
   "outputs": [],
   "source": [
    "# Pressing the browser’s back button\n",
    "\n",
    "driver.back()"
   ]
  },
  {
   "cell_type": "code",
   "execution_count": null,
   "id": "4aa43fe1-4248-4c5a-97a2-b3464c80eb1f",
   "metadata": {},
   "outputs": [],
   "source": [
    "# Pressing the browser’s forward button\n",
    "\n",
    "driver.forward()"
   ]
  },
  {
   "cell_type": "code",
   "execution_count": null,
   "id": "6d07a0a2-4290-49ad-9fe0-4bdf260dccc6",
   "metadata": {},
   "outputs": [],
   "source": [
    "# Refresh the current page\n",
    "\n",
    "driver.refresh()"
   ]
  },
  {
   "cell_type": "markdown",
   "id": "4a907cef-f0a1-4406-b622-d6d1d3e922cc",
   "metadata": {},
   "source": [
    "## Elements"
   ]
  },
  {
   "cell_type": "markdown",
   "id": "f7225149-c929-448c-97d6-9df7ecda15d7",
   "metadata": {},
   "source": [
    "### Locators"
   ]
  },
  {
   "cell_type": "code",
   "execution_count": null,
   "id": "3fcbb840-063b-4656-bbbe-002bf6b59e33",
   "metadata": {},
   "outputs": [],
   "source": []
  }
 ],
 "metadata": {
  "kernelspec": {
   "display_name": "Python 3 (ipykernel)",
   "language": "python",
   "name": "python3"
  },
  "language_info": {
   "codemirror_mode": {
    "name": "ipython",
    "version": 3
   },
   "file_extension": ".py",
   "mimetype": "text/x-python",
   "name": "python",
   "nbconvert_exporter": "python",
   "pygments_lexer": "ipython3",
   "version": "3.8.12"
  }
 },
 "nbformat": 4,
 "nbformat_minor": 5
}
